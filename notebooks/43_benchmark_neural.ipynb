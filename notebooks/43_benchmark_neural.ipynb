{
 "cells": [
  {
   "cell_type": "code",
   "execution_count": 6,
   "metadata": {},
   "outputs": [
    {
     "name": "stdout",
     "output_type": "stream",
     "text": [
      "The autoreload extension is already loaded. To reload it, use:\n",
      "  %reload_ext autoreload\n"
     ]
    }
   ],
   "source": [
    "%load_ext autoreload\n",
    "%autoreload 2"
   ]
  },
  {
   "cell_type": "code",
   "execution_count": 7,
   "metadata": {},
   "outputs": [],
   "source": [
    "import torch\n",
    "import embedders\n",
    "\n",
    "import numpy as np\n",
    "import matplotlib.pyplot as plt\n",
    "import pandas as pd\n",
    "\n",
    "from tqdm.notebook import tqdm\n",
    "\n",
    "# Filter out warnings raised when sampling Wishart distribution in Gaussian mixtures\n",
    "import warnings\n",
    "\n",
    "warnings.filterwarnings(\"ignore\", category=UserWarning)"
   ]
  },
  {
   "cell_type": "code",
   "execution_count": 8,
   "metadata": {},
   "outputs": [
    {
     "name": "stdout",
     "output_type": "stream",
     "text": [
      "Device: cuda, Sample Device: cuda\n"
     ]
    }
   ],
   "source": [
    "if torch.cuda.is_available():\n",
    "    device = torch.device(\"cuda\")\n",
    "elif torch.backends.mps.is_available():\n",
    "    device = torch.device(\"mps\")\n",
    "else:\n",
    "    device = torch.device(\"cpu\")\n",
    "\n",
    "if device != torch.device(\"cuda\"):\n",
    "    sample_device = torch.device(\"cpu\")\n",
    "else:\n",
    "    sample_device = device\n",
    "\n",
    "print(f\"Device: {device}, Sample Device: {sample_device}\")"
   ]
  },
  {
   "cell_type": "markdown",
   "metadata": {},
   "source": [
    "# Shared hyperparameters"
   ]
  },
  {
   "cell_type": "code",
   "execution_count": null,
   "metadata": {},
   "outputs": [],
   "source": [
    "N_FEATURES = \"d_choose_2\"\n",
    "MAX_DEPTH = 3\n",
    "MODELS = [\"product_dt\", \"product_rf\", \"tangent_mlp\", \"ambient_mlp\", \"tangent_gnn\", \"ambient_gnn\"]\n",
    "N_SAMPLES = 10\n",
    "\n",
    "DOWNSAMPLE = 1000  # Used when number of datapoints per dataset is too large to work with"
   ]
  },
  {
   "cell_type": "code",
   "execution_count": 5,
   "metadata": {},
   "outputs": [],
   "source": [
    "# Quick test hyperparameters\n",
    "\n",
    "# N_SAMPLES = 1\n",
    "# DOWNSAMPLE = 10"
   ]
  },
  {
   "cell_type": "markdown",
   "metadata": {},
   "source": [
    "# Single curvature"
   ]
  },
  {
   "cell_type": "code",
   "execution_count": null,
   "metadata": {},
   "outputs": [
    {
     "data": {
      "application/vnd.jupyter.widget-view+json": {
       "model_id": "02411782d1fc43bcbf4e7b1b19a8c26e",
       "version_major": 2,
       "version_minor": 0
      },
      "text/plain": [
       "  0%|          | 0/110 [00:00<?, ?it/s]"
      ]
     },
     "metadata": {},
     "output_type": "display_data"
    },
    {
     "data": {
      "application/vnd.jupyter.widget-view+json": {
       "model_id": "c4dde87185cd451c97fb14d001f2fb92",
       "version_major": 2,
       "version_minor": 0
      },
      "text/plain": [
       "  0%|          | 0/110 [00:00<?, ?it/s]"
      ]
     },
     "metadata": {},
     "output_type": "display_data"
    },
    {
     "name": "stdout",
     "output_type": "stream",
     "text": [
      "Error: Input contains NaN.\n",
      "Error: Input contains NaN.\n"
     ]
    }
   ],
   "source": [
    "CURVATURES = [-4, -2, -1, -0.5, -0.25, 0, 0.25, 0.5, 1, 2, 4]\n",
    "DIM = 2\n",
    "N_POINTS = 1_000\n",
    "N_CLASSES = 8\n",
    "N_CLUSTERS = 32\n",
    "COV_SCALE_MEANS = 1.0\n",
    "COV_SCALE_POINTS = 1.0\n",
    "\n",
    "RESAMPLE_SCALES = False\n",
    "\n",
    "# SCORE = \"f1-micro\" if TASK == \"classification\" else \"rmse\"\n",
    "\n",
    "for TASK in [\"classification\", \"regression\"]:\n",
    "    results = []\n",
    "    SCORE = [\"f1-micro\", \"accuracy\"] if TASK == \"classification\" else [\"rmse\"]\n",
    "    my_tqdm = tqdm(total=len(CURVATURES) * N_SAMPLES)\n",
    "    for i, K in enumerate(CURVATURES):\n",
    "        for seed in range(N_SAMPLES):\n",
    "            try:\n",
    "                # Ensure unique seed per trial\n",
    "                seed = seed + N_SAMPLES * i\n",
    "                pm = embedders.manifolds.ProductManifold(signature=[(K, DIM)]).to(sample_device)\n",
    "\n",
    "                # Get X, y\n",
    "                X, y = embedders.gaussian_mixture.gaussian_mixture(\n",
    "                    pm=pm,\n",
    "                    seed=seed,\n",
    "                    num_points=N_POINTS,\n",
    "                    num_classes=N_CLASSES,\n",
    "                    num_clusters=N_CLUSTERS,\n",
    "                    cov_scale_means=COV_SCALE_MEANS / DIM,\n",
    "                    cov_scale_points=COV_SCALE_POINTS / DIM,\n",
    "                    task=TASK,\n",
    "                )\n",
    "                X = X.to(device)\n",
    "                y = y.to(device)\n",
    "                pm = pm.to(device)\n",
    "\n",
    "                model_results = embedders.benchmarks.benchmark(\n",
    "                    X,\n",
    "                    y,\n",
    "                    pm,\n",
    "                    max_depth=MAX_DEPTH,\n",
    "                    task=TASK,\n",
    "                    score=SCORE,\n",
    "                    seed=seed,\n",
    "                    n_features=N_FEATURES,\n",
    "                    device=device,\n",
    "                    models=MODELS,\n",
    "                )\n",
    "\n",
    "                # Create a flat dictionary for this run\n",
    "                run_results = {\"curvature\": K, \"seed\": seed}\n",
    "\n",
    "                # Flatten the nested model results\n",
    "                for model, metrics in model_results.items():\n",
    "                    for metric, value in metrics.items():\n",
    "                        run_results[f\"{model}_{metric}\"] = value\n",
    "\n",
    "                results.append(run_results)\n",
    "            except Exception as e:\n",
    "                print(f\"Error: {e}\")\n",
    "            my_tqdm.update(1)\n",
    "\n",
    "    # Convert to DataFrame\n",
    "    results = pd.DataFrame(results)\n",
    "\n",
    "    results.to_csv(f\"embedders/data/results/{TASK}_nn_single_curvature.tsv\", sep=\"\\t\", index=False)"
   ]
  },
  {
   "cell_type": "markdown",
   "metadata": {},
   "source": [
    "# Multiple curvatures"
   ]
  },
  {
   "cell_type": "code",
   "execution_count": null,
   "metadata": {},
   "outputs": [
    {
     "data": {
      "application/vnd.jupyter.widget-view+json": {
       "model_id": "4fa8254c3eef4646acf13a57929ce68a",
       "version_major": 2,
       "version_minor": 0
      },
      "text/plain": [
       "  0%|          | 0/80 [00:00<?, ?it/s]"
      ]
     },
     "metadata": {},
     "output_type": "display_data"
    },
    {
     "data": {
      "application/vnd.jupyter.widget-view+json": {
       "model_id": "f0b078fce133415f94f44075e34dd196",
       "version_major": 2,
       "version_minor": 0
      },
      "text/plain": [
       "  0%|          | 0/80 [00:00<?, ?it/s]"
      ]
     },
     "metadata": {},
     "output_type": "display_data"
    }
   ],
   "source": [
    "# Multiple curvatures\n",
    "\n",
    "# Signatures - using non-Gu approach for now\n",
    "SIGNATURES = [\n",
    "    [(-1, 2), (-1, 2)],  # HH\n",
    "    [(-1, 2), (0, 2)],  # HE\n",
    "    [(-1, 2), (1, 2)],  # HS\n",
    "    [(1, 2), (1, 2)],  # SS\n",
    "    [(1, 2), (0, 2)],  # SE\n",
    "    [(-1, 4)],  # H\n",
    "    [(0, 4)],  # E\n",
    "    [(1, 4)],  # S\n",
    "]\n",
    "\n",
    "SIGNATURES_STR = [\"HH\", \"HE\", \"HS\", \"SS\", \"SE\", \"H\", \"E\", \"S\"]\n",
    "\n",
    "DIM = 4\n",
    "N_POINTS = 1_000\n",
    "N_CLASSES = 8\n",
    "N_CLUSTERS = 32\n",
    "COV_SCALE_MEANS = 1.0\n",
    "COV_SCALE_POINTS = 1.0\n",
    "\n",
    "for TASK in [\"classification\", \"regression\"]:\n",
    "    results = []\n",
    "    SCORE = [\"f1-micro\", \"accuracy\"] if TASK == \"classification\" else [\"rmse\"]\n",
    "\n",
    "    my_tqdm = tqdm(total=len(SIGNATURES) * N_SAMPLES)\n",
    "    for i, (sig, sigstr) in enumerate(zip(SIGNATURES, SIGNATURES_STR)):\n",
    "        for seed in range(N_SAMPLES):\n",
    "            try:\n",
    "                # Ensure unique seed per trial\n",
    "                seed = seed + N_SAMPLES * i\n",
    "                pm = embedders.manifolds.ProductManifold(signature=sig, device=sample_device)\n",
    "\n",
    "                # Get X, y\n",
    "                X, y = embedders.gaussian_mixture.gaussian_mixture(\n",
    "                    pm=pm,\n",
    "                    seed=seed,\n",
    "                    num_points=N_POINTS,\n",
    "                    num_classes=N_CLASSES,\n",
    "                    num_clusters=N_CLUSTERS,\n",
    "                    cov_scale_means=COV_SCALE_MEANS / DIM,\n",
    "                    cov_scale_points=COV_SCALE_POINTS / DIM,\n",
    "                    task=TASK,\n",
    "                )\n",
    "                X = X.to(device)\n",
    "                y = y.to(device)\n",
    "                pm = pm.to(device)\n",
    "\n",
    "                if RESAMPLE_SCALES:\n",
    "                    scale = 0.5 - np.random.rand() * 20\n",
    "                    pm.P[0].scale = torch.exp(torch.tensor(scale)).item()\n",
    "                    pm.P[0].manifold._log_scale = torch.nn.Parameter(torch.tensor(scale))\n",
    "\n",
    "                # Benchmarks are now handled by the benchmark function\n",
    "                model_results = embedders.benchmarks.benchmark(\n",
    "                    X,\n",
    "                    y,\n",
    "                    pm,\n",
    "                    max_depth=MAX_DEPTH,\n",
    "                    task=TASK,\n",
    "                    score=SCORE,\n",
    "                    seed=seed,\n",
    "                    n_features=N_FEATURES,\n",
    "                    device=device,\n",
    "                )\n",
    "\n",
    "                # Create a flat dictionary for this run\n",
    "                run_results = {\"signature\": sigstr, \"seed\": seed}\n",
    "\n",
    "                # Flatten the nested model results\n",
    "                for model, metrics in model_results.items():\n",
    "                    for metric, value in metrics.items():\n",
    "                        run_results[f\"{model}_{metric}\"] = value\n",
    "\n",
    "                results.append(run_results)\n",
    "            except Exception as e:\n",
    "                print(f\"Error: {e}\")\n",
    "            my_tqdm.update(1)\n",
    "\n",
    "    results = pd.DataFrame(results)\n",
    "\n",
    "    results.to_csv(f\"embedders/data/results/{TASK}_nn_multiple_curvatures.tsv\", sep=\"\\t\", index=False)"
   ]
  },
  {
   "cell_type": "markdown",
   "metadata": {},
   "source": [
    "# Graph embeddings - known matrix"
   ]
  },
  {
   "cell_type": "code",
   "execution_count": 8,
   "metadata": {},
   "outputs": [
    {
     "data": {
      "application/vnd.jupyter.widget-view+json": {
       "model_id": "d6021078a0b74b85834bdc48ac6f7739",
       "version_major": 2,
       "version_minor": 0
      },
      "text/plain": [
       "  0%|          | 0/40 [00:00<?, ?it/s]"
      ]
     },
     "metadata": {},
     "output_type": "display_data"
    },
    {
     "name": "stdout",
     "output_type": "stream",
     "text": [
      "Top CC has 2110 nodes; original graph has 3264 nodes.\n"
     ]
    },
    {
     "name": "stdout",
     "output_type": "stream",
     "text": [
      "Top CC has 2485 nodes; original graph has 2708 nodes.\n",
      "Top CC has 1222 nodes; original graph has 1490 nodes.\n",
      "Top CC has 1025 nodes; original graph has 1025 nodes.\n"
     ]
    }
   ],
   "source": [
    "GRAPHS = [\n",
    "    (\"citeseer\", \"HS\", [(-1, 2), (1, 2)], \"classification\"),\n",
    "    (\"cora\", \"H\", [(-1, 4)], \"classification\"),\n",
    "    (\"polblogs\", \"SS\", [(1, 2), (1, 2)], \"classification\"),\n",
    "    (\"cs_phds\", \"H\", [(-1, 4)], \"regression\"),\n",
    "]\n",
    "\n",
    "results = []\n",
    "my_tqdm = tqdm(total=len(GRAPHS) * N_SAMPLES)\n",
    "for embedding, sigstr, sig, task in GRAPHS:\n",
    "    _, y, adj = embedders.dataloaders.load(embedding)\n",
    "    adj = adj.to(device).float().detach()\n",
    "    pm = embedders.manifolds.ProductManifold(signature=sig, device=device)\n",
    "\n",
    "    for i in range(N_SAMPLES):\n",
    "        try:\n",
    "            X = torch.tensor(np.load(f\"embedders/data/graphs/embeddings/{embedding}/{sigstr}_{i}.npy\"), device=device)\n",
    "            score = [\"f1-micro\", \"accuracy\"] if task == \"classification\" else [\"rmse\"]\n",
    "\n",
    "            model_results = embedders.benchmarks.benchmark(\n",
    "                X,\n",
    "                y,\n",
    "                pm,\n",
    "                max_depth=MAX_DEPTH,\n",
    "                n_features=N_FEATURES,\n",
    "                seed=i,\n",
    "                device=device,\n",
    "                adj=adj,\n",
    "                models=MODELS,\n",
    "                task=task,\n",
    "                score=score,\n",
    "            )\n",
    "\n",
    "            # Create a flat dictionary for this run\n",
    "            run_results = {\"embedding\": embedding, \"seed\": i}\n",
    "\n",
    "            # Flatten the nested model results\n",
    "            for model, metrics in model_results.items():\n",
    "                for metric, value in metrics.items():\n",
    "                    run_results[f\"{model}_{metric}\"] = value\n",
    "\n",
    "            results.append(run_results)\n",
    "        except Exception as e:\n",
    "            print(f\"Error: {e}\")\n",
    "        my_tqdm.update(1)\n",
    "\n",
    "results = pd.DataFrame(results)\n",
    "results.to_csv(f\"embedders/data/results/all_nn_graph.tsv\", sep=\"\\t\", index=False)"
   ]
  },
  {
   "cell_type": "markdown",
   "metadata": {},
   "source": [
    "# VAE latents"
   ]
  },
  {
   "cell_type": "code",
   "execution_count": null,
   "metadata": {},
   "outputs": [
    {
     "data": {
      "application/vnd.jupyter.widget-view+json": {
       "model_id": "e5509a9ac3684f59a31bfdb7aa5b19b1",
       "version_major": 2,
       "version_minor": 0
      },
      "text/plain": [
       "  0%|          | 0/40 [00:00<?, ?it/s]"
      ]
     },
     "metadata": {},
     "output_type": "display_data"
    }
   ],
   "source": [
    "import numpy as np\n",
    "import embedders\n",
    "import pandas as pd\n",
    "from tqdm.notebook import tqdm\n",
    "\n",
    "embeddings_names = [\n",
    "    \"blood_cell_scrna\",\n",
    "    \"lymphoma\",\n",
    "    \"cifar_100\",\n",
    "    \"mnist\",\n",
    "]\n",
    "sigs = [\n",
    "    [(1, 2), (0, 2), (-1, 2), (-1, 2), (-1, 2)],\n",
    "    [(1, 2), (1, 2)],\n",
    "    [(1, 2), (1, 2), (1, 2), (1, 2)],\n",
    "    [(1, 2), (0, 2), (-1, 2)],\n",
    "]\n",
    "sets = [\"train\", \"test\"]\n",
    "datasets = [\"X\", \"y\"]\n",
    "\n",
    "# bad = []\n",
    "# for embedding in embeddings_names:\n",
    "#     for trial in range(n_trials):\n",
    "#         for set_name in sets:\n",
    "#             for dataset in datasets:\n",
    "#                 my_data = np.load(f\"../data/{embedding}/embeddings/{dataset}_{set_name}_{trial}.npy\")\n",
    "#                 if np.isnan(my_data).any():\n",
    "#                     bad.append((embedding, trial, set_name, dataset))\n",
    "#                     print(embedding, trial, set_name, dataset)\n",
    "#                 # print(my_data.shape)\n",
    "# print(bad)\n",
    "\n",
    "results = []\n",
    "my_tqdm = tqdm(total=len(embeddings_names) * N_SAMPLES)\n",
    "for embedding, sig in zip(embeddings_names, sigs):\n",
    "    pm = embedders.manifolds.ProductManifold(signature=sig)\n",
    "    for trial in range(N_SAMPLES):\n",
    "        # try:\n",
    "        X_train = np.load(f\"embedders/data/{embedding}/embeddings/X_train_{trial}.npy\")\n",
    "        y_train = np.load(f\"embedders/data/{embedding}/embeddings/y_train_{trial}.npy\")\n",
    "        X_test = np.load(f\"embedders/data/{embedding}/embeddings/X_test_{trial}.npy\")\n",
    "        y_test = np.load(f\"embedders/data/{embedding}/embeddings/y_test_{trial}.npy\")\n",
    "\n",
    "        # Convert to torch tensors\n",
    "        X_train = torch.tensor(X_train, device=device)\n",
    "        y_train = torch.tensor(y_train, device=device)\n",
    "        X_test = torch.tensor(X_test, device=device)\n",
    "        y_test = torch.tensor(y_test, device=device)\n",
    "\n",
    "        # Randomly subsample\n",
    "        if len(X_train) > DOWNSAMPLE:\n",
    "            idx = np.random.choice(X_train.shape[0], DOWNSAMPLE, replace=False)\n",
    "            X_train = X_train[idx]\n",
    "            y_train = y_train[idx]\n",
    "\n",
    "        if len(X_test) > DOWNSAMPLE:\n",
    "            idx = np.random.choice(X_test.shape[0], DOWNSAMPLE, replace=False)\n",
    "            X_test = X_test[idx]\n",
    "            y_test = y_test[idx]\n",
    "\n",
    "        model_results = embedders.benchmarks.benchmark(\n",
    "            X=None,\n",
    "            y=None,\n",
    "            X_train=X_train,\n",
    "            X_test=X_test,\n",
    "            y_train=y_train,\n",
    "            y_test=y_test,\n",
    "            pm=pm,\n",
    "            # models=[\"sklearn_dt\", \"product_dt\"],\n",
    "            max_depth=MAX_DEPTH,\n",
    "            batch_size=1,\n",
    "            n_features=N_FEATURES,\n",
    "            models=MODELS,\n",
    "            task=\"classification\",\n",
    "            score=[\"f1-micro\", \"accuracy\"],\n",
    "            device=device,\n",
    "        )\n",
    "        # res[\"embedding\"] = embedding\n",
    "        # res[\"trial\"] = trial\n",
    "\n",
    "        # results.append(res)\n",
    "        # my_tqdm.update(1)\n",
    "\n",
    "        run_results = {\"embedding\": embedding, \"seed\": trial}\n",
    "\n",
    "        # Flatten the nested model results\n",
    "        for model, metrics in model_results.items():\n",
    "            for metric, value in metrics.items():\n",
    "                run_results[f\"{model}_{metric}\"] = value\n",
    "\n",
    "        results.append(run_results)\n",
    "        # except Exception as e:\n",
    "        # print(f\"Error: {e}\")\n",
    "        my_tqdm.update(1)\n",
    "\n",
    "results = pd.DataFrame(results)\n",
    "results.to_csv(f\"embedders/data/results/all_nn_vae.tsv\", sep=\"\\t\", index=False)"
   ]
  },
  {
   "cell_type": "markdown",
   "metadata": {},
   "source": [
    "# Empirical"
   ]
  },
  {
   "cell_type": "code",
   "execution_count": 48,
   "metadata": {},
   "outputs": [
    {
     "data": {
      "application/vnd.jupyter.widget-view+json": {
       "model_id": "d90934444705466093739bc79dec5eb5",
       "version_major": 2,
       "version_minor": 0
      },
      "text/plain": [
       "  0%|          | 0/50 [00:00<?, ?it/s]"
      ]
     },
     "metadata": {},
     "output_type": "display_data"
    },
    {
     "data": {
      "application/vnd.jupyter.widget-view+json": {
       "model_id": "f0bd91711c5648a3b897e9aa4358df07",
       "version_major": 2,
       "version_minor": 0
      },
      "text/plain": [
       "  0%|          | 0/4000 [00:00<?, ?it/s]"
      ]
     },
     "metadata": {},
     "output_type": "display_data"
    },
    {
     "data": {
      "application/vnd.jupyter.widget-view+json": {
       "model_id": "36e7c09b34464f93ae4824acfd0436f9",
       "version_major": 2,
       "version_minor": 0
      },
      "text/plain": [
       "  0%|          | 0/4000 [00:00<?, ?it/s]"
      ]
     },
     "metadata": {},
     "output_type": "display_data"
    },
    {
     "data": {
      "application/vnd.jupyter.widget-view+json": {
       "model_id": "832670e009a14e4cbe426b4e64b77544",
       "version_major": 2,
       "version_minor": 0
      },
      "text/plain": [
       "  0%|          | 0/4000 [00:00<?, ?it/s]"
      ]
     },
     "metadata": {},
     "output_type": "display_data"
    },
    {
     "data": {
      "application/vnd.jupyter.widget-view+json": {
       "model_id": "c5cf598670ae49b6b6f4fae699fd2cf2",
       "version_major": 2,
       "version_minor": 0
      },
      "text/plain": [
       "  0%|          | 0/4000 [00:00<?, ?it/s]"
      ]
     },
     "metadata": {},
     "output_type": "display_data"
    },
    {
     "data": {
      "application/vnd.jupyter.widget-view+json": {
       "model_id": "8f08bdf80c3f4ff8ab5c636a10596015",
       "version_major": 2,
       "version_minor": 0
      },
      "text/plain": [
       "  0%|          | 0/4000 [00:00<?, ?it/s]"
      ]
     },
     "metadata": {},
     "output_type": "display_data"
    },
    {
     "data": {
      "application/vnd.jupyter.widget-view+json": {
       "model_id": "27eb93aa5f6240cc9a928e48eedac99d",
       "version_major": 2,
       "version_minor": 0
      },
      "text/plain": [
       "  0%|          | 0/4000 [00:00<?, ?it/s]"
      ]
     },
     "metadata": {},
     "output_type": "display_data"
    },
    {
     "data": {
      "application/vnd.jupyter.widget-view+json": {
       "model_id": "d6ead5bda9694790b577763ca5441362",
       "version_major": 2,
       "version_minor": 0
      },
      "text/plain": [
       "  0%|          | 0/4000 [00:00<?, ?it/s]"
      ]
     },
     "metadata": {},
     "output_type": "display_data"
    },
    {
     "data": {
      "application/vnd.jupyter.widget-view+json": {
       "model_id": "7de05d831c9d401cb2e41f69fb371840",
       "version_major": 2,
       "version_minor": 0
      },
      "text/plain": [
       "  0%|          | 0/4000 [00:00<?, ?it/s]"
      ]
     },
     "metadata": {},
     "output_type": "display_data"
    },
    {
     "data": {
      "application/vnd.jupyter.widget-view+json": {
       "model_id": "a6ffee0d820b4c56b5c1acc004331a57",
       "version_major": 2,
       "version_minor": 0
      },
      "text/plain": [
       "  0%|          | 0/4000 [00:00<?, ?it/s]"
      ]
     },
     "metadata": {},
     "output_type": "display_data"
    },
    {
     "data": {
      "application/vnd.jupyter.widget-view+json": {
       "model_id": "bf316c8d57a549d6adead3b356e957c3",
       "version_major": 2,
       "version_minor": 0
      },
      "text/plain": [
       "  0%|          | 0/4000 [00:00<?, ?it/s]"
      ]
     },
     "metadata": {},
     "output_type": "display_data"
    },
    {
     "data": {
      "application/vnd.jupyter.widget-view+json": {
       "model_id": "c6366b0de7664618a408bdfa2eb55aca",
       "version_major": 2,
       "version_minor": 0
      },
      "text/plain": [
       "  0%|          | 0/4000 [00:00<?, ?it/s]"
      ]
     },
     "metadata": {},
     "output_type": "display_data"
    },
    {
     "data": {
      "application/vnd.jupyter.widget-view+json": {
       "model_id": "e6b4393ce3bf467fa3642ea1a77f016b",
       "version_major": 2,
       "version_minor": 0
      },
      "text/plain": [
       "  0%|          | 0/4000 [00:00<?, ?it/s]"
      ]
     },
     "metadata": {},
     "output_type": "display_data"
    },
    {
     "data": {
      "application/vnd.jupyter.widget-view+json": {
       "model_id": "74b2fdaabf204d7eabd89987d425b80c",
       "version_major": 2,
       "version_minor": 0
      },
      "text/plain": [
       "  0%|          | 0/4000 [00:00<?, ?it/s]"
      ]
     },
     "metadata": {},
     "output_type": "display_data"
    },
    {
     "data": {
      "application/vnd.jupyter.widget-view+json": {
       "model_id": "0d6ff383d4e84911ad4048db3af4a7e4",
       "version_major": 2,
       "version_minor": 0
      },
      "text/plain": [
       "  0%|          | 0/4000 [00:00<?, ?it/s]"
      ]
     },
     "metadata": {},
     "output_type": "display_data"
    },
    {
     "data": {
      "application/vnd.jupyter.widget-view+json": {
       "model_id": "1ea8b7c6da2642dbb8d51bf04925ed0a",
       "version_major": 2,
       "version_minor": 0
      },
      "text/plain": [
       "  0%|          | 0/4000 [00:00<?, ?it/s]"
      ]
     },
     "metadata": {},
     "output_type": "display_data"
    },
    {
     "data": {
      "application/vnd.jupyter.widget-view+json": {
       "model_id": "c90dbee38c9044ce871f92f348545b7b",
       "version_major": 2,
       "version_minor": 0
      },
      "text/plain": [
       "  0%|          | 0/4000 [00:00<?, ?it/s]"
      ]
     },
     "metadata": {},
     "output_type": "display_data"
    },
    {
     "data": {
      "application/vnd.jupyter.widget-view+json": {
       "model_id": "cab36be4f90b43a6983eb3880b49932b",
       "version_major": 2,
       "version_minor": 0
      },
      "text/plain": [
       "  0%|          | 0/4000 [00:00<?, ?it/s]"
      ]
     },
     "metadata": {},
     "output_type": "display_data"
    },
    {
     "data": {
      "application/vnd.jupyter.widget-view+json": {
       "model_id": "d8dc9846a71e4dd4bde38795e5b761d6",
       "version_major": 2,
       "version_minor": 0
      },
      "text/plain": [
       "  0%|          | 0/4000 [00:00<?, ?it/s]"
      ]
     },
     "metadata": {},
     "output_type": "display_data"
    },
    {
     "data": {
      "application/vnd.jupyter.widget-view+json": {
       "model_id": "753671d7f0744dd6b4151f302badcd28",
       "version_major": 2,
       "version_minor": 0
      },
      "text/plain": [
       "  0%|          | 0/4000 [00:00<?, ?it/s]"
      ]
     },
     "metadata": {},
     "output_type": "display_data"
    },
    {
     "data": {
      "application/vnd.jupyter.widget-view+json": {
       "model_id": "dc4f12ca20c646cd9dcb9a998a2ae2e0",
       "version_major": 2,
       "version_minor": 0
      },
      "text/plain": [
       "  0%|          | 0/4000 [00:00<?, ?it/s]"
      ]
     },
     "metadata": {},
     "output_type": "display_data"
    },
    {
     "data": {
      "application/vnd.jupyter.widget-view+json": {
       "model_id": "dd627909f1af4cbca04e4fece74a1125",
       "version_major": 2,
       "version_minor": 0
      },
      "text/plain": [
       "  0%|          | 0/4000 [00:00<?, ?it/s]"
      ]
     },
     "metadata": {},
     "output_type": "display_data"
    },
    {
     "data": {
      "application/vnd.jupyter.widget-view+json": {
       "model_id": "43d541c8c0ca4bf195040faf5cebd3d5",
       "version_major": 2,
       "version_minor": 0
      },
      "text/plain": [
       "  0%|          | 0/4000 [00:00<?, ?it/s]"
      ]
     },
     "metadata": {},
     "output_type": "display_data"
    },
    {
     "data": {
      "application/vnd.jupyter.widget-view+json": {
       "model_id": "66fe72081e494352aadedf1f9a945b1a",
       "version_major": 2,
       "version_minor": 0
      },
      "text/plain": [
       "  0%|          | 0/4000 [00:00<?, ?it/s]"
      ]
     },
     "metadata": {},
     "output_type": "display_data"
    },
    {
     "data": {
      "application/vnd.jupyter.widget-view+json": {
       "model_id": "4ffcb93bf16e459ca5700a34b91623a4",
       "version_major": 2,
       "version_minor": 0
      },
      "text/plain": [
       "  0%|          | 0/4000 [00:00<?, ?it/s]"
      ]
     },
     "metadata": {},
     "output_type": "display_data"
    },
    {
     "data": {
      "application/vnd.jupyter.widget-view+json": {
       "model_id": "a228fa77ede34ccbb49566cdda56fbbd",
       "version_major": 2,
       "version_minor": 0
      },
      "text/plain": [
       "  0%|          | 0/4000 [00:00<?, ?it/s]"
      ]
     },
     "metadata": {},
     "output_type": "display_data"
    },
    {
     "data": {
      "application/vnd.jupyter.widget-view+json": {
       "model_id": "bb177416342e44b682c1e7711f212bdb",
       "version_major": 2,
       "version_minor": 0
      },
      "text/plain": [
       "  0%|          | 0/4000 [00:00<?, ?it/s]"
      ]
     },
     "metadata": {},
     "output_type": "display_data"
    },
    {
     "data": {
      "application/vnd.jupyter.widget-view+json": {
       "model_id": "04d130722ec44fc0a8fd3da27eb739e5",
       "version_major": 2,
       "version_minor": 0
      },
      "text/plain": [
       "  0%|          | 0/4000 [00:00<?, ?it/s]"
      ]
     },
     "metadata": {},
     "output_type": "display_data"
    },
    {
     "data": {
      "application/vnd.jupyter.widget-view+json": {
       "model_id": "6d3bf62ac9e44f59a029443a5501a9bc",
       "version_major": 2,
       "version_minor": 0
      },
      "text/plain": [
       "  0%|          | 0/4000 [00:00<?, ?it/s]"
      ]
     },
     "metadata": {},
     "output_type": "display_data"
    },
    {
     "data": {
      "application/vnd.jupyter.widget-view+json": {
       "model_id": "5429bdaf3b0e41bd9b0ad6d255e46cf9",
       "version_major": 2,
       "version_minor": 0
      },
      "text/plain": [
       "  0%|          | 0/4000 [00:00<?, ?it/s]"
      ]
     },
     "metadata": {},
     "output_type": "display_data"
    },
    {
     "data": {
      "application/vnd.jupyter.widget-view+json": {
       "model_id": "f243ea07a9154276a8506afe41434945",
       "version_major": 2,
       "version_minor": 0
      },
      "text/plain": [
       "  0%|          | 0/4000 [00:00<?, ?it/s]"
      ]
     },
     "metadata": {},
     "output_type": "display_data"
    },
    {
     "data": {
      "application/vnd.jupyter.widget-view+json": {
       "model_id": "a6faa6d213a44358832ec6cb649114bf",
       "version_major": 2,
       "version_minor": 0
      },
      "text/plain": [
       "  0%|          | 0/4000 [00:00<?, ?it/s]"
      ]
     },
     "metadata": {},
     "output_type": "display_data"
    },
    {
     "data": {
      "application/vnd.jupyter.widget-view+json": {
       "model_id": "91a3a0e7f7274d18b447c4fd89c9ef18",
       "version_major": 2,
       "version_minor": 0
      },
      "text/plain": [
       "  0%|          | 0/4000 [00:00<?, ?it/s]"
      ]
     },
     "metadata": {},
     "output_type": "display_data"
    },
    {
     "data": {
      "application/vnd.jupyter.widget-view+json": {
       "model_id": "9f10a326bfb447c0a467b098a3b3dff1",
       "version_major": 2,
       "version_minor": 0
      },
      "text/plain": [
       "  0%|          | 0/4000 [00:00<?, ?it/s]"
      ]
     },
     "metadata": {},
     "output_type": "display_data"
    },
    {
     "data": {
      "application/vnd.jupyter.widget-view+json": {
       "model_id": "f6859cacec714aa6b42d5223ca1cacc2",
       "version_major": 2,
       "version_minor": 0
      },
      "text/plain": [
       "  0%|          | 0/4000 [00:00<?, ?it/s]"
      ]
     },
     "metadata": {},
     "output_type": "display_data"
    },
    {
     "data": {
      "application/vnd.jupyter.widget-view+json": {
       "model_id": "f92f147d049f4365b6ea294b3b65cbff",
       "version_major": 2,
       "version_minor": 0
      },
      "text/plain": [
       "  0%|          | 0/4000 [00:00<?, ?it/s]"
      ]
     },
     "metadata": {},
     "output_type": "display_data"
    },
    {
     "data": {
      "application/vnd.jupyter.widget-view+json": {
       "model_id": "da4cf856308d4b558ec127e06602f8d6",
       "version_major": 2,
       "version_minor": 0
      },
      "text/plain": [
       "  0%|          | 0/4000 [00:00<?, ?it/s]"
      ]
     },
     "metadata": {},
     "output_type": "display_data"
    },
    {
     "data": {
      "application/vnd.jupyter.widget-view+json": {
       "model_id": "0a2a9cffa1c34a8bab25d1de6504f5d2",
       "version_major": 2,
       "version_minor": 0
      },
      "text/plain": [
       "  0%|          | 0/4000 [00:00<?, ?it/s]"
      ]
     },
     "metadata": {},
     "output_type": "display_data"
    },
    {
     "data": {
      "application/vnd.jupyter.widget-view+json": {
       "model_id": "7d96003fb22e43bcad839dbaf8033eda",
       "version_major": 2,
       "version_minor": 0
      },
      "text/plain": [
       "  0%|          | 0/4000 [00:00<?, ?it/s]"
      ]
     },
     "metadata": {},
     "output_type": "display_data"
    },
    {
     "data": {
      "application/vnd.jupyter.widget-view+json": {
       "model_id": "3a27fb3d289e41d199cd137b32f71377",
       "version_major": 2,
       "version_minor": 0
      },
      "text/plain": [
       "  0%|          | 0/4000 [00:00<?, ?it/s]"
      ]
     },
     "metadata": {},
     "output_type": "display_data"
    },
    {
     "data": {
      "application/vnd.jupyter.widget-view+json": {
       "model_id": "110dc39a09ae48eba6f704d848cf16dc",
       "version_major": 2,
       "version_minor": 0
      },
      "text/plain": [
       "  0%|          | 0/4000 [00:00<?, ?it/s]"
      ]
     },
     "metadata": {},
     "output_type": "display_data"
    },
    {
     "name": "stdout",
     "output_type": "stream",
     "text": [
      "Error: start (20) + length (2) exceeds dimension size (20).\n",
      "Error: start (20) + length (2) exceeds dimension size (20).\n",
      "Error: start (20) + length (2) exceeds dimension size (20).\n",
      "Error: start (20) + length (2) exceeds dimension size (20).\n",
      "Error: start (20) + length (2) exceeds dimension size (20).\n",
      "Error: start (20) + length (2) exceeds dimension size (20).\n",
      "Error: start (20) + length (2) exceeds dimension size (20).\n",
      "Error: start (20) + length (2) exceeds dimension size (20).\n",
      "Error: start (20) + length (2) exceeds dimension size (20).\n",
      "Error: start (20) + length (2) exceeds dimension size (20).\n",
      "Error: start (20) + length (2) exceeds dimension size (20).\n",
      "Error: start (20) + length (2) exceeds dimension size (20).\n",
      "Error: start (20) + length (2) exceeds dimension size (20).\n",
      "Error: start (20) + length (2) exceeds dimension size (20).\n",
      "Error: start (20) + length (2) exceeds dimension size (20).\n",
      "Error: start (20) + length (2) exceeds dimension size (20).\n",
      "Error: start (20) + length (2) exceeds dimension size (20).\n",
      "Error: start (20) + length (2) exceeds dimension size (20).\n",
      "Error: start (20) + length (2) exceeds dimension size (20).\n",
      "Error: start (20) + length (2) exceeds dimension size (20).\n"
     ]
    },
    {
     "data": {
      "application/vnd.jupyter.widget-view+json": {
       "model_id": "bbaf86750b664d41b5ebe1da267f56a2",
       "version_major": 2,
       "version_minor": 0
      },
      "text/plain": [
       "  0%|          | 0/4000 [00:00<?, ?it/s]"
      ]
     },
     "metadata": {},
     "output_type": "display_data"
    },
    {
     "data": {
      "application/vnd.jupyter.widget-view+json": {
       "model_id": "62c5333d91f94aebbee71798852d4f1f",
       "version_major": 2,
       "version_minor": 0
      },
      "text/plain": [
       "  0%|          | 0/4000 [00:00<?, ?it/s]"
      ]
     },
     "metadata": {},
     "output_type": "display_data"
    },
    {
     "data": {
      "application/vnd.jupyter.widget-view+json": {
       "model_id": "b15109fb8ad341f89bc60d9e8286b12d",
       "version_major": 2,
       "version_minor": 0
      },
      "text/plain": [
       "  0%|          | 0/4000 [00:00<?, ?it/s]"
      ]
     },
     "metadata": {},
     "output_type": "display_data"
    },
    {
     "data": {
      "application/vnd.jupyter.widget-view+json": {
       "model_id": "21b5698354314d03a351d12d5e37ceb8",
       "version_major": 2,
       "version_minor": 0
      },
      "text/plain": [
       "  0%|          | 0/4000 [00:00<?, ?it/s]"
      ]
     },
     "metadata": {},
     "output_type": "display_data"
    },
    {
     "data": {
      "application/vnd.jupyter.widget-view+json": {
       "model_id": "88184661ffb1423baf6228f347717b74",
       "version_major": 2,
       "version_minor": 0
      },
      "text/plain": [
       "  0%|          | 0/4000 [00:00<?, ?it/s]"
      ]
     },
     "metadata": {},
     "output_type": "display_data"
    },
    {
     "data": {
      "application/vnd.jupyter.widget-view+json": {
       "model_id": "e58c4c2cad6c406ea29df715808c8c2c",
       "version_major": 2,
       "version_minor": 0
      },
      "text/plain": [
       "  0%|          | 0/4000 [00:00<?, ?it/s]"
      ]
     },
     "metadata": {},
     "output_type": "display_data"
    },
    {
     "data": {
      "application/vnd.jupyter.widget-view+json": {
       "model_id": "8bd881e5a5f745a0a8d74a3d30e29e21",
       "version_major": 2,
       "version_minor": 0
      },
      "text/plain": [
       "  0%|          | 0/4000 [00:00<?, ?it/s]"
      ]
     },
     "metadata": {},
     "output_type": "display_data"
    },
    {
     "data": {
      "application/vnd.jupyter.widget-view+json": {
       "model_id": "6bff480914124b0c94811c3e65b166fc",
       "version_major": 2,
       "version_minor": 0
      },
      "text/plain": [
       "  0%|          | 0/4000 [00:00<?, ?it/s]"
      ]
     },
     "metadata": {},
     "output_type": "display_data"
    },
    {
     "data": {
      "application/vnd.jupyter.widget-view+json": {
       "model_id": "95257afa32fa4d2695c50c5654a31f37",
       "version_major": 2,
       "version_minor": 0
      },
      "text/plain": [
       "  0%|          | 0/4000 [00:00<?, ?it/s]"
      ]
     },
     "metadata": {},
     "output_type": "display_data"
    },
    {
     "data": {
      "application/vnd.jupyter.widget-view+json": {
       "model_id": "c0e62043dc3f4dbc9754c38eb3dd21ed",
       "version_major": 2,
       "version_minor": 0
      },
      "text/plain": [
       "  0%|          | 0/4000 [00:00<?, ?it/s]"
      ]
     },
     "metadata": {},
     "output_type": "display_data"
    },
    {
     "data": {
      "application/vnd.jupyter.widget-view+json": {
       "model_id": "f0de471440f24f0bb937b7038338e76c",
       "version_major": 2,
       "version_minor": 0
      },
      "text/plain": [
       "  0%|          | 0/4000 [00:00<?, ?it/s]"
      ]
     },
     "metadata": {},
     "output_type": "display_data"
    },
    {
     "data": {
      "application/vnd.jupyter.widget-view+json": {
       "model_id": "5261adc8825242b79b98851584fab9e8",
       "version_major": 2,
       "version_minor": 0
      },
      "text/plain": [
       "  0%|          | 0/4000 [00:00<?, ?it/s]"
      ]
     },
     "metadata": {},
     "output_type": "display_data"
    },
    {
     "data": {
      "application/vnd.jupyter.widget-view+json": {
       "model_id": "88340597b876407a8f0819e520432969",
       "version_major": 2,
       "version_minor": 0
      },
      "text/plain": [
       "  0%|          | 0/4000 [00:00<?, ?it/s]"
      ]
     },
     "metadata": {},
     "output_type": "display_data"
    },
    {
     "data": {
      "application/vnd.jupyter.widget-view+json": {
       "model_id": "7599871e573c4c9a98bab16ecd82746e",
       "version_major": 2,
       "version_minor": 0
      },
      "text/plain": [
       "  0%|          | 0/4000 [00:00<?, ?it/s]"
      ]
     },
     "metadata": {},
     "output_type": "display_data"
    },
    {
     "data": {
      "application/vnd.jupyter.widget-view+json": {
       "model_id": "55a33766f5b24db8ae23ad7fd0dc373a",
       "version_major": 2,
       "version_minor": 0
      },
      "text/plain": [
       "  0%|          | 0/4000 [00:00<?, ?it/s]"
      ]
     },
     "metadata": {},
     "output_type": "display_data"
    },
    {
     "data": {
      "application/vnd.jupyter.widget-view+json": {
       "model_id": "7808ab63c19a4534a1c3f25fc67b5a85",
       "version_major": 2,
       "version_minor": 0
      },
      "text/plain": [
       "  0%|          | 0/4000 [00:00<?, ?it/s]"
      ]
     },
     "metadata": {},
     "output_type": "display_data"
    },
    {
     "data": {
      "application/vnd.jupyter.widget-view+json": {
       "model_id": "b3a92c7c8a0943258d403db5523433dc",
       "version_major": 2,
       "version_minor": 0
      },
      "text/plain": [
       "  0%|          | 0/4000 [00:00<?, ?it/s]"
      ]
     },
     "metadata": {},
     "output_type": "display_data"
    },
    {
     "data": {
      "application/vnd.jupyter.widget-view+json": {
       "model_id": "d411c31011094f75ad9f5af3fa2a92fc",
       "version_major": 2,
       "version_minor": 0
      },
      "text/plain": [
       "  0%|          | 0/4000 [00:00<?, ?it/s]"
      ]
     },
     "metadata": {},
     "output_type": "display_data"
    },
    {
     "data": {
      "application/vnd.jupyter.widget-view+json": {
       "model_id": "2c5d4945852a4c629b73dfe4854bd82a",
       "version_major": 2,
       "version_minor": 0
      },
      "text/plain": [
       "  0%|          | 0/4000 [00:00<?, ?it/s]"
      ]
     },
     "metadata": {},
     "output_type": "display_data"
    },
    {
     "data": {
      "application/vnd.jupyter.widget-view+json": {
       "model_id": "e9f3f1355cc64a9797ec24c809f7d55f",
       "version_major": 2,
       "version_minor": 0
      },
      "text/plain": [
       "  0%|          | 0/4000 [00:00<?, ?it/s]"
      ]
     },
     "metadata": {},
     "output_type": "display_data"
    },
    {
     "data": {
      "application/vnd.jupyter.widget-view+json": {
       "model_id": "e96b5f3405c24ca68092d82a05aee40e",
       "version_major": 2,
       "version_minor": 0
      },
      "text/plain": [
       "  0%|          | 0/4000 [00:00<?, ?it/s]"
      ]
     },
     "metadata": {},
     "output_type": "display_data"
    },
    {
     "data": {
      "application/vnd.jupyter.widget-view+json": {
       "model_id": "81b1a0d4dc8247b1bfcf05ad99238d84",
       "version_major": 2,
       "version_minor": 0
      },
      "text/plain": [
       "  0%|          | 0/4000 [00:00<?, ?it/s]"
      ]
     },
     "metadata": {},
     "output_type": "display_data"
    },
    {
     "data": {
      "application/vnd.jupyter.widget-view+json": {
       "model_id": "8a604add9ba8407387adbd40e65225ad",
       "version_major": 2,
       "version_minor": 0
      },
      "text/plain": [
       "  0%|          | 0/4000 [00:00<?, ?it/s]"
      ]
     },
     "metadata": {},
     "output_type": "display_data"
    },
    {
     "data": {
      "application/vnd.jupyter.widget-view+json": {
       "model_id": "fef12ebcf48b424fa55eeeced9f5c6bb",
       "version_major": 2,
       "version_minor": 0
      },
      "text/plain": [
       "  0%|          | 0/4000 [00:00<?, ?it/s]"
      ]
     },
     "metadata": {},
     "output_type": "display_data"
    },
    {
     "data": {
      "application/vnd.jupyter.widget-view+json": {
       "model_id": "ca6f65a0a53449019f316bf285d0141f",
       "version_major": 2,
       "version_minor": 0
      },
      "text/plain": [
       "  0%|          | 0/4000 [00:00<?, ?it/s]"
      ]
     },
     "metadata": {},
     "output_type": "display_data"
    },
    {
     "data": {
      "application/vnd.jupyter.widget-view+json": {
       "model_id": "2546a1c338bf449abeed4b87d52c963f",
       "version_major": 2,
       "version_minor": 0
      },
      "text/plain": [
       "  0%|          | 0/4000 [00:00<?, ?it/s]"
      ]
     },
     "metadata": {},
     "output_type": "display_data"
    },
    {
     "data": {
      "application/vnd.jupyter.widget-view+json": {
       "model_id": "e7c7269e88294b3ca67daa8df0e63aa4",
       "version_major": 2,
       "version_minor": 0
      },
      "text/plain": [
       "  0%|          | 0/4000 [00:00<?, ?it/s]"
      ]
     },
     "metadata": {},
     "output_type": "display_data"
    },
    {
     "data": {
      "application/vnd.jupyter.widget-view+json": {
       "model_id": "e59e6db287c14fd6afbde0c31d26d332",
       "version_major": 2,
       "version_minor": 0
      },
      "text/plain": [
       "  0%|          | 0/4000 [00:00<?, ?it/s]"
      ]
     },
     "metadata": {},
     "output_type": "display_data"
    },
    {
     "data": {
      "application/vnd.jupyter.widget-view+json": {
       "model_id": "ee91edfeb47d42b5a82249283150ab5a",
       "version_major": 2,
       "version_minor": 0
      },
      "text/plain": [
       "  0%|          | 0/4000 [00:00<?, ?it/s]"
      ]
     },
     "metadata": {},
     "output_type": "display_data"
    },
    {
     "data": {
      "application/vnd.jupyter.widget-view+json": {
       "model_id": "7774472464564e3a857b9175ac179538",
       "version_major": 2,
       "version_minor": 0
      },
      "text/plain": [
       "  0%|          | 0/4000 [00:00<?, ?it/s]"
      ]
     },
     "metadata": {},
     "output_type": "display_data"
    },
    {
     "data": {
      "application/vnd.jupyter.widget-view+json": {
       "model_id": "87f18ef45b954cc6985c6986f363cd4a",
       "version_major": 2,
       "version_minor": 0
      },
      "text/plain": [
       "  0%|          | 0/4000 [00:00<?, ?it/s]"
      ]
     },
     "metadata": {},
     "output_type": "display_data"
    },
    {
     "data": {
      "application/vnd.jupyter.widget-view+json": {
       "model_id": "540226fcca3c434592ed18688bba0a8f",
       "version_major": 2,
       "version_minor": 0
      },
      "text/plain": [
       "  0%|          | 0/4000 [00:00<?, ?it/s]"
      ]
     },
     "metadata": {},
     "output_type": "display_data"
    },
    {
     "data": {
      "application/vnd.jupyter.widget-view+json": {
       "model_id": "4f14b0c9b0a44c54a1f6769f14203bc2",
       "version_major": 2,
       "version_minor": 0
      },
      "text/plain": [
       "  0%|          | 0/4000 [00:00<?, ?it/s]"
      ]
     },
     "metadata": {},
     "output_type": "display_data"
    },
    {
     "data": {
      "application/vnd.jupyter.widget-view+json": {
       "model_id": "6b61f03ec770417daa9ca06069eef82e",
       "version_major": 2,
       "version_minor": 0
      },
      "text/plain": [
       "  0%|          | 0/4000 [00:00<?, ?it/s]"
      ]
     },
     "metadata": {},
     "output_type": "display_data"
    },
    {
     "data": {
      "application/vnd.jupyter.widget-view+json": {
       "model_id": "fce413259a524be88636d5ea63ac378d",
       "version_major": 2,
       "version_minor": 0
      },
      "text/plain": [
       "  0%|          | 0/4000 [00:00<?, ?it/s]"
      ]
     },
     "metadata": {},
     "output_type": "display_data"
    },
    {
     "data": {
      "application/vnd.jupyter.widget-view+json": {
       "model_id": "74205538ba4440bb972dfa271330ddc0",
       "version_major": 2,
       "version_minor": 0
      },
      "text/plain": [
       "  0%|          | 0/4000 [00:00<?, ?it/s]"
      ]
     },
     "metadata": {},
     "output_type": "display_data"
    },
    {
     "data": {
      "application/vnd.jupyter.widget-view+json": {
       "model_id": "7148575d9ac74411b1b22aa39f8f47a9",
       "version_major": 2,
       "version_minor": 0
      },
      "text/plain": [
       "  0%|          | 0/4000 [00:00<?, ?it/s]"
      ]
     },
     "metadata": {},
     "output_type": "display_data"
    },
    {
     "data": {
      "application/vnd.jupyter.widget-view+json": {
       "model_id": "0719575d8f1f42a6a5663e56e71e40c8",
       "version_major": 2,
       "version_minor": 0
      },
      "text/plain": [
       "  0%|          | 0/4000 [00:00<?, ?it/s]"
      ]
     },
     "metadata": {},
     "output_type": "display_data"
    },
    {
     "data": {
      "application/vnd.jupyter.widget-view+json": {
       "model_id": "4fd24e0045a6478297ff0e4b3ed8d173",
       "version_major": 2,
       "version_minor": 0
      },
      "text/plain": [
       "  0%|          | 0/4000 [00:00<?, ?it/s]"
      ]
     },
     "metadata": {},
     "output_type": "display_data"
    },
    {
     "data": {
      "application/vnd.jupyter.widget-view+json": {
       "model_id": "42de2f86589541a2bd716172e0212ba0",
       "version_major": 2,
       "version_minor": 0
      },
      "text/plain": [
       "  0%|          | 0/4000 [00:00<?, ?it/s]"
      ]
     },
     "metadata": {},
     "output_type": "display_data"
    },
    {
     "data": {
      "application/vnd.jupyter.widget-view+json": {
       "model_id": "2d58634d1d044c0ea4ba0e18e2dbefed",
       "version_major": 2,
       "version_minor": 0
      },
      "text/plain": [
       "  0%|          | 0/4000 [00:00<?, ?it/s]"
      ]
     },
     "metadata": {},
     "output_type": "display_data"
    },
    {
     "data": {
      "application/vnd.jupyter.widget-view+json": {
       "model_id": "39fdd0785a974d89baccf1c98fb9fc0e",
       "version_major": 2,
       "version_minor": 0
      },
      "text/plain": [
       "  0%|          | 0/4000 [00:00<?, ?it/s]"
      ]
     },
     "metadata": {},
     "output_type": "display_data"
    },
    {
     "data": {
      "application/vnd.jupyter.widget-view+json": {
       "model_id": "2ba9532f70464170bdbddf17461cd2db",
       "version_major": 2,
       "version_minor": 0
      },
      "text/plain": [
       "  0%|          | 0/4000 [00:00<?, ?it/s]"
      ]
     },
     "metadata": {},
     "output_type": "display_data"
    },
    {
     "data": {
      "application/vnd.jupyter.widget-view+json": {
       "model_id": "7acf8cc3ddd44e7eb3aa5c7e97dc1a81",
       "version_major": 2,
       "version_minor": 0
      },
      "text/plain": [
       "  0%|          | 0/4000 [00:00<?, ?it/s]"
      ]
     },
     "metadata": {},
     "output_type": "display_data"
    },
    {
     "data": {
      "application/vnd.jupyter.widget-view+json": {
       "model_id": "3ef28f17685c4a9faeef70abf0a3cbfd",
       "version_major": 2,
       "version_minor": 0
      },
      "text/plain": [
       "  0%|          | 0/4000 [00:00<?, ?it/s]"
      ]
     },
     "metadata": {},
     "output_type": "display_data"
    },
    {
     "data": {
      "application/vnd.jupyter.widget-view+json": {
       "model_id": "214d86ece5dc47308578c2104bac5ea2",
       "version_major": 2,
       "version_minor": 0
      },
      "text/plain": [
       "  0%|          | 0/4000 [00:00<?, ?it/s]"
      ]
     },
     "metadata": {},
     "output_type": "display_data"
    },
    {
     "data": {
      "application/vnd.jupyter.widget-view+json": {
       "model_id": "d15cb05fd16c4cdd8c648f698d171434",
       "version_major": 2,
       "version_minor": 0
      },
      "text/plain": [
       "  0%|          | 0/4000 [00:00<?, ?it/s]"
      ]
     },
     "metadata": {},
     "output_type": "display_data"
    },
    {
     "data": {
      "application/vnd.jupyter.widget-view+json": {
       "model_id": "680c5a9e0c5f4572a9c319fb873ba624",
       "version_major": 2,
       "version_minor": 0
      },
      "text/plain": [
       "  0%|          | 0/4000 [00:00<?, ?it/s]"
      ]
     },
     "metadata": {},
     "output_type": "display_data"
    },
    {
     "data": {
      "application/vnd.jupyter.widget-view+json": {
       "model_id": "55012608691f49a19fabe4ad8130c36b",
       "version_major": 2,
       "version_minor": 0
      },
      "text/plain": [
       "  0%|          | 0/4000 [00:00<?, ?it/s]"
      ]
     },
     "metadata": {},
     "output_type": "display_data"
    },
    {
     "data": {
      "application/vnd.jupyter.widget-view+json": {
       "model_id": "996f16e7e2a54ed0aeb01fa79dc299ad",
       "version_major": 2,
       "version_minor": 0
      },
      "text/plain": [
       "  0%|          | 0/4000 [00:00<?, ?it/s]"
      ]
     },
     "metadata": {},
     "output_type": "display_data"
    },
    {
     "data": {
      "application/vnd.jupyter.widget-view+json": {
       "model_id": "1540e0ba2937489196a2f2833c6605a0",
       "version_major": 2,
       "version_minor": 0
      },
      "text/plain": [
       "  0%|          | 0/4000 [00:00<?, ?it/s]"
      ]
     },
     "metadata": {},
     "output_type": "display_data"
    },
    {
     "data": {
      "application/vnd.jupyter.widget-view+json": {
       "model_id": "743681e58a87442891493e777d2f5940",
       "version_major": 2,
       "version_minor": 0
      },
      "text/plain": [
       "  0%|          | 0/4000 [00:00<?, ?it/s]"
      ]
     },
     "metadata": {},
     "output_type": "display_data"
    },
    {
     "data": {
      "application/vnd.jupyter.widget-view+json": {
       "model_id": "259366cdc4084031991fca4f74bd106d",
       "version_major": 2,
       "version_minor": 0
      },
      "text/plain": [
       "  0%|          | 0/4000 [00:00<?, ?it/s]"
      ]
     },
     "metadata": {},
     "output_type": "display_data"
    },
    {
     "data": {
      "application/vnd.jupyter.widget-view+json": {
       "model_id": "c16bdd27febd4605847b9b432d8ff291",
       "version_major": 2,
       "version_minor": 0
      },
      "text/plain": [
       "  0%|          | 0/4000 [00:00<?, ?it/s]"
      ]
     },
     "metadata": {},
     "output_type": "display_data"
    },
    {
     "data": {
      "application/vnd.jupyter.widget-view+json": {
       "model_id": "9bc2c10530684acf86628e05ff84514f",
       "version_major": 2,
       "version_minor": 0
      },
      "text/plain": [
       "  0%|          | 0/4000 [00:00<?, ?it/s]"
      ]
     },
     "metadata": {},
     "output_type": "display_data"
    },
    {
     "data": {
      "application/vnd.jupyter.widget-view+json": {
       "model_id": "04b0722de82d4a8f8556903beb5719e8",
       "version_major": 2,
       "version_minor": 0
      },
      "text/plain": [
       "  0%|          | 0/4000 [00:00<?, ?it/s]"
      ]
     },
     "metadata": {},
     "output_type": "display_data"
    },
    {
     "data": {
      "application/vnd.jupyter.widget-view+json": {
       "model_id": "f29617b148a841ae93bb127429ebb145",
       "version_major": 2,
       "version_minor": 0
      },
      "text/plain": [
       "  0%|          | 0/4000 [00:00<?, ?it/s]"
      ]
     },
     "metadata": {},
     "output_type": "display_data"
    },
    {
     "data": {
      "application/vnd.jupyter.widget-view+json": {
       "model_id": "d0fd74b283b04ae5ba462522554f0393",
       "version_major": 2,
       "version_minor": 0
      },
      "text/plain": [
       "  0%|          | 0/4000 [00:00<?, ?it/s]"
      ]
     },
     "metadata": {},
     "output_type": "display_data"
    },
    {
     "data": {
      "application/vnd.jupyter.widget-view+json": {
       "model_id": "8a09dcb5f2df458ba45b83403d4d08f3",
       "version_major": 2,
       "version_minor": 0
      },
      "text/plain": [
       "  0%|          | 0/4000 [00:00<?, ?it/s]"
      ]
     },
     "metadata": {},
     "output_type": "display_data"
    },
    {
     "data": {
      "application/vnd.jupyter.widget-view+json": {
       "model_id": "27a6e51a2de94a8ca76e8b92a44fab6c",
       "version_major": 2,
       "version_minor": 0
      },
      "text/plain": [
       "  0%|          | 0/4000 [00:00<?, ?it/s]"
      ]
     },
     "metadata": {},
     "output_type": "display_data"
    },
    {
     "data": {
      "application/vnd.jupyter.widget-view+json": {
       "model_id": "cb10951bcfaf47f5b9c45f3c3003f986",
       "version_major": 2,
       "version_minor": 0
      },
      "text/plain": [
       "  0%|          | 0/4000 [00:00<?, ?it/s]"
      ]
     },
     "metadata": {},
     "output_type": "display_data"
    },
    {
     "data": {
      "application/vnd.jupyter.widget-view+json": {
       "model_id": "12c7f6da0037464c9580a63ef82c0466",
       "version_major": 2,
       "version_minor": 0
      },
      "text/plain": [
       "  0%|          | 0/4000 [00:00<?, ?it/s]"
      ]
     },
     "metadata": {},
     "output_type": "display_data"
    },
    {
     "data": {
      "application/vnd.jupyter.widget-view+json": {
       "model_id": "bb55e73f3cff4f13b84182cffcd1ce3b",
       "version_major": 2,
       "version_minor": 0
      },
      "text/plain": [
       "  0%|          | 0/4000 [00:00<?, ?it/s]"
      ]
     },
     "metadata": {},
     "output_type": "display_data"
    },
    {
     "data": {
      "application/vnd.jupyter.widget-view+json": {
       "model_id": "96fb5776993644ad9b983146b549267f",
       "version_major": 2,
       "version_minor": 0
      },
      "text/plain": [
       "  0%|          | 0/4000 [00:00<?, ?it/s]"
      ]
     },
     "metadata": {},
     "output_type": "display_data"
    },
    {
     "data": {
      "application/vnd.jupyter.widget-view+json": {
       "model_id": "01c9605f567d4eb4b11de2d9ce791561",
       "version_major": 2,
       "version_minor": 0
      },
      "text/plain": [
       "  0%|          | 0/4000 [00:00<?, ?it/s]"
      ]
     },
     "metadata": {},
     "output_type": "display_data"
    },
    {
     "data": {
      "application/vnd.jupyter.widget-view+json": {
       "model_id": "39cb0bd7c6894b6ea84a7e37f2af4a3c",
       "version_major": 2,
       "version_minor": 0
      },
      "text/plain": [
       "  0%|          | 0/4000 [00:00<?, ?it/s]"
      ]
     },
     "metadata": {},
     "output_type": "display_data"
    },
    {
     "data": {
      "application/vnd.jupyter.widget-view+json": {
       "model_id": "7477c9fe4780455b82892f66f9fe26d5",
       "version_major": 2,
       "version_minor": 0
      },
      "text/plain": [
       "  0%|          | 0/4000 [00:00<?, ?it/s]"
      ]
     },
     "metadata": {},
     "output_type": "display_data"
    },
    {
     "data": {
      "application/vnd.jupyter.widget-view+json": {
       "model_id": "4219fd60f4fe4174be083cba16ee7c4e",
       "version_major": 2,
       "version_minor": 0
      },
      "text/plain": [
       "  0%|          | 0/4000 [00:00<?, ?it/s]"
      ]
     },
     "metadata": {},
     "output_type": "display_data"
    },
    {
     "data": {
      "application/vnd.jupyter.widget-view+json": {
       "model_id": "808ddaeae56a4ef889b8eb3746ace419",
       "version_major": 2,
       "version_minor": 0
      },
      "text/plain": [
       "  0%|          | 0/4000 [00:00<?, ?it/s]"
      ]
     },
     "metadata": {},
     "output_type": "display_data"
    },
    {
     "data": {
      "application/vnd.jupyter.widget-view+json": {
       "model_id": "5501d58a36c24baabf7f662fcfc924a4",
       "version_major": 2,
       "version_minor": 0
      },
      "text/plain": [
       "  0%|          | 0/4000 [00:00<?, ?it/s]"
      ]
     },
     "metadata": {},
     "output_type": "display_data"
    },
    {
     "data": {
      "application/vnd.jupyter.widget-view+json": {
       "model_id": "ebe087126d7c4afb8addee46b269aa56",
       "version_major": 2,
       "version_minor": 0
      },
      "text/plain": [
       "  0%|          | 0/4000 [00:00<?, ?it/s]"
      ]
     },
     "metadata": {},
     "output_type": "display_data"
    },
    {
     "data": {
      "application/vnd.jupyter.widget-view+json": {
       "model_id": "5e03eeff43bc41888f76884de33093fb",
       "version_major": 2,
       "version_minor": 0
      },
      "text/plain": [
       "  0%|          | 0/4000 [00:00<?, ?it/s]"
      ]
     },
     "metadata": {},
     "output_type": "display_data"
    },
    {
     "data": {
      "application/vnd.jupyter.widget-view+json": {
       "model_id": "6a2bd0b16084493e88b32dad78262e21",
       "version_major": 2,
       "version_minor": 0
      },
      "text/plain": [
       "  0%|          | 0/4000 [00:00<?, ?it/s]"
      ]
     },
     "metadata": {},
     "output_type": "display_data"
    },
    {
     "data": {
      "application/vnd.jupyter.widget-view+json": {
       "model_id": "4b027336245a47e99c66e3a3d1a2a3f1",
       "version_major": 2,
       "version_minor": 0
      },
      "text/plain": [
       "  0%|          | 0/4000 [00:00<?, ?it/s]"
      ]
     },
     "metadata": {},
     "output_type": "display_data"
    },
    {
     "data": {
      "application/vnd.jupyter.widget-view+json": {
       "model_id": "5337bb05a8bc4770aec29f9e0b0c378b",
       "version_major": 2,
       "version_minor": 0
      },
      "text/plain": [
       "  0%|          | 0/4000 [00:00<?, ?it/s]"
      ]
     },
     "metadata": {},
     "output_type": "display_data"
    },
    {
     "data": {
      "application/vnd.jupyter.widget-view+json": {
       "model_id": "4308c0362a5444fbacea2aab65be4590",
       "version_major": 2,
       "version_minor": 0
      },
      "text/plain": [
       "  0%|          | 0/4000 [00:00<?, ?it/s]"
      ]
     },
     "metadata": {},
     "output_type": "display_data"
    },
    {
     "data": {
      "application/vnd.jupyter.widget-view+json": {
       "model_id": "448c564f2875466980fb4e36bc444d7a",
       "version_major": 2,
       "version_minor": 0
      },
      "text/plain": [
       "  0%|          | 0/4000 [00:00<?, ?it/s]"
      ]
     },
     "metadata": {},
     "output_type": "display_data"
    },
    {
     "data": {
      "application/vnd.jupyter.widget-view+json": {
       "model_id": "a4ec90516a1e45efa6eb404e3bc20d98",
       "version_major": 2,
       "version_minor": 0
      },
      "text/plain": [
       "  0%|          | 0/4000 [00:00<?, ?it/s]"
      ]
     },
     "metadata": {},
     "output_type": "display_data"
    },
    {
     "data": {
      "application/vnd.jupyter.widget-view+json": {
       "model_id": "0094561b7ebf405dab198386f6f85612",
       "version_major": 2,
       "version_minor": 0
      },
      "text/plain": [
       "  0%|          | 0/4000 [00:00<?, ?it/s]"
      ]
     },
     "metadata": {},
     "output_type": "display_data"
    },
    {
     "data": {
      "application/vnd.jupyter.widget-view+json": {
       "model_id": "9070661f6d44428bb3bb5b6156b94684",
       "version_major": 2,
       "version_minor": 0
      },
      "text/plain": [
       "  0%|          | 0/4000 [00:00<?, ?it/s]"
      ]
     },
     "metadata": {},
     "output_type": "display_data"
    }
   ],
   "source": [
    "from tqdm.notebook import tqdm\n",
    "import embedders\n",
    "import pandas as pd\n",
    "\n",
    "N_SAMPLES = 10\n",
    "DEVICE = \"cuda\"\n",
    "DOWNSAMPLE = 1_000\n",
    "\n",
    "my_tqdm = tqdm(total=5 * N_SAMPLES)\n",
    "\n",
    "results = []\n",
    "for dataset, signature, objective in zip(\n",
    "    [\"landmasses\", \"neuron_33\", \"neuron_46\", \"temperature\", \"traffic\"],\n",
    "    [[(1, 2)], [(1, 1)] * 20, [(1, 1)] * 20, [(1, 2), (1, 1)], [(0, 1)] + [(1, 1)] * 4],\n",
    "    [\"classification\", \"classification\", \"classification\", \"regression\", \"regression\"],\n",
    "):\n",
    "    score = [\"f1-micro\", \"accuracy\"] if objective == \"classification\" else [\"rmse\"]\n",
    "    pm = embedders.manifolds.ProductManifold(signature=signature, device=DEVICE)\n",
    "\n",
    "    for seed in range(N_SAMPLES):\n",
    "        try:\n",
    "            X, y, _ = embedders.dataloaders.load(dataset, seed=seed)\n",
    "            # Resample\n",
    "            if len(X) > DOWNSAMPLE:\n",
    "                random_sample = np.random.choice(X.shape[0], DOWNSAMPLE, replace=False)\n",
    "                X = X[random_sample]\n",
    "                y = y[random_sample]\n",
    "            model_results = embedders.benchmarks.benchmark(\n",
    "                X=X,\n",
    "                y=y,\n",
    "                pm=pm,\n",
    "                # max_depth=MAX_DEPTH,\n",
    "                # n_features=N_FEATURES,\n",
    "                seed=seed,\n",
    "                # device=device,\n",
    "                # models=MODELS,\n",
    "                task=objective,\n",
    "                score=score,\n",
    "                device=DEVICE\n",
    "            )\n",
    "\n",
    "            # Create a flat dictionary for this run\n",
    "            run_results = {\"dataset\": dataset, \"seed\": 0}\n",
    "\n",
    "            # # Flatten the nested model results\n",
    "            # for model, metrics in model_results.items():\n",
    "            #     for metric, value in metrics.items():\n",
    "            #         run_results[f\"{model}_{metric}\"] = value\n",
    "\n",
    "            results.append(run_results)\n",
    "        except Exception as e:\n",
    "            print(f\"Error: {e}\")\n",
    "        my_tqdm.update(1)\n",
    "\n",
    "results = pd.DataFrame(results)\n",
    "results.to_csv(f\"../data/results_icml/all_nn_empirical.tsv\", sep=\"\\t\", index=False)"
   ]
  },
  {
   "cell_type": "markdown",
   "metadata": {},
   "source": [
    "# Link prediction"
   ]
  },
  {
   "cell_type": "code",
   "execution_count": 5,
   "metadata": {},
   "outputs": [],
   "source": [
    "# Special function to split dataset while ensuring pairs are in the same split\n",
    "from sklearn.model_selection import train_test_split\n",
    "\n",
    "\n",
    "def split_dataset(X, y, **kwargs):\n",
    "    n_pairs, n_dims = X.shape\n",
    "    n_nodes = int(n_pairs**0.5)\n",
    "\n",
    "    # Reshape\n",
    "    X_reshaped = X.view(n_nodes, n_nodes, -1)\n",
    "    y_reshaped = y.view(n_nodes, n_nodes)\n",
    "\n",
    "    # Take 20% Of the nodes as test nodes\n",
    "    idx = list(range(n_nodes))\n",
    "    idx_train, idx_test = train_test_split(idx, **kwargs)\n",
    "\n",
    "    # Return test and train sets\n",
    "    X_train = X_reshaped[idx_train][:, idx_train].reshape(-1, n_dims)\n",
    "    y_train = y_reshaped[idx_train][:, idx_train].reshape(-1)\n",
    "\n",
    "    X_test = X_reshaped[idx_test][:, idx_test].reshape(-1, n_dims)\n",
    "    y_test = y_reshaped[idx_test][:, idx_test].reshape(-1)\n",
    "\n",
    "    return X_train, X_test, y_train, y_test"
   ]
  },
  {
   "cell_type": "code",
   "execution_count": null,
   "metadata": {},
   "outputs": [
    {
     "data": {
      "application/vnd.jupyter.widget-view+json": {
       "model_id": "f4e4b0db6db3486e9cf3b9a1f7811d57",
       "version_major": 2,
       "version_minor": 0
      },
      "text/plain": [
       "  0%|          | 0/60 [00:00<?, ?it/s]"
      ]
     },
     "metadata": {},
     "output_type": "display_data"
    },
    {
     "name": "stdout",
     "output_type": "stream",
     "text": [
      "Top CC has 112 nodes; original graph has 112 nodes.\n"
     ]
    },
    {
     "data": {
      "application/vnd.jupyter.widget-view+json": {
       "model_id": "a5c01192ef98414f8a2e0266b80f1285",
       "version_major": 2,
       "version_minor": 0
      },
      "text/plain": [
       "  0%|          | 0/1000 [00:00<?, ?it/s]"
      ]
     },
     "metadata": {},
     "output_type": "display_data"
    },
    {
     "data": {
      "application/vnd.jupyter.widget-view+json": {
       "model_id": "4b0ce7fc48a844d386546711658ac1d4",
       "version_major": 2,
       "version_minor": 0
      },
      "text/plain": [
       "  0%|          | 0/1000 [00:00<?, ?it/s]"
      ]
     },
     "metadata": {},
     "output_type": "display_data"
    },
    {
     "data": {
      "application/vnd.jupyter.widget-view+json": {
       "model_id": "9e734992f4fa4c53a28588f7f2cba3d8",
       "version_major": 2,
       "version_minor": 0
      },
      "text/plain": [
       "  0%|          | 0/1000 [00:00<?, ?it/s]"
      ]
     },
     "metadata": {},
     "output_type": "display_data"
    },
    {
     "data": {
      "application/vnd.jupyter.widget-view+json": {
       "model_id": "0f0134c332464a3b94d9256e598bf945",
       "version_major": 2,
       "version_minor": 0
      },
      "text/plain": [
       "  0%|          | 0/1000 [00:00<?, ?it/s]"
      ]
     },
     "metadata": {},
     "output_type": "display_data"
    },
    {
     "data": {
      "application/vnd.jupyter.widget-view+json": {
       "model_id": "5a54fd1ea20a484bbab2a29ccd648649",
       "version_major": 2,
       "version_minor": 0
      },
      "text/plain": [
       "  0%|          | 0/1000 [00:00<?, ?it/s]"
      ]
     },
     "metadata": {},
     "output_type": "display_data"
    },
    {
     "data": {
      "application/vnd.jupyter.widget-view+json": {
       "model_id": "63459822cda34fd3a1abfb85045633a9",
       "version_major": 2,
       "version_minor": 0
      },
      "text/plain": [
       "  0%|          | 0/1000 [00:00<?, ?it/s]"
      ]
     },
     "metadata": {},
     "output_type": "display_data"
    },
    {
     "data": {
      "application/vnd.jupyter.widget-view+json": {
       "model_id": "e4725fe82cf5435d82dda2c87c637c41",
       "version_major": 2,
       "version_minor": 0
      },
      "text/plain": [
       "  0%|          | 0/1000 [00:00<?, ?it/s]"
      ]
     },
     "metadata": {},
     "output_type": "display_data"
    },
    {
     "data": {
      "application/vnd.jupyter.widget-view+json": {
       "model_id": "9ee0ae88b6004010bb1905138a150ea6",
       "version_major": 2,
       "version_minor": 0
      },
      "text/plain": [
       "  0%|          | 0/1000 [00:00<?, ?it/s]"
      ]
     },
     "metadata": {},
     "output_type": "display_data"
    },
    {
     "data": {
      "application/vnd.jupyter.widget-view+json": {
       "model_id": "255e3bcee068479380156ccec325947a",
       "version_major": 2,
       "version_minor": 0
      },
      "text/plain": [
       "  0%|          | 0/1000 [00:00<?, ?it/s]"
      ]
     },
     "metadata": {},
     "output_type": "display_data"
    },
    {
     "data": {
      "application/vnd.jupyter.widget-view+json": {
       "model_id": "5a0057387fcd40d9ac36778d9f6152e8",
       "version_major": 2,
       "version_minor": 0
      },
      "text/plain": [
       "  0%|          | 0/1000 [00:00<?, ?it/s]"
      ]
     },
     "metadata": {},
     "output_type": "display_data"
    },
    {
     "name": "stdout",
     "output_type": "stream",
     "text": [
      "Top CC has 62 nodes; original graph has 62 nodes.\n"
     ]
    },
    {
     "data": {
      "application/vnd.jupyter.widget-view+json": {
       "model_id": "40dea0f56f6f4429a9427eb7aab282ca",
       "version_major": 2,
       "version_minor": 0
      },
      "text/plain": [
       "  0%|          | 0/1000 [00:00<?, ?it/s]"
      ]
     },
     "metadata": {},
     "output_type": "display_data"
    },
    {
     "data": {
      "application/vnd.jupyter.widget-view+json": {
       "model_id": "be0d5ad19f2047a0a26070a97d82baf0",
       "version_major": 2,
       "version_minor": 0
      },
      "text/plain": [
       "  0%|          | 0/1000 [00:00<?, ?it/s]"
      ]
     },
     "metadata": {},
     "output_type": "display_data"
    },
    {
     "data": {
      "application/vnd.jupyter.widget-view+json": {
       "model_id": "38f57e084a6c4e74acf16d6df215664d",
       "version_major": 2,
       "version_minor": 0
      },
      "text/plain": [
       "  0%|          | 0/1000 [00:00<?, ?it/s]"
      ]
     },
     "metadata": {},
     "output_type": "display_data"
    },
    {
     "data": {
      "application/vnd.jupyter.widget-view+json": {
       "model_id": "72ad1ad9637640a88ffee2ba77e48556",
       "version_major": 2,
       "version_minor": 0
      },
      "text/plain": [
       "  0%|          | 0/1000 [00:00<?, ?it/s]"
      ]
     },
     "metadata": {},
     "output_type": "display_data"
    },
    {
     "data": {
      "application/vnd.jupyter.widget-view+json": {
       "model_id": "5f43f0d37dc64f618f5e2296dabd89bf",
       "version_major": 2,
       "version_minor": 0
      },
      "text/plain": [
       "  0%|          | 0/1000 [00:00<?, ?it/s]"
      ]
     },
     "metadata": {},
     "output_type": "display_data"
    },
    {
     "data": {
      "application/vnd.jupyter.widget-view+json": {
       "model_id": "4b0ca50a67d44d94b7311b71acafbca5",
       "version_major": 2,
       "version_minor": 0
      },
      "text/plain": [
       "  0%|          | 0/1000 [00:00<?, ?it/s]"
      ]
     },
     "metadata": {},
     "output_type": "display_data"
    },
    {
     "data": {
      "application/vnd.jupyter.widget-view+json": {
       "model_id": "d12e2f71786244869be71a3c8eab8d91",
       "version_major": 2,
       "version_minor": 0
      },
      "text/plain": [
       "  0%|          | 0/1000 [00:00<?, ?it/s]"
      ]
     },
     "metadata": {},
     "output_type": "display_data"
    },
    {
     "data": {
      "application/vnd.jupyter.widget-view+json": {
       "model_id": "c3bc3a9ca4ae4ca798357d2438e057ad",
       "version_major": 2,
       "version_minor": 0
      },
      "text/plain": [
       "  0%|          | 0/1000 [00:00<?, ?it/s]"
      ]
     },
     "metadata": {},
     "output_type": "display_data"
    },
    {
     "data": {
      "application/vnd.jupyter.widget-view+json": {
       "model_id": "f335f310dafc419da4131e9a35335c90",
       "version_major": 2,
       "version_minor": 0
      },
      "text/plain": [
       "  0%|          | 0/1000 [00:00<?, ?it/s]"
      ]
     },
     "metadata": {},
     "output_type": "display_data"
    },
    {
     "data": {
      "application/vnd.jupyter.widget-view+json": {
       "model_id": "2b0e9c3d403041cdad3011dc5bb2ce66",
       "version_major": 2,
       "version_minor": 0
      },
      "text/plain": [
       "  0%|          | 0/1000 [00:00<?, ?it/s]"
      ]
     },
     "metadata": {},
     "output_type": "display_data"
    },
    {
     "name": "stdout",
     "output_type": "stream",
     "text": [
      "Top CC has 35 nodes; original graph has 35 nodes.\n"
     ]
    },
    {
     "data": {
      "application/vnd.jupyter.widget-view+json": {
       "model_id": "394fd88e932a48b2a127af754123b612",
       "version_major": 2,
       "version_minor": 0
      },
      "text/plain": [
       "  0%|          | 0/1000 [00:00<?, ?it/s]"
      ]
     },
     "metadata": {},
     "output_type": "display_data"
    },
    {
     "data": {
      "application/vnd.jupyter.widget-view+json": {
       "model_id": "6f22dac4a5d044c1971c6cc6e488c18e",
       "version_major": 2,
       "version_minor": 0
      },
      "text/plain": [
       "  0%|          | 0/1000 [00:00<?, ?it/s]"
      ]
     },
     "metadata": {},
     "output_type": "display_data"
    },
    {
     "data": {
      "application/vnd.jupyter.widget-view+json": {
       "model_id": "a9de21bb310c4637a10fbe377cf6b93a",
       "version_major": 2,
       "version_minor": 0
      },
      "text/plain": [
       "  0%|          | 0/1000 [00:00<?, ?it/s]"
      ]
     },
     "metadata": {},
     "output_type": "display_data"
    },
    {
     "data": {
      "application/vnd.jupyter.widget-view+json": {
       "model_id": "b0ac484f28b945d79b0767497a35d3f5",
       "version_major": 2,
       "version_minor": 0
      },
      "text/plain": [
       "  0%|          | 0/1000 [00:00<?, ?it/s]"
      ]
     },
     "metadata": {},
     "output_type": "display_data"
    },
    {
     "data": {
      "application/vnd.jupyter.widget-view+json": {
       "model_id": "21a8a62ed9774c0bbbe2df045943bd71",
       "version_major": 2,
       "version_minor": 0
      },
      "text/plain": [
       "  0%|          | 0/1000 [00:00<?, ?it/s]"
      ]
     },
     "metadata": {},
     "output_type": "display_data"
    },
    {
     "data": {
      "application/vnd.jupyter.widget-view+json": {
       "model_id": "0d037c87d7004cce93b353d3568692b1",
       "version_major": 2,
       "version_minor": 0
      },
      "text/plain": [
       "  0%|          | 0/1000 [00:00<?, ?it/s]"
      ]
     },
     "metadata": {},
     "output_type": "display_data"
    },
    {
     "data": {
      "application/vnd.jupyter.widget-view+json": {
       "model_id": "0ca1ec62387c407b875b4d3d278800bd",
       "version_major": 2,
       "version_minor": 0
      },
      "text/plain": [
       "  0%|          | 0/1000 [00:00<?, ?it/s]"
      ]
     },
     "metadata": {},
     "output_type": "display_data"
    },
    {
     "data": {
      "application/vnd.jupyter.widget-view+json": {
       "model_id": "c3af5f549aee41c0b12c88768f75e8bf",
       "version_major": 2,
       "version_minor": 0
      },
      "text/plain": [
       "  0%|          | 0/1000 [00:00<?, ?it/s]"
      ]
     },
     "metadata": {},
     "output_type": "display_data"
    },
    {
     "data": {
      "application/vnd.jupyter.widget-view+json": {
       "model_id": "ad82b81bbc854ef7b5f872c397d67379",
       "version_major": 2,
       "version_minor": 0
      },
      "text/plain": [
       "  0%|          | 0/1000 [00:00<?, ?it/s]"
      ]
     },
     "metadata": {},
     "output_type": "display_data"
    },
    {
     "data": {
      "application/vnd.jupyter.widget-view+json": {
       "model_id": "7dfb195225b447b982393805d2774cf9",
       "version_major": 2,
       "version_minor": 0
      },
      "text/plain": [
       "  0%|          | 0/1000 [00:00<?, ?it/s]"
      ]
     },
     "metadata": {},
     "output_type": "display_data"
    },
    {
     "name": "stdout",
     "output_type": "stream",
     "text": [
      "Top CC has 34 nodes; original graph has 34 nodes.\n"
     ]
    },
    {
     "data": {
      "application/vnd.jupyter.widget-view+json": {
       "model_id": "ead494394740437f9420c3a544c9cfaa",
       "version_major": 2,
       "version_minor": 0
      },
      "text/plain": [
       "  0%|          | 0/1000 [00:00<?, ?it/s]"
      ]
     },
     "metadata": {},
     "output_type": "display_data"
    },
    {
     "data": {
      "application/vnd.jupyter.widget-view+json": {
       "model_id": "8c4fb2f6b4304a0ea2bd9d4d26aec368",
       "version_major": 2,
       "version_minor": 0
      },
      "text/plain": [
       "  0%|          | 0/1000 [00:00<?, ?it/s]"
      ]
     },
     "metadata": {},
     "output_type": "display_data"
    },
    {
     "data": {
      "application/vnd.jupyter.widget-view+json": {
       "model_id": "639018d708ec44f686dc5f971537b914",
       "version_major": 2,
       "version_minor": 0
      },
      "text/plain": [
       "  0%|          | 0/1000 [00:00<?, ?it/s]"
      ]
     },
     "metadata": {},
     "output_type": "display_data"
    },
    {
     "data": {
      "application/vnd.jupyter.widget-view+json": {
       "model_id": "54185211db6c444c96df454fb0117fea",
       "version_major": 2,
       "version_minor": 0
      },
      "text/plain": [
       "  0%|          | 0/1000 [00:00<?, ?it/s]"
      ]
     },
     "metadata": {},
     "output_type": "display_data"
    },
    {
     "data": {
      "application/vnd.jupyter.widget-view+json": {
       "model_id": "49977b7cfa444cf3a27b114953e3ebca",
       "version_major": 2,
       "version_minor": 0
      },
      "text/plain": [
       "  0%|          | 0/1000 [00:00<?, ?it/s]"
      ]
     },
     "metadata": {},
     "output_type": "display_data"
    },
    {
     "data": {
      "application/vnd.jupyter.widget-view+json": {
       "model_id": "e4f1b51055e049d0860fa16811cd7a98",
       "version_major": 2,
       "version_minor": 0
      },
      "text/plain": [
       "  0%|          | 0/1000 [00:00<?, ?it/s]"
      ]
     },
     "metadata": {},
     "output_type": "display_data"
    },
    {
     "data": {
      "application/vnd.jupyter.widget-view+json": {
       "model_id": "aa24c689298840beb3096aa28a796ef1",
       "version_major": 2,
       "version_minor": 0
      },
      "text/plain": [
       "  0%|          | 0/1000 [00:00<?, ?it/s]"
      ]
     },
     "metadata": {},
     "output_type": "display_data"
    },
    {
     "data": {
      "application/vnd.jupyter.widget-view+json": {
       "model_id": "35188afc477a419c8982ac04b1a5efef",
       "version_major": 2,
       "version_minor": 0
      },
      "text/plain": [
       "  0%|          | 0/1000 [00:00<?, ?it/s]"
      ]
     },
     "metadata": {},
     "output_type": "display_data"
    },
    {
     "data": {
      "application/vnd.jupyter.widget-view+json": {
       "model_id": "ad9ced048f0844699788f06ae713ae06",
       "version_major": 2,
       "version_minor": 0
      },
      "text/plain": [
       "  0%|          | 0/1000 [00:00<?, ?it/s]"
      ]
     },
     "metadata": {},
     "output_type": "display_data"
    },
    {
     "data": {
      "application/vnd.jupyter.widget-view+json": {
       "model_id": "cc83dfa8b022403b85b1a7aa5a1dbd45",
       "version_major": 2,
       "version_minor": 0
      },
      "text/plain": [
       "  0%|          | 0/1000 [00:00<?, ?it/s]"
      ]
     },
     "metadata": {},
     "output_type": "display_data"
    },
    {
     "name": "stdout",
     "output_type": "stream",
     "text": [
      "Top CC has 77 nodes; original graph has 77 nodes.\n"
     ]
    },
    {
     "data": {
      "application/vnd.jupyter.widget-view+json": {
       "model_id": "5c90b4e7f73c43088350a1a1de9dd63b",
       "version_major": 2,
       "version_minor": 0
      },
      "text/plain": [
       "  0%|          | 0/1000 [00:00<?, ?it/s]"
      ]
     },
     "metadata": {},
     "output_type": "display_data"
    },
    {
     "data": {
      "application/vnd.jupyter.widget-view+json": {
       "model_id": "77619acac2ff48b18ee9a58e3cdcbb37",
       "version_major": 2,
       "version_minor": 0
      },
      "text/plain": [
       "  0%|          | 0/1000 [00:00<?, ?it/s]"
      ]
     },
     "metadata": {},
     "output_type": "display_data"
    },
    {
     "data": {
      "application/vnd.jupyter.widget-view+json": {
       "model_id": "05d10d96a5b444e487c5247d09c33bb4",
       "version_major": 2,
       "version_minor": 0
      },
      "text/plain": [
       "  0%|          | 0/1000 [00:00<?, ?it/s]"
      ]
     },
     "metadata": {},
     "output_type": "display_data"
    },
    {
     "data": {
      "application/vnd.jupyter.widget-view+json": {
       "model_id": "e93dddfd378344b8870cc0f004b8b4c1",
       "version_major": 2,
       "version_minor": 0
      },
      "text/plain": [
       "  0%|          | 0/1000 [00:00<?, ?it/s]"
      ]
     },
     "metadata": {},
     "output_type": "display_data"
    },
    {
     "data": {
      "application/vnd.jupyter.widget-view+json": {
       "model_id": "974400f108f7490e8f8473d0e174854b",
       "version_major": 2,
       "version_minor": 0
      },
      "text/plain": [
       "  0%|          | 0/1000 [00:00<?, ?it/s]"
      ]
     },
     "metadata": {},
     "output_type": "display_data"
    },
    {
     "data": {
      "application/vnd.jupyter.widget-view+json": {
       "model_id": "9ded6e6afe5842bc8ced0e645f29edd6",
       "version_major": 2,
       "version_minor": 0
      },
      "text/plain": [
       "  0%|          | 0/1000 [00:00<?, ?it/s]"
      ]
     },
     "metadata": {},
     "output_type": "display_data"
    },
    {
     "data": {
      "application/vnd.jupyter.widget-view+json": {
       "model_id": "69ef3b880e0a443393e0d8be2a754b65",
       "version_major": 2,
       "version_minor": 0
      },
      "text/plain": [
       "  0%|          | 0/1000 [00:00<?, ?it/s]"
      ]
     },
     "metadata": {},
     "output_type": "display_data"
    },
    {
     "data": {
      "application/vnd.jupyter.widget-view+json": {
       "model_id": "45e8be357fd2413d93f5934b318d4245",
       "version_major": 2,
       "version_minor": 0
      },
      "text/plain": [
       "  0%|          | 0/1000 [00:00<?, ?it/s]"
      ]
     },
     "metadata": {},
     "output_type": "display_data"
    },
    {
     "data": {
      "application/vnd.jupyter.widget-view+json": {
       "model_id": "6a0443fdbd8d481881412d30a0619b7d",
       "version_major": 2,
       "version_minor": 0
      },
      "text/plain": [
       "  0%|          | 0/1000 [00:00<?, ?it/s]"
      ]
     },
     "metadata": {},
     "output_type": "display_data"
    },
    {
     "data": {
      "application/vnd.jupyter.widget-view+json": {
       "model_id": "bc131a8091bc42e693a10cf3b4d7f1d1",
       "version_major": 2,
       "version_minor": 0
      },
      "text/plain": [
       "  0%|          | 0/1000 [00:00<?, ?it/s]"
      ]
     },
     "metadata": {},
     "output_type": "display_data"
    },
    {
     "name": "stdout",
     "output_type": "stream",
     "text": [
      "Top CC has 105 nodes; original graph has 105 nodes.\n"
     ]
    },
    {
     "data": {
      "application/vnd.jupyter.widget-view+json": {
       "model_id": "a6f204f263d74e01a4c23bbf4fe0a497",
       "version_major": 2,
       "version_minor": 0
      },
      "text/plain": [
       "  0%|          | 0/1000 [00:00<?, ?it/s]"
      ]
     },
     "metadata": {},
     "output_type": "display_data"
    },
    {
     "data": {
      "application/vnd.jupyter.widget-view+json": {
       "model_id": "112f5890ca1940009922d6d05800788b",
       "version_major": 2,
       "version_minor": 0
      },
      "text/plain": [
       "  0%|          | 0/1000 [00:00<?, ?it/s]"
      ]
     },
     "metadata": {},
     "output_type": "display_data"
    },
    {
     "data": {
      "application/vnd.jupyter.widget-view+json": {
       "model_id": "46331757c8a249268f7b1437b3faaffd",
       "version_major": 2,
       "version_minor": 0
      },
      "text/plain": [
       "  0%|          | 0/1000 [00:00<?, ?it/s]"
      ]
     },
     "metadata": {},
     "output_type": "display_data"
    },
    {
     "data": {
      "application/vnd.jupyter.widget-view+json": {
       "model_id": "f10b473154bb44cfa8f78719211b001c",
       "version_major": 2,
       "version_minor": 0
      },
      "text/plain": [
       "  0%|          | 0/1000 [00:00<?, ?it/s]"
      ]
     },
     "metadata": {},
     "output_type": "display_data"
    },
    {
     "data": {
      "application/vnd.jupyter.widget-view+json": {
       "model_id": "dda21cb9374c407f9ffd0069dbfade8b",
       "version_major": 2,
       "version_minor": 0
      },
      "text/plain": [
       "  0%|          | 0/1000 [00:00<?, ?it/s]"
      ]
     },
     "metadata": {},
     "output_type": "display_data"
    },
    {
     "data": {
      "application/vnd.jupyter.widget-view+json": {
       "model_id": "835aeee906f24caaadf3e342f44420ce",
       "version_major": 2,
       "version_minor": 0
      },
      "text/plain": [
       "  0%|          | 0/1000 [00:00<?, ?it/s]"
      ]
     },
     "metadata": {},
     "output_type": "display_data"
    },
    {
     "data": {
      "application/vnd.jupyter.widget-view+json": {
       "model_id": "b49fcee33bd94766b74b4e5e27f6ff6e",
       "version_major": 2,
       "version_minor": 0
      },
      "text/plain": [
       "  0%|          | 0/1000 [00:00<?, ?it/s]"
      ]
     },
     "metadata": {},
     "output_type": "display_data"
    },
    {
     "data": {
      "application/vnd.jupyter.widget-view+json": {
       "model_id": "483cd0112214431180f1484fcf3f217e",
       "version_major": 2,
       "version_minor": 0
      },
      "text/plain": [
       "  0%|          | 0/1000 [00:00<?, ?it/s]"
      ]
     },
     "metadata": {},
     "output_type": "display_data"
    },
    {
     "data": {
      "application/vnd.jupyter.widget-view+json": {
       "model_id": "f1d9cadb80cd437797c8b454ec33be5c",
       "version_major": 2,
       "version_minor": 0
      },
      "text/plain": [
       "  0%|          | 0/1000 [00:00<?, ?it/s]"
      ]
     },
     "metadata": {},
     "output_type": "display_data"
    },
    {
     "data": {
      "application/vnd.jupyter.widget-view+json": {
       "model_id": "322ffae014c341959ed5c04afb3b5621",
       "version_major": 2,
       "version_minor": 0
      },
      "text/plain": [
       "  0%|          | 0/1000 [00:00<?, ?it/s]"
      ]
     },
     "metadata": {},
     "output_type": "display_data"
    }
   ],
   "source": [
    "# Karate club\n",
    "USE_DISTS = True\n",
    "SIGNATURE = [(1, 2), (0, 2), (-1, 2)]\n",
    "TOTAL_ITERATIONS = 1_000\n",
    "\n",
    "results = []\n",
    "my_tqdm = tqdm(total=N_SAMPLES * 6)\n",
    "\n",
    "for dataset in [\"adjnoun\", \"dolphins\", \"football\", \"karate_club\", \"lesmis\", \"polbooks\"]:\n",
    "    dists, labels, adj = embedders.dataloaders.load(dataset)\n",
    "    dists = dists / dists.max()\n",
    "\n",
    "    results_dataset = []\n",
    "    i = -1\n",
    "    while len(results_dataset) < N_SAMPLES:\n",
    "        i += 1\n",
    "        pm = embedders.manifolds.ProductManifold(signature=SIGNATURE)\n",
    "        try:\n",
    "            X_embed, losses = embedders.coordinate_learning.train_coords(\n",
    "                pm,\n",
    "                dists,\n",
    "                burn_in_iterations=int(0.1 * TOTAL_ITERATIONS),\n",
    "                training_iterations=int(0.9 * TOTAL_ITERATIONS),\n",
    "                scale_factor_learning_rate=0.02,\n",
    "            )\n",
    "            assert not torch.isnan(X_embed).any()\n",
    "\n",
    "            X, y, pm_new = embedders.link_prediction.make_link_prediction_dataset(X_embed, pm, adj, add_dists=USE_DISTS)\n",
    "            X = X.to(device).detach()\n",
    "            y = y.to(device).detach()\n",
    "            X_train, X_test, y_train, y_test = split_dataset(X, y, test_size=0.2, random_state=i)\n",
    "            if len(X_train) > DOWNSAMPLE:\n",
    "                idx = np.random.choice(X_train.shape[0], DOWNSAMPLE, replace=False)\n",
    "                X_train = X_train[idx]\n",
    "                y_train = y_train[idx]\n",
    "            if len(X_test) > DOWNSAMPLE:\n",
    "                idx = np.random.choice(X_test.shape[0], DOWNSAMPLE, replace=False)\n",
    "                X_test = X_test[idx]\n",
    "                y_test = y_test[idx]\n",
    "\n",
    "            model_results = embedders.benchmarks.benchmark(\n",
    "                X=None,\n",
    "                y=None,\n",
    "                X_train=X_train,\n",
    "                X_test=X_test,\n",
    "                y_train=y_train,\n",
    "                y_test=y_test,\n",
    "                pm=pm_new,\n",
    "                max_depth=MAX_DEPTH,\n",
    "                task=\"classification\",\n",
    "                n_features=N_FEATURES,\n",
    "                models=MODELS,\n",
    "                device=device,\n",
    "            )\n",
    "            # model_results = embedders.benchmarks.benchmark(\n",
    "            #     X, y, pm_new, max_depth=MAX_DEPTH, task=\"classification\", score=[\"f1-micro\", \"accuracy\"], device=device, models=MODELS, n_features=N_FEATURES,\n",
    "            #     batch_size=1\n",
    "            # )\n",
    "            # Create a flat dictionary for this run\n",
    "            run_results = {\"dataset\": dataset, \"seed\": i}\n",
    "\n",
    "            # Flatten the nested model results\n",
    "            for model, metrics in model_results.items():\n",
    "                for metric, value in metrics.items():\n",
    "                    run_results[f\"{model}_{metric}\"] = value\n",
    "\n",
    "            results_dataset.append(run_results)\n",
    "\n",
    "        except ValueError as e:\n",
    "            print(e)\n",
    "\n",
    "        my_tqdm.update(1)\n",
    "\n",
    "    results.extend(results_dataset)\n",
    "\n",
    "\n",
    "# Print results\n",
    "results = pd.DataFrame(results)\n",
    "results.to_csv(f\"embedders/data/results/all_nn_link.tsv\", sep=\"\\t\", index=False)"
   ]
  },
  {
   "cell_type": "markdown",
   "metadata": {},
   "source": [
    "# Make tables"
   ]
  },
  {
   "cell_type": "code",
   "execution_count": 11,
   "metadata": {},
   "outputs": [
    {
     "ename": "AssertionError",
     "evalue": "",
     "output_type": "error",
     "traceback": [
      "\u001b[0;31m---------------------------------------------------------------------------\u001b[0m",
      "\u001b[0;31mAssertionError\u001b[0m                            Traceback (most recent call last)",
      "Cell \u001b[0;32mIn[11], line 3\u001b[0m\n\u001b[1;32m      1\u001b[0m \u001b[38;5;66;03m# Interrupt above code\u001b[39;00m\n\u001b[0;32m----> 3\u001b[0m \u001b[38;5;28;01massert\u001b[39;00m \u001b[38;5;28;01mFalse\u001b[39;00m\n",
      "\u001b[0;31mAssertionError\u001b[0m: "
     ]
    }
   ],
   "source": [
    "# Interrupt above code\n",
    "\n",
    "assert False"
   ]
  },
  {
   "cell_type": "code",
   "execution_count": 3,
   "metadata": {},
   "outputs": [],
   "source": [
    "def format_top_performances_markdown(df, metric=\"accuracy\", tolerance=0.01):\n",
    "    \"\"\"\n",
    "    Format DataFrame values with markdown bold and underline for best and second-best.\n",
    "    Returns a new DataFrame with markdown-formatted strings.\n",
    "\n",
    "    Args:\n",
    "        df: pandas DataFrame with mean ± std format strings\n",
    "        metric: 'accuracy' or 'rmse' to determine if higher or lower is better\n",
    "        tolerance: threshold for considering values equal\n",
    "    \"\"\"\n",
    "    # Create a copy to modify\n",
    "    formatted_df = df.copy()\n",
    "\n",
    "    # Extract mean values into a numeric DataFrame\n",
    "    means = df.apply(lambda x: pd.to_numeric(x.str.split(\"±\").str[0].str.strip()))\n",
    "\n",
    "    # Process each row\n",
    "    for idx in means.index:\n",
    "        row = means.loc[idx]\n",
    "\n",
    "        # Sort values and get indices based on metric\n",
    "        sorted_vals = row.sort_values(ascending=(metric == \"rmse\"))\n",
    "        best_val = sorted_vals.iloc[0]\n",
    "\n",
    "        # Find all values within tolerance of best\n",
    "        best_indices = row[abs(row - best_val) <= tolerance].index\n",
    "\n",
    "        if len(best_indices) > 1:\n",
    "            # Multiple bests - just bold them\n",
    "            for col in best_indices:\n",
    "                formatted_df.loc[idx, col] = f\"**{df.loc[idx, col]}**\"\n",
    "        else:\n",
    "            # One best - bold it and find second best\n",
    "            formatted_df.loc[idx, best_indices[0]] = f\"**{df.loc[idx, best_indices[0]]}**\"\n",
    "\n",
    "            # Find second best (first value not in best_indices)\n",
    "            for col in sorted_vals.index:\n",
    "                if col not in best_indices:\n",
    "                    formatted_df.loc[idx, col] = f\"_{df.loc[idx, col]}_\"\n",
    "                    break\n",
    "\n",
    "    return formatted_df"
   ]
  },
  {
   "cell_type": "code",
   "execution_count": 7,
   "metadata": {},
   "outputs": [
    {
     "name": "stdout",
     "output_type": "stream",
     "text": [
      "| dataset    | Product DT      | Product RF      | Tangent MLP   | Ambient MLP     | Tangent GNN   | Ambient GNN   |\n",
      "|:-----------|:----------------|:----------------|:--------------|:----------------|:--------------|:--------------|\n",
      "| landmasses | _0.84 ± 0.02_   | 0.84 ± 0.03     | 0.79 ± 0.07   | **0.91 ± 0.05** | 0.70 ± 0.18   | 0.72 ± 0.12   |\n",
      "| neuron_33  | _0.75 ± 0.09_   | **0.77 ± 0.09** | 0.52 ± 0.11   | 0.43 ± 0.10     | 0.47 ± 0.06   | 0.47 ± 0.08   |\n",
      "| neuron_46  | **0.66 ± 0.08** | _0.64 ± 0.05_   | 0.49 ± 0.07   | 0.48 ± 0.05     | 0.49 ± 0.05   | 0.49 ± 0.06   |\n"
     ]
    }
   ],
   "source": [
    "import pandas as pd\n",
    "import numpy as np\n",
    "\n",
    "# Summarize data\n",
    "# METRIC = \"rmse\"\n",
    "METRIC = \"accuracy\"\n",
    "\n",
    "\n",
    "def ci95_agg(vals):\n",
    "    return f\"{np.mean(vals):.2f} ± {1.96 * np.std(vals):.2f}\"\n",
    "\n",
    "\n",
    "for path, groupvar in zip(\n",
    "    [\n",
    "        # \"embedders/data/results/classification_nn_single_curvature.tsv\",\n",
    "        # \"embedders/data/results/classification_nn_multiple_curvatures.tsv\",\n",
    "        # \"embedders/data/results/regression_nn_single_curvature.tsv\",\n",
    "        # \"embedders/data/results/regression_nn_multiple_curvatures.tsv\",\n",
    "        # \"embedders/data/results/all_nn_graph.tsv\"\n",
    "        # \"embedders/data/results/all_nn_vae.tsv\"\n",
    "        \"../data/results/all_nn_empirical.tsv\"\n",
    "        # \"embedders/data/results/all_nn_link.tsv\"\n",
    "    ],\n",
    "    [\n",
    "        # \"curvature\",\n",
    "        # \"signature\",\n",
    "        # \"curvature\",\n",
    "        # \"signature\",\n",
    "        # \"embedding\"\n",
    "        # \"embedding\"\n",
    "        \"dataset\"\n",
    "        # \"dataset\"\n",
    "    ],\n",
    "):\n",
    "    results = pd.read_csv(path, sep=\"\\t\")\n",
    "    cols = [\n",
    "        f\"{model}_{METRIC}\"\n",
    "        for model in [\"product_dt\", \"product_rf\", \"tangent_mlp\", \"ambient_mlp\", \"tangent_gnn\", \"ambient_gnn\"]\n",
    "    ]  # \"tangent_gnn_adj\", \"ambient_gnn_adj\"]]\n",
    "    tab = results.groupby(groupvar).agg(ci95_agg)[cols]\n",
    "    tab.columns = [\n",
    "        \"Product DT\",\n",
    "        \"Product RF\",\n",
    "        \"Tangent MLP\",\n",
    "        \"Ambient MLP\",\n",
    "        \"Tangent GNN\",\n",
    "        \"Ambient GNN\",\n",
    "    ]  # , \"Tangent GNN (Adj)\", \"Ambient GNN (Adj)\"]\n",
    "\n",
    "    # Bold the best column(s) for each row at .2f precision\n",
    "    # Note that these are strings currently with ±, so we need to split and convert to float\n",
    "    # Use markdown: **x** to bold and <u>x</u> to underline\n",
    "    # best = tab.apply(lambda x: np.array([float(val.split(\" ± \")[0]) for val in x.values])).idxmax(axis=1)\n",
    "    # tab = tab.applymap(lambda x: f\"**{x}**\" if x.split(\" ± \")[0] == tab.loc[best[x], x].split(\" ± \")[0] else x)\n",
    "    # second_best = tab.apply(lambda x: np.array([float(val.split(\" ± \")[0]) for val in x.values if val != tab.loc[best[x], x]]), axis=1).nlargest(2).index\n",
    "    # tab = tab.applymap(lambda x: f\"<u>{x}</u>\" if x.split(\" ± \")[0] == tab.loc[best[x], x].split(\" ± \")[0] else x)\n",
    "    # display(tab)\n",
    "    # print(tab.to_latex())\n",
    "    # print(tab.to_markdown())\n",
    "\n",
    "    # For graphs\n",
    "    # tab = tab.loc[[\"citeseer\", \"cora\", \"polblogs\"]]\n",
    "    # tab = tab.loc[[\"cs_phds\"]\n",
    "    # tab = tab.loc[[\"adjnoun\", \"dolphins\", \"football\", \"karate_club\", \"lesmis\", \"polbooks\"]]\n",
    "\n",
    "    # For empirical\n",
    "    tab = tab.loc[[\"landmasses\", \"neuron_33\", \"neuron_46\"]]\n",
    "    # tab = tab.loc[[\"temperature\", \"traffic\"]]\n",
    "\n",
    "    styled_tab = format_top_performances_markdown(tab, metric=METRIC)\n",
    "    # display(styled_tab)\n",
    "    print(styled_tab.to_markdown())"
   ]
  },
  {
   "cell_type": "code",
   "execution_count": 6,
   "metadata": {},
   "outputs": [
    {
     "name": "stderr",
     "output_type": "stream",
     "text": [
      "/tmp/ipykernel_62586/2809551124.py:22: FutureWarning: Series.__getitem__ treating keys as positions is deprecated. In a future version, integer keys will always be treated as labels (consistent with DataFrame behavior). To access a value by position, use `ser.iloc[pos]`\n",
      "  best_val = row[sorted_idx[0]]\n",
      "/tmp/ipykernel_62586/2809551124.py:22: FutureWarning: Series.__getitem__ treating keys as positions is deprecated. In a future version, integer keys will always be treated as labels (consistent with DataFrame behavior). To access a value by position, use `ser.iloc[pos]`\n",
      "  best_val = row[sorted_idx[0]]\n",
      "/tmp/ipykernel_62586/2809551124.py:22: FutureWarning: Series.__getitem__ treating keys as positions is deprecated. In a future version, integer keys will always be treated as labels (consistent with DataFrame behavior). To access a value by position, use `ser.iloc[pos]`\n",
      "  best_val = row[sorted_idx[0]]\n",
      "/tmp/ipykernel_62586/2809551124.py:22: FutureWarning: Series.__getitem__ treating keys as positions is deprecated. In a future version, integer keys will always be treated as labels (consistent with DataFrame behavior). To access a value by position, use `ser.iloc[pos]`\n",
      "  best_val = row[sorted_idx[0]]\n",
      "/tmp/ipykernel_62586/2809551124.py:22: FutureWarning: Series.__getitem__ treating keys as positions is deprecated. In a future version, integer keys will always be treated as labels (consistent with DataFrame behavior). To access a value by position, use `ser.iloc[pos]`\n",
      "  best_val = row[sorted_idx[0]]\n",
      "/tmp/ipykernel_62586/2809551124.py:22: FutureWarning: Series.__getitem__ treating keys as positions is deprecated. In a future version, integer keys will always be treated as labels (consistent with DataFrame behavior). To access a value by position, use `ser.iloc[pos]`\n",
      "  best_val = row[sorted_idx[0]]\n",
      "/tmp/ipykernel_62586/2809551124.py:22: FutureWarning: Series.__getitem__ treating keys as positions is deprecated. In a future version, integer keys will always be treated as labels (consistent with DataFrame behavior). To access a value by position, use `ser.iloc[pos]`\n",
      "  best_val = row[sorted_idx[0]]\n",
      "/tmp/ipykernel_62586/2809551124.py:22: FutureWarning: Series.__getitem__ treating keys as positions is deprecated. In a future version, integer keys will always be treated as labels (consistent with DataFrame behavior). To access a value by position, use `ser.iloc[pos]`\n",
      "  best_val = row[sorted_idx[0]]\n",
      "/tmp/ipykernel_62586/2809551124.py:22: FutureWarning: Series.__getitem__ treating keys as positions is deprecated. In a future version, integer keys will always be treated as labels (consistent with DataFrame behavior). To access a value by position, use `ser.iloc[pos]`\n",
      "  best_val = row[sorted_idx[0]]\n",
      "/tmp/ipykernel_62586/2809551124.py:22: FutureWarning: Series.__getitem__ treating keys as positions is deprecated. In a future version, integer keys will always be treated as labels (consistent with DataFrame behavior). To access a value by position, use `ser.iloc[pos]`\n",
      "  best_val = row[sorted_idx[0]]\n",
      "/tmp/ipykernel_62586/2809551124.py:22: FutureWarning: Series.__getitem__ treating keys as positions is deprecated. In a future version, integer keys will always be treated as labels (consistent with DataFrame behavior). To access a value by position, use `ser.iloc[pos]`\n",
      "  best_val = row[sorted_idx[0]]\n"
     ]
    },
    {
     "data": {
      "text/html": [
       "<style type=\"text/css\">\n",
       "#T_0aecf_row0_col1, #T_0aecf_row1_col2, #T_0aecf_row2_col3, #T_0aecf_row3_col0, #T_0aecf_row4_col0, #T_0aecf_row5_col0, #T_0aecf_row6_col0, #T_0aecf_row7_col3, #T_0aecf_row8_col3, #T_0aecf_row9_col0, #T_0aecf_row10_col3 {\n",
       "  text-decoration: underline;\n",
       "}\n",
       "#T_0aecf_row0_col2, #T_0aecf_row1_col1, #T_0aecf_row2_col1, #T_0aecf_row3_col1, #T_0aecf_row4_col1, #T_0aecf_row5_col1, #T_0aecf_row6_col1, #T_0aecf_row7_col1, #T_0aecf_row8_col1, #T_0aecf_row9_col1, #T_0aecf_row10_col1 {\n",
       "  font-weight: bold;\n",
       "}\n",
       "</style>\n",
       "<table id=\"T_0aecf\">\n",
       "  <thead>\n",
       "    <tr>\n",
       "      <th class=\"blank level0\" >&nbsp;</th>\n",
       "      <th id=\"T_0aecf_level0_col0\" class=\"col_heading level0 col0\" >Product DT</th>\n",
       "      <th id=\"T_0aecf_level0_col1\" class=\"col_heading level0 col1\" >Product RF</th>\n",
       "      <th id=\"T_0aecf_level0_col2\" class=\"col_heading level0 col2\" >Tangent MLP</th>\n",
       "      <th id=\"T_0aecf_level0_col3\" class=\"col_heading level0 col3\" >Ambient MLP</th>\n",
       "      <th id=\"T_0aecf_level0_col4\" class=\"col_heading level0 col4\" >Tangent GNN</th>\n",
       "      <th id=\"T_0aecf_level0_col5\" class=\"col_heading level0 col5\" >Ambient GNN</th>\n",
       "    </tr>\n",
       "    <tr>\n",
       "      <th class=\"index_name level0\" >curvature</th>\n",
       "      <th class=\"blank col0\" >&nbsp;</th>\n",
       "      <th class=\"blank col1\" >&nbsp;</th>\n",
       "      <th class=\"blank col2\" >&nbsp;</th>\n",
       "      <th class=\"blank col3\" >&nbsp;</th>\n",
       "      <th class=\"blank col4\" >&nbsp;</th>\n",
       "      <th class=\"blank col5\" >&nbsp;</th>\n",
       "    </tr>\n",
       "  </thead>\n",
       "  <tbody>\n",
       "    <tr>\n",
       "      <th id=\"T_0aecf_level0_row0\" class=\"row_heading level0 row0\" >-4.000000</th>\n",
       "      <td id=\"T_0aecf_row0_col0\" class=\"data row0 col0\" >0.35 ± 0.11</td>\n",
       "      <td id=\"T_0aecf_row0_col1\" class=\"data row0 col1\" >0.38 ± 0.12</td>\n",
       "      <td id=\"T_0aecf_row0_col2\" class=\"data row0 col2\" >0.40 ± 0.08</td>\n",
       "      <td id=\"T_0aecf_row0_col3\" class=\"data row0 col3\" >0.36 ± 0.20</td>\n",
       "      <td id=\"T_0aecf_row0_col4\" class=\"data row0 col4\" >0.27 ± 0.23</td>\n",
       "      <td id=\"T_0aecf_row0_col5\" class=\"data row0 col5\" >0.22 ± 0.21</td>\n",
       "    </tr>\n",
       "    <tr>\n",
       "      <th id=\"T_0aecf_level0_row1\" class=\"row_heading level0 row1\" >-2.000000</th>\n",
       "      <td id=\"T_0aecf_row1_col0\" class=\"data row1 col0\" >0.35 ± 0.10</td>\n",
       "      <td id=\"T_0aecf_row1_col1\" class=\"data row1 col1\" >0.37 ± 0.09</td>\n",
       "      <td id=\"T_0aecf_row1_col2\" class=\"data row1 col2\" >0.36 ± 0.12</td>\n",
       "      <td id=\"T_0aecf_row1_col3\" class=\"data row1 col3\" >0.35 ± 0.18</td>\n",
       "      <td id=\"T_0aecf_row1_col4\" class=\"data row1 col4\" >0.31 ± 0.15</td>\n",
       "      <td id=\"T_0aecf_row1_col5\" class=\"data row1 col5\" >0.25 ± 0.11</td>\n",
       "    </tr>\n",
       "    <tr>\n",
       "      <th id=\"T_0aecf_level0_row2\" class=\"row_heading level0 row2\" >-1.000000</th>\n",
       "      <td id=\"T_0aecf_row2_col0\" class=\"data row2 col0\" >0.30 ± 0.08</td>\n",
       "      <td id=\"T_0aecf_row2_col1\" class=\"data row2 col1\" >0.31 ± 0.10</td>\n",
       "      <td id=\"T_0aecf_row2_col2\" class=\"data row2 col2\" >0.27 ± 0.07</td>\n",
       "      <td id=\"T_0aecf_row2_col3\" class=\"data row2 col3\" >0.30 ± 0.09</td>\n",
       "      <td id=\"T_0aecf_row2_col4\" class=\"data row2 col4\" >0.28 ± 0.10</td>\n",
       "      <td id=\"T_0aecf_row2_col5\" class=\"data row2 col5\" >0.25 ± 0.09</td>\n",
       "    </tr>\n",
       "    <tr>\n",
       "      <th id=\"T_0aecf_level0_row3\" class=\"row_heading level0 row3\" >-0.500000</th>\n",
       "      <td id=\"T_0aecf_row3_col0\" class=\"data row3 col0\" >0.30 ± 0.06</td>\n",
       "      <td id=\"T_0aecf_row3_col1\" class=\"data row3 col1\" >0.32 ± 0.06</td>\n",
       "      <td id=\"T_0aecf_row3_col2\" class=\"data row3 col2\" >0.29 ± 0.10</td>\n",
       "      <td id=\"T_0aecf_row3_col3\" class=\"data row3 col3\" >0.29 ± 0.11</td>\n",
       "      <td id=\"T_0aecf_row3_col4\" class=\"data row3 col4\" >0.25 ± 0.07</td>\n",
       "      <td id=\"T_0aecf_row3_col5\" class=\"data row3 col5\" >0.22 ± 0.07</td>\n",
       "    </tr>\n",
       "    <tr>\n",
       "      <th id=\"T_0aecf_level0_row4\" class=\"row_heading level0 row4\" >-0.250000</th>\n",
       "      <td id=\"T_0aecf_row4_col0\" class=\"data row4 col0\" >0.28 ± 0.11</td>\n",
       "      <td id=\"T_0aecf_row4_col1\" class=\"data row4 col1\" >0.30 ± 0.10</td>\n",
       "      <td id=\"T_0aecf_row4_col2\" class=\"data row4 col2\" >0.26 ± 0.12</td>\n",
       "      <td id=\"T_0aecf_row4_col3\" class=\"data row4 col3\" >0.27 ± 0.09</td>\n",
       "      <td id=\"T_0aecf_row4_col4\" class=\"data row4 col4\" >0.26 ± 0.14</td>\n",
       "      <td id=\"T_0aecf_row4_col5\" class=\"data row4 col5\" >0.22 ± 0.11</td>\n",
       "    </tr>\n",
       "    <tr>\n",
       "      <th id=\"T_0aecf_level0_row5\" class=\"row_heading level0 row5\" >0.000000</th>\n",
       "      <td id=\"T_0aecf_row5_col0\" class=\"data row5 col0\" >0.29 ± 0.08</td>\n",
       "      <td id=\"T_0aecf_row5_col1\" class=\"data row5 col1\" >0.30 ± 0.10</td>\n",
       "      <td id=\"T_0aecf_row5_col2\" class=\"data row5 col2\" >0.25 ± 0.07</td>\n",
       "      <td id=\"T_0aecf_row5_col3\" class=\"data row5 col3\" >0.26 ± 0.06</td>\n",
       "      <td id=\"T_0aecf_row5_col4\" class=\"data row5 col4\" >0.23 ± 0.06</td>\n",
       "      <td id=\"T_0aecf_row5_col5\" class=\"data row5 col5\" >0.23 ± 0.06</td>\n",
       "    </tr>\n",
       "    <tr>\n",
       "      <th id=\"T_0aecf_level0_row6\" class=\"row_heading level0 row6\" >0.250000</th>\n",
       "      <td id=\"T_0aecf_row6_col0\" class=\"data row6 col0\" >0.27 ± 0.09</td>\n",
       "      <td id=\"T_0aecf_row6_col1\" class=\"data row6 col1\" >0.30 ± 0.09</td>\n",
       "      <td id=\"T_0aecf_row6_col2\" class=\"data row6 col2\" >0.23 ± 0.08</td>\n",
       "      <td id=\"T_0aecf_row6_col3\" class=\"data row6 col3\" >0.24 ± 0.05</td>\n",
       "      <td id=\"T_0aecf_row6_col4\" class=\"data row6 col4\" >0.24 ± 0.12</td>\n",
       "      <td id=\"T_0aecf_row6_col5\" class=\"data row6 col5\" >0.21 ± 0.11</td>\n",
       "    </tr>\n",
       "    <tr>\n",
       "      <th id=\"T_0aecf_level0_row7\" class=\"row_heading level0 row7\" >0.500000</th>\n",
       "      <td id=\"T_0aecf_row7_col0\" class=\"data row7 col0\" >0.25 ± 0.11</td>\n",
       "      <td id=\"T_0aecf_row7_col1\" class=\"data row7 col1\" >0.30 ± 0.11</td>\n",
       "      <td id=\"T_0aecf_row7_col2\" class=\"data row7 col2\" >0.24 ± 0.08</td>\n",
       "      <td id=\"T_0aecf_row7_col3\" class=\"data row7 col3\" >0.28 ± 0.04</td>\n",
       "      <td id=\"T_0aecf_row7_col4\" class=\"data row7 col4\" >0.18 ± 0.13</td>\n",
       "      <td id=\"T_0aecf_row7_col5\" class=\"data row7 col5\" >0.18 ± 0.09</td>\n",
       "    </tr>\n",
       "    <tr>\n",
       "      <th id=\"T_0aecf_level0_row8\" class=\"row_heading level0 row8\" >1.000000</th>\n",
       "      <td id=\"T_0aecf_row8_col0\" class=\"data row8 col0\" >0.25 ± 0.08</td>\n",
       "      <td id=\"T_0aecf_row8_col1\" class=\"data row8 col1\" >0.29 ± 0.09</td>\n",
       "      <td id=\"T_0aecf_row8_col2\" class=\"data row8 col2\" >0.19 ± 0.05</td>\n",
       "      <td id=\"T_0aecf_row8_col3\" class=\"data row8 col3\" >0.27 ± 0.06</td>\n",
       "      <td id=\"T_0aecf_row8_col4\" class=\"data row8 col4\" >0.17 ± 0.08</td>\n",
       "      <td id=\"T_0aecf_row8_col5\" class=\"data row8 col5\" >0.17 ± 0.09</td>\n",
       "    </tr>\n",
       "    <tr>\n",
       "      <th id=\"T_0aecf_level0_row9\" class=\"row_heading level0 row9\" >2.000000</th>\n",
       "      <td id=\"T_0aecf_row9_col0\" class=\"data row9 col0\" >0.27 ± 0.07</td>\n",
       "      <td id=\"T_0aecf_row9_col1\" class=\"data row9 col1\" >0.30 ± 0.07</td>\n",
       "      <td id=\"T_0aecf_row9_col2\" class=\"data row9 col2\" >0.18 ± 0.07</td>\n",
       "      <td id=\"T_0aecf_row9_col3\" class=\"data row9 col3\" >0.26 ± 0.08</td>\n",
       "      <td id=\"T_0aecf_row9_col4\" class=\"data row9 col4\" >0.20 ± 0.13</td>\n",
       "      <td id=\"T_0aecf_row9_col5\" class=\"data row9 col5\" >0.18 ± 0.14</td>\n",
       "    </tr>\n",
       "    <tr>\n",
       "      <th id=\"T_0aecf_level0_row10\" class=\"row_heading level0 row10\" >4.000000</th>\n",
       "      <td id=\"T_0aecf_row10_col0\" class=\"data row10 col0\" >0.24 ± 0.08</td>\n",
       "      <td id=\"T_0aecf_row10_col1\" class=\"data row10 col1\" >0.26 ± 0.06</td>\n",
       "      <td id=\"T_0aecf_row10_col2\" class=\"data row10 col2\" >0.20 ± 0.08</td>\n",
       "      <td id=\"T_0aecf_row10_col3\" class=\"data row10 col3\" >0.24 ± 0.07</td>\n",
       "      <td id=\"T_0aecf_row10_col4\" class=\"data row10 col4\" >0.16 ± 0.08</td>\n",
       "      <td id=\"T_0aecf_row10_col5\" class=\"data row10 col5\" >0.17 ± 0.11</td>\n",
       "    </tr>\n",
       "  </tbody>\n",
       "</table>\n"
      ],
      "text/plain": [
       "<pandas.io.formats.style.Styler at 0x7f2c426c8550>"
      ]
     },
     "execution_count": 6,
     "metadata": {},
     "output_type": "execute_result"
    }
   ],
   "source": [
    "styled_tab"
   ]
  },
  {
   "cell_type": "code",
   "execution_count": 12,
   "metadata": {},
   "outputs": [
    {
     "data": {
      "text/plain": [
       "Index(['dataset', 'seed', 'product_dt_accuracy', 'product_dt_f1-micro',\n",
       "       'product_dt_time', 'product_rf_accuracy', 'product_rf_f1-micro',\n",
       "       'product_rf_time', 'tangent_mlp_accuracy', 'tangent_mlp_f1-micro',\n",
       "       'tangent_mlp_time', 'ambient_mlp_accuracy', 'ambient_mlp_f1-micro',\n",
       "       'ambient_mlp_time', 'tangent_gnn_accuracy', 'tangent_gnn_f1-micro',\n",
       "       'tangent_gnn_time', 'ambient_gnn_accuracy', 'ambient_gnn_f1-micro',\n",
       "       'ambient_gnn_time'],\n",
       "      dtype='object')"
      ]
     },
     "execution_count": 12,
     "metadata": {},
     "output_type": "execute_result"
    }
   ],
   "source": [
    "results.columns"
   ]
  },
  {
   "cell_type": "markdown",
   "metadata": {},
   "source": [
    "# Runtimes experiment"
   ]
  },
  {
   "cell_type": "code",
   "execution_count": null,
   "metadata": {},
   "outputs": [],
   "source": [
    "import embedders\n",
    "import pandas as pd\n",
    "\n",
    "device = \"cuda\"\n",
    "MAX_DEPTH = 3\n",
    "N_CLASSES = 8\n",
    "N_CLUSTERS = 32\n",
    "COV_SCALE_MEANS = 1.0\n",
    "COV_SCALE_POINTS = 1.0\n",
    "N_FEATURES = \"d_choose_2\""
   ]
  },
  {
   "cell_type": "code",
   "execution_count": null,
   "metadata": {},
   "outputs": [
    {
     "name": "stderr",
     "output_type": "stream",
     "text": [
      "/home/zeus/miniconda3/envs/cloudspace/lib/python3.10/site-packages/torch/distributions/wishart.py:271: UserWarning: Singular sample detected.\n",
      "  warnings.warn(\"Singular sample detected.\")\n",
      "/home/zeus/miniconda3/envs/cloudspace/lib/python3.10/site-packages/torch/distributions/wishart.py:271: UserWarning: Singular sample detected.\n",
      "  warnings.warn(\"Singular sample detected.\")\n",
      "/home/zeus/miniconda3/envs/cloudspace/lib/python3.10/site-packages/torch/distributions/wishart.py:271: UserWarning: Singular sample detected.\n",
      "  warnings.warn(\"Singular sample detected.\")\n",
      "/home/zeus/miniconda3/envs/cloudspace/lib/python3.10/site-packages/torch/distributions/wishart.py:271: UserWarning: Singular sample detected.\n",
      "  warnings.warn(\"Singular sample detected.\")\n",
      "/home/zeus/miniconda3/envs/cloudspace/lib/python3.10/site-packages/torch/distributions/wishart.py:271: UserWarning: Singular sample detected.\n",
      "  warnings.warn(\"Singular sample detected.\")\n",
      "/home/zeus/miniconda3/envs/cloudspace/lib/python3.10/site-packages/torch/distributions/wishart.py:271: UserWarning: Singular sample detected.\n",
      "  warnings.warn(\"Singular sample detected.\")\n",
      "/home/zeus/miniconda3/envs/cloudspace/lib/python3.10/site-packages/torch/distributions/wishart.py:271: UserWarning: Singular sample detected.\n",
      "  warnings.warn(\"Singular sample detected.\")\n",
      "/home/zeus/miniconda3/envs/cloudspace/lib/python3.10/site-packages/torch/distributions/wishart.py:271: UserWarning: Singular sample detected.\n",
      "  warnings.warn(\"Singular sample detected.\")\n",
      "/home/zeus/miniconda3/envs/cloudspace/lib/python3.10/site-packages/torch/distributions/wishart.py:271: UserWarning: Singular sample detected.\n",
      "  warnings.warn(\"Singular sample detected.\")\n",
      "/home/zeus/miniconda3/envs/cloudspace/lib/python3.10/site-packages/torch/distributions/wishart.py:271: UserWarning: Singular sample detected.\n",
      "  warnings.warn(\"Singular sample detected.\")\n"
     ]
    }
   ],
   "source": [
    "# Run\n",
    "\n",
    "sig = [(-1, 2), (1, 2)]\n",
    "pm = embedders.manifolds.ProductManifold(signature=sig)\n",
    "results = []\n",
    "\n",
    "for size in [8, 16, 32, 64, 128, 256, 512, 1024, 2048, 4096]:  # , 8192]:\n",
    "    X, y = embedders.gaussian_mixture.gaussian_mixture(\n",
    "        pm=pm,\n",
    "        seed=0,\n",
    "        num_points=size,\n",
    "        num_classes=8,\n",
    "        num_clusters=32,\n",
    "        cov_scale_means=1.0 / 2,\n",
    "        cov_scale_points=1.0 / 2,\n",
    "        task=\"classification\",\n",
    "    )\n",
    "    X = X.to(device)\n",
    "    y = y.to(device)\n",
    "    pm = pm.to(device)\n",
    "\n",
    "    model_results = embedders.benchmarks.benchmark(\n",
    "        X,\n",
    "        y,\n",
    "        pm,\n",
    "        max_depth=MAX_DEPTH,\n",
    "        task=\"classification\",\n",
    "        score=[\"f1-micro\", \"accuracy\"],\n",
    "        seed=0,\n",
    "        n_features=N_FEATURES,\n",
    "        device=device,\n",
    "    )\n",
    "\n",
    "    # Create a flat dictionary for this run\n",
    "    run_results = {\"size\": size}\n",
    "\n",
    "    # Flatten the nested model results\n",
    "    for model, metrics in model_results.items():\n",
    "        for metric, value in metrics.items():\n",
    "            run_results[f\"{model}_{metric}\"] = value\n",
    "\n",
    "    results.append(run_results)\n",
    "\n",
    "results = pd.DataFrame(results)"
   ]
  },
  {
   "cell_type": "code",
   "execution_count": null,
   "metadata": {},
   "outputs": [
    {
     "data": {
      "image/png": "[encoded data removed]",
      "text/plain": [
       "<Figure size 1000x500 with 1 Axes>"
      ]
     },
     "metadata": {},
     "output_type": "display_data"
    }
   ],
   "source": [
    "import matplotlib.pyplot as plt\n",
    "import numpy as np\n",
    "\n",
    "# Set font to LaTeX times font\n",
    "plt.rcParams[\"font.family\"] = \"serif\"\n",
    "plt.rcParams[\"font.serif\"] = [\"Times New Roman\"] + plt.rcParams[\"font.serif\"]\n",
    "\n",
    "plt.figure(figsize=(10, 5))\n",
    "\n",
    "# Plot the bars using pandas plotting\n",
    "timecols = [c for c in results.columns if \"time\" in c]\n",
    "\n",
    "# Sort timecols by max time\n",
    "timecols = sorted(timecols, key=lambda c: results[c].max())\n",
    "\n",
    "# Remove tangent mlp and tangent gnn\n",
    "timecols = [c for c in timecols if \"tangent\" not in c]\n",
    "\n",
    "colors = plt.cm.turbo(np.linspace(0, 1, len(timecols)))\n",
    "\n",
    "# Plot each line\n",
    "lines = []\n",
    "for col, color in zip(timecols, colors):\n",
    "    line = plt.plot(results[\"size\"], results[col], label=col, color=color, linewidth=2, marker=\"o\", markersize=4)[0]\n",
    "    lines.append(line)\n",
    "\n",
    "# Set scales\n",
    "plt.xscale(\"log\")\n",
    "plt.yscale(\"log\")\n",
    "\n",
    "# Set labels and title\n",
    "plt.xlabel(\"Dataset Size\")\n",
    "plt.ylabel(\"Runtime (s)\")\n",
    "plt.title(\"Runtime vs. Dataset Size\")\n",
    "\n",
    "# Add right-aligned labels\n",
    "xmax = results[\"size\"].max()\n",
    "for line, color, label, offset in zip(\n",
    "    lines,\n",
    "    colors,\n",
    "    [\"GNN\", \"Product RF\", \"MLP\", \"$k$-NN\", \"Product DT\", \"RF\", \"Perceptron\", \"DT\"][::-1],\n",
    "    # [1., 1., 1., 1.4, 1.2, 1., 0.75, 1.][::-1]\n",
    "    [1.0, 1.0, 1.4, 1.2, 1.0, 0.6, 1.0, 1.0][::-1],\n",
    "):\n",
    "    # Get the last y-value for this line\n",
    "    y = line.get_ydata()[-1] * offset\n",
    "    # Add text label\n",
    "    plt.text(xmax * 1.25, y, label, verticalalignment=\"center\", fontsize=10, color=color, fontweight=\"bold\")\n",
    "\n",
    "# Extend x-axis to make room for labels\n",
    "plt.xlim(results[\"size\"].min() * 0.9, xmax * 1.2)\n",
    "\n",
    "# Tight layout to prevent label cutoff\n",
    "plt.tight_layout()\n",
    "plt.savefig(\"embedders/figures/runtime_vs_size.pdf\")"
   ]
  },
  {
   "cell_type": "markdown",
   "metadata": {},
   "source": [
    "# Troubleshoot regression\n",
    "\n",
    "My regressions don't seem very good. For instance, the CS-PhDs dataset shows an RMSE of 1975 or whatever. How can I fix this?"
   ]
  },
  {
   "cell_type": "code",
   "execution_count": null,
   "metadata": {},
   "outputs": [
    {
     "name": "stdout",
     "output_type": "stream",
     "text": [
      "The autoreload extension is already loaded. To reload it, use:\n",
      "  %reload_ext autoreload\n",
      "Top CC has 1025 nodes; original graph has 1025 nodes.\n"
     ]
    },
    {
     "data": {
      "text/plain": [
       "62.5898237193704"
      ]
     },
     "execution_count": 31,
     "metadata": {},
     "output_type": "execute_result"
    }
   ],
   "source": [
    "%load_ext autoreload\n",
    "%autoreload 2\n",
    "\n",
    "import embedders\n",
    "import numpy as np\n",
    "import torch \n",
    "\n",
    "from sklearn.model_selection import train_test_split\n",
    "from sklearn.metrics import mean_squared_error\n",
    "\n",
    "device=\"cpu\"\n",
    "\n",
    "# Load CS-PhDs\n",
    "_, y, adj = embedders.dataloaders.load(\"cs_phds\")\n",
    "\n",
    "# Get embeddings\n",
    "    # (\"cs_phds\", \"H\", [(-1, 4)], \"regression\"\n",
    "\n",
    "X = torch.tensor(np.load(\"embedders/data/graphs/embeddings/cs_phds/H_0.npy\"), device=device)\n",
    "\n",
    "pm = embedders.manifolds.ProductManifold(signature=[(-1, 4)], device=device)\n",
    "mlp = embedders.predictors.mlp.MLP(pm=pm, input_dim=5, hidden_dims=[128, 128], output_dim=1, task=\"regression\")\n",
    "mlp = mlp.to(device)\n",
    "\n",
    "X_train, X_test, y_train, y_test = train_test_split(X, y, test_size=0.2, random_state=0)\n",
    "\n",
    "mlp.fit(X_train, y_train, epochs=1_000)\n",
    "\n",
    "y_pred = mlp.predict(X_test)\n",
    "rmse = np.sqrt(mean_squared_error(y_test, y_pred))\n",
    "rmse # Ok at 62.6 I'm satisfied with my hyperparameters"
   ]
  }
 ],
 "metadata": {
  "kernelspec": {
   "display_name": "embedders",
   "language": "python",
   "name": "python3"
  },
  "language_info": {
   "codemirror_mode": {
    "name": "ipython",
    "version": 3
   },
   "file_extension": ".py",
   "mimetype": "text/x-python",
   "name": "python",
   "nbconvert_exporter": "python",
   "pygments_lexer": "ipython3",
   "version": "3.9.0"
  }
 },
 "nbformat": 4,
 "nbformat_minor": 2
}

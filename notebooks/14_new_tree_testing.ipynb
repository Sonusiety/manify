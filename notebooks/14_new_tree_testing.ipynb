{
 "cells": [
  {
   "cell_type": "code",
   "execution_count": 1,
   "metadata": {},
   "outputs": [],
   "source": [
    "%load_ext autoreload\n",
    "%autoreload 2"
   ]
  },
  {
   "cell_type": "code",
   "execution_count": 2,
   "metadata": {},
   "outputs": [
    {
     "name": "stderr",
     "output_type": "stream",
     "text": [
      "INFO: Using numpy backend\n"
     ]
    }
   ],
   "source": [
    "import embedders\n",
    "import hyperdt\n",
    "import torch\n",
    "\n",
    "import numpy as np\n",
    "import matplotlib.pyplot as plt"
   ]
  },
  {
   "cell_type": "code",
   "execution_count": 13,
   "metadata": {},
   "outputs": [
    {
     "name": "stderr",
     "output_type": "stream",
     "text": [
      "/Users/phil/miniforge3/envs/embedders2/lib/python3.10/site-packages/torch/distributions/wishart.py:271: UserWarning: Singular sample detected.\n",
      "  warnings.warn(\"Singular sample detected.\")\n"
     ]
    },
    {
     "name": "stdout",
     "output_type": "stream",
     "text": [
      "Quentin DT: 0.9950\n",
      "Old DT: 0.9950\n",
      "New DT: 0.9950\n"
     ]
    }
   ],
   "source": [
    "def test_sig(sig, seed=42, num_points=1000, num_classes=2, fix_x_dim=None):\n",
    "    pm = embedders.manifolds.ProductManifold(signature=sig)\n",
    "\n",
    "    X, y = embedders.gaussian_mixture.gaussian_mixture(pm=pm, num_points=num_points, num_classes=num_classes, seed=seed)\n",
    "\n",
    "    sig_r = [(x, y) for (y, x) in sig]\n",
    "    if fix_x_dim is not None:\n",
    "        X_fixed = torch.concat([X[:, :fix_x_dim], torch.ones(len(X), 1), X[:, fix_x_dim:]], dim=1)\n",
    "    else:\n",
    "        X_fixed = X\n",
    "    dt_q = hyperdt.torch.product_space_DT.ProductSpaceDT(signature=sig_r)\n",
    "    dt_q.fit(X_fixed, y)\n",
    "    print(f\"Quentin DT: {dt_q.score(X_fixed, y).float().mean().item():.4f}\")\n",
    "\n",
    "    dt_old = embedders.tree.TorchProductSpaceDT(signature=sig)\n",
    "    dt_old.fit(X, y)\n",
    "    print(f\"Old DT: {dt_old.score(X, y).float().mean().item():.4f}\")\n",
    "\n",
    "    dt_new = embedders.tree_new.ProductSpaceDT(pm=pm)\n",
    "    dt_new.fit(X, y)\n",
    "    print(f\"New DT: {dt_new.score(X, y).float().mean().item():.4f}\")\n",
    "\n",
    "    return dt_q, dt_old, dt_new, X, y\n",
    "\n",
    "_ = test_sig([(-1, 4)])"
   ]
  },
  {
   "cell_type": "code",
   "execution_count": 56,
   "metadata": {},
   "outputs": [
    {
     "name": "stdout",
     "output_type": "stream",
     "text": [
      "Hyp\n"
     ]
    },
    {
     "name": "stderr",
     "output_type": "stream",
     "text": [
      "/Users/phil/miniforge3/envs/embedders2/lib/python3.10/site-packages/torch/distributions/wishart.py:271: UserWarning: Singular sample detected.\n",
      "  warnings.warn(\"Singular sample detected.\")\n"
     ]
    },
    {
     "name": "stdout",
     "output_type": "stream",
     "text": [
      "Quentin DT: 0.9450\n",
      "Old DT: 0.9450\n",
      "New DT: 0.9450\n",
      "\n",
      "Euc\n",
      "Quentin DT: 0.9010\n",
      "Old DT: 0.9010\n",
      "New DT: 0.9010\n",
      "\n",
      "Sph\n",
      "Quentin DT: 0.9220\n",
      "Old DT: 0.9160\n",
      "New DT: 0.9220\n",
      "\n",
      "Multi-Hyp\n",
      "Quentin DT: 0.9990\n",
      "Old DT: 0.9990\n",
      "New DT: 0.9990\n",
      "\n",
      "Multi-Sph\n",
      "Quentin DT: 0.9440\n",
      "Old DT: 0.9110\n",
      "New DT: 0.9400\n",
      "\n",
      "H x E\n",
      "Quentin DT: 0.9920\n",
      "Old DT: 0.9920\n",
      "New DT: 0.9920\n",
      "\n",
      "S x E\n",
      "Quentin DT: 0.8750\n",
      "Old DT: 0.8710\n",
      "New DT: 0.8890\n",
      "\n",
      "H x S\n",
      "Quentin DT: 0.9880\n",
      "Old DT: 0.9880\n",
      "New DT: 0.9880\n",
      "\n",
      "H x S x E\n",
      "Quentin DT: 0.9800\n",
      "Old DT: 0.9590\n",
      "New DT: 0.9590\n",
      "\n"
     ]
    }
   ],
   "source": [
    "# Try a few more signatures\n",
    "print(\"Hyp\")\n",
    "dt_q, dt_old, dt_new, X, y = test_sig([(-1, 4)], seed=1)\n",
    "print()\n",
    "\n",
    "print(\"Euc\")\n",
    "dt_q, dt_old, dt_new, X, y = test_sig([(0, 4)], seed=2, fix_x_dim=0)\n",
    "print()\n",
    "\n",
    "print(\"Sph\")\n",
    "dt_q, dt_old, dt_new, X, y = test_sig([(1, 4)], seed=3)\n",
    "print()\n",
    "\n",
    "print(\"Multi-Hyp\")\n",
    "dt_q, dt_old, dt_new, X, y = test_sig([(-1, 2), (-1, 2)], seed=4)\n",
    "print()\n",
    "\n",
    "print(\"Multi-Sph\")\n",
    "dt_q, dt_old, dt_new, X, y = test_sig([(1, 2), (1, 2)], seed=5)\n",
    "print()\n",
    "\n",
    "print(\"H x E\")\n",
    "dt_q, dt_old, dt_new, X, y = test_sig([(-1, 2), (0, 2)], seed=6, fix_x_dim=3)\n",
    "print()\n",
    "\n",
    "print(\"S x E\")\n",
    "dt_q, dt_old, dt_new, X, y = test_sig([(1, 2), (0, 2)], seed=6, fix_x_dim=2)\n",
    "print()\n",
    "\n",
    "print(\"H x S\")\n",
    "dt_q, dt_old, dt_new, X, y = test_sig([(-1, 2), (1, 2)], seed=6)\n",
    "print()\n",
    "\n",
    "print(\"H x S x E\")\n",
    "dt_q, dt_old, dt_new, X, y = test_sig([(-1, 2), (0, 2), (1, 2)], seed=7, fix_x_dim=6)\n",
    "print()"
   ]
  },
  {
   "cell_type": "code",
   "execution_count": 55,
   "metadata": {},
   "outputs": [
    {
     "name": "stdout",
     "output_type": "stream",
     "text": [
      "tensor([-0.3311]) tensor([-0.3311])\n",
      "tensor([0.4833]) tensor([0.4833])\n"
     ]
    }
   ],
   "source": [
    "# Sanity check on angular midpoints\n",
    "\n",
    "_v1 = torch.randn(1)\n",
    "_v2 = torch.randn(1)\n",
    "\n",
    "_m = embedders.midpoint.euclidean_midpoint(\n",
    "    torch.atan2(torch.tensor(1), _v1),\n",
    "    torch.atan2(torch.tensor(1), _v2)\n",
    ")\n",
    "\n",
    "print(1 / torch.tan(torch.atan2(torch.tensor(1), _v1)), _v1)\n",
    "\n",
    "print(\n",
    "    1 / torch.tan(_m),\n",
    "    (_v1 + _v2) / 2\n",
    ")"
   ]
  },
  {
   "cell_type": "code",
   "execution_count": 39,
   "metadata": {},
   "outputs": [
    {
     "data": {
      "text/plain": [
       "tensor(3.1416)"
      ]
     },
     "execution_count": 39,
     "metadata": {},
     "output_type": "execute_result"
    }
   ],
   "source": [
    "torch.tan(torch.atan2(torch.tensor(torch.pi), torch.tensor(1)))"
   ]
  },
  {
   "cell_type": "code",
   "execution_count": null,
   "metadata": {},
   "outputs": [
    {
     "data": {
      "text/plain": [
       "False"
      ]
     },
     "execution_count": 78,
     "metadata": {},
     "output_type": "execute_result"
    }
   ],
   "source": [
    "theta = dt_new.tree.theta\n",
    "feature = dt_new.tree.feature\n",
    "angles, _, _, _ = dt_new.preprocess(X)\n",
    "embedders.tree_new.angular_greater(torch.tensor(theta).reshape(1,1), angles[1, 3].reshape(1,1)).item()"
   ]
  },
  {
   "cell_type": "code",
   "execution_count": null,
   "metadata": {},
   "outputs": [
    {
     "data": {
      "text/plain": [
       "False"
      ]
     },
     "execution_count": 84,
     "metadata": {},
     "output_type": "execute_result"
    }
   ],
   "source": [
    "embedders.tree_new.angular_greater(torch.tensor(theta).flatten(), angles[1, 3].flatten()).item()"
   ]
  },
  {
   "cell_type": "code",
   "execution_count": null,
   "metadata": {},
   "outputs": [
    {
     "data": {
      "text/plain": [
       "[(2, '1.9900'),\n",
       " (0, '1.3944'),\n",
       " (1, '1.0036'),\n",
       " (1, '1.4063'),\n",
       " (0, '1.8603'),\n",
       " (2, '1.4846'),\n",
       " (0, '1.5846')]"
      ]
     },
     "execution_count": 28,
     "metadata": {},
     "output_type": "execute_result"
    }
   ],
   "source": [
    "def agg_nodes(tree, nodes):\n",
    "    if tree is not None:\n",
    "        nodes.append(tree)\n",
    "        agg_nodes(tree.left, nodes)\n",
    "        agg_nodes(tree.right, nodes)\n",
    "    return nodes\n",
    "\n",
    "dt_old_nodes = agg_nodes(dt_old.tree, [])\n",
    "[(x.feature.item(), f\"{x.theta.item():.4f}\") for x in dt_old_nodes if x.feature is not None]"
   ]
  },
  {
   "cell_type": "code",
   "execution_count": null,
   "metadata": {},
   "outputs": [
    {
     "data": {
      "text/plain": [
       "[(2, '1.9918'),\n",
       " (0, '1.3991'),\n",
       " (1, '1.0075'),\n",
       " (1, '1.4655'),\n",
       " (0, '1.8656'),\n",
       " (2, '1.4885'),\n",
       " (0, '1.5847')]"
      ]
     },
     "execution_count": 29,
     "metadata": {},
     "output_type": "execute_result"
    }
   ],
   "source": [
    "dt_q_nodes = agg_nodes(dt_q.tree, [])\n",
    "[(x.feature-1, f\"{x.theta.item():.4f}\") for x in dt_q_nodes if x.feature is not None]\n",
    "# Subtract 1 because Quentin indexes ambient dimensions\n",
    "# This only works for single-manifold items"
   ]
  },
  {
   "cell_type": "code",
   "execution_count": null,
   "metadata": {},
   "outputs": [
    {
     "data": {
      "text/plain": [
       "[(2, '1.9918'),\n",
       " (0, '1.3991'),\n",
       " (1, '1.0075'),\n",
       " (1, '1.4655'),\n",
       " (0, '1.8656'),\n",
       " (2, '1.4885'),\n",
       " (0, '1.5847')]"
      ]
     },
     "execution_count": 30,
     "metadata": {},
     "output_type": "execute_result"
    }
   ],
   "source": [
    "[(x.feature, f\"{x.theta:.4f}\") for x in dt_new.nodes]"
   ]
  },
  {
   "cell_type": "code",
   "execution_count": null,
   "metadata": {},
   "outputs": [
    {
     "data": {
      "text/plain": [
       "tensor([[ True,  True,  True,  ..., False, False,  True],\n",
       "        [False,  True,  True,  ..., False, False, False],\n",
       "        [False, False,  True,  ..., False, False, False],\n",
       "        ...,\n",
       "        [ True,  True,  True,  ...,  True,  True,  True],\n",
       "        [ True,  True,  True,  ..., False,  True,  True],\n",
       "        [ True,  True,  True,  ..., False, False,  True]])"
      ]
     },
     "execution_count": 8,
     "metadata": {},
     "output_type": "execute_result"
    }
   ],
   "source": [
    "_x = torch.linspace(-2*torch.pi, 2*torch.pi, 100)\n",
    "\n",
    "embedders.tree_new.angular_greater(_x, _x)"
   ]
  },
  {
   "cell_type": "code",
   "execution_count": null,
   "metadata": {},
   "outputs": [
    {
     "data": {
      "image/png": "[encoded data removed]",
      "text/plain": [
       "<Figure size 480x480 with 2 Axes>"
      ]
     },
     "metadata": {},
     "output_type": "display_data"
    }
   ],
   "source": [
    "plt.matshow(\n",
    "    embedders.tree_new.angular_greater(_x, _x).detach().numpy().astype(int)\n",
    ")\n",
    "plt.xticks(range(len(_x))[::10], [f\"{x.item() / torch.pi:.1f}pi\" for x in _x[::10]], rotation=90)\n",
    "plt.yticks(range(len(_x))[::10], [f\"{x.item() / torch.pi:.1f}pi\" for x in _x[::10]])\n",
    "plt.xlabel(\"Key\")\n",
    "plt.ylabel(\"Query\")\n",
    "plt.colorbar()\n",
    "plt.show()"
   ]
  },
  {
   "cell_type": "code",
   "execution_count": null,
   "metadata": {},
   "outputs": [
    {
     "data": {
      "image/png": "[encoded data removed]",
      "text/plain": [
       "<Figure size 480x480 with 2 Axes>"
      ]
     },
     "metadata": {},
     "output_type": "display_data"
    }
   ],
   "source": [
    "plt.matshow(\n",
    "    np.array([embedders.tree.circular_greater(_x, x).detach().numpy().astype(int) for x in _x])\n",
    ")\n",
    "plt.xticks(range(len(_x))[::10], [f\"{x.item() / torch.pi:.1f}pi\" for x in _x[::10]], rotation=90)\n",
    "plt.yticks(range(len(_x))[::10], [f\"{x.item() / torch.pi:.1f}pi\" for x in _x[::10]])\n",
    "plt.xlabel(\"Key\")\n",
    "plt.ylabel(\"Query\")\n",
    "plt.colorbar()\n",
    "plt.show()"
   ]
  },
  {
   "cell_type": "code",
   "execution_count": null,
   "metadata": {},
   "outputs": [
    {
     "data": {
      "text/plain": [
       "torch.Size([100, 50])"
      ]
     },
     "execution_count": 11,
     "metadata": {},
     "output_type": "execute_result"
    }
   ],
   "source": [
    "embedders.tree_new.angular_greater(_x, _x[:50]).shape"
   ]
  },
  {
   "cell_type": "code",
   "execution_count": null,
   "metadata": {},
   "outputs": [
    {
     "data": {
      "text/plain": [
       "tensor(1)"
      ]
     },
     "execution_count": 12,
     "metadata": {},
     "output_type": "execute_result"
    }
   ],
   "source": [
    "_xx =  torch.randn(100, 5)\n",
    "\n",
    "(_xx.sum(dim=0) / _xx.sum()).argmax()"
   ]
  },
  {
   "cell_type": "code",
   "execution_count": null,
   "metadata": {},
   "outputs": [
    {
     "data": {
      "text/plain": [
       "-2.356194490192345"
      ]
     },
     "execution_count": 13,
     "metadata": {},
     "output_type": "execute_result"
    }
   ],
   "source": [
    "0 - .75*torch.pi % torch.pi"
   ]
  },
  {
   "cell_type": "code",
   "execution_count": null,
   "metadata": {},
   "outputs": [
    {
     "name": "stdout",
     "output_type": "stream",
     "text": [
      "tensor([-1.1885])\n",
      "[(1.9631205797195435, False), (-0.8099784255027771, True), (-0.09882992506027222, True), (-0.07330941408872604, True), (-2.0440964698791504, False), (1.2330280542373657, True), (0.22466133534908295, True), (0.14706215262413025, True), (0.10357317328453064, True), (-0.4002175033092499, True)]\n"
     ]
    }
   ],
   "source": [
    "_v1 = torch.randn(1)\n",
    "_v2 = torch.randn(10)\n",
    "_v2[0] = _v1 + torch.pi + .01 % (2 * torch.pi)\n",
    "print(_v1)\n",
    "print(\n",
    "    [(x.item(), y.item()) for x,y in zip(_v2, embedders.tree_new.angular_greater(_v1, _v2).flatten())]\n",
    ")"
   ]
  },
  {
   "cell_type": "code",
   "execution_count": null,
   "metadata": {},
   "outputs": [],
   "source": []
  }
 ],
 "metadata": {
  "kernelspec": {
   "display_name": "cloudspace",
   "language": "python",
   "name": "python3"
  },
  "language_info": {
   "codemirror_mode": {
    "name": "ipython",
    "version": 3
   },
   "file_extension": ".py",
   "mimetype": "text/x-python",
   "name": "python",
   "nbconvert_exporter": "python",
   "pygments_lexer": "ipython3",
   "version": "3.10.0"
  }
 },
 "nbformat": 4,
 "nbformat_minor": 2
}

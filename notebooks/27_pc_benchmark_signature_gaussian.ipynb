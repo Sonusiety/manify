{
 "cells": [
  {
   "cell_type": "code",
   "execution_count": 1,
   "metadata": {},
   "outputs": [],
   "source": [
    "%load_ext autoreload\n",
    "%autoreload 2"
   ]
  },
  {
   "cell_type": "code",
   "execution_count": 2,
   "metadata": {},
   "outputs": [],
   "source": [
    "import torch\n",
    "import embedders\n",
    "\n",
    "import numpy as np\n",
    "import matplotlib.pyplot as plt\n",
    "import pandas as pd\n",
    "\n",
    "from tqdm.notebook import tqdm\n",
    "\n",
    "# Filter out warnings raised when sampling Wishart distribution in Gaussian mixtures\n",
    "import warnings\n",
    "\n",
    "warnings.filterwarnings(\"ignore\", category=UserWarning)"
   ]
  },
  {
   "cell_type": "code",
   "execution_count": 3,
   "metadata": {},
   "outputs": [
    {
     "name": "stdout",
     "output_type": "stream",
     "text": [
      "Device: mps, Sample Device: cpu\n"
     ]
    }
   ],
   "source": [
    "if torch.cuda.is_available():\n",
    "    device = torch.device(\"cuda\")\n",
    "elif torch.backends.mps.is_available():\n",
    "    device = torch.device(\"mps\")\n",
    "else:\n",
    "    device = torch.device(\"cpu\")\n",
    "\n",
    "if device != torch.device(\"cuda\"):\n",
    "    sample_device = torch.device(\"cpu\")\n",
    "else:\n",
    "    sample_device = device\n",
    "\n",
    "print(f\"Device: {device}, Sample Device: {sample_device}\")"
   ]
  },
  {
   "cell_type": "code",
   "execution_count": 10,
   "metadata": {},
   "outputs": [
    {
     "data": {
      "application/vnd.jupyter.widget-view+json": {
       "model_id": "cbba2790273540e091083c0bf3c663c7",
       "version_major": 2,
       "version_minor": 0
      },
      "text/plain": [
       "  0%|          | 0/800 [00:00<?, ?it/s]"
      ]
     },
     "metadata": {},
     "output_type": "display_data"
    }
   ],
   "source": [
    "results = []\n",
    "\n",
    "# Signatures - using non-Gu approach for now\n",
    "SIGNATURES = [\n",
    "    [(-1, 2), (-1, 2)],  # HH\n",
    "    [(-1, 2), (0, 2)],  # HE\n",
    "    [(-1, 2), (1, 2)],  # HS\n",
    "    [(1, 2), (1, 2)],  # SS\n",
    "    [(1, 2), (0, 2)],  # SE\n",
    "    [(-1, 4)],  # H\n",
    "    [(0, 4)],  # E\n",
    "    [(1, 4)],  # S\n",
    "]\n",
    "\n",
    "SIGNATURES_STR = [\"HH\", \"HE\", \"HS\", \"SS\", \"SE\", \"H\", \"E\", \"S\"]\n",
    "\n",
    "DIM = 4\n",
    "N_SAMPLES = 100\n",
    "N_POINTS = 1_000\n",
    "# N_POINTS = 100\n",
    "N_CLASSES = 8\n",
    "N_CLUSTERS = 32\n",
    "MAX_DEPTH = 3\n",
    "COV_SCALE_MEANS = 1.0\n",
    "COV_SCALE_POINTS = 1.0\n",
    "\n",
    "TASK = \"regression\"\n",
    "# TASK = \"classification\"\n",
    "RESAMPLE_SCALES = False\n",
    "N_FEATURES = \"d_choose_2\"\n",
    "\n",
    "SCORE = \"f1-micro\" if TASK == \"classification\" else \"rmse\"\n",
    "\n",
    "my_tqdm = tqdm(total=len(SIGNATURES) * N_SAMPLES)\n",
    "for i, (sig, sigstr) in enumerate(zip(SIGNATURES, SIGNATURES_STR)):\n",
    "    for seed in range(N_SAMPLES):\n",
    "        # Ensure unique seed per trial\n",
    "        seed = seed + N_SAMPLES * i\n",
    "        pm = embedders.manifolds.ProductManifold(signature=sig, device=sample_device)\n",
    "\n",
    "        # Get X, y\n",
    "        X, y = embedders.gaussian_mixture.gaussian_mixture(\n",
    "            pm=pm,\n",
    "            seed=seed,\n",
    "            num_points=N_POINTS,\n",
    "            num_classes=N_CLASSES,\n",
    "            num_clusters=N_CLUSTERS,\n",
    "            cov_scale_means=COV_SCALE_MEANS / DIM,\n",
    "            cov_scale_points=COV_SCALE_POINTS / DIM,\n",
    "            task=TASK,\n",
    "        )\n",
    "        X = X.to(device)\n",
    "        y = y.to(device)\n",
    "\n",
    "        if RESAMPLE_SCALES:\n",
    "            scale = 0.5 - np.random.rand() * 20\n",
    "            pm.P[0].scale = torch.exp(torch.tensor(scale)).item()\n",
    "            pm.P[0].manifold._log_scale = torch.nn.Parameter(torch.tensor(scale))\n",
    "\n",
    "        # Benchmarks are now handled by the benchmark function\n",
    "        accs = embedders.benchmarks.benchmark(\n",
    "            X, y, pm, max_depth=MAX_DEPTH, task=TASK, score=SCORE, seed=seed, n_features=N_FEATURES\n",
    "        )\n",
    "        accs[\"signature\"] = sigstr\n",
    "        accs[\"seed\"] = seed\n",
    "        results.append(accs)\n",
    "\n",
    "        my_tqdm.update(1)\n",
    "\n",
    "results = pd.DataFrame(results)"
   ]
  },
  {
   "cell_type": "code",
   "execution_count": 11,
   "metadata": {},
   "outputs": [],
   "source": [
    "results.to_csv(f\"../data/results/{TASK}_signature.tsv\", index=False, sep=\"\\t\")"
   ]
  }
 ],
 "metadata": {
  "kernelspec": {
   "display_name": "embedders2",
   "language": "python",
   "name": "python3"
  },
  "language_info": {
   "codemirror_mode": {
    "name": "ipython",
    "version": 3
   },
   "file_extension": ".py",
   "mimetype": "text/x-python",
   "name": "python",
   "nbconvert_exporter": "python",
   "pygments_lexer": "ipython3",
   "version": "3.10.0"
  }
 },
 "nbformat": 4,
 "nbformat_minor": 2
}

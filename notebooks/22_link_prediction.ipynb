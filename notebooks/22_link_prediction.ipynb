{
 "cells": [
  {
   "cell_type": "code",
   "execution_count": 1,
   "metadata": {},
   "outputs": [],
   "source": [
    "%load_ext autoreload\n",
    "%autoreload 2"
   ]
  },
  {
   "cell_type": "code",
   "execution_count": 2,
   "metadata": {},
   "outputs": [],
   "source": [
    "import embedders\n",
    "import networkx as nx\n",
    "import torch"
   ]
  },
  {
   "cell_type": "code",
   "execution_count": 3,
   "metadata": {},
   "outputs": [],
   "source": [
    "# Make link prediction dataset\n",
    "\n",
    "\n",
    "def make_link_prediction_dataset(X_embed, pm, adj, add_dists=True):\n",
    "    # Stack embeddings\n",
    "    emb = []\n",
    "    for i in range(len(X_embed)):\n",
    "        for j in range(len(X_embed)):\n",
    "            joint_embed = torch.cat([X_embed[i], X_embed[j]])\n",
    "            emb.append(joint_embed)\n",
    "\n",
    "    X = torch.stack(emb)\n",
    "\n",
    "    # Add distances\n",
    "    if add_dists:\n",
    "        dists = pm.pdist(X_embed)\n",
    "        X = torch.cat([X, dists.flatten().unsqueeze(1)], dim=1)\n",
    "\n",
    "    y = torch.tensor(adj.flatten())\n",
    "\n",
    "    # Make a new signature\n",
    "    new_sig = pm.signature + pm.signature\n",
    "    if add_dists:\n",
    "        new_sig.append((0, 1))\n",
    "    new_pm = embedders.manifolds.ProductManifold(signature=new_sig)\n",
    "\n",
    "    return X, y, new_pm"
   ]
  },
  {
   "cell_type": "code",
   "execution_count": 4,
   "metadata": {},
   "outputs": [],
   "source": [
    "# Any other dataset\n",
    "import embedders\n",
    "from embedders.manifolds import ProductManifold\n",
    "from embedders.tree_new import ProductSpaceDT\n",
    "from embedders.dataloaders import load\n",
    "from embedders.coordinate_learning import train_coords\n",
    "from sklearn.tree import DecisionTreeClassifier\n",
    "from sklearn.neighbors import KNeighborsClassifier\n",
    "from tqdm.notebook import tqdm\n",
    "\n",
    "# from sklearn.model_selection import train_test_split\n",
    "from scipy.stats import wilcoxon\n",
    "import numpy as np\n",
    "import pandas as pd\n",
    "import torch\n",
    "\n",
    "USE_SPECIAL_DIMS = False\n",
    "USE_DISTS = True\n",
    "SIGNATURE = [(1, 2), (0, 2), (-1, 2)]\n",
    "TEST_SIZE = 0.2\n",
    "TOTAL_ITERATIONS = 3000\n",
    "MAX_DEPTH = None\n",
    "N_TRIALS = 100"
   ]
  },
  {
   "cell_type": "code",
   "execution_count": 13,
   "metadata": {},
   "outputs": [
    {
     "name": "stdout",
     "output_type": "stream",
     "text": [
      "sklearn_dt: 0.9494 +/- 0.0017 > sklearn_rf > product_rf > tangent_rf > knn > ps_perceptron \n",
      "sklearn_rf: 0.9375 +/- 0.0018 > product_rf > knn > ps_perceptron \n",
      "product_dt: 0.9498 +/- 0.0015 > sklearn_rf > product_rf > tangent_rf > knn > ps_perceptron \n",
      "product_rf: 0.9234 +/- 0.0022 > knn > ps_perceptron \n",
      "tangent_dt: 0.9499 +/- 0.0016 > sklearn_rf > product_rf > tangent_rf > knn > ps_perceptron \n",
      "tangent_rf: 0.9394 +/- 0.0016 > product_rf > knn > ps_perceptron \n",
      "knn: 0.8827 +/- 0.0023 > ps_perceptron \n",
      "ps_perceptron: 0.7989 +/- 0.0138 \n",
      "d_avg: 0.1046 +/- 0.0001\n"
     ]
    }
   ],
   "source": [
    "# Karate club\n",
    "\n",
    "dists, labels, adj = embedders.dataloaders.load(\"karate_club\")\n",
    "dists = dists / dists.max()\n",
    "\n",
    "results = []\n",
    "my_tqdm = tqdm(total=N_TRIALS)\n",
    "while len(results) < N_TRIALS:\n",
    "    pm = ProductManifold(signature=SIGNATURE)\n",
    "    try:\n",
    "        X_embed, losses = train_coords(\n",
    "            pm,\n",
    "            dists,\n",
    "            burn_in_iterations=int(0.1 * TOTAL_ITERATIONS),\n",
    "            training_iterations=int(0.9 * TOTAL_ITERATIONS),\n",
    "            scale_factor_learning_rate=0.02,\n",
    "        )\n",
    "        assert not torch.isnan(X_embed).any()\n",
    "\n",
    "        X, y, pm_new = make_link_prediction_dataset(X_embed, pm, adj, add_dists=USE_DISTS)\n",
    "\n",
    "        res = embedders.benchmarks.benchmark(\n",
    "            X, y, pm_new, max_depth=MAX_DEPTH, task=\"classification\", use_special_dims=USE_SPECIAL_DIMS\n",
    "        )\n",
    "        res[\"d_avg\"] = embedders.metrics.d_avg(pm.pdist(X_embed), dists).item()\n",
    "        results.append(res)\n",
    "        my_tqdm.update(1)\n",
    "\n",
    "    except Exception as e:\n",
    "        print(e)\n",
    "        # print(f\"Failed iteration {len(results)}\")\n",
    "\n",
    "\n",
    "# Print results\n",
    "results = pd.DataFrame(results)\n",
    "for col in results.columns:\n",
    "    if col not in [\"model\", \"d_avg\"]:\n",
    "        r = results[col]\n",
    "        print(f\"{col}: {r.mean():.4f} +/- {r.std() / np.sqrt(N_TRIALS):.4f}\", end=\" \")\n",
    "\n",
    "        for col2 in results.columns:\n",
    "            if col2 not in [\"model\", col, \"d_avg\"]:\n",
    "                stat, p = wilcoxon(results[col], results[col2])\n",
    "                if p < 0.05 / 6 and results[col].mean() > results[col2].mean():\n",
    "                    print(f\"> {col2}\", end=\" \")\n",
    "\n",
    "        print()\n",
    "print(f\"d_avg: {results['d_avg'].mean():.4f} +/- {results['d_avg'].std() / np.sqrt(N_TRIALS):.4f}\")\n",
    "\n",
    "# Save results\n",
    "results.to_csv(\"../data/graph_benchmarks/karate_club_link.tsv\", index=False, sep=\"\\t\")"
   ]
  },
  {
   "cell_type": "code",
   "execution_count": 15,
   "metadata": {},
   "outputs": [
    {
     "name": "stdout",
     "output_type": "stream",
     "text": [
      "Top CC has 77 nodes; original graph has 77 nodes.\n"
     ]
    },
    {
     "data": {
      "application/vnd.jupyter.widget-view+json": {
       "model_id": "653ffb98ba0f4d6e9205935f6670c2b6",
       "version_major": 2,
       "version_minor": 0
      },
      "text/plain": [
       "  0%|          | 0/100 [00:00<?, ?it/s]"
      ]
     },
     "metadata": {},
     "output_type": "display_data"
    },
    {
     "data": {
      "application/vnd.jupyter.widget-view+json": {
       "model_id": "077377f23670497a8e3dbd920e68e5b0",
       "version_major": 2,
       "version_minor": 0
      },
      "text/plain": [
       "  0%|          | 0/3000 [00:00<?, ?it/s]"
      ]
     },
     "metadata": {},
     "output_type": "display_data"
    },
    {
     "data": {
      "application/vnd.jupyter.widget-view+json": {
       "model_id": "ea118a3531944ab78e1e8e8b74bde2a3",
       "version_major": 2,
       "version_minor": 0
      },
      "text/plain": [
       "  0%|          | 0/3000 [00:00<?, ?it/s]"
      ]
     },
     "metadata": {},
     "output_type": "display_data"
    },
    {
     "data": {
      "application/vnd.jupyter.widget-view+json": {
       "model_id": "2a306c74efb1403b80634d6d510403df",
       "version_major": 2,
       "version_minor": 0
      },
      "text/plain": [
       "  0%|          | 0/3000 [00:00<?, ?it/s]"
      ]
     },
     "metadata": {},
     "output_type": "display_data"
    },
    {
     "data": {
      "application/vnd.jupyter.widget-view+json": {
       "model_id": "004816c047314dbd83581c12203097ac",
       "version_major": 2,
       "version_minor": 0
      },
      "text/plain": [
       "  0%|          | 0/3000 [00:00<?, ?it/s]"
      ]
     },
     "metadata": {},
     "output_type": "display_data"
    },
    {
     "data": {
      "application/vnd.jupyter.widget-view+json": {
       "model_id": "a8be9f0f3ba544de8b90fe9bd3aadb29",
       "version_major": 2,
       "version_minor": 0
      },
      "text/plain": [
       "  0%|          | 0/3000 [00:00<?, ?it/s]"
      ]
     },
     "metadata": {},
     "output_type": "display_data"
    },
    {
     "data": {
      "application/vnd.jupyter.widget-view+json": {
       "model_id": "c4038bb1f834450ca00f8e7adcbef27b",
       "version_major": 2,
       "version_minor": 0
      },
      "text/plain": [
       "  0%|          | 0/3000 [00:00<?, ?it/s]"
      ]
     },
     "metadata": {},
     "output_type": "display_data"
    },
    {
     "data": {
      "application/vnd.jupyter.widget-view+json": {
       "model_id": "6ff803047f3445e788a3bac66e2fc1c3",
       "version_major": 2,
       "version_minor": 0
      },
      "text/plain": [
       "  0%|          | 0/3000 [00:00<?, ?it/s]"
      ]
     },
     "metadata": {},
     "output_type": "display_data"
    },
    {
     "data": {
      "application/vnd.jupyter.widget-view+json": {
       "model_id": "15f7e4399d804be58751c20fd4b41515",
       "version_major": 2,
       "version_minor": 0
      },
      "text/plain": [
       "  0%|          | 0/3000 [00:00<?, ?it/s]"
      ]
     },
     "metadata": {},
     "output_type": "display_data"
    },
    {
     "data": {
      "application/vnd.jupyter.widget-view+json": {
       "model_id": "e8abfbcc64214f2889019ebc20718140",
       "version_major": 2,
       "version_minor": 0
      },
      "text/plain": [
       "  0%|          | 0/3000 [00:00<?, ?it/s]"
      ]
     },
     "metadata": {},
     "output_type": "display_data"
    },
    {
     "data": {
      "application/vnd.jupyter.widget-view+json": {
       "model_id": "a506b937dbea4a46a962a6b4af6b527e",
       "version_major": 2,
       "version_minor": 0
      },
      "text/plain": [
       "  0%|          | 0/3000 [00:00<?, ?it/s]"
      ]
     },
     "metadata": {},
     "output_type": "display_data"
    },
    {
     "data": {
      "application/vnd.jupyter.widget-view+json": {
       "model_id": "81a986a6517e4d23b05b61f773990cb3",
       "version_major": 2,
       "version_minor": 0
      },
      "text/plain": [
       "  0%|          | 0/3000 [00:00<?, ?it/s]"
      ]
     },
     "metadata": {},
     "output_type": "display_data"
    },
    {
     "data": {
      "application/vnd.jupyter.widget-view+json": {
       "model_id": "e4a3a93c8de4497d9708a8190b69a7ac",
       "version_major": 2,
       "version_minor": 0
      },
      "text/plain": [
       "  0%|          | 0/3000 [00:00<?, ?it/s]"
      ]
     },
     "metadata": {},
     "output_type": "display_data"
    },
    {
     "data": {
      "application/vnd.jupyter.widget-view+json": {
       "model_id": "e5bab51e88494070aa3b4fad2ad30017",
       "version_major": 2,
       "version_minor": 0
      },
      "text/plain": [
       "  0%|          | 0/3000 [00:00<?, ?it/s]"
      ]
     },
     "metadata": {},
     "output_type": "display_data"
    },
    {
     "data": {
      "application/vnd.jupyter.widget-view+json": {
       "model_id": "32e96aa83d81429a9a29e6257ec6bea2",
       "version_major": 2,
       "version_minor": 0
      },
      "text/plain": [
       "  0%|          | 0/3000 [00:00<?, ?it/s]"
      ]
     },
     "metadata": {},
     "output_type": "display_data"
    },
    {
     "data": {
      "application/vnd.jupyter.widget-view+json": {
       "model_id": "8fde331374854d7dbf864daf2f0c818f",
       "version_major": 2,
       "version_minor": 0
      },
      "text/plain": [
       "  0%|          | 0/3000 [00:00<?, ?it/s]"
      ]
     },
     "metadata": {},
     "output_type": "display_data"
    },
    {
     "data": {
      "application/vnd.jupyter.widget-view+json": {
       "model_id": "45ff6c48512a41e59f414d733f7cf64d",
       "version_major": 2,
       "version_minor": 0
      },
      "text/plain": [
       "  0%|          | 0/3000 [00:00<?, ?it/s]"
      ]
     },
     "metadata": {},
     "output_type": "display_data"
    },
    {
     "data": {
      "application/vnd.jupyter.widget-view+json": {
       "model_id": "2dd8e049bf5346b69364bf7480e5f718",
       "version_major": 2,
       "version_minor": 0
      },
      "text/plain": [
       "  0%|          | 0/3000 [00:00<?, ?it/s]"
      ]
     },
     "metadata": {},
     "output_type": "display_data"
    },
    {
     "data": {
      "application/vnd.jupyter.widget-view+json": {
       "model_id": "31e3663fe4e6453baf7a65b9072fe6ea",
       "version_major": 2,
       "version_minor": 0
      },
      "text/plain": [
       "  0%|          | 0/3000 [00:00<?, ?it/s]"
      ]
     },
     "metadata": {},
     "output_type": "display_data"
    },
    {
     "data": {
      "application/vnd.jupyter.widget-view+json": {
       "model_id": "ac315e5f085e4b9699d49146c60ed172",
       "version_major": 2,
       "version_minor": 0
      },
      "text/plain": [
       "  0%|          | 0/3000 [00:00<?, ?it/s]"
      ]
     },
     "metadata": {},
     "output_type": "display_data"
    },
    {
     "data": {
      "application/vnd.jupyter.widget-view+json": {
       "model_id": "59f82e837e3c477e8af4b6008f8afe2c",
       "version_major": 2,
       "version_minor": 0
      },
      "text/plain": [
       "  0%|          | 0/3000 [00:00<?, ?it/s]"
      ]
     },
     "metadata": {},
     "output_type": "display_data"
    }
   ],
   "source": [
    "# Karate club\n",
    "\n",
    "dists, labels, adj = embedders.dataloaders.load(\"lesmis\")\n",
    "dists = dists / dists.max()\n",
    "\n",
    "results = []\n",
    "my_tqdm = tqdm(total=N_TRIALS)\n",
    "while len(results) < N_TRIALS:\n",
    "    pm = ProductManifold(signature=SIGNATURE)\n",
    "    try:\n",
    "        X_embed, losses = train_coords(\n",
    "            pm,\n",
    "            dists,\n",
    "            burn_in_iterations=int(0.1 * TOTAL_ITERATIONS),\n",
    "            training_iterations=int(0.9 * TOTAL_ITERATIONS),\n",
    "            scale_factor_learning_rate=0.02,\n",
    "        )\n",
    "        assert not torch.isnan(X_embed).any()\n",
    "\n",
    "        X, y, pm_new = make_link_prediction_dataset(X_embed, pm, adj, add_dists=USE_DISTS)\n",
    "\n",
    "        res = embedders.benchmarks.benchmark(\n",
    "            X, y, pm_new, max_depth=MAX_DEPTH, task=\"classification\", use_special_dims=USE_SPECIAL_DIMS\n",
    "        )\n",
    "        res[\"d_avg\"] = embedders.metrics.d_avg(pm.pdist(X_embed), dists).item()\n",
    "        results.append(res)\n",
    "        my_tqdm.update(1)\n",
    "\n",
    "    except Exception as e:\n",
    "        print(e)\n",
    "        # print(f\"Failed iteration {len(results)}\")\n",
    "\n",
    "\n",
    "# Print results\n",
    "results = pd.DataFrame(results)\n",
    "for col in results.columns:\n",
    "    if col not in [\"model\", \"d_avg\"]:\n",
    "        r = results[col]\n",
    "        print(f\"{col}: {r.mean():.4f} +/- {r.std() / np.sqrt(N_TRIALS):.4f}\", end=\" \")\n",
    "\n",
    "        for col2 in results.columns:\n",
    "            if col2 not in [\"model\", col, \"d_avg\"]:\n",
    "                stat, p = wilcoxon(results[col], results[col2])\n",
    "                if p < 0.05 / 6 and results[col].mean() > results[col2].mean():\n",
    "                    print(f\"> {col2}\", end=\" \")\n",
    "\n",
    "        print()\n",
    "print(f\"d_avg: {results['d_avg'].mean():.4f} +/- {results['d_avg'].std() / np.sqrt(N_TRIALS):.4f}\")\n",
    "\n",
    "# Save results\n",
    "results.to_csv(\"../data/graph_benchmarks/lesmis_link.tsv\", index=False, sep=\"\\t\")"
   ]
  },
  {
   "cell_type": "code",
   "execution_count": null,
   "metadata": {},
   "outputs": [],
   "source": []
  }
 ],
 "metadata": {
  "kernelspec": {
   "display_name": "embedders2",
   "language": "python",
   "name": "python3"
  },
  "language_info": {
   "codemirror_mode": {
    "name": "ipython",
    "version": 3
   },
   "file_extension": ".py",
   "mimetype": "text/x-python",
   "name": "python",
   "nbconvert_exporter": "python",
   "pygments_lexer": "ipython3",
   "version": "3.10.0"
  }
 },
 "nbformat": 4,
 "nbformat_minor": 2
}

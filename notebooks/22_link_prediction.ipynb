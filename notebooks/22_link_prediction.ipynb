{
 "cells": [
  {
   "cell_type": "code",
   "execution_count": 1,
   "metadata": {},
   "outputs": [],
   "source": [
    "%load_ext autoreload\n",
    "%autoreload 2"
   ]
  },
  {
   "cell_type": "code",
   "execution_count": 2,
   "metadata": {},
   "outputs": [],
   "source": [
    "import embedders"
   ]
  },
  {
   "cell_type": "code",
   "execution_count": 59,
   "metadata": {},
   "outputs": [
    {
     "name": "stdout",
     "output_type": "stream",
     "text": [
      "Top CC has 34 nodes; original graph has 34 nodes.\n"
     ]
    },
    {
     "data": {
      "application/vnd.jupyter.widget-view+json": {
       "model_id": "5004b7f029de437fbb2b94aa53b0244c",
       "version_major": 2,
       "version_minor": 0
      },
      "text/plain": [
       "  0%|          | 0/10000 [00:00<?, ?it/s]"
      ]
     },
     "metadata": {},
     "output_type": "display_data"
    }
   ],
   "source": [
    "import embedders.coordinate_learning\n",
    "\n",
    "\n",
    "pm = embedders.manifolds.ProductManifold(signature=[(-1, 4)])\n",
    "dists, adj = embedders.dataloaders.load_karate_club()\n",
    "dists = dists / dists.max()\n",
    "X_embed, losses = embedders.coordinate_learning.train_coords(pm, dists, burn_in_iterations=1000, training_iterations=9000)"
   ]
  },
  {
   "cell_type": "code",
   "execution_count": 91,
   "metadata": {},
   "outputs": [
    {
     "name": "stdout",
     "output_type": "stream",
     "text": [
      "torch.Size([1156, 11])\n"
     ]
    }
   ],
   "source": [
    "# Make link prediction dataset\n",
    "import networkx as nx\n",
    "import torch\n",
    "\n",
    "emb = []\n",
    "for i in range(len(pm.x_embed)):\n",
    "    for j in range(len(pm.x_embed)):\n",
    "        joint_embed = torch.cat([X_embed[i], X_embed[j]])\n",
    "        emb.append(joint_embed)\n",
    "\n",
    "X = torch.stack(emb)\n",
    "X = torch.cat([X, dists.flatten().unsqueeze(1)], dim=1)\n",
    "print(X.shape)\n",
    "\n",
    "y = torch.tensor(adj.flatten())"
   ]
  },
  {
   "cell_type": "code",
   "execution_count": 109,
   "metadata": {},
   "outputs": [
    {
     "name": "stdout",
     "output_type": "stream",
     "text": [
      "PDT 1.0\n",
      "DT 1.0\n"
     ]
    }
   ],
   "source": [
    "# Try link prediction\n",
    "from sklearn.model_selection import train_test_split\n",
    "from sklearn.tree import DecisionTreeClassifier\n",
    "\n",
    "MAX_DEPTH = 3\n",
    "USE_SPECIAL_DIMS = True\n",
    "# SIGNATURE = [(-1, 4), (-1, 4)]\n",
    "SIGNATURE = [(-1, 4), (-1, 4), (0, 1)]\n",
    "\n",
    "X_train, X_test, y_train, y_test = train_test_split(X, y, test_size=0.2)\n",
    "\n",
    "pdt = embedders.tree_new.ProductSpaceDT(\n",
    "    pm=embedders.manifolds.ProductManifold(SIGNATURE), \n",
    "    max_depth=MAX_DEPTH, \n",
    "    task=\"classification\", \n",
    "    use_special_dims=USE_SPECIAL_DIMS\n",
    ")\n",
    "pdt.fit(X_train, y_train)\n",
    "print(\"PDT\", pdt.score(X_test, y_test).float().mean().item())\n",
    "\n",
    "X_train, X_test, y_train, y_test = X_train.detach().numpy(), X_test.detach().numpy(), y_train.detach().numpy(), y_test.detach().numpy()\n",
    "\n",
    "dt = DecisionTreeClassifier(max_depth=MAX_DEPTH)\n",
    "dt.fit(X_train, y_train)\n",
    "print(\"DT\", dt.score(X_test, y_test))"
   ]
  },
  {
   "cell_type": "code",
   "execution_count": 137,
   "metadata": {},
   "outputs": [
    {
     "name": "stdout",
     "output_type": "stream",
     "text": [
      "Top CC has 112 nodes; original graph has 112 nodes.\n"
     ]
    },
    {
     "data": {
      "application/vnd.jupyter.widget-view+json": {
       "model_id": "85e86db4b0844714b7d7e367a88d8116",
       "version_major": 2,
       "version_minor": 0
      },
      "text/plain": [
       "  0%|          | 0/10000 [00:00<?, ?it/s]"
      ]
     },
     "metadata": {},
     "output_type": "display_data"
    }
   ],
   "source": [
    "import embedders.coordinate_learning\n",
    "\n",
    "\n",
    "pm = embedders.manifolds.ProductManifold(signature=[(-1, 2)])\n",
    "dists, adj = embedders.dataloaders.load_adjnoun()\n",
    "dists = dists / dists.max()\n",
    "X_embed, losses = embedders.coordinate_learning.train_coords(pm, dists, burn_in_iterations=1000, training_iterations=9000)"
   ]
  },
  {
   "cell_type": "code",
   "execution_count": 138,
   "metadata": {},
   "outputs": [
    {
     "name": "stdout",
     "output_type": "stream",
     "text": [
      "torch.Size([12544, 7])\n"
     ]
    }
   ],
   "source": [
    "# Make link prediction dataset\n",
    "\n",
    "emb = []\n",
    "for i in range(len(pm.x_embed)):\n",
    "    for j in range(len(pm.x_embed)):\n",
    "        joint_embed = torch.cat([X_embed[i], X_embed[j]])\n",
    "        emb.append(joint_embed)\n",
    "\n",
    "X = torch.stack(emb)\n",
    "X = torch.cat([X, dists.flatten().unsqueeze(1)], dim=1)\n",
    "print(X.shape)\n",
    "\n",
    "y = torch.tensor(adj.flatten())"
   ]
  },
  {
   "cell_type": "code",
   "execution_count": 139,
   "metadata": {},
   "outputs": [
    {
     "name": "stdout",
     "output_type": "stream",
     "text": [
      "PDT 1.0\n",
      "DT 1.0\n"
     ]
    }
   ],
   "source": [
    "# Try link prediction\n",
    "from sklearn.model_selection import train_test_split\n",
    "from sklearn.tree import DecisionTreeClassifier\n",
    "\n",
    "MAX_DEPTH = 3\n",
    "USE_SPECIAL_DIMS = True\n",
    "# SIGNATURE = [(-1, 2), (-1, 2)]\n",
    "SIGNATURE = [(-1, 2), (-1, 2), (0, 1)]\n",
    "\n",
    "X_train, X_test, y_train, y_test = train_test_split(X, y, test_size=0.2)\n",
    "\n",
    "pdt = embedders.tree_new.ProductSpaceDT(\n",
    "    pm=embedders.manifolds.ProductManifold(SIGNATURE), \n",
    "    max_depth=MAX_DEPTH, \n",
    "    task=\"classification\", \n",
    "    use_special_dims=USE_SPECIAL_DIMS\n",
    ")\n",
    "pdt.fit(X_train, y_train)\n",
    "print(\"PDT\", pdt.score(X_test, y_test).float().mean().item())\n",
    "\n",
    "X_train, X_test, y_train, y_test = X_train.detach().numpy(), X_test.detach().numpy(), y_train.detach().numpy(), y_test.detach().numpy()\n",
    "\n",
    "dt = DecisionTreeClassifier(max_depth=MAX_DEPTH)\n",
    "dt.fit(X_train, y_train)\n",
    "print(\"DT\", dt.score(X_test, y_test))"
   ]
  },
  {
   "cell_type": "code",
   "execution_count": null,
   "metadata": {},
   "outputs": [],
   "source": []
  }
 ],
 "metadata": {
  "kernelspec": {
   "display_name": "embedders2",
   "language": "python",
   "name": "python3"
  },
  "language_info": {
   "codemirror_mode": {
    "name": "ipython",
    "version": 3
   },
   "file_extension": ".py",
   "mimetype": "text/x-python",
   "name": "python",
   "nbconvert_exporter": "python",
   "pygments_lexer": "ipython3",
   "version": "3.10.0"
  }
 },
 "nbformat": 4,
 "nbformat_minor": 2
}

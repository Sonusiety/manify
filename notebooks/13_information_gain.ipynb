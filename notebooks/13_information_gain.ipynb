{
 "cells": [
  {
   "cell_type": "code",
   "execution_count": 2,
   "metadata": {},
   "outputs": [],
   "source": [
    "%load_ext autoreload\n",
    "%autoreload 2"
   ]
  },
  {
   "cell_type": "markdown",
   "metadata": {},
   "source": [
    "The purpose of this notebook is to compute information gains as efficiently as possible.\n",
    "\n",
    "First, we need to establish some ground truth information gains:"
   ]
  },
  {
   "cell_type": "markdown",
   "metadata": {},
   "source": [
    "# Basic setup"
   ]
  },
  {
   "cell_type": "code",
   "execution_count": null,
   "metadata": {},
   "outputs": [],
   "source": [
    "SAMPLE_SIZE = 10_000\n",
    "SKIP_VERIFICATION = True\n",
    "COMPARISON = \"circular\"  # \"geq\" or \"eq\" also accepted"
   ]
  },
  {
   "cell_type": "code",
   "execution_count": 4,
   "metadata": {},
   "outputs": [
    {
     "name": "stderr",
     "output_type": "stream",
     "text": [
      "INFO: Using numpy backend\n"
     ]
    }
   ],
   "source": [
    "from hyperdt.tree import HyperbolicDecisionTreeClassifier\n",
    "import embedders\n",
    "import torch\n",
    "import numpy as np\n",
    "import matplotlib.pyplot as plt"
   ]
  },
  {
   "cell_type": "code",
   "execution_count": null,
   "metadata": {},
   "outputs": [],
   "source": [
    "pm = embedders.manifolds.ProductManifold(signature=[(-1, 4)])\n",
    "\n",
    "X, y = embedders.gaussian_mixture.gaussian_mixture(pm=pm, num_points=SAMPLE_SIZE)\n",
    "print(X.shape, y.shape)"
   ]
  },
  {
   "cell_type": "markdown",
   "metadata": {},
   "source": [
    "# Develop + test new approach"
   ]
  },
  {
   "cell_type": "code",
   "execution_count": null,
   "metadata": {},
   "outputs": [],
   "source": [
    "# Compute information gains for every possible split\n",
    "\n",
    "hdt = HyperbolicDecisionTreeClassifier()\n",
    "hdt.classes_ = [0, 1]\n",
    "\n",
    "info_gains = torch.zeros_like(X, dtype=torch.float64)\n",
    "for i in range(X.shape[0]):\n",
    "    for j in range(1, X.shape[1]):\n",
    "        theta = np.arctan2(X[i, 0].item(), X[i, j].item())\n",
    "        left, right = hdt._get_split(X=X.detach().numpy(), dim=j, theta=theta)\n",
    "        score = hdt._information_gain(left, right, y.detach().numpy())\n",
    "        info_gains[i, j] = score\n",
    "\n",
    "plt.matshow(info_gains[: 32 * 16, 1:].reshape(-1, 32))  # Don't forget to drop first column"
   ]
  },
  {
   "cell_type": "code",
   "execution_count": 7,
   "metadata": {},
   "outputs": [
    {
     "name": "stdout",
     "output_type": "stream",
     "text": [
      "Angles: torch.Size([10000, 4])\n",
      "Comparisons: torch.Size([10000, 10000, 4])\n",
      "Comparisons reshaped: torch.Size([10000, 4, 10000])\n"
     ]
    }
   ],
   "source": [
    "# Great, now we have ground truth. Can we do it with tensors?\n",
    "\n",
    "# First, we process our X-values into coordinates:\n",
    "# (batch, dims + 1) --> (batch, dims)\n",
    "angles = torch.arctan2(X[:, 0:1], X[:, 1:])\n",
    "print(f\"Angles: {angles.shape}\")\n",
    "\n",
    "# Now, we create a tensor of comparisons\n",
    "# (batch, dims, batch)\n",
    "if COMPARISON == \"circular\":\n",
    "    comparisons = ((angles[:, None] - angles[None, :] + torch.pi) % (2 * torch.pi)) >= torch.pi\n",
    "elif COMPARISON == \"geq\":\n",
    "    comparisons = angles[:, None] >= angles[None, :]\n",
    "elif COMPARISON == \"eq\":\n",
    "    comparisons = angles[:, None] > angles[None, :]\n",
    "else:\n",
    "    raise ValueError(f\"Unknown comparison type: {COMPARISON}\")\n",
    "print(f\"Comparisons: {comparisons.shape}\")\n",
    "\n",
    "# Reshape the comparisons tensor to (split_batch, dims, response_batch):\n",
    "comparisons_reshaped = comparisons.permute(0, 2, 1)\n",
    "print(f\"Comparisons reshaped: {comparisons_reshaped.shape}\")\n",
    "\n",
    "# Verify that this is equivalent to what we wanted:\n",
    "# This verification is slooooow, so I'm gonna start a new cell after this\n",
    "\n",
    "if not SKIP_VERIFICATION:\n",
    "    verification_tensor = torch.zeros_like(comparisons_reshaped)\n",
    "    for split_batch in range(angles.shape[0]):\n",
    "        for dim in range(angles.shape[1]):\n",
    "            for response_batch in range(angles.shape[0]):\n",
    "                # if COMPARISON == \"circular\":\n",
    "                #     val = ((angles[split_batch, dim] - angles[response_batch, dim]) % (2 * torch.pi)) - torch.pi > 0\n",
    "                # Use the GEQ approach to verify that, on the hyperboloid, these are the same\n",
    "                if COMPARISON in [\"geq\", \"circular\"]:\n",
    "                    val = angles[split_batch, dim] >= angles[response_batch, dim]\n",
    "                elif COMPARISON == \"eq\":\n",
    "                    val = angles[split_batch, dim] > angles[response_batch, dim]\n",
    "                verification_tensor[split_batch, dim, response_batch] = val\n",
    "    assert torch.allclose(verification_tensor, comparisons_reshaped)\n",
    "    print(\"Verification passed.\")"
   ]
  },
  {
   "cell_type": "markdown",
   "metadata": {},
   "source": [
    "Gini impurity function:\n",
    "\n",
    "$$\n",
    "1 - \\sum_{i=1}^k p_i^2\n",
    "$$\n",
    "\n",
    "Information gain:\n",
    "\n",
    "$$\n",
    "IG(y) = C(y) - \\frac{|y^+|}{|y|}C(y^+) - \\frac{|y^-|}{|y|}C(y^-)\n",
    "$$"
   ]
  },
  {
   "cell_type": "code",
   "execution_count": null,
   "metadata": {},
   "outputs": [
    {
     "name": "stdout",
     "output_type": "stream",
     "text": [
      "y_onehot: torch.Size([10000, 2])\n",
      "Left labels: torch.Size([10000, 4, 2])\n",
      "Right labels: torch.Size([10000, 4, 2])\n",
      "n_left: torch.Size([10000, 4])\n",
      "n_right: torch.Size([10000, 4])\n",
      "n_total: torch.Size([10000, 4])\n",
      "Left probs: torch.Size([10000, 4, 2])\n",
      "Right probs: torch.Size([10000, 4, 2])\n",
      "Total probs: torch.Size([10000, 4, 2])\n",
      "Gini left: torch.Size([10000, 4])\n",
      "Gini right: torch.Size([10000, 4])\n",
      "Gini total: torch.Size([10000, 4])\n",
      "IG: torch.Size([10000, 4])\n",
      "Verification passed.\n"
     ]
    }
   ],
   "source": [
    "# Ok, great. Now how to transform our tensor into information gains?\n",
    "\n",
    "# First, we need to one-hot the y-values\n",
    "y_onehot = torch.nn.functional.one_hot(y, num_classes=2).double()\n",
    "print(f\"y_onehot: {y_onehot.shape}\")\n",
    "\n",
    "# Selecting a split is the same thing as multiplying by a vector from comparisons_reshaped\n",
    "# Our comparisons are already reshaped so that the last dim is the first dim of the labels, so we can use\n",
    "# batch matrix multiplication instead of einsum\n",
    "comparisons_float = comparisons_reshaped.double()\n",
    "left_labels = comparisons_float @ y_onehot\n",
    "right_labels = (1 - comparisons_float) @ y_onehot\n",
    "print(f\"Left labels: {left_labels.shape}\")\n",
    "print(f\"Right labels: {right_labels.shape}\")\n",
    "\n",
    "# What we now have is effectively a tensor of \"thinned-out\" counts of our y-values. Implicitly, we first turn some of\n",
    "# our so-called \"one-hot encoded\" y-values into zero across all classes. This has a convenient property that we can just\n",
    "# sum them up to get our class counts per split, which the matmul does.\n",
    "\n",
    "# Total counts are sums of label counts\n",
    "dim = 2\n",
    "eps = 1e-10\n",
    "n_left = left_labels.sum(dim=dim) + eps\n",
    "n_right = right_labels.sum(dim=dim) + eps\n",
    "n_total = n_left + n_right\n",
    "print(f\"n_left: {n_left.shape}\")\n",
    "print(f\"n_right: {n_right.shape}\")\n",
    "print(f\"n_total: {n_total.shape}\")\n",
    "\n",
    "# Probabilities are label counts divided by total counts\n",
    "left_probs = left_labels / n_left.unsqueeze(dim)\n",
    "right_probs = right_labels / n_right.unsqueeze(dim)\n",
    "total_probs = (left_labels + right_labels) / n_total.unsqueeze(dim)\n",
    "print(f\"Left probs: {left_probs.shape}\")\n",
    "print(f\"Right probs: {right_probs.shape}\")\n",
    "print(f\"Total probs: {total_probs.shape}\")\n",
    "\n",
    "# Gini impurity is 1 - sum(prob^2)\n",
    "gini_left = 1 - (left_probs**2).sum(dim=dim)\n",
    "gini_right = 1 - (right_probs**2).sum(dim=dim)\n",
    "gini_total = 1 - (total_probs**2).sum(dim=dim)\n",
    "# TODO: can we get rid of gini_total? It's always the same for the first split, but we may want it for later splits\n",
    "# TODO: can we also get rid of the nan_to_num step? Currently we need it because we divide by zero\n",
    "print(f\"Gini left: {gini_left.shape}\")\n",
    "print(f\"Gini right: {gini_right.shape}\")\n",
    "print(f\"Gini total: {gini_total.shape}\")\n",
    "\n",
    "# Information gain is the total gini impurity minus the weighted average of the new gini impurities\n",
    "ig_est = gini_total - (gini_left * n_left + gini_right * n_right) / n_total\n",
    "print(f\"IG: {ig_est.shape}\")\n",
    "\n",
    "assert ig_est.isnan().sum() == 0  # Ensure no NaNs\n",
    "info_gains_nonan = info_gains.clone().nan_to_num(0)\n",
    "assert torch.allclose(ig_est, info_gains_nonan[:, 1:], atol=1e-2)  # Ensure the values are the same\n",
    "print(\"Verification passed.\")"
   ]
  },
  {
   "cell_type": "code",
   "execution_count": 9,
   "metadata": {},
   "outputs": [
    {
     "data": {
      "text/plain": [
       "SignificanceResult(statistic=0.9999999028387656, pvalue=0.0)"
      ]
     },
     "execution_count": 9,
     "metadata": {},
     "output_type": "execute_result"
    }
   ],
   "source": [
    "# Guess that doesn't pass either. What's the Spearman correlation?\n",
    "from scipy.stats import spearmanr\n",
    "\n",
    "spearmanr(ig_est.flatten().nan_to_num(0).numpy(), info_gains_nonan[:, 1:].flatten().nan_to_num(0).numpy())\n",
    "\n",
    "# Well, at least that's good. Still don't know why it isn't exactly 1, but at this point I'm equally likely to chalk it up to a bug\n",
    "# in the HyperDT code as I am to a bug in my code."
   ]
  },
  {
   "cell_type": "code",
   "execution_count": 10,
   "metadata": {},
   "outputs": [
    {
     "data": {
      "image/png": "[encoded data removed]",
      "text/plain": [
       "<Figure size 640x480 with 6 Axes>"
      ]
     },
     "metadata": {},
     "output_type": "display_data"
    }
   ],
   "source": [
    "fig, axs = plt.subplots(1, 3)\n",
    "plt.colorbar(axs[0].matshow(ig_est[: 32 * 16].reshape(-1, 32)))\n",
    "axs[0].set_title(\"Estimated\")\n",
    "\n",
    "plt.colorbar(axs[1].matshow(info_gains[: 32 * 16, 1:].reshape(-1, 32)))\n",
    "axs[1].set_title(\"Ground truth\")\n",
    "\n",
    "plt.colorbar(axs[2].matshow((ig_est[: 32 * 16] - info_gains[: 32 * 16, 1:]).abs().reshape(-1, 32)))\n",
    "axs[2].set_title(\"Difference\")\n",
    "\n",
    "plt.tight_layout()\n",
    "plt.show()"
   ]
  },
  {
   "cell_type": "markdown",
   "metadata": {},
   "source": [
    "# Batched function"
   ]
  },
  {
   "cell_type": "code",
   "execution_count": null,
   "metadata": {},
   "outputs": [],
   "source": [
    "def preprocess(X, y):\n",
    "    \"\"\"\n",
    "    Preprocessing function for the new version of ProductDT\n",
    "\n",
    "    Args:\n",
    "        X*: (batch, dims + 1) tensor of hyperbolic coordinates\n",
    "        y*: (batch,) tensor of labels\n",
    "\n",
    "    Outputs:\n",
    "        X: (batch, dims) tensor of angles\n",
    "        y: (batch, n_classes) tensor of one-hot labels\n",
    "        M: (batch, dims, batch) tensor of comparisons\n",
    "    \"\"\"\n",
    "    # Ensure X and y are tensors\n",
    "    if not torch.is_tensor(X):\n",
    "        X = torch.tensor(X)\n",
    "    if not torch.is_tensor(y):\n",
    "        y = torch.tensor(y)\n",
    "\n",
    "    # Assertions: input validation\n",
    "    assert X.dim() == 2\n",
    "    assert y.dim() == 1\n",
    "    assert X.shape[0] == y.shape[0]\n",
    "\n",
    "    # First, we process our X-values into coordinates:\n",
    "    # (batch, dims + 1) --> (batch, dims)\n",
    "    angles = torch.arctan2(X[:, 0:1], X[:, 1:])\n",
    "\n",
    "    # Now, we create a tensor of comparisons\n",
    "    # (batch, dims) --> (query_batch, key_batch, dims)\n",
    "    comparisons = ((angles[:, None] - angles[None, :] + torch.pi) % (2 * torch.pi)) >= torch.pi\n",
    "\n",
    "    # Reshape the comparisons tensor:\n",
    "    # (query_batch, key_batch, dims) --> (query_batch, dims, key_batch):\n",
    "    comparisons_reshaped = comparisons.permute(0, 2, 1)\n",
    "\n",
    "    # One-hot encode labels\n",
    "    n_classes = y.unique().numel()\n",
    "    labels_onehot = torch.nn.functional.one_hot(y, num_classes=n_classes)\n",
    "\n",
    "    return angles, labels_onehot.float(), comparisons_reshaped.float()\n",
    "\n",
    "\n",
    "def get_info_gains(comparisons, labels, eps=1e-10):\n",
    "    \"\"\"\n",
    "    Given comparisons matrix and labels, return information gain for each possible split.\n",
    "\n",
    "    Args:\n",
    "        comparisons: (query_batch, dims, key_batch) tensor of comparisons\n",
    "        labels: (query_batch, n_classes) tensor of one-hot labels\n",
    "        eps: small number to prevent division by zero\n",
    "\n",
    "    Outputs:\n",
    "        ig: (query_batch, dims) tensor of information gains\n",
    "    \"\"\"\n",
    "    # Matrix-multiply to get counts of labels in left and right splits\n",
    "    pos_labels = (comparisons @ labels).float()\n",
    "    neg_labels = ((1 - comparisons) @ labels).float()\n",
    "\n",
    "    # Total counts are sums of label counts\n",
    "    n_pos = pos_labels.sum(dim=-1) + eps\n",
    "    n_neg = neg_labels.sum(dim=-1) + eps\n",
    "    n_total = n_pos + n_neg\n",
    "\n",
    "    # Probabilities are label counts divided by total counts\n",
    "    pos_probs = pos_labels / n_pos.unsqueeze(-1)\n",
    "    neg_probs = neg_labels / n_neg.unsqueeze(-1)\n",
    "    total_probs = (pos_labels + neg_labels) / n_total.unsqueeze(-1)\n",
    "\n",
    "    # Gini impurity is 1 - sum(prob^2)\n",
    "    gini_pos = 1 - (pos_probs**2).sum(dim=-1)\n",
    "    gini_neg = 1 - (neg_probs**2).sum(dim=-1)\n",
    "    gini_total = 1 - (total_probs**2).sum(dim=-1)\n",
    "\n",
    "    # Information gain is the total gini impurity minus the weighted average of the new gini impurities\n",
    "    ig = gini_total - (gini_pos * n_pos + gini_neg * n_neg) / n_total\n",
    "\n",
    "    assert not ig.isnan().any()  # Ensure no NaNs\n",
    "\n",
    "    return ig\n",
    "\n",
    "\n",
    "angles, labels_onehot, comparisons_reshaped = preprocess(X, y)\n",
    "ig_est_functional = get_info_gains(comparisons_reshaped, labels_onehot)\n",
    "assert torch.allclose(ig_est_functional, ig_est.to(ig_est_functional.dtype), atol=1e-6)"
   ]
  },
  {
   "cell_type": "code",
   "execution_count": null,
   "metadata": {},
   "outputs": [],
   "source": [
    "assert torch.allclose(\n",
    "    ig_est_functional, info_gains_nonan[:, 1:].to(ig_est_functional.dtype), atol=1e-2\n",
    ")  # Ensure the values are the same"
   ]
  },
  {
   "cell_type": "code",
   "execution_count": 17,
   "metadata": {},
   "outputs": [],
   "source": [
    "# Assertions for the implemented version in embedders\n",
    "\n",
    "pdt = embedders.tree_new.ProductSpaceDT(pm=pm)\n",
    "ang_emb, lab_emb, class_emb, comp_emb = pdt.preprocess(X, y)\n",
    "assert torch.allclose(ang_emb, angles)\n",
    "assert torch.allclose(lab_emb, labels_onehot)\n",
    "assert torch.allclose(comp_emb, comparisons_reshaped)\n",
    "\n",
    "ig_emb = embedders.tree_new.get_info_gains(comparisons=comp_emb, labels=lab_emb)\n",
    "assert torch.allclose(ig_emb, ig_est_functional)"
   ]
  },
  {
   "cell_type": "markdown",
   "metadata": {},
   "source": [
    "# Get best split"
   ]
  },
  {
   "cell_type": "code",
   "execution_count": null,
   "metadata": {},
   "outputs": [
    {
     "ename": "AssertionError",
     "evalue": "",
     "output_type": "error",
     "traceback": [
      "\u001b[0;31m---------------------------------------------------------------------------\u001b[0m",
      "\u001b[0;31mAssertionError\u001b[0m                            Traceback (most recent call last)",
      "Cell \u001b[0;32mIn[18], line 17\u001b[0m\n\u001b[1;32m     14\u001b[0m \u001b[38;5;28;01massert\u001b[39;00m comparisons_reshaped[n, d, n] \u001b[38;5;241m==\u001b[39m \u001b[38;5;241m1.\u001b[39m\n\u001b[1;32m     15\u001b[0m \u001b[38;5;28;01mif\u001b[39;00m comparisons_reshaped[n, d]\u001b[38;5;241m.\u001b[39msum() \u001b[38;5;241m>\u001b[39m \u001b[38;5;241m0\u001b[39m \u001b[38;5;129;01mand\u001b[39;00m comparisons_reshaped[n, d]\u001b[38;5;241m.\u001b[39msum() \u001b[38;5;241m<\u001b[39m comparisons_reshaped\u001b[38;5;241m.\u001b[39mshape[\u001b[38;5;241m2\u001b[39m]:\n\u001b[1;32m     16\u001b[0m     \u001b[38;5;66;03m# The exact definition\u001b[39;00m\n\u001b[0;32m---> 17\u001b[0m     \u001b[38;5;28;01massert\u001b[39;00m (\n\u001b[1;32m     18\u001b[0m         ((angles[comparisons_reshaped[n, d] \u001b[38;5;241m==\u001b[39m \u001b[38;5;241m0.\u001b[39m, d] \u001b[38;5;241m+\u001b[39m torch\u001b[38;5;241m.\u001b[39mpi) \u001b[38;5;241m%\u001b[39m (\u001b[38;5;241m2\u001b[39m \u001b[38;5;241m*\u001b[39m torch\u001b[38;5;241m.\u001b[39mpi))\u001b[38;5;241m.\u001b[39mmin() \u001b[38;5;241m>\u001b[39m \n\u001b[1;32m     19\u001b[0m         ((angles[comparisons_reshaped[n, d] \u001b[38;5;241m==\u001b[39m \u001b[38;5;241m1.\u001b[39m, d] \u001b[38;5;241m+\u001b[39m torch\u001b[38;5;241m.\u001b[39mpi) \u001b[38;5;241m%\u001b[39m (\u001b[38;5;241m2\u001b[39m \u001b[38;5;241m*\u001b[39m torch\u001b[38;5;241m.\u001b[39mpi))\u001b[38;5;241m.\u001b[39mmax()\n\u001b[1;32m     20\u001b[0m     )\n",
      "\u001b[0;31mAssertionError\u001b[0m: "
     ]
    }
   ],
   "source": [
    "# Quick sanity check: verify that for any n, d\n",
    "# We have the following:\n",
    "# angles[comparisons_reshaped[n, d] == 0., d] - angles[n, d] > 0\n",
    "# angles[comparisons_reshaped[n, d] == 1., d] - angles[n, d] <= 0\n",
    "\n",
    "# This follows directly from the definition of the comparisons tensor\n",
    "# This means that for any angle we consider, the negative class will have larger angles than the positive class\n",
    "# Therefore\n",
    "\n",
    "for n in range(angles.shape[0]):\n",
    "    for d in range(angles.shape[1]):\n",
    "        assert (\n",
    "            (angles[comparisons_reshaped[n, d] == 0.0, d] - angles[n, d] + torch.pi) % (2 * torch.pi) > torch.pi\n",
    "        ).all()\n",
    "        assert (\n",
    "            (angles[comparisons_reshaped[n, d] == 1.0, d] - angles[n, d] + torch.pi) % (2 * torch.pi) <= torch.pi\n",
    "        ).all()\n",
    "        assert comparisons_reshaped[n, d, n] == 1.0\n",
    "        if comparisons_reshaped[n, d].sum() > 0 and comparisons_reshaped[n, d].sum() < comparisons_reshaped.shape[2]:\n",
    "            # The exact definition\n",
    "            assert ((angles[comparisons_reshaped[n, d] == 0.0, d] + torch.pi) % (2 * torch.pi)).min() > (\n",
    "                (angles[comparisons_reshaped[n, d] == 1.0, d] + torch.pi) % (2 * torch.pi)\n",
    "            ).max()"
   ]
  },
  {
   "cell_type": "code",
   "execution_count": null,
   "metadata": {},
   "outputs": [
    {
     "name": "stdout",
     "output_type": "stream",
     "text": [
      "n: 614, d: 0, theta: 0.382*pi, info_gain: 0.419\n"
     ]
    }
   ],
   "source": [
    "# How can we retrieve the best split from an information gain matrix?\n",
    "# This is actually a little tough, because it involves computing midpoints and stuff\n",
    "\n",
    "\n",
    "def hyperbolic_midpoint(u, v, assert_hyperbolic=False):\n",
    "    w = torch.sin(2 * u - 2 * v) / (torch.sin(u + v) * torch.sin(v - u))\n",
    "    coef = -1 if u + v < torch.pi else 1\n",
    "    sol = (-w + coef * torch.sqrt(w**2 - 4)) / 2\n",
    "    m = torch.arctan2(torch.tensor(1), sol) % torch.pi\n",
    "    if assert_hyperbolic:\n",
    "        assert is_hyperbolic_midpoint(u, v, m)\n",
    "    return m\n",
    "\n",
    "\n",
    "def is_hyperbolic_midpoint(u, v, m):\n",
    "    a = lambda x: torch.sqrt(-1 / torch.cos(2 * x))  # Alpha coefficient to reach manifold\n",
    "    d = lambda x, y: a(x) * a(y) * torch.cos(x - y)  # Hyperbolic distance function (angular)\n",
    "    return torch.isclose(d(u, m), d(m, v))\n",
    "\n",
    "\n",
    "def spherical_midpoint(u, v):\n",
    "    return (u + v) / 2\n",
    "\n",
    "\n",
    "def euclidean_midpoint(u, v):\n",
    "    return torch.arctan2(1, (torch.tan(u) + torch.tan(v)) / 2)\n",
    "\n",
    "\n",
    "def midpoint(u, v, manifold):\n",
    "    if torch.isclose(u, v):\n",
    "        return u\n",
    "    elif manifold.type == \"H\":\n",
    "        return hyperbolic_midpoint(u, v)\n",
    "    elif manifold.type == \"S\":\n",
    "        return spherical_midpoint(u, v)\n",
    "    else:\n",
    "        return euclidean_midpoint(u, v)\n",
    "\n",
    "\n",
    "def get_best_split(ig, angles, comparisons, pm=None):\n",
    "    \"\"\"\n",
    "    All of the postprocessing for an information gain check\n",
    "\n",
    "    Args:\n",
    "        ig: (query_batch, dims) tensor of information gains\n",
    "        angles: (query_batch, dims) tensor of angles\n",
    "        comparisons: (query_batch, dims, key_batch) tensor of comparisons\n",
    "        pm: ProductManifold object, for determining midpoint approach\n",
    "\n",
    "    Returns:\n",
    "        n: scalar index of best split (positive class)\n",
    "        d: scalar dimension of best split\n",
    "        theta: scalar angle of best split\n",
    "    \"\"\"\n",
    "    # First, figure out the dimension (d) and sample (n)\n",
    "    best_split = ig.argmax()\n",
    "    nd = ig.shape[1]\n",
    "    n, d = best_split // nd, best_split % nd\n",
    "\n",
    "    # Get the corresponding angle\n",
    "    theta_pos = angles[n, d]\n",
    "\n",
    "    # We have the angle, but ideally we would like the *midpoint* angle.\n",
    "    # So we need to grab the closest angle from the negative class:\n",
    "    n_neg = (angles[comparisons[n, d] == 0.0, d] - theta_pos).abs().argmin()\n",
    "    theta_neg = angles[comparisons[n, d] == 0.0, d][n_neg]\n",
    "\n",
    "    # Get manifold\n",
    "    manifold = pm.P[pm.intrinsic2man[d.item()]]\n",
    "\n",
    "    # Print what you're doing\n",
    "    m = midpoint(theta_pos, theta_neg, manifold)\n",
    "\n",
    "    return n, d, m\n",
    "\n",
    "\n",
    "n, d, theta = get_best_split(ig_est_functional, angles, comparisons_reshaped, pm)\n",
    "print(f\"n: {n}, d: {d}, theta: {theta/torch.pi:.3f}*pi, info_gain: {ig_est_functional.max():.3f}\")"
   ]
  },
  {
   "cell_type": "code",
   "execution_count": null,
   "metadata": {},
   "outputs": [],
   "source": [
    "# Embedders check\n",
    "\n",
    "n_emb, d_emb, theta_emb = pdt.get_best_split(ig=ig_emb, angles=ang_emb, comparisons=comp_emb)\n",
    "assert n_emb == n\n",
    "assert d_emb == d\n",
    "assert torch.allclose(theta, theta_emb)"
   ]
  },
  {
   "cell_type": "markdown",
   "metadata": {},
   "source": [
    "# Compose splits"
   ]
  },
  {
   "cell_type": "code",
   "execution_count": 14,
   "metadata": {},
   "outputs": [
    {
     "name": "stdout",
     "output_type": "stream",
     "text": [
      "Comparisons neg: torch.Size([4868, 4, 4868])\n",
      "Comparisons pos: torch.Size([5132, 4, 5132])\n"
     ]
    }
   ],
   "source": [
    "# Composing splits is the final problem.\n",
    "# The issue to be aware of is that we need to keep track of the splits we've already made.\n",
    "# Luckily, our comparisons tensor allows us to index into the next comparisons tensor!\n",
    "\n",
    "mask = comparisons_reshaped[n, d].bool()\n",
    "comparisons_neg = comparisons_reshaped[mask][:, :, mask]\n",
    "comparisons_pos = comparisons_reshaped[~mask][:, :, ~mask]\n",
    "\n",
    "print(f\"Comparisons neg: {comparisons_neg.shape}\")\n",
    "print(f\"Comparisons pos: {comparisons_pos.shape}\")"
   ]
  },
  {
   "cell_type": "code",
   "execution_count": null,
   "metadata": {},
   "outputs": [],
   "source": [
    "# Rewrite this in a single function\n",
    "def get_split(comparisons, labels, n, d):\n",
    "    \"\"\"\n",
    "    Split comparisons and labels into negative and positive classes\n",
    "\n",
    "    Args:\n",
    "        comparisons: (query_batch, dims, key_batch) tensor of comparisons\n",
    "        labels: (query_batch, n_classes) tensor of one-hot labels\n",
    "        n: scalar index of split\n",
    "        d: scalar dimension of split\n",
    "\n",
    "    Returns:\n",
    "        comparisons_neg: (query_batch_neg, dims, key_batch_neg) tensor of comparisons for negative class\n",
    "        labels_neg: (query_batch_neg, n_classes) tensor of one-hot labels for negative class\n",
    "        comparisons_pos: (query_batch_pos, dims, key_batch_pos) tensor of comparisons for positive class\n",
    "        labels_pos: (query_batch_pos, n_classes) tensor of one-hot labels for positive class\n",
    "    \"\"\"\n",
    "    # Get the split mask without creating an intermediate boolean tensor\n",
    "    mask = comparisons[n, d].bool()\n",
    "\n",
    "    # Use torch.where to avoid creating intermediate tensors\n",
    "    # Bear in mind, \"mask\" is typically a float, so we have to be clever\n",
    "    pos_indices = torch.where(mask)[0]\n",
    "    neg_indices = torch.where(~mask)[0]\n",
    "\n",
    "    # Split the comparisons and labels using advanced indexing\n",
    "    comparisons_neg = comparisons[neg_indices][:, :, neg_indices]\n",
    "    comparisons_pos = comparisons[pos_indices][:, :, pos_indices]\n",
    "    labels_neg = labels[neg_indices]\n",
    "    labels_pos = labels[pos_indices]\n",
    "\n",
    "    return comparisons_neg, labels_neg, comparisons_pos, labels_pos\n",
    "\n",
    "    # # Use index_select for splitting\n",
    "    # comparisons_neg = torch.index_select(comparisons, 0, neg_indices)\n",
    "    # comparisons_neg = torch.index_select(comparisons_neg, 2, neg_indices)\n",
    "\n",
    "    # comparisons_pos = torch.index_select(comparisons, 0, pos_indices)\n",
    "    # comparisons_pos = torch.index_select(comparisons_pos, 2, pos_indices)\n",
    "\n",
    "    # labels_neg = torch.index_select(labels, 0, neg_indices)\n",
    "    # labels_pos = torch.index_select(labels, 0, pos_indices)\n",
    "\n",
    "    # return comparisons_neg, labels_neg, comparisons_pos, labels_pos"
   ]
  },
  {
   "cell_type": "code",
   "execution_count": null,
   "metadata": {},
   "outputs": [
    {
     "data": {
      "text/plain": [
       "{'d': 3,\n",
       " 'theta': 1.215075969696045,\n",
       " 'left': {'d': 0,\n",
       "  'theta': 2.270674705505371,\n",
       "  'left': {'class': 0},\n",
       "  'right': {'class': 0}},\n",
       " 'right': {'d': 0,\n",
       "  'theta': 2.270674705505371,\n",
       "  'left': {'class': 1},\n",
       "  'right': {'class': 1}}}"
      ]
     },
     "execution_count": 58,
     "metadata": {},
     "output_type": "execute_result"
    }
   ],
   "source": [
    "# Now we can write the recursion pretty easily\n",
    "\n",
    "angles, labels_onehot, comparisons_reshaped = preprocess(X, y)\n",
    "\n",
    "\n",
    "# Wrapping just the outermost function in the @torch.no_grad() decorator\n",
    "# prevents the entire function from being tracked by autograd! Clean.\n",
    "@torch.no_grad()\n",
    "def fit_node(comparisons, labels, depth, min_n=1):\n",
    "    # Take a decrement approach to depth for simplicity\n",
    "    if depth == 0:\n",
    "        return {\"class\": labels.sum(dim=0).argmax().item()}\n",
    "\n",
    "    # Edge cases where there are no more points to split\n",
    "    if len(comparisons) < min_n:\n",
    "        return {\"class\": labels.sum(dim=0).argmax().item()}\n",
    "\n",
    "    # The main loop is just the functions we've already defined\n",
    "    ig = get_info_gains(comparisons, labels)\n",
    "    n, d, theta = get_best_split(ig, angles, comparisons, pm)\n",
    "    comparisons_neg, labels_neg, comparisons_pos, labels_pos = get_split(comparisons, labels, n, d)\n",
    "    node = {\n",
    "        \"d\": d.item(),\n",
    "        \"theta\": theta.item(),\n",
    "        \"left\": fit_node(comparisons_neg, labels_neg, depth - 1),\n",
    "        \"right\": fit_node(comparisons_pos, labels_pos, depth - 1),\n",
    "    }\n",
    "    return node\n",
    "\n",
    "\n",
    "fit_node(comparisons_reshaped, labels_onehot, 2)"
   ]
  },
  {
   "cell_type": "code",
   "execution_count": 61,
   "metadata": {},
   "outputs": [
    {
     "name": "stdout",
     "output_type": "stream",
     "text": [
      "idx_sample: torch.Size([100, 10000])\n",
      "idx_dim: torch.Size([100, 2])\n"
     ]
    },
    {
     "data": {
      "application/vnd.jupyter.widget-view+json": {
       "model_id": "7515bc2e69694cb791febed101c2f717",
       "version_major": 2,
       "version_minor": 0
      },
      "text/plain": [
       "  0%|          | 0/100 [00:00<?, ?it/s]"
      ]
     },
     "metadata": {},
     "output_type": "display_data"
    },
    {
     "name": "stdout",
     "output_type": "stream",
     "text": [
      " "
     ]
    },
    {
     "name": "stdout",
     "output_type": "stream",
     "text": [
      "         181576 function calls (177175 primitive calls) in 247.004 seconds\n",
      "\n",
      "   Ordered by: internal time\n",
      "\n",
      "   ncalls  tottime  percall  cumtime  percall filename:lineno(function)\n",
      "        1  111.641  111.641  247.004  247.004 <string>:1(<module>)\n",
      "      700   77.109    0.110   77.170    0.110 1368707884.py:2(get_split)\n",
      "     2800   29.389    0.010   29.389    0.010 {built-in method torch.rsub}\n",
      "      700   23.453    0.034   53.166    0.076 4044566734.py:43(get_info_gains)\n",
      " 1500/100    2.239    0.001  133.110    1.331 _contextlib.py:112(decorate_context)\n",
      "        1    1.726    1.726    2.128    2.128 4044566734.py:1(preprocess)\n",
      "     1402    0.415    0.000    0.415    0.000 {method 'float' of 'torch._C.TensorBase' objects}\n",
      "     4300    0.243    0.000    0.243    0.000 {method 'sum' of 'torch._C.TensorBase' objects}\n",
      "      700    0.238    0.000    0.410    0.001 3289180580.py:34(get_best_split)\n",
      "     1400    0.053    0.000    0.053    0.000 {built-in method torch.where}\n",
      "      700    0.046    0.000    0.046    0.000 {built-in method torch.isclose}\n",
      " 1500/100    0.040    0.000  132.076    1.321 1473625785.py:7(fit_node)\n",
      "      421    0.034    0.000    0.065    0.000 3289180580.py:4(hyperbolic_midpoint)\n",
      "     1500    0.025    0.000    0.025    0.000 {method 'argmax' of 'torch._C.TensorBase' objects}\n",
      "     2521    0.023    0.000    0.023    0.000 {method 'pow' of 'torch._C.TensorBase' objects}\n",
      "      422    0.013    0.000    0.013    0.000 {built-in method torch.tensor}\n",
      "      700    0.013    0.000    0.013    0.000 {method 'isnan' of 'torch._C.TensorBase' objects}\n",
      "     6021    0.013    0.000   29.450    0.005 _tensor.py:34(wrapped)\n",
      "      700    0.012    0.000    0.012    0.000 {built-in method torch.floor_divide}\n",
      "      700    0.011    0.000    0.011    0.000 {method 'any' of 'torch._C.TensorBase' objects}\n",
      "      700    0.011    0.000    0.011    0.000 {method 'argmin' of 'torch._C.TensorBase' objects}\n",
      "     2900    0.010    0.000    0.010    0.000 {method 'item' of 'torch._C.TensorBase' objects}\n",
      "     2100    0.010    0.000    0.010    0.000 {method 'unsqueeze' of 'torch._C.TensorBase' objects}\n",
      "      700    0.009    0.000    0.009    0.000 {method 'abs' of 'torch._C.TensorBase' objects}\n",
      "     1500    0.009    0.000    0.009    0.000 grad_mode.py:74(__init__)\n",
      "     2800    0.009    0.000   29.398    0.010 _tensor.py:939(__rsub__)\n",
      "      320    0.008    0.000    0.008    0.000 socket.py:626(send)\n",
      "      700    0.008    0.000    0.008    0.000 {method 'bool' of 'torch._C.TensorBase' objects}\n",
      "10617/10206    0.007    0.000    0.012    0.000 traitlets.py:629(get)\n",
      "      422    0.007    0.000    0.007    0.000 {built-in method torch.arctan2}\n",
      "     1263    0.007    0.000    0.007    0.000 {built-in method torch.sin}\n",
      "11505/10879    0.007    0.000    0.019    0.000 traitlets.py:676(__get__)\n",
      "     3000    0.007    0.000    0.014    0.000 grad_mode.py:183(__init__)\n",
      "     1260    0.006    0.000    0.012    0.000 encoder.py:204(iterencode)\n",
      "     1500    0.006    0.000    0.023    0.000 _contextlib.py:141(clone)\n",
      "     1500    0.006    0.000    0.007    0.000 _contextlib.py:149(__new__)\n",
      "      103    0.006    0.000    0.009    0.000 std.py:464(format_meter)\n",
      "      700    0.006    0.000    0.012    0.000 _tensor.py:996(__len__)\n",
      "     3000    0.006    0.000    0.006    0.000 {built-in method torch._C._set_grad_enabled}\n",
      "      702    0.005    0.000    0.005    0.000 {built-in method torch._C._get_tracing_state}\n",
      "      700    0.005    0.000    0.116    0.000 3289180580.py:24(midpoint)\n",
      "     1500    0.005    0.000    0.013    0.000 grad_mode.py:79(__enter__)\n",
      "      421    0.004    0.000    0.004    0.000 {built-in method torch.sqrt}\n",
      "        1    0.004    0.004    0.004    0.004 {built-in method torch.randint}\n",
      "      315    0.003    0.000    0.054    0.000 session.py:754(send)\n",
      "      630    0.003    0.000    0.004    0.000 {method 'isoformat' of 'datetime.datetime' objects}\n",
      "     1500    0.003    0.000    0.009    0.000 grad_mode.py:83(__exit__)\n",
      "      102    0.003    0.000    0.100    0.001 notebook.py:139(display)\n",
      "      330    0.003    0.000    0.003    0.000 {method 'acquire' of '_thread.lock' objects}\n",
      "     3690    0.002    0.000    0.015    0.000 {built-in method builtins.len}\n",
      "      314    0.002    0.000    0.060    0.000 comm.py:24(publish_msg)\n",
      "     6021    0.002    0.000    0.002    0.000 {built-in method torch._C._has_torch_function}\n",
      "      317    0.002    0.000    0.076    0.000 widget.py:691(notify_change)\n",
      "      700    0.002    0.000    0.014    0.000 _tensor.py:972(__floordiv__)\n",
      "     1260    0.002    0.000    0.017    0.000 __init__.py:183(dumps)\n",
      "      315    0.002    0.000    0.028    0.000 session.py:690(serialize)\n",
      "      100    0.002    0.000    0.105    0.001 std.py:1198(update)\n",
      "     4500    0.002    0.000    0.002    0.000 {built-in method torch.is_grad_enabled}\n",
      "     1260    0.002    0.000    0.014    0.000 encoder.py:182(encode)\n",
      "    22407    0.002    0.000    0.002    0.000 typing.py:1737(cast)\n",
      "      101    0.002    0.000    0.108    0.001 std.py:1160(__iter__)\n",
      "     1260    0.002    0.000    0.019    0.000 session.py:92(json_packer)\n",
      "     8108    0.001    0.000    0.001    0.000 {built-in method builtins.isinstance}\n",
      "     2753    0.001    0.000    0.001    0.000 {built-in method builtins.hasattr}\n",
      "  314/307    0.001    0.000    0.007    0.000 widget.py:589(get_state)\n",
      "      204    0.001    0.000    0.001    0.000 std.py:400(format_interval)\n",
      "      885    0.001    0.000    0.002    0.000 traitlets.py:1942(trait_metadata)\n",
      "      605    0.001    0.000    0.001    0.000 std.py:231(__call__)\n",
      "     1827    0.001    0.000    0.001    0.000 {built-in method __new__ of type object at 0x748520}\n",
      "      416    0.001    0.000    0.001    0.000 {built-in method now}\n",
      "      303    0.001    0.000    0.067    0.000 widget.py:570(send_state)\n",
      "      381    0.001    0.000    0.002    0.000 traitlets.py:1527(_notify_observers)\n",
      "      103    0.001    0.000    0.004    0.000 std.py:1446(format_dict)\n",
      "      320    0.001    0.000    0.011    0.000 iostream.py:259(schedule)\n",
      "      315    0.001    0.000    0.006    0.000 session.py:675(sign)\n",
      "      325    0.001    0.000    0.082    0.000 traitlets.py:689(set)\n",
      "      103    0.001    0.000    0.002    0.000 std.py:102(acquire)\n",
      "      315    0.001    0.000    0.006    0.000 session.py:649(msg)\n",
      "      100    0.001    0.000    0.106    0.001 notebook.py:260(update)\n",
      "  395/389    0.001    0.000    0.005    0.000 traitlets.py:718(_validate)\n",
      "  319/314    0.001    0.000    0.001    0.000 widget.py:87(_separate_buffers)\n",
      "        1    0.001    0.001    0.001    0.001 <string>:13(<listcomp>)\n",
      "      321    0.001    0.000    0.002    0.000 traitlets.py:727(_cross_validate)\n",
      "      630    0.001    0.000    0.005    0.000 jsonutil.py:107(json_default)\n",
      "2397/1946    0.001    0.000    0.005    0.000 {built-in method builtins.getattr}\n",
      "      325    0.001    0.000    0.001    0.000 traitlets.py:1911(traits)\n",
      "     1956    0.001    0.000    0.001    0.000 {method 'replace' of 'str' objects}\n",
      "      314    0.001    0.000    0.002    0.000 kernelbase.py:634(get_parent)\n",
      "      103    0.001    0.000    0.003    0.000 notebook.py:192(colour)\n",
      "      303    0.001    0.000    0.061    0.000 widget.py:822(_send)\n",
      "      315    0.001    0.000    0.002    0.000 session.py:600(msg_id)\n",
      "      315    0.001    0.000    0.005    0.000 session.py:645(msg_header)\n",
      "      315    0.001    0.000    0.002    0.000 hmac.py:122(copy)\n",
      "      303    0.001    0.000    0.003    0.000 widget.py:739(_should_send_property)\n",
      "     1260    0.001    0.000    0.001    0.000 encoder.py:104(__init__)\n",
      "      315    0.001    0.000    0.001    0.000 {method 'copy' of '_hashlib.HMAC' objects}\n",
      "      315    0.001    0.000    0.012    0.000 iostream.py:343(send_multipart)\n",
      "      100    0.001    0.000    0.102    0.001 std.py:1325(refresh)\n",
      "      315    0.001    0.000    0.077    0.000 traitlets.py:1512(_notify_trait)\n",
      "     1500    0.001    0.000    0.001    0.000 _jit_internal.py:1120(is_scripting)\n",
      "      704    0.001    0.000    0.001    0.000 {method 'dim' of 'torch._C.TensorBase' objects}\n",
      "     1260    0.001    0.000    0.001    0.000 {method 'update' of '_hashlib.HMAC' objects}\n",
      "     1588    0.001    0.000    0.001    0.000 {method 'encode' of 'str' objects}\n",
      "      315    0.001    0.000    0.001    0.000 {method 'hexdigest' of '_hashlib.HMAC' objects}\n",
      "      322    0.001    0.000    0.001    0.000 threading.py:1169(is_alive)\n",
      "      107    0.000    0.000    0.001    0.000 traitlets.py:2807(validate)\n",
      "      102    0.000    0.000    0.000    0.000 {method 'split' of 're.Pattern' objects}\n",
      "     1260    0.000    0.000    0.001    0.000 hmac.py:117(update)\n",
      "      103    0.000    0.000    0.001    0.000 std.py:106(release)\n",
      "      322    0.000    0.000    0.083    0.000 traitlets.py:708(__set__)\n",
      "      315    0.000    0.000    0.001    0.000 session.py:854(<listcomp>)\n",
      "      320    0.000    0.000    0.000    0.000 iostream.py:137(_event_pipe)\n",
      "      116    0.000    0.000    0.000    0.000 {method 'format' of 'str' objects}\n",
      "      303    0.000    0.000    0.059    0.000 base_comm.py:143(send)\n",
      "      703    0.000    0.000    0.000    0.000 {built-in method torch._C._has_torch_function_unary}\n",
      "      102    0.000    0.000    0.001    0.000 widget_float.py:33(_validate_value)\n",
      "     1908    0.000    0.000    0.000    0.000 {method 'get' of 'dict' objects}\n",
      "      314    0.000    0.000    0.002    0.000 widget.py:132(_remove_buffers)\n",
      "      630    0.000    0.000    0.000    0.000 jsonutil.py:38(_ensure_tzinfo)\n",
      "      652    0.000    0.000    0.000    0.000 {method 'copy' of 'dict' objects}\n",
      "      634    0.000    0.000    0.000    0.000 {built-in method posix.getpid}\n",
      "      315    0.000    0.000    0.011    0.000 iostream.py:271(send_multipart)\n",
      "      315    0.000    0.000    0.001    0.000 tz.py:218(utcoffset)\n",
      "      102    0.000    0.000    0.001    0.000 re.py:288(_compile)\n",
      "        2    0.000    0.000    0.000    0.000 {method 'unbind' of 'torch._C.TensorBase' objects}\n",
      "      315    0.000    0.000    0.001    0.000 session.py:272(msg_header)\n",
      "      322    0.000    0.000    0.001    0.000 threading.py:1102(_wait_for_tstate_lock)\n",
      "        1    0.000    0.000  247.004  247.004 {built-in method builtins.exec}\n",
      "      316    0.000    0.000    0.000    0.000 threading.py:1430(current_thread)\n",
      "      315    0.000    0.000    0.001    0.000 hmac.py:161(hexdigest)\n",
      "      101    0.000    0.000    0.109    0.001 notebook.py:247(__iter__)\n",
      "      107    0.000    0.000    0.000    0.000 traitlets.py:2558(_validate_bounds)\n",
      "        1    0.000    0.000    0.000    0.000 {built-in method torch._unique2}\n",
      "      629    0.000    0.000    0.000    0.000 jsonutil.py:77(json_clean)\n",
      "      204    0.000    0.000    0.001    0.000 __init__.py:12(escape)\n",
      "      100    0.000    0.000    0.000    0.000 {built-in method torch.randperm}\n",
      "      317    0.000    0.000    0.002    0.000 traitlets.py:1523(notify_change)\n",
      "      115    0.000    0.000    0.002    0.000 traitlets.py:1238(__call__)\n",
      "     1110    0.000    0.000    0.000    0.000 {method 'append' of 'list' objects}\n",
      "      102    0.000    0.000    0.001    0.000 re.py:222(split)\n",
      "      315    0.000    0.000    0.000    0.000 {built-in method builtins.locals}\n",
      "      315    0.000    0.000    0.000    0.000 session.py:281(extract_header)\n",
      "      103    0.000    0.000    0.000    0.000 {method 'acquire' of '_multiprocessing.SemLock' objects}\n",
      "      315    0.000    0.000    0.001    0.000 session.py:198(utcnow)\n",
      "      103    0.000    0.000    0.000    0.000 {method 'acquire' of '_thread.RLock' objects}\n",
      "      204    0.000    0.000    0.000    0.000 traitlets.py:2936(validate)\n",
      "      315    0.000    0.000    0.000    0.000 {built-in method builtins.max}\n",
      "      519    0.000    0.000    0.000    0.000 {method 'update' of 'dict' objects}\n",
      "      315    0.000    0.000    0.000    0.000 configurable.py:597(initialized)\n",
      "      404    0.000    0.000    0.000    0.000 {built-in method time.time}\n",
      "      315    0.000    0.000    0.000    0.000 tz.py:262(_isdst)\n",
      "      103    0.000    0.000    0.000    0.000 utils.py:108(__init__)\n",
      "      409    0.000    0.000    0.000    0.000 {built-in method builtins.divmod}\n",
      "      314    0.000    0.000    0.000    0.000 threading.py:1129(name)\n",
      "     1260    0.000    0.000    0.000    0.000 {method 'join' of 'str' objects}\n",
      "      652    0.000    0.000    0.000    0.000 {method 'extend' of 'list' objects}\n",
      "    64/22    0.000    0.000    0.004    0.000 traitlets.py:1885(trait_defaults)\n",
      "        1    0.000    0.000    0.000    0.000 {built-in method torch._C._nn.one_hot}\n",
      "      673    0.000    0.000    0.000    0.000 {method 'items' of 'dict' objects}\n",
      "      315    0.000    0.000    0.000    0.000 hmac.py:139(_current)\n",
      "      323    0.000    0.000    0.000    0.000 threading.py:553(is_set)\n",
      "      574    0.000    0.000    0.000    0.000 widget.py:792(_trait_to_json)\n",
      "      316    0.000    0.000    0.000    0.000 {built-in method _thread.get_ident}\n",
      "       11    0.000    0.000    0.000    0.000 inspect.py:3050(_bind)\n",
      "      103    0.000    0.000    0.000    0.000 {method 'release' of '_multiprocessing.SemLock' objects}\n",
      "       12    0.000    0.000    0.000    0.000 formatters.py:396(lookup_by_type)\n",
      "       64    0.000    0.000    0.000    0.000 traitlets.py:1873(_get_trait_default_generator)\n",
      "       11    0.000    0.000    0.000    0.000 {built-in method posix.urandom}\n",
      "      120    0.000    0.000    0.000    0.000 formatters.py:552(_in_deferred_types)\n",
      "        1    0.000    0.000    0.000    0.000 {method 'permute' of 'torch._C.TensorBase' objects}\n",
      "      322    0.000    0.000    0.000    0.000 {method 'append' of 'collections.deque' objects}\n",
      "       11    0.000    0.000    0.000    0.000 uuid.py:138(__init__)\n",
      "       11    0.000    0.000    0.002    0.000 base_comm.py:36(__init__)\n",
      "        1    0.000    0.000    0.000    0.000 {built-in method torch.stack}\n",
      "      345    0.000    0.000    0.000    0.000 traitlets.py:225(__call__)\n",
      "     11/4    0.000    0.000    0.005    0.001 widget.py:522(open)\n",
      "      103    0.000    0.000    0.000    0.000 {method 'release' of '_thread.RLock' objects}\n",
      "      345    0.000    0.000    0.000    0.000 traitlets.py:222(__init__)\n",
      "    53/18    0.000    0.000    0.004    0.000 traitlets.py:591(default)\n",
      "       11    0.000    0.000    0.000    0.000 traitlets.py:1337(__init__)\n",
      "     11/4    0.000    0.000    0.005    0.001 widget.py:500(__init__)\n",
      "        1    0.000    0.000    0.010    0.010 notebook.py:202(__init__)\n",
      "       11    0.000    0.000    0.002    0.000 base_comm.py:92(open)\n",
      "       11    0.000    0.000    0.000    0.000 traitlets.py:1323(setup_instance)\n",
      "       11    0.000    0.000    0.000    0.000 traitlets.py:1295(setup_instance)\n",
      "       17    0.000    0.000    0.000    0.000 traitlets.py:3474(validate)\n",
      "       33    0.000    0.000    0.000    0.000 traitlets.py:2304(validate)\n",
      "        1    0.000    0.000    0.000    0.000 std.py:952(__init__)\n",
      "        1    0.000    0.000    0.000    0.000 {method 'int' of 'torch._C.TensorBase' objects}\n",
      "        4    0.000    0.000    0.000    0.000 iostream.py:626(write)\n",
      "       11    0.000    0.000    0.000    0.000 uuid.py:718(uuid4)\n",
      "        1    0.000    0.000    0.003    0.003 zmqshell.py:80(publish)\n",
      "        1    0.000    0.000    0.001    0.001 formatters.py:90(format)\n",
      "       11    0.000    0.000    0.000    0.000 inspect.py:2787(args)\n",
      "       11    0.000    0.000    0.000    0.000 traitlets.py:1280(__new__)\n",
      "        1    0.000    0.000    0.006    0.006 notebook.py:94(status_printer)\n",
      "        1    0.000    0.000    0.000    0.000 {built-in method torch.ceil}\n",
      "      356    0.000    0.000    0.000    0.000 {built-in method builtins.callable}\n",
      "       11    0.000    0.000    0.000    0.000 widget.py:537(_comm_changed)\n",
      "       11    0.000    0.000    0.000    0.000 inspect.py:2840(apply_defaults)\n",
      "       70    0.000    0.000    0.000    0.000 traitlets.py:1824(has_trait)\n",
      "       12    0.000    0.000    0.000    0.000 formatters.py:373(lookup)\n",
      "       11    0.000    0.000    0.001    0.000 widget.py:488(_default_keys)\n",
      "        1    0.000    0.000    0.000    0.000 {built-in method fcntl.ioctl}\n",
      "        9    0.000    0.000    0.000    0.000 formatters.py:330(__call__)\n",
      "       11    0.000    0.000    0.002    0.000 ipkernel.py:46(_create_comm)\n",
      "       11    0.000    0.000    0.000    0.000 decorator.py:199(fix)\n",
      "        1    0.000    0.000    0.004    0.004 display_functions.py:105(display)\n",
      "        2    0.000    0.000    0.003    0.001 iostream.py:563(flush)\n",
      "       11    0.000    0.000    0.000    0.000 inspect.py:2810(kwargs)\n",
      "       17    0.000    0.000    0.000    0.000 traitlets.py:3486(validate_elements)\n",
      "        4    0.000    0.000    0.000    0.000 traitlets.py:3271(validate)\n",
      "       11    0.000    0.000    0.002    0.000 comm.py:27(create_comm)\n",
      "       11    0.000    0.000    0.000    0.000 traitlets.py:194(parse_notifier_name)\n",
      "        1    0.000    0.000    0.000    0.000 utils.py:333(_screen_shape_linux)\n",
      "        1    0.000    0.000    0.000    0.000 std.py:663(__new__)\n",
      "        7    0.000    0.000    0.004    0.001 trait_types.py:408(make_dynamic_default)\n",
      "     11/8    0.000    0.000    0.000    0.000 widget.py:48(_widget_to_json)\n",
      "       11    0.000    0.000    0.000    0.000 traitlets.py:3624(validate_elements)\n",
      "       11    0.000    0.000    0.001    0.000 decorator.py:229(fun)\n",
      "        2    0.000    0.000    0.000    0.000 _tensor.py:1012(__iter__)\n",
      "        2    0.000    0.000    0.003    0.001 threading.py:288(wait)\n",
      "       11    0.000    0.000    0.001    0.000 formatters.py:219(catch_format_error)\n",
      "       11    0.000    0.000    0.000    0.000 traitlets.py:1641(observe)\n",
      "       11    0.000    0.000    0.000    0.000 traitlets.py:1256(instance_init)\n",
      "       11    0.000    0.000    0.000    0.000 dir2.py:54(get_real_method)\n",
      "       11    0.000    0.000    0.000    0.000 comm.py:7(requires_ipykernel_shim)\n",
      "       30    0.000    0.000    0.000    0.000 traitlets.py:2322(instance_init)\n",
      "        1    0.000    0.000    0.000    0.000 _tensor.py:898(unique)\n",
      "       11    0.000    0.000    0.000    0.000 uuid.py:333(hex)\n",
      "       11    0.000    0.000    0.000    0.000 widget.py:490(<listcomp>)\n",
      "       32    0.000    0.000    0.000    0.000 widget.py:547(model_id)\n",
      "       33    0.000    0.000    0.000    0.000 traitlets.py:1245(__get__)\n",
      "       11    0.000    0.000    0.000    0.000 traitlets.py:1570(_add_notifiers)\n",
      "        2    0.000    0.000    0.000    0.000 threading.py:236(__init__)\n",
      "        2    0.000    0.000    0.000    0.000 notebook.py:197(colour)\n",
      "      124    0.000    0.000    0.000    0.000 inspect.py:2699(kind)\n",
      "       30    0.000    0.000    0.000    0.000 traitlets.py:2327(_resolve_classes)\n",
      "        2    0.000    0.000    0.003    0.001 threading.py:589(wait)\n",
      "       11    0.000    0.000    0.000    0.000 base_comm.py:224(register_comm)\n",
      "       66    0.000    0.000    0.000    0.000 {built-in method builtins.next}\n",
      "        7    0.000    0.000    0.000    0.000 traitlets.py:2331(make_dynamic_default)\n",
      "      2/1    0.000    0.000    0.000    0.000 _jit_internal.py:489(fn)\n",
      "        3    0.000    0.000    0.000    0.000 traitlets.py:3997(validate)\n",
      "        1    0.000    0.000    0.003    0.003 display_functions.py:45(publish_display_data)\n",
      "        1    0.000    0.000    0.003    0.003 zmqshell.py:63(_flush_streams)\n",
      "        2    0.000    0.000    0.000    0.000 {built-in method builtins.print}\n",
      "       13    0.000    0.000    0.000    0.000 configurable.py:553(instance)\n",
      "        1    0.000    0.000    0.000    0.000 std.py:1265(close)\n",
      "        2    0.000    0.000    0.000    0.000 threading.py:545(__init__)\n",
      "        7    0.000    0.000    0.000    0.000 trait_types.py:402(validate)\n",
      "        1    0.000    0.000    0.000    0.000 std.py:686(_decr_instances)\n",
      "       11    0.000    0.000    0.000    0.000 inspect.py:3181(bind)\n",
      "        1    0.000    0.000    0.000    0.000 std.py:679(_get_free_pos)\n",
      "        2    0.000    0.000    0.000    0.000 {method 'remove' of 'set' objects}\n",
      "        1    0.000    0.000    0.000    0.000 functools.py:393(__get__)\n",
      "        1    0.000    0.000    0.000    0.000 functional.py:755(_unique_impl)\n",
      "        1    0.000    0.000    0.000    0.000 notebook.py:80(__repr__)\n",
      "        1    0.000    0.000    0.000    0.000 formatters.py:907(__call__)\n",
      "        1    0.000    0.000    0.000    0.000 functional.py:985(_return_output)\n",
      "        4    0.000    0.000    0.000    0.000 iostream.py:521(_is_master_process)\n",
      "        1    0.000    0.000    0.000    0.000 notebook.py:272(close)\n",
      "       44    0.000    0.000    0.000    0.000 inspect.py:3006(parameters)\n",
      "        4    0.000    0.000    0.002    0.001 widget_layout.py:80(__init__)\n",
      "        3    0.000    0.000    0.004    0.001 widget_description.py:30(__init__)\n",
      "        1    0.000    0.000    0.000    0.000 utils.py:213(__init__)\n",
      "        1    0.000    0.000    0.000    0.000 utils.py:273(_is_ascii)\n",
      "       12    0.000    0.000    0.000    0.000 pretty.py:321(_get_mro)\n",
      "        4    0.000    0.000    0.000    0.000 iostream.py:548(_schedule_flush)\n",
      "        1    0.000    0.000    0.000    0.000 os.py:675(__getitem__)\n",
      "        2    0.000    0.000    0.000    0.000 threading.py:267(__exit__)\n",
      "        3    0.000    0.000    0.000    0.000 std.py:110(__enter__)\n",
      "       47    0.000    0.000    0.000    0.000 inspect.py:2687(name)\n",
      "       11    0.000    0.000    0.000    0.000 {built-in method from_bytes}\n",
      "        2    0.000    0.000    0.000    0.000 {built-in method fromtimestamp}\n",
      "        2    0.000    0.000    0.000    0.000 _weakrefset.py:63(__iter__)\n",
      "       33    0.000    0.000    0.000    0.000 {method 'items' of 'mappingproxy' objects}\n",
      "       24    0.000    0.000    0.000    0.000 {method 'lower' of 'str' objects}\n",
      "        2    0.000    0.000    0.000    0.000 __init__.py:584(is_tensor)\n",
      "        1    0.000    0.000    0.000    0.000 _weakrefset.py:86(add)\n",
      "       12    0.000    0.000    0.000    0.000 formatters.py:273(_get_type)\n",
      "        1    0.000    0.000    0.000    0.000 std.py:186(__format__)\n",
      "        3    0.000    0.000    0.000    0.000 traitlets.py:1711(_register_validator)\n",
      "        1    0.000    0.000    0.000    0.000 _weakrefset.py:111(remove)\n",
      "        3    0.000    0.000    0.000    0.000 traitlets.py:4003(validate_elements)\n",
      "       11    0.000    0.000    0.000    0.000 inspect.py:191(isclass)\n",
      "       11    0.000    0.000    0.000    0.000 ipkernel.py:56(_get_comm_manager)\n",
      "       14    0.000    0.000    0.000    0.000 {built-in method builtins.id}\n",
      "       24    0.000    0.000    0.000    0.000 {built-in method builtins.iter}\n",
      "       11    0.000    0.000    0.000    0.000 widget.py:361(_call_widget_constructed)\n",
      "       11    0.000    0.000    0.000    0.000 {method 'count' of 'list' objects}\n",
      "        1    0.000    0.000    0.000    0.000 _weakrefset.py:53(_commit_removals)\n",
      "        3    0.000    0.000    0.000    0.000 traitlets.py:1759(set_trait)\n",
      "        2    0.000    0.000    0.000    0.000 threading.py:276(_acquire_restore)\n",
      "        2    0.000    0.000    0.000    0.000 threading.py:264(__enter__)\n",
      "        1    0.000    0.000    0.000    0.000 widget.py:802(_repr_mimebundle_)\n",
      "        1    0.000    0.000    0.000    0.000 formatters.py:953(__call__)\n",
      "        1    0.000    0.000    0.000    0.000 _weakrefset.py:27(__exit__)\n",
      "       11    0.000    0.000    0.000    0.000 {method 'values' of 'mappingproxy' objects}\n",
      "        2    0.000    0.000    0.000    0.000 utils.py:187(disable_on_exception)\n",
      "        3    0.000    0.000    0.000    0.000 {built-in method builtins.setattr}\n",
      "       10    0.000    0.000    0.000    0.000 formatters.py:358(_check_return)\n",
      "       15    0.000    0.000    0.000    0.000 {method 'pop' of 'dict' objects}\n",
      "        1    0.000    0.000    0.000    0.000 utils.py:347(<listcomp>)\n",
      "        1    0.000    0.000    0.000    0.000 std.py:153(__init__)\n",
      "        1    0.000    0.000    0.002    0.002 widget_float.py:23(__init__)\n",
      "       11    0.000    0.000    0.000    0.000 base_comm.py:165(on_msg)\n",
      "        3    0.000    0.000    0.000    0.000 utils.py:152(wrapper_setattr)\n",
      "       11    0.000    0.000    0.000    0.000 inspect.py:2779(__init__)\n",
      "        2    0.000    0.000    0.000    0.000 std.py:1157(__hash__)\n",
      "        2    0.000    0.000    0.003    0.001 widget_string.py:64(__init__)\n",
      "        1    0.000    0.000    0.000    0.000 zmqshell.py:73(_hooks)\n",
      "       22    0.000    0.000    0.000    0.000 traitlets.py:469(instance_init)\n",
      "        1    0.000    0.000    0.000    0.000 displaypub.py:43(_validate_data)\n",
      "        3    0.000    0.000    0.000    0.000 traitlets.py:1264(instance_init)\n",
      "        1    0.000    0.000    0.000    0.000 os.py:755(encode)\n",
      "        1    0.000    0.000    0.000    0.000 notebook.py:71(_json_)\n",
      "        1    0.000    0.000    0.000    0.000 {built-in method builtins.repr}\n",
      "       11    0.000    0.000    0.000    0.000 {built-in method builtins.ord}\n",
      "        1    0.000    0.000    0.000    0.000 _monitor.py:94(report)\n",
      "        1    0.000    0.000    0.000    0.000 utils.py:266(_supports_unicode)\n",
      "        3    0.000    0.000    0.000    0.000 std.py:226(__init__)\n",
      "        1    0.000    0.000    0.000    0.000 widget_float.py:51(_validate_max)\n",
      "        1    0.000    0.000    0.000    0.000 utils.py:125(__eq__)\n",
      "        1    0.000    0.000    0.000    0.000 formatters.py:944(_check_return)\n",
      "        3    0.000    0.000    0.000    0.000 std.py:113(__exit__)\n",
      "        4    0.000    0.000    0.000    0.000 threading.py:1145(ident)\n",
      "        4    0.000    0.000    0.000    0.000 {method 'write' of '_io.StringIO' objects}\n",
      "        1    0.000    0.000    0.000    0.000 std.py:760(get_lock)\n",
      "        1    0.000    0.000    0.001    0.001 widget_box.py:62(__init__)\n",
      "        4    0.000    0.000    0.000    0.000 {built-in method _thread.allocate_lock}\n",
      "        3    0.000    0.000    0.000    0.000 {built-in method _weakref.proxy}\n",
      "        1    0.000    0.000    0.000    0.000 utils.py:156(__init__)\n",
      "        2    0.000    0.000    0.000    0.000 threading.py:273(_release_save)\n",
      "        1    0.000    0.000    0.000    0.000 widget.py:52(<listcomp>)\n",
      "        1    0.000    0.000    0.000    0.000 _weakrefset.py:21(__enter__)\n",
      "        2    0.000    0.000    0.000    0.000 {method 'add' of 'set' objects}\n",
      "        2    0.000    0.000    0.000    0.000 threading.py:279(_is_owned)\n",
      "        1    0.000    0.000    0.000    0.000 {method 'numel' of 'torch._C.TensorBase' objects}\n",
      "        2    0.000    0.000    0.000    0.000 utils.py:222(__eq__)\n",
      "        1    0.000    0.000    0.000    0.000 std.py:682(<setcomp>)\n",
      "        2    0.000    0.000    0.000    0.000 std.py:1153(_comparable)\n",
      "        2    0.000    0.000    0.000    0.000 utils.py:139(__getattr__)\n",
      "        1    0.000    0.000    0.000    0.000 widget_float.py:41(_validate_min)\n",
      "        4    0.000    0.000    0.000    0.000 {method '__exit__' of '_thread.RLock' objects}\n",
      "        1    0.000    0.000    0.000    0.000 _weakrefset.py:17(__init__)\n",
      "        1    0.000    0.000    0.000    0.000 iostream.py:364(fileno)\n",
      "        1    0.000    0.000    0.000    0.000 std.py:167(colour)\n",
      "        1    0.000    0.000    0.000    0.000 utils.py:282(_screen_shape_wrapper)\n",
      "        1    0.000    0.000    0.000    0.000 utils.py:252(_is_utf)\n",
      "        1    0.000    0.000    0.000    0.000 {method 'disable' of '_lsprof.Profiler' objects}\n",
      "        1    0.000    0.000    0.000    0.000 utils.py:112(__format__)\n",
      "        1    0.000    0.000    0.000    0.000 {method 'difference' of 'set' objects}\n",
      "        2    0.000    0.000    0.000    0.000 {method '__enter__' of '_thread.lock' objects}\n",
      "        1    0.000    0.000    0.000    0.000 jsonutil.py:52(encode_images)\n",
      "        2    0.000    0.000    0.000    0.000 {method '__exit__' of '_thread.lock' objects}\n",
      "        3    0.000    0.000    0.000    0.000 {built-in method builtins.abs}\n",
      "        1    0.000    0.000    0.000    0.000 std.py:163(colour)\n",
      "        2    0.000    0.000    0.000    0.000 {method 'release' of '_thread.lock' objects}\n",
      "        1    0.000    0.000    0.000    0.000 {built-in method builtins.min}\n",
      "        1    0.000    0.000    0.000    0.000 {method 'pop' of 'list' objects}\n",
      "        1    0.000    0.000    0.000    0.000 formatters.py:830(_check_return)\n",
      "        1    0.000    0.000    0.000    0.000 traitlets.py:1347(ignore)"
     ]
    }
   ],
   "source": [
    "%%prun\n",
    "from tqdm.notebook import tqdm\n",
    "\n",
    "N_TREES = 100\n",
    "\n",
    "angles, labels_onehot, comparisons_reshaped = preprocess(X, y)\n",
    "\n",
    "# Resample X and y\n",
    "n, d = angles.shape\n",
    "idx_sample = torch.randint(0, n, (N_TREES, n))\n",
    "\n",
    "# Dims should be sampled with no replacement, at a rate of sqrt(D):\n",
    "D = torch.ceil(torch.tensor(d ** 0.5)).int()\n",
    "idx_dim = torch.stack([torch.randperm(d)[:D] for _ in range(N_TREES)])\n",
    "print(f\"idx_sample: {idx_sample.shape}\") # (n_trees, n)\n",
    "print(f\"idx_dim: {idx_dim.shape}\") # (n_trees, D)\n",
    "\n",
    "# Fit each tree\n",
    "fitted_trees = []\n",
    "for sample_idx, dim_idx in tqdm(zip(idx_sample, idx_dim), total=N_TREES):\n",
    "    fitted_trees.append(\n",
    "        fit_node(\n",
    "            comparisons=comparisons_reshaped[sample_idx][:, dim_idx][:, :, sample_idx],\n",
    "            labels=labels_onehot[sample_idx],\n",
    "            depth=3,\n",
    "            min_n=1\n",
    "        )\n",
    "    )"
   ]
  },
  {
   "cell_type": "code",
   "execution_count": 2,
   "metadata": {},
   "outputs": [
    {
     "ename": "RuntimeError",
     "evalue": "Class values must be smaller than num_classes.",
     "output_type": "error",
     "traceback": [
      "\u001b[0;31m---------------------------------------------------------------------------\u001b[0m",
      "\u001b[0;31mRuntimeError\u001b[0m                              Traceback (most recent call last)",
      "Cell \u001b[0;32mIn[2], line 1\u001b[0m\n\u001b[0;32m----> 1\u001b[0m \u001b[43mtorch\u001b[49m\u001b[38;5;241;43m.\u001b[39;49m\u001b[43mnn\u001b[49m\u001b[38;5;241;43m.\u001b[39;49m\u001b[43mfunctional\u001b[49m\u001b[38;5;241;43m.\u001b[39;49m\u001b[43mone_hot\u001b[49m\u001b[43m(\u001b[49m\u001b[43mtorch\u001b[49m\u001b[38;5;241;43m.\u001b[39;49m\u001b[43mtensor\u001b[49m\u001b[43m(\u001b[49m\u001b[43m[\u001b[49m\u001b[38;5;241;43m0\u001b[39;49m\u001b[43m,\u001b[49m\u001b[43m \u001b[49m\u001b[38;5;241;43m1\u001b[39;49m\u001b[43m,\u001b[49m\u001b[43m \u001b[49m\u001b[38;5;241;43m20\u001b[39;49m\u001b[43m]\u001b[49m\u001b[43m)\u001b[49m\u001b[43m,\u001b[49m\u001b[43m \u001b[49m\u001b[43mnum_classes\u001b[49m\u001b[38;5;241;43m=\u001b[39;49m\u001b[38;5;241;43m2\u001b[39;49m\u001b[43m)\u001b[49m\n",
      "\u001b[0;31mRuntimeError\u001b[0m: Class values must be smaller than num_classes."
     ]
    }
   ],
   "source": [
    "torch.nn.functional.one_hot(torch.tensor([0, 1, 20]), num_classes=2)"
   ]
  },
  {
   "cell_type": "code",
   "execution_count": 5,
   "metadata": {},
   "outputs": [
    {
     "data": {
      "text/plain": [
       "(tensor([ 0,  1, 20]), tensor([0, 1, 2]))"
      ]
     },
     "execution_count": 5,
     "metadata": {},
     "output_type": "execute_result"
    }
   ],
   "source": [
    "torch.tensor([0, 1, 20]).unique(return_inverse=True)"
   ]
  },
  {
   "cell_type": "code",
   "execution_count": 2,
   "metadata": {},
   "outputs": [],
   "source": [
    "import embedders\n",
    "\n",
    "pm = embedders.manifolds.ProductManifold(signature=[(-1, 4), (1, 4)])"
   ]
  },
  {
   "cell_type": "code",
   "execution_count": 3,
   "metadata": {},
   "outputs": [
    {
     "data": {
      "text/plain": [
       "[(-1, 4), (1, 4)]"
      ]
     },
     "execution_count": 3,
     "metadata": {},
     "output_type": "execute_result"
    }
   ],
   "source": [
    "pm.signature"
   ]
  },
  {
   "cell_type": "code",
   "execution_count": 5,
   "metadata": {},
   "outputs": [
    {
     "data": {
      "text/plain": [
       "[<embedders.manifolds.Manifold at 0x7f14ae0b2c20>,\n",
       " <embedders.manifolds.Manifold at 0x7f14ae056500>]"
      ]
     },
     "execution_count": 5,
     "metadata": {},
     "output_type": "execute_result"
    }
   ],
   "source": [
    "pm.P"
   ]
  },
  {
   "cell_type": "code",
   "execution_count": 6,
   "metadata": {},
   "outputs": [
    {
     "data": {
      "text/plain": [
       "{0: [0, 1, 2, 3, 4], 1: [5, 6, 7, 8, 9]}"
      ]
     },
     "execution_count": 6,
     "metadata": {},
     "output_type": "execute_result"
    }
   ],
   "source": [
    "pm.man2dim"
   ]
  },
  {
   "cell_type": "code",
   "execution_count": 7,
   "metadata": {},
   "outputs": [
    {
     "data": {
      "text/plain": [
       "8"
      ]
     },
     "execution_count": 7,
     "metadata": {},
     "output_type": "execute_result"
    }
   ],
   "source": [
    "pm.dim"
   ]
  },
  {
   "cell_type": "code",
   "execution_count": 8,
   "metadata": {},
   "outputs": [
    {
     "data": {
      "text/plain": [
       "{0: [0, 1, 2, 3], 1: [4, 5, 6, 7]}"
      ]
     },
     "execution_count": 8,
     "metadata": {},
     "output_type": "execute_result"
    }
   ],
   "source": [
    "pm.man2intrinsic"
   ]
  },
  {
   "cell_type": "code",
   "execution_count": 9,
   "metadata": {},
   "outputs": [
    {
     "data": {
      "text/plain": [
       "'H'"
      ]
     },
     "execution_count": 9,
     "metadata": {},
     "output_type": "execute_result"
    }
   ],
   "source": [
    "pm.P[0].type"
   ]
  },
  {
   "cell_type": "code",
   "execution_count": null,
   "metadata": {},
   "outputs": [],
   "source": []
  }
 ],
 "metadata": {
  "kernelspec": {
   "display_name": "embedders2",
   "language": "python",
   "name": "python3"
  },
  "language_info": {
   "codemirror_mode": {
    "name": "ipython",
    "version": 3
   },
   "file_extension": ".py",
   "mimetype": "text/x-python",
   "name": "python",
   "nbconvert_exporter": "python",
   "pygments_lexer": "ipython3",
   "version": "3.10.0"
  }
 },
 "nbformat": 4,
 "nbformat_minor": 2
}

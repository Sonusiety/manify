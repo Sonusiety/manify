{
 "cells": [
  {
   "cell_type": "code",
   "execution_count": null,
   "metadata": {},
   "outputs": [],
   "source": [
    "import embedders"
   ]
  },
  {
   "cell_type": "code",
   "execution_count": 1,
   "metadata": {},
   "outputs": [],
   "source": [
    "import embedders"
   ]
  },
  {
   "cell_type": "code",
   "execution_count": null,
   "metadata": {},
   "outputs": [],
   "source": [
    "import embedders.coordinate_learning\n",
    "import embedders.gaussian_mixture\n",
    "\n",
    "pm = embedders.manifolds.ProductManifold(signature=[(2, 2)])\n",
    "X, y = embedders.gaussian_mixture.gaussian_mixture(pm)\n",
    "dists = pm.pdist(X).detach()\n",
    "\n",
    "pm2 = embedders.manifolds.ProductManifold(signature=[(2, 2)])\n",
    "embedders.coordinate_learning.train_coords(pm2, dists)"
   ]
  },
  {
   "cell_type": "code",
   "execution_count": 4,
   "metadata": {},
   "outputs": [
    {
     "data": {
      "text/plain": [
       "tensor([[0.0000, 1.7505, 1.1130,  ..., 1.5541, 1.3846, 1.2747],\n",
       "        [1.7505, 0.0000, 0.7327,  ..., 0.6175, 0.4664, 0.7801],\n",
       "        [1.1130, 0.7327, 0.0000,  ..., 0.5880, 0.2768, 0.3838],\n",
       "        ...,\n",
       "        [1.5541, 0.6175, 0.5880,  ..., 0.0000, 0.4437, 0.2859],\n",
       "        [1.3846, 0.4664, 0.2768,  ..., 0.4437, 0.0000, 0.4010],\n",
       "        [1.2747, 0.7801, 0.3838,  ..., 0.2859, 0.4010, 0.0000]],\n",
       "       grad_fn=<CopySlices>)"
      ]
     },
     "execution_count": 4,
     "metadata": {},
     "output_type": "execute_result"
    }
   ],
   "source": [
    "dists"
   ]
  },
  {
   "cell_type": "code",
   "execution_count": null,
   "metadata": {},
   "outputs": [],
   "source": []
  }
 ],
 "metadata": {
  "kernelspec": {
   "display_name": "embedders2",
   "language": "python",
   "name": "python3"
  },
  "language_info": {
   "codemirror_mode": {
    "name": "ipython",
    "version": 3
   },
   "file_extension": ".py",
   "mimetype": "text/x-python",
   "name": "python",
   "nbconvert_exporter": "python",
   "pygments_lexer": "ipython3",
   "version": "3.10.0"
  }
 },
 "nbformat": 4,
 "nbformat_minor": 2
}

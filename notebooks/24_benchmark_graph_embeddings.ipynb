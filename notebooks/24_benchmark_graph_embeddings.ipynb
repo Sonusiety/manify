{
 "cells": [
  {
   "cell_type": "code",
   "execution_count": 1,
   "metadata": {},
   "outputs": [],
   "source": [
    "%load_ext autoreload\n",
    "%autoreload 2"
   ]
  },
  {
   "cell_type": "code",
   "execution_count": 10,
   "metadata": {},
   "outputs": [
    {
     "name": "stdout",
     "output_type": "stream",
     "text": [
      "[]\n"
     ]
    },
    {
     "name": "stderr",
     "output_type": "stream",
     "text": [
      "/tmp/ipykernel_703169/2526613785.py:31: FutureWarning: You are using `torch.load` with `weights_only=False` (the current default value), which uses the default pickle module implicitly. It is possible to construct malicious pickle data which will execute arbitrary code during unpickling (See https://github.com/pytorch/pytorch/blob/main/SECURITY.md#untrusted-models for more details). In a future release, the default value for `weights_only` will be flipped to `True`. This limits the functions that could be executed during unpickling. Arbitrary objects will no longer be allowed to be loaded via this mode unless they are explicitly allowlisted by the user via `torch.serialization.add_safe_globals`. We recommend you start setting `weights_only=True` for any use case where you don't have full control of the loaded file. Please open an issue on GitHub for any issues related to this experimental feature.\n",
      "  my_data = torch.load(f\"../data/graphs/embeddings/{embedding}/{signature}_{trial}.h5\")\n"
     ]
    }
   ],
   "source": [
    "# import numpy as np\n",
    "# import pandas as pd\n",
    "import torch\n",
    "\n",
    "EMBEDDINGS_NAMES = [\n",
    "    \"polblogs\",\n",
    "    \"cs_phds\",\n",
    "    \"cora\",\n",
    "    \"citeseer\",\n",
    "]\n",
    "\n",
    "# Copied from notebook 2\n",
    "SIGNATURES = [\n",
    "    [(-1, 2), (-1, 2)],  # HH\n",
    "    [(-1, 2), (0, 2)],  # HE\n",
    "    [(-1, 2), (1, 2)],  # HS\n",
    "    [(1, 2), (1, 2)],  # SS\n",
    "    [(1, 2), (0, 2)],  # SE\n",
    "    [(-1, 4)],  # H\n",
    "    [(0, 4)],  # E\n",
    "    [(1, 4)],  # S\n",
    "]\n",
    "SIGNATURES_STR = [\"HH\", \"HE\", \"HS\", \"SS\", \"SE\", \"H\", \"E\", \"S\"]\n",
    "n_trials = 10\n",
    "\n",
    "bad = []\n",
    "d_avs = {}\n",
    "for embedding in EMBEDDINGS_NAMES:\n",
    "    for signature in SIGNATURES_STR:\n",
    "        for trial in range(n_trials):\n",
    "            my_data = torch.load(f\"../data/graphs/embeddings/{embedding}/{signature}_{trial}.h5\")\n",
    "            # if np.isnan(my_data).any():\n",
    "            for key in my_data.keys():\n",
    "                if torch.isnan(my_data[key]).any():\n",
    "                    bad.append((embedding, signature, trial, key))\n",
    "                    print(embedding, signature, trial, key)\n",
    "print(bad)"
   ]
  },
  {
   "cell_type": "code",
   "execution_count": 32,
   "metadata": {},
   "outputs": [
    {
     "name": "stdout",
     "output_type": "stream",
     "text": [
      "Top CC has 1222 nodes; original graph has 1490 nodes.\n",
      "8133.362760749074\n",
      "6282.458146391739\n",
      "6514.013792551637\n",
      "2817.579299868043\n",
      "5138.478426278824\n",
      "7488.2461157228\n",
      "10689.239262650774\n",
      "6901.124861788506\n",
      "7829.991511053375\n",
      "5125.661594368471\n",
      "11.115766913300245\n",
      "9.417566351510077\n",
      "20.26462634401046\n",
      "10.764127569406167\n",
      "17.33344820301262\n",
      "6.631368254330658\n",
      "11.73347137557037\n",
      "13.085465401050538\n",
      "13.777944691529898\n",
      "9.18694457271293\n",
      "1.5801888580075505\n",
      "1.5447004709422136\n",
      "1.4578341312042675\n",
      "1.5926130733556012\n",
      "1.7024469998140357\n",
      "1.599671478881776\n",
      "1.668014194045843\n",
      "1.723744060004334\n",
      "1.6548367323561433\n",
      "1.9222265751346213\n",
      "1.2977793270399474\n",
      "1.2041149751143094\n",
      "1.451637327589419\n",
      "1.2800961342302954\n",
      "1.3325622458136908\n",
      "1.3959049222198978\n",
      "1.4146348229193468\n",
      "1.3254927531838168\n",
      "1.458189406944395\n",
      "1.2937367773994906\n",
      "1.7414195720374466\n",
      "1.836662726702543\n",
      "1.6952059555901462\n",
      "1.547037583373384\n",
      "1.9439169488232702\n",
      "1.6143182558341176\n",
      "1.4742973853744141\n",
      "1.658631345553393\n",
      "1.6878575447991249\n",
      "1.669320195591129\n",
      "16086.808469667158\n",
      "25329.261150111754\n",
      "21597.80142466053\n",
      "25518.002110235888\n",
      "33132.104297675935\n",
      "20916.951143323524\n",
      "14767.78892101403\n",
      "10211.855350948255\n",
      "19251.636395408208\n",
      "14689.178771462222\n",
      "9.979812213019208\n",
      "10.888688528321907\n",
      "17.511038272544702\n",
      "10.31488359607918\n",
      "14.191574289018808\n",
      "18.15575706803074\n",
      "16.509675474637845\n",
      "16.333591083799856\n",
      "14.960693159890004\n",
      "20.345085289827463\n",
      "1.5438352628687075\n",
      "1.7122424988910128\n",
      "1.6237170754535293\n",
      "1.6544602126962775\n",
      "1.658301395162705\n",
      "1.7128317676082578\n",
      "1.5637682821245456\n",
      "1.895592288166883\n",
      "1.6371801657871812\n",
      "1.818156512068629\n",
      "Top CC has 1025 nodes; original graph has 1025 nodes.\n",
      "6643.138238904979\n",
      "6073.908743622678\n",
      "14795.548733734815\n",
      "10145.574560872701\n",
      "10865.894594231317\n",
      "10894.7072222234\n",
      "8288.08220630592\n",
      "10861.428619973205\n",
      "6911.268095371058\n",
      "8628.134009394187\n",
      "12.538128859654694\n",
      "13.926544801777487\n",
      "12.418991033407245\n",
      "10.584858714224774\n",
      "11.117239249468826\n",
      "12.424738875348565\n",
      "11.739665319242043\n",
      "12.961133720971171\n",
      "12.122417056572036\n",
      "9.881104591173225\n",
      "2.432178221148807\n",
      "2.3800171157846934\n",
      "2.6219134462754297\n",
      "2.4694196670690736\n",
      "2.446652015901569\n",
      "2.2862152693595528\n",
      "2.4147572412850122\n",
      "2.4136955158174573\n",
      "2.3182977427614775\n",
      "2.3589365142191476\n",
      "2.3119580208000925\n",
      "2.2870691082981516\n",
      "2.362534086178213\n",
      "2.2131949715863297\n",
      "2.1348661912795763\n",
      "2.405915516947358\n",
      "2.252379954574621\n",
      "2.2093090235541797\n",
      "2.3550083536279875\n",
      "2.2654773330118987\n",
      "2.364942473544113\n",
      "2.393993059784865\n",
      "2.383504770787689\n",
      "2.3878025052854643\n",
      "2.324913411902754\n",
      "2.449546850233711\n",
      "2.4698739758904744\n",
      "2.5618718925708563\n",
      "2.334315827617152\n",
      "2.3620330920664303\n",
      "51838.45209940133\n",
      "58602.34230030774\n",
      "46572.89014966186\n",
      "54736.79027146504\n",
      "58151.4509956313\n",
      "81485.34419651754\n",
      "42025.745683925925\n",
      "60932.493639733984\n",
      "49841.00615649108\n",
      "50164.229687102044\n",
      "21.613055030392662\n",
      "17.856004762793194\n",
      "17.25465555704066\n",
      "19.958245656736693\n",
      "16.71622953928566\n",
      "14.547504709384048\n",
      "23.85711293111548\n",
      "17.47659751755675\n",
      "14.550467299667297\n",
      "16.733761366255628\n",
      "2.7080204663150114\n",
      "2.4716201657989547\n",
      "2.3951547153757136\n",
      "2.4217239725965025\n",
      "2.3320601985595384\n",
      "2.4039055399562708\n",
      "2.3308166645385464\n",
      "2.658117025701796\n",
      "2.441260044463709\n",
      "2.306705107776017\n",
      "Top CC has 2485 nodes; original graph has 2708 nodes.\n",
      "9231.575435701396\n",
      "8560.953860703648\n",
      "6615.559710630572\n",
      "11489.474266656434\n",
      "6588.127402733147\n",
      "7964.5796445214455\n",
      "8779.279302772531\n",
      "7168.670720332709\n",
      "6190.968408051244\n",
      "3788.623824779211\n",
      "6.197703234611214\n",
      "6.887682997085091\n",
      "6.7576301909366565\n",
      "6.779872896338002\n",
      "6.571907738860808\n",
      "9.295766716156637\n",
      "7.515814776320984\n",
      "5.330785831001031\n",
      "9.630168316503667\n",
      "7.122746501759765\n",
      "1.129895620526332\n",
      "1.1269770560857582\n",
      "1.1680819582512296\n",
      "1.1835906665771445\n",
      "1.1555089567973098\n",
      "1.1419302282212183\n",
      "1.1853103059072954\n",
      "1.1335703706383646\n",
      "1.1837139013706672\n",
      "1.1223990656674436\n",
      "1.0950231583864953\n",
      "1.089766203088787\n",
      "1.0653119870126473\n",
      "1.0799236298788562\n",
      "1.0845399168536187\n",
      "1.0746760919139502\n",
      "1.1095341627708273\n",
      "1.1038070243766787\n",
      "1.0952576082174608\n",
      "1.1101209734517399\n",
      "1.1286263906490945\n",
      "1.1544440895658439\n",
      "1.1355525178953179\n",
      "1.203423567051287\n",
      "1.1257095675424844\n",
      "1.1495731017881667\n",
      "1.129034418804097\n",
      "1.0981662408569226\n",
      "1.1257127598082557\n",
      "1.1601424942264764\n",
      "23256.52622963807\n",
      "20536.841984541315\n",
      "21858.140214790772\n",
      "20480.080982799962\n",
      "19401.586977837946\n",
      "21864.229998135914\n",
      "21229.650746715903\n",
      "23854.283282124416\n",
      "27815.96797749031\n",
      "19294.47536277331\n",
      "7.3806855502424\n",
      "7.761999721915221\n",
      "7.629643355017419\n",
      "8.91296671457416\n",
      "8.305761680569614\n",
      "7.3915444414551565\n",
      "8.11748709106852\n",
      "7.320791125061348\n",
      "8.096195962782684\n",
      "8.396705365597606\n",
      "1.1628067799783335\n",
      "1.1946286247581555\n",
      "1.1711154488448337\n",
      "1.1620930294932532\n",
      "1.1443795910107764\n",
      "1.1577539715247633\n",
      "1.1039751379278127\n",
      "1.1226213639389364\n",
      "1.1530389829858703\n",
      "1.1643232978253937\n",
      "Top CC has 2110 nodes; original graph has 3264 nodes.\n",
      "2106.830249915947\n",
      "3249.9167000820585\n",
      "2905.671959663454\n",
      "2180.7200795716226\n",
      "2809.6595782906325\n",
      "3187.600548499537\n",
      "3033.673127761867\n",
      "2502.1348483148918\n",
      "1982.4906756508258\n",
      "4657.437853057087\n",
      "3.087920253980344\n",
      "3.7558707498990045\n",
      "3.2789939722450745\n",
      "3.1709783381908347\n",
      "3.3117590421579215\n",
      "3.7374947512012056\n",
      "3.1163629069718137\n",
      "3.1913250016956884\n",
      "3.2055088008410224\n",
      "3.29367542269661\n",
      "1.5370791403393695\n",
      "1.5600585310317587\n",
      "1.5042591139812165\n",
      "1.577693455886766\n",
      "1.5508579508534457\n",
      "1.4871260392534364\n",
      "1.5276942798595976\n",
      "1.4791015522886426\n",
      "1.5167069217140723\n",
      "1.551093327212602\n",
      "1.5004967981403585\n",
      "1.4779630799846957\n",
      "1.462292114576666\n",
      "1.4815174322443025\n",
      "1.4900909553676185\n",
      "1.5361959603134445\n",
      "1.4943487083291258\n",
      "1.4623680188110868\n",
      "1.5004342898375724\n",
      "1.443973791895873\n",
      "1.4935471550838197\n",
      "1.5594985080894768\n",
      "1.544765724883449\n",
      "1.5742015766800344\n",
      "1.4989801963022777\n",
      "1.5673417335869035\n",
      "1.5429446955795416\n",
      "1.4976790274037484\n",
      "1.4919520002008424\n",
      "1.5068595337777118\n",
      "10786.187827227028\n",
      "10884.669994864016\n",
      "7035.404047550881\n",
      "8406.714911016097\n",
      "8588.485367902935\n",
      "8708.255474706144\n",
      "9835.759519477266\n",
      "9706.711487710758\n",
      "9412.011784146434\n",
      "9120.233829122015\n",
      "4.300958913031867\n",
      "4.499383312293756\n",
      "4.707904437992202\n",
      "4.12817446951391\n",
      "4.014990613274654\n",
      "4.413962761159619\n",
      "4.055646601270694\n",
      "4.002878123610253\n",
      "5.6604493204499144\n",
      "4.105238874127697\n",
      "1.5194702110671516\n",
      "1.5423870879816222\n",
      "1.5446277349670539\n",
      "1.4734247072067523\n",
      "1.5129454652428482\n",
      "1.5412547886447312\n",
      "1.5097235001683202\n",
      "1.431983343729987\n",
      "1.5684300913862717\n",
      "1.4886540553373189\n"
     ]
    }
   ],
   "source": [
    "# What is the lowest-distortion signature for each embedding?\n",
    "dists = pd.DataFrame(columns=[\"embedding\", \"signature\", \"trial\", \"D_avg\"])\n",
    "\n",
    "for embedding in EMBEDDINGS_NAMES:\n",
    "    D_true, _, _ = embedders.dataloaders.load(embedding)\n",
    "    D_true = D_true.to(\"cuda\")\n",
    "    for signature, sigstr in zip(SIGNATURES, SIGNATURES_STR):\n",
    "        for trial in range(n_trials):\n",
    "            my_data = torch.load(f\"../data/graphs/embeddings/{embedding}/{sigstr}_{trial}.h5\", map_location=\"cuda\", weights_only=True)\n",
    "\n",
    "            # Get train and test index\n",
    "            test_idx = my_data[\"test_idx\"]\n",
    "            train_idx = torch.tensor([i for i in range(D_true.shape[0]) if i not in test_idx], device=\"cuda\")\n",
    "\n",
    "            # Dist needs to be rescaled\n",
    "            D_train = D_true[train_idx][:, train_idx]\n",
    "            D_train_max = torch.max(D_train[torch.isfinite(D_train)])\n",
    "            D_train = D_train / D_train_max\n",
    "\n",
    "            # Get estimated distance\n",
    "            pm = embedders.manifolds.ProductManifold(signature=signature, device=\"cuda\")\n",
    "            D_est = pm.pdist(my_data[\"X_train\"])\n",
    "\n",
    "            # Correct for scaling using maximum-likelihood scaling factor\n",
    "            triu_idx = torch.triu_indices(D_train.shape[0], D_train.shape[1], offset=1)\n",
    "            D_train_triu = D_train[triu_idx[0], triu_idx[1]]\n",
    "            D_est_triu = D_est[triu_idx[0], triu_idx[1]]\n",
    "            a = (\n",
    "                torch.sum((D_train_triu * D_est_triu) / (D_train_triu ** 2)) / \n",
    "                torch.sum(D_est_triu ** 2 / D_train_triu ** 2)\n",
    "            )\n",
    "            D_est = a * D_est\n",
    "\n",
    "            D_avg = embedders.metrics.d_avg(D_train, D_est, pairwise=True).item()\n",
    "            print(D_avg)\n",
    "\n",
    "            dists.loc[len(dists)] = {\n",
    "                    \"embedding\": embedding,\n",
    "                    \"signature\": signature,\n",
    "                    \"trial\": trial,\n",
    "                    \"D_avg\": D_avg\n",
    "                }"
   ]
  },
  {
   "cell_type": "code",
   "execution_count": 31,
   "metadata": {},
   "outputs": [
    {
     "data": {
      "text/plain": [
       "tensor(nan, device='cuda:0', dtype=torch.float64, grad_fn=<DivBackward0>)"
      ]
     },
     "execution_count": 31,
     "metadata": {},
     "output_type": "execute_result"
    }
   ],
   "source": [
    "a"
   ]
  },
  {
   "cell_type": "code",
   "execution_count": 18,
   "metadata": {},
   "outputs": [
    {
     "data": {
      "text/plain": [
       "tensor([[0.0000, 0.1250, 0.3750,  ..., 0.2500, 0.5000, 0.3750],\n",
       "        [0.1250, 0.0000, 0.3750,  ..., 0.3750, 0.5000, 0.3750],\n",
       "        [0.3750, 0.3750, 0.0000,  ..., 0.2500, 0.3750, 0.2500],\n",
       "        ...,\n",
       "        [0.2500, 0.3750, 0.2500,  ..., 0.0000, 0.3750, 0.2500],\n",
       "        [0.5000, 0.5000, 0.3750,  ..., 0.3750, 0.0000, 0.1250],\n",
       "        [0.3750, 0.3750, 0.2500,  ..., 0.2500, 0.1250, 0.0000]],\n",
       "       device='cuda:0', dtype=torch.float64)"
      ]
     },
     "execution_count": 18,
     "metadata": {},
     "output_type": "execute_result"
    }
   ],
   "source": [
    "D_train"
   ]
  },
  {
   "cell_type": "code",
   "execution_count": 22,
   "metadata": {},
   "outputs": [
    {
     "data": {
      "text/plain": [
       "tensor(True, device='cuda:0')"
      ]
     },
     "execution_count": 22,
     "metadata": {},
     "output_type": "execute_result"
    }
   ],
   "source": [
    "D_train.isfinite().all()"
   ]
  },
  {
   "cell_type": "code",
   "execution_count": 20,
   "metadata": {},
   "outputs": [
    {
     "data": {
      "text/plain": [
       "tensor(nan, device='cuda:0', dtype=torch.float64, grad_fn=<MeanBackward0>)"
      ]
     },
     "execution_count": 20,
     "metadata": {},
     "output_type": "execute_result"
    }
   ],
   "source": [
    "embedders.metrics.d_avg(D_train, D_est)"
   ]
  },
  {
   "cell_type": "code",
   "execution_count": 25,
   "metadata": {},
   "outputs": [
    {
     "data": {
      "text/plain": [
       "tensor([[   nan, 1.9749, 0.3306,  ..., 0.5305, 0.4927, 0.2669],\n",
       "        [1.9749,    nan, 0.4439,  ..., 0.0091, 0.0212, 0.2882],\n",
       "        [0.3306, 0.4439,    nan,  ..., 0.5147, 0.1386, 0.6107],\n",
       "        ...,\n",
       "        [0.5305, 0.0091, 0.5147,  ...,    nan, 0.0066, 0.0089],\n",
       "        [0.4927, 0.0212, 0.1386,  ..., 0.0066,    nan, 1.5516],\n",
       "        [0.2669, 0.2882, 0.6107,  ..., 0.0089, 1.5516,    nan]],\n",
       "       device='cuda:0', dtype=torch.float64, grad_fn=<DivBackward0>)"
      ]
     },
     "execution_count": 25,
     "metadata": {},
     "output_type": "execute_result"
    }
   ],
   "source": [
    "torch.abs(D_est - D_train) / D_train"
   ]
  },
  {
   "cell_type": "code",
   "execution_count": 39,
   "metadata": {},
   "outputs": [
    {
     "data": {
      "application/vnd.jupyter.widget-view+json": {
       "model_id": "074c56a4389947eba69cb29816cfebca",
       "version_major": 2,
       "version_minor": 0
      },
      "text/plain": [
       "  0%|          | 0/30 [00:00<?, ?it/s]"
      ]
     },
     "metadata": {},
     "output_type": "display_data"
    },
    {
     "name": "stdout",
     "output_type": "stream",
     "text": [
      "Top CC has 1222 nodes; original graph has 1490 nodes.\n"
     ]
    },
    {
     "data": {
      "application/vnd.jupyter.widget-view+json": {
       "model_id": "b920ec951a7d441dacbdf0cbc098da47",
       "version_major": 2,
       "version_minor": 0
      },
      "text/plain": [
       "  0%|          | 0/4000 [00:00<?, ?it/s]"
      ]
     },
     "metadata": {},
     "output_type": "display_data"
    },
    {
     "data": {
      "application/vnd.jupyter.widget-view+json": {
       "model_id": "652558f5a2be435982c751b509796370",
       "version_major": 2,
       "version_minor": 0
      },
      "text/plain": [
       "  0%|          | 0/4000 [00:00<?, ?it/s]"
      ]
     },
     "metadata": {},
     "output_type": "display_data"
    },
    {
     "data": {
      "application/vnd.jupyter.widget-view+json": {
       "model_id": "67ef3863d6f84b09b000cfaa4e93599f",
       "version_major": 2,
       "version_minor": 0
      },
      "text/plain": [
       "  0%|          | 0/4000 [00:00<?, ?it/s]"
      ]
     },
     "metadata": {},
     "output_type": "display_data"
    },
    {
     "data": {
      "application/vnd.jupyter.widget-view+json": {
       "model_id": "870c9297a39d481499ceddf1901c9c69",
       "version_major": 2,
       "version_minor": 0
      },
      "text/plain": [
       "  0%|          | 0/4000 [00:00<?, ?it/s]"
      ]
     },
     "metadata": {},
     "output_type": "display_data"
    },
    {
     "data": {
      "application/vnd.jupyter.widget-view+json": {
       "model_id": "0e00d951d5554511843be69236c9fb7f",
       "version_major": 2,
       "version_minor": 0
      },
      "text/plain": [
       "  0%|          | 0/4000 [00:00<?, ?it/s]"
      ]
     },
     "metadata": {},
     "output_type": "display_data"
    },
    {
     "data": {
      "application/vnd.jupyter.widget-view+json": {
       "model_id": "361b84af79af4f56a1698eefd4165c2b",
       "version_major": 2,
       "version_minor": 0
      },
      "text/plain": [
       "  0%|          | 0/4000 [00:00<?, ?it/s]"
      ]
     },
     "metadata": {},
     "output_type": "display_data"
    },
    {
     "data": {
      "application/vnd.jupyter.widget-view+json": {
       "model_id": "3bec54b0324d414788b872d8ab814b01",
       "version_major": 2,
       "version_minor": 0
      },
      "text/plain": [
       "  0%|          | 0/4000 [00:00<?, ?it/s]"
      ]
     },
     "metadata": {},
     "output_type": "display_data"
    },
    {
     "data": {
      "application/vnd.jupyter.widget-view+json": {
       "model_id": "054aaabd75fe4e9bac7575c29c0f244e",
       "version_major": 2,
       "version_minor": 0
      },
      "text/plain": [
       "  0%|          | 0/4000 [00:00<?, ?it/s]"
      ]
     },
     "metadata": {},
     "output_type": "display_data"
    },
    {
     "data": {
      "application/vnd.jupyter.widget-view+json": {
       "model_id": "21deca2e7e4540b880856e002e9cbdd6",
       "version_major": 2,
       "version_minor": 0
      },
      "text/plain": [
       "  0%|          | 0/4000 [00:00<?, ?it/s]"
      ]
     },
     "metadata": {},
     "output_type": "display_data"
    },
    {
     "data": {
      "application/vnd.jupyter.widget-view+json": {
       "model_id": "edc28df1d1d14a588dc2414d14dffeba",
       "version_major": 2,
       "version_minor": 0
      },
      "text/plain": [
       "  0%|          | 0/4000 [00:00<?, ?it/s]"
      ]
     },
     "metadata": {},
     "output_type": "display_data"
    },
    {
     "data": {
      "application/vnd.jupyter.widget-view+json": {
       "model_id": "376f409897654b3e8178341e7df30eec",
       "version_major": 2,
       "version_minor": 0
      },
      "text/plain": [
       "  0%|          | 0/4000 [00:00<?, ?it/s]"
      ]
     },
     "metadata": {},
     "output_type": "display_data"
    },
    {
     "data": {
      "application/vnd.jupyter.widget-view+json": {
       "model_id": "44626806ff92492491e2cea29efea50f",
       "version_major": 2,
       "version_minor": 0
      },
      "text/plain": [
       "  0%|          | 0/4000 [00:00<?, ?it/s]"
      ]
     },
     "metadata": {},
     "output_type": "display_data"
    },
    {
     "data": {
      "application/vnd.jupyter.widget-view+json": {
       "model_id": "85aaba53c9544aee8fb41489e0b5eca9",
       "version_major": 2,
       "version_minor": 0
      },
      "text/plain": [
       "  0%|          | 0/4000 [00:00<?, ?it/s]"
      ]
     },
     "metadata": {},
     "output_type": "display_data"
    },
    {
     "data": {
      "application/vnd.jupyter.widget-view+json": {
       "model_id": "34219af223e944b8aa438d14426b0f71",
       "version_major": 2,
       "version_minor": 0
      },
      "text/plain": [
       "  0%|          | 0/4000 [00:00<?, ?it/s]"
      ]
     },
     "metadata": {},
     "output_type": "display_data"
    },
    {
     "data": {
      "application/vnd.jupyter.widget-view+json": {
       "model_id": "cc8f3c3b2098414a9fcf6aa80bfa2d3e",
       "version_major": 2,
       "version_minor": 0
      },
      "text/plain": [
       "  0%|          | 0/4000 [00:00<?, ?it/s]"
      ]
     },
     "metadata": {},
     "output_type": "display_data"
    },
    {
     "data": {
      "application/vnd.jupyter.widget-view+json": {
       "model_id": "198f24cd3d524fe08c144fa7a594f8d7",
       "version_major": 2,
       "version_minor": 0
      },
      "text/plain": [
       "  0%|          | 0/4000 [00:00<?, ?it/s]"
      ]
     },
     "metadata": {},
     "output_type": "display_data"
    },
    {
     "data": {
      "application/vnd.jupyter.widget-view+json": {
       "model_id": "cfec6f55aa3f40a7b0575979180801b3",
       "version_major": 2,
       "version_minor": 0
      },
      "text/plain": [
       "  0%|          | 0/4000 [00:00<?, ?it/s]"
      ]
     },
     "metadata": {},
     "output_type": "display_data"
    },
    {
     "data": {
      "application/vnd.jupyter.widget-view+json": {
       "model_id": "3beb611e79f444ed84144592048a89fe",
       "version_major": 2,
       "version_minor": 0
      },
      "text/plain": [
       "  0%|          | 0/4000 [00:00<?, ?it/s]"
      ]
     },
     "metadata": {},
     "output_type": "display_data"
    },
    {
     "data": {
      "application/vnd.jupyter.widget-view+json": {
       "model_id": "eb50b01122ac424d908d025b6e106a31",
       "version_major": 2,
       "version_minor": 0
      },
      "text/plain": [
       "  0%|          | 0/4000 [00:00<?, ?it/s]"
      ]
     },
     "metadata": {},
     "output_type": "display_data"
    },
    {
     "data": {
      "application/vnd.jupyter.widget-view+json": {
       "model_id": "60b6462a0bcf4f118858e8cf4602e5a8",
       "version_major": 2,
       "version_minor": 0
      },
      "text/plain": [
       "  0%|          | 0/4000 [00:00<?, ?it/s]"
      ]
     },
     "metadata": {},
     "output_type": "display_data"
    },
    {
     "data": {
      "application/vnd.jupyter.widget-view+json": {
       "model_id": "f020e6a7a16548c9973d5db6eb65b416",
       "version_major": 2,
       "version_minor": 0
      },
      "text/plain": [
       "  0%|          | 0/4000 [00:00<?, ?it/s]"
      ]
     },
     "metadata": {},
     "output_type": "display_data"
    },
    {
     "data": {
      "application/vnd.jupyter.widget-view+json": {
       "model_id": "c82ec05fe9f5403f85c2287942356e03",
       "version_major": 2,
       "version_minor": 0
      },
      "text/plain": [
       "  0%|          | 0/4000 [00:00<?, ?it/s]"
      ]
     },
     "metadata": {},
     "output_type": "display_data"
    },
    {
     "data": {
      "application/vnd.jupyter.widget-view+json": {
       "model_id": "2a7a5d6384784874974c1006477120b5",
       "version_major": 2,
       "version_minor": 0
      },
      "text/plain": [
       "  0%|          | 0/4000 [00:00<?, ?it/s]"
      ]
     },
     "metadata": {},
     "output_type": "display_data"
    },
    {
     "data": {
      "application/vnd.jupyter.widget-view+json": {
       "model_id": "f97ba95a7a3e4d5f9c63629786683be0",
       "version_major": 2,
       "version_minor": 0
      },
      "text/plain": [
       "  0%|          | 0/4000 [00:00<?, ?it/s]"
      ]
     },
     "metadata": {},
     "output_type": "display_data"
    },
    {
     "data": {
      "application/vnd.jupyter.widget-view+json": {
       "model_id": "58bfbe341ea943f1b99691ad794541d1",
       "version_major": 2,
       "version_minor": 0
      },
      "text/plain": [
       "  0%|          | 0/4000 [00:00<?, ?it/s]"
      ]
     },
     "metadata": {},
     "output_type": "display_data"
    },
    {
     "data": {
      "application/vnd.jupyter.widget-view+json": {
       "model_id": "263a655299cf49b3beb6f0cedba68036",
       "version_major": 2,
       "version_minor": 0
      },
      "text/plain": [
       "  0%|          | 0/4000 [00:00<?, ?it/s]"
      ]
     },
     "metadata": {},
     "output_type": "display_data"
    },
    {
     "data": {
      "application/vnd.jupyter.widget-view+json": {
       "model_id": "2d703d35dc20499197b96d5b146a5d43",
       "version_major": 2,
       "version_minor": 0
      },
      "text/plain": [
       "  0%|          | 0/4000 [00:00<?, ?it/s]"
      ]
     },
     "metadata": {},
     "output_type": "display_data"
    },
    {
     "data": {
      "application/vnd.jupyter.widget-view+json": {
       "model_id": "9c814b95c1ec400686122e7e3dff1d11",
       "version_major": 2,
       "version_minor": 0
      },
      "text/plain": [
       "  0%|          | 0/4000 [00:00<?, ?it/s]"
      ]
     },
     "metadata": {},
     "output_type": "display_data"
    },
    {
     "data": {
      "application/vnd.jupyter.widget-view+json": {
       "model_id": "11702ec698ce4381bc48d7bf30cb3a33",
       "version_major": 2,
       "version_minor": 0
      },
      "text/plain": [
       "  0%|          | 0/4000 [00:00<?, ?it/s]"
      ]
     },
     "metadata": {},
     "output_type": "display_data"
    },
    {
     "data": {
      "application/vnd.jupyter.widget-view+json": {
       "model_id": "93464dc29e4a4dc6b5bbb334ce93f607",
       "version_major": 2,
       "version_minor": 0
      },
      "text/plain": [
       "  0%|          | 0/4000 [00:00<?, ?it/s]"
      ]
     },
     "metadata": {},
     "output_type": "display_data"
    },
    {
     "data": {
      "application/vnd.jupyter.widget-view+json": {
       "model_id": "1672429a3ba3466083f51a7caf5d2b03",
       "version_major": 2,
       "version_minor": 0
      },
      "text/plain": [
       "  0%|          | 0/4000 [00:00<?, ?it/s]"
      ]
     },
     "metadata": {},
     "output_type": "display_data"
    },
    {
     "data": {
      "application/vnd.jupyter.widget-view+json": {
       "model_id": "40e123dd545f4cf6b804817cef19a3a6",
       "version_major": 2,
       "version_minor": 0
      },
      "text/plain": [
       "  0%|          | 0/4000 [00:00<?, ?it/s]"
      ]
     },
     "metadata": {},
     "output_type": "display_data"
    },
    {
     "data": {
      "application/vnd.jupyter.widget-view+json": {
       "model_id": "98665bcc23f94fb694997732c2113aec",
       "version_major": 2,
       "version_minor": 0
      },
      "text/plain": [
       "  0%|          | 0/4000 [00:00<?, ?it/s]"
      ]
     },
     "metadata": {},
     "output_type": "display_data"
    },
    {
     "data": {
      "application/vnd.jupyter.widget-view+json": {
       "model_id": "addeac33602a4ffc915f1f904c9a6837",
       "version_major": 2,
       "version_minor": 0
      },
      "text/plain": [
       "  0%|          | 0/4000 [00:00<?, ?it/s]"
      ]
     },
     "metadata": {},
     "output_type": "display_data"
    },
    {
     "data": {
      "application/vnd.jupyter.widget-view+json": {
       "model_id": "e0d9587938a64850acc419626995c8fa",
       "version_major": 2,
       "version_minor": 0
      },
      "text/plain": [
       "  0%|          | 0/4000 [00:00<?, ?it/s]"
      ]
     },
     "metadata": {},
     "output_type": "display_data"
    },
    {
     "data": {
      "application/vnd.jupyter.widget-view+json": {
       "model_id": "5e64f781d201477fb241c9d74dfed7e0",
       "version_major": 2,
       "version_minor": 0
      },
      "text/plain": [
       "  0%|          | 0/4000 [00:00<?, ?it/s]"
      ]
     },
     "metadata": {},
     "output_type": "display_data"
    },
    {
     "data": {
      "application/vnd.jupyter.widget-view+json": {
       "model_id": "177afbac4101425ea0267f158bd7ee3d",
       "version_major": 2,
       "version_minor": 0
      },
      "text/plain": [
       "  0%|          | 0/4000 [00:00<?, ?it/s]"
      ]
     },
     "metadata": {},
     "output_type": "display_data"
    },
    {
     "data": {
      "application/vnd.jupyter.widget-view+json": {
       "model_id": "07b56eb98c8047f6a69b9583eeb3397e",
       "version_major": 2,
       "version_minor": 0
      },
      "text/plain": [
       "  0%|          | 0/4000 [00:00<?, ?it/s]"
      ]
     },
     "metadata": {},
     "output_type": "display_data"
    },
    {
     "data": {
      "application/vnd.jupyter.widget-view+json": {
       "model_id": "d4f005ba127d4840ac25013273b6e08e",
       "version_major": 2,
       "version_minor": 0
      },
      "text/plain": [
       "  0%|          | 0/4000 [00:00<?, ?it/s]"
      ]
     },
     "metadata": {},
     "output_type": "display_data"
    },
    {
     "data": {
      "application/vnd.jupyter.widget-view+json": {
       "model_id": "1b6017a3ae994624a49998290a41d20c",
       "version_major": 2,
       "version_minor": 0
      },
      "text/plain": [
       "  0%|          | 0/4000 [00:00<?, ?it/s]"
      ]
     },
     "metadata": {},
     "output_type": "display_data"
    },
    {
     "name": "stdout",
     "output_type": "stream",
     "text": [
      "Top CC has 2485 nodes; original graph has 2708 nodes.\n"
     ]
    },
    {
     "data": {
      "application/vnd.jupyter.widget-view+json": {
       "model_id": "1abcd04ff94c4875a6fd3ced0c74d65d",
       "version_major": 2,
       "version_minor": 0
      },
      "text/plain": [
       "  0%|          | 0/4000 [00:00<?, ?it/s]"
      ]
     },
     "metadata": {},
     "output_type": "display_data"
    },
    {
     "data": {
      "application/vnd.jupyter.widget-view+json": {
       "model_id": "290a9bcdf0d742d691727d14a5e1ce5a",
       "version_major": 2,
       "version_minor": 0
      },
      "text/plain": [
       "  0%|          | 0/4000 [00:00<?, ?it/s]"
      ]
     },
     "metadata": {},
     "output_type": "display_data"
    },
    {
     "data": {
      "application/vnd.jupyter.widget-view+json": {
       "model_id": "204e5e198de249d98ffd451e34eae960",
       "version_major": 2,
       "version_minor": 0
      },
      "text/plain": [
       "  0%|          | 0/4000 [00:00<?, ?it/s]"
      ]
     },
     "metadata": {},
     "output_type": "display_data"
    },
    {
     "data": {
      "application/vnd.jupyter.widget-view+json": {
       "model_id": "3cbcbff7f75045afb75635604cc1e193",
       "version_major": 2,
       "version_minor": 0
      },
      "text/plain": [
       "  0%|          | 0/4000 [00:00<?, ?it/s]"
      ]
     },
     "metadata": {},
     "output_type": "display_data"
    },
    {
     "data": {
      "application/vnd.jupyter.widget-view+json": {
       "model_id": "fa0414143f28435f8fdd52f62e200bbd",
       "version_major": 2,
       "version_minor": 0
      },
      "text/plain": [
       "  0%|          | 0/4000 [00:00<?, ?it/s]"
      ]
     },
     "metadata": {},
     "output_type": "display_data"
    },
    {
     "data": {
      "application/vnd.jupyter.widget-view+json": {
       "model_id": "86a842631b3b4d23a697d6801e0e7a42",
       "version_major": 2,
       "version_minor": 0
      },
      "text/plain": [
       "  0%|          | 0/4000 [00:00<?, ?it/s]"
      ]
     },
     "metadata": {},
     "output_type": "display_data"
    },
    {
     "data": {
      "application/vnd.jupyter.widget-view+json": {
       "model_id": "6d83f6cb8c7a40f792ce362dfdabe057",
       "version_major": 2,
       "version_minor": 0
      },
      "text/plain": [
       "  0%|          | 0/4000 [00:00<?, ?it/s]"
      ]
     },
     "metadata": {},
     "output_type": "display_data"
    },
    {
     "data": {
      "application/vnd.jupyter.widget-view+json": {
       "model_id": "a4f900366ef042918bd65e0ab7fd4f89",
       "version_major": 2,
       "version_minor": 0
      },
      "text/plain": [
       "  0%|          | 0/4000 [00:00<?, ?it/s]"
      ]
     },
     "metadata": {},
     "output_type": "display_data"
    },
    {
     "data": {
      "application/vnd.jupyter.widget-view+json": {
       "model_id": "405345e1b780409bb8849b88b675ec6c",
       "version_major": 2,
       "version_minor": 0
      },
      "text/plain": [
       "  0%|          | 0/4000 [00:00<?, ?it/s]"
      ]
     },
     "metadata": {},
     "output_type": "display_data"
    },
    {
     "data": {
      "application/vnd.jupyter.widget-view+json": {
       "model_id": "f85d1ebe7fd74a6daba3a1cfc02dc5d0",
       "version_major": 2,
       "version_minor": 0
      },
      "text/plain": [
       "  0%|          | 0/4000 [00:00<?, ?it/s]"
      ]
     },
     "metadata": {},
     "output_type": "display_data"
    },
    {
     "data": {
      "application/vnd.jupyter.widget-view+json": {
       "model_id": "f68624f83cf54b97b50dbe3a0acfb1d3",
       "version_major": 2,
       "version_minor": 0
      },
      "text/plain": [
       "  0%|          | 0/4000 [00:00<?, ?it/s]"
      ]
     },
     "metadata": {},
     "output_type": "display_data"
    },
    {
     "data": {
      "application/vnd.jupyter.widget-view+json": {
       "model_id": "db7ccdb51a0343c88eeae32218f2d326",
       "version_major": 2,
       "version_minor": 0
      },
      "text/plain": [
       "  0%|          | 0/4000 [00:00<?, ?it/s]"
      ]
     },
     "metadata": {},
     "output_type": "display_data"
    },
    {
     "data": {
      "application/vnd.jupyter.widget-view+json": {
       "model_id": "472c533fed6447aa9662fc072b73131d",
       "version_major": 2,
       "version_minor": 0
      },
      "text/plain": [
       "  0%|          | 0/4000 [00:00<?, ?it/s]"
      ]
     },
     "metadata": {},
     "output_type": "display_data"
    },
    {
     "data": {
      "application/vnd.jupyter.widget-view+json": {
       "model_id": "8ddad25586ae405b8b5d126a6df9c785",
       "version_major": 2,
       "version_minor": 0
      },
      "text/plain": [
       "  0%|          | 0/4000 [00:00<?, ?it/s]"
      ]
     },
     "metadata": {},
     "output_type": "display_data"
    },
    {
     "data": {
      "application/vnd.jupyter.widget-view+json": {
       "model_id": "f89a710e060343b1a17ada8c657f163e",
       "version_major": 2,
       "version_minor": 0
      },
      "text/plain": [
       "  0%|          | 0/4000 [00:00<?, ?it/s]"
      ]
     },
     "metadata": {},
     "output_type": "display_data"
    },
    {
     "data": {
      "application/vnd.jupyter.widget-view+json": {
       "model_id": "2c56cb7efd9842b9a3e09b8aa633b5d8",
       "version_major": 2,
       "version_minor": 0
      },
      "text/plain": [
       "  0%|          | 0/4000 [00:00<?, ?it/s]"
      ]
     },
     "metadata": {},
     "output_type": "display_data"
    },
    {
     "data": {
      "application/vnd.jupyter.widget-view+json": {
       "model_id": "4b6fe0d4f89b422bb93fe72f6a833bd5",
       "version_major": 2,
       "version_minor": 0
      },
      "text/plain": [
       "  0%|          | 0/4000 [00:00<?, ?it/s]"
      ]
     },
     "metadata": {},
     "output_type": "display_data"
    },
    {
     "data": {
      "application/vnd.jupyter.widget-view+json": {
       "model_id": "e4bee3a3a2e54e21b5b82c7d342183ed",
       "version_major": 2,
       "version_minor": 0
      },
      "text/plain": [
       "  0%|          | 0/4000 [00:00<?, ?it/s]"
      ]
     },
     "metadata": {},
     "output_type": "display_data"
    },
    {
     "data": {
      "application/vnd.jupyter.widget-view+json": {
       "model_id": "bfcd4e0fe1ff433a858b26f409ede215",
       "version_major": 2,
       "version_minor": 0
      },
      "text/plain": [
       "  0%|          | 0/4000 [00:00<?, ?it/s]"
      ]
     },
     "metadata": {},
     "output_type": "display_data"
    },
    {
     "data": {
      "application/vnd.jupyter.widget-view+json": {
       "model_id": "74ec3f7085274cb48f33856f85bc9847",
       "version_major": 2,
       "version_minor": 0
      },
      "text/plain": [
       "  0%|          | 0/4000 [00:00<?, ?it/s]"
      ]
     },
     "metadata": {},
     "output_type": "display_data"
    },
    {
     "data": {
      "application/vnd.jupyter.widget-view+json": {
       "model_id": "fb02ad8b30104e9787420cd3378b1588",
       "version_major": 2,
       "version_minor": 0
      },
      "text/plain": [
       "  0%|          | 0/4000 [00:00<?, ?it/s]"
      ]
     },
     "metadata": {},
     "output_type": "display_data"
    },
    {
     "data": {
      "application/vnd.jupyter.widget-view+json": {
       "model_id": "592ee92719a14fc490c25fe163303edc",
       "version_major": 2,
       "version_minor": 0
      },
      "text/plain": [
       "  0%|          | 0/4000 [00:00<?, ?it/s]"
      ]
     },
     "metadata": {},
     "output_type": "display_data"
    },
    {
     "data": {
      "application/vnd.jupyter.widget-view+json": {
       "model_id": "db8ba25df986468f9cdb81da38afc557",
       "version_major": 2,
       "version_minor": 0
      },
      "text/plain": [
       "  0%|          | 0/4000 [00:00<?, ?it/s]"
      ]
     },
     "metadata": {},
     "output_type": "display_data"
    },
    {
     "data": {
      "application/vnd.jupyter.widget-view+json": {
       "model_id": "279816c67af242c7818f3a8fb2519bd8",
       "version_major": 2,
       "version_minor": 0
      },
      "text/plain": [
       "  0%|          | 0/4000 [00:00<?, ?it/s]"
      ]
     },
     "metadata": {},
     "output_type": "display_data"
    },
    {
     "data": {
      "application/vnd.jupyter.widget-view+json": {
       "model_id": "e0fc9e5cc53d4ff2bc6a93ce0cea024b",
       "version_major": 2,
       "version_minor": 0
      },
      "text/plain": [
       "  0%|          | 0/4000 [00:00<?, ?it/s]"
      ]
     },
     "metadata": {},
     "output_type": "display_data"
    },
    {
     "data": {
      "application/vnd.jupyter.widget-view+json": {
       "model_id": "ff0089fea06647ccacd241ea0bbcf72a",
       "version_major": 2,
       "version_minor": 0
      },
      "text/plain": [
       "  0%|          | 0/4000 [00:00<?, ?it/s]"
      ]
     },
     "metadata": {},
     "output_type": "display_data"
    },
    {
     "data": {
      "application/vnd.jupyter.widget-view+json": {
       "model_id": "d8b48b27b92b4626b2de889b1db5e682",
       "version_major": 2,
       "version_minor": 0
      },
      "text/plain": [
       "  0%|          | 0/4000 [00:00<?, ?it/s]"
      ]
     },
     "metadata": {},
     "output_type": "display_data"
    },
    {
     "data": {
      "application/vnd.jupyter.widget-view+json": {
       "model_id": "63240877d86e403a88ca7c490cdfa16a",
       "version_major": 2,
       "version_minor": 0
      },
      "text/plain": [
       "  0%|          | 0/4000 [00:00<?, ?it/s]"
      ]
     },
     "metadata": {},
     "output_type": "display_data"
    },
    {
     "data": {
      "application/vnd.jupyter.widget-view+json": {
       "model_id": "5e847c7ee2014070a60343a7cb3fb59b",
       "version_major": 2,
       "version_minor": 0
      },
      "text/plain": [
       "  0%|          | 0/4000 [00:00<?, ?it/s]"
      ]
     },
     "metadata": {},
     "output_type": "display_data"
    },
    {
     "data": {
      "application/vnd.jupyter.widget-view+json": {
       "model_id": "62b164beaba9485e839d5bdae723da3b",
       "version_major": 2,
       "version_minor": 0
      },
      "text/plain": [
       "  0%|          | 0/4000 [00:00<?, ?it/s]"
      ]
     },
     "metadata": {},
     "output_type": "display_data"
    },
    {
     "data": {
      "application/vnd.jupyter.widget-view+json": {
       "model_id": "63d85beaafc54afbacd7997330401be0",
       "version_major": 2,
       "version_minor": 0
      },
      "text/plain": [
       "  0%|          | 0/4000 [00:00<?, ?it/s]"
      ]
     },
     "metadata": {},
     "output_type": "display_data"
    },
    {
     "data": {
      "application/vnd.jupyter.widget-view+json": {
       "model_id": "890727efcdda49dda1323434e65ea2cb",
       "version_major": 2,
       "version_minor": 0
      },
      "text/plain": [
       "  0%|          | 0/4000 [00:00<?, ?it/s]"
      ]
     },
     "metadata": {},
     "output_type": "display_data"
    },
    {
     "data": {
      "application/vnd.jupyter.widget-view+json": {
       "model_id": "2caeb2b8f89c451eb51b749ef135b23f",
       "version_major": 2,
       "version_minor": 0
      },
      "text/plain": [
       "  0%|          | 0/4000 [00:00<?, ?it/s]"
      ]
     },
     "metadata": {},
     "output_type": "display_data"
    },
    {
     "data": {
      "application/vnd.jupyter.widget-view+json": {
       "model_id": "ca3b2058f7ed4c7fa9457274391ab89a",
       "version_major": 2,
       "version_minor": 0
      },
      "text/plain": [
       "  0%|          | 0/4000 [00:00<?, ?it/s]"
      ]
     },
     "metadata": {},
     "output_type": "display_data"
    },
    {
     "data": {
      "application/vnd.jupyter.widget-view+json": {
       "model_id": "22b595b012394145a310f9c6248d9c47",
       "version_major": 2,
       "version_minor": 0
      },
      "text/plain": [
       "  0%|          | 0/4000 [00:00<?, ?it/s]"
      ]
     },
     "metadata": {},
     "output_type": "display_data"
    },
    {
     "data": {
      "application/vnd.jupyter.widget-view+json": {
       "model_id": "c97a6f8e0aa94f01abd50b87e34d556c",
       "version_major": 2,
       "version_minor": 0
      },
      "text/plain": [
       "  0%|          | 0/4000 [00:00<?, ?it/s]"
      ]
     },
     "metadata": {},
     "output_type": "display_data"
    },
    {
     "data": {
      "application/vnd.jupyter.widget-view+json": {
       "model_id": "67ae3867b5784025935c2ff73120532e",
       "version_major": 2,
       "version_minor": 0
      },
      "text/plain": [
       "  0%|          | 0/4000 [00:00<?, ?it/s]"
      ]
     },
     "metadata": {},
     "output_type": "display_data"
    },
    {
     "data": {
      "application/vnd.jupyter.widget-view+json": {
       "model_id": "a69065c2c5a44bc19a47aea498138e38",
       "version_major": 2,
       "version_minor": 0
      },
      "text/plain": [
       "  0%|          | 0/4000 [00:00<?, ?it/s]"
      ]
     },
     "metadata": {},
     "output_type": "display_data"
    },
    {
     "data": {
      "application/vnd.jupyter.widget-view+json": {
       "model_id": "4306985bb0a54bcd801bb64798cedb40",
       "version_major": 2,
       "version_minor": 0
      },
      "text/plain": [
       "  0%|          | 0/4000 [00:00<?, ?it/s]"
      ]
     },
     "metadata": {},
     "output_type": "display_data"
    },
    {
     "data": {
      "application/vnd.jupyter.widget-view+json": {
       "model_id": "dd7da5c3066848bea3891680a8e6bca5",
       "version_major": 2,
       "version_minor": 0
      },
      "text/plain": [
       "  0%|          | 0/4000 [00:00<?, ?it/s]"
      ]
     },
     "metadata": {},
     "output_type": "display_data"
    },
    {
     "name": "stdout",
     "output_type": "stream",
     "text": [
      "Top CC has 2110 nodes; original graph has 3264 nodes.\n"
     ]
    },
    {
     "data": {
      "application/vnd.jupyter.widget-view+json": {
       "model_id": "4242f08f95ec4a74b734cd94f0207309",
       "version_major": 2,
       "version_minor": 0
      },
      "text/plain": [
       "  0%|          | 0/4000 [00:00<?, ?it/s]"
      ]
     },
     "metadata": {},
     "output_type": "display_data"
    },
    {
     "data": {
      "application/vnd.jupyter.widget-view+json": {
       "model_id": "f9a1a68d36044fb79c73c7881d75c6e4",
       "version_major": 2,
       "version_minor": 0
      },
      "text/plain": [
       "  0%|          | 0/4000 [00:00<?, ?it/s]"
      ]
     },
     "metadata": {},
     "output_type": "display_data"
    },
    {
     "data": {
      "application/vnd.jupyter.widget-view+json": {
       "model_id": "2a9210858fcc48808c1d360398f05a73",
       "version_major": 2,
       "version_minor": 0
      },
      "text/plain": [
       "  0%|          | 0/4000 [00:00<?, ?it/s]"
      ]
     },
     "metadata": {},
     "output_type": "display_data"
    },
    {
     "data": {
      "application/vnd.jupyter.widget-view+json": {
       "model_id": "7a0ba8389cdd4dabb38c4e9875c6de8c",
       "version_major": 2,
       "version_minor": 0
      },
      "text/plain": [
       "  0%|          | 0/4000 [00:00<?, ?it/s]"
      ]
     },
     "metadata": {},
     "output_type": "display_data"
    },
    {
     "data": {
      "application/vnd.jupyter.widget-view+json": {
       "model_id": "541a02f936e244dfb5fa2746faa95f42",
       "version_major": 2,
       "version_minor": 0
      },
      "text/plain": [
       "  0%|          | 0/4000 [00:00<?, ?it/s]"
      ]
     },
     "metadata": {},
     "output_type": "display_data"
    },
    {
     "data": {
      "application/vnd.jupyter.widget-view+json": {
       "model_id": "3452a39baf694965a5ad4c44dbff1a0b",
       "version_major": 2,
       "version_minor": 0
      },
      "text/plain": [
       "  0%|          | 0/4000 [00:00<?, ?it/s]"
      ]
     },
     "metadata": {},
     "output_type": "display_data"
    },
    {
     "data": {
      "application/vnd.jupyter.widget-view+json": {
       "model_id": "1c2914f5d2794fac81d4679e1c4f9080",
       "version_major": 2,
       "version_minor": 0
      },
      "text/plain": [
       "  0%|          | 0/4000 [00:00<?, ?it/s]"
      ]
     },
     "metadata": {},
     "output_type": "display_data"
    },
    {
     "data": {
      "application/vnd.jupyter.widget-view+json": {
       "model_id": "74f80ff7e81f4d4f9565c9433c271241",
       "version_major": 2,
       "version_minor": 0
      },
      "text/plain": [
       "  0%|          | 0/4000 [00:00<?, ?it/s]"
      ]
     },
     "metadata": {},
     "output_type": "display_data"
    },
    {
     "data": {
      "application/vnd.jupyter.widget-view+json": {
       "model_id": "d33e544ebdd240659fac08e70c8322a3",
       "version_major": 2,
       "version_minor": 0
      },
      "text/plain": [
       "  0%|          | 0/4000 [00:00<?, ?it/s]"
      ]
     },
     "metadata": {},
     "output_type": "display_data"
    },
    {
     "data": {
      "application/vnd.jupyter.widget-view+json": {
       "model_id": "765365c3b1b34d76bfe045b11218aecb",
       "version_major": 2,
       "version_minor": 0
      },
      "text/plain": [
       "  0%|          | 0/4000 [00:00<?, ?it/s]"
      ]
     },
     "metadata": {},
     "output_type": "display_data"
    },
    {
     "data": {
      "application/vnd.jupyter.widget-view+json": {
       "model_id": "69aa386ea02645f3b024e4ad0554fa58",
       "version_major": 2,
       "version_minor": 0
      },
      "text/plain": [
       "  0%|          | 0/4000 [00:00<?, ?it/s]"
      ]
     },
     "metadata": {},
     "output_type": "display_data"
    },
    {
     "data": {
      "application/vnd.jupyter.widget-view+json": {
       "model_id": "845a5170c6ef449f899397f0c7debe8c",
       "version_major": 2,
       "version_minor": 0
      },
      "text/plain": [
       "  0%|          | 0/4000 [00:00<?, ?it/s]"
      ]
     },
     "metadata": {},
     "output_type": "display_data"
    },
    {
     "data": {
      "application/vnd.jupyter.widget-view+json": {
       "model_id": "b7a00ab9f1844cc8b3eb17533ac30919",
       "version_major": 2,
       "version_minor": 0
      },
      "text/plain": [
       "  0%|          | 0/4000 [00:00<?, ?it/s]"
      ]
     },
     "metadata": {},
     "output_type": "display_data"
    },
    {
     "data": {
      "application/vnd.jupyter.widget-view+json": {
       "model_id": "1de7f83c24004e20b6a21e602ae5d61f",
       "version_major": 2,
       "version_minor": 0
      },
      "text/plain": [
       "  0%|          | 0/4000 [00:00<?, ?it/s]"
      ]
     },
     "metadata": {},
     "output_type": "display_data"
    },
    {
     "data": {
      "application/vnd.jupyter.widget-view+json": {
       "model_id": "9d9b4bb7135d4ec798620db45cc8d6cf",
       "version_major": 2,
       "version_minor": 0
      },
      "text/plain": [
       "  0%|          | 0/4000 [00:00<?, ?it/s]"
      ]
     },
     "metadata": {},
     "output_type": "display_data"
    },
    {
     "data": {
      "application/vnd.jupyter.widget-view+json": {
       "model_id": "875e7e6e5ed144c5be888bea68dbeafd",
       "version_major": 2,
       "version_minor": 0
      },
      "text/plain": [
       "  0%|          | 0/4000 [00:00<?, ?it/s]"
      ]
     },
     "metadata": {},
     "output_type": "display_data"
    },
    {
     "data": {
      "application/vnd.jupyter.widget-view+json": {
       "model_id": "f1f7e6cd82004f918adc122dc2148aa7",
       "version_major": 2,
       "version_minor": 0
      },
      "text/plain": [
       "  0%|          | 0/4000 [00:00<?, ?it/s]"
      ]
     },
     "metadata": {},
     "output_type": "display_data"
    },
    {
     "data": {
      "application/vnd.jupyter.widget-view+json": {
       "model_id": "55a2b1de45bd4580a1744dc11a79d3b8",
       "version_major": 2,
       "version_minor": 0
      },
      "text/plain": [
       "  0%|          | 0/4000 [00:00<?, ?it/s]"
      ]
     },
     "metadata": {},
     "output_type": "display_data"
    },
    {
     "data": {
      "application/vnd.jupyter.widget-view+json": {
       "model_id": "aafdb28aee1240d7a863ad0c6448eeec",
       "version_major": 2,
       "version_minor": 0
      },
      "text/plain": [
       "  0%|          | 0/4000 [00:00<?, ?it/s]"
      ]
     },
     "metadata": {},
     "output_type": "display_data"
    },
    {
     "data": {
      "application/vnd.jupyter.widget-view+json": {
       "model_id": "8c8f437d8b9b48bebbb22de4bca2c0cd",
       "version_major": 2,
       "version_minor": 0
      },
      "text/plain": [
       "  0%|          | 0/4000 [00:00<?, ?it/s]"
      ]
     },
     "metadata": {},
     "output_type": "display_data"
    },
    {
     "data": {
      "application/vnd.jupyter.widget-view+json": {
       "model_id": "8286aeab0cbf43aaabc3ce42de5bb258",
       "version_major": 2,
       "version_minor": 0
      },
      "text/plain": [
       "  0%|          | 0/4000 [00:00<?, ?it/s]"
      ]
     },
     "metadata": {},
     "output_type": "display_data"
    },
    {
     "data": {
      "application/vnd.jupyter.widget-view+json": {
       "model_id": "f09d20c1e7d24a6e99e5c33558fb2358",
       "version_major": 2,
       "version_minor": 0
      },
      "text/plain": [
       "  0%|          | 0/4000 [00:00<?, ?it/s]"
      ]
     },
     "metadata": {},
     "output_type": "display_data"
    },
    {
     "data": {
      "application/vnd.jupyter.widget-view+json": {
       "model_id": "e6e6f843cdd74e2d8231e81db969f0bf",
       "version_major": 2,
       "version_minor": 0
      },
      "text/plain": [
       "  0%|          | 0/4000 [00:00<?, ?it/s]"
      ]
     },
     "metadata": {},
     "output_type": "display_data"
    },
    {
     "data": {
      "application/vnd.jupyter.widget-view+json": {
       "model_id": "a0f7b580d2964a72aac619e3d332cc64",
       "version_major": 2,
       "version_minor": 0
      },
      "text/plain": [
       "  0%|          | 0/4000 [00:00<?, ?it/s]"
      ]
     },
     "metadata": {},
     "output_type": "display_data"
    },
    {
     "data": {
      "application/vnd.jupyter.widget-view+json": {
       "model_id": "5fb5675f01d54be38cbc1c3b1167f213",
       "version_major": 2,
       "version_minor": 0
      },
      "text/plain": [
       "  0%|          | 0/4000 [00:00<?, ?it/s]"
      ]
     },
     "metadata": {},
     "output_type": "display_data"
    },
    {
     "data": {
      "application/vnd.jupyter.widget-view+json": {
       "model_id": "1ea9935a412f46a9b00cc139f92a675a",
       "version_major": 2,
       "version_minor": 0
      },
      "text/plain": [
       "  0%|          | 0/4000 [00:00<?, ?it/s]"
      ]
     },
     "metadata": {},
     "output_type": "display_data"
    },
    {
     "data": {
      "application/vnd.jupyter.widget-view+json": {
       "model_id": "4c9de38d54d042cca33956ec436fa765",
       "version_major": 2,
       "version_minor": 0
      },
      "text/plain": [
       "  0%|          | 0/4000 [00:00<?, ?it/s]"
      ]
     },
     "metadata": {},
     "output_type": "display_data"
    },
    {
     "data": {
      "application/vnd.jupyter.widget-view+json": {
       "model_id": "7b77058d792e459192cd776e4867112d",
       "version_major": 2,
       "version_minor": 0
      },
      "text/plain": [
       "  0%|          | 0/4000 [00:00<?, ?it/s]"
      ]
     },
     "metadata": {},
     "output_type": "display_data"
    },
    {
     "data": {
      "application/vnd.jupyter.widget-view+json": {
       "model_id": "f38a5fec4f7b4fa7a5b5bc9bb2fc7570",
       "version_major": 2,
       "version_minor": 0
      },
      "text/plain": [
       "  0%|          | 0/4000 [00:00<?, ?it/s]"
      ]
     },
     "metadata": {},
     "output_type": "display_data"
    },
    {
     "data": {
      "application/vnd.jupyter.widget-view+json": {
       "model_id": "c611648f5afa47499bfa0936746f71e7",
       "version_major": 2,
       "version_minor": 0
      },
      "text/plain": [
       "  0%|          | 0/4000 [00:00<?, ?it/s]"
      ]
     },
     "metadata": {},
     "output_type": "display_data"
    },
    {
     "data": {
      "application/vnd.jupyter.widget-view+json": {
       "model_id": "a83f97d17fed4e2586231463c4c9fff9",
       "version_major": 2,
       "version_minor": 0
      },
      "text/plain": [
       "  0%|          | 0/4000 [00:00<?, ?it/s]"
      ]
     },
     "metadata": {},
     "output_type": "display_data"
    },
    {
     "data": {
      "application/vnd.jupyter.widget-view+json": {
       "model_id": "285247069c544650bc4146417a8dffff",
       "version_major": 2,
       "version_minor": 0
      },
      "text/plain": [
       "  0%|          | 0/4000 [00:00<?, ?it/s]"
      ]
     },
     "metadata": {},
     "output_type": "display_data"
    },
    {
     "data": {
      "application/vnd.jupyter.widget-view+json": {
       "model_id": "24e0013fd3d443759b34dd80af3c1f04",
       "version_major": 2,
       "version_minor": 0
      },
      "text/plain": [
       "  0%|          | 0/4000 [00:00<?, ?it/s]"
      ]
     },
     "metadata": {},
     "output_type": "display_data"
    },
    {
     "data": {
      "application/vnd.jupyter.widget-view+json": {
       "model_id": "208d58afbc4b453ca997b1aa1f6f5d5e",
       "version_major": 2,
       "version_minor": 0
      },
      "text/plain": [
       "  0%|          | 0/4000 [00:00<?, ?it/s]"
      ]
     },
     "metadata": {},
     "output_type": "display_data"
    },
    {
     "data": {
      "application/vnd.jupyter.widget-view+json": {
       "model_id": "4410c7dc1a01453aa3d84bedef98bbf0",
       "version_major": 2,
       "version_minor": 0
      },
      "text/plain": [
       "  0%|          | 0/4000 [00:00<?, ?it/s]"
      ]
     },
     "metadata": {},
     "output_type": "display_data"
    },
    {
     "data": {
      "application/vnd.jupyter.widget-view+json": {
       "model_id": "2e31b16883fd430ea2bf7bfb2ae11116",
       "version_major": 2,
       "version_minor": 0
      },
      "text/plain": [
       "  0%|          | 0/4000 [00:00<?, ?it/s]"
      ]
     },
     "metadata": {},
     "output_type": "display_data"
    },
    {
     "data": {
      "application/vnd.jupyter.widget-view+json": {
       "model_id": "835fc508b8974325a4988a5ff1995101",
       "version_major": 2,
       "version_minor": 0
      },
      "text/plain": [
       "  0%|          | 0/4000 [00:00<?, ?it/s]"
      ]
     },
     "metadata": {},
     "output_type": "display_data"
    },
    {
     "data": {
      "application/vnd.jupyter.widget-view+json": {
       "model_id": "e1ab86b8febd4a27903dc47a7009b91c",
       "version_major": 2,
       "version_minor": 0
      },
      "text/plain": [
       "  0%|          | 0/4000 [00:00<?, ?it/s]"
      ]
     },
     "metadata": {},
     "output_type": "display_data"
    },
    {
     "data": {
      "application/vnd.jupyter.widget-view+json": {
       "model_id": "a863fc5623e64890a9f22bbc906e9d8b",
       "version_major": 2,
       "version_minor": 0
      },
      "text/plain": [
       "  0%|          | 0/4000 [00:00<?, ?it/s]"
      ]
     },
     "metadata": {},
     "output_type": "display_data"
    },
    {
     "data": {
      "application/vnd.jupyter.widget-view+json": {
       "model_id": "050f4f3e3fc64ea2ad24660a9f45991a",
       "version_major": 2,
       "version_minor": 0
      },
      "text/plain": [
       "  0%|          | 0/4000 [00:00<?, ?it/s]"
      ]
     },
     "metadata": {},
     "output_type": "display_data"
    }
   ],
   "source": [
    "import embedders\n",
    "import pandas as pd\n",
    "from tqdm.notebook import tqdm\n",
    "\n",
    "# MAX_DEPTH = 3\n",
    "# MAX_DEPTH = None\n",
    "# N_FEATURES = \"d_choose_2\"\n",
    "\n",
    "CLS_NAMES = [\"polblogs\", \"cora\", \"citeseer\"]\n",
    "\n",
    "SIGNATURES = [\n",
    "    [(1, 2), (1, 2)], # SS\n",
    "    [(-1, 4)], # H\n",
    "    [(-1, 2), (1, 2)], # HS\n",
    "]\n",
    "\n",
    "SIGNATURES_STR = [\"SS\", \"H\", \"HS\"]\n",
    "\n",
    "results = []\n",
    "my_tqdm = tqdm(total=len(CLS_NAMES) * n_trials)# * len(SIGNATURES))\n",
    "for embedding, signature, sigstr in zip(CLS_NAMES, SIGNATURES, SIGNATURES_STR):\n",
    "    _, _, adj = embedders.dataloaders.load(embedding)\n",
    "    # dists = pd.read_table(f\"../data/graphs/embeddings/{embedding}_dists.tsv\")\n",
    "    \n",
    "    # Get the lowest D_avg signature\n",
    "    \n",
    "    # for sig, sig_str in zip(SIGNATURES, SIGNATURES_STR):\n",
    "    pm = embedders.manifolds.ProductManifold(signature=sig)\n",
    "    # dists_sig = dists[dists[\"signature\"] == str(sig)]\n",
    "\n",
    "    # for i, trial in enumerate(dists_sig[\"seed\"]):\n",
    "    for i in range(n_trials):\n",
    "        # i is used to load the correct embedding\n",
    "        # trial is used to get the correct d_avg\n",
    "        # I'm sorry for this mess\n",
    "        data = torch.load(f\"../data/graphs/embeddings/{embedding}/{sig_str}_{i}.h5\", weights_only=True)\n",
    "        X_train = data[\"X_train\"]\n",
    "        X_test = data[\"X_test\"]\n",
    "        y_train = data[\"y_train\"]\n",
    "        y_test = data[\"y_test\"]\n",
    "        test_idx = data[\"test_idx\"]\n",
    "        train_idx = [i for i in range(len(X_train) + len(X_test)) if i not in test_idx]\n",
    "\n",
    "        # Get adjacency matrix\n",
    "        A_hat = embedders.predictors.kappa_gcn.get_A_hat(adj.float())\n",
    "\n",
    "        res = embedders.benchmarks.benchmark(\n",
    "            X=None,\n",
    "            y=None,\n",
    "            X_train=X_train,\n",
    "            X_test=X_test,\n",
    "            y_train=y_train,\n",
    "            y_test=y_test,\n",
    "            pm=pm,\n",
    "            device=\"cuda\",\n",
    "            A_train = A_hat[train_idx][:, train_idx],\n",
    "            A_test = A_hat[test_idx][:, test_idx],\n",
    "            task=\"classification\",\n",
    "            score=[\"accuracy\", \"f1-micro\"],\n",
    "        )\n",
    "        res[\"embedding\"] = embedding\n",
    "        res[\"signature\"] = sig_str\n",
    "        res[\"trial\"] = trial\n",
    "\n",
    "        # Get matching d_avg using seed and sig_str\n",
    "        # dists_seed = dists_sig[dists_sig[\"seed\"] == trial]\n",
    "        # assert len(dists_seed) == 1\n",
    "        # res[\"d_avg\"] = dists_seed[\"d_avg\"].values[0]\n",
    "\n",
    "        results.append(res)\n",
    "        my_tqdm.update(1)\n",
    "\n",
    "results = pd.DataFrame(results)"
   ]
  },
  {
   "cell_type": "code",
   "execution_count": 40,
   "metadata": {},
   "outputs": [],
   "source": [
    "results.to_csv(\"../data/results_icml/graph_classification.tsv\", sep=\"\\t\", index=False)"
   ]
  },
  {
   "cell_type": "code",
   "execution_count": 42,
   "metadata": {},
   "outputs": [
    {
     "data": {
      "application/vnd.jupyter.widget-view+json": {
       "model_id": "8ec2a010724f4dcaa8b2c169d0ec3c85",
       "version_major": 2,
       "version_minor": 0
      },
      "text/plain": [
       "  0%|          | 0/10 [00:00<?, ?it/s]"
      ]
     },
     "metadata": {},
     "output_type": "display_data"
    },
    {
     "name": "stdout",
     "output_type": "stream",
     "text": [
      "Top CC has 1025 nodes; original graph has 1025 nodes.\n"
     ]
    },
    {
     "data": {
      "application/vnd.jupyter.widget-view+json": {
       "model_id": "090eeef016694b5786dc7db9c0578dc0",
       "version_major": 2,
       "version_minor": 0
      },
      "text/plain": [
       "  0%|          | 0/4000 [00:00<?, ?it/s]"
      ]
     },
     "metadata": {},
     "output_type": "display_data"
    },
    {
     "data": {
      "application/vnd.jupyter.widget-view+json": {
       "model_id": "4aca184696884ee784553fbcc888dc29",
       "version_major": 2,
       "version_minor": 0
      },
      "text/plain": [
       "  0%|          | 0/4000 [00:00<?, ?it/s]"
      ]
     },
     "metadata": {},
     "output_type": "display_data"
    },
    {
     "data": {
      "application/vnd.jupyter.widget-view+json": {
       "model_id": "d7f15084d69540a0888db9c262fd6335",
       "version_major": 2,
       "version_minor": 0
      },
      "text/plain": [
       "  0%|          | 0/4000 [00:00<?, ?it/s]"
      ]
     },
     "metadata": {},
     "output_type": "display_data"
    },
    {
     "data": {
      "application/vnd.jupyter.widget-view+json": {
       "model_id": "144f7c720c9647ac8a10b13c09db5479",
       "version_major": 2,
       "version_minor": 0
      },
      "text/plain": [
       "  0%|          | 0/4000 [00:00<?, ?it/s]"
      ]
     },
     "metadata": {},
     "output_type": "display_data"
    },
    {
     "data": {
      "application/vnd.jupyter.widget-view+json": {
       "model_id": "f3e074fc9a0c4924863e130c4145c1b3",
       "version_major": 2,
       "version_minor": 0
      },
      "text/plain": [
       "  0%|          | 0/4000 [00:00<?, ?it/s]"
      ]
     },
     "metadata": {},
     "output_type": "display_data"
    },
    {
     "data": {
      "application/vnd.jupyter.widget-view+json": {
       "model_id": "2a9748d9725746d4a8dfef09739e9c21",
       "version_major": 2,
       "version_minor": 0
      },
      "text/plain": [
       "  0%|          | 0/4000 [00:00<?, ?it/s]"
      ]
     },
     "metadata": {},
     "output_type": "display_data"
    },
    {
     "data": {
      "application/vnd.jupyter.widget-view+json": {
       "model_id": "54988e99fc714dee9a6f7a6392faa99c",
       "version_major": 2,
       "version_minor": 0
      },
      "text/plain": [
       "  0%|          | 0/4000 [00:00<?, ?it/s]"
      ]
     },
     "metadata": {},
     "output_type": "display_data"
    },
    {
     "data": {
      "application/vnd.jupyter.widget-view+json": {
       "model_id": "10d5d8f931c2423d983bd8c6456d5ece",
       "version_major": 2,
       "version_minor": 0
      },
      "text/plain": [
       "  0%|          | 0/4000 [00:00<?, ?it/s]"
      ]
     },
     "metadata": {},
     "output_type": "display_data"
    },
    {
     "data": {
      "application/vnd.jupyter.widget-view+json": {
       "model_id": "49990220c5f24985b492c72dbdfa1f2f",
       "version_major": 2,
       "version_minor": 0
      },
      "text/plain": [
       "  0%|          | 0/4000 [00:00<?, ?it/s]"
      ]
     },
     "metadata": {},
     "output_type": "display_data"
    },
    {
     "data": {
      "application/vnd.jupyter.widget-view+json": {
       "model_id": "7971aeb3b6714ec78a7b62ab62b2c7a8",
       "version_major": 2,
       "version_minor": 0
      },
      "text/plain": [
       "  0%|          | 0/4000 [00:00<?, ?it/s]"
      ]
     },
     "metadata": {},
     "output_type": "display_data"
    },
    {
     "data": {
      "application/vnd.jupyter.widget-view+json": {
       "model_id": "2bc4b05547dd4096a8fb20b797ee7aa6",
       "version_major": 2,
       "version_minor": 0
      },
      "text/plain": [
       "  0%|          | 0/4000 [00:00<?, ?it/s]"
      ]
     },
     "metadata": {},
     "output_type": "display_data"
    },
    {
     "data": {
      "application/vnd.jupyter.widget-view+json": {
       "model_id": "f79f18cfa0fe4a6c8448c5dea2c19481",
       "version_major": 2,
       "version_minor": 0
      },
      "text/plain": [
       "  0%|          | 0/4000 [00:00<?, ?it/s]"
      ]
     },
     "metadata": {},
     "output_type": "display_data"
    },
    {
     "data": {
      "application/vnd.jupyter.widget-view+json": {
       "model_id": "112b8b20ab4e4091bcc543099b461202",
       "version_major": 2,
       "version_minor": 0
      },
      "text/plain": [
       "  0%|          | 0/4000 [00:00<?, ?it/s]"
      ]
     },
     "metadata": {},
     "output_type": "display_data"
    },
    {
     "data": {
      "application/vnd.jupyter.widget-view+json": {
       "model_id": "0d787b77a09a41dab87dc05df32f9d33",
       "version_major": 2,
       "version_minor": 0
      },
      "text/plain": [
       "  0%|          | 0/4000 [00:00<?, ?it/s]"
      ]
     },
     "metadata": {},
     "output_type": "display_data"
    },
    {
     "data": {
      "application/vnd.jupyter.widget-view+json": {
       "model_id": "ccbc225e04bc49c7b72a4db26c367b71",
       "version_major": 2,
       "version_minor": 0
      },
      "text/plain": [
       "  0%|          | 0/4000 [00:00<?, ?it/s]"
      ]
     },
     "metadata": {},
     "output_type": "display_data"
    },
    {
     "data": {
      "application/vnd.jupyter.widget-view+json": {
       "model_id": "398403a0344d432dba825e8222520ab2",
       "version_major": 2,
       "version_minor": 0
      },
      "text/plain": [
       "  0%|          | 0/4000 [00:00<?, ?it/s]"
      ]
     },
     "metadata": {},
     "output_type": "display_data"
    },
    {
     "data": {
      "application/vnd.jupyter.widget-view+json": {
       "model_id": "1a5d76116b614313b3e62d79d2d4a64f",
       "version_major": 2,
       "version_minor": 0
      },
      "text/plain": [
       "  0%|          | 0/4000 [00:00<?, ?it/s]"
      ]
     },
     "metadata": {},
     "output_type": "display_data"
    },
    {
     "data": {
      "application/vnd.jupyter.widget-view+json": {
       "model_id": "6b68a929342e41d6a65d5ac24cdc0308",
       "version_major": 2,
       "version_minor": 0
      },
      "text/plain": [
       "  0%|          | 0/4000 [00:00<?, ?it/s]"
      ]
     },
     "metadata": {},
     "output_type": "display_data"
    },
    {
     "data": {
      "application/vnd.jupyter.widget-view+json": {
       "model_id": "2d61f343349644bfbbd814e278d0c767",
       "version_major": 2,
       "version_minor": 0
      },
      "text/plain": [
       "  0%|          | 0/4000 [00:00<?, ?it/s]"
      ]
     },
     "metadata": {},
     "output_type": "display_data"
    },
    {
     "data": {
      "application/vnd.jupyter.widget-view+json": {
       "model_id": "b3bf46762a1a439abded7eb454a48d63",
       "version_major": 2,
       "version_minor": 0
      },
      "text/plain": [
       "  0%|          | 0/4000 [00:00<?, ?it/s]"
      ]
     },
     "metadata": {},
     "output_type": "display_data"
    },
    {
     "data": {
      "application/vnd.jupyter.widget-view+json": {
       "model_id": "11447369ca854154b86224b9d4ea46d7",
       "version_major": 2,
       "version_minor": 0
      },
      "text/plain": [
       "  0%|          | 0/4000 [00:00<?, ?it/s]"
      ]
     },
     "metadata": {},
     "output_type": "display_data"
    },
    {
     "data": {
      "application/vnd.jupyter.widget-view+json": {
       "model_id": "7fbf955479e04b6298e568e346cad230",
       "version_major": 2,
       "version_minor": 0
      },
      "text/plain": [
       "  0%|          | 0/4000 [00:00<?, ?it/s]"
      ]
     },
     "metadata": {},
     "output_type": "display_data"
    },
    {
     "data": {
      "application/vnd.jupyter.widget-view+json": {
       "model_id": "a10dcbc54f03432fad38eafebc5a6e8f",
       "version_major": 2,
       "version_minor": 0
      },
      "text/plain": [
       "  0%|          | 0/4000 [00:00<?, ?it/s]"
      ]
     },
     "metadata": {},
     "output_type": "display_data"
    },
    {
     "data": {
      "application/vnd.jupyter.widget-view+json": {
       "model_id": "40034d901d774e319638c7181a678290",
       "version_major": 2,
       "version_minor": 0
      },
      "text/plain": [
       "  0%|          | 0/4000 [00:00<?, ?it/s]"
      ]
     },
     "metadata": {},
     "output_type": "display_data"
    },
    {
     "data": {
      "application/vnd.jupyter.widget-view+json": {
       "model_id": "33abb765721b42fd8fdf61455c627397",
       "version_major": 2,
       "version_minor": 0
      },
      "text/plain": [
       "  0%|          | 0/4000 [00:00<?, ?it/s]"
      ]
     },
     "metadata": {},
     "output_type": "display_data"
    },
    {
     "data": {
      "application/vnd.jupyter.widget-view+json": {
       "model_id": "9b65549e19d24c0abbe895455731fe62",
       "version_major": 2,
       "version_minor": 0
      },
      "text/plain": [
       "  0%|          | 0/4000 [00:00<?, ?it/s]"
      ]
     },
     "metadata": {},
     "output_type": "display_data"
    },
    {
     "data": {
      "application/vnd.jupyter.widget-view+json": {
       "model_id": "d30f7908d0854850b9c51bfca2ac6ede",
       "version_major": 2,
       "version_minor": 0
      },
      "text/plain": [
       "  0%|          | 0/4000 [00:00<?, ?it/s]"
      ]
     },
     "metadata": {},
     "output_type": "display_data"
    },
    {
     "data": {
      "application/vnd.jupyter.widget-view+json": {
       "model_id": "fa9a78446e16440585ae7e17fc3e2047",
       "version_major": 2,
       "version_minor": 0
      },
      "text/plain": [
       "  0%|          | 0/4000 [00:00<?, ?it/s]"
      ]
     },
     "metadata": {},
     "output_type": "display_data"
    },
    {
     "data": {
      "application/vnd.jupyter.widget-view+json": {
       "model_id": "32af9272287b46718232a472a92dbd1b",
       "version_major": 2,
       "version_minor": 0
      },
      "text/plain": [
       "  0%|          | 0/4000 [00:00<?, ?it/s]"
      ]
     },
     "metadata": {},
     "output_type": "display_data"
    },
    {
     "data": {
      "application/vnd.jupyter.widget-view+json": {
       "model_id": "c5151ff79e594411880c3f460f9590cf",
       "version_major": 2,
       "version_minor": 0
      },
      "text/plain": [
       "  0%|          | 0/4000 [00:00<?, ?it/s]"
      ]
     },
     "metadata": {},
     "output_type": "display_data"
    },
    {
     "data": {
      "application/vnd.jupyter.widget-view+json": {
       "model_id": "2edf4bbf85134bcf9c5b888ea7d79de6",
       "version_major": 2,
       "version_minor": 0
      },
      "text/plain": [
       "  0%|          | 0/4000 [00:00<?, ?it/s]"
      ]
     },
     "metadata": {},
     "output_type": "display_data"
    },
    {
     "data": {
      "application/vnd.jupyter.widget-view+json": {
       "model_id": "9acfd516de25480caad9000ffc00db41",
       "version_major": 2,
       "version_minor": 0
      },
      "text/plain": [
       "  0%|          | 0/4000 [00:00<?, ?it/s]"
      ]
     },
     "metadata": {},
     "output_type": "display_data"
    },
    {
     "data": {
      "application/vnd.jupyter.widget-view+json": {
       "model_id": "21e3b2644f474b6483f2b142c4f03bec",
       "version_major": 2,
       "version_minor": 0
      },
      "text/plain": [
       "  0%|          | 0/4000 [00:00<?, ?it/s]"
      ]
     },
     "metadata": {},
     "output_type": "display_data"
    },
    {
     "data": {
      "application/vnd.jupyter.widget-view+json": {
       "model_id": "0116c9001a3f4b34a2ae574afa4a0d34",
       "version_major": 2,
       "version_minor": 0
      },
      "text/plain": [
       "  0%|          | 0/4000 [00:00<?, ?it/s]"
      ]
     },
     "metadata": {},
     "output_type": "display_data"
    },
    {
     "data": {
      "application/vnd.jupyter.widget-view+json": {
       "model_id": "eb7a2be83cf94fca9a396fa1a9d71506",
       "version_major": 2,
       "version_minor": 0
      },
      "text/plain": [
       "  0%|          | 0/4000 [00:00<?, ?it/s]"
      ]
     },
     "metadata": {},
     "output_type": "display_data"
    },
    {
     "data": {
      "application/vnd.jupyter.widget-view+json": {
       "model_id": "1cfe84489a7b4e54a9626be4af247aa6",
       "version_major": 2,
       "version_minor": 0
      },
      "text/plain": [
       "  0%|          | 0/4000 [00:00<?, ?it/s]"
      ]
     },
     "metadata": {},
     "output_type": "display_data"
    },
    {
     "data": {
      "application/vnd.jupyter.widget-view+json": {
       "model_id": "64f921fd314f4eef85628a87c262731e",
       "version_major": 2,
       "version_minor": 0
      },
      "text/plain": [
       "  0%|          | 0/4000 [00:00<?, ?it/s]"
      ]
     },
     "metadata": {},
     "output_type": "display_data"
    },
    {
     "data": {
      "application/vnd.jupyter.widget-view+json": {
       "model_id": "7b2768d716764e4cbd49af280bfc792a",
       "version_major": 2,
       "version_minor": 0
      },
      "text/plain": [
       "  0%|          | 0/4000 [00:00<?, ?it/s]"
      ]
     },
     "metadata": {},
     "output_type": "display_data"
    },
    {
     "data": {
      "application/vnd.jupyter.widget-view+json": {
       "model_id": "66731abb405248b0a64529239148f1e8",
       "version_major": 2,
       "version_minor": 0
      },
      "text/plain": [
       "  0%|          | 0/4000 [00:00<?, ?it/s]"
      ]
     },
     "metadata": {},
     "output_type": "display_data"
    },
    {
     "data": {
      "application/vnd.jupyter.widget-view+json": {
       "model_id": "162f59e25c26468d8e612da0335969f2",
       "version_major": 2,
       "version_minor": 0
      },
      "text/plain": [
       "  0%|          | 0/4000 [00:00<?, ?it/s]"
      ]
     },
     "metadata": {},
     "output_type": "display_data"
    }
   ],
   "source": [
    "REG_NAMES = [\"cs_phds\"]\n",
    "\n",
    "SIGNATURES = [\n",
    "    [(-1, 4)], # H\n",
    "]\n",
    "\n",
    "SIGNATURES_STR = [\"H\"]\n",
    "\n",
    "results2 = []\n",
    "my_tqdm = tqdm(total=len(REG_NAMES) * n_trials)# * len(SIGNATURES))\n",
    "for embedding, signature, sigstr in zip(REG_NAMES, SIGNATURES, SIGNATURES_STR):\n",
    "    _, _, adj = embedders.dataloaders.load(embedding)\n",
    "    # dists = pd.read_table(f\"../data/graphs/embeddings/{embedding}_dists.tsv\")\n",
    "    \n",
    "    # Get the lowest D_avg signature\n",
    "    \n",
    "    # for sig, sig_str in zip(SIGNATURES, SIGNATURES_STR):\n",
    "    pm = embedders.manifolds.ProductManifold(signature=sig)\n",
    "    # dists_sig = dists[dists[\"signature\"] == str(sig)]\n",
    "\n",
    "    # for i, trial in enumerate(dists_sig[\"seed\"]):\n",
    "    for i in range(n_trials):\n",
    "        # i is used to load the correct embedding\n",
    "        # trial is used to get the correct d_avg\n",
    "        # I'm sorry for this mess\n",
    "        data = torch.load(f\"../data/graphs/embeddings/{embedding}/{sig_str}_{i}.h5\", weights_only=True)\n",
    "        X_train = data[\"X_train\"]\n",
    "        X_test = data[\"X_test\"]\n",
    "        y_train = data[\"y_train\"]\n",
    "        y_test = data[\"y_test\"]\n",
    "        test_idx = data[\"test_idx\"]\n",
    "        train_idx = [i for i in range(len(X_train) + len(X_test)) if i not in test_idx]\n",
    "\n",
    "        # Get adjacency matrix\n",
    "        A_hat = embedders.predictors.kappa_gcn.get_A_hat(adj.float())\n",
    "\n",
    "        res = embedders.benchmarks.benchmark(\n",
    "            X=None,\n",
    "            y=None,\n",
    "            X_train=X_train,\n",
    "            X_test=X_test,\n",
    "            y_train=y_train,\n",
    "            y_test=y_test,\n",
    "            pm=pm,\n",
    "            device=\"cuda\",\n",
    "            A_train = A_hat[train_idx][:, train_idx],\n",
    "            A_test = A_hat[test_idx][:, test_idx],\n",
    "            # task=\"classification\",\n",
    "            # score=[\"accuracy\", \"f1-micro\"],\n",
    "            task=\"regression\",\n",
    "            score=[\"rmse\"]\n",
    "        )\n",
    "        res[\"embedding\"] = embedding\n",
    "        res[\"signature\"] = sig_str\n",
    "        res[\"trial\"] = trial\n",
    "\n",
    "        # Get matching d_avg using seed and sig_str\n",
    "        # dists_seed = dists_sig[dists_sig[\"seed\"] == trial]\n",
    "        # assert len(dists_seed) == 1\n",
    "        # res[\"d_avg\"] = dists_seed[\"d_avg\"].values[0]\n",
    "\n",
    "        results2.append(res)\n",
    "        my_tqdm.update(1)\n",
    "\n",
    "results2 = pd.DataFrame(results2)"
   ]
  },
  {
   "cell_type": "code",
   "execution_count": 43,
   "metadata": {},
   "outputs": [],
   "source": [
    "results2.to_csv(\"../data/results_icml/graph_regression.tsv\", sep=\"\\t\", index=False)"
   ]
  },
  {
   "cell_type": "code",
   "execution_count": 23,
   "metadata": {},
   "outputs": [
    {
     "data": {
      "text/html": [
       "<div>\n",
       "<style scoped>\n",
       "    .dataframe tbody tr th:only-of-type {\n",
       "        vertical-align: middle;\n",
       "    }\n",
       "\n",
       "    .dataframe tbody tr th {\n",
       "        vertical-align: top;\n",
       "    }\n",
       "\n",
       "    .dataframe thead th {\n",
       "        text-align: right;\n",
       "    }\n",
       "</style>\n",
       "<table border=\"1\" class=\"dataframe\">\n",
       "  <thead>\n",
       "    <tr style=\"text-align: right;\">\n",
       "      <th></th>\n",
       "      <th></th>\n",
       "      <th>sklearn_dt</th>\n",
       "      <th>sklearn_rf</th>\n",
       "      <th>product_dt</th>\n",
       "      <th>product_rf</th>\n",
       "      <th>tangent_dt</th>\n",
       "      <th>tangent_rf</th>\n",
       "      <th>knn</th>\n",
       "      <th>ps_perceptron</th>\n",
       "      <th>trial</th>\n",
       "      <th>d_avg</th>\n",
       "    </tr>\n",
       "    <tr>\n",
       "      <th>embedding</th>\n",
       "      <th>signature</th>\n",
       "      <th></th>\n",
       "      <th></th>\n",
       "      <th></th>\n",
       "      <th></th>\n",
       "      <th></th>\n",
       "      <th></th>\n",
       "      <th></th>\n",
       "      <th></th>\n",
       "      <th></th>\n",
       "      <th></th>\n",
       "    </tr>\n",
       "  </thead>\n",
       "  <tbody>\n",
       "    <tr>\n",
       "      <th rowspan=\"8\" valign=\"top\">citeseer</th>\n",
       "      <th>E</th>\n",
       "      <td>0.224645</td>\n",
       "      <td>0.246919</td>\n",
       "      <td>0.231043</td>\n",
       "      <td>0.251185</td>\n",
       "      <td>0.221801</td>\n",
       "      <td>0.240047</td>\n",
       "      <td>0.246445</td>\n",
       "      <td>0.136256</td>\n",
       "      <td>4.5</td>\n",
       "      <td>0.119121</td>\n",
       "    </tr>\n",
       "    <tr>\n",
       "      <th>H</th>\n",
       "      <td>0.224171</td>\n",
       "      <td>0.236019</td>\n",
       "      <td>0.216351</td>\n",
       "      <td>0.249526</td>\n",
       "      <td>0.222986</td>\n",
       "      <td>0.240284</td>\n",
       "      <td>0.251896</td>\n",
       "      <td>0.138626</td>\n",
       "      <td>4.5</td>\n",
       "      <td>0.119086</td>\n",
       "    </tr>\n",
       "    <tr>\n",
       "      <th>HE</th>\n",
       "      <td>0.224408</td>\n",
       "      <td>0.244076</td>\n",
       "      <td>0.232464</td>\n",
       "      <td>0.236019</td>\n",
       "      <td>0.225829</td>\n",
       "      <td>0.246682</td>\n",
       "      <td>0.240995</td>\n",
       "      <td>0.139573</td>\n",
       "      <td>4.5</td>\n",
       "      <td>0.115482</td>\n",
       "    </tr>\n",
       "    <tr>\n",
       "      <th>HH</th>\n",
       "      <td>0.223223</td>\n",
       "      <td>0.241469</td>\n",
       "      <td>0.221564</td>\n",
       "      <td>0.237678</td>\n",
       "      <td>0.214455</td>\n",
       "      <td>0.245972</td>\n",
       "      <td>0.254502</td>\n",
       "      <td>0.055213</td>\n",
       "      <td>4.5</td>\n",
       "      <td>0.115255</td>\n",
       "    </tr>\n",
       "    <tr>\n",
       "      <th>HS</th>\n",
       "      <td>0.228199</td>\n",
       "      <td>0.247867</td>\n",
       "      <td>0.227014</td>\n",
       "      <td>0.242891</td>\n",
       "      <td>0.224408</td>\n",
       "      <td>0.243365</td>\n",
       "      <td>0.260900</td>\n",
       "      <td>0.132227</td>\n",
       "      <td>4.5</td>\n",
       "      <td>0.113340</td>\n",
       "    </tr>\n",
       "    <tr>\n",
       "      <th>S</th>\n",
       "      <td>0.227962</td>\n",
       "      <td>0.231517</td>\n",
       "      <td>0.235308</td>\n",
       "      <td>0.235071</td>\n",
       "      <td>0.230569</td>\n",
       "      <td>0.240047</td>\n",
       "      <td>0.243365</td>\n",
       "      <td>0.138152</td>\n",
       "      <td>18.5</td>\n",
       "      <td>0.114520</td>\n",
       "    </tr>\n",
       "    <tr>\n",
       "      <th>SE</th>\n",
       "      <td>0.226777</td>\n",
       "      <td>0.229621</td>\n",
       "      <td>0.222275</td>\n",
       "      <td>0.234834</td>\n",
       "      <td>0.218246</td>\n",
       "      <td>0.237915</td>\n",
       "      <td>0.246682</td>\n",
       "      <td>0.132701</td>\n",
       "      <td>4.5</td>\n",
       "      <td>0.114033</td>\n",
       "    </tr>\n",
       "    <tr>\n",
       "      <th>SS</th>\n",
       "      <td>0.221090</td>\n",
       "      <td>0.244787</td>\n",
       "      <td>0.230095</td>\n",
       "      <td>0.238152</td>\n",
       "      <td>0.231280</td>\n",
       "      <td>0.235545</td>\n",
       "      <td>0.253318</td>\n",
       "      <td>0.139336</td>\n",
       "      <td>4.5</td>\n",
       "      <td>0.113654</td>\n",
       "    </tr>\n",
       "    <tr>\n",
       "      <th rowspan=\"8\" valign=\"top\">cora</th>\n",
       "      <th>E</th>\n",
       "      <td>0.193763</td>\n",
       "      <td>0.208048</td>\n",
       "      <td>0.196579</td>\n",
       "      <td>0.209859</td>\n",
       "      <td>0.188330</td>\n",
       "      <td>0.207243</td>\n",
       "      <td>0.206439</td>\n",
       "      <td>0.172837</td>\n",
       "      <td>64.5</td>\n",
       "      <td>0.142536</td>\n",
       "    </tr>\n",
       "    <tr>\n",
       "      <th>H</th>\n",
       "      <td>0.188732</td>\n",
       "      <td>0.199396</td>\n",
       "      <td>0.182495</td>\n",
       "      <td>0.200805</td>\n",
       "      <td>0.176056</td>\n",
       "      <td>0.198994</td>\n",
       "      <td>0.207042</td>\n",
       "      <td>0.181087</td>\n",
       "      <td>54.5</td>\n",
       "      <td>0.141029</td>\n",
       "    </tr>\n",
       "    <tr>\n",
       "      <th>HE</th>\n",
       "      <td>0.192555</td>\n",
       "      <td>0.201207</td>\n",
       "      <td>0.204024</td>\n",
       "      <td>0.214487</td>\n",
       "      <td>0.195976</td>\n",
       "      <td>0.208249</td>\n",
       "      <td>0.218712</td>\n",
       "      <td>0.175855</td>\n",
       "      <td>14.5</td>\n",
       "      <td>0.143055</td>\n",
       "    </tr>\n",
       "    <tr>\n",
       "      <th>HH</th>\n",
       "      <td>0.196781</td>\n",
       "      <td>0.212072</td>\n",
       "      <td>0.191952</td>\n",
       "      <td>0.213883</td>\n",
       "      <td>0.187726</td>\n",
       "      <td>0.207847</td>\n",
       "      <td>0.204628</td>\n",
       "      <td>0.051509</td>\n",
       "      <td>4.5</td>\n",
       "      <td>0.142397</td>\n",
       "    </tr>\n",
       "    <tr>\n",
       "      <th>HS</th>\n",
       "      <td>0.191348</td>\n",
       "      <td>0.218511</td>\n",
       "      <td>0.194769</td>\n",
       "      <td>0.215292</td>\n",
       "      <td>0.190141</td>\n",
       "      <td>0.208451</td>\n",
       "      <td>0.220322</td>\n",
       "      <td>0.163380</td>\n",
       "      <td>24.5</td>\n",
       "      <td>0.142417</td>\n",
       "    </tr>\n",
       "    <tr>\n",
       "      <th>S</th>\n",
       "      <td>0.190342</td>\n",
       "      <td>0.198994</td>\n",
       "      <td>0.189336</td>\n",
       "      <td>0.202616</td>\n",
       "      <td>0.189336</td>\n",
       "      <td>0.210463</td>\n",
       "      <td>0.212877</td>\n",
       "      <td>0.164588</td>\n",
       "      <td>74.5</td>\n",
       "      <td>0.143375</td>\n",
       "    </tr>\n",
       "    <tr>\n",
       "      <th>SE</th>\n",
       "      <td>0.194366</td>\n",
       "      <td>0.213280</td>\n",
       "      <td>0.184306</td>\n",
       "      <td>0.216097</td>\n",
       "      <td>0.197586</td>\n",
       "      <td>0.207243</td>\n",
       "      <td>0.207445</td>\n",
       "      <td>0.184708</td>\n",
       "      <td>44.5</td>\n",
       "      <td>0.142593</td>\n",
       "    </tr>\n",
       "    <tr>\n",
       "      <th>SS</th>\n",
       "      <td>0.184909</td>\n",
       "      <td>0.206237</td>\n",
       "      <td>0.178270</td>\n",
       "      <td>0.209859</td>\n",
       "      <td>0.188330</td>\n",
       "      <td>0.210060</td>\n",
       "      <td>0.207646</td>\n",
       "      <td>0.201408</td>\n",
       "      <td>34.5</td>\n",
       "      <td>0.142848</td>\n",
       "    </tr>\n",
       "    <tr>\n",
       "      <th rowspan=\"8\" valign=\"top\">cs_phds</th>\n",
       "      <th>E</th>\n",
       "      <td>0.071220</td>\n",
       "      <td>0.063902</td>\n",
       "      <td>0.067805</td>\n",
       "      <td>0.070732</td>\n",
       "      <td>0.064878</td>\n",
       "      <td>0.064390</td>\n",
       "      <td>0.057561</td>\n",
       "      <td>0.039512</td>\n",
       "      <td>64.5</td>\n",
       "      <td>0.093378</td>\n",
       "    </tr>\n",
       "    <tr>\n",
       "      <th>H</th>\n",
       "      <td>0.076585</td>\n",
       "      <td>0.076585</td>\n",
       "      <td>0.072195</td>\n",
       "      <td>0.075610</td>\n",
       "      <td>0.067805</td>\n",
       "      <td>0.079512</td>\n",
       "      <td>0.065366</td>\n",
       "      <td>0.049268</td>\n",
       "      <td>54.5</td>\n",
       "      <td>0.091277</td>\n",
       "    </tr>\n",
       "    <tr>\n",
       "      <th>HE</th>\n",
       "      <td>0.077561</td>\n",
       "      <td>0.080000</td>\n",
       "      <td>0.063902</td>\n",
       "      <td>0.073659</td>\n",
       "      <td>0.072195</td>\n",
       "      <td>0.078537</td>\n",
       "      <td>0.064878</td>\n",
       "      <td>0.043902</td>\n",
       "      <td>14.5</td>\n",
       "      <td>0.092342</td>\n",
       "    </tr>\n",
       "    <tr>\n",
       "      <th>HH</th>\n",
       "      <td>0.074797</td>\n",
       "      <td>0.083469</td>\n",
       "      <td>0.073713</td>\n",
       "      <td>0.075339</td>\n",
       "      <td>0.074255</td>\n",
       "      <td>0.076965</td>\n",
       "      <td>0.067209</td>\n",
       "      <td>0.001084</td>\n",
       "      <td>5.0</td>\n",
       "      <td>0.091501</td>\n",
       "    </tr>\n",
       "    <tr>\n",
       "      <th>HS</th>\n",
       "      <td>0.060000</td>\n",
       "      <td>0.066341</td>\n",
       "      <td>0.060000</td>\n",
       "      <td>0.065854</td>\n",
       "      <td>0.057073</td>\n",
       "      <td>0.062927</td>\n",
       "      <td>0.061951</td>\n",
       "      <td>0.045854</td>\n",
       "      <td>24.5</td>\n",
       "      <td>0.092177</td>\n",
       "    </tr>\n",
       "    <tr>\n",
       "      <th>S</th>\n",
       "      <td>0.061951</td>\n",
       "      <td>0.063415</td>\n",
       "      <td>0.060976</td>\n",
       "      <td>0.071220</td>\n",
       "      <td>0.061951</td>\n",
       "      <td>0.067805</td>\n",
       "      <td>0.055610</td>\n",
       "      <td>0.037561</td>\n",
       "      <td>74.5</td>\n",
       "      <td>0.093538</td>\n",
       "    </tr>\n",
       "    <tr>\n",
       "      <th>SE</th>\n",
       "      <td>0.061951</td>\n",
       "      <td>0.069268</td>\n",
       "      <td>0.062439</td>\n",
       "      <td>0.067317</td>\n",
       "      <td>0.062439</td>\n",
       "      <td>0.072683</td>\n",
       "      <td>0.062927</td>\n",
       "      <td>0.043902</td>\n",
       "      <td>44.5</td>\n",
       "      <td>0.092496</td>\n",
       "    </tr>\n",
       "    <tr>\n",
       "      <th>SS</th>\n",
       "      <td>0.058049</td>\n",
       "      <td>0.076098</td>\n",
       "      <td>0.062439</td>\n",
       "      <td>0.068780</td>\n",
       "      <td>0.060976</td>\n",
       "      <td>0.068780</td>\n",
       "      <td>0.059024</td>\n",
       "      <td>0.047805</td>\n",
       "      <td>34.5</td>\n",
       "      <td>0.091443</td>\n",
       "    </tr>\n",
       "    <tr>\n",
       "      <th rowspan=\"8\" valign=\"top\">polblogs</th>\n",
       "      <th>E</th>\n",
       "      <td>0.905714</td>\n",
       "      <td>0.931020</td>\n",
       "      <td>0.909796</td>\n",
       "      <td>0.936735</td>\n",
       "      <td>0.907347</td>\n",
       "      <td>0.932245</td>\n",
       "      <td>0.938367</td>\n",
       "      <td>0.486939</td>\n",
       "      <td>64.5</td>\n",
       "      <td>0.183182</td>\n",
       "    </tr>\n",
       "    <tr>\n",
       "      <th>H</th>\n",
       "      <td>0.914286</td>\n",
       "      <td>0.937143</td>\n",
       "      <td>0.908163</td>\n",
       "      <td>0.935918</td>\n",
       "      <td>0.915102</td>\n",
       "      <td>0.935918</td>\n",
       "      <td>0.941224</td>\n",
       "      <td>0.475510</td>\n",
       "      <td>54.5</td>\n",
       "      <td>0.181900</td>\n",
       "    </tr>\n",
       "    <tr>\n",
       "      <th>HE</th>\n",
       "      <td>0.903265</td>\n",
       "      <td>0.929796</td>\n",
       "      <td>0.913878</td>\n",
       "      <td>0.933878</td>\n",
       "      <td>0.907755</td>\n",
       "      <td>0.931837</td>\n",
       "      <td>0.939184</td>\n",
       "      <td>0.555918</td>\n",
       "      <td>14.5</td>\n",
       "      <td>0.185017</td>\n",
       "    </tr>\n",
       "    <tr>\n",
       "      <th>HH</th>\n",
       "      <td>0.899592</td>\n",
       "      <td>0.929388</td>\n",
       "      <td>0.908980</td>\n",
       "      <td>0.924490</td>\n",
       "      <td>0.898776</td>\n",
       "      <td>0.928980</td>\n",
       "      <td>0.940408</td>\n",
       "      <td>0.497551</td>\n",
       "      <td>4.5</td>\n",
       "      <td>0.185133</td>\n",
       "    </tr>\n",
       "    <tr>\n",
       "      <th>HS</th>\n",
       "      <td>0.911837</td>\n",
       "      <td>0.933061</td>\n",
       "      <td>0.904490</td>\n",
       "      <td>0.935102</td>\n",
       "      <td>0.905714</td>\n",
       "      <td>0.931837</td>\n",
       "      <td>0.934286</td>\n",
       "      <td>0.529388</td>\n",
       "      <td>24.5</td>\n",
       "      <td>0.184872</td>\n",
       "    </tr>\n",
       "    <tr>\n",
       "      <th>S</th>\n",
       "      <td>0.917551</td>\n",
       "      <td>0.933878</td>\n",
       "      <td>0.915510</td>\n",
       "      <td>0.928163</td>\n",
       "      <td>0.909388</td>\n",
       "      <td>0.926939</td>\n",
       "      <td>0.940408</td>\n",
       "      <td>0.490204</td>\n",
       "      <td>74.5</td>\n",
       "      <td>0.182530</td>\n",
       "    </tr>\n",
       "    <tr>\n",
       "      <th>SE</th>\n",
       "      <td>0.915102</td>\n",
       "      <td>0.930612</td>\n",
       "      <td>0.904082</td>\n",
       "      <td>0.929388</td>\n",
       "      <td>0.900816</td>\n",
       "      <td>0.931429</td>\n",
       "      <td>0.939592</td>\n",
       "      <td>0.492245</td>\n",
       "      <td>44.5</td>\n",
       "      <td>0.183776</td>\n",
       "    </tr>\n",
       "    <tr>\n",
       "      <th>SS</th>\n",
       "      <td>0.908571</td>\n",
       "      <td>0.937143</td>\n",
       "      <td>0.922041</td>\n",
       "      <td>0.935102</td>\n",
       "      <td>0.906531</td>\n",
       "      <td>0.935102</td>\n",
       "      <td>0.937551</td>\n",
       "      <td>0.474286</td>\n",
       "      <td>34.5</td>\n",
       "      <td>0.181695</td>\n",
       "    </tr>\n",
       "  </tbody>\n",
       "</table>\n",
       "</div>"
      ],
      "text/plain": [
       "                     sklearn_dt  sklearn_rf  product_dt  product_rf  \\\n",
       "embedding signature                                                   \n",
       "citeseer  E            0.224645    0.246919    0.231043    0.251185   \n",
       "          H            0.224171    0.236019    0.216351    0.249526   \n",
       "          HE           0.224408    0.244076    0.232464    0.236019   \n",
       "          HH           0.223223    0.241469    0.221564    0.237678   \n",
       "          HS           0.228199    0.247867    0.227014    0.242891   \n",
       "          S            0.227962    0.231517    0.235308    0.235071   \n",
       "          SE           0.226777    0.229621    0.222275    0.234834   \n",
       "          SS           0.221090    0.244787    0.230095    0.238152   \n",
       "cora      E            0.193763    0.208048    0.196579    0.209859   \n",
       "          H            0.188732    0.199396    0.182495    0.200805   \n",
       "          HE           0.192555    0.201207    0.204024    0.214487   \n",
       "          HH           0.196781    0.212072    0.191952    0.213883   \n",
       "          HS           0.191348    0.218511    0.194769    0.215292   \n",
       "          S            0.190342    0.198994    0.189336    0.202616   \n",
       "          SE           0.194366    0.213280    0.184306    0.216097   \n",
       "          SS           0.184909    0.206237    0.178270    0.209859   \n",
       "cs_phds   E            0.071220    0.063902    0.067805    0.070732   \n",
       "          H            0.076585    0.076585    0.072195    0.075610   \n",
       "          HE           0.077561    0.080000    0.063902    0.073659   \n",
       "          HH           0.074797    0.083469    0.073713    0.075339   \n",
       "          HS           0.060000    0.066341    0.060000    0.065854   \n",
       "          S            0.061951    0.063415    0.060976    0.071220   \n",
       "          SE           0.061951    0.069268    0.062439    0.067317   \n",
       "          SS           0.058049    0.076098    0.062439    0.068780   \n",
       "polblogs  E            0.905714    0.931020    0.909796    0.936735   \n",
       "          H            0.914286    0.937143    0.908163    0.935918   \n",
       "          HE           0.903265    0.929796    0.913878    0.933878   \n",
       "          HH           0.899592    0.929388    0.908980    0.924490   \n",
       "          HS           0.911837    0.933061    0.904490    0.935102   \n",
       "          S            0.917551    0.933878    0.915510    0.928163   \n",
       "          SE           0.915102    0.930612    0.904082    0.929388   \n",
       "          SS           0.908571    0.937143    0.922041    0.935102   \n",
       "\n",
       "                     tangent_dt  tangent_rf       knn  ps_perceptron  trial  \\\n",
       "embedding signature                                                           \n",
       "citeseer  E            0.221801    0.240047  0.246445       0.136256    4.5   \n",
       "          H            0.222986    0.240284  0.251896       0.138626    4.5   \n",
       "          HE           0.225829    0.246682  0.240995       0.139573    4.5   \n",
       "          HH           0.214455    0.245972  0.254502       0.055213    4.5   \n",
       "          HS           0.224408    0.243365  0.260900       0.132227    4.5   \n",
       "          S            0.230569    0.240047  0.243365       0.138152   18.5   \n",
       "          SE           0.218246    0.237915  0.246682       0.132701    4.5   \n",
       "          SS           0.231280    0.235545  0.253318       0.139336    4.5   \n",
       "cora      E            0.188330    0.207243  0.206439       0.172837   64.5   \n",
       "          H            0.176056    0.198994  0.207042       0.181087   54.5   \n",
       "          HE           0.195976    0.208249  0.218712       0.175855   14.5   \n",
       "          HH           0.187726    0.207847  0.204628       0.051509    4.5   \n",
       "          HS           0.190141    0.208451  0.220322       0.163380   24.5   \n",
       "          S            0.189336    0.210463  0.212877       0.164588   74.5   \n",
       "          SE           0.197586    0.207243  0.207445       0.184708   44.5   \n",
       "          SS           0.188330    0.210060  0.207646       0.201408   34.5   \n",
       "cs_phds   E            0.064878    0.064390  0.057561       0.039512   64.5   \n",
       "          H            0.067805    0.079512  0.065366       0.049268   54.5   \n",
       "          HE           0.072195    0.078537  0.064878       0.043902   14.5   \n",
       "          HH           0.074255    0.076965  0.067209       0.001084    5.0   \n",
       "          HS           0.057073    0.062927  0.061951       0.045854   24.5   \n",
       "          S            0.061951    0.067805  0.055610       0.037561   74.5   \n",
       "          SE           0.062439    0.072683  0.062927       0.043902   44.5   \n",
       "          SS           0.060976    0.068780  0.059024       0.047805   34.5   \n",
       "polblogs  E            0.907347    0.932245  0.938367       0.486939   64.5   \n",
       "          H            0.915102    0.935918  0.941224       0.475510   54.5   \n",
       "          HE           0.907755    0.931837  0.939184       0.555918   14.5   \n",
       "          HH           0.898776    0.928980  0.940408       0.497551    4.5   \n",
       "          HS           0.905714    0.931837  0.934286       0.529388   24.5   \n",
       "          S            0.909388    0.926939  0.940408       0.490204   74.5   \n",
       "          SE           0.900816    0.931429  0.939592       0.492245   44.5   \n",
       "          SS           0.906531    0.935102  0.937551       0.474286   34.5   \n",
       "\n",
       "                        d_avg  \n",
       "embedding signature            \n",
       "citeseer  E          0.119121  \n",
       "          H          0.119086  \n",
       "          HE         0.115482  \n",
       "          HH         0.115255  \n",
       "          HS         0.113340  \n",
       "          S          0.114520  \n",
       "          SE         0.114033  \n",
       "          SS         0.113654  \n",
       "cora      E          0.142536  \n",
       "          H          0.141029  \n",
       "          HE         0.143055  \n",
       "          HH         0.142397  \n",
       "          HS         0.142417  \n",
       "          S          0.143375  \n",
       "          SE         0.142593  \n",
       "          SS         0.142848  \n",
       "cs_phds   E          0.093378  \n",
       "          H          0.091277  \n",
       "          HE         0.092342  \n",
       "          HH         0.091501  \n",
       "          HS         0.092177  \n",
       "          S          0.093538  \n",
       "          SE         0.092496  \n",
       "          SS         0.091443  \n",
       "polblogs  E          0.183182  \n",
       "          H          0.181900  \n",
       "          HE         0.185017  \n",
       "          HH         0.185133  \n",
       "          HS         0.184872  \n",
       "          S          0.182530  \n",
       "          SE         0.183776  \n",
       "          SS         0.181695  "
      ]
     },
     "execution_count": 23,
     "metadata": {},
     "output_type": "execute_result"
    }
   ],
   "source": [
    "results.groupby([\"embedding\", \"signature\"]).mean()"
   ]
  },
  {
   "cell_type": "code",
   "execution_count": null,
   "metadata": {},
   "outputs": [],
   "source": []
  }
 ],
 "metadata": {
  "kernelspec": {
   "display_name": "embedders",
   "language": "python",
   "name": "python3"
  },
  "language_info": {
   "codemirror_mode": {
    "name": "ipython",
    "version": 3
   },
   "file_extension": ".py",
   "mimetype": "text/x-python",
   "name": "python",
   "nbconvert_exporter": "python",
   "pygments_lexer": "ipython3",
   "version": "3.9.0"
  }
 },
 "nbformat": 4,
 "nbformat_minor": 2
}

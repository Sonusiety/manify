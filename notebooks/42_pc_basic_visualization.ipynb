{
 "cells": [
  {
   "cell_type": "code",
   "execution_count": 1,
   "metadata": {},
   "outputs": [],
   "source": [
    "import embedders"
   ]
  },
  {
   "cell_type": "code",
   "execution_count": 2,
   "metadata": {},
   "outputs": [
    {
     "name": "stderr",
     "output_type": "stream",
     "text": [
      "/Users/phil/miniforge3/envs/embedders2/lib/python3.10/site-packages/torch/distributions/wishart.py:271: UserWarning: Singular sample detected.\n",
      "  warnings.warn(\"Singular sample detected.\")\n"
     ]
    }
   ],
   "source": [
    "import embedders.gaussian_mixture\n",
    "\n",
    "\n",
    "pm = embedders.manifolds.ProductManifold(signature=[(1,3),(1,3),(-1,3),(-1,3),(0,3)])\n",
    "\n",
    "X, y = embedders.gaussian_mixture.gaussian_mixture(pm, 1000)"
   ]
  },
  {
   "cell_type": "code",
   "execution_count": 7,
   "metadata": {},
   "outputs": [
    {
     "name": "stdout",
     "output_type": "stream",
     "text": [
      "0.9850\n"
     ]
    }
   ],
   "source": [
    "from sklearn.model_selection import train_test_split\n",
    "\n",
    "X_train, X_test, y_train, y_test = train_test_split(X, y, test_size=0.2)\n",
    "\n",
    "pdt = embedders.tree_new.ProductSpaceDT(pm=pm, n_features=\"d_choose_2\")\n",
    "pdt.fit(X_train, y_train)\n",
    "\n",
    "print(f\"{pdt.score(X_test, y_test).float().mean().item():.4f}\")"
   ]
  },
  {
   "cell_type": "code",
   "execution_count": 9,
   "metadata": {},
   "outputs": [
    {
     "data": {
      "text/plain": [
       "{'pm': <embedders.manifolds.ProductManifold at 0x349d0a770>,\n",
       " 'max_depth': -1,\n",
       " 'min_samples_leaf': 1,\n",
       " 'min_samples_split': 2,\n",
       " 'min_impurity_decrease': 0.0,\n",
       " 'use_special_dims': False,\n",
       " 'n_features': 'd_choose_2',\n",
       " 'ablate_midpoints': False,\n",
       " 'batch_size': None,\n",
       " 'batched': True,\n",
       " 'task': 'classification',\n",
       " 'criterion': 'gini',\n",
       " 'nodes': [<embedders.tree_new.DecisionNode at 0x3640ebb50>,\n",
       "  <embedders.tree_new.DecisionNode at 0x3640eba00>,\n",
       "  <embedders.tree_new.DecisionNode at 0x3640e9a80>,\n",
       "  <embedders.tree_new.DecisionNode at 0x3640ea260>,\n",
       "  <embedders.tree_new.DecisionNode at 0x3640e92a0>,\n",
       "  <embedders.tree_new.DecisionNode at 0x3640eb490>,\n",
       "  <embedders.tree_new.DecisionNode at 0x3640eb340>,\n",
       "  <embedders.tree_new.DecisionNode at 0x3640eb220>,\n",
       "  <embedders.tree_new.DecisionNode at 0x3640e9d20>,\n",
       "  <embedders.tree_new.DecisionNode at 0x3640e81c0>,\n",
       "  <embedders.tree_new.DecisionNode at 0x3640ea6e0>,\n",
       "  <embedders.tree_new.DecisionNode at 0x3640eb4c0>,\n",
       "  <embedders.tree_new.DecisionNode at 0x3640eb670>,\n",
       "  <embedders.tree_new.DecisionNode at 0x3640eb5b0>,\n",
       "  <embedders.tree_new.DecisionNode at 0x3640eb940>,\n",
       "  <embedders.tree_new.DecisionNode at 0x3640ebca0>,\n",
       "  <embedders.tree_new.DecisionNode at 0x3640ea860>,\n",
       "  <embedders.tree_new.DecisionNode at 0x3640ebfa0>,\n",
       "  <embedders.tree_new.DecisionNode at 0x3640eaf20>],\n",
       " 'permutations': None,\n",
       " 'angle2man': [0,\n",
       "  0,\n",
       "  0,\n",
       "  0,\n",
       "  0,\n",
       "  0,\n",
       "  1,\n",
       "  1,\n",
       "  1,\n",
       "  1,\n",
       "  1,\n",
       "  1,\n",
       "  2,\n",
       "  2,\n",
       "  2,\n",
       "  2,\n",
       "  2,\n",
       "  2,\n",
       "  3,\n",
       "  3,\n",
       "  3,\n",
       "  3,\n",
       "  3,\n",
       "  3,\n",
       "  4,\n",
       "  4,\n",
       "  4,\n",
       "  4,\n",
       "  4,\n",
       "  4,\n",
       "  4,\n",
       "  4],\n",
       " 'special_first': [True,\n",
       "  True,\n",
       "  True,\n",
       "  False,\n",
       "  False,\n",
       "  False,\n",
       "  True,\n",
       "  True,\n",
       "  True,\n",
       "  False,\n",
       "  False,\n",
       "  False,\n",
       "  True,\n",
       "  True,\n",
       "  True,\n",
       "  False,\n",
       "  False,\n",
       "  False,\n",
       "  True,\n",
       "  True,\n",
       "  True,\n",
       "  False,\n",
       "  False,\n",
       "  False,\n",
       "  True,\n",
       "  True,\n",
       "  True,\n",
       "  False,\n",
       "  False,\n",
       "  False,\n",
       "  False,\n",
       "  False],\n",
       " 'angle_dims': [(0, 1),\n",
       "  (0, 2),\n",
       "  (0, 3),\n",
       "  (1, 2),\n",
       "  (1, 3),\n",
       "  (2, 3),\n",
       "  (4, 5),\n",
       "  (4, 6),\n",
       "  (4, 7),\n",
       "  (5, 6),\n",
       "  (5, 7),\n",
       "  (6, 7),\n",
       "  (8, 9),\n",
       "  (8, 10),\n",
       "  (8, 11),\n",
       "  (9, 10),\n",
       "  (9, 11),\n",
       "  (10, 11),\n",
       "  (12, 13),\n",
       "  (12, 14),\n",
       "  (12, 15),\n",
       "  (13, 14),\n",
       "  (13, 15),\n",
       "  (14, 15),\n",
       "  (None, 16),\n",
       "  (None, 17),\n",
       "  (None, 18),\n",
       "  (16, 17),\n",
       "  (16, 18),\n",
       "  (17, 18)],\n",
       " 'classes_': tensor([0, 1]),\n",
       " 'tree': <embedders.tree_new.DecisionNode at 0x3640ebb50>}"
      ]
     },
     "execution_count": 9,
     "metadata": {},
     "output_type": "execute_result"
    }
   ],
   "source": [
    "pdt.__dict__"
   ]
  },
  {
   "cell_type": "code",
   "execution_count": 12,
   "metadata": {},
   "outputs": [
    {
     "data": {
      "text/plain": [
       "{'value': None,\n",
       " 'probs': None,\n",
       " 'feature': 16,\n",
       " 'theta': 2.141489028930664,\n",
       " 'left': <embedders.tree_new.DecisionNode at 0x3640eba00>,\n",
       " 'right': <embedders.tree_new.DecisionNode at 0x3640ea860>}"
      ]
     },
     "execution_count": 12,
     "metadata": {},
     "output_type": "execute_result"
    }
   ],
   "source": [
    "pdt.nodes[0].__dict__"
   ]
  },
  {
   "cell_type": "code",
   "execution_count": 13,
   "metadata": {},
   "outputs": [
    {
     "data": {
      "text/plain": [
       "(9, 11)"
      ]
     },
     "execution_count": 13,
     "metadata": {},
     "output_type": "execute_result"
    }
   ],
   "source": [
    "pdt.angle_dims[16]"
   ]
  },
  {
   "cell_type": "code",
   "execution_count": 14,
   "metadata": {},
   "outputs": [
    {
     "data": {
      "text/plain": [
       "[(0, 1),\n",
       " (0, 2),\n",
       " (0, 3),\n",
       " (1, 2),\n",
       " (1, 3),\n",
       " (2, 3),\n",
       " (4, 5),\n",
       " (4, 6),\n",
       " (4, 7),\n",
       " (5, 6),\n",
       " (5, 7),\n",
       " (6, 7),\n",
       " (8, 9),\n",
       " (8, 10),\n",
       " (8, 11),\n",
       " (9, 10),\n",
       " (9, 11),\n",
       " (10, 11),\n",
       " (12, 13),\n",
       " (12, 14),\n",
       " (12, 15),\n",
       " (13, 14),\n",
       " (13, 15),\n",
       " (14, 15),\n",
       " (None, 16),\n",
       " (None, 17),\n",
       " (None, 18),\n",
       " (16, 17),\n",
       " (16, 18),\n",
       " (17, 18)]"
      ]
     },
     "execution_count": 14,
     "metadata": {},
     "output_type": "execute_result"
    }
   ],
   "source": [
    "pdt.angle_dims"
   ]
  },
  {
   "cell_type": "code",
   "execution_count": 19,
   "metadata": {},
   "outputs": [
    {
     "data": {
      "text/plain": [
       "torch.Size([1000, 19])"
      ]
     },
     "execution_count": 19,
     "metadata": {},
     "output_type": "execute_result"
    }
   ],
   "source": [
    "X.shape"
   ]
  },
  {
   "cell_type": "code",
   "execution_count": 34,
   "metadata": {},
   "outputs": [
    {
     "data": {
      "text/plain": [
       "(-19592.5, 147.62948608398438)"
      ]
     },
     "execution_count": 34,
     "metadata": {},
     "output_type": "execute_result"
    },
    {
     "data": {
      "image/png": "[encoded data removed]",
      "text/plain": [
       "<Figure size 640x480 with 1 Axes>"
      ]
     },
     "metadata": {},
     "output_type": "display_data"
    }
   ],
   "source": [
    "import matplotlib.pyplot as plt\n",
    "import numpy as np\n",
    "plt.scatter(X[:,9].numpy(), X[:,11].numpy(), c=y)\n",
    "\n",
    "# plot decision boundary\n",
    "theta = 2.141489028930664\n",
    "c = np.cos(theta)\n",
    "s = np.sin(theta)\n",
    "plt.plot([-s*1e10, s*1e10], [-c*1e10, c*1e10], 'r-')\n",
    "\n",
    "# put boundaries back\n",
    "plt.xlim(X[:,9].min(), X[:,9].max())\n",
    "plt.ylim(X[:,11].min(), X[:,11].max())\n"
   ]
  },
  {
   "cell_type": "code",
   "execution_count": 24,
   "metadata": {},
   "outputs": [
    {
     "data": {
      "text/plain": [
       "{0: 0,\n",
       " 1: 0,\n",
       " 2: 0,\n",
       " 3: 0,\n",
       " 4: 1,\n",
       " 5: 1,\n",
       " 6: 1,\n",
       " 7: 1,\n",
       " 8: 2,\n",
       " 9: 2,\n",
       " 10: 2,\n",
       " 11: 2,\n",
       " 12: 3,\n",
       " 13: 3,\n",
       " 14: 3,\n",
       " 15: 3,\n",
       " 16: 4,\n",
       " 17: 4,\n",
       " 18: 4}"
      ]
     },
     "execution_count": 24,
     "metadata": {},
     "output_type": "execute_result"
    }
   ],
   "source": [
    "pm.dim2man"
   ]
  },
  {
   "cell_type": "code",
   "execution_count": null,
   "metadata": {},
   "outputs": [],
   "source": []
  }
 ],
 "metadata": {
  "kernelspec": {
   "display_name": "embedders2",
   "language": "python",
   "name": "python3"
  },
  "language_info": {
   "codemirror_mode": {
    "name": "ipython",
    "version": 3
   },
   "file_extension": ".py",
   "mimetype": "text/x-python",
   "name": "python",
   "nbconvert_exporter": "python",
   "pygments_lexer": "ipython3",
   "version": "3.10.0"
  }
 },
 "nbformat": 4,
 "nbformat_minor": 2
}

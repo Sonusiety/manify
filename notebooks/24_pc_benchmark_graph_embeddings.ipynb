{
 "cells": [
  {
   "cell_type": "code",
   "execution_count": 10,
   "metadata": {},
   "outputs": [
    {
     "name": "stdout",
     "output_type": "stream",
     "text": [
      "[]\n"
     ]
    }
   ],
   "source": [
    "import numpy as np\n",
    "\n",
    "embeddings_names = [\n",
    "    \"polblogs\",\n",
    "    \"cs_phds\",\n",
    "    \"cora\",\n",
    "    \"citeseer\",\n",
    "]\n",
    "\n",
    "# Copied from notebook 2\n",
    "SIGNATURES = [\n",
    "    [(-1, 2), (-1, 2)],  # HH\n",
    "    [(-1, 2), (0, 2)],  # HE\n",
    "    [(-1, 2), (1, 2)],  # HS\n",
    "    [(1, 2), (1, 2)],  # SS\n",
    "    [(1, 2), (0, 2)],  # SE\n",
    "    [(-1, 4)],  # H\n",
    "    [(0, 4)],  # E\n",
    "    [(1, 4)],  # S\n",
    "]\n",
    "SIGNATURES_STR = [\"HH\", \"HE\", \"HS\", \"SS\", \"SE\", \"H\", \"E\", \"S\"]\n",
    "n_trials = 10\n",
    "\n",
    "bad = []\n",
    "for embedding in embeddings_names:\n",
    "    for signature in SIGNATURES_STR:\n",
    "        for trial in range(n_trials):\n",
    "            my_data = np.load(f\"../data/graphs/embeddings/{embedding}/{signature}_{trial}.npy\")\n",
    "            if np.isnan(my_data).any():\n",
    "                bad.append((embedding, signature, trial))\n",
    "                print(embedding, signature, trial)\n",
    "print(bad)"
   ]
  },
  {
   "cell_type": "code",
   "execution_count": 20,
   "metadata": {},
   "outputs": [
    {
     "data": {
      "application/vnd.jupyter.widget-view+json": {
       "model_id": "1c7bc8f4a28e4bef84b2c97ccd1cbfb4",
       "version_major": 2,
       "version_minor": 0
      },
      "text/plain": [
       "  0%|          | 0/320 [00:00<?, ?it/s]"
      ]
     },
     "metadata": {},
     "output_type": "display_data"
    },
    {
     "name": "stdout",
     "output_type": "stream",
     "text": [
      "Top CC has 1222 nodes; original graph has 1490 nodes.\n",
      "Top CC has 1025 nodes; original graph has 1025 nodes.\n",
      "Top CC has 2485 nodes; original graph has 2708 nodes.\n",
      "Top CC has 2110 nodes; original graph has 3264 nodes.\n"
     ]
    }
   ],
   "source": [
    "import embedders\n",
    "import pandas as pd\n",
    "from tqdm.notebook import tqdm\n",
    "\n",
    "results = []\n",
    "my_tqdm = tqdm(total=len(embeddings_names) * n_trials * len(SIGNATURES))\n",
    "for embedding in embeddings_names:\n",
    "    _, y, _ = embedders.dataloaders.load(embedding)\n",
    "    for sig, sig_str in zip(SIGNATURES, SIGNATURES_STR):\n",
    "        pm = embedders.manifolds.ProductManifold(signature=sig)\n",
    "        for trial in range(n_trials):\n",
    "            X = np.load(f\"../data/graphs/embeddings/{embedding}/{sig_str}_{trial}.npy\")\n",
    "\n",
    "            res = embedders.benchmarks.benchmark(\n",
    "                X,\n",
    "                y,\n",
    "                pm,\n",
    "                # models=[\"sklearn_dt\", \"product_dt\"],\n",
    "                max_depth=3,\n",
    "            )\n",
    "            res[\"embedding\"] = embedding\n",
    "            res[\"signature\"] = sig_str\n",
    "            res[\"trial\"] = trial\n",
    "\n",
    "            results.append(res)\n",
    "            my_tqdm.update(1)\n",
    "\n",
    "results = pd.DataFrame(results)"
   ]
  },
  {
   "cell_type": "code",
   "execution_count": 22,
   "metadata": {},
   "outputs": [],
   "source": [
    "results.to_csv(\"../data/results/graphs.tsv\", sep=\"\\t\", index=False)"
   ]
  },
  {
   "cell_type": "code",
   "execution_count": null,
   "metadata": {},
   "outputs": [],
   "source": []
  }
 ],
 "metadata": {
  "kernelspec": {
   "display_name": "embedders2",
   "language": "python",
   "name": "python3"
  },
  "language_info": {
   "codemirror_mode": {
    "name": "ipython",
    "version": 3
   },
   "file_extension": ".py",
   "mimetype": "text/x-python",
   "name": "python",
   "nbconvert_exporter": "python",
   "pygments_lexer": "ipython3",
   "version": "3.10.0"
  }
 },
 "nbformat": 4,
 "nbformat_minor": 2
}

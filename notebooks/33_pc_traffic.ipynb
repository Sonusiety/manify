{
 "cells": [
  {
   "cell_type": "code",
   "execution_count": 1,
   "metadata": {},
   "outputs": [],
   "source": [
    "%load_ext autoreload\n",
    "%autoreload 2"
   ]
  },
  {
   "cell_type": "markdown",
   "metadata": {},
   "source": [
    "# UCI dataset (abandoned)"
   ]
  },
  {
   "cell_type": "markdown",
   "metadata": {},
   "source": [
    "From the accompanying Word doc:\n",
    "\n",
    "\n",
    ">tra_X_te = test set input data, 36 locations by 48 features\n",
    ">tra_X_tr = training set input data, 36 locations by 48 features"
   ]
  },
  {
   "cell_type": "code",
   "execution_count": 5,
   "metadata": {},
   "outputs": [
    {
     "data": {
      "text/plain": [
       "dict_keys(['__header__', '__version__', '__globals__', 'tra_X_tr', 'tra_X_te', 'tra_Y_tr', 'tra_Y_te', 'tra_adj_mat'])"
      ]
     },
     "execution_count": 5,
     "metadata": {},
     "output_type": "execute_result"
    }
   ],
   "source": [
    "from scipy.io import loadmat\n",
    "\n",
    "data = loadmat(\"../data/traffic/traffic_dataset.mat\")\n",
    "data.keys()"
   ]
  },
  {
   "cell_type": "code",
   "execution_count": 16,
   "metadata": {},
   "outputs": [
    {
     "name": "stdout",
     "output_type": "stream",
     "text": [
      "1261\n",
      "(36, 48)\n"
     ]
    }
   ],
   "source": [
    "# The whole thing is just in here:\n",
    "\n",
    "print(len(data[\"tra_X_tr\"][0]))\n",
    "print(data[\"tra_X_tr\"][0][0].shape)"
   ]
  },
  {
   "cell_type": "code",
   "execution_count": 18,
   "metadata": {},
   "outputs": [
    {
     "data": {
      "text/plain": [
       "matrix([[0.09248015, 0.09668379, 0.07006072, ..., 0.        , 0.        ,\n",
       "         0.        ],\n",
       "        [0.09715086, 0.10228865, 0.08173751, ..., 0.        , 0.        ,\n",
       "         0.        ],\n",
       "        [0.11536665, 0.11069594, 0.10555815, ..., 0.        , 0.        ,\n",
       "         0.        ],\n",
       "        ...,\n",
       "        [0.06772536, 0.08173751, 0.06118636, ..., 0.        , 0.        ,\n",
       "         1.        ],\n",
       "        [0.09388136, 0.11069594, 0.08827651, ..., 0.        , 0.        ,\n",
       "         1.        ],\n",
       "        [0.08313872, 0.06679122, 0.06725829, ..., 0.        , 1.        ,\n",
       "         0.        ]])"
      ]
     },
     "execution_count": 18,
     "metadata": {},
     "output_type": "execute_result"
    }
   ],
   "source": [
    "data[\"tra_X_tr\"][0][0].todense()"
   ]
  },
  {
   "cell_type": "code",
   "execution_count": 17,
   "metadata": {},
   "outputs": [
    {
     "data": {
      "text/plain": [
       "<matplotlib.image.AxesImage at 0x131ae72e0>"
      ]
     },
     "execution_count": 17,
     "metadata": {},
     "output_type": "execute_result"
    },
    {
     "data": {
      "image/png": "[encoded data removed]",
      "text/plain": [
       "<Figure size 480x480 with 1 Axes>"
      ]
     },
     "metadata": {},
     "output_type": "display_data"
    }
   ],
   "source": [
    "import matplotlib.pyplot as plt\n",
    "\n",
    "plt.matshow(data[\"tra_adj_mat\"])"
   ]
  },
  {
   "cell_type": "code",
   "execution_count": 20,
   "metadata": {},
   "outputs": [
    {
     "data": {
      "text/plain": [
       "<matplotlib.collections.PathCollection at 0x332ca1000>"
      ]
     },
     "execution_count": 20,
     "metadata": {},
     "output_type": "execute_result"
    },
    {
     "data": {
      "image/png": "[encoded data removed]",
      "text/plain": [
       "<Figure size 640x480 with 1 Axes>"
      ]
     },
     "metadata": {},
     "output_type": "display_data"
    }
   ],
   "source": [
    "# Adjacency matrix -> nx graph -> pairwise dists -> MDS coords in R2\n",
    "\n",
    "import networkx as nx\n",
    "import numpy as np\n",
    "from sklearn.manifold import MDS\n",
    "\n",
    "G = nx.from_numpy_array(data[\"tra_adj_mat\"])\n",
    "dists = nx.floyd_warshall_numpy(G)\n",
    "dists = np.array([[dists[i][j] for j in range(len(dists))] for i in range(len(dists))])\n",
    "dists\n",
    "\n",
    "mds = MDS(n_components=2, dissimilarity=\"precomputed\")\n",
    "coords = mds.fit_transform(dists)\n",
    "coords\n",
    "\n",
    "plt.scatter(coords[:, 0], coords[:, 1])"
   ]
  },
  {
   "cell_type": "code",
   "execution_count": 72,
   "metadata": {},
   "outputs": [
    {
     "data": {
      "text/plain": [
       "matrix([[72.],\n",
       "        [72.],\n",
       "        [72.],\n",
       "        ...,\n",
       "        [36.],\n",
       "        [36.],\n",
       "        [36.]])"
      ]
     },
     "execution_count": 72,
     "metadata": {},
     "output_type": "execute_result"
    }
   ],
   "source": [
    "np.stack(\n",
    "    [x[:, 10:17].todense().flatten() for x in data[\"tra_X_tr\"][0]],\n",
    ").sum(axis=1)"
   ]
  },
  {
   "cell_type": "code",
   "execution_count": 52,
   "metadata": {},
   "outputs": [
    {
     "name": "stdout",
     "output_type": "stream",
     "text": [
      "(48,)\n",
      "[1. 0. 0. 0. 0. 1. 0.]\n"
     ]
    },
    {
     "ename": "AssertionError",
     "evalue": "",
     "output_type": "error",
     "traceback": [
      "\u001b[0;31m---------------------------------------------------------------------------\u001b[0m",
      "\u001b[0;31mAssertionError\u001b[0m                            Traceback (most recent call last)",
      "Cell \u001b[0;32mIn[52], line 30\u001b[0m\n\u001b[1;32m     26\u001b[0m             y_out\u001b[38;5;241m.\u001b[39mappend(y)\n\u001b[1;32m     28\u001b[0m     \u001b[38;5;28;01mreturn\u001b[39;00m np\u001b[38;5;241m.\u001b[39marray(X_out), np\u001b[38;5;241m.\u001b[39marray(y_out)\n\u001b[0;32m---> 30\u001b[0m X_train, y_train \u001b[38;5;241m=\u001b[39m \u001b[43mmake_dataset\u001b[49m\u001b[43m(\u001b[49m\u001b[43mdata\u001b[49m\u001b[43m[\u001b[49m\u001b[38;5;124;43m\"\u001b[39;49m\u001b[38;5;124;43mtra_X_tr\u001b[39;49m\u001b[38;5;124;43m\"\u001b[39;49m\u001b[43m]\u001b[49m\u001b[43m[\u001b[49m\u001b[38;5;241;43m0\u001b[39;49m\u001b[43m]\u001b[49m\u001b[43m,\u001b[49m\u001b[43m \u001b[49m\u001b[43mdata\u001b[49m\u001b[43m[\u001b[49m\u001b[38;5;124;43m\"\u001b[39;49m\u001b[38;5;124;43mtra_Y_tr\u001b[39;49m\u001b[38;5;124;43m\"\u001b[39;49m\u001b[43m]\u001b[49m\u001b[43m[\u001b[49m\u001b[38;5;241;43m0\u001b[39;49m\u001b[43m]\u001b[49m\u001b[43m,\u001b[49m\u001b[43m \u001b[49m\u001b[43mcoords\u001b[49m\u001b[43m)\u001b[49m\n",
      "Cell \u001b[0;32mIn[52], line 15\u001b[0m, in \u001b[0;36mmake_dataset\u001b[0;34m(X, Y, coords)\u001b[0m\n\u001b[1;32m     13\u001b[0m \u001b[38;5;28mprint\u001b[39m(row[\u001b[38;5;241m10\u001b[39m:\u001b[38;5;241m17\u001b[39m])\n\u001b[1;32m     14\u001b[0m weekday \u001b[38;5;241m=\u001b[39m np\u001b[38;5;241m.\u001b[39margmax(row[\u001b[38;5;241m10\u001b[39m:\u001b[38;5;241m17\u001b[39m])\n\u001b[0;32m---> 15\u001b[0m \u001b[38;5;28;01massert\u001b[39;00m \u001b[38;5;28msum\u001b[39m(row[\u001b[38;5;241m10\u001b[39m:\u001b[38;5;241m17\u001b[39m]) \u001b[38;5;241m==\u001b[39m \u001b[38;5;241m1\u001b[39m\n\u001b[1;32m     16\u001b[0m weekday_angle \u001b[38;5;241m=\u001b[39m weekday \u001b[38;5;241m/\u001b[39m \u001b[38;5;241m7\u001b[39m \u001b[38;5;241m*\u001b[39m \u001b[38;5;241m2\u001b[39m \u001b[38;5;241m*\u001b[39m np\u001b[38;5;241m.\u001b[39mpi\n\u001b[1;32m     17\u001b[0m embedding \u001b[38;5;241m+\u001b[39m\u001b[38;5;241m=\u001b[39m [np\u001b[38;5;241m.\u001b[39mcos(weekday_angle), np\u001b[38;5;241m.\u001b[39msin(weekday_angle)]\n",
      "\u001b[0;31mAssertionError\u001b[0m: "
     ]
    }
   ],
   "source": [
    "# Make dataset\n",
    "\n",
    "\n",
    "def make_dataset(X, Y, coords):\n",
    "    X_out, y_out = [], []\n",
    "    for x, y in zip(X, Y):\n",
    "        # x is a 36x48 sparse matrix\n",
    "        for row, coord in zip(x.todense(), coords):\n",
    "            row = np.array(row).flatten()\n",
    "            print(row.shape)\n",
    "            embedding = [coord[0], coord[1]]\n",
    "\n",
    "            # Get week day\n",
    "            print(row[10:17])\n",
    "            weekday = np.argmax(row[10:17])\n",
    "            assert sum(row[10:17]) == 1\n",
    "            weekday_angle = weekday / 7 * 2 * np.pi\n",
    "            embedding += [np.cos(weekday_angle), np.sin(weekday_angle)]\n",
    "\n",
    "            # Get hour\n",
    "            hour = np.argmax(row[17:41])\n",
    "            # assert sum(row[17:41]) == 1\n",
    "            hour_angle = hour / 24 * 2 * np.pi\n",
    "            embedding += [np.cos(hour_angle), np.sin(hour_angle)]\n",
    "\n",
    "            X_out.append(embedding)\n",
    "            y_out.append(y)\n",
    "\n",
    "    return np.array(X_out), np.array(y_out)\n",
    "\n",
    "\n",
    "X_train, y_train = make_dataset(data[\"tra_X_tr\"][0], data[\"tra_Y_tr\"][0], coords)"
   ]
  },
  {
   "cell_type": "code",
   "execution_count": 101,
   "metadata": {},
   "outputs": [
    {
     "ename": "ValueError",
     "evalue": "need at least one array to concatenate",
     "output_type": "error",
     "traceback": [
      "\u001b[0;31m---------------------------------------------------------------------------\u001b[0m",
      "\u001b[0;31mValueError\u001b[0m                                Traceback (most recent call last)",
      "Cell \u001b[0;32mIn[101], line 22\u001b[0m\n\u001b[1;32m     19\u001b[0m         bad\u001b[38;5;241m.\u001b[39mappend(i)\n\u001b[1;32m     21\u001b[0m \u001b[38;5;66;03m# Convert the lists to numpy arrays\u001b[39;00m\n\u001b[0;32m---> 22\u001b[0m weekdays_array \u001b[38;5;241m=\u001b[39m \u001b[43mnp\u001b[49m\u001b[38;5;241;43m.\u001b[39;49m\u001b[43mvstack\u001b[49m\u001b[43m(\u001b[49m\u001b[43mweekdays\u001b[49m\u001b[43m)\u001b[49m\n\u001b[1;32m     23\u001b[0m hours_array \u001b[38;5;241m=\u001b[39m np\u001b[38;5;241m.\u001b[39mvstack(hours)\n\u001b[1;32m     25\u001b[0m \u001b[38;5;66;03m# We can now construct the (1261 x 2) matrix\u001b[39;00m\n",
      "File \u001b[0;32m~/miniforge3/envs/embedders2/lib/python3.10/site-packages/numpy/core/shape_base.py:289\u001b[0m, in \u001b[0;36mvstack\u001b[0;34m(tup, dtype, casting)\u001b[0m\n\u001b[1;32m    287\u001b[0m \u001b[38;5;28;01mif\u001b[39;00m \u001b[38;5;129;01mnot\u001b[39;00m \u001b[38;5;28misinstance\u001b[39m(arrs, \u001b[38;5;28mlist\u001b[39m):\n\u001b[1;32m    288\u001b[0m     arrs \u001b[38;5;241m=\u001b[39m [arrs]\n\u001b[0;32m--> 289\u001b[0m \u001b[38;5;28;01mreturn\u001b[39;00m \u001b[43m_nx\u001b[49m\u001b[38;5;241;43m.\u001b[39;49m\u001b[43mconcatenate\u001b[49m\u001b[43m(\u001b[49m\u001b[43marrs\u001b[49m\u001b[43m,\u001b[49m\u001b[43m \u001b[49m\u001b[38;5;241;43m0\u001b[39;49m\u001b[43m,\u001b[49m\u001b[43m \u001b[49m\u001b[43mdtype\u001b[49m\u001b[38;5;241;43m=\u001b[39;49m\u001b[43mdtype\u001b[49m\u001b[43m,\u001b[49m\u001b[43m \u001b[49m\u001b[43mcasting\u001b[49m\u001b[38;5;241;43m=\u001b[39;49m\u001b[43mcasting\u001b[49m\u001b[43m)\u001b[49m\n",
      "\u001b[0;31mValueError\u001b[0m: need at least one array to concatenate"
     ]
    }
   ],
   "source": [
    "# First, let's extract the weekday and hour features from the first example to infer their structure.\n",
    "sample_matrix = data[\"tra_X_tr\"][0][0]  # Taking the first sparse matrix\n",
    "weekday_features = sample_matrix[:, 10:17].toarray()  # Assuming weekdays are stored after the historical traffic volume\n",
    "hour_features = sample_matrix[:, 17:41].toarray()  # Assuming hours are stored right after weekdays\n",
    "\n",
    "# Now, we can go through all matrices and extract these two sets of features\n",
    "weekdays = []\n",
    "hours = []\n",
    "\n",
    "bad = []\n",
    "for i in range(data[\"tra_X_tr\"].shape[1]):\n",
    "    current_matrix = data[\"tra_X_tr\"][0][i]\n",
    "    weekday = current_matrix[:, 10:17].toarray()\n",
    "    hour = current_matrix[:, 17:41].toarray()\n",
    "    if (weekday.sum(axis=1) == 1).all() and (hour.sum(axis=1) == 1).all(): \n",
    "        weekdays.append(weekday)  \n",
    "        hours.append(hour)\n",
    "    else:\n",
    "        bad.append(i)\n",
    "\n",
    "# Convert the lists to numpy arrays\n",
    "weekdays_array = np.vstack(weekdays)\n",
    "hours_array = np.vstack(hours)\n",
    "\n",
    "# We can now construct the (1261 x 2) matrix\n",
    "day_hour_indices = np.column_stack((weekdays_array.argmax(axis=1), hours_array.argmax(axis=1)))\n",
    "day_hour_indices"
   ]
  },
  {
   "cell_type": "code",
   "execution_count": 99,
   "metadata": {},
   "outputs": [
    {
     "data": {
      "text/plain": [
       "<matplotlib.image.AxesImage at 0x336d089a0>"
      ]
     },
     "execution_count": 99,
     "metadata": {},
     "output_type": "execute_result"
    },
    {
     "data": {
      "image/png": "[encoded data removed]",
      "text/plain": [
       "<Figure size 640x480 with 1 Axes>"
      ]
     },
     "metadata": {},
     "output_type": "display_data"
    }
   ],
   "source": [
    "plt.matshow( data[\"tra_X_tr\"][0][1000].todense())"
   ]
  },
  {
   "cell_type": "markdown",
   "metadata": {},
   "source": [
    "# Kaggle dataset"
   ]
  },
  {
   "cell_type": "code",
   "execution_count": 103,
   "metadata": {},
   "outputs": [
    {
     "data": {
      "text/html": [
       "<div>\n",
       "<style scoped>\n",
       "    .dataframe tbody tr th:only-of-type {\n",
       "        vertical-align: middle;\n",
       "    }\n",
       "\n",
       "    .dataframe tbody tr th {\n",
       "        vertical-align: top;\n",
       "    }\n",
       "\n",
       "    .dataframe thead th {\n",
       "        text-align: right;\n",
       "    }\n",
       "</style>\n",
       "<table border=\"1\" class=\"dataframe\">\n",
       "  <thead>\n",
       "    <tr style=\"text-align: right;\">\n",
       "      <th></th>\n",
       "      <th>DateTime</th>\n",
       "      <th>Junction</th>\n",
       "      <th>Vehicles</th>\n",
       "      <th>ID</th>\n",
       "    </tr>\n",
       "  </thead>\n",
       "  <tbody>\n",
       "    <tr>\n",
       "      <th>0</th>\n",
       "      <td>2015-11-01 00:00:00</td>\n",
       "      <td>1</td>\n",
       "      <td>15</td>\n",
       "      <td>20151101001</td>\n",
       "    </tr>\n",
       "    <tr>\n",
       "      <th>1</th>\n",
       "      <td>2015-11-01 01:00:00</td>\n",
       "      <td>1</td>\n",
       "      <td>13</td>\n",
       "      <td>20151101011</td>\n",
       "    </tr>\n",
       "    <tr>\n",
       "      <th>2</th>\n",
       "      <td>2015-11-01 02:00:00</td>\n",
       "      <td>1</td>\n",
       "      <td>10</td>\n",
       "      <td>20151101021</td>\n",
       "    </tr>\n",
       "    <tr>\n",
       "      <th>3</th>\n",
       "      <td>2015-11-01 03:00:00</td>\n",
       "      <td>1</td>\n",
       "      <td>7</td>\n",
       "      <td>20151101031</td>\n",
       "    </tr>\n",
       "    <tr>\n",
       "      <th>4</th>\n",
       "      <td>2015-11-01 04:00:00</td>\n",
       "      <td>1</td>\n",
       "      <td>9</td>\n",
       "      <td>20151101041</td>\n",
       "    </tr>\n",
       "    <tr>\n",
       "      <th>...</th>\n",
       "      <td>...</td>\n",
       "      <td>...</td>\n",
       "      <td>...</td>\n",
       "      <td>...</td>\n",
       "    </tr>\n",
       "    <tr>\n",
       "      <th>48115</th>\n",
       "      <td>2017-06-30 19:00:00</td>\n",
       "      <td>4</td>\n",
       "      <td>11</td>\n",
       "      <td>20170630194</td>\n",
       "    </tr>\n",
       "    <tr>\n",
       "      <th>48116</th>\n",
       "      <td>2017-06-30 20:00:00</td>\n",
       "      <td>4</td>\n",
       "      <td>30</td>\n",
       "      <td>20170630204</td>\n",
       "    </tr>\n",
       "    <tr>\n",
       "      <th>48117</th>\n",
       "      <td>2017-06-30 21:00:00</td>\n",
       "      <td>4</td>\n",
       "      <td>16</td>\n",
       "      <td>20170630214</td>\n",
       "    </tr>\n",
       "    <tr>\n",
       "      <th>48118</th>\n",
       "      <td>2017-06-30 22:00:00</td>\n",
       "      <td>4</td>\n",
       "      <td>22</td>\n",
       "      <td>20170630224</td>\n",
       "    </tr>\n",
       "    <tr>\n",
       "      <th>48119</th>\n",
       "      <td>2017-06-30 23:00:00</td>\n",
       "      <td>4</td>\n",
       "      <td>12</td>\n",
       "      <td>20170630234</td>\n",
       "    </tr>\n",
       "  </tbody>\n",
       "</table>\n",
       "<p>48120 rows × 4 columns</p>\n",
       "</div>"
      ],
      "text/plain": [
       "                  DateTime  Junction  Vehicles           ID\n",
       "0      2015-11-01 00:00:00         1        15  20151101001\n",
       "1      2015-11-01 01:00:00         1        13  20151101011\n",
       "2      2015-11-01 02:00:00         1        10  20151101021\n",
       "3      2015-11-01 03:00:00         1         7  20151101031\n",
       "4      2015-11-01 04:00:00         1         9  20151101041\n",
       "...                    ...       ...       ...          ...\n",
       "48115  2017-06-30 19:00:00         4        11  20170630194\n",
       "48116  2017-06-30 20:00:00         4        30  20170630204\n",
       "48117  2017-06-30 21:00:00         4        16  20170630214\n",
       "48118  2017-06-30 22:00:00         4        22  20170630224\n",
       "48119  2017-06-30 23:00:00         4        12  20170630234\n",
       "\n",
       "[48120 rows x 4 columns]"
      ]
     },
     "execution_count": 103,
     "metadata": {},
     "output_type": "execute_result"
    }
   ],
   "source": [
    "import pandas as pd\n",
    "\n",
    "data = \"../data/traffic/traffic.csv\"\n",
    "df = pd.read_csv(data)\n",
    "df"
   ]
  },
  {
   "cell_type": "code",
   "execution_count": 105,
   "metadata": {},
   "outputs": [],
   "source": [
    "# Turn datetime into day of year, day of week, hour, and minute\n",
    "df[\"datetime\"] = pd.to_datetime(df[\"DateTime\"])\n",
    "df[\"day_of_week\"] = df[\"datetime\"].dt.dayofweek\n",
    "df[\"hour\"] = df[\"datetime\"].dt.hour\n",
    "df[\"day_of_year\"] = df[\"datetime\"].dt.dayofyear\n",
    "df[\"minute\"] = df[\"datetime\"].dt.minute"
   ]
  },
  {
   "cell_type": "code",
   "execution_count": 108,
   "metadata": {},
   "outputs": [
    {
     "data": {
      "text/plain": [
       "DateTime       2017-06-30 23:00:00\n",
       "Junction                         4\n",
       "Vehicles                       180\n",
       "ID                     20170630234\n",
       "datetime       2017-06-30 23:00:00\n",
       "day_of_week                      6\n",
       "hour                            23\n",
       "day_of_year                    366\n",
       "minute                           0\n",
       "dtype: object"
      ]
     },
     "execution_count": 108,
     "metadata": {},
     "output_type": "execute_result"
    }
   ],
   "source": [
    "# Maxima are helpful for understanding how to normalize the data\n",
    "\n",
    "df.max()"
   ]
  },
  {
   "cell_type": "code",
   "execution_count": 112,
   "metadata": {},
   "outputs": [
    {
     "name": "stdout",
     "output_type": "stream",
     "text": [
      "(48120, 9) (48120,)\n"
     ]
    }
   ],
   "source": [
    "angle = lambda x, n : x / n * 2 * np.pi\n",
    "\n",
    "X, y = [], []\n",
    "for i, row in df.iterrows():\n",
    "    _, jct, vehicles, _, _, day, hr, doy, minute = row\n",
    "    X.append([\n",
    "        jct,\n",
    "        np.cos(angle(doy, 365)),\n",
    "        np.sin(angle(doy, 365)),\n",
    "        np.cos(angle(day, 7)),\n",
    "        np.sin(angle(day, 7)),\n",
    "        np.cos(angle(hr, 24)),\n",
    "        np.sin(angle(hr, 24)),\n",
    "        np.cos(angle(minute, 60)),\n",
    "        np.sin(angle(minute, 60)),\n",
    "    ])\n",
    "    y.append(vehicles)\n",
    "\n",
    "X = np.array(X)\n",
    "y = np.array(y)\n",
    "\n",
    "print(X.shape, y.shape)"
   ]
  },
  {
   "cell_type": "code",
   "execution_count": 126,
   "metadata": {},
   "outputs": [
    {
     "data": {
      "text/html": [
       "<div>\n",
       "<style scoped>\n",
       "    .dataframe tbody tr th:only-of-type {\n",
       "        vertical-align: middle;\n",
       "    }\n",
       "\n",
       "    .dataframe tbody tr th {\n",
       "        vertical-align: top;\n",
       "    }\n",
       "\n",
       "    .dataframe thead th {\n",
       "        text-align: right;\n",
       "    }\n",
       "</style>\n",
       "<table border=\"1\" class=\"dataframe\">\n",
       "  <thead>\n",
       "    <tr style=\"text-align: right;\">\n",
       "      <th></th>\n",
       "      <th>sklearn_dt</th>\n",
       "      <th>sklearn_rf</th>\n",
       "      <th>product_dt</th>\n",
       "      <th>product_rf</th>\n",
       "      <th>tangent_dt</th>\n",
       "      <th>tangent_rf</th>\n",
       "      <th>knn</th>\n",
       "      <th>trial</th>\n",
       "    </tr>\n",
       "  </thead>\n",
       "  <tbody>\n",
       "    <tr>\n",
       "      <th>0</th>\n",
       "      <td>0.499881</td>\n",
       "      <td>0.471579</td>\n",
       "      <td>0.510808</td>\n",
       "      <td>0.501063</td>\n",
       "      <td>0.491782</td>\n",
       "      <td>0.487915</td>\n",
       "      <td>0.470003</td>\n",
       "      <td>0</td>\n",
       "    </tr>\n",
       "    <tr>\n",
       "      <th>1</th>\n",
       "      <td>0.540501</td>\n",
       "      <td>0.528995</td>\n",
       "      <td>0.554908</td>\n",
       "      <td>0.592320</td>\n",
       "      <td>0.555719</td>\n",
       "      <td>0.554799</td>\n",
       "      <td>0.530374</td>\n",
       "      <td>1</td>\n",
       "    </tr>\n",
       "    <tr>\n",
       "      <th>2</th>\n",
       "      <td>0.549478</td>\n",
       "      <td>0.526699</td>\n",
       "      <td>0.555476</td>\n",
       "      <td>0.548153</td>\n",
       "      <td>0.534987</td>\n",
       "      <td>0.514790</td>\n",
       "      <td>0.529992</td>\n",
       "      <td>2</td>\n",
       "    </tr>\n",
       "    <tr>\n",
       "      <th>3</th>\n",
       "      <td>0.551682</td>\n",
       "      <td>0.528056</td>\n",
       "      <td>0.577761</td>\n",
       "      <td>0.616434</td>\n",
       "      <td>0.550924</td>\n",
       "      <td>0.539020</td>\n",
       "      <td>0.496902</td>\n",
       "      <td>3</td>\n",
       "    </tr>\n",
       "    <tr>\n",
       "      <th>4</th>\n",
       "      <td>0.527916</td>\n",
       "      <td>0.509313</td>\n",
       "      <td>0.568128</td>\n",
       "      <td>0.565096</td>\n",
       "      <td>0.528305</td>\n",
       "      <td>0.518158</td>\n",
       "      <td>0.504739</td>\n",
       "      <td>4</td>\n",
       "    </tr>\n",
       "    <tr>\n",
       "      <th>...</th>\n",
       "      <td>...</td>\n",
       "      <td>...</td>\n",
       "      <td>...</td>\n",
       "      <td>...</td>\n",
       "      <td>...</td>\n",
       "      <td>...</td>\n",
       "      <td>...</td>\n",
       "      <td>...</td>\n",
       "    </tr>\n",
       "    <tr>\n",
       "      <th>95</th>\n",
       "      <td>0.525503</td>\n",
       "      <td>0.501887</td>\n",
       "      <td>0.544129</td>\n",
       "      <td>0.596911</td>\n",
       "      <td>0.531989</td>\n",
       "      <td>0.513832</td>\n",
       "      <td>0.516901</td>\n",
       "      <td>95</td>\n",
       "    </tr>\n",
       "    <tr>\n",
       "      <th>96</th>\n",
       "      <td>0.514873</td>\n",
       "      <td>0.498000</td>\n",
       "      <td>0.507997</td>\n",
       "      <td>0.608682</td>\n",
       "      <td>0.537936</td>\n",
       "      <td>0.511809</td>\n",
       "      <td>0.506575</td>\n",
       "      <td>96</td>\n",
       "    </tr>\n",
       "    <tr>\n",
       "      <th>97</th>\n",
       "      <td>0.516987</td>\n",
       "      <td>0.496662</td>\n",
       "      <td>0.504692</td>\n",
       "      <td>0.555068</td>\n",
       "      <td>0.537637</td>\n",
       "      <td>0.515582</td>\n",
       "      <td>0.475806</td>\n",
       "      <td>97</td>\n",
       "    </tr>\n",
       "    <tr>\n",
       "      <th>98</th>\n",
       "      <td>0.551450</td>\n",
       "      <td>0.547163</td>\n",
       "      <td>0.579263</td>\n",
       "      <td>0.574400</td>\n",
       "      <td>0.571732</td>\n",
       "      <td>0.557793</td>\n",
       "      <td>0.546955</td>\n",
       "      <td>98</td>\n",
       "    </tr>\n",
       "    <tr>\n",
       "      <th>99</th>\n",
       "      <td>0.480801</td>\n",
       "      <td>0.469110</td>\n",
       "      <td>0.492526</td>\n",
       "      <td>0.504762</td>\n",
       "      <td>0.503298</td>\n",
       "      <td>0.480562</td>\n",
       "      <td>0.503519</td>\n",
       "      <td>99</td>\n",
       "    </tr>\n",
       "  </tbody>\n",
       "</table>\n",
       "<p>100 rows × 8 columns</p>\n",
       "</div>"
      ],
      "text/plain": [
       "    sklearn_dt  sklearn_rf  product_dt  product_rf  tangent_dt  tangent_rf  \\\n",
       "0     0.499881    0.471579    0.510808    0.501063    0.491782    0.487915   \n",
       "1     0.540501    0.528995    0.554908    0.592320    0.555719    0.554799   \n",
       "2     0.549478    0.526699    0.555476    0.548153    0.534987    0.514790   \n",
       "3     0.551682    0.528056    0.577761    0.616434    0.550924    0.539020   \n",
       "4     0.527916    0.509313    0.568128    0.565096    0.528305    0.518158   \n",
       "..         ...         ...         ...         ...         ...         ...   \n",
       "95    0.525503    0.501887    0.544129    0.596911    0.531989    0.513832   \n",
       "96    0.514873    0.498000    0.507997    0.608682    0.537936    0.511809   \n",
       "97    0.516987    0.496662    0.504692    0.555068    0.537637    0.515582   \n",
       "98    0.551450    0.547163    0.579263    0.574400    0.571732    0.557793   \n",
       "99    0.480801    0.469110    0.492526    0.504762    0.503298    0.480562   \n",
       "\n",
       "         knn  trial  \n",
       "0   0.470003      0  \n",
       "1   0.530374      1  \n",
       "2   0.529992      2  \n",
       "3   0.496902      3  \n",
       "4   0.504739      4  \n",
       "..       ...    ...  \n",
       "95  0.516901     95  \n",
       "96  0.506575     96  \n",
       "97  0.475806     97  \n",
       "98  0.546955     98  \n",
       "99  0.503519     99  \n",
       "\n",
       "[100 rows x 8 columns]"
      ]
     },
     "execution_count": 126,
     "metadata": {},
     "output_type": "execute_result"
    }
   ],
   "source": [
    "import torch\n",
    "import embedders\n",
    "\n",
    "N_SAMPLES = 1_000\n",
    "N_TRIALS = 100\n",
    "MAX_DEPTH = 3\n",
    "N_FEATURES = \"d_choose_2\"\n",
    "\n",
    "pm = embedders.manifolds.ProductManifold(signature=[(0, 1), (1, 1), (1, 1), (1, 1), (1, 1)])\n",
    "\n",
    "results = []\n",
    "for trial in range(N_TRIALS):\n",
    "    idx = np.random.choice(len(X), N_SAMPLES, replace=False)\n",
    "    res = embedders.benchmarks.benchmark(\n",
    "        X[idx], np.log(y)[idx], task=\"regression\", seed=trial, pm=pm, score=\"rmse\", max_depth=MAX_DEPTH, n_features=N_FEATURES\n",
    "    )\n",
    "    res[\"trial\"] = trial\n",
    "    results.append(res)\n",
    "\n",
    "results = pd.DataFrame(results)\n",
    "results"
   ]
  },
  {
   "cell_type": "code",
   "execution_count": 128,
   "metadata": {},
   "outputs": [],
   "source": [
    "results.to_csv(\"../data/results/traffic_results.tsv\", index=False, sep=\"\\t\")"
   ]
  },
  {
   "cell_type": "code",
   "execution_count": 125,
   "metadata": {},
   "outputs": [
    {
     "data": {
      "image/png": "[encoded data removed]",
      "text/plain": [
       "<Figure size 640x480 with 1 Axes>"
      ]
     },
     "metadata": {},
     "output_type": "display_data"
    }
   ],
   "source": [
    "plt.hist(np.log(y))\n",
    "plt.show()"
   ]
  },
  {
   "cell_type": "code",
   "execution_count": null,
   "metadata": {},
   "outputs": [],
   "source": []
  }
 ],
 "metadata": {
  "kernelspec": {
   "display_name": "embedders2",
   "language": "python",
   "name": "python3"
  },
  "language_info": {
   "codemirror_mode": {
    "name": "ipython",
    "version": 3
   },
   "file_extension": ".py",
   "mimetype": "text/x-python",
   "name": "python",
   "nbconvert_exporter": "python",
   "pygments_lexer": "ipython3",
   "version": "3.10.0"
  }
 },
 "nbformat": 4,
 "nbformat_minor": 2
}

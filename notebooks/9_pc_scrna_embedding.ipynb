{
 "cells": [
  {
   "cell_type": "code",
   "execution_count": 1,
   "metadata": {},
   "outputs": [],
   "source": [
    "%load_ext autoreload\n",
    "%autoreload 2"
   ]
  },
  {
   "cell_type": "markdown",
   "metadata": {},
   "source": [
    "# Generate embeddings"
   ]
  },
  {
   "cell_type": "code",
   "execution_count": 2,
   "metadata": {},
   "outputs": [
    {
     "name": "stdout",
     "output_type": "stream",
     "text": [
      "Requirement already satisfied: scanpy in /system/conda/miniconda3/envs/cloudspace/lib/python3.10/site-packages (1.10.2)\n",
      "Requirement already satisfied: anndata>=0.8 in /system/conda/miniconda3/envs/cloudspace/lib/python3.10/site-packages (from scanpy) (0.10.8)\n",
      "Requirement already satisfied: h5py>=3.1 in /system/conda/miniconda3/envs/cloudspace/lib/python3.10/site-packages (from scanpy) (3.11.0)\n",
      "Requirement already satisfied: joblib in /system/conda/miniconda3/envs/cloudspace/lib/python3.10/site-packages (from scanpy) (1.4.2)\n",
      "Requirement already satisfied: legacy-api-wrap>=1.4 in /system/conda/miniconda3/envs/cloudspace/lib/python3.10/site-packages (from scanpy) (1.4)\n",
      "Requirement already satisfied: matplotlib>=3.6 in /system/conda/miniconda3/envs/cloudspace/lib/python3.10/site-packages (from scanpy) (3.8.0)\n",
      "Requirement already satisfied: natsort in /system/conda/miniconda3/envs/cloudspace/lib/python3.10/site-packages (from scanpy) (8.4.0)\n",
      "Requirement already satisfied: networkx>=2.7 in /system/conda/miniconda3/envs/cloudspace/lib/python3.10/site-packages (from scanpy) (3.3)\n",
      "Requirement already satisfied: numba>=0.56 in /system/conda/miniconda3/envs/cloudspace/lib/python3.10/site-packages (from scanpy) (0.60.0)\n",
      "Requirement already satisfied: numpy<2,>=1.23 in /system/conda/miniconda3/envs/cloudspace/lib/python3.10/site-packages (from scanpy) (1.26.4)\n",
      "Requirement already satisfied: packaging>=21.3 in /system/conda/miniconda3/envs/cloudspace/lib/python3.10/site-packages (from scanpy) (24.1)\n",
      "Requirement already satisfied: pandas>=1.5 in /system/conda/miniconda3/envs/cloudspace/lib/python3.10/site-packages (from scanpy) (2.1.4)\n",
      "Requirement already satisfied: patsy in /system/conda/miniconda3/envs/cloudspace/lib/python3.10/site-packages (from scanpy) (0.5.6)\n",
      "Requirement already satisfied: pynndescent>=0.5 in /system/conda/miniconda3/envs/cloudspace/lib/python3.10/site-packages (from scanpy) (0.5.13)\n",
      "Requirement already satisfied: scikit-learn>=0.24 in /system/conda/miniconda3/envs/cloudspace/lib/python3.10/site-packages (from scanpy) (1.4.0)\n",
      "Requirement already satisfied: scipy>=1.8 in /system/conda/miniconda3/envs/cloudspace/lib/python3.10/site-packages (from scanpy) (1.11.4)\n",
      "Requirement already satisfied: seaborn>=0.13 in /system/conda/miniconda3/envs/cloudspace/lib/python3.10/site-packages (from scanpy) (0.13.2)\n",
      "Requirement already satisfied: session-info in /system/conda/miniconda3/envs/cloudspace/lib/python3.10/site-packages (from scanpy) (1.0.0)\n",
      "Requirement already satisfied: statsmodels>=0.13 in /system/conda/miniconda3/envs/cloudspace/lib/python3.10/site-packages (from scanpy) (0.14.2)\n",
      "Requirement already satisfied: tqdm in /system/conda/miniconda3/envs/cloudspace/lib/python3.10/site-packages (from scanpy) (4.66.4)\n",
      "Requirement already satisfied: umap-learn!=0.5.0,>=0.5 in /system/conda/miniconda3/envs/cloudspace/lib/python3.10/site-packages (from scanpy) (0.5.6)\n",
      "Requirement already satisfied: array-api-compat!=1.5,>1.4 in /system/conda/miniconda3/envs/cloudspace/lib/python3.10/site-packages (from anndata>=0.8->scanpy) (1.7.1)\n",
      "Requirement already satisfied: exceptiongroup in /system/conda/miniconda3/envs/cloudspace/lib/python3.10/site-packages (from anndata>=0.8->scanpy) (1.2.1)\n",
      "Requirement already satisfied: contourpy>=1.0.1 in /system/conda/miniconda3/envs/cloudspace/lib/python3.10/site-packages (from matplotlib>=3.6->scanpy) (1.2.1)\n",
      "Requirement already satisfied: cycler>=0.10 in /system/conda/miniconda3/envs/cloudspace/lib/python3.10/site-packages (from matplotlib>=3.6->scanpy) (0.12.1)\n",
      "Requirement already satisfied: fonttools>=4.22.0 in /system/conda/miniconda3/envs/cloudspace/lib/python3.10/site-packages (from matplotlib>=3.6->scanpy) (4.53.0)\n",
      "Requirement already satisfied: kiwisolver>=1.0.1 in /system/conda/miniconda3/envs/cloudspace/lib/python3.10/site-packages (from matplotlib>=3.6->scanpy) (1.4.5)\n",
      "Requirement already satisfied: pillow>=6.2.0 in /system/conda/miniconda3/envs/cloudspace/lib/python3.10/site-packages (from matplotlib>=3.6->scanpy) (10.4.0)\n",
      "Requirement already satisfied: pyparsing>=2.3.1 in /system/conda/miniconda3/envs/cloudspace/lib/python3.10/site-packages (from matplotlib>=3.6->scanpy) (3.1.2)\n",
      "Requirement already satisfied: python-dateutil>=2.7 in /system/conda/miniconda3/envs/cloudspace/lib/python3.10/site-packages (from matplotlib>=3.6->scanpy) (2.9.0.post0)\n",
      "Requirement already satisfied: llvmlite<0.44,>=0.43.0dev0 in /system/conda/miniconda3/envs/cloudspace/lib/python3.10/site-packages (from numba>=0.56->scanpy) (0.43.0)\n",
      "Requirement already satisfied: pytz>=2020.1 in /system/conda/miniconda3/envs/cloudspace/lib/python3.10/site-packages (from pandas>=1.5->scanpy) (2024.1)\n",
      "Requirement already satisfied: tzdata>=2022.1 in /system/conda/miniconda3/envs/cloudspace/lib/python3.10/site-packages (from pandas>=1.5->scanpy) (2024.1)\n",
      "Requirement already satisfied: threadpoolctl>=2.0.0 in /system/conda/miniconda3/envs/cloudspace/lib/python3.10/site-packages (from scikit-learn>=0.24->scanpy) (3.5.0)\n",
      "Requirement already satisfied: six in /system/conda/miniconda3/envs/cloudspace/lib/python3.10/site-packages (from patsy->scanpy) (1.16.0)\n",
      "Requirement already satisfied: stdlib-list in /system/conda/miniconda3/envs/cloudspace/lib/python3.10/site-packages (from session-info->scanpy) (0.10.0)\n",
      "^C\n",
      "\u001b[31mERROR: Operation cancelled by user\u001b[0m\u001b[31m\n",
      "\u001b[0m\n",
      "\u001b[1m[\u001b[0m\u001b[34;49mnotice\u001b[0m\u001b[1;39;49m]\u001b[0m\u001b[39;49m A new release of pip is available: \u001b[0m\u001b[31;49m24.1.1\u001b[0m\u001b[39;49m -> \u001b[0m\u001b[32;49m24.2\u001b[0m\n",
      "\u001b[1m[\u001b[0m\u001b[34;49mnotice\u001b[0m\u001b[1;39;49m]\u001b[0m\u001b[39;49m To update, run: \u001b[0m\u001b[32;49mpip install --upgrade pip\u001b[0m\n"
     ]
    }
   ],
   "source": [
    "!pip install scanpy"
   ]
  },
  {
   "cell_type": "code",
   "execution_count": 3,
   "metadata": {},
   "outputs": [
    {
     "data": {
      "text/plain": [
       "AnnData object with n_obs × n_vars = 94655 × 967\n",
       "    obs: 'cell_type'\n",
       "    var: 'gene_ids'"
      ]
     },
     "execution_count": 3,
     "metadata": {},
     "output_type": "execute_result"
    }
   ],
   "source": [
    "import scanpy\n",
    "\n",
    "adata = scanpy.read_h5ad(\"/teamspace/studios/this_studio/embedders/data/blood_cell_scrna/adata.h5ad\")\n",
    "# adata = scanpy.read_h5ad(\"../data/blood_cell_scrna/adata.h5ad\")\n",
    "adata"
   ]
  },
  {
   "cell_type": "code",
   "execution_count": 7,
   "metadata": {},
   "outputs": [
    {
     "name": "stdout",
     "output_type": "stream",
     "text": [
      "Collecting scikit-learn==1.4\n",
      "  Downloading scikit_learn-1.4.0-1-cp310-cp310-manylinux_2_17_x86_64.manylinux2014_x86_64.whl.metadata (11 kB)\n",
      "Requirement already satisfied: numpy<2.0,>=1.19.5 in /system/conda/miniconda3/envs/cloudspace/lib/python3.10/site-packages (from scikit-learn==1.4) (1.26.4)\n",
      "Requirement already satisfied: scipy>=1.6.0 in /system/conda/miniconda3/envs/cloudspace/lib/python3.10/site-packages (from scikit-learn==1.4) (1.11.4)\n",
      "Requirement already satisfied: joblib>=1.2.0 in /system/conda/miniconda3/envs/cloudspace/lib/python3.10/site-packages (from scikit-learn==1.4) (1.4.2)\n",
      "Requirement already satisfied: threadpoolctl>=2.0.0 in /system/conda/miniconda3/envs/cloudspace/lib/python3.10/site-packages (from scikit-learn==1.4) (3.5.0)\n",
      "Downloading scikit_learn-1.4.0-1-cp310-cp310-manylinux_2_17_x86_64.manylinux2014_x86_64.whl (12.1 MB)\n",
      "\u001b[2K   \u001b[90m━━━━━━━━━━━━━━━━━━━━━━━━━━━━━━━━━━━━━━━━\u001b[0m \u001b[32m12.1/12.1 MB\u001b[0m \u001b[31m103.0 MB/s\u001b[0m eta \u001b[36m0:00:00\u001b[0m00:01\u001b[0m0:01\u001b[0m\n",
      "\u001b[?25hInstalling collected packages: scikit-learn\n",
      "  Attempting uninstall: scikit-learn\n",
      "    Found existing installation: scikit-learn 1.5.2\n",
      "    Uninstalling scikit-learn-1.5.2:\n",
      "      Successfully uninstalled scikit-learn-1.5.2\n",
      "Successfully installed scikit-learn-1.4.0\n",
      "\n",
      "\u001b[1m[\u001b[0m\u001b[34;49mnotice\u001b[0m\u001b[1;39;49m]\u001b[0m\u001b[39;49m A new release of pip is available: \u001b[0m\u001b[31;49m24.1.1\u001b[0m\u001b[39;49m -> \u001b[0m\u001b[32;49m24.2\u001b[0m\n",
      "\u001b[1m[\u001b[0m\u001b[34;49mnotice\u001b[0m\u001b[1;39;49m]\u001b[0m\u001b[39;49m To update, run: \u001b[0m\u001b[32;49mpip install --upgrade pip\u001b[0m\n"
     ]
    }
   ],
   "source": [
    "# Upgrade to sklearn 1.4 so we can use RMSE\n",
    "!pip install --upgrade scikit-learn==1.4"
   ]
  },
  {
   "cell_type": "code",
   "execution_count": 8,
   "metadata": {},
   "outputs": [
    {
     "name": "stdout",
     "output_type": "stream",
     "text": [
      "cuda\n"
     ]
    }
   ],
   "source": [
    "import embedders\n",
    "import torch\n",
    "\n",
    "if torch.cuda.is_available():\n",
    "    device = torch.device(\"cuda\")\n",
    "elif torch.backends.mps.is_available():\n",
    "    device = torch.device(\"mps\")\n",
    "else:\n",
    "    device = torch.device(\"cpu\")\n",
    "\n",
    "print(device)"
   ]
  },
  {
   "cell_type": "markdown",
   "metadata": {},
   "source": [
    "The relevant quote from the Tabaghi paper:\n",
    "\n",
    "<blockquote>\n",
    "To embed these datasets into different product space forms, we adapted and modified the\n",
    "mixed-curvature VAEs algorithm of (Skopek et al., 2020). The original implementation of\n",
    "this algorithm does not allow the users to choose the number of layers and hidden dimensions\n",
    "of the network. So we introduce customized changes to make the approach suitable for use\n",
    "with datasets at different scales. For the Lymphoma dataset, we use two MLP layers with\n",
    "hidden dimension 200 and train the network for 500 epochs. For the blood cell landmark\n",
    "dataset, we use three MLP layers with hidden dimension 400 and train the network for 200\n",
    "epochs. Other experimental setups are the same as the ones stated in (Skopek et al., 2020).\n",
    "</blockquote>"
   ]
  },
  {
   "cell_type": "code",
   "execution_count": 9,
   "metadata": {},
   "outputs": [],
   "source": [
    "class Encoder(torch.nn.Module):\n",
    "    def __init__(self, pm):\n",
    "        super().__init__()\n",
    "        self.pm = pm\n",
    "        self.fc1 = torch.nn.Linear(967, 400)\n",
    "        self.fc2 = torch.nn.Linear(400, 400)\n",
    "        self.fc3 = torch.nn.Linear(400, 400)\n",
    "        self.fc4_z_mean = torch.nn.Linear(400, pm.dim)\n",
    "        self.fc4_z_logvar = torch.nn.Linear(400, pm.dim)\n",
    "\n",
    "    def forward(self, x):\n",
    "        # Hidden layers\n",
    "        h1 = torch.relu(self.fc1(x))\n",
    "        h2 = torch.relu(self.fc2(h1))\n",
    "        h3 = torch.relu(self.fc3(h2))\n",
    "\n",
    "        # Reparameterization\n",
    "        z_mean_tangent = self.fc4_z_mean(h3)\n",
    "        z_logvar = self.fc4_z_logvar(h3)\n",
    "        z_mean = pm.manifold.expmap(x=pm.mu0, u=z_mean_tangent @ pm.projection_matrix)\n",
    "\n",
    "        return z_mean, z_logvar\n",
    "\n",
    "\n",
    "class Decoder(torch.nn.Module):\n",
    "    def __init__(self, pm):\n",
    "        super().__init__()\n",
    "        self.pm = pm\n",
    "        self.fc1 = torch.nn.Linear(pm.ambient_dim, 400)\n",
    "        self.fc2 = torch.nn.Linear(400, 400)\n",
    "        self.fc3 = torch.nn.Linear(400, 400)\n",
    "        self.fc4 = torch.nn.Linear(400, 967)\n",
    "\n",
    "    def forward(self, z):\n",
    "        # Hidden layers\n",
    "        h1 = torch.relu(self.fc1(z))\n",
    "        h2 = torch.relu(self.fc2(h1))\n",
    "        h3 = torch.relu(self.fc3(h2))\n",
    "\n",
    "        # Output layer\n",
    "        x = torch.sigmoid(self.fc4(h3))\n",
    "\n",
    "        return x"
   ]
  },
  {
   "cell_type": "code",
   "execution_count": 10,
   "metadata": {},
   "outputs": [],
   "source": [
    "# Process X\n",
    "X = adata.X.todense()\n",
    "X /= X.sum(axis=1)\n",
    "X = torch.tensor(X).float()"
   ]
  },
  {
   "cell_type": "code",
   "execution_count": 18,
   "metadata": {},
   "outputs": [
    {
     "data": {
      "application/vnd.jupyter.widget-view+json": {
       "model_id": "e7ab1c90dc5b428693c71d9806784e40",
       "version_major": 2,
       "version_minor": 0
      },
      "text/plain": [
       "  0%|          | 0/18931000 [00:00<?, ?it/s]"
      ]
     },
     "metadata": {},
     "output_type": "display_data"
    },
    {
     "name": "stdout",
     "output_type": "stream",
     "text": [
      "Loss is NaN at iteration 53248\n"
     ]
    }
   ],
   "source": [
    "from tqdm.notebook import tqdm\n",
    "\n",
    "SIGNATURE = [(1, 2), (0, 2), (-1, 2), (-1, 2), (-1, 2)]\n",
    "BATCH_SIZE = 4_096\n",
    "# N_EPOCHS = 200\n",
    "N_EPOCHS = 20\n",
    "# LR = 1e-5\n",
    "# BETA = 0.01 # Lower penalty on KL-divergence\n",
    "BETA = 1.0\n",
    "N_SAMPLES = 64\n",
    "# CLIP_GRAD = False\n",
    "\n",
    "# Skopek hyperparamters (aka standard Adam hyperparameters)\n",
    "LR = 1e-3\n",
    "BETA1 = 0.9\n",
    "BETA2 = 0.999\n",
    "EPS = 1e-8\n",
    "CURVATURE_LR = 1e-4\n",
    "\n",
    "# Manifold stuff\n",
    "pm = embedders.manifolds.ProductManifold(SIGNATURE)\n",
    "vae = embedders.vae.ProductSpaceVAE(\n",
    "    pm=pm, encoder=Encoder(pm), decoder=Decoder(pm), beta=BETA, n_samples=N_SAMPLES, device=device\n",
    ")\n",
    "\n",
    "# Training stuff\n",
    "opt = torch.optim.Adam([\n",
    "    {vae.parameters(), lr=LR, betas=(BETA1, BETA2), eps=EPS},\n",
    "    {pm.parameters(), lr=0, betas=(BETA1, BETA2), eps=EPS}\n",
    "])\n",
    "\n",
    "# Visualization stuff\n",
    "my_tqdm = tqdm(total=N_EPOCHS * len(X))\n",
    "\n",
    "# Device stuff\n",
    "vae = vae.to(device)\n",
    "X = X.to(device)\n",
    "pm = pm.to(device)\n",
    "\n",
    "\n",
    "# Gradient checking stuff\n",
    "def grads_ok(vae):\n",
    "    out = True\n",
    "    for name, param in vae.named_parameters():\n",
    "        if param.grad is not None:\n",
    "            if torch.isnan(param.grad).any():\n",
    "                print(f\"NaN gradient in {name}\")\n",
    "                out = False\n",
    "            if torch.isinf(param.grad).any():\n",
    "                print(f\"Inf gradient in {name}\")\n",
    "                out = False\n",
    "    return out\n",
    "\n",
    "\n",
    "losses = []\n",
    "for epoch in range(N_EPOCHS):\n",
    "    if epoch == 10:\n",
    "        opt.param_groups[1][\"lr\"] = CURVATURE_LR\n",
    "    for i in range(0, len(X), BATCH_SIZE):\n",
    "        x_batch = X[i : i + BATCH_SIZE]\n",
    "\n",
    "        elbo, ll, kl = vae.elbo(x_batch)\n",
    "        loss = -elbo\n",
    "        losses.append(loss.item())\n",
    "\n",
    "        # Early stopping\n",
    "        if len(losses) > 100 and loss.item() > 1.1 * min(losses[-50:]):\n",
    "\n",
    "\n",
    "        opt.zero_grad()\n",
    "        loss.backward()\n",
    "\n",
    "        # Gradient clipping\n",
    "        if CLIP_GRAD:\n",
    "            torch.nn.utils.clip_grad_norm_(vae.parameters(), 1.0)\n",
    "        if torch.isnan(loss):\n",
    "            print(f\"Loss is NaN at iteration {i}\")\n",
    "        elif torch.isinf(loss):\n",
    "            print(f\"Loss is inf at iteration {i}\")\n",
    "        elif grads_ok(vae):\n",
    "            opt.step()\n",
    "\n",
    "        my_tqdm.update(BATCH_SIZE)\n",
    "        my_tqdm.set_description(f\"Epoch {epoch}, loss: {loss.item():.1f}, ll: {ll.item():.1f}, kl: {kl.item():.1f}\")"
   ]
  },
  {
   "cell_type": "code",
   "execution_count": 19,
   "metadata": {},
   "outputs": [],
   "source": [
    "# Generate and save embeddings\n",
    "import numpy as np\n",
    "\n",
    "embeddings = []\n",
    "for i in range(0, len(X), BATCH_SIZE):\n",
    "    x_batch = X[i : i + BATCH_SIZE]\n",
    "    z_mean, _ = vae.encoder(x_batch)\n",
    "    embeddings.append(z_mean.detach().cpu().numpy())\n",
    "\n",
    "embeddings = np.concatenate(embeddings)\n",
    "np.save(\"/teamspace/studios/this_studio/embedders/data/blood_cell_scrna/embeddings_s2_e2_h2_3.npy\", embeddings)"
   ]
  },
  {
   "cell_type": "code",
   "execution_count": 20,
   "metadata": {},
   "outputs": [
    {
     "data": {
      "image/png": "[encoded data removed]",
      "text/plain": [
       "<Figure size 2000x400 with 5 Axes>"
      ]
     },
     "metadata": {},
     "output_type": "display_data"
    }
   ],
   "source": [
    "# Let's visualize the embeddings\n",
    "\n",
    "import matplotlib.pyplot as plt\n",
    "\n",
    "fig, axs = plt.subplots(1, 5, figsize=(20, 4))\n",
    "\n",
    "for i, ax in enumerate(axs):\n",
    "    M = pm.P[i]\n",
    "    to_plot = torch.Tensor(embeddings[:, pm.man2dim[i]])\n",
    "    if M.type == \"S\":\n",
    "        to_plot = embedders.visualization.S2_to_polar(to_plot)\n",
    "    elif M.type == \"H\":\n",
    "        to_plot = embedders.visualization.hyperboloid_to_poincare(to_plot)\n",
    "    to_plot = to_plot.numpy()\n",
    "    ax.set_title(f\"Dimension {i}, {M.type}^{M.dim}\")\n",
    "    ax.scatter(to_plot[:, 0], to_plot[:, 1], s=1, c=[int(x) for x in adata.obs[\"cell_type\"]], cmap=\"tab20\")"
   ]
  },
  {
   "cell_type": "markdown",
   "metadata": {},
   "source": [
    "# Evaluate classification accuracy"
   ]
  },
  {
   "cell_type": "code",
   "execution_count": 1,
   "metadata": {},
   "outputs": [],
   "source": [
    "%load_ext autoreload\n",
    "%autoreload 2"
   ]
  },
  {
   "cell_type": "code",
   "execution_count": 2,
   "metadata": {},
   "outputs": [],
   "source": [
    "import torch\n",
    "import numpy as np\n",
    "import anndata\n",
    "\n",
    "import embedders\n",
    "\n",
    "# from hyperdt.product_space_DT import ProductSpaceDT\n",
    "# from hyperdt.forest import ProductSpaceRF\n",
    "\n",
    "# from embedders.tree import TorchProductSpaceDT as ProductSpaceDT\n",
    "# from embedders.tree import TorchProductSpaceRF as ProductSpaceRF\n",
    "from embedders.tree_new import ProductSpaceDT, ProductSpaceRF\n",
    "\n",
    "# from hyperdt.torch.forest import ProductSpaceRF\n",
    "\n",
    "from sklearn.tree import DecisionTreeClassifier\n",
    "from sklearn.ensemble import RandomForestClassifier\n",
    "\n",
    "from sklearn.model_selection import KFold, train_test_split\n",
    "from sklearn.metrics import f1_score, accuracy_score\n",
    "from sklearn.preprocessing import LabelEncoder"
   ]
  },
  {
   "cell_type": "code",
   "execution_count": 5,
   "metadata": {},
   "outputs": [
    {
     "data": {
      "text/plain": [
       "device(type='mps')"
      ]
     },
     "execution_count": 5,
     "metadata": {},
     "output_type": "execute_result"
    }
   ],
   "source": [
    "# Device\n",
    "\n",
    "# device = torch.device(\"cuda\") if torch.cuda.is_available() else torch.device(\"cpu\")\n",
    "if torch.cuda.is_available():\n",
    "    device = torch.device(\"cuda\")\n",
    "elif torch.backends.mps.is_available():\n",
    "    device = torch.device(\"mps\")\n",
    "else:\n",
    "    device = torch.device(\"cpu\")\n",
    "device"
   ]
  },
  {
   "cell_type": "code",
   "execution_count": 6,
   "metadata": {},
   "outputs": [
    {
     "data": {
      "text/plain": [
       "(torch.Size([94655, 14]), torch.Size([94655]))"
      ]
     },
     "execution_count": 6,
     "metadata": {},
     "output_type": "execute_result"
    }
   ],
   "source": [
    "# Load data\n",
    "\n",
    "X = torch.tensor(np.load(\"../data/blood_cell_scrna/embeddings_s2_e2_h2_3.npy\"), requires_grad=False)\n",
    "idx = np.random.choice(X.shape[0], 1_000, replace=False)\n",
    "# X = X[idx]  # Take it easy\n",
    "\n",
    "y = torch.tensor(\n",
    "    [int(x) for x in anndata.read_h5ad(\"../data/blood_cell_scrna/adata.h5ad\").obs[\"cell_type\"]],\n",
    "    requires_grad=False,\n",
    ")\n",
    "# y = y[idx]  # Take it easy\n",
    "\n",
    "X = X.to(device)\n",
    "y = y.to(device)\n",
    "\n",
    "X.shape, y.shape"
   ]
  },
  {
   "cell_type": "code",
   "execution_count": 7,
   "metadata": {},
   "outputs": [
    {
     "name": "stdout",
     "output_type": "stream",
     "text": [
      ".."
     ]
    },
    {
     "data": {
      "application/vnd.jupyter.widget-view+json": {
       "model_id": "fcef6b882157464f918e09d6ace0c6ba",
       "version_major": 2,
       "version_minor": 0
      },
      "text/plain": [
       "Calculating information gains:   0%|          | 0/189310 [00:00<?, ?it/s]"
      ]
     },
     "metadata": {},
     "output_type": "display_data"
    },
    {
     "data": {
      "application/vnd.jupyter.widget-view+json": {
       "model_id": "baa84e92d6b04cbe99626742570f157c",
       "version_major": 2,
       "version_minor": 0
      },
      "text/plain": [
       "Calculating information gains:   0%|          | 0/75990 [00:00<?, ?it/s]"
      ]
     },
     "metadata": {},
     "output_type": "display_data"
    },
    {
     "data": {
      "application/vnd.jupyter.widget-view+json": {
       "model_id": "7f71bb6ed549458b8881ca2c7db79880",
       "version_major": 2,
       "version_minor": 0
      },
      "text/plain": [
       "Calculating information gains:   0%|          | 0/21100 [00:00<?, ?it/s]"
      ]
     },
     "metadata": {},
     "output_type": "display_data"
    },
    {
     "data": {
      "application/vnd.jupyter.widget-view+json": {
       "model_id": "288eec64877342b8a3ab6f7258f92805",
       "version_major": 2,
       "version_minor": 0
      },
      "text/plain": [
       "Calculating information gains:   0%|          | 0/10690 [00:00<?, ?it/s]"
      ]
     },
     "metadata": {},
     "output_type": "display_data"
    },
    {
     "data": {
      "application/vnd.jupyter.widget-view+json": {
       "model_id": "dbc957a3533f4a21a2f2a6b2b18a4847",
       "version_major": 2,
       "version_minor": 0
      },
      "text/plain": [
       "Calculating information gains:   0%|          | 0/5790 [00:00<?, ?it/s]"
      ]
     },
     "metadata": {},
     "output_type": "display_data"
    },
    {
     "data": {
      "application/vnd.jupyter.widget-view+json": {
       "model_id": "2e777c91e2a546c897bffee80bfa01e5",
       "version_major": 2,
       "version_minor": 0
      },
      "text/plain": [
       "Calculating information gains:   0%|          | 0/4900 [00:00<?, ?it/s]"
      ]
     },
     "metadata": {},
     "output_type": "display_data"
    },
    {
     "data": {
      "application/vnd.jupyter.widget-view+json": {
       "model_id": "e3e7e76f422944309fdec1bda8e1eb99",
       "version_major": 2,
       "version_minor": 0
      },
      "text/plain": [
       "Calculating information gains:   0%|          | 0/10410 [00:00<?, ?it/s]"
      ]
     },
     "metadata": {},
     "output_type": "display_data"
    },
    {
     "data": {
      "application/vnd.jupyter.widget-view+json": {
       "model_id": "f96eb85d35704d1d809db502d357647a",
       "version_major": 2,
       "version_minor": 0
      },
      "text/plain": [
       "Calculating information gains:   0%|          | 0/6960 [00:00<?, ?it/s]"
      ]
     },
     "metadata": {},
     "output_type": "display_data"
    },
    {
     "data": {
      "application/vnd.jupyter.widget-view+json": {
       "model_id": "d0841b7b616c4d2fadd74834b8e649d5",
       "version_major": 2,
       "version_minor": 0
      },
      "text/plain": [
       "Calculating information gains:   0%|          | 0/3450 [00:00<?, ?it/s]"
      ]
     },
     "metadata": {},
     "output_type": "display_data"
    },
    {
     "data": {
      "application/vnd.jupyter.widget-view+json": {
       "model_id": "cd172a5a02d6493396df2a7f1ee9cedc",
       "version_major": 2,
       "version_minor": 0
      },
      "text/plain": [
       "Calculating information gains:   0%|          | 0/54890 [00:00<?, ?it/s]"
      ]
     },
     "metadata": {},
     "output_type": "display_data"
    },
    {
     "data": {
      "application/vnd.jupyter.widget-view+json": {
       "model_id": "b09ca15b0dcb4e889406ef02e4cfa8b2",
       "version_major": 2,
       "version_minor": 0
      },
      "text/plain": [
       "Calculating information gains:   0%|          | 0/34570 [00:00<?, ?it/s]"
      ]
     },
     "metadata": {},
     "output_type": "display_data"
    },
    {
     "data": {
      "application/vnd.jupyter.widget-view+json": {
       "model_id": "722b77dc082f4ddea81c6f0e08f0867e",
       "version_major": 2,
       "version_minor": 0
      },
      "text/plain": [
       "Calculating information gains:   0%|          | 0/6100 [00:00<?, ?it/s]"
      ]
     },
     "metadata": {},
     "output_type": "display_data"
    },
    {
     "data": {
      "application/vnd.jupyter.widget-view+json": {
       "model_id": "ff970341c34c403bbb9082ecf53746e5",
       "version_major": 2,
       "version_minor": 0
      },
      "text/plain": [
       "Calculating information gains:   0%|          | 0/28470 [00:00<?, ?it/s]"
      ]
     },
     "metadata": {},
     "output_type": "display_data"
    },
    {
     "data": {
      "application/vnd.jupyter.widget-view+json": {
       "model_id": "7e43f05a2a764ecb9c88cd096a193d73",
       "version_major": 2,
       "version_minor": 0
      },
      "text/plain": [
       "Calculating information gains:   0%|          | 0/20320 [00:00<?, ?it/s]"
      ]
     },
     "metadata": {},
     "output_type": "display_data"
    },
    {
     "data": {
      "application/vnd.jupyter.widget-view+json": {
       "model_id": "f33816614c3d4f138602ce0b44110c52",
       "version_major": 2,
       "version_minor": 0
      },
      "text/plain": [
       "Calculating information gains:   0%|          | 0/13600 [00:00<?, ?it/s]"
      ]
     },
     "metadata": {},
     "output_type": "display_data"
    },
    {
     "data": {
      "application/vnd.jupyter.widget-view+json": {
       "model_id": "99d943abb6084adba58ef295df841ad9",
       "version_major": 2,
       "version_minor": 0
      },
      "text/plain": [
       "Calculating information gains:   0%|          | 0/6720 [00:00<?, ?it/s]"
      ]
     },
     "metadata": {},
     "output_type": "display_data"
    },
    {
     "data": {
      "application/vnd.jupyter.widget-view+json": {
       "model_id": "65cf78aad33142fbb015929318a59ea9",
       "version_major": 2,
       "version_minor": 0
      },
      "text/plain": [
       "Calculating information gains:   0%|          | 0/113320 [00:00<?, ?it/s]"
      ]
     },
     "metadata": {},
     "output_type": "display_data"
    },
    {
     "data": {
      "application/vnd.jupyter.widget-view+json": {
       "model_id": "b821e8ee2ff74581957b6bdae673830c",
       "version_major": 2,
       "version_minor": 0
      },
      "text/plain": [
       "Calculating information gains:   0%|          | 0/76110 [00:00<?, ?it/s]"
      ]
     },
     "metadata": {},
     "output_type": "display_data"
    },
    {
     "data": {
      "application/vnd.jupyter.widget-view+json": {
       "model_id": "56a4b62719f34486b231bbedee121a06",
       "version_major": 2,
       "version_minor": 0
      },
      "text/plain": [
       "Calculating information gains:   0%|          | 0/18220 [00:00<?, ?it/s]"
      ]
     },
     "metadata": {},
     "output_type": "display_data"
    },
    {
     "data": {
      "application/vnd.jupyter.widget-view+json": {
       "model_id": "259dc53e03164eb19e6353a81f34ab3d",
       "version_major": 2,
       "version_minor": 0
      },
      "text/plain": [
       "Calculating information gains:   0%|          | 0/16030 [00:00<?, ?it/s]"
      ]
     },
     "metadata": {},
     "output_type": "display_data"
    },
    {
     "data": {
      "application/vnd.jupyter.widget-view+json": {
       "model_id": "e4935ecba51045c39e6da1f92578e27e",
       "version_major": 2,
       "version_minor": 0
      },
      "text/plain": [
       "Calculating information gains:   0%|          | 0/2190 [00:00<?, ?it/s]"
      ]
     },
     "metadata": {},
     "output_type": "display_data"
    },
    {
     "data": {
      "application/vnd.jupyter.widget-view+json": {
       "model_id": "86b7a8eec9784a90919b30de32681211",
       "version_major": 2,
       "version_minor": 0
      },
      "text/plain": [
       "Calculating information gains:   0%|          | 0/57890 [00:00<?, ?it/s]"
      ]
     },
     "metadata": {},
     "output_type": "display_data"
    },
    {
     "data": {
      "application/vnd.jupyter.widget-view+json": {
       "model_id": "2b9c89d9d4254fb1bb6173a41a5283a1",
       "version_major": 2,
       "version_minor": 0
      },
      "text/plain": [
       "Calculating information gains:   0%|          | 0/16470 [00:00<?, ?it/s]"
      ]
     },
     "metadata": {},
     "output_type": "display_data"
    },
    {
     "data": {
      "application/vnd.jupyter.widget-view+json": {
       "model_id": "fc7dafe3422147feb6d3848b02c857be",
       "version_major": 2,
       "version_minor": 0
      },
      "text/plain": [
       "Calculating information gains:   0%|          | 0/41420 [00:00<?, ?it/s]"
      ]
     },
     "metadata": {},
     "output_type": "display_data"
    },
    {
     "data": {
      "application/vnd.jupyter.widget-view+json": {
       "model_id": "834f7a3361de41ff8d1a005f18741904",
       "version_major": 2,
       "version_minor": 0
      },
      "text/plain": [
       "Calculating information gains:   0%|          | 0/37210 [00:00<?, ?it/s]"
      ]
     },
     "metadata": {},
     "output_type": "display_data"
    },
    {
     "data": {
      "application/vnd.jupyter.widget-view+json": {
       "model_id": "64b02366b5f04307afcff0555a905846",
       "version_major": 2,
       "version_minor": 0
      },
      "text/plain": [
       "Calculating information gains:   0%|          | 0/12960 [00:00<?, ?it/s]"
      ]
     },
     "metadata": {},
     "output_type": "display_data"
    },
    {
     "data": {
      "application/vnd.jupyter.widget-view+json": {
       "model_id": "561af6e5d6d24e2897b24532a5ffac5f",
       "version_major": 2,
       "version_minor": 0
      },
      "text/plain": [
       "Calculating information gains:   0%|          | 0/1080 [00:00<?, ?it/s]"
      ]
     },
     "metadata": {},
     "output_type": "display_data"
    },
    {
     "data": {
      "application/vnd.jupyter.widget-view+json": {
       "model_id": "7e32ca46a34f48309bcd2a974116b379",
       "version_major": 2,
       "version_minor": 0
      },
      "text/plain": [
       "Calculating information gains:   0%|          | 0/11880 [00:00<?, ?it/s]"
      ]
     },
     "metadata": {},
     "output_type": "display_data"
    },
    {
     "data": {
      "application/vnd.jupyter.widget-view+json": {
       "model_id": "a167c2aa55904d87958d92e98fe529a7",
       "version_major": 2,
       "version_minor": 0
      },
      "text/plain": [
       "Calculating information gains:   0%|          | 0/24250 [00:00<?, ?it/s]"
      ]
     },
     "metadata": {},
     "output_type": "display_data"
    },
    {
     "data": {
      "application/vnd.jupyter.widget-view+json": {
       "model_id": "743f1648278b4ffaa750cc05cf7e3a55",
       "version_major": 2,
       "version_minor": 0
      },
      "text/plain": [
       "Calculating information gains:   0%|          | 0/5800 [00:00<?, ?it/s]"
      ]
     },
     "metadata": {},
     "output_type": "display_data"
    },
    {
     "data": {
      "application/vnd.jupyter.widget-view+json": {
       "model_id": "628b1efe09104d7097a537bd18793a86",
       "version_major": 2,
       "version_minor": 0
      },
      "text/plain": [
       "Calculating information gains:   0%|          | 0/18450 [00:00<?, ?it/s]"
      ]
     },
     "metadata": {},
     "output_type": "display_data"
    }
   ],
   "source": [
    "SIGNATURE = [(1, 2), (0, 2), (-1, 2), (-1, 2), (-1, 2)]\n",
    "pm = embedders.manifolds.ProductManifold(SIGNATURE, device=device)\n",
    "\n",
    "# Downsample\n",
    "# DOWNSAMPLE = 100  # About 2 mins, somehow\n",
    "# DOWNSAMPLE = 100  # About 2 mins\n",
    "# DOWNSAMPLE = 2_000  # About 4 mins\n",
    "# DOWNSAMPLE = 10_000 # 4 mins on GPU\n",
    "DOWNSAMPLE = None\n",
    "MAX_DEPTH = 5\n",
    "BATCH_SIZE = 1\n",
    "\n",
    "# idx = np.random.choice(len(X), DOWNSAMPLE, replace=False)\n",
    "idx = torch.randperm(len(X))[:DOWNSAMPLE]\n",
    "X_sample = X[idx]\n",
    "y_sample = y[idx]\n",
    "\n",
    "kf = KFold(\n",
    "    n_splits=5,\n",
    "    shuffle=True,\n",
    "    random_state=42,\n",
    ")\n",
    "\n",
    "f1s_dt, f1s_pdt, f1s_rf, f1s_prf = [], [], [], []\n",
    "accs_dt, accs_pdt, accs_rf, accs_prf = [], [], [], []\n",
    "\n",
    "for train_index, test_index in kf.split(X_sample):\n",
    "    test_index, train_index = train_index, test_index  # Hack to do 20% train, 80% test\n",
    "    X_train, X_test = X_sample[train_index], X_sample[test_index]\n",
    "    y_train, y_test = y_sample[train_index], y_sample[test_index]\n",
    "\n",
    "    # X_train_np, X_test_np = X_train.detach().cpu().numpy(), X_test.detach().cpu().numpy()\n",
    "    # y_train_np, y_test_np = y_train.detach().cpu().numpy(), y_test.detach().cpu().numpy()\n",
    "\n",
    "    X_train, X_test, y_train, y_test = X_train.to(\"cpu\"), X_test.to(\"cpu\"), y_train.to(\"cpu\"), y_test.to(\"cpu\")\n",
    "\n",
    "    dt = DecisionTreeClassifier(max_depth=MAX_DEPTH)\n",
    "    dt.fit(X_train, y_train)\n",
    "    f1s_dt.append(f1_score(y_test, dt.predict(X_test), average=\"micro\"))\n",
    "    accs_dt.append(accuracy_score(y_test, dt.predict(X_test)))\n",
    "    print(\".\", end=\"\")\n",
    "\n",
    "    rf = RandomForestClassifier(max_depth=MAX_DEPTH, n_estimators=12)\n",
    "    rf.fit(X_train, y_train)\n",
    "    f1s_rf.append(f1_score(y_test, rf.predict(X_test), average=\"micro\"))\n",
    "    accs_rf.append(accuracy_score(y_test, rf.predict(X_test)))\n",
    "    print(\".\", end=\"\")\n",
    "\n",
    "    y_test_np = y_test\n",
    "    X_train, X_test, y_train, y_test = X_train.to(device), X_test.to(device), y_train.to(device), y_test.to(device)\n",
    "\n",
    "    pdt = ProductSpaceDT(max_depth=MAX_DEPTH, pm=pm, batch_size=BATCH_SIZE)\n",
    "    pdt.fit(X_train, y_train)\n",
    "    pdt_pred = pdt.predict(X_test).detach().cpu().numpy()\n",
    "    f1s_pdt.append(f1_score(y_test_np, pdt_pred, average=\"micro\"))\n",
    "    accs_pdt.append(accuracy_score(y_test_np, pdt_pred))\n",
    "    print(\".\", end=\"\")\n",
    "\n",
    "    prf = ProductSpaceRF(max_depth=MAX_DEPTH, n_estimators=12, pm=pm, batch_size=BATCH_SIZE)\n",
    "    for tree in prf.trees:\n",
    "        tree.pm = tree.pm.to(device)\n",
    "    prf.fit(X_train, y_train)\n",
    "    prf_pred = prf.predict(X_test).detach().cpu().numpy()\n",
    "    f1s_prf.append(f1_score(y_test_np, prf_pred, average=\"micro\"))\n",
    "    accs_prf.append(accuracy_score(y_test_np, prf_pred))\n",
    "\n",
    "    print(\".\", end=\"\")\n",
    "    print()\n",
    "\n",
    "print()\n",
    "print(f\"Decision Tree: {np.mean(f1s_dt):.3f}\")\n",
    "print(f\"Random Forest: {np.mean(f1s_rf):.3f}\")\n",
    "print(f\"Product Space Decision Tree: {np.mean(f1s_pdt):.3f}\")\n",
    "print(f\"Product Space Random Forest: {np.mean(f1s_prf):.3f}\")\n",
    "\n",
    "print()\n",
    "print(f\"Decision Tree: {np.mean(accs_dt):.3f}\")\n",
    "print(f\"Random Forest: {np.mean(accs_rf):.3f}\")\n",
    "print(f\"Product Space Decision Tree: {np.mean(accs_pdt):.3f}\")\n",
    "print(f\"Product Space Random Forest: {np.mean(accs_prf):.3f}\")"
   ]
  },
  {
   "cell_type": "code",
   "execution_count": null,
   "metadata": {},
   "outputs": [],
   "source": []
  }
 ],
 "metadata": {
  "kernelspec": {
   "display_name": "cloudspace",
   "language": "python",
   "name": "python3"
  },
  "language_info": {
   "codemirror_mode": {
    "name": "ipython",
    "version": 3
   },
   "file_extension": ".py",
   "mimetype": "text/x-python",
   "name": "python",
   "nbconvert_exporter": "python",
   "pygments_lexer": "ipython3",
   "version": "3.10.0"
  }
 },
 "nbformat": 4,
 "nbformat_minor": 2
}

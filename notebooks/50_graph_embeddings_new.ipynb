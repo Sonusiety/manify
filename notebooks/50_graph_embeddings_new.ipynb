{
 "cells": [
  {
   "cell_type": "code",
   "execution_count": null,
   "metadata": {},
   "outputs": [],
   "source": [
    "%load_ext autoreload\n",
    "%autoreload 2"
   ]
  },
  {
   "cell_type": "code",
   "execution_count": 4,
   "metadata": {},
   "outputs": [
    {
     "data": {
      "text/plain": [
       "dict_keys(['X_train', 'X_test', 'y_train', 'y_test', 'test_idx'])"
      ]
     },
     "execution_count": 4,
     "metadata": {},
     "output_type": "execute_result"
    }
   ],
   "source": [
    "import torch\n",
    "\n",
    "data = torch.load(\"/teamspace/studios/this_studio/embedders/data/graphs/embeddings/polblogs/H_0.h5\", map_location=\"cpu\")\n",
    "data.keys()"
   ]
  },
  {
   "cell_type": "code",
   "execution_count": 10,
   "metadata": {},
   "outputs": [
    {
     "name": "stdout",
     "output_type": "stream",
     "text": [
      "tensor(False)\n",
      "tensor(False)\n",
      "torch.Size([5352, 5])\n",
      "tensor(False)\n",
      "tensor(False)\n",
      "torch.Size([5352])\n",
      "None\n"
     ]
    }
   ],
   "source": [
    "import embedders\n",
    "\n",
    "X, y, A = embedders.dataloaders.load(\"temperature\")\n",
    "\n",
    "print(X.isinf().any())\n",
    "print(X.isnan().any())\n",
    "print(X.shape)\n",
    "\n",
    "print(y.isinf().any())\n",
    "print(y.isnan().any())\n",
    "print(y.shape)\n",
    "\n",
    "print(A)"
   ]
  },
  {
   "cell_type": "code",
   "execution_count": 13,
   "metadata": {},
   "outputs": [
    {
     "name": "stdout",
     "output_type": "stream",
     "text": [
      "tensor(False)\n",
      "tensor(False)\n"
     ]
    }
   ],
   "source": [
    "pm = embedders.manifolds.ProductManifold(signature=[(1, 2), (1, 1)])\n",
    "_, X_stereo = pm.stereographic(X)\n",
    "print(X_stereo.isinf().any())\n",
    "print(X_stereo.isnan().any())"
   ]
  },
  {
   "cell_type": "code",
   "execution_count": null,
   "metadata": {},
   "outputs": [],
   "source": []
  }
 ],
 "metadata": {
  "kernelspec": {
   "display_name": "embedders",
   "language": "python",
   "name": "python3"
  },
  "language_info": {
   "codemirror_mode": {
    "name": "ipython",
    "version": 3
   },
   "file_extension": ".py",
   "mimetype": "text/x-python",
   "name": "python",
   "nbconvert_exporter": "python",
   "pygments_lexer": "ipython3",
   "version": "3.9.0"
  }
 },
 "nbformat": 4,
 "nbformat_minor": 2
}

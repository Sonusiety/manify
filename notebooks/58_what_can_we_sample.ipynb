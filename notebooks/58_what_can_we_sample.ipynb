{
 "cells": [
  {
   "cell_type": "code",
   "execution_count": 2,
   "metadata": {},
   "outputs": [],
   "source": [
    "import manify\n",
    "import torch\n",
    "\n",
    "for dim in [2, 4, 8, 16, 32, 64, 128]:\n",
    "    pm1 = manify.manifolds.ProductManifold(signature=[(-1, dim)])\n",
    "    pm2 = manify.manifolds.ProductManifold(signature=[(1, dim)])\n",
    "\n",
    "    X1, _ = pm1.gaussian_mixture(cov_scale_means = 1 / dim, cov_scale_points= 1 / dim)\n",
    "    X2, _ = pm2.gaussian_mixture(cov_scale_means = 1 / dim, cov_scale_points= 1 / dim)\n",
    "\n",
    "    if torch.isnan(X1).any() or torch.isinf(X1).any():\n",
    "        print(f\"{dim}: X1 contains NaN or Inf values.\")\n",
    "    \n",
    "    if torch.isnan(X2).any() or torch.isinf(X2).any():\n",
    "        print(f\"{dim}: X2 contains NaN or Inf values.\")"
   ]
  },
  {
   "cell_type": "code",
   "execution_count": null,
   "metadata": {},
   "outputs": [],
   "source": []
  }
 ],
 "metadata": {
  "kernelspec": {
   "display_name": "embedders",
   "language": "python",
   "name": "python3"
  },
  "language_info": {
   "codemirror_mode": {
    "name": "ipython",
    "version": 3
   },
   "file_extension": ".py",
   "mimetype": "text/x-python",
   "name": "python",
   "nbconvert_exporter": "python",
   "pygments_lexer": "ipython3",
   "version": "3.9.0"
  }
 },
 "nbformat": 4,
 "nbformat_minor": 2
}

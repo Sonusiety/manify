{
 "cells": [
  {
   "cell_type": "code",
   "execution_count": 1,
   "metadata": {},
   "outputs": [],
   "source": [
    "import embedders\n",
    "import torch"
   ]
  },
  {
   "cell_type": "code",
   "execution_count": 2,
   "metadata": {},
   "outputs": [
    {
     "name": "stdout",
     "output_type": "stream",
     "text": [
      "torch.Size([1000, 8])\n",
      "torch.Size([1000, 3])\n"
     ]
    },
    {
     "name": "stderr",
     "output_type": "stream",
     "text": [
      "/Users/phil/miniforge3/envs/embedders2/lib/python3.10/site-packages/torch/distributions/wishart.py:271: UserWarning: Singular sample detected.\n",
      "  warnings.warn(\"Singular sample detected.\")\n"
     ]
    }
   ],
   "source": [
    "SIGS = [\n",
    "    [(1, 2)],\n",
    "    [(0, 2)],\n",
    "    [(-1, 2)]\n",
    "]\n",
    "\n",
    "embeddings = []\n",
    "labels = []\n",
    "\n",
    "for i, sig in enumerate(SIGS):\n",
    "    pm = embedders.manifolds.ProductManifold(sig)\n",
    "    X, y = embedders.gaussian_mixture.gaussian_mixture(pm=pm, seed=i)\n",
    "    embeddings.append(X)\n",
    "    labels.append(y.unsqueeze(1))\n",
    "\n",
    "X = torch.hstack(embeddings)\n",
    "y = torch.hstack(labels)\n",
    "\n",
    "print(X.shape)\n",
    "print(y.shape)"
   ]
  },
  {
   "cell_type": "code",
   "execution_count": 9,
   "metadata": {},
   "outputs": [
    {
     "name": "stdout",
     "output_type": "stream",
     "text": [
      "tensor([[ 1.0000e+00, -4.7419e-02,  2.7763e-02],\n",
      "        [-4.7419e-02,  1.0000e+00, -9.2908e-04],\n",
      "        [ 2.7763e-02, -9.2908e-04,  1.0000e+00]])\n"
     ]
    }
   ],
   "source": [
    "# Get correlation over dim 1 of y\n",
    "\n",
    "correlation = torch.corrcoef(y.T)\n",
    "print(correlation)"
   ]
  },
  {
   "cell_type": "code",
   "execution_count": 73,
   "metadata": {},
   "outputs": [
    {
     "name": "stdout",
     "output_type": "stream",
     "text": [
      "Accuracy for 0: 0.925\n",
      "Accuracy for 1: 0.675\n",
      "Accuracy for 2: 0.890\n"
     ]
    }
   ],
   "source": [
    "# Try classification using each set of labels as a target\n",
    "from sklearn.model_selection import train_test_split\n",
    "\n",
    "X_train, X_test, y_train, y_test = train_test_split(X, y, test_size=0.2)\n",
    "pm = embedders.manifolds.ProductManifold(signature=[sig for sublist in SIGS for sig in sublist])\n",
    "trees = []\n",
    "for i in range(len(SIGS)):\n",
    "    pdt = embedders.tree_new.ProductSpaceDT(pm=pm, max_depth=3)\n",
    "\n",
    "    pdt.fit(X_train, y_train[:, i])\n",
    "\n",
    "    print(f\"Accuracy for {i}: {pdt.score(X_test, y_test[:, i]).float().mean():.3f}\")\n",
    "    trees.append(pdt)\n"
   ]
  },
  {
   "cell_type": "code",
   "execution_count": 75,
   "metadata": {},
   "outputs": [
    {
     "name": "stdout",
     "output_type": "stream",
     "text": [
      "1.0 correct\n",
      "0.8333333333333334 correct\n",
      "0.8571428571428571 correct\n"
     ]
    }
   ],
   "source": [
    "feats = []\n",
    "for tree in trees:\n",
    "    feats.append([x.feature for x in tree.nodes if x.feature])\n",
    "\n",
    "# Which ones fall in the right dim:\n",
    "for feat_set, allowed in zip(feats, [[0, 1], [2, 3], [4, 5]]):\n",
    "    total = len(feat_set)\n",
    "    correct = sum([f in allowed for f in feat_set])\n",
    "    print(f\"{correct/total} correct\")"
   ]
  },
  {
   "cell_type": "code",
   "execution_count": 15,
   "metadata": {},
   "outputs": [
    {
     "name": "stdout",
     "output_type": "stream",
     "text": [
      "Accuracy for 0: 0.995\n",
      "Accuracy for 1: 0.680\n",
      "Accuracy for 2: 0.940\n"
     ]
    }
   ],
   "source": [
    "# Try classification using each set of labels as a target\n",
    "from sklearn.model_selection import train_test_split\n",
    "from sklearn.tree import DecisionTreeClassifier\n",
    "\n",
    "X_train, X_test, y_train, y_test = train_test_split(X, y, test_size=0.2)\n",
    "# pm = embedders.manifolds.ProductManifold(signature=[sig for sublist in SIGS for sig in sublist])\n",
    "trees = []\n",
    "for i in range(len(SIGS)):\n",
    "    # pdt = embedders.tree_new.ProductSpaceDT(pm=pm, max_depth=3)\n",
    "    dt = DecisionTreeClassifier(max_depth=3)\n",
    "\n",
    "    # pdt.fit(X_train, y_train[:, i])\n",
    "    dt.fit(X_train, y_train[:, i])\n",
    "\n",
    "    print(f\"Accuracy for {i}: {dt.score(X_test, y_test[:, i]):.3f}\")\n",
    "    trees.append(dt)\n"
   ]
  },
  {
   "cell_type": "code",
   "execution_count": 16,
   "metadata": {},
   "outputs": [
    {
     "ename": "AttributeError",
     "evalue": "'DecisionTreeClassifier' object has no attribute 'nodes'",
     "output_type": "error",
     "traceback": [
      "\u001b[0;31m---------------------------------------------------------------------------\u001b[0m",
      "\u001b[0;31mAttributeError\u001b[0m                            Traceback (most recent call last)",
      "Cell \u001b[0;32mIn[16], line 3\u001b[0m\n\u001b[1;32m      1\u001b[0m feats \u001b[38;5;241m=\u001b[39m []\n\u001b[1;32m      2\u001b[0m \u001b[38;5;28;01mfor\u001b[39;00m tree \u001b[38;5;129;01min\u001b[39;00m trees:\n\u001b[0;32m----> 3\u001b[0m     feats\u001b[38;5;241m.\u001b[39mappend([x\u001b[38;5;241m.\u001b[39mfeature \u001b[38;5;28;01mfor\u001b[39;00m x \u001b[38;5;129;01min\u001b[39;00m \u001b[43mtree\u001b[49m\u001b[38;5;241;43m.\u001b[39;49m\u001b[43mnodes\u001b[49m \u001b[38;5;28;01mif\u001b[39;00m x\u001b[38;5;241m.\u001b[39mfeature])\n\u001b[1;32m      5\u001b[0m \u001b[38;5;66;03m# Which ones fall in the right dim:\u001b[39;00m\n\u001b[1;32m      6\u001b[0m \u001b[38;5;28;01mfor\u001b[39;00m feat_set, allowed \u001b[38;5;129;01min\u001b[39;00m \u001b[38;5;28mzip\u001b[39m(feats, [[\u001b[38;5;241m0\u001b[39m, \u001b[38;5;241m1\u001b[39m], [\u001b[38;5;241m2\u001b[39m, \u001b[38;5;241m3\u001b[39m], [\u001b[38;5;241m4\u001b[39m, \u001b[38;5;241m5\u001b[39m]]):\n",
      "\u001b[0;31mAttributeError\u001b[0m: 'DecisionTreeClassifier' object has no attribute 'nodes'"
     ]
    }
   ],
   "source": [
    "feats = []\n",
    "for tree in trees:\n",
    "    feats.append([x.feature for x in tree.nodes if x.feature])\n",
    "\n",
    "# Which ones fall in the right dim:\n",
    "for feat_set, allowed in zip(feats, [[0, 1], [2, 3], [4, 5]]):\n",
    "    total = len(feat_set)\n",
    "    correct = sum([f in allowed for f in feat_set])\n",
    "    print(f\"{correct/total} correct\")"
   ]
  },
  {
   "cell_type": "code",
   "execution_count": 27,
   "metadata": {},
   "outputs": [
    {
     "name": "stdout",
     "output_type": "stream",
     "text": [
      "1.0 correct\n",
      "0.8333333333333334 correct\n",
      "0.6666666666666666 correct\n"
     ]
    }
   ],
   "source": [
    "# Get features for each split in trained sklearn decision tree\n",
    "\n",
    "# for tree in trees:\n",
    "#     print(tree.tree_.feature)\n",
    "\n",
    "feats = []\n",
    "for tree in trees:\n",
    "    feats.append([x for x in tree.tree_.feature if x != -2])\n",
    "\n",
    "# Which ones fall in the right dim:\n",
    "for feat_set, allowed in zip(feats, [[0, 1, 2], [3, 4, 5], [6, 7]]):\n",
    "    total = len(feat_set)\n",
    "    correct = sum([f in allowed for f in feat_set])\n",
    "    print(f\"{correct/total} correct\")"
   ]
  },
  {
   "cell_type": "code",
   "execution_count": null,
   "metadata": {},
   "outputs": [],
   "source": []
  }
 ],
 "metadata": {
  "kernelspec": {
   "display_name": "embedders2",
   "language": "python",
   "name": "python3"
  },
  "language_info": {
   "codemirror_mode": {
    "name": "ipython",
    "version": 3
   },
   "file_extension": ".py",
   "mimetype": "text/x-python",
   "name": "python",
   "nbconvert_exporter": "python",
   "pygments_lexer": "ipython3",
   "version": "3.10.0"
  }
 },
 "nbformat": 4,
 "nbformat_minor": 2
}

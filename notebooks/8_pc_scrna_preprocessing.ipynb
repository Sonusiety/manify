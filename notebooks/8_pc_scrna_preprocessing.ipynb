{
 "cells": [
  {
   "cell_type": "code",
   "execution_count": 1,
   "metadata": {},
   "outputs": [],
   "source": [
    "%load_ext autoreload\n",
    "%autoreload 2"
   ]
  },
  {
   "cell_type": "code",
   "execution_count": 5,
   "metadata": {},
   "outputs": [
    {
     "name": "stdout",
     "output_type": "stream",
     "text": [
      "Collecting scanpy\n",
      "  Downloading scanpy-1.10.2-py3-none-any.whl.metadata (9.3 kB)\n",
      "Collecting anndata>=0.8 (from scanpy)\n",
      "  Downloading anndata-0.10.8-py3-none-any.whl.metadata (6.6 kB)\n",
      "Collecting h5py>=3.1 (from scanpy)\n",
      "  Downloading h5py-3.11.0-cp310-cp310-manylinux_2_17_x86_64.manylinux2014_x86_64.whl.metadata (2.5 kB)\n",
      "Requirement already satisfied: joblib in /system/conda/miniconda3/envs/cloudspace/lib/python3.10/site-packages (from scanpy) (1.4.2)\n",
      "Collecting legacy-api-wrap>=1.4 (from scanpy)\n",
      "  Downloading legacy_api_wrap-1.4-py3-none-any.whl.metadata (1.8 kB)\n",
      "Requirement already satisfied: matplotlib>=3.6 in /system/conda/miniconda3/envs/cloudspace/lib/python3.10/site-packages (from scanpy) (3.8.2)\n",
      "Collecting natsort (from scanpy)\n",
      "  Downloading natsort-8.4.0-py3-none-any.whl.metadata (21 kB)\n",
      "Requirement already satisfied: networkx>=2.7 in /system/conda/miniconda3/envs/cloudspace/lib/python3.10/site-packages (from scanpy) (3.3)\n",
      "Collecting numba>=0.56 (from scanpy)\n",
      "  Downloading numba-0.60.0-cp310-cp310-manylinux2014_x86_64.manylinux_2_17_x86_64.whl.metadata (2.7 kB)\n",
      "Requirement already satisfied: numpy<2,>=1.23 in /system/conda/miniconda3/envs/cloudspace/lib/python3.10/site-packages (from scanpy) (1.26.4)\n",
      "Requirement already satisfied: packaging>=21.3 in /system/conda/miniconda3/envs/cloudspace/lib/python3.10/site-packages (from scanpy) (24.1)\n",
      "Requirement already satisfied: pandas>=1.5 in /system/conda/miniconda3/envs/cloudspace/lib/python3.10/site-packages (from scanpy) (2.1.4)\n",
      "Collecting patsy (from scanpy)\n",
      "  Downloading patsy-0.5.6-py2.py3-none-any.whl.metadata (3.5 kB)\n",
      "Collecting pynndescent>=0.5 (from scanpy)\n",
      "  Downloading pynndescent-0.5.13-py3-none-any.whl.metadata (6.8 kB)\n",
      "Requirement already satisfied: scikit-learn>=0.24 in /system/conda/miniconda3/envs/cloudspace/lib/python3.10/site-packages (from scanpy) (1.3.2)\n",
      "Requirement already satisfied: scipy>=1.8 in /system/conda/miniconda3/envs/cloudspace/lib/python3.10/site-packages (from scanpy) (1.11.4)\n",
      "Collecting seaborn>=0.13 (from scanpy)\n",
      "  Downloading seaborn-0.13.2-py3-none-any.whl.metadata (5.4 kB)\n",
      "Collecting session-info (from scanpy)\n",
      "  Downloading session_info-1.0.0.tar.gz (24 kB)\n",
      "  Preparing metadata (setup.py) ... \u001b[?25ldone\n",
      "\u001b[?25hCollecting statsmodels>=0.13 (from scanpy)\n",
      "  Downloading statsmodels-0.14.2-cp310-cp310-manylinux_2_17_x86_64.manylinux2014_x86_64.whl.metadata (9.2 kB)\n",
      "Requirement already satisfied: tqdm in /system/conda/miniconda3/envs/cloudspace/lib/python3.10/site-packages (from scanpy) (4.66.4)\n",
      "Collecting umap-learn!=0.5.0,>=0.5 (from scanpy)\n",
      "  Downloading umap_learn-0.5.6-py3-none-any.whl.metadata (21 kB)\n",
      "Collecting array-api-compat!=1.5,>1.4 (from anndata>=0.8->scanpy)\n",
      "  Downloading array_api_compat-1.7.1-py3-none-any.whl.metadata (1.5 kB)\n",
      "Requirement already satisfied: exceptiongroup in /system/conda/miniconda3/envs/cloudspace/lib/python3.10/site-packages (from anndata>=0.8->scanpy) (1.2.1)\n",
      "Requirement already satisfied: contourpy>=1.0.1 in /system/conda/miniconda3/envs/cloudspace/lib/python3.10/site-packages (from matplotlib>=3.6->scanpy) (1.2.1)\n",
      "Requirement already satisfied: cycler>=0.10 in /system/conda/miniconda3/envs/cloudspace/lib/python3.10/site-packages (from matplotlib>=3.6->scanpy) (0.12.1)\n",
      "Requirement already satisfied: fonttools>=4.22.0 in /system/conda/miniconda3/envs/cloudspace/lib/python3.10/site-packages (from matplotlib>=3.6->scanpy) (4.53.0)\n",
      "Requirement already satisfied: kiwisolver>=1.3.1 in /system/conda/miniconda3/envs/cloudspace/lib/python3.10/site-packages (from matplotlib>=3.6->scanpy) (1.4.5)\n",
      "Requirement already satisfied: pillow>=8 in /system/conda/miniconda3/envs/cloudspace/lib/python3.10/site-packages (from matplotlib>=3.6->scanpy) (10.4.0)\n",
      "Requirement already satisfied: pyparsing>=2.3.1 in /system/conda/miniconda3/envs/cloudspace/lib/python3.10/site-packages (from matplotlib>=3.6->scanpy) (3.1.2)\n",
      "Requirement already satisfied: python-dateutil>=2.7 in /system/conda/miniconda3/envs/cloudspace/lib/python3.10/site-packages (from matplotlib>=3.6->scanpy) (2.9.0.post0)\n",
      "Collecting llvmlite<0.44,>=0.43.0dev0 (from numba>=0.56->scanpy)\n",
      "  Downloading llvmlite-0.43.0-cp310-cp310-manylinux_2_17_x86_64.manylinux2014_x86_64.whl.metadata (4.8 kB)\n",
      "Requirement already satisfied: pytz>=2020.1 in /system/conda/miniconda3/envs/cloudspace/lib/python3.10/site-packages (from pandas>=1.5->scanpy) (2024.1)\n",
      "Requirement already satisfied: tzdata>=2022.1 in /system/conda/miniconda3/envs/cloudspace/lib/python3.10/site-packages (from pandas>=1.5->scanpy) (2024.1)\n",
      "Requirement already satisfied: threadpoolctl>=2.0.0 in /system/conda/miniconda3/envs/cloudspace/lib/python3.10/site-packages (from scikit-learn>=0.24->scanpy) (3.5.0)\n",
      "Requirement already satisfied: six in /system/conda/miniconda3/envs/cloudspace/lib/python3.10/site-packages (from patsy->scanpy) (1.16.0)\n",
      "Collecting stdlib_list (from session-info->scanpy)\n",
      "  Downloading stdlib_list-0.10.0-py3-none-any.whl.metadata (3.3 kB)\n",
      "Downloading scanpy-1.10.2-py3-none-any.whl (2.1 MB)\n",
      "\u001b[2K   \u001b[90m━━━━━━━━━━━━━━━━━━━━━━━━━━━━━━━━━━━━━━━━\u001b[0m \u001b[32m2.1/2.1 MB\u001b[0m \u001b[31m67.7 MB/s\u001b[0m eta \u001b[36m0:00:00\u001b[0m\n",
      "\u001b[?25hDownloading anndata-0.10.8-py3-none-any.whl (124 kB)\n",
      "\u001b[2K   \u001b[90m━━━━━━━━━━━━━━━━━━━━━━━━━━━━━━━━━━━━━━━━\u001b[0m \u001b[32m124.4/124.4 kB\u001b[0m \u001b[31m14.7 MB/s\u001b[0m eta \u001b[36m0:00:00\u001b[0m\n",
      "\u001b[?25hDownloading h5py-3.11.0-cp310-cp310-manylinux_2_17_x86_64.manylinux2014_x86_64.whl (5.3 MB)\n",
      "\u001b[2K   \u001b[90m━━━━━━━━━━━━━━━━━━━━━━━━━━━━━━━━━━━━━━━━\u001b[0m \u001b[32m5.3/5.3 MB\u001b[0m \u001b[31m84.5 MB/s\u001b[0m eta \u001b[36m0:00:00\u001b[0mta \u001b[36m0:00:01\u001b[0m\n",
      "\u001b[?25hDownloading legacy_api_wrap-1.4-py3-none-any.whl (15 kB)\n",
      "Downloading numba-0.60.0-cp310-cp310-manylinux2014_x86_64.manylinux_2_17_x86_64.whl (3.7 MB)\n",
      "\u001b[2K   \u001b[90m━━━━━━━━━━━━━━━━━━━━━━━━━━━━━━━━━━━━━━━━\u001b[0m \u001b[32m3.7/3.7 MB\u001b[0m \u001b[31m82.2 MB/s\u001b[0m eta \u001b[36m0:00:00\u001b[0m:00:01\u001b[0m\n",
      "\u001b[?25hDownloading pynndescent-0.5.13-py3-none-any.whl (56 kB)\n",
      "\u001b[2K   \u001b[90m━━━━━━━━━━━━━━━━━━━━━━━━━━━━━━━━━━━━━━━━\u001b[0m \u001b[32m56.9/56.9 kB\u001b[0m \u001b[31m6.2 MB/s\u001b[0m eta \u001b[36m0:00:00\u001b[0m\n",
      "\u001b[?25hDownloading seaborn-0.13.2-py3-none-any.whl (294 kB)\n",
      "\u001b[2K   \u001b[90m━━━━━━━━━━━━━━━━━━━━━━━━━━━━━━━━━━━━━━━━\u001b[0m \u001b[32m294.9/294.9 kB\u001b[0m \u001b[31m15.8 MB/s\u001b[0m eta \u001b[36m0:00:00\u001b[0m\n",
      "\u001b[?25hDownloading statsmodels-0.14.2-cp310-cp310-manylinux_2_17_x86_64.manylinux2014_x86_64.whl (10.8 MB)\n",
      "\u001b[2K   \u001b[90m━━━━━━━━━━━━━━━━━━━━━━━━━━━━━━━━━━━━━━━━\u001b[0m \u001b[32m10.8/10.8 MB\u001b[0m \u001b[31m61.4 MB/s\u001b[0m eta \u001b[36m0:00:00\u001b[0m00:01\u001b[0m0:01\u001b[0mm\n",
      "\u001b[?25hDownloading patsy-0.5.6-py2.py3-none-any.whl (233 kB)\n",
      "\u001b[2K   \u001b[90m━━━━━━━━━━━━━━━━━━━━━━━━━━━━━━━━━━━━━━━━\u001b[0m \u001b[32m233.9/233.9 kB\u001b[0m \u001b[31m21.1 MB/s\u001b[0m eta \u001b[36m0:00:00\u001b[0m\n",
      "\u001b[?25hDownloading umap_learn-0.5.6-py3-none-any.whl (85 kB)\n",
      "\u001b[2K   \u001b[90m━━━━━━━━━━━━━━━━━━━━━━━━━━━━━━━━━━━━━━━━\u001b[0m \u001b[32m85.7/85.7 kB\u001b[0m \u001b[31m10.7 MB/s\u001b[0m eta \u001b[36m0:00:00\u001b[0m\n",
      "\u001b[?25hDownloading natsort-8.4.0-py3-none-any.whl (38 kB)\n",
      "Downloading array_api_compat-1.7.1-py3-none-any.whl (37 kB)\n",
      "Downloading llvmlite-0.43.0-cp310-cp310-manylinux_2_17_x86_64.manylinux2014_x86_64.whl (43.9 MB)\n",
      "\u001b[2K   \u001b[90m━━━━━━━━━━━━━━━━━━━━━━━━━━━━━━━━━━━━━━━━\u001b[0m \u001b[32m43.9/43.9 MB\u001b[0m \u001b[31m56.8 MB/s\u001b[0m eta \u001b[36m0:00:00\u001b[0m:00:01\u001b[0m00:01\u001b[0m\n",
      "\u001b[?25hDownloading stdlib_list-0.10.0-py3-none-any.whl (79 kB)\n",
      "\u001b[2K   \u001b[90m━━━━━━━━━━━━━━━━━━━━━━━━━━━━━━━━━━━━━━━━\u001b[0m \u001b[32m79.8/79.8 kB\u001b[0m \u001b[31m8.5 MB/s\u001b[0m eta \u001b[36m0:00:00\u001b[0m\n",
      "\u001b[?25hBuilding wheels for collected packages: session-info\n",
      "  Building wheel for session-info (setup.py) ... \u001b[?25ldone\n",
      "\u001b[?25h  Created wheel for session-info: filename=session_info-1.0.0-py3-none-any.whl size=8024 sha256=82b955c8fbaef21364dc0d6b45ac210c499a80bcfd13aa666e993250f0d7df54\n",
      "  Stored in directory: /home/zeus/.cache/pip/wheels/6a/aa/b9/eb5d4031476ec10802795b97ccf937b9bd998d68a9b268765a\n",
      "Successfully built session-info\n",
      "Installing collected packages: array-api-compat, stdlib_list, patsy, natsort, llvmlite, legacy-api-wrap, h5py, session-info, numba, statsmodels, seaborn, pynndescent, anndata, umap-learn, scanpy\n",
      "Successfully installed anndata-0.10.8 array-api-compat-1.7.1 h5py-3.11.0 legacy-api-wrap-1.4 llvmlite-0.43.0 natsort-8.4.0 numba-0.60.0 patsy-0.5.6 pynndescent-0.5.13 scanpy-1.10.2 seaborn-0.13.2 session-info-1.0.0 statsmodels-0.14.2 stdlib_list-0.10.0 umap-learn-0.5.6\n",
      "\n",
      "\u001b[1m[\u001b[0m\u001b[34;49mnotice\u001b[0m\u001b[1;39;49m]\u001b[0m\u001b[39;49m A new release of pip is available: \u001b[0m\u001b[31;49m24.1.1\u001b[0m\u001b[39;49m -> \u001b[0m\u001b[32;49m24.1.2\u001b[0m\n",
      "\u001b[1m[\u001b[0m\u001b[34;49mnotice\u001b[0m\u001b[1;39;49m]\u001b[0m\u001b[39;49m To update, run: \u001b[0m\u001b[32;49mpip install --upgrade pip\u001b[0m\n"
     ]
    }
   ],
   "source": [
    "# !pip install scanpy"
   ]
  },
  {
   "cell_type": "markdown",
   "metadata": {},
   "source": [
    "# Blood cell data"
   ]
  },
  {
   "cell_type": "code",
   "execution_count": 1,
   "metadata": {},
   "outputs": [],
   "source": [
    "import scanpy\n",
    "\n",
    "cell_types = [\n",
    "    \"cd8_cytotoxic_t\",\n",
    "    \"cd8_cd45ra_naive_cytotoxic_t\",\n",
    "    \"cd14_monocytes\",\n",
    "    \"cd19_b\",\n",
    "    \"cd34\",\n",
    "    \"cd4_cd25_regulatory_t\",\n",
    "    \"cd4_cd45ra_cd25_naive_t\",\n",
    "    \"cd4_cd45ro_memory_t\",\n",
    "    \"cd4_helper_t\",\n",
    "    \"cd56_natural_killer\",\n",
    "]\n",
    "\n",
    "data = {}\n",
    "for cell_type in cell_types:\n",
    "    data[cell_type] = scanpy.read_10x_mtx(f\"/teamspace/studios/this_studio/embedders/data/blood_cell_scrna/{cell_type}\")"
   ]
  },
  {
   "cell_type": "code",
   "execution_count": 2,
   "metadata": {},
   "outputs": [],
   "source": [
    "# Restrict to landmark genes\n",
    "import pandas as pd\n",
    "\n",
    "landmark_genes_table = pd.read_table(\n",
    "    \"/teamspace/studios/this_studio/embedders/data/landmark_genes/GSE92742_Broad_LINCS_gene_info_delta_landmark.txt\"\n",
    ")\n",
    "landmark_genes = landmark_genes_table[\"pr_gene_symbol\"]"
   ]
  },
  {
   "cell_type": "code",
   "execution_count": 3,
   "metadata": {},
   "outputs": [
    {
     "name": "stdout",
     "output_type": "stream",
     "text": [
      "cd8_cytotoxic_t\t967\n",
      "cd8_cd45ra_naive_cytotoxic_t\t967\n",
      "cd14_monocytes\t967\n",
      "cd19_b\t967\n",
      "cd34\t967\n",
      "cd4_cd25_regulatory_t\t967\n",
      "cd4_cd45ra_cd25_naive_t\t967\n",
      "cd4_cd45ro_memory_t\t967\n",
      "cd4_helper_t\t967\n",
      "cd56_natural_killer\t967\n"
     ]
    }
   ],
   "source": [
    "# This seems about right, based on what the Tabaghi paper claimed - we get 967, they get 965\n",
    "\n",
    "for k, v in data.items():\n",
    "    print(k, len(set(v.var.index) & set(landmark_genes)), sep=\"\\t\")"
   ]
  },
  {
   "cell_type": "code",
   "execution_count": 4,
   "metadata": {},
   "outputs": [
    {
     "name": "stderr",
     "output_type": "stream",
     "text": [
      "/tmp/ipykernel_24888/310026843.py:5: ImplicitModificationWarning: Trying to modify attribute `.obs` of view, initializing view as actual.\n",
      "  v.obs[\"cell_type\"] = k\n",
      "/tmp/ipykernel_24888/310026843.py:5: ImplicitModificationWarning: Trying to modify attribute `.obs` of view, initializing view as actual.\n",
      "  v.obs[\"cell_type\"] = k\n",
      "/tmp/ipykernel_24888/310026843.py:5: ImplicitModificationWarning: Trying to modify attribute `.obs` of view, initializing view as actual.\n",
      "  v.obs[\"cell_type\"] = k\n",
      "/tmp/ipykernel_24888/310026843.py:5: ImplicitModificationWarning: Trying to modify attribute `.obs` of view, initializing view as actual.\n",
      "  v.obs[\"cell_type\"] = k\n",
      "/tmp/ipykernel_24888/310026843.py:5: ImplicitModificationWarning: Trying to modify attribute `.obs` of view, initializing view as actual.\n",
      "  v.obs[\"cell_type\"] = k\n",
      "/tmp/ipykernel_24888/310026843.py:5: ImplicitModificationWarning: Trying to modify attribute `.obs` of view, initializing view as actual.\n",
      "  v.obs[\"cell_type\"] = k\n",
      "/tmp/ipykernel_24888/310026843.py:5: ImplicitModificationWarning: Trying to modify attribute `.obs` of view, initializing view as actual.\n",
      "  v.obs[\"cell_type\"] = k\n",
      "/tmp/ipykernel_24888/310026843.py:5: ImplicitModificationWarning: Trying to modify attribute `.obs` of view, initializing view as actual.\n",
      "  v.obs[\"cell_type\"] = k\n",
      "/tmp/ipykernel_24888/310026843.py:5: ImplicitModificationWarning: Trying to modify attribute `.obs` of view, initializing view as actual.\n",
      "  v.obs[\"cell_type\"] = k\n",
      "/tmp/ipykernel_24888/310026843.py:5: ImplicitModificationWarning: Trying to modify attribute `.obs` of view, initializing view as actual.\n",
      "  v.obs[\"cell_type\"] = k\n",
      "/tmp/ipykernel_24888/310026843.py:8: FutureWarning: Use anndata.concat instead of AnnData.concatenate, AnnData.concatenate is deprecated and will be removed in the future. See the tutorial for concat at: https://anndata.readthedocs.io/en/latest/concatenation.html\n",
      "  adata = scanpy.AnnData.concatenate(*data_filtered.values(), batch_key=\"cell_type\")\n"
     ]
    },
    {
     "data": {
      "text/plain": [
       "AnnData object with n_obs × n_vars = 94655 × 967\n",
       "    obs: 'cell_type'\n",
       "    var: 'gene_ids'"
      ]
     },
     "execution_count": 4,
     "metadata": {},
     "output_type": "execute_result"
    }
   ],
   "source": [
    "# Restrict to landmark genes and annotate cell type\n",
    "\n",
    "data_filtered = {k: v[:, v.var.index.isin(landmark_genes)] for k, v in data.items()}\n",
    "for k, v in data_filtered.items():\n",
    "    v.obs[\"cell_type\"] = k\n",
    "\n",
    "# Finally, merge\n",
    "adata = scanpy.AnnData.concatenate(*data_filtered.values(), batch_key=\"cell_type\")\n",
    "adata"
   ]
  },
  {
   "cell_type": "code",
   "execution_count": 7,
   "metadata": {},
   "outputs": [],
   "source": [
    "# Great, that's the correct shape! Let's save it and skip all of this stuff next time\n",
    "\n",
    "adata.write(\"/teamspace/studios/this_studio/embedders/data/blood_cell_scrna/adata.h5ad\")"
   ]
  },
  {
   "cell_type": "markdown",
   "metadata": {},
   "source": [
    "# Lymphoma"
   ]
  },
  {
   "cell_type": "code",
   "execution_count": 2,
   "metadata": {},
   "outputs": [],
   "source": [
    "import scanpy\n",
    "\n",
    "cell_types = [\"lymphoma_cells\", \"healthy_cells\"]\n",
    "\n",
    "data = {}\n",
    "# These are gzipped inside\n",
    "for cell_type in cell_types:\n",
    "    data[cell_type] = scanpy.read_10x_mtx(\n",
    "        f\"/teamspace/studios/this_studio/embedders/data/blood_cell_scrna/{cell_type}\", cache_compression=\"gzip\")"
   ]
  },
  {
   "cell_type": "code",
   "execution_count": 3,
   "metadata": {},
   "outputs": [
    {
     "name": "stderr",
     "output_type": "stream",
     "text": [
      "/tmp/ipykernel_24297/1072584601.py:5: FutureWarning: Use anndata.concat instead of AnnData.concatenate, AnnData.concatenate is deprecated and will be removed in the future. See the tutorial for concat at: https://anndata.readthedocs.io/en/latest/concatenation.html\n",
      "  adata = scanpy.AnnData.concatenate(*data.values(), batch_key=\"cell_type\")\n"
     ]
    },
    {
     "data": {
      "text/plain": [
       "AnnData object with n_obs × n_vars = 13410 × 1056\n",
       "    obs: 'cell_type'\n",
       "    var: 'gene_ids', 'feature_types'"
      ]
     },
     "execution_count": 3,
     "metadata": {},
     "output_type": "execute_result"
    }
   ],
   "source": [
    "for k, v in data.items():\n",
    "    v.obs[\"cell_type\"] = k\n",
    "\n",
    "# Finally, merge\n",
    "adata = scanpy.AnnData.concatenate(*data.values(), batch_key=\"cell_type\")\n",
    "adata\n",
    "\n",
    "# This is the correct number of points for the paper"
   ]
  },
  {
   "cell_type": "code",
   "execution_count": 4,
   "metadata": {},
   "outputs": [],
   "source": [
    "adata.write(\"/teamspace/studios/this_studio/embedders/data/blood_cell_scrna/adata_lymphoma.h5ad\")"
   ]
  },
  {
   "cell_type": "code",
   "execution_count": null,
   "metadata": {},
   "outputs": [],
   "source": []
  }
 ],
 "metadata": {
  "kernelspec": {
   "display_name": "Python 3",
   "language": "python",
   "name": "python3"
  },
  "language_info": {
   "codemirror_mode": {
    "name": "ipython",
    "version": 3
   },
   "file_extension": ".py",
   "mimetype": "text/x-python",
   "name": "python",
   "nbconvert_exporter": "python",
   "pygments_lexer": "ipython3",
   "version": "3.10.10"
  }
 },
 "nbformat": 4,
 "nbformat_minor": 2
}

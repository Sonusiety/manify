{
 "cells": [
  {
   "cell_type": "code",
   "execution_count": 1,
   "metadata": {},
   "outputs": [],
   "source": [
    "%load_ext autoreload\n",
    "%autoreload 2"
   ]
  },
  {
   "cell_type": "markdown",
   "metadata": {},
   "source": [
    "The vision for this notebook is to do two things:\n",
    "\n",
    "1. Figure for the poster, where you have:\n",
    "    * row 1 = 3-d visualizations of decision boundaries\n",
    "    * row 2 = 2-d projections of decision boundaries\n",
    "    * col 1 = S2\n",
    "    * col 2 = E2, lifted into R3\n",
    "    * col 3 = H2\n",
    "\n",
    "2. A plotly(?) dashboard for visualizing high-dimensional visualizations\n",
    "    * Pick any two dimensions from the same product manifold, I guess"
   ]
  },
  {
   "cell_type": "code",
   "execution_count": null,
   "metadata": {},
   "outputs": [],
   "source": []
  }
 ],
 "metadata": {
  "kernelspec": {
   "display_name": "cloudspace",
   "language": "python",
   "name": "python3"
  },
  "language_info": {
   "codemirror_mode": {
    "name": "ipython",
    "version": 3
   },
   "file_extension": ".py",
   "mimetype": "text/x-python",
   "name": "python",
   "nbconvert_exporter": "python",
   "pygments_lexer": "ipython3",
   "version": "3.10.10"
  }
 },
 "nbformat": 4,
 "nbformat_minor": 2
}

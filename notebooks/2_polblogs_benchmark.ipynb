{
 "cells": [
  {
   "cell_type": "code",
   "execution_count": 1,
   "metadata": {},
   "outputs": [],
   "source": [
    "%load_ext autoreload\n",
    "%autoreload 2"
   ]
  },
  {
   "cell_type": "code",
   "execution_count": 2,
   "metadata": {},
   "outputs": [
    {
     "name": "stdout",
     "output_type": "stream",
     "text": [
      "Using device: cuda:1\n"
     ]
    }
   ],
   "source": [
    "# Torch device management\n",
    "import torch\n",
    "\n",
    "if torch.cuda.is_available():\n",
    "    torch.cuda.set_device(1)\n",
    "    device = torch.device(\"cuda:1\")\n",
    "else:\n",
    "    device = torch.device(\"cpu\")\n",
    "\n",
    "print(f\"Using device: {device}\")"
   ]
  },
  {
   "cell_type": "code",
   "execution_count": 3,
   "metadata": {},
   "outputs": [],
   "source": [
    "import embedders"
   ]
  },
  {
   "cell_type": "markdown",
   "metadata": {},
   "source": [
    "# Proof of concept"
   ]
  },
  {
   "cell_type": "code",
   "execution_count": null,
   "metadata": {},
   "outputs": [
    {
     "name": "stdout",
     "output_type": "stream",
     "text": [
      "Top CC has 1222 nodes; original graph has 1490 nodes.\n"
     ]
    }
   ],
   "source": [
    "# Load Polblogs\n",
    "\n",
    "polblogs_dists, polblogs_labels, _ = embedders.dataloaders.load(\"polblogs\")"
   ]
  },
  {
   "cell_type": "code",
   "execution_count": null,
   "metadata": {},
   "outputs": [
    {
     "name": "stdout",
     "output_type": "stream",
     "text": [
      "H_1.0^6\n"
     ]
    },
    {
     "data": {
      "application/vnd.jupyter.widget-view+json": {
       "model_id": "9d5b19a70d42428f8cac1f7702d664ed",
       "version_major": 2,
       "version_minor": 0
      },
      "text/plain": [
       "  0%|          | 0/4000 [00:00<?, ?it/s]"
      ]
     },
     "metadata": {},
     "output_type": "display_data"
    }
   ],
   "source": [
    "# Specify signature - useful to re-initialize the manifold here\n",
    "\n",
    "torch.manual_seed(0)  # Not all seeds are stable - this one trains for 3000 iterations at lr=1e-2 (burn-in 1e-3)\n",
    "\n",
    "signature = [(-1, 6)]\n",
    "pm = embedders.manifolds.ProductManifold(signature=signature)\n",
    "print(pm.name)\n",
    "\n",
    "# Rescale distances\n",
    "dists_rescaled = polblogs_dists / polblogs_dists.max()\n",
    "\n",
    "# Get embedding\n",
    "h6_polblogs, _ = embedders.coordinate_learning.train_coords(\n",
    "    pm,\n",
    "    dists_rescaled,\n",
    "    device=device,\n",
    "    burn_in_iterations=400,\n",
    "    training_iterations=400 * 9,\n",
    "    learning_rate=1e-1,\n",
    "    burn_in_learning_rate=1e-2,\n",
    "    scale_factor_learning_rate=1e-1,\n",
    ")\n",
    "h6_polblogs = h6_polblogs."
   ]
  },
  {
   "cell_type": "code",
   "execution_count": 21,
   "metadata": {},
   "outputs": [
    {
     "data": {
      "text/plain": [
       "tensor([[ 1.0144,  0.0446,  0.1182,  ..., -0.0633, -0.0556,  0.0725],\n",
       "        [ 1.0227,  0.0387,  0.1182,  ...,  0.0743, -0.1563,  0.0216],\n",
       "        [ 1.0235, -0.0195, -0.0243,  ..., -0.1553, -0.0401, -0.0960],\n",
       "        ...,\n",
       "        [ 1.0563, -0.0174, -0.1110,  ..., -0.1973,  0.2138,  0.1271],\n",
       "        [ 1.0156, -0.0283, -0.0838,  ..., -0.1010,  0.0968,  0.0639],\n",
       "        [ 1.0652, -0.1062,  0.1081,  ..., -0.2316,  0.2361,  0.0216]],\n",
       "       device='cuda:1')"
      ]
     },
     "execution_count": 21,
     "metadata": {},
     "output_type": "execute_result"
    }
   ],
   "source": [
    "# convert parameter back to tensor\n",
    "h6_polblogs = h6_polblogs.detach()\n",
    "h6_polblogs"
   ]
  },
  {
   "cell_type": "code",
   "execution_count": 28,
   "metadata": {},
   "outputs": [
    {
     "name": "stdout",
     "output_type": "stream",
     "text": [
      "ProductDT\t89.96\n",
      "DT\t89.96\n"
     ]
    }
   ],
   "source": [
    "# Compare productDT and sklearn on this dataset\n",
    "# from sklearn.model_selection import KFold\n",
    "from sklearn.model_selection import train_test_split\n",
    "from sklearn.metrics import f1_score\n",
    "\n",
    "# from hyperdt.tree import HyperbolicDecisionTreeClassifier\n",
    "from embedders.predictors.tree_new import ProductSpaceDT\n",
    "from sklearn.tree import DecisionTreeClassifier\n",
    "\n",
    "X_train, X_test, y_train, y_test = train_test_split(h6_polblogs, polblogs_labels.cuda(), test_size=0.2, random_state=0)\n",
    "\n",
    "pdt = ProductSpaceDT(pm=pm, max_depth=3, use_special_dims=True)\n",
    "pdt.fit(X_train, y_train)\n",
    "pdt_f1 = f1_score(y_test.cpu(), pdt.predict(X_test).cpu())\n",
    "print(f\"ProductDT\\t{pdt_f1*100:.2f}\")\n",
    "\n",
    "dt = DecisionTreeClassifier(max_depth=3)\n",
    "dt.fit(X_train.cpu(), y_train.cpu())\n",
    "dt_f1 = f1_score(y_test.cpu(), dt.predict(X_test.cpu()))\n",
    "print(f\"DT\\t{dt_f1*100:.2f}\")"
   ]
  },
  {
   "cell_type": "code",
   "execution_count": 23,
   "metadata": {},
   "outputs": [
    {
     "name": "stdout",
     "output_type": "stream",
     "text": [
      "H_1.0^2 x E_0.0^2 x S_1.0^2\n"
     ]
    },
    {
     "data": {
      "application/vnd.jupyter.widget-view+json": {
       "model_id": "f0ad7dba0c5f4a08993f5af8102d150b",
       "version_major": 2,
       "version_minor": 0
      },
      "text/plain": [
       "  0%|          | 0/3000 [00:00<?, ?it/s]"
      ]
     },
     "metadata": {},
     "output_type": "display_data"
    }
   ],
   "source": [
    "# Same thing, but now we do H2 x E2 x S2\n",
    "torch.manual_seed(0)\n",
    "\n",
    "signature = [(-1, 2), (0, 2), (1, 2)]\n",
    "pm2 = embedders.manifolds.ProductManifold(signature=signature)\n",
    "print(pm2.name)\n",
    "\n",
    "# Get embedding\n",
    "embedders.coordinate_learning.train_coords(\n",
    "    pm2,\n",
    "    dists_rescaled,\n",
    "    device=device,\n",
    "    burn_in_iterations=300,\n",
    "    training_iterations=300 * 9,\n",
    "    learning_rate=1e-1,\n",
    "    burn_in_learning_rate=1e-2,\n",
    "    scale_factor_learning_rate=1e-1,\n",
    ")\n",
    "\n",
    "h2_e2_s2_polblogs = pm2.x_embed.detach().cpu().numpy()"
   ]
  },
  {
   "cell_type": "code",
   "execution_count": null,
   "metadata": {},
   "outputs": [
    {
     "name": "stdout",
     "output_type": "stream",
     "text": [
      "ProductDT\t90.57\n",
      "DT\t88.46\n"
     ]
    }
   ],
   "source": [
    "# Compare productDT and sklearn on this dataset\n",
    "from sklearn.tree import DecisionTreeClassifier\n",
    "\n",
    "X_train, X_test, y_train, y_test = train_test_split(\n",
    "    h2_e2_s2_polblogs, polblogs_labels.values, test_size=0.2, random_state=0\n",
    ")\n",
    "\n",
    "pdt2 = ProductSpaceDT(pm=pm2, max_depth=3)\n",
    "pdt2.fit(X_train, y_train)\n",
    "pdt2_f1 = f1_score(y_test, pdt2.predict(X_test))\n",
    "print(f\"ProductDT\\t{pdt2_f1*100:.2f}\")\n",
    "\n",
    "dt = DecisionTreeClassifier(max_depth=3)\n",
    "dt.fit(X_train, y_train)\n",
    "dt_f1 = f1_score(y_test, dt.predict(X_test))\n",
    "print(f\"DT\\t{dt_f1*100:.2f}\")\n",
    "# cv_eval(dt, \"DT\", h2_e2_s2_polblogs, polblogs_labels)\n",
    "\n",
    "# TODO: [REDACTED]: product perceptron eval\n",
    "# TODO: [REDACTED]: product SVM eval"
   ]
  },
  {
   "cell_type": "code",
   "execution_count": null,
   "metadata": {},
   "outputs": [
    {
     "name": "stdout",
     "output_type": "stream",
     "text": [
      "ProductDT (H)\t70.13 +/- 2.41\n",
      "HyperDT (H)\t70.13 +/- 2.41\n",
      "DT (H)\t68.98 +/- 3.30\n",
      "\n",
      "ProductDT (E)\t81.34 +/- 4.06\n",
      "DT (E)\t81.34 +/- 4.06\n",
      "\n",
      "ProductDT (S)\t90.26 +/- 1.02\n",
      "HyperDT (S)\t90.26 +/- 1.02\n",
      "DT (S)\t90.67 +/- 1.59\n"
     ]
    }
   ],
   "source": [
    "# Does it hold up componentwise?\n",
    "\n",
    "# Hyperbolic\n",
    "pdt_H = ProductSpaceDT(max_depth=3, signature=[(2, -1.0)])\n",
    "cv_eval(pdt_H, \"ProductDT (H)\", h2_e2_s2_polblogs[:, pm2.man2dim[0]], polblogs_labels)\n",
    "\n",
    "hdt_H = HyperbolicDecisionTreeClassifier(max_depth=3, skip_hyperboloid_check=True)\n",
    "cv_eval(hdt_H, \"HyperDT (H)\", h2_e2_s2_polblogs[:, pm2.man2dim[0]], polblogs_labels)\n",
    "\n",
    "dt_H = DecisionTreeClassifier(max_depth=3)\n",
    "cv_eval(dt_H, \"DT (H)\", h2_e2_s2_polblogs[:, pm2.man2dim[0]], polblogs_labels)\n",
    "\n",
    "print()\n",
    "\n",
    "# Euclidean\n",
    "# For the euclidean ones, we won't use man2dim because fix_X() breaks it - we'll hardcode 3:6 instead\n",
    "pdt_E = ProductSpaceDT(max_depth=3, signature=[(2, 0.0)])\n",
    "cv_eval(pdt_E, \"ProductDT (E)\", fix_X(h2_e2_s2_polblogs)[:, 3:6], polblogs_labels)\n",
    "\n",
    "dt_E = DecisionTreeClassifier(max_depth=3)\n",
    "cv_eval(dt_E, \"DT (E)\", h2_e2_s2_polblogs[:, pm2.man2dim[1]], polblogs_labels)\n",
    "\n",
    "print()\n",
    "\n",
    "# Sphere\n",
    "pdt_S = ProductSpaceDT(max_depth=3, signature=[(2, 1.0)])\n",
    "cv_eval(pdt_S, \"ProductDT (S)\", h2_e2_s2_polblogs[:, pm2.man2dim[2]], polblogs_labels)\n",
    "\n",
    "hdt_S = HyperbolicDecisionTreeClassifier(max_depth=3, skip_hyperboloid_check=True, angle_midpoint_method=\"bisect\")\n",
    "cv_eval(hdt_S, \"HyperDT (S)\", h2_e2_s2_polblogs[:, pm2.man2dim[2]], polblogs_labels)\n",
    "\n",
    "dt_S = DecisionTreeClassifier(max_depth=3)\n",
    "cv_eval(dt_S, \"DT (S)\", h2_e2_s2_polblogs[:, pm2.man2dim[2]], polblogs_labels)"
   ]
  },
  {
   "cell_type": "code",
   "execution_count": 54,
   "metadata": {},
   "outputs": [
    {
     "name": "stdout",
     "output_type": "stream",
     "text": [
      "[0.25659456849098206, 0.3267468214035034, 0.4166586697101593]\n",
      "1.0000000596046448\n"
     ]
    }
   ],
   "source": [
    "contributions = embedders.metrics.dist_component_by_manifold(pm2, pm2.x_embed)\n",
    "\n",
    "# Why don't these add to 100%...?\n",
    "print(contributions)\n",
    "print(sum(contributions))"
   ]
  },
  {
   "cell_type": "markdown",
   "metadata": {},
   "source": [
    "# Exhaustive benchmark"
   ]
  },
  {
   "cell_type": "code",
   "execution_count": 4,
   "metadata": {},
   "outputs": [],
   "source": [
    "# Non-Gu signature selection\n",
    "SIGNATURES = [\n",
    "    [(-1, 2), (-1, 2)],  # HH\n",
    "    [(-1, 2), (0, 2)],  # HE\n",
    "    [(-1, 2), (1, 2)],  # HS\n",
    "    [(1, 2), (1, 2)],  # SS\n",
    "    [(1, 2), (0, 2)],  # SE\n",
    "    [(-1, 4)],  # H\n",
    "    [(0, 4)],  # E\n",
    "    [(1, 4)],  # S\n",
    "]\n",
    "\n",
    "SIGNATURES_STR = [\"HH\", \"HE\", \"HS\", \"SS\", \"SE\", \"H\", \"E\", \"S\"]"
   ]
  },
  {
   "cell_type": "code",
   "execution_count": 5,
   "metadata": {},
   "outputs": [
    {
     "data": {
      "text/plain": [
       "device(type='cuda', index=1)"
      ]
     },
     "execution_count": 5,
     "metadata": {},
     "output_type": "execute_result"
    }
   ],
   "source": [
    "import torch\n",
    "import embedders\n",
    "import numpy as np\n",
    "\n",
    "# device = torch.device(\"cuda\") if torch.cuda.is_available() else torch.device(\"cpu\")\n",
    "# device\n",
    "if torch.cuda.is_available():\n",
    "    device = torch.device(\"cuda:1\")\n",
    "# elif torch.backends.mps.is_available(): # No MPS - float64 not supported\n",
    "#     device = torch.device(\"mps\")\n",
    "else:\n",
    "    device = torch.device(\"cpu\")\n",
    "device"
   ]
  },
  {
   "cell_type": "markdown",
   "metadata": {},
   "source": [
    "## Generate embeddings"
   ]
  },
  {
   "cell_type": "code",
   "execution_count": 22,
   "metadata": {},
   "outputs": [],
   "source": [
    "%%bash\n",
    "# rm -rf ../data/graphs/embeddings # Be careful!\n",
    "mkdir -p ../data/graphs/embeddings/polblogs\n",
    "mkdir -p ../data/graphs/embeddings/cora\n",
    "mkdir -p ../data/graphs/embeddings/citeseer\n",
    "mkdir -p ../data/graphs/embeddings/cs_phds"
   ]
  },
  {
   "cell_type": "code",
   "execution_count": null,
   "metadata": {},
   "outputs": [
    {
     "name": "stdout",
     "output_type": "stream",
     "text": [
      "Top CC has 1222 nodes; original graph has 1490 nodes.\n",
      "Skipping HH_0\n",
      "Skipping HH_1\n",
      "Skipping HH_2\n",
      "Skipping HH_3\n",
      "Skipping HH_4\n",
      "Skipping HH_5\n",
      "Skipping HH_6\n",
      "Skipping HH_7\n",
      "Skipping HH_8\n",
      "Skipping HH_9\n",
      "Skipping HE_0\n",
      "Skipping HE_1\n",
      "Skipping HE_2\n",
      "Skipping HE_3\n",
      "Skipping HE_4\n",
      "Skipping HE_5\n",
      "Skipping HE_6\n",
      "Skipping HE_7\n",
      "Skipping HE_8\n",
      "Skipping HE_9\n",
      "Skipping HS_0\n",
      "Skipping HS_1\n",
      "Skipping HS_2\n",
      "Skipping HS_3\n",
      "Skipping HS_4\n",
      "Skipping HS_5\n",
      "Skipping HS_6\n",
      "Skipping HS_7\n",
      "Skipping HS_8\n",
      "Skipping HS_9\n",
      "Skipping SS_0\n",
      "Skipping SS_1\n",
      "Skipping SS_2\n",
      "Skipping SS_3\n",
      "Skipping SS_4\n",
      "Skipping SS_5\n",
      "Skipping SS_6\n",
      "Skipping SS_7\n",
      "Skipping SS_8\n",
      "Skipping SS_9\n",
      "Skipping SE_0\n"
     ]
    },
    {
     "data": {
      "application/vnd.jupyter.widget-view+json": {
       "model_id": "8fcf493f2dbc49b399e705fc39b6a042",
       "version_major": 2,
       "version_minor": 0
      },
      "text/plain": [
       "  0%|          | 0/10000 [00:00<?, ?it/s]"
      ]
     },
     "metadata": {},
     "output_type": "display_data"
    },
    {
     "data": {
      "application/vnd.jupyter.widget-view+json": {
       "model_id": "a54708af98284c34a51e1d9ed03dce8e",
       "version_major": 2,
       "version_minor": 0
      },
      "text/plain": [
       "  0%|          | 0/10000 [00:00<?, ?it/s]"
      ]
     },
     "metadata": {},
     "output_type": "display_data"
    },
    {
     "data": {
      "application/vnd.jupyter.widget-view+json": {
       "model_id": "d7c1fa216ed64fd29156630188eb5603",
       "version_major": 2,
       "version_minor": 0
      },
      "text/plain": [
       "  0%|          | 0/10000 [00:00<?, ?it/s]"
      ]
     },
     "metadata": {},
     "output_type": "display_data"
    },
    {
     "data": {
      "application/vnd.jupyter.widget-view+json": {
       "model_id": "7d3844bcab084c919d91bd74f26b8ce9",
       "version_major": 2,
       "version_minor": 0
      },
      "text/plain": [
       "  0%|          | 0/10000 [00:00<?, ?it/s]"
      ]
     },
     "metadata": {},
     "output_type": "display_data"
    },
    {
     "data": {
      "application/vnd.jupyter.widget-view+json": {
       "model_id": "35aff93479f2479f8e0611965b231b42",
       "version_major": 2,
       "version_minor": 0
      },
      "text/plain": [
       "  0%|          | 0/10000 [00:00<?, ?it/s]"
      ]
     },
     "metadata": {},
     "output_type": "display_data"
    },
    {
     "data": {
      "application/vnd.jupyter.widget-view+json": {
       "model_id": "2f75d6680c4d43e490df6e7bc89548dd",
       "version_major": 2,
       "version_minor": 0
      },
      "text/plain": [
       "  0%|          | 0/10000 [00:00<?, ?it/s]"
      ]
     },
     "metadata": {},
     "output_type": "display_data"
    },
    {
     "data": {
      "application/vnd.jupyter.widget-view+json": {
       "model_id": "5027cbf1982f4dae85b26842156bca08",
       "version_major": 2,
       "version_minor": 0
      },
      "text/plain": [
       "  0%|          | 0/10000 [00:00<?, ?it/s]"
      ]
     },
     "metadata": {},
     "output_type": "display_data"
    },
    {
     "data": {
      "application/vnd.jupyter.widget-view+json": {
       "model_id": "8a59dbcb88c5489abe49e18579fe616e",
       "version_major": 2,
       "version_minor": 0
      },
      "text/plain": [
       "  0%|          | 0/10000 [00:00<?, ?it/s]"
      ]
     },
     "metadata": {},
     "output_type": "display_data"
    },
    {
     "data": {
      "application/vnd.jupyter.widget-view+json": {
       "model_id": "6f8e212c32494d0ea159d3a93e9a9756",
       "version_major": 2,
       "version_minor": 0
      },
      "text/plain": [
       "  0%|          | 0/10000 [00:00<?, ?it/s]"
      ]
     },
     "metadata": {},
     "output_type": "display_data"
    },
    {
     "data": {
      "application/vnd.jupyter.widget-view+json": {
       "model_id": "fc6a23b4b8124167ad3856ead8d9e3bb",
       "version_major": 2,
       "version_minor": 0
      },
      "text/plain": [
       "  0%|          | 0/10000 [00:00<?, ?it/s]"
      ]
     },
     "metadata": {},
     "output_type": "display_data"
    },
    {
     "data": {
      "application/vnd.jupyter.widget-view+json": {
       "model_id": "dee0caa6cd114698bc8ed00b1d471cfa",
       "version_major": 2,
       "version_minor": 0
      },
      "text/plain": [
       "  0%|          | 0/10000 [00:00<?, ?it/s]"
      ]
     },
     "metadata": {},
     "output_type": "display_data"
    },
    {
     "data": {
      "application/vnd.jupyter.widget-view+json": {
       "model_id": "3821a3a1332a4830a95579a4e5e933f1",
       "version_major": 2,
       "version_minor": 0
      },
      "text/plain": [
       "  0%|          | 0/10000 [00:00<?, ?it/s]"
      ]
     },
     "metadata": {},
     "output_type": "display_data"
    },
    {
     "data": {
      "application/vnd.jupyter.widget-view+json": {
       "model_id": "9dac2eab5b70483092073601ad2083ad",
       "version_major": 2,
       "version_minor": 0
      },
      "text/plain": [
       "  0%|          | 0/10000 [00:00<?, ?it/s]"
      ]
     },
     "metadata": {},
     "output_type": "display_data"
    },
    {
     "data": {
      "application/vnd.jupyter.widget-view+json": {
       "model_id": "ab1ecf7a60f0492d8516f8758df1c003",
       "version_major": 2,
       "version_minor": 0
      },
      "text/plain": [
       "  0%|          | 0/10000 [00:00<?, ?it/s]"
      ]
     },
     "metadata": {},
     "output_type": "display_data"
    },
    {
     "data": {
      "application/vnd.jupyter.widget-view+json": {
       "model_id": "268be712a2f74869859141261b418b83",
       "version_major": 2,
       "version_minor": 0
      },
      "text/plain": [
       "  0%|          | 0/10000 [00:00<?, ?it/s]"
      ]
     },
     "metadata": {},
     "output_type": "display_data"
    },
    {
     "data": {
      "application/vnd.jupyter.widget-view+json": {
       "model_id": "9eed1fa4151c470090cf81d640631047",
       "version_major": 2,
       "version_minor": 0
      },
      "text/plain": [
       "  0%|          | 0/10000 [00:00<?, ?it/s]"
      ]
     },
     "metadata": {},
     "output_type": "display_data"
    },
    {
     "data": {
      "application/vnd.jupyter.widget-view+json": {
       "model_id": "f4144b17ab554e5e8647c5db50ec613d",
       "version_major": 2,
       "version_minor": 0
      },
      "text/plain": [
       "  0%|          | 0/10000 [00:00<?, ?it/s]"
      ]
     },
     "metadata": {},
     "output_type": "display_data"
    },
    {
     "data": {
      "application/vnd.jupyter.widget-view+json": {
       "model_id": "bcb13e0d4eee4cc9bf34f91121e28e6b",
       "version_major": 2,
       "version_minor": 0
      },
      "text/plain": [
       "  0%|          | 0/10000 [00:00<?, ?it/s]"
      ]
     },
     "metadata": {},
     "output_type": "display_data"
    },
    {
     "data": {
      "application/vnd.jupyter.widget-view+json": {
       "model_id": "fff6c3544ae44116878141751765aca2",
       "version_major": 2,
       "version_minor": 0
      },
      "text/plain": [
       "  0%|          | 0/10000 [00:00<?, ?it/s]"
      ]
     },
     "metadata": {},
     "output_type": "display_data"
    },
    {
     "data": {
      "application/vnd.jupyter.widget-view+json": {
       "model_id": "0371208281f344378363001e959ba888",
       "version_major": 2,
       "version_minor": 0
      },
      "text/plain": [
       "  0%|          | 0/10000 [00:00<?, ?it/s]"
      ]
     },
     "metadata": {},
     "output_type": "display_data"
    },
    {
     "data": {
      "application/vnd.jupyter.widget-view+json": {
       "model_id": "936b057bbfc24018a286995540a7428c",
       "version_major": 2,
       "version_minor": 0
      },
      "text/plain": [
       "  0%|          | 0/10000 [00:00<?, ?it/s]"
      ]
     },
     "metadata": {},
     "output_type": "display_data"
    },
    {
     "data": {
      "application/vnd.jupyter.widget-view+json": {
       "model_id": "ebf1ee78685b4573b9711a910b330eb2",
       "version_major": 2,
       "version_minor": 0
      },
      "text/plain": [
       "  0%|          | 0/10000 [00:00<?, ?it/s]"
      ]
     },
     "metadata": {},
     "output_type": "display_data"
    },
    {
     "data": {
      "application/vnd.jupyter.widget-view+json": {
       "model_id": "8aac00083e98480baee149590d14a1f3",
       "version_major": 2,
       "version_minor": 0
      },
      "text/plain": [
       "  0%|          | 0/10000 [00:00<?, ?it/s]"
      ]
     },
     "metadata": {},
     "output_type": "display_data"
    },
    {
     "data": {
      "application/vnd.jupyter.widget-view+json": {
       "model_id": "f0376b640ac64e52a0c7c75159e7f5ed",
       "version_major": 2,
       "version_minor": 0
      },
      "text/plain": [
       "  0%|          | 0/10000 [00:00<?, ?it/s]"
      ]
     },
     "metadata": {},
     "output_type": "display_data"
    },
    {
     "data": {
      "application/vnd.jupyter.widget-view+json": {
       "model_id": "55738c7d58d24839a24a3a165981d877",
       "version_major": 2,
       "version_minor": 0
      },
      "text/plain": [
       "  0%|          | 0/10000 [00:00<?, ?it/s]"
      ]
     },
     "metadata": {},
     "output_type": "display_data"
    },
    {
     "data": {
      "application/vnd.jupyter.widget-view+json": {
       "model_id": "54355fa073f04698bd251cee66c6ddc2",
       "version_major": 2,
       "version_minor": 0
      },
      "text/plain": [
       "  0%|          | 0/10000 [00:00<?, ?it/s]"
      ]
     },
     "metadata": {},
     "output_type": "display_data"
    },
    {
     "data": {
      "application/vnd.jupyter.widget-view+json": {
       "model_id": "90936fcf3a254975a11b7c3ba996bb0e",
       "version_major": 2,
       "version_minor": 0
      },
      "text/plain": [
       "  0%|          | 0/10000 [00:00<?, ?it/s]"
      ]
     },
     "metadata": {},
     "output_type": "display_data"
    },
    {
     "data": {
      "application/vnd.jupyter.widget-view+json": {
       "model_id": "956d79a91ac3496595f9b8707c8591d5",
       "version_major": 2,
       "version_minor": 0
      },
      "text/plain": [
       "  0%|          | 0/10000 [00:00<?, ?it/s]"
      ]
     },
     "metadata": {},
     "output_type": "display_data"
    },
    {
     "data": {
      "application/vnd.jupyter.widget-view+json": {
       "model_id": "ff6e2f7039c14090b61f9e873c238bbd",
       "version_major": 2,
       "version_minor": 0
      },
      "text/plain": [
       "  0%|          | 0/10000 [00:00<?, ?it/s]"
      ]
     },
     "metadata": {},
     "output_type": "display_data"
    },
    {
     "data": {
      "application/vnd.jupyter.widget-view+json": {
       "model_id": "f627ffb0bf4f45c586ce1d4d6331cf82",
       "version_major": 2,
       "version_minor": 0
      },
      "text/plain": [
       "  0%|          | 0/10000 [00:00<?, ?it/s]"
      ]
     },
     "metadata": {},
     "output_type": "display_data"
    },
    {
     "data": {
      "application/vnd.jupyter.widget-view+json": {
       "model_id": "b5d491f7d1824b0fbc59c2be31aeac6a",
       "version_major": 2,
       "version_minor": 0
      },
      "text/plain": [
       "  0%|          | 0/10000 [00:00<?, ?it/s]"
      ]
     },
     "metadata": {},
     "output_type": "display_data"
    },
    {
     "data": {
      "application/vnd.jupyter.widget-view+json": {
       "model_id": "d59acc6c9b06411ebb0d1de476b2209e",
       "version_major": 2,
       "version_minor": 0
      },
      "text/plain": [
       "  0%|          | 0/10000 [00:00<?, ?it/s]"
      ]
     },
     "metadata": {},
     "output_type": "display_data"
    },
    {
     "data": {
      "application/vnd.jupyter.widget-view+json": {
       "model_id": "42dd802962334ef783a8bee1ddc15a2d",
       "version_major": 2,
       "version_minor": 0
      },
      "text/plain": [
       "  0%|          | 0/10000 [00:00<?, ?it/s]"
      ]
     },
     "metadata": {},
     "output_type": "display_data"
    },
    {
     "data": {
      "application/vnd.jupyter.widget-view+json": {
       "model_id": "c7c6a3bc569f45dca90396976aeea388",
       "version_major": 2,
       "version_minor": 0
      },
      "text/plain": [
       "  0%|          | 0/10000 [00:00<?, ?it/s]"
      ]
     },
     "metadata": {},
     "output_type": "display_data"
    },
    {
     "data": {
      "application/vnd.jupyter.widget-view+json": {
       "model_id": "28bd8b3d051c46978db8f5c2e856d9a4",
       "version_major": 2,
       "version_minor": 0
      },
      "text/plain": [
       "  0%|          | 0/10000 [00:00<?, ?it/s]"
      ]
     },
     "metadata": {},
     "output_type": "display_data"
    },
    {
     "data": {
      "application/vnd.jupyter.widget-view+json": {
       "model_id": "90833b8507f4490088e9d03bbb1bf76b",
       "version_major": 2,
       "version_minor": 0
      },
      "text/plain": [
       "  0%|          | 0/10000 [00:00<?, ?it/s]"
      ]
     },
     "metadata": {},
     "output_type": "display_data"
    },
    {
     "data": {
      "application/vnd.jupyter.widget-view+json": {
       "model_id": "84df242b90bf45dfac9087c15e7126ce",
       "version_major": 2,
       "version_minor": 0
      },
      "text/plain": [
       "  0%|          | 0/10000 [00:00<?, ?it/s]"
      ]
     },
     "metadata": {},
     "output_type": "display_data"
    },
    {
     "data": {
      "application/vnd.jupyter.widget-view+json": {
       "model_id": "6b35c94597424051a0307c43c48f119e",
       "version_major": 2,
       "version_minor": 0
      },
      "text/plain": [
       "  0%|          | 0/10000 [00:00<?, ?it/s]"
      ]
     },
     "metadata": {},
     "output_type": "display_data"
    },
    {
     "data": {
      "application/vnd.jupyter.widget-view+json": {
       "model_id": "631ff4ed43434c7d9c93d52ddb7cab9c",
       "version_major": 2,
       "version_minor": 0
      },
      "text/plain": [
       "  0%|          | 0/10000 [00:00<?, ?it/s]"
      ]
     },
     "metadata": {},
     "output_type": "display_data"
    },
    {
     "data": {
      "application/vnd.jupyter.widget-view+json": {
       "model_id": "b4eb6185c8114cc998a9274b49ac57d6",
       "version_major": 2,
       "version_minor": 0
      },
      "text/plain": [
       "  0%|          | 0/10000 [00:00<?, ?it/s]"
      ]
     },
     "metadata": {},
     "output_type": "display_data"
    },
    {
     "data": {
      "application/vnd.jupyter.widget-view+json": {
       "model_id": "e186fc45a6844a2ba69614272830b9b6",
       "version_major": 2,
       "version_minor": 0
      },
      "text/plain": [
       "  0%|          | 0/10000 [00:00<?, ?it/s]"
      ]
     },
     "metadata": {},
     "output_type": "display_data"
    },
    {
     "data": {
      "application/vnd.jupyter.widget-view+json": {
       "model_id": "9567a839a59c499a82bfbb348283c4a8",
       "version_major": 2,
       "version_minor": 0
      },
      "text/plain": [
       "  0%|          | 0/10000 [00:00<?, ?it/s]"
      ]
     },
     "metadata": {},
     "output_type": "display_data"
    },
    {
     "data": {
      "application/vnd.jupyter.widget-view+json": {
       "model_id": "655ce498c374434781684adfdbb1a3dd",
       "version_major": 2,
       "version_minor": 0
      },
      "text/plain": [
       "  0%|          | 0/10000 [00:00<?, ?it/s]"
      ]
     },
     "metadata": {},
     "output_type": "display_data"
    },
    {
     "data": {
      "application/vnd.jupyter.widget-view+json": {
       "model_id": "fe5a273a7b754b5a9dbab3db27ef6ab4",
       "version_major": 2,
       "version_minor": 0
      },
      "text/plain": [
       "  0%|          | 0/10000 [00:00<?, ?it/s]"
      ]
     },
     "metadata": {},
     "output_type": "display_data"
    },
    {
     "name": "stdout",
     "output_type": "stream",
     "text": [
      "Top CC has 2485 nodes; original graph has 2708 nodes.\n"
     ]
    },
    {
     "data": {
      "application/vnd.jupyter.widget-view+json": {
       "model_id": "1847278849ec403bab8ac5f55f224165",
       "version_major": 2,
       "version_minor": 0
      },
      "text/plain": [
       "  0%|          | 0/10000 [00:00<?, ?it/s]"
      ]
     },
     "metadata": {},
     "output_type": "display_data"
    },
    {
     "data": {
      "application/vnd.jupyter.widget-view+json": {
       "model_id": "a9927ebb51a04ae98e30ae9f07c396da",
       "version_major": 2,
       "version_minor": 0
      },
      "text/plain": [
       "  0%|          | 0/10000 [00:00<?, ?it/s]"
      ]
     },
     "metadata": {},
     "output_type": "display_data"
    },
    {
     "data": {
      "application/vnd.jupyter.widget-view+json": {
       "model_id": "1fc221ca74a043e4a9c51afd8388b6a3",
       "version_major": 2,
       "version_minor": 0
      },
      "text/plain": [
       "  0%|          | 0/10000 [00:00<?, ?it/s]"
      ]
     },
     "metadata": {},
     "output_type": "display_data"
    },
    {
     "data": {
      "application/vnd.jupyter.widget-view+json": {
       "model_id": "db43e4b4253646a8b7191b8cdc2df21c",
       "version_major": 2,
       "version_minor": 0
      },
      "text/plain": [
       "  0%|          | 0/10000 [00:00<?, ?it/s]"
      ]
     },
     "metadata": {},
     "output_type": "display_data"
    },
    {
     "data": {
      "application/vnd.jupyter.widget-view+json": {
       "model_id": "ef10e2cc32cb403aa92399586aed0c3d",
       "version_major": 2,
       "version_minor": 0
      },
      "text/plain": [
       "  0%|          | 0/10000 [00:00<?, ?it/s]"
      ]
     },
     "metadata": {},
     "output_type": "display_data"
    },
    {
     "data": {
      "application/vnd.jupyter.widget-view+json": {
       "model_id": "da6226d786a441119844908b927e19b5",
       "version_major": 2,
       "version_minor": 0
      },
      "text/plain": [
       "  0%|          | 0/10000 [00:00<?, ?it/s]"
      ]
     },
     "metadata": {},
     "output_type": "display_data"
    },
    {
     "data": {
      "application/vnd.jupyter.widget-view+json": {
       "model_id": "9d4ec89cb3ed4cdcaf18c9180594c336",
       "version_major": 2,
       "version_minor": 0
      },
      "text/plain": [
       "  0%|          | 0/10000 [00:00<?, ?it/s]"
      ]
     },
     "metadata": {},
     "output_type": "display_data"
    }
   ],
   "source": [
    "from embedders.metrics import d_avg\n",
    "import pandas as pd\n",
    "import os\n",
    "from sklearn.model_selection import train_test_split\n",
    "\n",
    "# Hyperparameters\n",
    "ITERS = 10_000\n",
    "TRIALS = 10\n",
    "LR = 1e-2\n",
    "\n",
    "seed = 0\n",
    "for DATASET in [\"polblogs\", \"cora\", \"citeseer\", \"cs_phds\"]:\n",
    "    dists, labels, _ = embedders.dataloaders.load(DATASET)\n",
    "    dists = dists.to(device)\n",
    "\n",
    "    results = []\n",
    "    for i, (signature, signature_str) in enumerate(zip(SIGNATURES, SIGNATURES_STR)):\n",
    "        j = 0\n",
    "        while j < TRIALS:\n",
    "            # Get manifold\n",
    "            pm = embedders.manifolds.ProductManifold(signature=signature).to(device)\n",
    "            \n",
    "            # Skip existing\n",
    "            if os.path.exists(f\"../data/graphs/embeddings/{DATASET}/{signature_str}_{j}.h5\"):\n",
    "                print(f\"Skipping {signature_str}_{j}\")\n",
    "                j += 1\n",
    "                continue\n",
    "\n",
    "            torch.manual_seed(seed)\n",
    "\n",
    "            # Generate embedding\n",
    "            train_idx, test_idx = train_test_split(torch.arange(len(dists)), test_size=0.2, random_state=seed)\n",
    "            D_train = dists[train_idx][:, train_idx]\n",
    "            dists_rescaled = dists / D_train[D_train.isfinite()].max()\n",
    "            try:\n",
    "                X, losses = embedders.coordinate_learning.train_coords(\n",
    "                    pm,\n",
    "                    dists_rescaled, # Rescale distances in a non-transductive way\n",
    "                    test_indices=test_idx,\n",
    "                    device=device,\n",
    "                    burn_in_iterations=int(ITERS * 0.2),\n",
    "                    training_iterations=int(ITERS * 0.8),\n",
    "                    learning_rate=LR,\n",
    "                    burn_in_learning_rate=LR / 10,\n",
    "                    scale_factor_learning_rate=LR / 10,\n",
    "                )\n",
    "\n",
    "                # Calculate d_avg\n",
    "                X_train = X[train_idx]\n",
    "                X_test = X[test_idx]\n",
    "                y_train = labels[train_idx]\n",
    "                y_test = labels[test_idx]\n",
    "                my_d_avg = d_avg(pm.pdist(X_train), dists_rescaled[train_idx][:, train_idx]).item()\n",
    "\n",
    "                # Save as a single file\n",
    "                torch.save(\n",
    "                    {\"X_train\": X_train, \"X_test\": X_test, \"y_train\": y_train, \"y_test\": y_test, \"test_idx\": test_idx}, \n",
    "                    f\"../data/graphs/embeddings/{DATASET}/{signature_str}_{j}.h5\"\n",
    "                )\n",
    "\n",
    "                # Results should just be average distances\n",
    "                results.append({\"signature\": signature, \"seed\": seed, \"d_avg\": my_d_avg})\n",
    "                j += 1\n",
    "            except Exception as e:\n",
    "                pass\n",
    "            seed += 1 # Increment seed even if we need to restart a trial\n",
    "\n",
    "    results_df = pd.DataFrame(results)\n",
    "    results_df.to_csv(f\"../data/graphs/embeddings/{DATASET}_dists.tsv\", sep=\"\\t\")"
   ]
  },
  {
   "cell_type": "markdown",
   "metadata": {},
   "source": [
    "# Evaluate"
   ]
  },
  {
   "cell_type": "code",
   "execution_count": null,
   "metadata": {},
   "outputs": [
    {
     "name": "stdout",
     "output_type": "stream",
     "text": [
      "Top CC has 1025 nodes; original graph has 1025 nodes.\n"
     ]
    },
    {
     "data": {
      "application/vnd.jupyter.widget-view+json": {
       "model_id": "7dd42934053f4a8a819f2eb3a179aa92",
       "version_major": 2,
       "version_minor": 0
      },
      "text/plain": [
       "  0%|          | 0/80 [00:00<?, ?it/s]"
      ]
     },
     "metadata": {},
     "output_type": "display_data"
    }
   ],
   "source": [
    "# Run benchmarks\n",
    "import torch\n",
    "import pandas as pd\n",
    "from tqdm.notebook import tqdm\n",
    "\n",
    "# Params\n",
    "TRIALS = 10\n",
    "MAX_DEPTH = 3\n",
    "# DATASET = \"polblogs\"\n",
    "# DATASET = \"cs_phds\"\n",
    "DATASET = \"cora\"\n",
    "\n",
    "TASK = \"regression\" if DATASET == \"cs_phds\" else \"classification\"\n",
    "SCORE = \"f1-micro\" if TASK == \"classification\" else \"rmse\"\n",
    "\n",
    "# Get data\n",
    "_, y = embedders.dataloaders.load(\n",
    "    DATASET,\n",
    "    labels=True,\n",
    "    # polblogs_path=\"/Users/[REDACTED]/embedders/data/graphs/polblogs.mtx\",\n",
    "    # polblogs_labels_path=\"/Users/[REDACTED]/embedders/data/graphs/polblogs_labels.tsv\",\n",
    "    # cs_phds_path=\"/Users/[REDACTED]/embedders/data/graphs/cs_phds.txt\",\n",
    ")\n",
    "# y = torch.tensor(y.values)\n",
    "y = torch.tensor(y)\n",
    "\n",
    "# Benchmark loop\n",
    "results = []\n",
    "with torch.no_grad():\n",
    "    my_tqdm = tqdm(total=TRIALS * len(SIGNATURES))\n",
    "    for i, (signature, signature_str) in enumerate(zip(SIGNATURES, SIGNATURES_STR)):\n",
    "        pm = embedders.manifolds.ProductManifold(signature=signature)\n",
    "        for j in range(TRIALS):\n",
    "            X = np.load(f\"../data/graphs/embeddings/{DATASET}/{signature_str}_{j}.npy\")\n",
    "            X = torch.tensor(X)\n",
    "            if X.isnan().any():\n",
    "                print(i, j, \"NaN\")\n",
    "                break\n",
    "\n",
    "            # Run benchmarks\n",
    "            seed = i * TRIALS + j\n",
    "            accs = embedders.benchmarks.benchmark(X, y, pm, max_depth=MAX_DEPTH, task=TASK, score=SCORE, seed=seed)\n",
    "            accs[\"signature\"] = signature_str\n",
    "            accs[\"seed\"] = seed\n",
    "            results.append(accs)\n",
    "\n",
    "            my_tqdm.update(1)\n",
    "\n",
    "results = pd.DataFrame(results)"
   ]
  },
  {
   "cell_type": "code",
   "execution_count": 118,
   "metadata": {},
   "outputs": [
    {
     "data": {
      "text/html": [
       "<div>\n",
       "<style scoped>\n",
       "    .dataframe tbody tr th:only-of-type {\n",
       "        vertical-align: middle;\n",
       "    }\n",
       "\n",
       "    .dataframe tbody tr th {\n",
       "        vertical-align: top;\n",
       "    }\n",
       "\n",
       "    .dataframe thead th {\n",
       "        text-align: right;\n",
       "    }\n",
       "</style>\n",
       "<table border=\"1\" class=\"dataframe\">\n",
       "  <thead>\n",
       "    <tr style=\"text-align: right;\">\n",
       "      <th></th>\n",
       "      <th>sklearn_dt</th>\n",
       "      <th>sklearn_rf</th>\n",
       "      <th>product_dt</th>\n",
       "      <th>product_rf</th>\n",
       "      <th>tangent_dt</th>\n",
       "      <th>tangent_rf</th>\n",
       "      <th>knn</th>\n",
       "      <th>ps_perceptron</th>\n",
       "      <th>seed</th>\n",
       "      <th>d_avg</th>\n",
       "    </tr>\n",
       "    <tr>\n",
       "      <th>signature</th>\n",
       "      <th></th>\n",
       "      <th></th>\n",
       "      <th></th>\n",
       "      <th></th>\n",
       "      <th></th>\n",
       "      <th></th>\n",
       "      <th></th>\n",
       "      <th></th>\n",
       "      <th></th>\n",
       "      <th></th>\n",
       "    </tr>\n",
       "  </thead>\n",
       "  <tbody>\n",
       "    <tr>\n",
       "      <th>E</th>\n",
       "      <td>15.468557</td>\n",
       "      <td>14.362406</td>\n",
       "      <td>15.428887</td>\n",
       "      <td>14.535590</td>\n",
       "      <td>15.463526</td>\n",
       "      <td>14.362406</td>\n",
       "      <td>13.628535</td>\n",
       "      <td>20.679334</td>\n",
       "      <td>64.5</td>\n",
       "      <td>0.093378</td>\n",
       "    </tr>\n",
       "    <tr>\n",
       "      <th>H</th>\n",
       "      <td>16.827143</td>\n",
       "      <td>15.423731</td>\n",
       "      <td>16.073031</td>\n",
       "      <td>15.517410</td>\n",
       "      <td>16.816113</td>\n",
       "      <td>15.402290</td>\n",
       "      <td>14.218217</td>\n",
       "      <td>21.870253</td>\n",
       "      <td>54.5</td>\n",
       "      <td>0.091277</td>\n",
       "    </tr>\n",
       "    <tr>\n",
       "      <th>HE</th>\n",
       "      <td>15.720164</td>\n",
       "      <td>14.487622</td>\n",
       "      <td>15.617892</td>\n",
       "      <td>14.607355</td>\n",
       "      <td>15.907300</td>\n",
       "      <td>14.470194</td>\n",
       "      <td>13.802418</td>\n",
       "      <td>21.100839</td>\n",
       "      <td>14.5</td>\n",
       "      <td>0.092342</td>\n",
       "    </tr>\n",
       "    <tr>\n",
       "      <th>HH</th>\n",
       "      <td>15.334424</td>\n",
       "      <td>14.101544</td>\n",
       "      <td>15.681947</td>\n",
       "      <td>14.287518</td>\n",
       "      <td>15.166246</td>\n",
       "      <td>14.276959</td>\n",
       "      <td>13.112252</td>\n",
       "      <td>56.725787</td>\n",
       "      <td>5.0</td>\n",
       "      <td>0.091501</td>\n",
       "    </tr>\n",
       "    <tr>\n",
       "      <th>HS</th>\n",
       "      <td>15.812613</td>\n",
       "      <td>14.266390</td>\n",
       "      <td>15.210592</td>\n",
       "      <td>14.608781</td>\n",
       "      <td>16.023448</td>\n",
       "      <td>14.391298</td>\n",
       "      <td>13.185946</td>\n",
       "      <td>20.938904</td>\n",
       "      <td>24.5</td>\n",
       "      <td>0.092177</td>\n",
       "    </tr>\n",
       "    <tr>\n",
       "      <th>S</th>\n",
       "      <td>15.084100</td>\n",
       "      <td>13.859736</td>\n",
       "      <td>15.329632</td>\n",
       "      <td>13.978454</td>\n",
       "      <td>16.347620</td>\n",
       "      <td>14.217066</td>\n",
       "      <td>13.130431</td>\n",
       "      <td>20.329931</td>\n",
       "      <td>74.5</td>\n",
       "      <td>0.093538</td>\n",
       "    </tr>\n",
       "    <tr>\n",
       "      <th>SE</th>\n",
       "      <td>15.343300</td>\n",
       "      <td>14.689015</td>\n",
       "      <td>16.236239</td>\n",
       "      <td>14.899259</td>\n",
       "      <td>15.513023</td>\n",
       "      <td>14.776725</td>\n",
       "      <td>13.379728</td>\n",
       "      <td>21.131770</td>\n",
       "      <td>44.5</td>\n",
       "      <td>0.092496</td>\n",
       "    </tr>\n",
       "    <tr>\n",
       "      <th>SS</th>\n",
       "      <td>14.609547</td>\n",
       "      <td>13.802897</td>\n",
       "      <td>15.177632</td>\n",
       "      <td>14.060737</td>\n",
       "      <td>15.124642</td>\n",
       "      <td>14.092233</td>\n",
       "      <td>13.125383</td>\n",
       "      <td>20.035095</td>\n",
       "      <td>34.5</td>\n",
       "      <td>0.091443</td>\n",
       "    </tr>\n",
       "  </tbody>\n",
       "</table>\n",
       "</div>"
      ],
      "text/plain": [
       "           sklearn_dt  sklearn_rf  product_dt  product_rf  tangent_dt  \\\n",
       "signature                                                               \n",
       "E           15.468557   14.362406   15.428887   14.535590   15.463526   \n",
       "H           16.827143   15.423731   16.073031   15.517410   16.816113   \n",
       "HE          15.720164   14.487622   15.617892   14.607355   15.907300   \n",
       "HH          15.334424   14.101544   15.681947   14.287518   15.166246   \n",
       "HS          15.812613   14.266390   15.210592   14.608781   16.023448   \n",
       "S           15.084100   13.859736   15.329632   13.978454   16.347620   \n",
       "SE          15.343300   14.689015   16.236239   14.899259   15.513023   \n",
       "SS          14.609547   13.802897   15.177632   14.060737   15.124642   \n",
       "\n",
       "           tangent_rf        knn  ps_perceptron  seed     d_avg  \n",
       "signature                                                        \n",
       "E           14.362406  13.628535      20.679334  64.5  0.093378  \n",
       "H           15.402290  14.218217      21.870253  54.5  0.091277  \n",
       "HE          14.470194  13.802418      21.100839  14.5  0.092342  \n",
       "HH          14.276959  13.112252      56.725787   5.0  0.091501  \n",
       "HS          14.391298  13.185946      20.938904  24.5  0.092177  \n",
       "S           14.217066  13.130431      20.329931  74.5  0.093538  \n",
       "SE          14.776725  13.379728      21.131770  44.5  0.092496  \n",
       "SS          14.092233  13.125383      20.035095  34.5  0.091443  "
      ]
     },
     "execution_count": 118,
     "metadata": {},
     "output_type": "execute_result"
    }
   ],
   "source": [
    "# Add distances\n",
    "dists = pd.read_table(f\"../data/graphs/embeddings/{DATASET}_dists.tsv\", index_col=0)\n",
    "dists = dists.drop(columns=[\"signature\"])\n",
    "results_merged = results.merge(dists, on=[\"seed\"])\n",
    "results_grouped = results_merged.groupby([\"signature\"]).mean()\n",
    "results_grouped"
   ]
  },
  {
   "cell_type": "code",
   "execution_count": 129,
   "metadata": {},
   "outputs": [
    {
     "data": {
      "image/png": "[encoded data removed]",
      "text/plain": [
       "<Figure size 640x480 with 1 Axes>"
      ]
     },
     "metadata": {},
     "output_type": "display_data"
    }
   ],
   "source": [
    "import matplotlib.pyplot as plt\n",
    "\n",
    "plt.scatter(results[\"product_dt\"], results[\"sklearn_dt\"])\n",
    "plt.ylabel(\"Sklearn DT\")\n",
    "plt.xlabel(\"Product DT\")\n",
    "mymin = results[[\"product_dt\", \"sklearn_dt\"]].min().min()\n",
    "mymax = results[[\"product_dt\", \"sklearn_dt\"]].max().max()\n",
    "plt.plot([mymin, mymax], [mymin, mymax], label=\"y=x\")\n",
    "plt.title(\n",
    "    f\"{DATASET.capitalize()} - {SCORE} \\n ProductDT {results_grouped['product_dt'].mean():.3f} vs SklearnDT {results_grouped['sklearn_dt'].mean():.3f}\"\n",
    ")\n",
    "plt.legend()\n",
    "\n",
    "plt.show()"
   ]
  },
  {
   "cell_type": "code",
   "execution_count": 131,
   "metadata": {},
   "outputs": [
    {
     "data": {
      "image/png": "[encoded data removed]",
      "text/plain": [
       "<Figure size 640x480 with 1 Axes>"
      ]
     },
     "metadata": {},
     "output_type": "display_data"
    }
   ],
   "source": [
    "import matplotlib.pyplot as plt\n",
    "\n",
    "plt.scatter(results[\"product_rf\"], results[\"sklearn_rf\"])\n",
    "plt.ylabel(\"Sklearn RF\")\n",
    "plt.xlabel(\"Product RF\")\n",
    "plt.plot([mymin, mymax], [mymin, mymax], label=\"y=x\")\n",
    "plt.title(\n",
    "    f\"{DATASET.capitalize()} - {SCORE} \\n ProductRF {results_grouped['product_rf'].mean():.3f} vs SklearnRF {results_grouped['sklearn_rf'].mean():.3f}\"\n",
    ")\n",
    "plt.legend()\n",
    "\n",
    "plt.show()"
   ]
  },
  {
   "cell_type": "code",
   "execution_count": 140,
   "metadata": {},
   "outputs": [
    {
     "data": {
      "image/png": "[encoded data removed]",
      "text/plain": [
       "<Figure size 640x480 with 1 Axes>"
      ]
     },
     "metadata": {},
     "output_type": "display_data"
    }
   ],
   "source": [
    "import matplotlib.pyplot as plt\n",
    "\n",
    "plt.scatter(results_merged[\"d_avg\"], results_merged[\"product_rf\"] - results_merged[\"sklearn_rf\"])\n",
    "plt.ylabel(\"Product RF - Sklearn RF\")\n",
    "plt.xlabel(\"D_avg\")\n",
    "# plt.plot([0.8, 1], [0.8, 1], label=\"y=x\")\n",
    "# plt.hlines(0, 0.8, 1, label=\"y=0\")\n",
    "plt.plot([results_merged[\"d_avg\"].min(), results_merged[\"d_avg\"].max()], [0, 0], label=\"y=0\")\n",
    "plt.title(\n",
    "    f\"{DATASET.capitalize()} - {SCORE} \\n ProductRF {results_grouped['product_rf'].mean():.3f} vs SklearnRF {results_grouped['sklearn_rf'].mean():.3f}\"\n",
    ")\n",
    "plt.legend()\n",
    "\n",
    "plt.show()"
   ]
  },
  {
   "cell_type": "code",
   "execution_count": 141,
   "metadata": {},
   "outputs": [
    {
     "data": {
      "text/html": [
       "<div>\n",
       "<style scoped>\n",
       "    .dataframe tbody tr th:only-of-type {\n",
       "        vertical-align: middle;\n",
       "    }\n",
       "\n",
       "    .dataframe tbody tr th {\n",
       "        vertical-align: top;\n",
       "    }\n",
       "\n",
       "    .dataframe thead th {\n",
       "        text-align: right;\n",
       "    }\n",
       "</style>\n",
       "<table border=\"1\" class=\"dataframe\">\n",
       "  <thead>\n",
       "    <tr style=\"text-align: right;\">\n",
       "      <th></th>\n",
       "      <th>sklearn_dt</th>\n",
       "      <th>sklearn_rf</th>\n",
       "      <th>product_dt</th>\n",
       "      <th>product_rf</th>\n",
       "      <th>tangent_dt</th>\n",
       "      <th>tangent_rf</th>\n",
       "      <th>knn</th>\n",
       "      <th>ps_perceptron</th>\n",
       "      <th>seed</th>\n",
       "      <th>d_avg</th>\n",
       "    </tr>\n",
       "    <tr>\n",
       "      <th>signature</th>\n",
       "      <th></th>\n",
       "      <th></th>\n",
       "      <th></th>\n",
       "      <th></th>\n",
       "      <th></th>\n",
       "      <th></th>\n",
       "      <th></th>\n",
       "      <th></th>\n",
       "      <th></th>\n",
       "      <th></th>\n",
       "    </tr>\n",
       "  </thead>\n",
       "  <tbody>\n",
       "    <tr>\n",
       "      <th>H</th>\n",
       "      <td>16.827143</td>\n",
       "      <td>15.423731</td>\n",
       "      <td>16.073031</td>\n",
       "      <td>15.517410</td>\n",
       "      <td>16.816113</td>\n",
       "      <td>15.402290</td>\n",
       "      <td>14.218217</td>\n",
       "      <td>21.870253</td>\n",
       "      <td>54.5</td>\n",
       "      <td>0.091277</td>\n",
       "    </tr>\n",
       "    <tr>\n",
       "      <th>SS</th>\n",
       "      <td>14.609547</td>\n",
       "      <td>13.802897</td>\n",
       "      <td>15.177632</td>\n",
       "      <td>14.060737</td>\n",
       "      <td>15.124642</td>\n",
       "      <td>14.092233</td>\n",
       "      <td>13.125383</td>\n",
       "      <td>20.035095</td>\n",
       "      <td>34.5</td>\n",
       "      <td>0.091443</td>\n",
       "    </tr>\n",
       "    <tr>\n",
       "      <th>HH</th>\n",
       "      <td>15.334424</td>\n",
       "      <td>14.101544</td>\n",
       "      <td>15.681947</td>\n",
       "      <td>14.287518</td>\n",
       "      <td>15.166246</td>\n",
       "      <td>14.276959</td>\n",
       "      <td>13.112252</td>\n",
       "      <td>56.725787</td>\n",
       "      <td>5.0</td>\n",
       "      <td>0.091501</td>\n",
       "    </tr>\n",
       "    <tr>\n",
       "      <th>HS</th>\n",
       "      <td>15.812613</td>\n",
       "      <td>14.266390</td>\n",
       "      <td>15.210592</td>\n",
       "      <td>14.608781</td>\n",
       "      <td>16.023448</td>\n",
       "      <td>14.391298</td>\n",
       "      <td>13.185946</td>\n",
       "      <td>20.938904</td>\n",
       "      <td>24.5</td>\n",
       "      <td>0.092177</td>\n",
       "    </tr>\n",
       "    <tr>\n",
       "      <th>HE</th>\n",
       "      <td>15.720164</td>\n",
       "      <td>14.487622</td>\n",
       "      <td>15.617892</td>\n",
       "      <td>14.607355</td>\n",
       "      <td>15.907300</td>\n",
       "      <td>14.470194</td>\n",
       "      <td>13.802418</td>\n",
       "      <td>21.100839</td>\n",
       "      <td>14.5</td>\n",
       "      <td>0.092342</td>\n",
       "    </tr>\n",
       "    <tr>\n",
       "      <th>SE</th>\n",
       "      <td>15.343300</td>\n",
       "      <td>14.689015</td>\n",
       "      <td>16.236239</td>\n",
       "      <td>14.899259</td>\n",
       "      <td>15.513023</td>\n",
       "      <td>14.776725</td>\n",
       "      <td>13.379728</td>\n",
       "      <td>21.131770</td>\n",
       "      <td>44.5</td>\n",
       "      <td>0.092496</td>\n",
       "    </tr>\n",
       "    <tr>\n",
       "      <th>E</th>\n",
       "      <td>15.468557</td>\n",
       "      <td>14.362406</td>\n",
       "      <td>15.428887</td>\n",
       "      <td>14.535590</td>\n",
       "      <td>15.463526</td>\n",
       "      <td>14.362406</td>\n",
       "      <td>13.628535</td>\n",
       "      <td>20.679334</td>\n",
       "      <td>64.5</td>\n",
       "      <td>0.093378</td>\n",
       "    </tr>\n",
       "    <tr>\n",
       "      <th>S</th>\n",
       "      <td>15.084100</td>\n",
       "      <td>13.859736</td>\n",
       "      <td>15.329632</td>\n",
       "      <td>13.978454</td>\n",
       "      <td>16.347620</td>\n",
       "      <td>14.217066</td>\n",
       "      <td>13.130431</td>\n",
       "      <td>20.329931</td>\n",
       "      <td>74.5</td>\n",
       "      <td>0.093538</td>\n",
       "    </tr>\n",
       "  </tbody>\n",
       "</table>\n",
       "</div>"
      ],
      "text/plain": [
       "           sklearn_dt  sklearn_rf  product_dt  product_rf  tangent_dt  \\\n",
       "signature                                                               \n",
       "H           16.827143   15.423731   16.073031   15.517410   16.816113   \n",
       "SS          14.609547   13.802897   15.177632   14.060737   15.124642   \n",
       "HH          15.334424   14.101544   15.681947   14.287518   15.166246   \n",
       "HS          15.812613   14.266390   15.210592   14.608781   16.023448   \n",
       "HE          15.720164   14.487622   15.617892   14.607355   15.907300   \n",
       "SE          15.343300   14.689015   16.236239   14.899259   15.513023   \n",
       "E           15.468557   14.362406   15.428887   14.535590   15.463526   \n",
       "S           15.084100   13.859736   15.329632   13.978454   16.347620   \n",
       "\n",
       "           tangent_rf        knn  ps_perceptron  seed     d_avg  \n",
       "signature                                                        \n",
       "H           15.402290  14.218217      21.870253  54.5  0.091277  \n",
       "SS          14.092233  13.125383      20.035095  34.5  0.091443  \n",
       "HH          14.276959  13.112252      56.725787   5.0  0.091501  \n",
       "HS          14.391298  13.185946      20.938904  24.5  0.092177  \n",
       "HE          14.470194  13.802418      21.100839  14.5  0.092342  \n",
       "SE          14.776725  13.379728      21.131770  44.5  0.092496  \n",
       "E           14.362406  13.628535      20.679334  64.5  0.093378  \n",
       "S           14.217066  13.130431      20.329931  74.5  0.093538  "
      ]
     },
     "execution_count": 141,
     "metadata": {},
     "output_type": "execute_result"
    }
   ],
   "source": [
    "results_grouped.sort_values(\"d_avg\")"
   ]
  },
  {
   "cell_type": "code",
   "execution_count": null,
   "metadata": {},
   "outputs": [],
   "source": []
  }
 ],
 "metadata": {
  "kernelspec": {
   "display_name": "embedders",
   "language": "python",
   "name": "python3"
  },
  "language_info": {
   "codemirror_mode": {
    "name": "ipython",
    "version": 3
   },
   "file_extension": ".py",
   "mimetype": "text/x-python",
   "name": "python",
   "nbconvert_exporter": "python",
   "pygments_lexer": "ipython3",
   "version": "3.9.0"
  }
 },
 "nbformat": 4,
 "nbformat_minor": 2
}

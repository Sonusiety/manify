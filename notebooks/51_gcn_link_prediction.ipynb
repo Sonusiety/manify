{
 "cells": [
  {
   "cell_type": "code",
   "execution_count": 1,
   "metadata": {},
   "outputs": [],
   "source": [
    "%load_ext autoreload\n",
    "%autoreload 2"
   ]
  },
  {
   "cell_type": "code",
   "execution_count": null,
   "metadata": {},
   "outputs": [],
   "source": []
  },
  {
   "cell_type": "code",
   "execution_count": 2,
   "metadata": {},
   "outputs": [],
   "source": [
    "import torch\n",
    "import embedders\n",
    "\n",
    "DEVICE = torch.device(\"cuda\", 1) # Use the 2nd GPU"
   ]
  },
  {
   "cell_type": "code",
   "execution_count": 3,
   "metadata": {},
   "outputs": [
    {
     "name": "stdout",
     "output_type": "stream",
     "text": [
      "Top CC has 34 nodes; original graph has 34 nodes.\n"
     ]
    },
    {
     "data": {
      "application/vnd.jupyter.widget-view+json": {
       "model_id": "9fd84516d81e4e66a08fa50a5bf5f361",
       "version_major": 2,
       "version_minor": 0
      },
      "text/plain": [
       "  0%|          | 0/2000 [00:00<?, ?it/s]"
      ]
     },
     "metadata": {},
     "output_type": "display_data"
    }
   ],
   "source": [
    "# Get some embeddings to work with\n",
    "\n",
    "# Get graph\n",
    "D, _, adj = embedders.dataloaders.load(\"karate_club\")\n",
    "D, adj = D.to(DEVICE), adj.to(DEVICE)\n",
    "pm = embedders.manifolds.ProductManifold(\n",
    "    signature=[(-1, 2), (0, 2), (1, 2)], device=DEVICE\n",
    ")\n",
    "\n",
    "# Get embeddings\n",
    "X, _ = embedders.coordinate_learning.train_coords(\n",
    "    pm=pm, dists=D, device=DEVICE, burn_in_iterations=400, training_iterations=1600\n",
    ")\n",
    "\n",
    "# Get stereographic version\n",
    "pm_stereo, X_stereo = pm.stereographic(X)"
   ]
  },
  {
   "cell_type": "code",
   "execution_count": 4,
   "metadata": {},
   "outputs": [],
   "source": [
    "# Get an adjacency matrix that's not leaky\n",
    "dists = pm.pdist2(X)\n",
    "max_dist = dists[dists.isfinite()].max()\n",
    "dists /= max_dist\n",
    "A = torch.exp(-dists)\n",
    "A_hat = embedders.predictors.kappa_gcn.get_A_hat(A).float().to(DEVICE)"
   ]
  },
  {
   "cell_type": "code",
   "execution_count": 5,
   "metadata": {},
   "outputs": [
    {
     "data": {
      "application/vnd.jupyter.widget-view+json": {
       "model_id": "923403dd631542d6b678c266ab2ed484",
       "version_major": 2,
       "version_minor": 0
      },
      "text/plain": [
       "  0%|          | 0/100 [00:00<?, ?it/s]"
      ]
     },
     "metadata": {},
     "output_type": "display_data"
    },
    {
     "data": {
      "text/plain": [
       "tensor(0.8405, device='cuda:1')"
      ]
     },
     "execution_count": 5,
     "metadata": {},
     "output_type": "execute_result"
    }
   ],
   "source": [
    "from sklearn.model_selection import train_test_split\n",
    "\n",
    "# Train a KappaGCN on everything\n",
    "kgcn = embedders.predictors.kappa_gcn.KappaGCN(\n",
    "    pm=pm_stereo, output_dim=1, hidden_dims=[pm.dim, pm.dim], task=\"link_prediction\"\n",
    ").to(DEVICE)\n",
    "\n",
    "# Split on indices, since this is a weird graph thing\n",
    "y = adj.float().flatten()\n",
    "train_idx, test_idx = train_test_split(list(range(len(y))), test_size=0.2)\n",
    "\n",
    "# Fit on train indices using all X, but only some of the y - this masks out certain edges from the loss\n",
    "kgcn.fit(X, y=y[train_idx], A=A_hat, lr=1e-2, lp_indices=train_idx, use_tqdm=True, epochs=100)\n",
    "\n",
    "# Predict on test indices\n",
    "y_pred = kgcn.predict(X, A_hat)[test_idx]\n",
    "\n",
    "(y_pred == y[test_idx]).float().mean()\n"
   ]
  },
  {
   "cell_type": "code",
   "execution_count": 6,
   "metadata": {},
   "outputs": [],
   "source": [
    "# Copied from notebook 22\n",
    "\n",
    "def make_link_prediction_dataset(X_embed, pm, adj, add_dists=True):\n",
    "    # Stack embeddings\n",
    "    emb = []\n",
    "    for i in range(len(X_embed)):\n",
    "        for j in range(len(X_embed)):\n",
    "            joint_embed = torch.cat([X_embed[i], X_embed[j]])\n",
    "            emb.append(joint_embed)\n",
    "\n",
    "    X = torch.stack(emb)\n",
    "\n",
    "    # Add distances\n",
    "    if add_dists:\n",
    "        dists = pm.pdist(X_embed)\n",
    "        X = torch.cat([X, dists.flatten().unsqueeze(1)], dim=1)\n",
    "\n",
    "    # y = torch.tensor(adj.flatten())\n",
    "    if not torch.is_tensor(adj):\n",
    "        adj = torch.tensor(adj)\n",
    "    y = adj.flatten()\n",
    "\n",
    "    # Make a new signature\n",
    "    new_sig = pm.signature + pm.signature\n",
    "    if add_dists:\n",
    "        new_sig.append((0, 1))\n",
    "    new_pm = embedders.manifolds.ProductManifold(signature=new_sig)\n",
    "\n",
    "    return X, y, new_pm"
   ]
  },
  {
   "cell_type": "code",
   "execution_count": null,
   "metadata": {},
   "outputs": [],
   "source": []
  },
  {
   "cell_type": "code",
   "execution_count": 17,
   "metadata": {},
   "outputs": [
    {
     "data": {
      "application/vnd.jupyter.widget-view+json": {
       "model_id": "437dca4159cd4513a3eeadddf110a21a",
       "version_major": 2,
       "version_minor": 0
      },
      "text/plain": [
       "  0%|          | 0/50 [00:00<?, ?it/s]"
      ]
     },
     "metadata": {},
     "output_type": "display_data"
    },
    {
     "name": "stdout",
     "output_type": "stream",
     "text": [
      "Top CC has 62 nodes; original graph has 62 nodes.\n"
     ]
    },
    {
     "data": {
      "application/vnd.jupyter.widget-view+json": {
       "model_id": "467dc14e2b654c7aa5770c095b14c45c",
       "version_major": 2,
       "version_minor": 0
      },
      "text/plain": [
       "  0%|          | 0/1000 [00:00<?, ?it/s]"
      ]
     },
     "metadata": {},
     "output_type": "display_data"
    },
    {
     "data": {
      "application/vnd.jupyter.widget-view+json": {
       "model_id": "8c6e0925036549edb4be8b67a8cfcbe1",
       "version_major": 2,
       "version_minor": 0
      },
      "text/plain": [
       "  0%|          | 0/4000 [00:00<?, ?it/s]"
      ]
     },
     "metadata": {},
     "output_type": "display_data"
    },
    {
     "data": {
      "application/vnd.jupyter.widget-view+json": {
       "model_id": "a660daba08954fe1b88a7b2925c1e6aa",
       "version_major": 2,
       "version_minor": 0
      },
      "text/plain": [
       "  0%|          | 0/4000 [00:00<?, ?it/s]"
      ]
     },
     "metadata": {},
     "output_type": "display_data"
    },
    {
     "data": {
      "application/vnd.jupyter.widget-view+json": {
       "model_id": "c00eca9d175c492893b09588d24517ea",
       "version_major": 2,
       "version_minor": 0
      },
      "text/plain": [
       "  0%|          | 0/4000 [00:00<?, ?it/s]"
      ]
     },
     "metadata": {},
     "output_type": "display_data"
    },
    {
     "data": {
      "application/vnd.jupyter.widget-view+json": {
       "model_id": "201b9d8e1bbf452598316b1f0e987422",
       "version_major": 2,
       "version_minor": 0
      },
      "text/plain": [
       "  0%|          | 0/4000 [00:00<?, ?it/s]"
      ]
     },
     "metadata": {},
     "output_type": "display_data"
    },
    {
     "data": {
      "application/vnd.jupyter.widget-view+json": {
       "model_id": "eb22fd9bf5dd4e9bb68f542e0157cd7e",
       "version_major": 2,
       "version_minor": 0
      },
      "text/plain": [
       "  0%|          | 0/1000 [00:00<?, ?it/s]"
      ]
     },
     "metadata": {},
     "output_type": "display_data"
    },
    {
     "data": {
      "application/vnd.jupyter.widget-view+json": {
       "model_id": "a79e840852724768ab7ca18081234b0c",
       "version_major": 2,
       "version_minor": 0
      },
      "text/plain": [
       "  0%|          | 0/4000 [00:00<?, ?it/s]"
      ]
     },
     "metadata": {},
     "output_type": "display_data"
    },
    {
     "data": {
      "application/vnd.jupyter.widget-view+json": {
       "model_id": "a11cba6f7376477fafeabb22045beb0c",
       "version_major": 2,
       "version_minor": 0
      },
      "text/plain": [
       "  0%|          | 0/4000 [00:00<?, ?it/s]"
      ]
     },
     "metadata": {},
     "output_type": "display_data"
    },
    {
     "data": {
      "application/vnd.jupyter.widget-view+json": {
       "model_id": "b30a0398e7214bb3aaab878f7b5774dd",
       "version_major": 2,
       "version_minor": 0
      },
      "text/plain": [
       "  0%|          | 0/4000 [00:00<?, ?it/s]"
      ]
     },
     "metadata": {},
     "output_type": "display_data"
    },
    {
     "data": {
      "application/vnd.jupyter.widget-view+json": {
       "model_id": "d3489b9994b047d7afaf1ee6e291738e",
       "version_major": 2,
       "version_minor": 0
      },
      "text/plain": [
       "  0%|          | 0/4000 [00:00<?, ?it/s]"
      ]
     },
     "metadata": {},
     "output_type": "display_data"
    },
    {
     "data": {
      "application/vnd.jupyter.widget-view+json": {
       "model_id": "b823c9abcb444c97b8e281b4ef009d9d",
       "version_major": 2,
       "version_minor": 0
      },
      "text/plain": [
       "  0%|          | 0/1000 [00:00<?, ?it/s]"
      ]
     },
     "metadata": {},
     "output_type": "display_data"
    },
    {
     "data": {
      "application/vnd.jupyter.widget-view+json": {
       "model_id": "7fbde32ff9aa4030ac4fb5411bdc8f15",
       "version_major": 2,
       "version_minor": 0
      },
      "text/plain": [
       "  0%|          | 0/4000 [00:00<?, ?it/s]"
      ]
     },
     "metadata": {},
     "output_type": "display_data"
    },
    {
     "data": {
      "application/vnd.jupyter.widget-view+json": {
       "model_id": "4a6cbcdfdaae47888f2f54510469e5d4",
       "version_major": 2,
       "version_minor": 0
      },
      "text/plain": [
       "  0%|          | 0/4000 [00:00<?, ?it/s]"
      ]
     },
     "metadata": {},
     "output_type": "display_data"
    },
    {
     "data": {
      "application/vnd.jupyter.widget-view+json": {
       "model_id": "6015cc12978843b1ab31007b5df8b20a",
       "version_major": 2,
       "version_minor": 0
      },
      "text/plain": [
       "  0%|          | 0/4000 [00:00<?, ?it/s]"
      ]
     },
     "metadata": {},
     "output_type": "display_data"
    },
    {
     "data": {
      "application/vnd.jupyter.widget-view+json": {
       "model_id": "b0d6556ea3a04708be57111f78d8356a",
       "version_major": 2,
       "version_minor": 0
      },
      "text/plain": [
       "  0%|          | 0/4000 [00:00<?, ?it/s]"
      ]
     },
     "metadata": {},
     "output_type": "display_data"
    },
    {
     "data": {
      "application/vnd.jupyter.widget-view+json": {
       "model_id": "93f0ea39e8e24268828e9701a191d99f",
       "version_major": 2,
       "version_minor": 0
      },
      "text/plain": [
       "  0%|          | 0/1000 [00:00<?, ?it/s]"
      ]
     },
     "metadata": {},
     "output_type": "display_data"
    },
    {
     "data": {
      "application/vnd.jupyter.widget-view+json": {
       "model_id": "ae426c79cb284808ad4328e1d61b316c",
       "version_major": 2,
       "version_minor": 0
      },
      "text/plain": [
       "  0%|          | 0/4000 [00:00<?, ?it/s]"
      ]
     },
     "metadata": {},
     "output_type": "display_data"
    },
    {
     "data": {
      "application/vnd.jupyter.widget-view+json": {
       "model_id": "71a445a9715247cdadeb29042642e046",
       "version_major": 2,
       "version_minor": 0
      },
      "text/plain": [
       "  0%|          | 0/4000 [00:00<?, ?it/s]"
      ]
     },
     "metadata": {},
     "output_type": "display_data"
    },
    {
     "data": {
      "application/vnd.jupyter.widget-view+json": {
       "model_id": "226fca6bbccc4206b911da7134c87ed3",
       "version_major": 2,
       "version_minor": 0
      },
      "text/plain": [
       "  0%|          | 0/4000 [00:00<?, ?it/s]"
      ]
     },
     "metadata": {},
     "output_type": "display_data"
    },
    {
     "data": {
      "application/vnd.jupyter.widget-view+json": {
       "model_id": "2dd484fc2daa42e085dc653331b7aa64",
       "version_major": 2,
       "version_minor": 0
      },
      "text/plain": [
       "  0%|          | 0/4000 [00:00<?, ?it/s]"
      ]
     },
     "metadata": {},
     "output_type": "display_data"
    },
    {
     "data": {
      "application/vnd.jupyter.widget-view+json": {
       "model_id": "75936466bf8b401199865897f0c14825",
       "version_major": 2,
       "version_minor": 0
      },
      "text/plain": [
       "  0%|          | 0/1000 [00:00<?, ?it/s]"
      ]
     },
     "metadata": {},
     "output_type": "display_data"
    },
    {
     "data": {
      "application/vnd.jupyter.widget-view+json": {
       "model_id": "1089ad7101af480f98bc27276c1c0954",
       "version_major": 2,
       "version_minor": 0
      },
      "text/plain": [
       "  0%|          | 0/4000 [00:00<?, ?it/s]"
      ]
     },
     "metadata": {},
     "output_type": "display_data"
    },
    {
     "data": {
      "application/vnd.jupyter.widget-view+json": {
       "model_id": "5d19b806ab7943e1adef70fe7e8d99a2",
       "version_major": 2,
       "version_minor": 0
      },
      "text/plain": [
       "  0%|          | 0/4000 [00:00<?, ?it/s]"
      ]
     },
     "metadata": {},
     "output_type": "display_data"
    },
    {
     "data": {
      "application/vnd.jupyter.widget-view+json": {
       "model_id": "28318b06161d453eb4afe0778f0a5ae2",
       "version_major": 2,
       "version_minor": 0
      },
      "text/plain": [
       "  0%|          | 0/4000 [00:00<?, ?it/s]"
      ]
     },
     "metadata": {},
     "output_type": "display_data"
    },
    {
     "data": {
      "application/vnd.jupyter.widget-view+json": {
       "model_id": "42be2eecb83c469392dd57262efebfe8",
       "version_major": 2,
       "version_minor": 0
      },
      "text/plain": [
       "  0%|          | 0/4000 [00:00<?, ?it/s]"
      ]
     },
     "metadata": {},
     "output_type": "display_data"
    },
    {
     "data": {
      "application/vnd.jupyter.widget-view+json": {
       "model_id": "9988260cd0f447bf8d6311a201eb6611",
       "version_major": 2,
       "version_minor": 0
      },
      "text/plain": [
       "  0%|          | 0/1000 [00:00<?, ?it/s]"
      ]
     },
     "metadata": {},
     "output_type": "display_data"
    },
    {
     "data": {
      "application/vnd.jupyter.widget-view+json": {
       "model_id": "b430944a00a04661aab1addd0950e345",
       "version_major": 2,
       "version_minor": 0
      },
      "text/plain": [
       "  0%|          | 0/4000 [00:00<?, ?it/s]"
      ]
     },
     "metadata": {},
     "output_type": "display_data"
    },
    {
     "data": {
      "application/vnd.jupyter.widget-view+json": {
       "model_id": "841f7d764ec14ed69b2cf756b796a8a3",
       "version_major": 2,
       "version_minor": 0
      },
      "text/plain": [
       "  0%|          | 0/4000 [00:00<?, ?it/s]"
      ]
     },
     "metadata": {},
     "output_type": "display_data"
    },
    {
     "data": {
      "application/vnd.jupyter.widget-view+json": {
       "model_id": "49844a27a4c9415ea1cbb0c8a1be4e99",
       "version_major": 2,
       "version_minor": 0
      },
      "text/plain": [
       "  0%|          | 0/4000 [00:00<?, ?it/s]"
      ]
     },
     "metadata": {},
     "output_type": "display_data"
    },
    {
     "data": {
      "application/vnd.jupyter.widget-view+json": {
       "model_id": "d8a61887a6734c5893a4a5ef7243a0b3",
       "version_major": 2,
       "version_minor": 0
      },
      "text/plain": [
       "  0%|          | 0/4000 [00:00<?, ?it/s]"
      ]
     },
     "metadata": {},
     "output_type": "display_data"
    },
    {
     "data": {
      "application/vnd.jupyter.widget-view+json": {
       "model_id": "84f00ff1fcbc4752a1ad3d03615fdfeb",
       "version_major": 2,
       "version_minor": 0
      },
      "text/plain": [
       "  0%|          | 0/1000 [00:00<?, ?it/s]"
      ]
     },
     "metadata": {},
     "output_type": "display_data"
    },
    {
     "data": {
      "application/vnd.jupyter.widget-view+json": {
       "model_id": "f3d00b8105974d4abcd51d9eabad16e7",
       "version_major": 2,
       "version_minor": 0
      },
      "text/plain": [
       "  0%|          | 0/4000 [00:00<?, ?it/s]"
      ]
     },
     "metadata": {},
     "output_type": "display_data"
    },
    {
     "data": {
      "application/vnd.jupyter.widget-view+json": {
       "model_id": "bfa89f22675e4d2fa46a874dba38cd96",
       "version_major": 2,
       "version_minor": 0
      },
      "text/plain": [
       "  0%|          | 0/4000 [00:00<?, ?it/s]"
      ]
     },
     "metadata": {},
     "output_type": "display_data"
    },
    {
     "data": {
      "application/vnd.jupyter.widget-view+json": {
       "model_id": "4ba2147cff4446c2bc84deca44a321ea",
       "version_major": 2,
       "version_minor": 0
      },
      "text/plain": [
       "  0%|          | 0/4000 [00:00<?, ?it/s]"
      ]
     },
     "metadata": {},
     "output_type": "display_data"
    },
    {
     "data": {
      "application/vnd.jupyter.widget-view+json": {
       "model_id": "9a2fb7c7601f4b97a6b85539f34eaeeb",
       "version_major": 2,
       "version_minor": 0
      },
      "text/plain": [
       "  0%|          | 0/4000 [00:00<?, ?it/s]"
      ]
     },
     "metadata": {},
     "output_type": "display_data"
    },
    {
     "data": {
      "application/vnd.jupyter.widget-view+json": {
       "model_id": "000b6fd330c74b2f84a5c29ca2b72fc1",
       "version_major": 2,
       "version_minor": 0
      },
      "text/plain": [
       "  0%|          | 0/1000 [00:00<?, ?it/s]"
      ]
     },
     "metadata": {},
     "output_type": "display_data"
    },
    {
     "data": {
      "application/vnd.jupyter.widget-view+json": {
       "model_id": "cc39ac53d7544ae39be3608bef71dd5a",
       "version_major": 2,
       "version_minor": 0
      },
      "text/plain": [
       "  0%|          | 0/4000 [00:00<?, ?it/s]"
      ]
     },
     "metadata": {},
     "output_type": "display_data"
    },
    {
     "data": {
      "application/vnd.jupyter.widget-view+json": {
       "model_id": "5f178cb5f1b54c918057de2b1b999aa1",
       "version_major": 2,
       "version_minor": 0
      },
      "text/plain": [
       "  0%|          | 0/4000 [00:00<?, ?it/s]"
      ]
     },
     "metadata": {},
     "output_type": "display_data"
    },
    {
     "data": {
      "application/vnd.jupyter.widget-view+json": {
       "model_id": "5a4ef7a8cec14384a21a438ee1c4f5f5",
       "version_major": 2,
       "version_minor": 0
      },
      "text/plain": [
       "  0%|          | 0/4000 [00:00<?, ?it/s]"
      ]
     },
     "metadata": {},
     "output_type": "display_data"
    },
    {
     "data": {
      "application/vnd.jupyter.widget-view+json": {
       "model_id": "badce340fc9a4f0085341572d4efb37d",
       "version_major": 2,
       "version_minor": 0
      },
      "text/plain": [
       "  0%|          | 0/4000 [00:00<?, ?it/s]"
      ]
     },
     "metadata": {},
     "output_type": "display_data"
    },
    {
     "data": {
      "application/vnd.jupyter.widget-view+json": {
       "model_id": "a935c45b2a19429eb0db86dee89f3c51",
       "version_major": 2,
       "version_minor": 0
      },
      "text/plain": [
       "  0%|          | 0/1000 [00:00<?, ?it/s]"
      ]
     },
     "metadata": {},
     "output_type": "display_data"
    },
    {
     "data": {
      "application/vnd.jupyter.widget-view+json": {
       "model_id": "f33c952e184a4116b49f7fa5d70d20f9",
       "version_major": 2,
       "version_minor": 0
      },
      "text/plain": [
       "  0%|          | 0/4000 [00:00<?, ?it/s]"
      ]
     },
     "metadata": {},
     "output_type": "display_data"
    },
    {
     "data": {
      "application/vnd.jupyter.widget-view+json": {
       "model_id": "affea147390744568b14aa1deeb92451",
       "version_major": 2,
       "version_minor": 0
      },
      "text/plain": [
       "  0%|          | 0/4000 [00:00<?, ?it/s]"
      ]
     },
     "metadata": {},
     "output_type": "display_data"
    },
    {
     "data": {
      "application/vnd.jupyter.widget-view+json": {
       "model_id": "2d781ec1cc9b4256b64293ce6d4462b3",
       "version_major": 2,
       "version_minor": 0
      },
      "text/plain": [
       "  0%|          | 0/4000 [00:00<?, ?it/s]"
      ]
     },
     "metadata": {},
     "output_type": "display_data"
    },
    {
     "data": {
      "application/vnd.jupyter.widget-view+json": {
       "model_id": "93b51fb7333b43e6803a92f2d9d8dc8d",
       "version_major": 2,
       "version_minor": 0
      },
      "text/plain": [
       "  0%|          | 0/4000 [00:00<?, ?it/s]"
      ]
     },
     "metadata": {},
     "output_type": "display_data"
    },
    {
     "data": {
      "application/vnd.jupyter.widget-view+json": {
       "model_id": "b058253dfcc046daab8e7774acac7b66",
       "version_major": 2,
       "version_minor": 0
      },
      "text/plain": [
       "  0%|          | 0/1000 [00:00<?, ?it/s]"
      ]
     },
     "metadata": {},
     "output_type": "display_data"
    },
    {
     "data": {
      "application/vnd.jupyter.widget-view+json": {
       "model_id": "b7856d41a31f46219def2e31d3e4da7c",
       "version_major": 2,
       "version_minor": 0
      },
      "text/plain": [
       "  0%|          | 0/4000 [00:00<?, ?it/s]"
      ]
     },
     "metadata": {},
     "output_type": "display_data"
    },
    {
     "data": {
      "application/vnd.jupyter.widget-view+json": {
       "model_id": "fbd0ba521d254506835744e9558eab31",
       "version_major": 2,
       "version_minor": 0
      },
      "text/plain": [
       "  0%|          | 0/4000 [00:00<?, ?it/s]"
      ]
     },
     "metadata": {},
     "output_type": "display_data"
    },
    {
     "data": {
      "application/vnd.jupyter.widget-view+json": {
       "model_id": "6761bf7299e3430d9f6acd6266e4a33f",
       "version_major": 2,
       "version_minor": 0
      },
      "text/plain": [
       "  0%|          | 0/4000 [00:00<?, ?it/s]"
      ]
     },
     "metadata": {},
     "output_type": "display_data"
    },
    {
     "data": {
      "application/vnd.jupyter.widget-view+json": {
       "model_id": "48a73f7408c04129b7292a9dfa806801",
       "version_major": 2,
       "version_minor": 0
      },
      "text/plain": [
       "  0%|          | 0/4000 [00:00<?, ?it/s]"
      ]
     },
     "metadata": {},
     "output_type": "display_data"
    },
    {
     "name": "stdout",
     "output_type": "stream",
     "text": [
      "Top CC has 35 nodes; original graph has 35 nodes.\n"
     ]
    },
    {
     "data": {
      "application/vnd.jupyter.widget-view+json": {
       "model_id": "bef7bf90e1194b1e9fbb09ed89e0a462",
       "version_major": 2,
       "version_minor": 0
      },
      "text/plain": [
       "  0%|          | 0/1000 [00:00<?, ?it/s]"
      ]
     },
     "metadata": {},
     "output_type": "display_data"
    },
    {
     "data": {
      "application/vnd.jupyter.widget-view+json": {
       "model_id": "514ad1fefbde46608b254baa58e570f1",
       "version_major": 2,
       "version_minor": 0
      },
      "text/plain": [
       "  0%|          | 0/4000 [00:00<?, ?it/s]"
      ]
     },
     "metadata": {},
     "output_type": "display_data"
    },
    {
     "data": {
      "application/vnd.jupyter.widget-view+json": {
       "model_id": "10fa230037d74b358dfc09c240e9eca0",
       "version_major": 2,
       "version_minor": 0
      },
      "text/plain": [
       "  0%|          | 0/4000 [00:00<?, ?it/s]"
      ]
     },
     "metadata": {},
     "output_type": "display_data"
    },
    {
     "data": {
      "application/vnd.jupyter.widget-view+json": {
       "model_id": "64dfbe5b993a45c8a3841f5c1b211e74",
       "version_major": 2,
       "version_minor": 0
      },
      "text/plain": [
       "  0%|          | 0/4000 [00:00<?, ?it/s]"
      ]
     },
     "metadata": {},
     "output_type": "display_data"
    },
    {
     "data": {
      "application/vnd.jupyter.widget-view+json": {
       "model_id": "d320f6e4cc974da1a591e3e3fca68eab",
       "version_major": 2,
       "version_minor": 0
      },
      "text/plain": [
       "  0%|          | 0/4000 [00:00<?, ?it/s]"
      ]
     },
     "metadata": {},
     "output_type": "display_data"
    },
    {
     "data": {
      "application/vnd.jupyter.widget-view+json": {
       "model_id": "ef09da2c40e24113879478c4abf8c57c",
       "version_major": 2,
       "version_minor": 0
      },
      "text/plain": [
       "  0%|          | 0/1000 [00:00<?, ?it/s]"
      ]
     },
     "metadata": {},
     "output_type": "display_data"
    },
    {
     "data": {
      "application/vnd.jupyter.widget-view+json": {
       "model_id": "5e29041b7c06409ea9f692956064518d",
       "version_major": 2,
       "version_minor": 0
      },
      "text/plain": [
       "  0%|          | 0/4000 [00:00<?, ?it/s]"
      ]
     },
     "metadata": {},
     "output_type": "display_data"
    },
    {
     "data": {
      "application/vnd.jupyter.widget-view+json": {
       "model_id": "c4cd2e128a0b449295a9af5af285af9c",
       "version_major": 2,
       "version_minor": 0
      },
      "text/plain": [
       "  0%|          | 0/4000 [00:00<?, ?it/s]"
      ]
     },
     "metadata": {},
     "output_type": "display_data"
    },
    {
     "data": {
      "application/vnd.jupyter.widget-view+json": {
       "model_id": "5a48146a0aa2455da3cd8663f58bd753",
       "version_major": 2,
       "version_minor": 0
      },
      "text/plain": [
       "  0%|          | 0/4000 [00:00<?, ?it/s]"
      ]
     },
     "metadata": {},
     "output_type": "display_data"
    },
    {
     "data": {
      "application/vnd.jupyter.widget-view+json": {
       "model_id": "7612ab77f4df418684923de5f657624c",
       "version_major": 2,
       "version_minor": 0
      },
      "text/plain": [
       "  0%|          | 0/4000 [00:00<?, ?it/s]"
      ]
     },
     "metadata": {},
     "output_type": "display_data"
    },
    {
     "data": {
      "application/vnd.jupyter.widget-view+json": {
       "model_id": "b661a12aa0db4964845b9de28a282e05",
       "version_major": 2,
       "version_minor": 0
      },
      "text/plain": [
       "  0%|          | 0/1000 [00:00<?, ?it/s]"
      ]
     },
     "metadata": {},
     "output_type": "display_data"
    },
    {
     "data": {
      "application/vnd.jupyter.widget-view+json": {
       "model_id": "caae283fed644a69ace17c963783d22c",
       "version_major": 2,
       "version_minor": 0
      },
      "text/plain": [
       "  0%|          | 0/4000 [00:00<?, ?it/s]"
      ]
     },
     "metadata": {},
     "output_type": "display_data"
    },
    {
     "data": {
      "application/vnd.jupyter.widget-view+json": {
       "model_id": "bc9f86784ab648339c6b8a1c369aaf37",
       "version_major": 2,
       "version_minor": 0
      },
      "text/plain": [
       "  0%|          | 0/4000 [00:00<?, ?it/s]"
      ]
     },
     "metadata": {},
     "output_type": "display_data"
    },
    {
     "data": {
      "application/vnd.jupyter.widget-view+json": {
       "model_id": "18476b74a44c450b8605c35b4c184cc4",
       "version_major": 2,
       "version_minor": 0
      },
      "text/plain": [
       "  0%|          | 0/4000 [00:00<?, ?it/s]"
      ]
     },
     "metadata": {},
     "output_type": "display_data"
    },
    {
     "data": {
      "application/vnd.jupyter.widget-view+json": {
       "model_id": "970ae6babe724ff180cc5d20aa3e0b08",
       "version_major": 2,
       "version_minor": 0
      },
      "text/plain": [
       "  0%|          | 0/4000 [00:00<?, ?it/s]"
      ]
     },
     "metadata": {},
     "output_type": "display_data"
    },
    {
     "data": {
      "application/vnd.jupyter.widget-view+json": {
       "model_id": "63a8471eb7084ee4940f389499165dbf",
       "version_major": 2,
       "version_minor": 0
      },
      "text/plain": [
       "  0%|          | 0/1000 [00:00<?, ?it/s]"
      ]
     },
     "metadata": {},
     "output_type": "display_data"
    },
    {
     "data": {
      "application/vnd.jupyter.widget-view+json": {
       "model_id": "e32fa57a74c8446b89ee4d060b934701",
       "version_major": 2,
       "version_minor": 0
      },
      "text/plain": [
       "  0%|          | 0/4000 [00:00<?, ?it/s]"
      ]
     },
     "metadata": {},
     "output_type": "display_data"
    },
    {
     "data": {
      "application/vnd.jupyter.widget-view+json": {
       "model_id": "95808df96f444f04bc2cd8593a32bb3d",
       "version_major": 2,
       "version_minor": 0
      },
      "text/plain": [
       "  0%|          | 0/4000 [00:00<?, ?it/s]"
      ]
     },
     "metadata": {},
     "output_type": "display_data"
    },
    {
     "data": {
      "application/vnd.jupyter.widget-view+json": {
       "model_id": "ba8bbac38f784717b3059cfd7e074dae",
       "version_major": 2,
       "version_minor": 0
      },
      "text/plain": [
       "  0%|          | 0/4000 [00:00<?, ?it/s]"
      ]
     },
     "metadata": {},
     "output_type": "display_data"
    },
    {
     "data": {
      "application/vnd.jupyter.widget-view+json": {
       "model_id": "44ff697aa0c74effa892e427ee485a13",
       "version_major": 2,
       "version_minor": 0
      },
      "text/plain": [
       "  0%|          | 0/4000 [00:00<?, ?it/s]"
      ]
     },
     "metadata": {},
     "output_type": "display_data"
    },
    {
     "data": {
      "application/vnd.jupyter.widget-view+json": {
       "model_id": "67b6555b65ed47429acbeca2ac7e7aa9",
       "version_major": 2,
       "version_minor": 0
      },
      "text/plain": [
       "  0%|          | 0/1000 [00:00<?, ?it/s]"
      ]
     },
     "metadata": {},
     "output_type": "display_data"
    },
    {
     "data": {
      "application/vnd.jupyter.widget-view+json": {
       "model_id": "8886f706425a4f4e91e64d82a4086dbd",
       "version_major": 2,
       "version_minor": 0
      },
      "text/plain": [
       "  0%|          | 0/4000 [00:00<?, ?it/s]"
      ]
     },
     "metadata": {},
     "output_type": "display_data"
    },
    {
     "data": {
      "application/vnd.jupyter.widget-view+json": {
       "model_id": "179a42bdf77c49f18108647f754d90fa",
       "version_major": 2,
       "version_minor": 0
      },
      "text/plain": [
       "  0%|          | 0/4000 [00:00<?, ?it/s]"
      ]
     },
     "metadata": {},
     "output_type": "display_data"
    },
    {
     "data": {
      "application/vnd.jupyter.widget-view+json": {
       "model_id": "b7b166dcb44b4311bfaee2a3ce05229e",
       "version_major": 2,
       "version_minor": 0
      },
      "text/plain": [
       "  0%|          | 0/4000 [00:00<?, ?it/s]"
      ]
     },
     "metadata": {},
     "output_type": "display_data"
    },
    {
     "data": {
      "application/vnd.jupyter.widget-view+json": {
       "model_id": "cfc79fcd9b7449ee8f683daa5e205c3c",
       "version_major": 2,
       "version_minor": 0
      },
      "text/plain": [
       "  0%|          | 0/4000 [00:00<?, ?it/s]"
      ]
     },
     "metadata": {},
     "output_type": "display_data"
    },
    {
     "data": {
      "application/vnd.jupyter.widget-view+json": {
       "model_id": "08e40949d6b6473fb88928c3edce7166",
       "version_major": 2,
       "version_minor": 0
      },
      "text/plain": [
       "  0%|          | 0/1000 [00:00<?, ?it/s]"
      ]
     },
     "metadata": {},
     "output_type": "display_data"
    },
    {
     "data": {
      "application/vnd.jupyter.widget-view+json": {
       "model_id": "eafa68384a504409919ad4416c059b53",
       "version_major": 2,
       "version_minor": 0
      },
      "text/plain": [
       "  0%|          | 0/4000 [00:00<?, ?it/s]"
      ]
     },
     "metadata": {},
     "output_type": "display_data"
    },
    {
     "data": {
      "application/vnd.jupyter.widget-view+json": {
       "model_id": "735a268043cf4027b7701c80c31887fd",
       "version_major": 2,
       "version_minor": 0
      },
      "text/plain": [
       "  0%|          | 0/4000 [00:00<?, ?it/s]"
      ]
     },
     "metadata": {},
     "output_type": "display_data"
    },
    {
     "data": {
      "application/vnd.jupyter.widget-view+json": {
       "model_id": "963716525b5c464db11a6f992a89dfa5",
       "version_major": 2,
       "version_minor": 0
      },
      "text/plain": [
       "  0%|          | 0/4000 [00:00<?, ?it/s]"
      ]
     },
     "metadata": {},
     "output_type": "display_data"
    },
    {
     "data": {
      "application/vnd.jupyter.widget-view+json": {
       "model_id": "bbcf7cda7d1e41c58d0acf63cf00c284",
       "version_major": 2,
       "version_minor": 0
      },
      "text/plain": [
       "  0%|          | 0/4000 [00:00<?, ?it/s]"
      ]
     },
     "metadata": {},
     "output_type": "display_data"
    },
    {
     "data": {
      "application/vnd.jupyter.widget-view+json": {
       "model_id": "71f98290322c4be28e28fe309270d60c",
       "version_major": 2,
       "version_minor": 0
      },
      "text/plain": [
       "  0%|          | 0/1000 [00:00<?, ?it/s]"
      ]
     },
     "metadata": {},
     "output_type": "display_data"
    },
    {
     "data": {
      "application/vnd.jupyter.widget-view+json": {
       "model_id": "46a773c888c9441485d97be6bbe409b1",
       "version_major": 2,
       "version_minor": 0
      },
      "text/plain": [
       "  0%|          | 0/4000 [00:00<?, ?it/s]"
      ]
     },
     "metadata": {},
     "output_type": "display_data"
    },
    {
     "data": {
      "application/vnd.jupyter.widget-view+json": {
       "model_id": "33941587083445fbb13fb518332ff820",
       "version_major": 2,
       "version_minor": 0
      },
      "text/plain": [
       "  0%|          | 0/4000 [00:00<?, ?it/s]"
      ]
     },
     "metadata": {},
     "output_type": "display_data"
    },
    {
     "data": {
      "application/vnd.jupyter.widget-view+json": {
       "model_id": "441b518425534789aa265a0f7a30678d",
       "version_major": 2,
       "version_minor": 0
      },
      "text/plain": [
       "  0%|          | 0/4000 [00:00<?, ?it/s]"
      ]
     },
     "metadata": {},
     "output_type": "display_data"
    },
    {
     "data": {
      "application/vnd.jupyter.widget-view+json": {
       "model_id": "f8ddd44c8adf4b7cac0d2c3c897901c9",
       "version_major": 2,
       "version_minor": 0
      },
      "text/plain": [
       "  0%|          | 0/4000 [00:00<?, ?it/s]"
      ]
     },
     "metadata": {},
     "output_type": "display_data"
    },
    {
     "data": {
      "application/vnd.jupyter.widget-view+json": {
       "model_id": "bde4fadb0f4443b3b4ebaa22c117e9da",
       "version_major": 2,
       "version_minor": 0
      },
      "text/plain": [
       "  0%|          | 0/1000 [00:00<?, ?it/s]"
      ]
     },
     "metadata": {},
     "output_type": "display_data"
    },
    {
     "data": {
      "application/vnd.jupyter.widget-view+json": {
       "model_id": "d5ddbad662af476682d51aeebb2af789",
       "version_major": 2,
       "version_minor": 0
      },
      "text/plain": [
       "  0%|          | 0/4000 [00:00<?, ?it/s]"
      ]
     },
     "metadata": {},
     "output_type": "display_data"
    },
    {
     "data": {
      "application/vnd.jupyter.widget-view+json": {
       "model_id": "758f7dbbe6fd4849a00d746fac9bbf87",
       "version_major": 2,
       "version_minor": 0
      },
      "text/plain": [
       "  0%|          | 0/4000 [00:00<?, ?it/s]"
      ]
     },
     "metadata": {},
     "output_type": "display_data"
    },
    {
     "data": {
      "application/vnd.jupyter.widget-view+json": {
       "model_id": "d0e9614241474059a70bf9a7486caa7c",
       "version_major": 2,
       "version_minor": 0
      },
      "text/plain": [
       "  0%|          | 0/4000 [00:00<?, ?it/s]"
      ]
     },
     "metadata": {},
     "output_type": "display_data"
    },
    {
     "data": {
      "application/vnd.jupyter.widget-view+json": {
       "model_id": "28f64c74cf37441fb00bed5cc0fba7f5",
       "version_major": 2,
       "version_minor": 0
      },
      "text/plain": [
       "  0%|          | 0/4000 [00:00<?, ?it/s]"
      ]
     },
     "metadata": {},
     "output_type": "display_data"
    },
    {
     "data": {
      "application/vnd.jupyter.widget-view+json": {
       "model_id": "492870d49f9e495a809b6a208480f750",
       "version_major": 2,
       "version_minor": 0
      },
      "text/plain": [
       "  0%|          | 0/1000 [00:00<?, ?it/s]"
      ]
     },
     "metadata": {},
     "output_type": "display_data"
    },
    {
     "data": {
      "application/vnd.jupyter.widget-view+json": {
       "model_id": "c593b7109eff4f5ba0376a27b2fc27f7",
       "version_major": 2,
       "version_minor": 0
      },
      "text/plain": [
       "  0%|          | 0/4000 [00:00<?, ?it/s]"
      ]
     },
     "metadata": {},
     "output_type": "display_data"
    },
    {
     "data": {
      "application/vnd.jupyter.widget-view+json": {
       "model_id": "9ee59f96beef4c35ab9793b6cfd1bca3",
       "version_major": 2,
       "version_minor": 0
      },
      "text/plain": [
       "  0%|          | 0/4000 [00:00<?, ?it/s]"
      ]
     },
     "metadata": {},
     "output_type": "display_data"
    },
    {
     "data": {
      "application/vnd.jupyter.widget-view+json": {
       "model_id": "30e4b51f92c2474880da779c3fbda06b",
       "version_major": 2,
       "version_minor": 0
      },
      "text/plain": [
       "  0%|          | 0/4000 [00:00<?, ?it/s]"
      ]
     },
     "metadata": {},
     "output_type": "display_data"
    },
    {
     "data": {
      "application/vnd.jupyter.widget-view+json": {
       "model_id": "476ab59b1a51420ea7700d3b7246c2a2",
       "version_major": 2,
       "version_minor": 0
      },
      "text/plain": [
       "  0%|          | 0/4000 [00:00<?, ?it/s]"
      ]
     },
     "metadata": {},
     "output_type": "display_data"
    },
    {
     "data": {
      "application/vnd.jupyter.widget-view+json": {
       "model_id": "3987f7ef935e4398ae05dbed02e6f73c",
       "version_major": 2,
       "version_minor": 0
      },
      "text/plain": [
       "  0%|          | 0/1000 [00:00<?, ?it/s]"
      ]
     },
     "metadata": {},
     "output_type": "display_data"
    },
    {
     "data": {
      "application/vnd.jupyter.widget-view+json": {
       "model_id": "0554b8e989f54a07989e2041ff605e83",
       "version_major": 2,
       "version_minor": 0
      },
      "text/plain": [
       "  0%|          | 0/4000 [00:00<?, ?it/s]"
      ]
     },
     "metadata": {},
     "output_type": "display_data"
    },
    {
     "data": {
      "application/vnd.jupyter.widget-view+json": {
       "model_id": "d7d3e6273e7448c2b0518b9ac0a96e06",
       "version_major": 2,
       "version_minor": 0
      },
      "text/plain": [
       "  0%|          | 0/4000 [00:00<?, ?it/s]"
      ]
     },
     "metadata": {},
     "output_type": "display_data"
    },
    {
     "data": {
      "application/vnd.jupyter.widget-view+json": {
       "model_id": "85f1b3f0c77f4ea9b46d94cc3f22420f",
       "version_major": 2,
       "version_minor": 0
      },
      "text/plain": [
       "  0%|          | 0/4000 [00:00<?, ?it/s]"
      ]
     },
     "metadata": {},
     "output_type": "display_data"
    },
    {
     "data": {
      "application/vnd.jupyter.widget-view+json": {
       "model_id": "ac60b81f2382466fad7f37bad2f0acd1",
       "version_major": 2,
       "version_minor": 0
      },
      "text/plain": [
       "  0%|          | 0/4000 [00:00<?, ?it/s]"
      ]
     },
     "metadata": {},
     "output_type": "display_data"
    },
    {
     "name": "stdout",
     "output_type": "stream",
     "text": [
      "Top CC has 34 nodes; original graph has 34 nodes.\n"
     ]
    },
    {
     "data": {
      "application/vnd.jupyter.widget-view+json": {
       "model_id": "aa87af9b1a1c4071b96c524ee35f808f",
       "version_major": 2,
       "version_minor": 0
      },
      "text/plain": [
       "  0%|          | 0/1000 [00:00<?, ?it/s]"
      ]
     },
     "metadata": {},
     "output_type": "display_data"
    },
    {
     "data": {
      "application/vnd.jupyter.widget-view+json": {
       "model_id": "5e3ed899d43b4627bc8a724b895bb5b8",
       "version_major": 2,
       "version_minor": 0
      },
      "text/plain": [
       "  0%|          | 0/4000 [00:00<?, ?it/s]"
      ]
     },
     "metadata": {},
     "output_type": "display_data"
    },
    {
     "data": {
      "application/vnd.jupyter.widget-view+json": {
       "model_id": "14d523d32830494986f4135ed1be4da3",
       "version_major": 2,
       "version_minor": 0
      },
      "text/plain": [
       "  0%|          | 0/4000 [00:00<?, ?it/s]"
      ]
     },
     "metadata": {},
     "output_type": "display_data"
    },
    {
     "data": {
      "application/vnd.jupyter.widget-view+json": {
       "model_id": "f46b70e1620d4a54abf8d2003fb658e7",
       "version_major": 2,
       "version_minor": 0
      },
      "text/plain": [
       "  0%|          | 0/4000 [00:00<?, ?it/s]"
      ]
     },
     "metadata": {},
     "output_type": "display_data"
    },
    {
     "data": {
      "application/vnd.jupyter.widget-view+json": {
       "model_id": "939bc26f26af4631b82c8064bd7051a3",
       "version_major": 2,
       "version_minor": 0
      },
      "text/plain": [
       "  0%|          | 0/4000 [00:00<?, ?it/s]"
      ]
     },
     "metadata": {},
     "output_type": "display_data"
    },
    {
     "data": {
      "application/vnd.jupyter.widget-view+json": {
       "model_id": "b634ed32fa2f46d4b7255cfde8fc0c65",
       "version_major": 2,
       "version_minor": 0
      },
      "text/plain": [
       "  0%|          | 0/1000 [00:00<?, ?it/s]"
      ]
     },
     "metadata": {},
     "output_type": "display_data"
    },
    {
     "data": {
      "application/vnd.jupyter.widget-view+json": {
       "model_id": "37390345a27347f99d8d50f8c4e108d8",
       "version_major": 2,
       "version_minor": 0
      },
      "text/plain": [
       "  0%|          | 0/4000 [00:00<?, ?it/s]"
      ]
     },
     "metadata": {},
     "output_type": "display_data"
    },
    {
     "data": {
      "application/vnd.jupyter.widget-view+json": {
       "model_id": "d61cb1f75fa849f3a37237f584b28073",
       "version_major": 2,
       "version_minor": 0
      },
      "text/plain": [
       "  0%|          | 0/4000 [00:00<?, ?it/s]"
      ]
     },
     "metadata": {},
     "output_type": "display_data"
    },
    {
     "data": {
      "application/vnd.jupyter.widget-view+json": {
       "model_id": "ad93e61e10eb4c7ca8bebfba8584e052",
       "version_major": 2,
       "version_minor": 0
      },
      "text/plain": [
       "  0%|          | 0/4000 [00:00<?, ?it/s]"
      ]
     },
     "metadata": {},
     "output_type": "display_data"
    },
    {
     "data": {
      "application/vnd.jupyter.widget-view+json": {
       "model_id": "f620db717ad24629a6e448295cd20184",
       "version_major": 2,
       "version_minor": 0
      },
      "text/plain": [
       "  0%|          | 0/4000 [00:00<?, ?it/s]"
      ]
     },
     "metadata": {},
     "output_type": "display_data"
    },
    {
     "data": {
      "application/vnd.jupyter.widget-view+json": {
       "model_id": "cb6878b5f1bd4304afcade0169827c05",
       "version_major": 2,
       "version_minor": 0
      },
      "text/plain": [
       "  0%|          | 0/1000 [00:00<?, ?it/s]"
      ]
     },
     "metadata": {},
     "output_type": "display_data"
    },
    {
     "data": {
      "application/vnd.jupyter.widget-view+json": {
       "model_id": "329c7484a1dd484085dd0c2905a5a1da",
       "version_major": 2,
       "version_minor": 0
      },
      "text/plain": [
       "  0%|          | 0/4000 [00:00<?, ?it/s]"
      ]
     },
     "metadata": {},
     "output_type": "display_data"
    },
    {
     "data": {
      "application/vnd.jupyter.widget-view+json": {
       "model_id": "c40d481b6bbb468b95840da4a966cbcb",
       "version_major": 2,
       "version_minor": 0
      },
      "text/plain": [
       "  0%|          | 0/4000 [00:00<?, ?it/s]"
      ]
     },
     "metadata": {},
     "output_type": "display_data"
    },
    {
     "data": {
      "application/vnd.jupyter.widget-view+json": {
       "model_id": "0e2ea8fd42dc4dba94afa3cc2807b100",
       "version_major": 2,
       "version_minor": 0
      },
      "text/plain": [
       "  0%|          | 0/4000 [00:00<?, ?it/s]"
      ]
     },
     "metadata": {},
     "output_type": "display_data"
    },
    {
     "data": {
      "application/vnd.jupyter.widget-view+json": {
       "model_id": "85865772356540bb86d767d4305b016e",
       "version_major": 2,
       "version_minor": 0
      },
      "text/plain": [
       "  0%|          | 0/4000 [00:00<?, ?it/s]"
      ]
     },
     "metadata": {},
     "output_type": "display_data"
    },
    {
     "data": {
      "application/vnd.jupyter.widget-view+json": {
       "model_id": "7eabcaa74a7742769280a0a7bff41004",
       "version_major": 2,
       "version_minor": 0
      },
      "text/plain": [
       "  0%|          | 0/1000 [00:00<?, ?it/s]"
      ]
     },
     "metadata": {},
     "output_type": "display_data"
    },
    {
     "data": {
      "application/vnd.jupyter.widget-view+json": {
       "model_id": "21ac9a71ca334f04ac9b497d8c07d1a5",
       "version_major": 2,
       "version_minor": 0
      },
      "text/plain": [
       "  0%|          | 0/4000 [00:00<?, ?it/s]"
      ]
     },
     "metadata": {},
     "output_type": "display_data"
    },
    {
     "data": {
      "application/vnd.jupyter.widget-view+json": {
       "model_id": "464581b9f6f841179e191e7e555d7bf4",
       "version_major": 2,
       "version_minor": 0
      },
      "text/plain": [
       "  0%|          | 0/4000 [00:00<?, ?it/s]"
      ]
     },
     "metadata": {},
     "output_type": "display_data"
    },
    {
     "data": {
      "application/vnd.jupyter.widget-view+json": {
       "model_id": "991238d522304829a0a43723532f13f4",
       "version_major": 2,
       "version_minor": 0
      },
      "text/plain": [
       "  0%|          | 0/4000 [00:00<?, ?it/s]"
      ]
     },
     "metadata": {},
     "output_type": "display_data"
    },
    {
     "data": {
      "application/vnd.jupyter.widget-view+json": {
       "model_id": "dbc4f65eb4554948bfb1be501cc01414",
       "version_major": 2,
       "version_minor": 0
      },
      "text/plain": [
       "  0%|          | 0/4000 [00:00<?, ?it/s]"
      ]
     },
     "metadata": {},
     "output_type": "display_data"
    },
    {
     "data": {
      "application/vnd.jupyter.widget-view+json": {
       "model_id": "7a0be0aaec254eccb5bb2cf27625c27b",
       "version_major": 2,
       "version_minor": 0
      },
      "text/plain": [
       "  0%|          | 0/1000 [00:00<?, ?it/s]"
      ]
     },
     "metadata": {},
     "output_type": "display_data"
    },
    {
     "data": {
      "application/vnd.jupyter.widget-view+json": {
       "model_id": "db4518d0ed284452986db99cb7ee6dbc",
       "version_major": 2,
       "version_minor": 0
      },
      "text/plain": [
       "  0%|          | 0/4000 [00:00<?, ?it/s]"
      ]
     },
     "metadata": {},
     "output_type": "display_data"
    },
    {
     "data": {
      "application/vnd.jupyter.widget-view+json": {
       "model_id": "f821153d66ae4a11904bc4c9d9e33540",
       "version_major": 2,
       "version_minor": 0
      },
      "text/plain": [
       "  0%|          | 0/4000 [00:00<?, ?it/s]"
      ]
     },
     "metadata": {},
     "output_type": "display_data"
    },
    {
     "data": {
      "application/vnd.jupyter.widget-view+json": {
       "model_id": "98c66a58f7814a549aff33e0ea054172",
       "version_major": 2,
       "version_minor": 0
      },
      "text/plain": [
       "  0%|          | 0/4000 [00:00<?, ?it/s]"
      ]
     },
     "metadata": {},
     "output_type": "display_data"
    },
    {
     "data": {
      "application/vnd.jupyter.widget-view+json": {
       "model_id": "ced1735596ba4d67a0cecae545af7e40",
       "version_major": 2,
       "version_minor": 0
      },
      "text/plain": [
       "  0%|          | 0/4000 [00:00<?, ?it/s]"
      ]
     },
     "metadata": {},
     "output_type": "display_data"
    },
    {
     "data": {
      "application/vnd.jupyter.widget-view+json": {
       "model_id": "7d6a5e2f79af408ca79cb7edc1d0c08d",
       "version_major": 2,
       "version_minor": 0
      },
      "text/plain": [
       "  0%|          | 0/1000 [00:00<?, ?it/s]"
      ]
     },
     "metadata": {},
     "output_type": "display_data"
    },
    {
     "data": {
      "application/vnd.jupyter.widget-view+json": {
       "model_id": "be6fe2bfa3654fdf80074f10797aa117",
       "version_major": 2,
       "version_minor": 0
      },
      "text/plain": [
       "  0%|          | 0/4000 [00:00<?, ?it/s]"
      ]
     },
     "metadata": {},
     "output_type": "display_data"
    },
    {
     "data": {
      "application/vnd.jupyter.widget-view+json": {
       "model_id": "ff8300e9804e49e58e595a7d3958c431",
       "version_major": 2,
       "version_minor": 0
      },
      "text/plain": [
       "  0%|          | 0/4000 [00:00<?, ?it/s]"
      ]
     },
     "metadata": {},
     "output_type": "display_data"
    },
    {
     "data": {
      "application/vnd.jupyter.widget-view+json": {
       "model_id": "966977d328a64039aedfb5e136fd83c8",
       "version_major": 2,
       "version_minor": 0
      },
      "text/plain": [
       "  0%|          | 0/4000 [00:00<?, ?it/s]"
      ]
     },
     "metadata": {},
     "output_type": "display_data"
    },
    {
     "data": {
      "application/vnd.jupyter.widget-view+json": {
       "model_id": "8e959ede36274cc7bf14ceae8ffc9198",
       "version_major": 2,
       "version_minor": 0
      },
      "text/plain": [
       "  0%|          | 0/4000 [00:00<?, ?it/s]"
      ]
     },
     "metadata": {},
     "output_type": "display_data"
    },
    {
     "data": {
      "application/vnd.jupyter.widget-view+json": {
       "model_id": "66328bb441934a70b5c9e657544ecbd6",
       "version_major": 2,
       "version_minor": 0
      },
      "text/plain": [
       "  0%|          | 0/1000 [00:00<?, ?it/s]"
      ]
     },
     "metadata": {},
     "output_type": "display_data"
    },
    {
     "data": {
      "application/vnd.jupyter.widget-view+json": {
       "model_id": "7e3a50d065a64a52bcebf1fb11c028d9",
       "version_major": 2,
       "version_minor": 0
      },
      "text/plain": [
       "  0%|          | 0/4000 [00:00<?, ?it/s]"
      ]
     },
     "metadata": {},
     "output_type": "display_data"
    },
    {
     "data": {
      "application/vnd.jupyter.widget-view+json": {
       "model_id": "c123908ed6224d649a01b720bf28f595",
       "version_major": 2,
       "version_minor": 0
      },
      "text/plain": [
       "  0%|          | 0/4000 [00:00<?, ?it/s]"
      ]
     },
     "metadata": {},
     "output_type": "display_data"
    },
    {
     "data": {
      "application/vnd.jupyter.widget-view+json": {
       "model_id": "4ea1c0695aa240208f724f5c9b6ed124",
       "version_major": 2,
       "version_minor": 0
      },
      "text/plain": [
       "  0%|          | 0/4000 [00:00<?, ?it/s]"
      ]
     },
     "metadata": {},
     "output_type": "display_data"
    },
    {
     "data": {
      "application/vnd.jupyter.widget-view+json": {
       "model_id": "96a1ca6214fa49beb1793d8669ec2bb8",
       "version_major": 2,
       "version_minor": 0
      },
      "text/plain": [
       "  0%|          | 0/4000 [00:00<?, ?it/s]"
      ]
     },
     "metadata": {},
     "output_type": "display_data"
    },
    {
     "data": {
      "application/vnd.jupyter.widget-view+json": {
       "model_id": "585345dd6c6f4b609bdefe407b5c6367",
       "version_major": 2,
       "version_minor": 0
      },
      "text/plain": [
       "  0%|          | 0/1000 [00:00<?, ?it/s]"
      ]
     },
     "metadata": {},
     "output_type": "display_data"
    },
    {
     "data": {
      "application/vnd.jupyter.widget-view+json": {
       "model_id": "d041a3e39b6845a9a81a3a08d9666209",
       "version_major": 2,
       "version_minor": 0
      },
      "text/plain": [
       "  0%|          | 0/4000 [00:00<?, ?it/s]"
      ]
     },
     "metadata": {},
     "output_type": "display_data"
    },
    {
     "data": {
      "application/vnd.jupyter.widget-view+json": {
       "model_id": "943742fe43c740958a599dd4ff82832d",
       "version_major": 2,
       "version_minor": 0
      },
      "text/plain": [
       "  0%|          | 0/4000 [00:00<?, ?it/s]"
      ]
     },
     "metadata": {},
     "output_type": "display_data"
    },
    {
     "data": {
      "application/vnd.jupyter.widget-view+json": {
       "model_id": "648ee84b30fb4b2f8e529478d1708fc3",
       "version_major": 2,
       "version_minor": 0
      },
      "text/plain": [
       "  0%|          | 0/4000 [00:00<?, ?it/s]"
      ]
     },
     "metadata": {},
     "output_type": "display_data"
    },
    {
     "data": {
      "application/vnd.jupyter.widget-view+json": {
       "model_id": "a5d3777f2d904dc1b5a9b7255a6bae31",
       "version_major": 2,
       "version_minor": 0
      },
      "text/plain": [
       "  0%|          | 0/4000 [00:00<?, ?it/s]"
      ]
     },
     "metadata": {},
     "output_type": "display_data"
    },
    {
     "data": {
      "application/vnd.jupyter.widget-view+json": {
       "model_id": "42055cbc69b644c3943cdf1d26581342",
       "version_major": 2,
       "version_minor": 0
      },
      "text/plain": [
       "  0%|          | 0/1000 [00:00<?, ?it/s]"
      ]
     },
     "metadata": {},
     "output_type": "display_data"
    },
    {
     "data": {
      "application/vnd.jupyter.widget-view+json": {
       "model_id": "9854e6d7655745efbc92f7c4a8c31714",
       "version_major": 2,
       "version_minor": 0
      },
      "text/plain": [
       "  0%|          | 0/4000 [00:00<?, ?it/s]"
      ]
     },
     "metadata": {},
     "output_type": "display_data"
    },
    {
     "data": {
      "application/vnd.jupyter.widget-view+json": {
       "model_id": "e8d49f6ea90d426bb2b67669e90d9ed1",
       "version_major": 2,
       "version_minor": 0
      },
      "text/plain": [
       "  0%|          | 0/4000 [00:00<?, ?it/s]"
      ]
     },
     "metadata": {},
     "output_type": "display_data"
    },
    {
     "data": {
      "application/vnd.jupyter.widget-view+json": {
       "model_id": "d1790316e7684644bf6c3ecd23f18ba2",
       "version_major": 2,
       "version_minor": 0
      },
      "text/plain": [
       "  0%|          | 0/4000 [00:00<?, ?it/s]"
      ]
     },
     "metadata": {},
     "output_type": "display_data"
    },
    {
     "data": {
      "application/vnd.jupyter.widget-view+json": {
       "model_id": "b0f3c2a9f7664b16851ac62aa9f23e9f",
       "version_major": 2,
       "version_minor": 0
      },
      "text/plain": [
       "  0%|          | 0/4000 [00:00<?, ?it/s]"
      ]
     },
     "metadata": {},
     "output_type": "display_data"
    },
    {
     "data": {
      "application/vnd.jupyter.widget-view+json": {
       "model_id": "a402f4355c8b40ecaee40b6ebed0f8b8",
       "version_major": 2,
       "version_minor": 0
      },
      "text/plain": [
       "  0%|          | 0/1000 [00:00<?, ?it/s]"
      ]
     },
     "metadata": {},
     "output_type": "display_data"
    },
    {
     "data": {
      "application/vnd.jupyter.widget-view+json": {
       "model_id": "e5c93fbbbb2c4e479101eb681d8b1bb8",
       "version_major": 2,
       "version_minor": 0
      },
      "text/plain": [
       "  0%|          | 0/4000 [00:00<?, ?it/s]"
      ]
     },
     "metadata": {},
     "output_type": "display_data"
    },
    {
     "data": {
      "application/vnd.jupyter.widget-view+json": {
       "model_id": "7dc0d97b1f6a4221a0e56d5ece283e99",
       "version_major": 2,
       "version_minor": 0
      },
      "text/plain": [
       "  0%|          | 0/4000 [00:00<?, ?it/s]"
      ]
     },
     "metadata": {},
     "output_type": "display_data"
    },
    {
     "data": {
      "application/vnd.jupyter.widget-view+json": {
       "model_id": "b2974b4f4d0f4ec88d11cb678d15c627",
       "version_major": 2,
       "version_minor": 0
      },
      "text/plain": [
       "  0%|          | 0/4000 [00:00<?, ?it/s]"
      ]
     },
     "metadata": {},
     "output_type": "display_data"
    },
    {
     "data": {
      "application/vnd.jupyter.widget-view+json": {
       "model_id": "0a9ed6201de54c429fde46ab26a7a5e4",
       "version_major": 2,
       "version_minor": 0
      },
      "text/plain": [
       "  0%|          | 0/4000 [00:00<?, ?it/s]"
      ]
     },
     "metadata": {},
     "output_type": "display_data"
    },
    {
     "name": "stdout",
     "output_type": "stream",
     "text": [
      "Top CC has 77 nodes; original graph has 77 nodes.\n"
     ]
    },
    {
     "data": {
      "application/vnd.jupyter.widget-view+json": {
       "model_id": "6b60d7541b7849b99824661ecc01da89",
       "version_major": 2,
       "version_minor": 0
      },
      "text/plain": [
       "  0%|          | 0/1000 [00:00<?, ?it/s]"
      ]
     },
     "metadata": {},
     "output_type": "display_data"
    },
    {
     "data": {
      "application/vnd.jupyter.widget-view+json": {
       "model_id": "517fbd12fe974a5c9a12f0d8e1852c83",
       "version_major": 2,
       "version_minor": 0
      },
      "text/plain": [
       "  0%|          | 0/4000 [00:00<?, ?it/s]"
      ]
     },
     "metadata": {},
     "output_type": "display_data"
    },
    {
     "data": {
      "application/vnd.jupyter.widget-view+json": {
       "model_id": "e9cb1548de934f9f9a07c6ac376e8c41",
       "version_major": 2,
       "version_minor": 0
      },
      "text/plain": [
       "  0%|          | 0/4000 [00:00<?, ?it/s]"
      ]
     },
     "metadata": {},
     "output_type": "display_data"
    },
    {
     "data": {
      "application/vnd.jupyter.widget-view+json": {
       "model_id": "e1cec12b564a472bbd423a032601354e",
       "version_major": 2,
       "version_minor": 0
      },
      "text/plain": [
       "  0%|          | 0/4000 [00:00<?, ?it/s]"
      ]
     },
     "metadata": {},
     "output_type": "display_data"
    },
    {
     "data": {
      "application/vnd.jupyter.widget-view+json": {
       "model_id": "0c061135b96643168a1be92a8a8a1788",
       "version_major": 2,
       "version_minor": 0
      },
      "text/plain": [
       "  0%|          | 0/4000 [00:00<?, ?it/s]"
      ]
     },
     "metadata": {},
     "output_type": "display_data"
    },
    {
     "data": {
      "application/vnd.jupyter.widget-view+json": {
       "model_id": "e131b7e938b941a891e832e61f026eca",
       "version_major": 2,
       "version_minor": 0
      },
      "text/plain": [
       "  0%|          | 0/1000 [00:00<?, ?it/s]"
      ]
     },
     "metadata": {},
     "output_type": "display_data"
    },
    {
     "data": {
      "application/vnd.jupyter.widget-view+json": {
       "model_id": "b878fb2ebf234c68b4bc45580ff494a1",
       "version_major": 2,
       "version_minor": 0
      },
      "text/plain": [
       "  0%|          | 0/4000 [00:00<?, ?it/s]"
      ]
     },
     "metadata": {},
     "output_type": "display_data"
    },
    {
     "data": {
      "application/vnd.jupyter.widget-view+json": {
       "model_id": "72e79687b0d04217a738345f956dba5e",
       "version_major": 2,
       "version_minor": 0
      },
      "text/plain": [
       "  0%|          | 0/4000 [00:00<?, ?it/s]"
      ]
     },
     "metadata": {},
     "output_type": "display_data"
    },
    {
     "data": {
      "application/vnd.jupyter.widget-view+json": {
       "model_id": "a02fd927d290405ebcedce4aa6d52fef",
       "version_major": 2,
       "version_minor": 0
      },
      "text/plain": [
       "  0%|          | 0/4000 [00:00<?, ?it/s]"
      ]
     },
     "metadata": {},
     "output_type": "display_data"
    },
    {
     "data": {
      "application/vnd.jupyter.widget-view+json": {
       "model_id": "76e4c9669733422f9ea6f61ad69d413b",
       "version_major": 2,
       "version_minor": 0
      },
      "text/plain": [
       "  0%|          | 0/4000 [00:00<?, ?it/s]"
      ]
     },
     "metadata": {},
     "output_type": "display_data"
    },
    {
     "data": {
      "application/vnd.jupyter.widget-view+json": {
       "model_id": "810ddf1d94734ec1a7be43689f77e489",
       "version_major": 2,
       "version_minor": 0
      },
      "text/plain": [
       "  0%|          | 0/1000 [00:00<?, ?it/s]"
      ]
     },
     "metadata": {},
     "output_type": "display_data"
    },
    {
     "data": {
      "application/vnd.jupyter.widget-view+json": {
       "model_id": "9176f6ce6419477f9482126c35d423ff",
       "version_major": 2,
       "version_minor": 0
      },
      "text/plain": [
       "  0%|          | 0/4000 [00:00<?, ?it/s]"
      ]
     },
     "metadata": {},
     "output_type": "display_data"
    },
    {
     "data": {
      "application/vnd.jupyter.widget-view+json": {
       "model_id": "d13a6fe3a55d4083b9b9ef902af38a76",
       "version_major": 2,
       "version_minor": 0
      },
      "text/plain": [
       "  0%|          | 0/4000 [00:00<?, ?it/s]"
      ]
     },
     "metadata": {},
     "output_type": "display_data"
    },
    {
     "data": {
      "application/vnd.jupyter.widget-view+json": {
       "model_id": "05eeaa78f1b74dcd90f6758759410eeb",
       "version_major": 2,
       "version_minor": 0
      },
      "text/plain": [
       "  0%|          | 0/4000 [00:00<?, ?it/s]"
      ]
     },
     "metadata": {},
     "output_type": "display_data"
    },
    {
     "data": {
      "application/vnd.jupyter.widget-view+json": {
       "model_id": "bd6aa6d8714f488cb7287e9c65f77e87",
       "version_major": 2,
       "version_minor": 0
      },
      "text/plain": [
       "  0%|          | 0/4000 [00:00<?, ?it/s]"
      ]
     },
     "metadata": {},
     "output_type": "display_data"
    },
    {
     "data": {
      "application/vnd.jupyter.widget-view+json": {
       "model_id": "3f1b938ebd584e26bdb22245bcaf9e93",
       "version_major": 2,
       "version_minor": 0
      },
      "text/plain": [
       "  0%|          | 0/1000 [00:00<?, ?it/s]"
      ]
     },
     "metadata": {},
     "output_type": "display_data"
    },
    {
     "data": {
      "application/vnd.jupyter.widget-view+json": {
       "model_id": "8b07694b04af4332a136f8c10a58c54f",
       "version_major": 2,
       "version_minor": 0
      },
      "text/plain": [
       "  0%|          | 0/4000 [00:00<?, ?it/s]"
      ]
     },
     "metadata": {},
     "output_type": "display_data"
    },
    {
     "data": {
      "application/vnd.jupyter.widget-view+json": {
       "model_id": "4043216781cf44c2b38e7e33e9cc13d8",
       "version_major": 2,
       "version_minor": 0
      },
      "text/plain": [
       "  0%|          | 0/4000 [00:00<?, ?it/s]"
      ]
     },
     "metadata": {},
     "output_type": "display_data"
    },
    {
     "data": {
      "application/vnd.jupyter.widget-view+json": {
       "model_id": "d1b51c97d76442788ed285b2cb0ef581",
       "version_major": 2,
       "version_minor": 0
      },
      "text/plain": [
       "  0%|          | 0/4000 [00:00<?, ?it/s]"
      ]
     },
     "metadata": {},
     "output_type": "display_data"
    },
    {
     "data": {
      "application/vnd.jupyter.widget-view+json": {
       "model_id": "29aa9de52a84455f98a671f601972d9b",
       "version_major": 2,
       "version_minor": 0
      },
      "text/plain": [
       "  0%|          | 0/4000 [00:00<?, ?it/s]"
      ]
     },
     "metadata": {},
     "output_type": "display_data"
    },
    {
     "data": {
      "application/vnd.jupyter.widget-view+json": {
       "model_id": "94870f97404c43f19f02b0054cc71137",
       "version_major": 2,
       "version_minor": 0
      },
      "text/plain": [
       "  0%|          | 0/1000 [00:00<?, ?it/s]"
      ]
     },
     "metadata": {},
     "output_type": "display_data"
    },
    {
     "data": {
      "application/vnd.jupyter.widget-view+json": {
       "model_id": "163288f00b6c47039328e010b0104604",
       "version_major": 2,
       "version_minor": 0
      },
      "text/plain": [
       "  0%|          | 0/4000 [00:00<?, ?it/s]"
      ]
     },
     "metadata": {},
     "output_type": "display_data"
    },
    {
     "data": {
      "application/vnd.jupyter.widget-view+json": {
       "model_id": "9303f75be0214097934fa34a0c4773c2",
       "version_major": 2,
       "version_minor": 0
      },
      "text/plain": [
       "  0%|          | 0/4000 [00:00<?, ?it/s]"
      ]
     },
     "metadata": {},
     "output_type": "display_data"
    },
    {
     "data": {
      "application/vnd.jupyter.widget-view+json": {
       "model_id": "08d35d895dba41f7a801cc0babf7c35f",
       "version_major": 2,
       "version_minor": 0
      },
      "text/plain": [
       "  0%|          | 0/4000 [00:00<?, ?it/s]"
      ]
     },
     "metadata": {},
     "output_type": "display_data"
    },
    {
     "data": {
      "application/vnd.jupyter.widget-view+json": {
       "model_id": "103cbf59f3d1423b844c967479060fa1",
       "version_major": 2,
       "version_minor": 0
      },
      "text/plain": [
       "  0%|          | 0/4000 [00:00<?, ?it/s]"
      ]
     },
     "metadata": {},
     "output_type": "display_data"
    },
    {
     "data": {
      "application/vnd.jupyter.widget-view+json": {
       "model_id": "84d2862a426d4f6092cde342ec905cb6",
       "version_major": 2,
       "version_minor": 0
      },
      "text/plain": [
       "  0%|          | 0/1000 [00:00<?, ?it/s]"
      ]
     },
     "metadata": {},
     "output_type": "display_data"
    },
    {
     "data": {
      "application/vnd.jupyter.widget-view+json": {
       "model_id": "6c848b6505a34c94ac8487be2399ad0a",
       "version_major": 2,
       "version_minor": 0
      },
      "text/plain": [
       "  0%|          | 0/4000 [00:00<?, ?it/s]"
      ]
     },
     "metadata": {},
     "output_type": "display_data"
    },
    {
     "data": {
      "application/vnd.jupyter.widget-view+json": {
       "model_id": "e1052dc596234736a7f8ec8d4d5ca886",
       "version_major": 2,
       "version_minor": 0
      },
      "text/plain": [
       "  0%|          | 0/4000 [00:00<?, ?it/s]"
      ]
     },
     "metadata": {},
     "output_type": "display_data"
    },
    {
     "data": {
      "application/vnd.jupyter.widget-view+json": {
       "model_id": "597d80d73d08469a9672e0fcb8d5d9be",
       "version_major": 2,
       "version_minor": 0
      },
      "text/plain": [
       "  0%|          | 0/4000 [00:00<?, ?it/s]"
      ]
     },
     "metadata": {},
     "output_type": "display_data"
    },
    {
     "data": {
      "application/vnd.jupyter.widget-view+json": {
       "model_id": "c7f089878db04cdebee7a0296f380ba2",
       "version_major": 2,
       "version_minor": 0
      },
      "text/plain": [
       "  0%|          | 0/4000 [00:00<?, ?it/s]"
      ]
     },
     "metadata": {},
     "output_type": "display_data"
    },
    {
     "data": {
      "application/vnd.jupyter.widget-view+json": {
       "model_id": "0281e75321584a2cacccee0b42c9de8b",
       "version_major": 2,
       "version_minor": 0
      },
      "text/plain": [
       "  0%|          | 0/1000 [00:00<?, ?it/s]"
      ]
     },
     "metadata": {},
     "output_type": "display_data"
    },
    {
     "data": {
      "application/vnd.jupyter.widget-view+json": {
       "model_id": "001ea609cc7840869902483ee677c88e",
       "version_major": 2,
       "version_minor": 0
      },
      "text/plain": [
       "  0%|          | 0/4000 [00:00<?, ?it/s]"
      ]
     },
     "metadata": {},
     "output_type": "display_data"
    },
    {
     "data": {
      "application/vnd.jupyter.widget-view+json": {
       "model_id": "62ef440c411d42f291283db629a41ce9",
       "version_major": 2,
       "version_minor": 0
      },
      "text/plain": [
       "  0%|          | 0/4000 [00:00<?, ?it/s]"
      ]
     },
     "metadata": {},
     "output_type": "display_data"
    },
    {
     "data": {
      "application/vnd.jupyter.widget-view+json": {
       "model_id": "d7ab232bf61a44a08727c3d29cbf37f4",
       "version_major": 2,
       "version_minor": 0
      },
      "text/plain": [
       "  0%|          | 0/4000 [00:00<?, ?it/s]"
      ]
     },
     "metadata": {},
     "output_type": "display_data"
    },
    {
     "data": {
      "application/vnd.jupyter.widget-view+json": {
       "model_id": "5ef4136f7d404799852eb5762d79e3ed",
       "version_major": 2,
       "version_minor": 0
      },
      "text/plain": [
       "  0%|          | 0/4000 [00:00<?, ?it/s]"
      ]
     },
     "metadata": {},
     "output_type": "display_data"
    },
    {
     "data": {
      "application/vnd.jupyter.widget-view+json": {
       "model_id": "1d4c9e872acf444a93d39e134bef9348",
       "version_major": 2,
       "version_minor": 0
      },
      "text/plain": [
       "  0%|          | 0/1000 [00:00<?, ?it/s]"
      ]
     },
     "metadata": {},
     "output_type": "display_data"
    },
    {
     "data": {
      "application/vnd.jupyter.widget-view+json": {
       "model_id": "38963720b9fd4227ae66dcb81a7596ac",
       "version_major": 2,
       "version_minor": 0
      },
      "text/plain": [
       "  0%|          | 0/4000 [00:00<?, ?it/s]"
      ]
     },
     "metadata": {},
     "output_type": "display_data"
    },
    {
     "data": {
      "application/vnd.jupyter.widget-view+json": {
       "model_id": "11f71052e9ab4f47b83c05e36ba40622",
       "version_major": 2,
       "version_minor": 0
      },
      "text/plain": [
       "  0%|          | 0/4000 [00:00<?, ?it/s]"
      ]
     },
     "metadata": {},
     "output_type": "display_data"
    },
    {
     "data": {
      "application/vnd.jupyter.widget-view+json": {
       "model_id": "1a8768c097c249d4a99bddf171a99b32",
       "version_major": 2,
       "version_minor": 0
      },
      "text/plain": [
       "  0%|          | 0/4000 [00:00<?, ?it/s]"
      ]
     },
     "metadata": {},
     "output_type": "display_data"
    },
    {
     "data": {
      "application/vnd.jupyter.widget-view+json": {
       "model_id": "b59931c9ddbe4200ae697f8f518daf92",
       "version_major": 2,
       "version_minor": 0
      },
      "text/plain": [
       "  0%|          | 0/4000 [00:00<?, ?it/s]"
      ]
     },
     "metadata": {},
     "output_type": "display_data"
    },
    {
     "data": {
      "application/vnd.jupyter.widget-view+json": {
       "model_id": "bebeb4cc9a7348d1be1a05f852a8d1b9",
       "version_major": 2,
       "version_minor": 0
      },
      "text/plain": [
       "  0%|          | 0/1000 [00:00<?, ?it/s]"
      ]
     },
     "metadata": {},
     "output_type": "display_data"
    },
    {
     "data": {
      "application/vnd.jupyter.widget-view+json": {
       "model_id": "3eeecca8a19d4c039c98428599650905",
       "version_major": 2,
       "version_minor": 0
      },
      "text/plain": [
       "  0%|          | 0/4000 [00:00<?, ?it/s]"
      ]
     },
     "metadata": {},
     "output_type": "display_data"
    },
    {
     "data": {
      "application/vnd.jupyter.widget-view+json": {
       "model_id": "db9345e23490407c944b329cdb339df1",
       "version_major": 2,
       "version_minor": 0
      },
      "text/plain": [
       "  0%|          | 0/4000 [00:00<?, ?it/s]"
      ]
     },
     "metadata": {},
     "output_type": "display_data"
    },
    {
     "data": {
      "application/vnd.jupyter.widget-view+json": {
       "model_id": "ac1f8040dd814f0f9f7726962c285134",
       "version_major": 2,
       "version_minor": 0
      },
      "text/plain": [
       "  0%|          | 0/4000 [00:00<?, ?it/s]"
      ]
     },
     "metadata": {},
     "output_type": "display_data"
    },
    {
     "data": {
      "application/vnd.jupyter.widget-view+json": {
       "model_id": "82cfe322923043028f2394ae35c50ad0",
       "version_major": 2,
       "version_minor": 0
      },
      "text/plain": [
       "  0%|          | 0/4000 [00:00<?, ?it/s]"
      ]
     },
     "metadata": {},
     "output_type": "display_data"
    },
    {
     "data": {
      "application/vnd.jupyter.widget-view+json": {
       "model_id": "dc478790c1564cfb94823bc77f5d479b",
       "version_major": 2,
       "version_minor": 0
      },
      "text/plain": [
       "  0%|          | 0/1000 [00:00<?, ?it/s]"
      ]
     },
     "metadata": {},
     "output_type": "display_data"
    },
    {
     "data": {
      "application/vnd.jupyter.widget-view+json": {
       "model_id": "c13ebfce274244e2bd82951c92184062",
       "version_major": 2,
       "version_minor": 0
      },
      "text/plain": [
       "  0%|          | 0/4000 [00:00<?, ?it/s]"
      ]
     },
     "metadata": {},
     "output_type": "display_data"
    },
    {
     "data": {
      "application/vnd.jupyter.widget-view+json": {
       "model_id": "fea4bdcb705b4b978eebf07daee2ec98",
       "version_major": 2,
       "version_minor": 0
      },
      "text/plain": [
       "  0%|          | 0/4000 [00:00<?, ?it/s]"
      ]
     },
     "metadata": {},
     "output_type": "display_data"
    },
    {
     "data": {
      "application/vnd.jupyter.widget-view+json": {
       "model_id": "c27b7c93dfc84bb0a28319f45dc2a798",
       "version_major": 2,
       "version_minor": 0
      },
      "text/plain": [
       "  0%|          | 0/4000 [00:00<?, ?it/s]"
      ]
     },
     "metadata": {},
     "output_type": "display_data"
    },
    {
     "data": {
      "application/vnd.jupyter.widget-view+json": {
       "model_id": "dc618ae6c07b466daaf73e657d4badc0",
       "version_major": 2,
       "version_minor": 0
      },
      "text/plain": [
       "  0%|          | 0/4000 [00:00<?, ?it/s]"
      ]
     },
     "metadata": {},
     "output_type": "display_data"
    },
    {
     "name": "stdout",
     "output_type": "stream",
     "text": [
      "Top CC has 105 nodes; original graph has 105 nodes.\n"
     ]
    },
    {
     "data": {
      "application/vnd.jupyter.widget-view+json": {
       "model_id": "8fde72a1007240a196d19110433b10cd",
       "version_major": 2,
       "version_minor": 0
      },
      "text/plain": [
       "  0%|          | 0/1000 [00:00<?, ?it/s]"
      ]
     },
     "metadata": {},
     "output_type": "display_data"
    },
    {
     "ename": "OutOfMemoryError",
     "evalue": "CUDA out of memory. Tried to allocate 5.51 GiB. GPU 1 has a total capacity of 23.68 GiB of which 3.34 GiB is free. Process 2502437 has 2.14 GiB memory in use. Process 703169 has 364.00 MiB memory in use. Process 935462 has 736.00 MiB memory in use. Process 1079155 has 514.00 MiB memory in use. Process 1158400 has 470.00 MiB memory in use. Process 1381911 has 528.00 MiB memory in use. Including non-PyTorch memory, this process has 15.62 GiB memory in use. Of the allocated memory 12.99 GiB is allocated by PyTorch, and 2.28 GiB is reserved by PyTorch but unallocated. If reserved but unallocated memory is large try setting PYTORCH_CUDA_ALLOC_CONF=expandable_segments:True to avoid fragmentation.  See documentation for Memory Management  (https://pytorch.org/docs/stable/notes/cuda.html#environment-variables)",
     "output_type": "error",
     "traceback": [
      "\u001b[0;31m---------------------------------------------------------------------------\u001b[0m",
      "\u001b[0;31mOutOfMemoryError\u001b[0m                          Traceback (most recent call last)",
      "Cell \u001b[0;32mIn[17], line 56\u001b[0m\n\u001b[1;32m     52\u001b[0m XX, yy, pm_new \u001b[38;5;241m=\u001b[39m make_link_prediction_dataset(X, pm, adj, add_dists\u001b[38;5;241m=\u001b[39mUSE_DISTS)\n\u001b[1;32m     53\u001b[0m X_train, X_test, y_train, y_test, idx_train, idx_test \u001b[38;5;241m=\u001b[39m train_test_split(\n\u001b[1;32m     54\u001b[0m     XX, yy, \u001b[38;5;28mlist\u001b[39m(\u001b[38;5;28mrange\u001b[39m(\u001b[38;5;28mlen\u001b[39m(yy))), test_size\u001b[38;5;241m=\u001b[39m\u001b[38;5;241m0.2\u001b[39m\n\u001b[1;32m     55\u001b[0m )\n\u001b[0;32m---> 56\u001b[0m res \u001b[38;5;241m=\u001b[39m \u001b[43membedders\u001b[49m\u001b[38;5;241;43m.\u001b[39;49m\u001b[43mbenchmarks\u001b[49m\u001b[38;5;241;43m.\u001b[39;49m\u001b[43mbenchmark\u001b[49m\u001b[43m(\u001b[49m\n\u001b[1;32m     57\u001b[0m \u001b[43m    \u001b[49m\u001b[43mXX\u001b[49m\u001b[43m,\u001b[49m\u001b[43m \u001b[49m\u001b[43myy\u001b[49m\u001b[43m,\u001b[49m\u001b[43m \u001b[49m\u001b[43mpm_new\u001b[49m\u001b[43m,\u001b[49m\u001b[43m \u001b[49m\u001b[43mtask\u001b[49m\u001b[38;5;241;43m=\u001b[39;49m\u001b[38;5;124;43m\"\u001b[39;49m\u001b[38;5;124;43mclassification\u001b[39;49m\u001b[38;5;124;43m\"\u001b[39;49m\u001b[43m,\u001b[49m\u001b[43m \u001b[49m\u001b[43mscore\u001b[49m\u001b[38;5;241;43m=\u001b[39;49m\u001b[43m[\u001b[49m\u001b[38;5;124;43m\"\u001b[39;49m\u001b[38;5;124;43maccuracy\u001b[39;49m\u001b[38;5;124;43m\"\u001b[39;49m\u001b[43m,\u001b[49m\u001b[43m \u001b[49m\u001b[38;5;124;43m\"\u001b[39;49m\u001b[38;5;124;43mf1-micro\u001b[39;49m\u001b[38;5;124;43m\"\u001b[39;49m\u001b[43m]\u001b[49m\u001b[43m,\u001b[49m\u001b[43m \u001b[49m\u001b[43mdevice\u001b[49m\u001b[38;5;241;43m=\u001b[39;49m\u001b[43mDEVICE\u001b[49m\u001b[43m,\u001b[49m\u001b[43m \u001b[49m\u001b[43mmodels\u001b[49m\u001b[38;5;241;43m=\u001b[39;49m\u001b[43mMODELS\u001b[49m\u001b[43m,\u001b[49m\u001b[43m \u001b[49m\u001b[43mseed\u001b[49m\u001b[38;5;241;43m=\u001b[39;49m\u001b[43mseed\u001b[49m\n\u001b[1;32m     58\u001b[0m \u001b[43m\u001b[49m\u001b[43m)\u001b[49m\n\u001b[1;32m     60\u001b[0m \u001b[38;5;66;03m# Other manifolds we'll need\u001b[39;00m\n\u001b[1;32m     61\u001b[0m pm_stereo, X_stereo \u001b[38;5;241m=\u001b[39m pm\u001b[38;5;241m.\u001b[39mstereographic(X)\n",
      "File \u001b[0;32m~/embedders/embedders/benchmarks.py:279\u001b[0m, in \u001b[0;36mbenchmark\u001b[0;34m(X, y, pm, device, score, models, max_depth, n_estimators, min_samples_split, min_samples_leaf, task, seed, use_special_dims, n_features, X_train, X_test, y_train, y_test, batch_size, adj, A_train, A_test, hidden_dims, epochs, lr, kappa_gcn_layers)\u001b[0m\n\u001b[1;32m    272\u001b[0m psdt \u001b[38;5;241m=\u001b[39m ProductSpaceDT(\n\u001b[1;32m    273\u001b[0m     pm\u001b[38;5;241m=\u001b[39mpm,\n\u001b[1;32m    274\u001b[0m     task\u001b[38;5;241m=\u001b[39mtask,\n\u001b[1;32m    275\u001b[0m     \u001b[38;5;241m*\u001b[39m\u001b[38;5;241m*\u001b[39mtree_kwargs,\n\u001b[1;32m    276\u001b[0m     \u001b[38;5;241m*\u001b[39m\u001b[38;5;241m*\u001b[39mprod_kwargs,\n\u001b[1;32m    277\u001b[0m )\n\u001b[1;32m    278\u001b[0m t1 \u001b[38;5;241m=\u001b[39m time\u001b[38;5;241m.\u001b[39mtime()\n\u001b[0;32m--> 279\u001b[0m \u001b[43mpsdt\u001b[49m\u001b[38;5;241;43m.\u001b[39;49m\u001b[43mfit\u001b[49m\u001b[43m(\u001b[49m\u001b[43mX_train\u001b[49m\u001b[43m,\u001b[49m\u001b[43m \u001b[49m\u001b[43my_train\u001b[49m\u001b[43m)\u001b[49m\n\u001b[1;32m    280\u001b[0m t2 \u001b[38;5;241m=\u001b[39m time\u001b[38;5;241m.\u001b[39mtime()\n\u001b[1;32m    281\u001b[0m accs[\u001b[38;5;124m\"\u001b[39m\u001b[38;5;124mproduct_dt\u001b[39m\u001b[38;5;124m\"\u001b[39m] \u001b[38;5;241m=\u001b[39m _score(X_test, y_test_np, psdt, torch\u001b[38;5;241m=\u001b[39m\u001b[38;5;28;01mTrue\u001b[39;00m)\n",
      "File \u001b[0;32m~/miniconda3/envs/embedders/lib/python3.9/site-packages/torch/utils/_contextlib.py:116\u001b[0m, in \u001b[0;36mcontext_decorator.<locals>.decorate_context\u001b[0;34m(*args, **kwargs)\u001b[0m\n\u001b[1;32m    113\u001b[0m \u001b[38;5;129m@functools\u001b[39m\u001b[38;5;241m.\u001b[39mwraps(func)\n\u001b[1;32m    114\u001b[0m \u001b[38;5;28;01mdef\u001b[39;00m \u001b[38;5;21mdecorate_context\u001b[39m(\u001b[38;5;241m*\u001b[39margs, \u001b[38;5;241m*\u001b[39m\u001b[38;5;241m*\u001b[39mkwargs):\n\u001b[1;32m    115\u001b[0m     \u001b[38;5;28;01mwith\u001b[39;00m ctx_factory():\n\u001b[0;32m--> 116\u001b[0m         \u001b[38;5;28;01mreturn\u001b[39;00m \u001b[43mfunc\u001b[49m\u001b[43m(\u001b[49m\u001b[38;5;241;43m*\u001b[39;49m\u001b[43margs\u001b[49m\u001b[43m,\u001b[49m\u001b[43m \u001b[49m\u001b[38;5;241;43m*\u001b[39;49m\u001b[38;5;241;43m*\u001b[39;49m\u001b[43mkwargs\u001b[49m\u001b[43m)\u001b[49m\n",
      "File \u001b[0;32m~/embedders/embedders/predictors/tree_new.py:517\u001b[0m, in \u001b[0;36mProductSpaceDT.fit\u001b[0;34m(self, X, y)\u001b[0m\n\u001b[1;32m    514\u001b[0m     X, \u001b[38;5;28mself\u001b[39m\u001b[38;5;241m.\u001b[39mpm \u001b[38;5;241m=\u001b[39m \u001b[38;5;28mself\u001b[39m\u001b[38;5;241m.\u001b[39m_aggregate_special_dims(X)\n\u001b[1;32m    516\u001b[0m \u001b[38;5;66;03m# Preprocess data\u001b[39;00m\n\u001b[0;32m--> 517\u001b[0m angles, labels, classes, comparisons_reshaped \u001b[38;5;241m=\u001b[39m \u001b[38;5;28;43mself\u001b[39;49m\u001b[38;5;241;43m.\u001b[39;49m\u001b[43m_preprocess\u001b[49m\u001b[43m(\u001b[49m\u001b[43mX\u001b[49m\u001b[38;5;241;43m=\u001b[39;49m\u001b[43mX\u001b[49m\u001b[43m,\u001b[49m\u001b[43m \u001b[49m\u001b[43my\u001b[49m\u001b[38;5;241;43m=\u001b[39;49m\u001b[43my\u001b[49m\u001b[43m)\u001b[49m\n\u001b[1;32m    519\u001b[0m \u001b[38;5;66;03m# Store classes for predictions\u001b[39;00m\n\u001b[1;32m    520\u001b[0m \u001b[38;5;28mself\u001b[39m\u001b[38;5;241m.\u001b[39mclasses_ \u001b[38;5;241m=\u001b[39m classes\n",
      "File \u001b[0;32m~/embedders/embedders/predictors/tree_new.py:423\u001b[0m, in \u001b[0;36mProductSpaceDT._preprocess\u001b[0;34m(self, X, y)\u001b[0m\n\u001b[1;32m    421\u001b[0m \u001b[38;5;66;03m# Create a tensor of comparisons\u001b[39;00m\n\u001b[1;32m    422\u001b[0m \u001b[38;5;28;01mif\u001b[39;00m \u001b[38;5;28mself\u001b[39m\u001b[38;5;241m.\u001b[39mbatched:\n\u001b[0;32m--> 423\u001b[0m     comparisons \u001b[38;5;241m=\u001b[39m \u001b[43m_angular_greater\u001b[49m\u001b[43m(\u001b[49m\u001b[43mangles\u001b[49m\u001b[43m,\u001b[49m\u001b[43m \u001b[49m\u001b[43mangles\u001b[49m\u001b[43m)\u001b[49m\n\u001b[1;32m    424\u001b[0m     comparisons_reshaped \u001b[38;5;241m=\u001b[39m comparisons\u001b[38;5;241m.\u001b[39mpermute(\u001b[38;5;241m1\u001b[39m, \u001b[38;5;241m2\u001b[39m, \u001b[38;5;241m0\u001b[39m)\n\u001b[1;32m    425\u001b[0m \u001b[38;5;28;01melse\u001b[39;00m:\n",
      "File \u001b[0;32m~/embedders/embedders/predictors/tree_new.py:30\u001b[0m, in \u001b[0;36m_angular_greater\u001b[0;34m(queries, keys)\u001b[0m\n\u001b[1;32m     26\u001b[0m \u001b[38;5;66;03m# return ((keys[None, :] - queries[:, None] + torch.pi) % (2 * torch.pi)) >= torch.pi\u001b[39;00m\n\u001b[1;32m     27\u001b[0m \n\u001b[1;32m     28\u001b[0m \u001b[38;5;66;03m# Optimized version\u001b[39;00m\n\u001b[1;32m     29\u001b[0m diff \u001b[38;5;241m=\u001b[39m keys\u001b[38;5;241m.\u001b[39munsqueeze(\u001b[38;5;241m0\u001b[39m) \u001b[38;5;241m-\u001b[39m queries\u001b[38;5;241m.\u001b[39munsqueeze(\u001b[38;5;241m1\u001b[39m)\n\u001b[0;32m---> 30\u001b[0m \u001b[38;5;28;01mreturn\u001b[39;00m \u001b[43m(\u001b[49m\u001b[43mdiff\u001b[49m\u001b[43m \u001b[49m\u001b[38;5;241;43m+\u001b[39;49m\u001b[43m \u001b[49m\u001b[43mtorch\u001b[49m\u001b[38;5;241;43m.\u001b[39;49m\u001b[43mpi\u001b[49m\u001b[43m)\u001b[49m\u001b[43m \u001b[49m\u001b[38;5;241;43m%\u001b[39;49m\u001b[43m \u001b[49m\u001b[43m(\u001b[49m\u001b[38;5;241;43m2\u001b[39;49m\u001b[43m \u001b[49m\u001b[38;5;241;43m*\u001b[39;49m\u001b[43m \u001b[49m\u001b[43mtorch\u001b[49m\u001b[38;5;241;43m.\u001b[39;49m\u001b[43mpi\u001b[49m\u001b[43m)\u001b[49m \u001b[38;5;241m>\u001b[39m\u001b[38;5;241m=\u001b[39m torch\u001b[38;5;241m.\u001b[39mpi\n",
      "\u001b[0;31mOutOfMemoryError\u001b[0m: CUDA out of memory. Tried to allocate 5.51 GiB. GPU 1 has a total capacity of 23.68 GiB of which 3.34 GiB is free. Process 2502437 has 2.14 GiB memory in use. Process 703169 has 364.00 MiB memory in use. Process 935462 has 736.00 MiB memory in use. Process 1079155 has 514.00 MiB memory in use. Process 1158400 has 470.00 MiB memory in use. Process 1381911 has 528.00 MiB memory in use. Including non-PyTorch memory, this process has 15.62 GiB memory in use. Of the allocated memory 12.99 GiB is allocated by PyTorch, and 2.28 GiB is reserved by PyTorch but unallocated. If reserved but unallocated memory is large try setting PYTORCH_CUDA_ALLOC_CONF=expandable_segments:True to avoid fragmentation.  See documentation for Memory Management  (https://pytorch.org/docs/stable/notes/cuda.html#environment-variables)"
     ]
    }
   ],
   "source": [
    "from sklearn.metrics import f1_score\n",
    "from tqdm.notebook import tqdm\n",
    "import time\n",
    "\n",
    "DATASETS = [\"dolphins\", \"football\", \"karate_club\", \"lesmis\"]\n",
    "SIGNATURE = [(-1, 2), (0, 2), (1, 2)]\n",
    "N_TRIALS = 10\n",
    "TOTAL_ITERATIONS = 1_000\n",
    "USE_DISTS = True\n",
    "USE_TQDM = True\n",
    "MODELS = [\n",
    "    \"sklearn_dt\",\n",
    "    \"sklearn_rf\",\n",
    "    \"product_dt\",\n",
    "    \"product_rf\",\n",
    "    \"tangent_dt\",\n",
    "    \"tangent_rf\",\n",
    "    \"knn\",\n",
    "    \"ps_perceptron\",\n",
    "    \"ambient_mlp\",\n",
    "    # \"ambient_gnn\",\n",
    "    # \"kappa_gcn\",\n",
    "    # \"product_mlr\",\n",
    "]\n",
    "LR = 1e-4\n",
    "EPOCHS = 4_000\n",
    "\n",
    "results = []\n",
    "\n",
    "# for dataset in [\"karate_club\"]:\n",
    "my_tqdm = tqdm(total=N_TRIALS * len(DATASETS))\n",
    "for i, dataset in enumerate(DATASETS):\n",
    "    dists, _, adj = embedders.dataloaders.load(dataset)\n",
    "    dists, adj = dists.to(DEVICE), adj.to(DEVICE)\n",
    "    dists = dists / dists[dists.isfinite()].max()\n",
    "\n",
    "    # while len(results) < N_TRIALS:\n",
    "    for seed in range(N_TRIALS):\n",
    "        seed = seed + i * N_TRIALS # Unique\n",
    "        pm = embedders.manifolds.ProductManifold(signature=SIGNATURE, device=DEVICE)\n",
    "        X, _ = embedders.coordinate_learning.train_coords(\n",
    "            pm=pm,\n",
    "            dists=dists,\n",
    "            burn_in_iterations=int(0.1 * TOTAL_ITERATIONS),\n",
    "            training_iterations=int(0.9 * TOTAL_ITERATIONS),\n",
    "            scale_factor_learning_rate=0.02,\n",
    "            device=DEVICE,\n",
    "        )\n",
    "        assert not torch.isnan(X).any()\n",
    "\n",
    "        # Get data for classification variants\n",
    "        XX, yy, pm_new = make_link_prediction_dataset(X, pm, adj, add_dists=USE_DISTS)\n",
    "        X_train, X_test, y_train, y_test, idx_train, idx_test = train_test_split(\n",
    "            XX, yy, list(range(len(yy))), test_size=0.2\n",
    "        )\n",
    "        res = embedders.benchmarks.benchmark(\n",
    "            XX, yy, pm_new, task=\"classification\", score=[\"accuracy\", \"f1-micro\"], device=DEVICE, models=MODELS, seed=seed\n",
    "        )\n",
    "\n",
    "        # Other manifolds we'll need\n",
    "        pm_stereo, X_stereo = pm.stereographic(X)\n",
    "        pm_stereo_euc = embedders.manifolds.ProductManifold(\n",
    "            signature=[(0, X.shape[1])], stereographic=True, device=DEVICE\n",
    "        )\n",
    "\n",
    "        # Get an adjacency matrix that's not leaky\n",
    "        dists = pm.pdist2(X)\n",
    "        max_dist = dists[dists.isfinite()].max()\n",
    "        dists /= max_dist\n",
    "        A = torch.exp(-dists)\n",
    "        A_hat = embedders.predictors.kappa_gcn.get_A_hat(A).float().to(DEVICE)\n",
    "\n",
    "        # Ambient GNN\n",
    "        agnn = embedders.predictors.kappa_gcn.KappaGCN(\n",
    "            pm=pm_stereo_euc, output_dim=1, hidden_dims=[pm_stereo_euc.dim], task=\"link_prediction\"\n",
    "        ).to(DEVICE)\n",
    "        t1 = time.time()\n",
    "        agnn.fit(X=X, y=y_train, A=A_hat, lr=LR, epochs=EPOCHS, lp_indices=idx_train, use_tqdm=USE_TQDM)\n",
    "        t2 = time.time()\n",
    "        y_pred = agnn.predict(X, A_hat)[idx_test]\n",
    "        res[\"ambient_gnn_accuracy\"] = (y_pred == y_test).float().mean().item()\n",
    "        res[\"ambient_gnn_f1_micro\"] = f1_score(y_test.cpu(), y_pred.cpu(), average=\"micro\")\n",
    "        res[\"ambient_gnn_time\"] = t2 - t1\n",
    "\n",
    "        # Kappa GCN\n",
    "        kgcn = embedders.predictors.kappa_gcn.KappaGCN(\n",
    "            pm=pm_stereo, output_dim=1, hidden_dims=[pm_stereo.dim], task=\"link_prediction\"\n",
    "        ).to(DEVICE)\n",
    "        t1 = time.time()\n",
    "        kgcn.fit(X=X_stereo, y=y_train, A=A_hat, lr=LR, epochs=EPOCHS, lp_indices=idx_train, use_tqdm=USE_TQDM)\n",
    "        t2 = time.time()\n",
    "        y_pred = kgcn.predict(X_stereo, A_hat)[idx_test]\n",
    "        res[\"kappa_gcn_accuracy\"] = (y_pred == y_test).float().mean().item()\n",
    "        res[\"kappa_gcn_f1_micro\"] = f1_score(y_test.cpu(), y_pred.cpu(), average=\"micro\")\n",
    "        res[\"kappa_gcn_time\"] = t2 - t1\n",
    "\n",
    "        # Product MLR\n",
    "        mlr = embedders.predictors.kappa_gcn.KappaGCN(\n",
    "            pm=pm_stereo, output_dim=1, hidden_dims=[], task=\"link_prediction\"\n",
    "        ).to(DEVICE)\n",
    "        t1 = time.time()\n",
    "        kgcn.fit(X=X_stereo, y=y_train, A=A_hat, lr=LR, epochs=EPOCHS, lp_indices=idx_train, use_tqdm=USE_TQDM)\n",
    "        t2 = time.time()\n",
    "        y_pred = kgcn.predict(X_stereo, A_hat)[idx_test]\n",
    "        res[\"product_mlr_accuracy\"] = (y_pred == y_test).float().mean().item()\n",
    "        res[\"product_mlr_f1_micro\"] = f1_score(y_test.cpu(), y_pred.cpu(), average=\"micro\")\n",
    "        res[\"product_mlr_time\"] = t2 - t1\n",
    "\n",
    "        # Other details\n",
    "        res[\"d_avg\"] = embedders.metrics.d_avg(pm.pdist(X), dists).item()\n",
    "        res[\"dataset\"] = dataset\n",
    "\n",
    "        results.append(res)\n",
    "        my_tqdm.update(1)\n",
    "        # except Exception as e:\n",
    "        #     print(e)\n",
    "        #     pass"
   ]
  },
  {
   "cell_type": "code",
   "execution_count": 18,
   "metadata": {},
   "outputs": [
    {
     "data": {
      "text/plain": [
       "[{'sklearn_dt_accuracy': 0.9466840052015605,\n",
       "  'sklearn_dt_f1-micro': 0.9466840052015605,\n",
       "  'sklearn_dt_time': 0.006685018539428711,\n",
       "  'sklearn_rf_accuracy': 0.9401820546163849,\n",
       "  'sklearn_rf_f1-micro': 0.9401820546163849,\n",
       "  'sklearn_rf_time': 0.03607296943664551,\n",
       "  'product_dt_accuracy': 0.9453836150845254,\n",
       "  'product_dt_f1-micro': 0.9453836150845254,\n",
       "  'product_dt_time': 0.04886317253112793,\n",
       "  'product_rf_accuracy': 0.9336801040312094,\n",
       "  'product_rf_f1-micro': 0.9336801040312094,\n",
       "  'product_rf_time': 0.46277308464050293,\n",
       "  'tangent_dt_accuracy': 0.9453836150845254,\n",
       "  'tangent_dt_f1-micro': 0.9453836150845254,\n",
       "  'tangent_dt_time': 0.00512385368347168,\n",
       "  'tangent_rf_accuracy': 0.9349804941482445,\n",
       "  'tangent_rf_f1-micro': 0.9349804941482445,\n",
       "  'tangent_rf_time': 0.03405141830444336,\n",
       "  'knn_accuracy': 0.9193758127438232,\n",
       "  'knn_f1-micro': 0.9193758127438232,\n",
       "  'knn_time': 0.045488595962524414,\n",
       "  'ps_perceptron_accuracy': 0.9336801040312094,\n",
       "  'ps_perceptron_f1-micro': 0.9336801040312094,\n",
       "  'ps_perceptron_time': 0.008931636810302734,\n",
       "  'ambient_mlp_accuracy': 0.9336801040312094,\n",
       "  'ambient_mlp_f1-micro': 0.9336801040312094,\n",
       "  'ambient_mlp_time': 36.54921364784241,\n",
       "  'ambient_gnn_accuracy': 0.918075442314148,\n",
       "  'ambient_gnn_f1_micro': 0.918075422626788,\n",
       "  'ambient_gnn_time': 77.70474219322205,\n",
       "  'kappa_gcn_accuracy': 0.918075442314148,\n",
       "  'kappa_gcn_f1_micro': 0.918075422626788,\n",
       "  'kappa_gcn_time': 160.7724049091339,\n",
       "  'product_mlr_accuracy': 0.918075442314148,\n",
       "  'product_mlr_f1_micro': 0.918075422626788,\n",
       "  'product_mlr_time': 162.08214807510376,\n",
       "  'd_avg': nan,\n",
       "  'dataset': 'dolphins'},\n",
       " {'sklearn_dt_accuracy': 0.9141742522756827,\n",
       "  'sklearn_dt_f1-micro': 0.9141742522756827,\n",
       "  'sklearn_dt_time': 0.008802652359008789,\n",
       "  'sklearn_rf_accuracy': 0.9011703511053316,\n",
       "  'sklearn_rf_f1-micro': 0.9011703511053316,\n",
       "  'sklearn_rf_time': 0.034535884857177734,\n",
       "  'product_dt_accuracy': 0.9063719115734721,\n",
       "  'product_dt_f1-micro': 0.9063719115734721,\n",
       "  'product_dt_time': 0.05459713935852051,\n",
       "  'product_rf_accuracy': 0.9011703511053316,\n",
       "  'product_rf_f1-micro': 0.9011703511053316,\n",
       "  'product_rf_time': 0.4476807117462158,\n",
       "  'tangent_dt_accuracy': 0.9141742522756827,\n",
       "  'tangent_dt_f1-micro': 0.9141742522756827,\n",
       "  'tangent_dt_time': 0.0069844722747802734,\n",
       "  'tangent_rf_accuracy': 0.9011703511053316,\n",
       "  'tangent_rf_f1-micro': 0.9011703511053316,\n",
       "  'tangent_rf_time': 0.03384208679199219,\n",
       "  'knn_accuracy': 0.9011703511053316,\n",
       "  'knn_f1-micro': 0.9011703511053316,\n",
       "  'knn_time': 0.04464983940124512,\n",
       "  'ps_perceptron_accuracy': 0.8998699609882965,\n",
       "  'ps_perceptron_f1-micro': 0.8998699609882965,\n",
       "  'ps_perceptron_time': 0.008955240249633789,\n",
       "  'ambient_mlp_accuracy': 0.8998699609882965,\n",
       "  'ambient_mlp_f1-micro': 0.8998699609882965,\n",
       "  'ambient_mlp_time': 35.90958023071289,\n",
       "  'ambient_gnn_accuracy': 0.9154746532440186,\n",
       "  'ambient_gnn_f1_micro': 0.9154746423927178,\n",
       "  'ambient_gnn_time': 78.3128433227539,\n",
       "  'kappa_gcn_accuracy': 0.9154746532440186,\n",
       "  'kappa_gcn_f1_micro': 0.9154746423927178,\n",
       "  'kappa_gcn_time': 146.42553520202637,\n",
       "  'product_mlr_accuracy': 0.9154746532440186,\n",
       "  'product_mlr_f1_micro': 0.9154746423927178,\n",
       "  'product_mlr_time': 138.45505237579346,\n",
       "  'd_avg': nan,\n",
       "  'dataset': 'dolphins'},\n",
       " {'sklearn_dt_accuracy': 0.9102730819245773,\n",
       "  'sklearn_dt_f1-micro': 0.9102730819245773,\n",
       "  'sklearn_dt_time': 0.008407115936279297,\n",
       "  'sklearn_rf_accuracy': 0.9050715214564369,\n",
       "  'sklearn_rf_f1-micro': 0.9050715214564369,\n",
       "  'sklearn_rf_time': 0.23174667358398438,\n",
       "  'product_dt_accuracy': 0.9024707412223667,\n",
       "  'product_dt_f1-micro': 0.9024707412223667,\n",
       "  'product_dt_time': 0.05084037780761719,\n",
       "  'product_rf_accuracy': 0.9050715214564369,\n",
       "  'product_rf_f1-micro': 0.9050715214564369,\n",
       "  'product_rf_time': 0.498279333114624,\n",
       "  'tangent_dt_accuracy': 0.9024707412223667,\n",
       "  'tangent_dt_f1-micro': 0.9024707412223667,\n",
       "  'tangent_dt_time': 0.006688594818115234,\n",
       "  'tangent_rf_accuracy': 0.9076723016905072,\n",
       "  'tangent_rf_f1-micro': 0.9076723016905072,\n",
       "  'tangent_rf_time': 0.03252148628234863,\n",
       "  'knn_accuracy': 0.9102730819245773,\n",
       "  'knn_f1-micro': 0.9102730819245773,\n",
       "  'knn_time': 0.04453468322753906,\n",
       "  'ps_perceptron_accuracy': 0.9050715214564369,\n",
       "  'ps_perceptron_f1-micro': 0.9050715214564369,\n",
       "  'ps_perceptron_time': 0.009011983871459961,\n",
       "  'ambient_mlp_accuracy': 0.9050715214564369,\n",
       "  'ambient_mlp_f1-micro': 0.9050715214564369,\n",
       "  'ambient_mlp_time': 36.79794120788574,\n",
       "  'ambient_gnn_accuracy': 0.9193758368492126,\n",
       "  'ambient_gnn_f1_micro': 0.9193758127438232,\n",
       "  'ambient_gnn_time': 80.39616084098816,\n",
       "  'kappa_gcn_accuracy': 0.9193758368492126,\n",
       "  'kappa_gcn_f1_micro': 0.9193758127438232,\n",
       "  'kappa_gcn_time': 163.5439534187317,\n",
       "  'product_mlr_accuracy': 0.9193758368492126,\n",
       "  'product_mlr_f1_micro': 0.9193758127438232,\n",
       "  'product_mlr_time': 145.1553876399994,\n",
       "  'd_avg': nan,\n",
       "  'dataset': 'dolphins'},\n",
       " {'sklearn_dt_accuracy': 0.9193758127438232,\n",
       "  'sklearn_dt_f1-micro': 0.9193758127438232,\n",
       "  'sklearn_dt_time': 0.00833892822265625,\n",
       "  'sklearn_rf_accuracy': 0.9115734720416124,\n",
       "  'sklearn_rf_f1-micro': 0.9115734720416124,\n",
       "  'sklearn_rf_time': 0.03538179397583008,\n",
       "  'product_dt_accuracy': 0.918075422626788,\n",
       "  'product_dt_f1-micro': 0.918075422626788,\n",
       "  'product_dt_time': 0.056418418884277344,\n",
       "  'product_rf_accuracy': 0.9115734720416124,\n",
       "  'product_rf_f1-micro': 0.9115734720416124,\n",
       "  'product_rf_time': 0.4733002185821533,\n",
       "  'tangent_dt_accuracy': 0.9167750325097529,\n",
       "  'tangent_dt_f1-micro': 0.9167750325097529,\n",
       "  'tangent_dt_time': 0.0067157745361328125,\n",
       "  'tangent_rf_accuracy': 0.9128738621586476,\n",
       "  'tangent_rf_f1-micro': 0.9128738621586476,\n",
       "  'tangent_rf_time': 0.03231978416442871,\n",
       "  'knn_accuracy': 0.9232769830949284,\n",
       "  'knn_f1-micro': 0.9232769830949284,\n",
       "  'knn_time': 0.045552968978881836,\n",
       "  'ps_perceptron_accuracy': 0.9102730819245773,\n",
       "  'ps_perceptron_f1-micro': 0.9102730819245773,\n",
       "  'ps_perceptron_time': 0.008975744247436523,\n",
       "  'ambient_mlp_accuracy': 0.9115734720416124,\n",
       "  'ambient_mlp_f1-micro': 0.9115734720416124,\n",
       "  'ambient_mlp_time': 36.94530129432678,\n",
       "  'ambient_gnn_accuracy': 0.927178144454956,\n",
       "  'ambient_gnn_f1_micro': 0.9271781534460338,\n",
       "  'ambient_gnn_time': 79.99536180496216,\n",
       "  'kappa_gcn_accuracy': 0.927178144454956,\n",
       "  'kappa_gcn_f1_micro': 0.9271781534460338,\n",
       "  'kappa_gcn_time': 148.81149077415466,\n",
       "  'product_mlr_accuracy': 0.927178144454956,\n",
       "  'product_mlr_f1_micro': 0.9271781534460338,\n",
       "  'product_mlr_time': 151.37283205986023,\n",
       "  'd_avg': nan,\n",
       "  'dataset': 'dolphins'},\n",
       " {'sklearn_dt_accuracy': 0.9219765929778934,\n",
       "  'sklearn_dt_f1-micro': 0.9219765929778934,\n",
       "  'sklearn_dt_time': 0.008305788040161133,\n",
       "  'sklearn_rf_accuracy': 0.9258777633289987,\n",
       "  'sklearn_rf_f1-micro': 0.9258777633289987,\n",
       "  'sklearn_rf_time': 0.03638958930969238,\n",
       "  'product_dt_accuracy': 0.9245773732119635,\n",
       "  'product_dt_f1-micro': 0.9245773732119635,\n",
       "  'product_dt_time': 0.05886554718017578,\n",
       "  'product_rf_accuracy': 0.9258777633289987,\n",
       "  'product_rf_f1-micro': 0.9258777633289987,\n",
       "  'product_rf_time': 0.47627711296081543,\n",
       "  'tangent_dt_accuracy': 0.9258777633289987,\n",
       "  'tangent_dt_f1-micro': 0.9258777633289987,\n",
       "  'tangent_dt_time': 0.007152080535888672,\n",
       "  'tangent_rf_accuracy': 0.9232769830949284,\n",
       "  'tangent_rf_f1-micro': 0.9232769830949284,\n",
       "  'tangent_rf_time': 0.033168792724609375,\n",
       "  'knn_accuracy': 0.9193758127438232,\n",
       "  'knn_f1-micro': 0.9193758127438232,\n",
       "  'knn_time': 0.04586505889892578,\n",
       "  'ps_perceptron_accuracy': 0.9232769830949284,\n",
       "  'ps_perceptron_f1-micro': 0.9232769830949284,\n",
       "  'ps_perceptron_time': 0.009002685546875,\n",
       "  'ambient_mlp_accuracy': 0.9232769830949284,\n",
       "  'ambient_mlp_f1-micro': 0.9232769830949284,\n",
       "  'ambient_mlp_time': 36.5727915763855,\n",
       "  'ambient_gnn_accuracy': 0.9219765663146973,\n",
       "  'ambient_gnn_f1_micro': 0.9219765929778934,\n",
       "  'ambient_gnn_time': 81.26939105987549,\n",
       "  'kappa_gcn_accuracy': 0.9219765663146973,\n",
       "  'kappa_gcn_f1_micro': 0.9219765929778934,\n",
       "  'kappa_gcn_time': 139.59032082557678,\n",
       "  'product_mlr_accuracy': 0.9219765663146973,\n",
       "  'product_mlr_f1_micro': 0.9219765929778934,\n",
       "  'product_mlr_time': 143.80568981170654,\n",
       "  'd_avg': nan,\n",
       "  'dataset': 'dolphins'},\n",
       " {'sklearn_dt_accuracy': 0.9115734720416124,\n",
       "  'sklearn_dt_f1-micro': 0.9115734720416124,\n",
       "  'sklearn_dt_time': 0.008634090423583984,\n",
       "  'sklearn_rf_accuracy': 0.9128738621586476,\n",
       "  'sklearn_rf_f1-micro': 0.9128738621586476,\n",
       "  'sklearn_rf_time': 0.034435272216796875,\n",
       "  'product_dt_accuracy': 0.9115734720416124,\n",
       "  'product_dt_f1-micro': 0.9115734720416124,\n",
       "  'product_dt_time': 0.059058189392089844,\n",
       "  'product_rf_accuracy': 0.9141742522756827,\n",
       "  'product_rf_f1-micro': 0.9141742522756827,\n",
       "  'product_rf_time': 0.46903324127197266,\n",
       "  'tangent_dt_accuracy': 0.9167750325097529,\n",
       "  'tangent_dt_f1-micro': 0.9167750325097529,\n",
       "  'tangent_dt_time': 0.0068798065185546875,\n",
       "  'tangent_rf_accuracy': 0.9128738621586476,\n",
       "  'tangent_rf_f1-micro': 0.9128738621586476,\n",
       "  'tangent_rf_time': 0.03419685363769531,\n",
       "  'knn_accuracy': 0.9011703511053316,\n",
       "  'knn_f1-micro': 0.9011703511053316,\n",
       "  'knn_time': 0.04561138153076172,\n",
       "  'ps_perceptron_accuracy': 0.9141742522756827,\n",
       "  'ps_perceptron_f1-micro': 0.9141742522756827,\n",
       "  'ps_perceptron_time': 0.008970022201538086,\n",
       "  'ambient_mlp_accuracy': 0.9141742522756827,\n",
       "  'ambient_mlp_f1-micro': 0.9141742522756827,\n",
       "  'ambient_mlp_time': 36.336201667785645,\n",
       "  'ambient_gnn_accuracy': 0.9024707078933716,\n",
       "  'ambient_gnn_f1_micro': 0.9024707412223667,\n",
       "  'ambient_gnn_time': 77.87532043457031,\n",
       "  'kappa_gcn_accuracy': 0.9024707078933716,\n",
       "  'kappa_gcn_f1_micro': 0.9024707412223667,\n",
       "  'kappa_gcn_time': 178.1281909942627,\n",
       "  'product_mlr_accuracy': 0.9024707078933716,\n",
       "  'product_mlr_f1_micro': 0.9024707412223667,\n",
       "  'product_mlr_time': 177.4494435787201,\n",
       "  'd_avg': nan,\n",
       "  'dataset': 'dolphins'},\n",
       " {'sklearn_dt_accuracy': 0.9245773732119635,\n",
       "  'sklearn_dt_f1-micro': 0.9245773732119635,\n",
       "  'sklearn_dt_time': 0.008093118667602539,\n",
       "  'sklearn_rf_accuracy': 0.9245773732119635,\n",
       "  'sklearn_rf_f1-micro': 0.9245773732119635,\n",
       "  'sklearn_rf_time': 0.035140275955200195,\n",
       "  'product_dt_accuracy': 0.9219765929778934,\n",
       "  'product_dt_f1-micro': 0.9219765929778934,\n",
       "  'product_dt_time': 0.05719876289367676,\n",
       "  'product_rf_accuracy': 0.9245773732119635,\n",
       "  'product_rf_f1-micro': 0.9245773732119635,\n",
       "  'product_rf_time': 0.473996639251709,\n",
       "  'tangent_dt_accuracy': 0.9245773732119635,\n",
       "  'tangent_dt_f1-micro': 0.9245773732119635,\n",
       "  'tangent_dt_time': 0.006580352783203125,\n",
       "  'tangent_rf_accuracy': 0.9245773732119635,\n",
       "  'tangent_rf_f1-micro': 0.9245773732119635,\n",
       "  'tangent_rf_time': 0.03404879570007324,\n",
       "  'knn_accuracy': 0.9141742522756827,\n",
       "  'knn_f1-micro': 0.9141742522756827,\n",
       "  'knn_time': 0.044770002365112305,\n",
       "  'ps_perceptron_accuracy': 0.9245773732119635,\n",
       "  'ps_perceptron_f1-micro': 0.9245773732119635,\n",
       "  'ps_perceptron_time': 0.008961915969848633,\n",
       "  'ambient_mlp_accuracy': 0.9245773732119635,\n",
       "  'ambient_mlp_f1-micro': 0.9245773732119635,\n",
       "  'ambient_mlp_time': 36.10466527938843,\n",
       "  'ambient_gnn_accuracy': 0.9193758368492126,\n",
       "  'ambient_gnn_f1_micro': 0.9193758127438232,\n",
       "  'ambient_gnn_time': 80.30315661430359,\n",
       "  'kappa_gcn_accuracy': 0.9193758368492126,\n",
       "  'kappa_gcn_f1_micro': 0.9193758127438232,\n",
       "  'kappa_gcn_time': 171.33684277534485,\n",
       "  'product_mlr_accuracy': 0.9193758368492126,\n",
       "  'product_mlr_f1_micro': 0.9193758127438232,\n",
       "  'product_mlr_time': 150.31122851371765,\n",
       "  'd_avg': nan,\n",
       "  'dataset': 'dolphins'},\n",
       " {'sklearn_dt_accuracy': 0.9063719115734721,\n",
       "  'sklearn_dt_f1-micro': 0.9063719115734721,\n",
       "  'sklearn_dt_time': 0.008094549179077148,\n",
       "  'sklearn_rf_accuracy': 0.9115734720416124,\n",
       "  'sklearn_rf_f1-micro': 0.9115734720416124,\n",
       "  'sklearn_rf_time': 0.03524494171142578,\n",
       "  'product_dt_accuracy': 0.9063719115734721,\n",
       "  'product_dt_f1-micro': 0.9063719115734721,\n",
       "  'product_dt_time': 0.05644989013671875,\n",
       "  'product_rf_accuracy': 0.9102730819245773,\n",
       "  'product_rf_f1-micro': 0.9102730819245773,\n",
       "  'product_rf_time': 0.47063684463500977,\n",
       "  'tangent_dt_accuracy': 0.9063719115734721,\n",
       "  'tangent_dt_f1-micro': 0.9063719115734721,\n",
       "  'tangent_dt_time': 0.006891965866088867,\n",
       "  'tangent_rf_accuracy': 0.9102730819245773,\n",
       "  'tangent_rf_f1-micro': 0.9102730819245773,\n",
       "  'tangent_rf_time': 0.035793304443359375,\n",
       "  'knn_accuracy': 0.9193758127438232,\n",
       "  'knn_f1-micro': 0.9193758127438232,\n",
       "  'knn_time': 0.04546356201171875,\n",
       "  'ps_perceptron_accuracy': 0.9102730819245773,\n",
       "  'ps_perceptron_f1-micro': 0.9102730819245773,\n",
       "  'ps_perceptron_time': 0.008952617645263672,\n",
       "  'ambient_mlp_accuracy': 0.9102730819245773,\n",
       "  'ambient_mlp_f1-micro': 0.9102730819245773,\n",
       "  'ambient_mlp_time': 37.068325996398926,\n",
       "  'ambient_gnn_accuracy': 0.9154746532440186,\n",
       "  'ambient_gnn_f1_micro': 0.9154746423927178,\n",
       "  'ambient_gnn_time': 72.59296464920044,\n",
       "  'kappa_gcn_accuracy': 0.9154746532440186,\n",
       "  'kappa_gcn_f1_micro': 0.9154746423927178,\n",
       "  'kappa_gcn_time': 169.52680230140686,\n",
       "  'product_mlr_accuracy': 0.9154746532440186,\n",
       "  'product_mlr_f1_micro': 0.9154746423927178,\n",
       "  'product_mlr_time': 182.43911504745483,\n",
       "  'd_avg': nan,\n",
       "  'dataset': 'dolphins'},\n",
       " {'sklearn_dt_accuracy': 0.9245773732119635,\n",
       "  'sklearn_dt_f1-micro': 0.9245773732119635,\n",
       "  'sklearn_dt_time': 0.009010791778564453,\n",
       "  'sklearn_rf_accuracy': 0.9271781534460338,\n",
       "  'sklearn_rf_f1-micro': 0.9271781534460338,\n",
       "  'sklearn_rf_time': 0.04335212707519531,\n",
       "  'product_dt_accuracy': 0.9258777633289987,\n",
       "  'product_dt_f1-micro': 0.9258777633289987,\n",
       "  'product_dt_time': 0.05591320991516113,\n",
       "  'product_rf_accuracy': 0.9271781534460338,\n",
       "  'product_rf_f1-micro': 0.9271781534460338,\n",
       "  'product_rf_time': 0.4752380847930908,\n",
       "  'tangent_dt_accuracy': 0.9219765929778934,\n",
       "  'tangent_dt_f1-micro': 0.9219765929778934,\n",
       "  'tangent_dt_time': 0.006250858306884766,\n",
       "  'tangent_rf_accuracy': 0.9284785435630689,\n",
       "  'tangent_rf_f1-micro': 0.9284785435630689,\n",
       "  'tangent_rf_time': 0.03519773483276367,\n",
       "  'knn_accuracy': 0.9206762028608583,\n",
       "  'knn_f1-micro': 0.9206762028608583,\n",
       "  'knn_time': 0.04505109786987305,\n",
       "  'ps_perceptron_accuracy': 0.9258777633289987,\n",
       "  'ps_perceptron_f1-micro': 0.9258777633289987,\n",
       "  'ps_perceptron_time': 0.008945465087890625,\n",
       "  'ambient_mlp_accuracy': 0.9271781534460338,\n",
       "  'ambient_mlp_f1-micro': 0.9271781534460338,\n",
       "  'ambient_mlp_time': 36.338072538375854,\n",
       "  'ambient_gnn_accuracy': 0.9284785389900208,\n",
       "  'ambient_gnn_f1_micro': 0.9284785435630689,\n",
       "  'ambient_gnn_time': 80.19972538948059,\n",
       "  'kappa_gcn_accuracy': 0.9284785389900208,\n",
       "  'kappa_gcn_f1_micro': 0.9284785435630689,\n",
       "  'kappa_gcn_time': 172.6152539253235,\n",
       "  'product_mlr_accuracy': 0.9284785389900208,\n",
       "  'product_mlr_f1_micro': 0.9284785435630689,\n",
       "  'product_mlr_time': 164.5159876346588,\n",
       "  'd_avg': nan,\n",
       "  'dataset': 'dolphins'},\n",
       " {'sklearn_dt_accuracy': 0.9154746423927178,\n",
       "  'sklearn_dt_f1-micro': 0.9154746423927178,\n",
       "  'sklearn_dt_time': 0.008287906646728516,\n",
       "  'sklearn_rf_accuracy': 0.9128738621586476,\n",
       "  'sklearn_rf_f1-micro': 0.9128738621586476,\n",
       "  'sklearn_rf_time': 0.035761356353759766,\n",
       "  'product_dt_accuracy': 0.9141742522756827,\n",
       "  'product_dt_f1-micro': 0.9141742522756827,\n",
       "  'product_dt_time': 0.05283927917480469,\n",
       "  'product_rf_accuracy': 0.9128738621586476,\n",
       "  'product_rf_f1-micro': 0.9128738621586476,\n",
       "  'product_rf_time': 0.47035956382751465,\n",
       "  'tangent_dt_accuracy': 0.9167750325097529,\n",
       "  'tangent_dt_f1-micro': 0.9167750325097529,\n",
       "  'tangent_dt_time': 0.006456136703491211,\n",
       "  'tangent_rf_accuracy': 0.9128738621586476,\n",
       "  'tangent_rf_f1-micro': 0.9128738621586476,\n",
       "  'tangent_rf_time': 0.03788161277770996,\n",
       "  'knn_accuracy': 0.9102730819245773,\n",
       "  'knn_f1-micro': 0.9102730819245773,\n",
       "  'knn_time': 0.04572296142578125,\n",
       "  'ps_perceptron_accuracy': 0.9128738621586476,\n",
       "  'ps_perceptron_f1-micro': 0.9128738621586476,\n",
       "  'ps_perceptron_time': 0.008969306945800781,\n",
       "  'ambient_mlp_accuracy': 0.9128738621586476,\n",
       "  'ambient_mlp_f1-micro': 0.9128738621586476,\n",
       "  'ambient_mlp_time': 35.99722075462341,\n",
       "  'ambient_gnn_accuracy': 0.9089726805686951,\n",
       "  'ambient_gnn_f1_micro': 0.9089726918075423,\n",
       "  'ambient_gnn_time': 79.8066132068634,\n",
       "  'kappa_gcn_accuracy': 0.9089726805686951,\n",
       "  'kappa_gcn_f1_micro': 0.9089726918075423,\n",
       "  'kappa_gcn_time': 154.70938682556152,\n",
       "  'product_mlr_accuracy': 0.9089726805686951,\n",
       "  'product_mlr_f1_micro': 0.9089726918075423,\n",
       "  'product_mlr_time': 149.15169525146484,\n",
       "  'd_avg': nan,\n",
       "  'dataset': 'dolphins'},\n",
       " {'sklearn_dt_accuracy': 0.8163265306122449,\n",
       "  'sklearn_dt_f1-micro': 0.8163265306122449,\n",
       "  'sklearn_dt_time': 0.003020763397216797,\n",
       "  'sklearn_rf_accuracy': 0.7959183673469388,\n",
       "  'sklearn_rf_f1-micro': 0.7959183673469388,\n",
       "  'sklearn_rf_time': 0.0368497371673584,\n",
       "  'product_dt_accuracy': 0.8244897959183674,\n",
       "  'product_dt_f1-micro': 0.8244897959183674,\n",
       "  'product_dt_time': 0.03088092803955078,\n",
       "  'product_rf_accuracy': 0.8040816326530612,\n",
       "  'product_rf_f1-micro': 0.8040816326530612,\n",
       "  'product_rf_time': 0.353971004486084,\n",
       "  'tangent_dt_accuracy': 0.8244897959183674,\n",
       "  'tangent_dt_f1-micro': 0.8244897959183674,\n",
       "  'tangent_dt_time': 0.002393007278442383,\n",
       "  'tangent_rf_accuracy': 0.8285714285714286,\n",
       "  'tangent_rf_f1-micro': 0.8285714285714286,\n",
       "  'tangent_rf_time': 0.033937692642211914,\n",
       "  'knn_accuracy': 0.8,\n",
       "  'knn_f1-micro': 0.8,\n",
       "  'knn_time': 0.005252838134765625,\n",
       "  'ps_perceptron_accuracy': 0.8040816326530612,\n",
       "  'ps_perceptron_f1-micro': 0.8040816326530612,\n",
       "  'ps_perceptron_time': 0.01592254638671875,\n",
       "  'ambient_mlp_accuracy': 0.8040816326530612,\n",
       "  'ambient_mlp_f1-micro': 0.8040816326530612,\n",
       "  'ambient_mlp_time': 35.9868004322052,\n",
       "  'ambient_gnn_accuracy': 0.13061223924160004,\n",
       "  'ambient_gnn_f1_micro': 0.1306122448979592,\n",
       "  'ambient_gnn_time': 77.5653305053711,\n",
       "  'kappa_gcn_accuracy': 0.13061223924160004,\n",
       "  'kappa_gcn_f1_micro': 0.1306122448979592,\n",
       "  'kappa_gcn_time': 159.64967155456543,\n",
       "  'product_mlr_accuracy': 0.15102040767669678,\n",
       "  'product_mlr_f1_micro': 0.1510204081632653,\n",
       "  'product_mlr_time': 153.066344499588,\n",
       "  'd_avg': nan,\n",
       "  'dataset': 'football'},\n",
       " {'sklearn_dt_accuracy': 0.7959183673469388,\n",
       "  'sklearn_dt_f1-micro': 0.7959183673469388,\n",
       "  'sklearn_dt_time': 0.003045320510864258,\n",
       "  'sklearn_rf_accuracy': 0.8040816326530612,\n",
       "  'sklearn_rf_f1-micro': 0.8040816326530612,\n",
       "  'sklearn_rf_time': 0.03377890586853027,\n",
       "  'product_dt_accuracy': 0.7836734693877551,\n",
       "  'product_dt_f1-micro': 0.7836734693877551,\n",
       "  'product_dt_time': 0.033057451248168945,\n",
       "  'product_rf_accuracy': 0.8081632653061225,\n",
       "  'product_rf_f1-micro': 0.8081632653061225,\n",
       "  'product_rf_time': 0.3668544292449951,\n",
       "  'tangent_dt_accuracy': 0.8,\n",
       "  'tangent_dt_f1-micro': 0.8,\n",
       "  'tangent_dt_time': 0.0024461746215820312,\n",
       "  'tangent_rf_accuracy': 0.8081632653061225,\n",
       "  'tangent_rf_f1-micro': 0.8081632653061225,\n",
       "  'tangent_rf_time': 0.03345155715942383,\n",
       "  'knn_accuracy': 0.7836734693877551,\n",
       "  'knn_f1-micro': 0.7836734693877551,\n",
       "  'knn_time': 0.005407094955444336,\n",
       "  'ps_perceptron_accuracy': 0.8040816326530612,\n",
       "  'ps_perceptron_f1-micro': 0.8040816326530612,\n",
       "  'ps_perceptron_time': 0.016038894653320312,\n",
       "  'ambient_mlp_accuracy': 0.8081632653061225,\n",
       "  'ambient_mlp_f1-micro': 0.8081632653061225,\n",
       "  'ambient_mlp_time': 35.9830858707428,\n",
       "  'ambient_gnn_accuracy': 0.22040815651416779,\n",
       "  'ambient_gnn_f1_micro': 0.22040816326530613,\n",
       "  'ambient_gnn_time': 77.63768315315247,\n",
       "  'kappa_gcn_accuracy': 0.8204081058502197,\n",
       "  'kappa_gcn_f1_micro': 0.8204081632653061,\n",
       "  'kappa_gcn_time': 171.35640120506287,\n",
       "  'product_mlr_accuracy': 0.22040815651416779,\n",
       "  'product_mlr_f1_micro': 0.22040816326530613,\n",
       "  'product_mlr_time': 172.45853805541992,\n",
       "  'd_avg': nan,\n",
       "  'dataset': 'football'},\n",
       " {'sklearn_dt_accuracy': 0.7551020408163265,\n",
       "  'sklearn_dt_f1-micro': 0.7551020408163265,\n",
       "  'sklearn_dt_time': 0.0029985904693603516,\n",
       "  'sklearn_rf_accuracy': 0.7551020408163265,\n",
       "  'sklearn_rf_f1-micro': 0.7551020408163265,\n",
       "  'sklearn_rf_time': 0.033727169036865234,\n",
       "  'product_dt_accuracy': 0.7551020408163265,\n",
       "  'product_dt_f1-micro': 0.7551020408163265,\n",
       "  'product_dt_time': 0.03464007377624512,\n",
       "  'product_rf_accuracy': 0.7591836734693878,\n",
       "  'product_rf_f1-micro': 0.7591836734693878,\n",
       "  'product_rf_time': 0.3251214027404785,\n",
       "  'tangent_dt_accuracy': 0.7591836734693878,\n",
       "  'tangent_dt_f1-micro': 0.7591836734693878,\n",
       "  'tangent_dt_time': 0.0024149417877197266,\n",
       "  'tangent_rf_accuracy': 0.7551020408163265,\n",
       "  'tangent_rf_f1-micro': 0.7551020408163265,\n",
       "  'tangent_rf_time': 0.03558540344238281,\n",
       "  'knn_accuracy': 0.726530612244898,\n",
       "  'knn_f1-micro': 0.726530612244898,\n",
       "  'knn_time': 0.005288600921630859,\n",
       "  'ps_perceptron_accuracy': 0.7591836734693878,\n",
       "  'ps_perceptron_f1-micro': 0.7591836734693878,\n",
       "  'ps_perceptron_time': 0.01581430435180664,\n",
       "  'ambient_mlp_accuracy': 0.7591836734693878,\n",
       "  'ambient_mlp_f1-micro': 0.7591836734693878,\n",
       "  'ambient_mlp_time': 35.50702714920044,\n",
       "  'ambient_gnn_accuracy': 0.2163265198469162,\n",
       "  'ambient_gnn_f1_micro': 0.2163265306122449,\n",
       "  'ambient_gnn_time': 76.7973084449768,\n",
       "  'kappa_gcn_accuracy': 0.2163265198469162,\n",
       "  'kappa_gcn_f1_micro': 0.2163265306122449,\n",
       "  'kappa_gcn_time': 160.49000430107117,\n",
       "  'product_mlr_accuracy': 0.2163265198469162,\n",
       "  'product_mlr_f1_micro': 0.2163265306122449,\n",
       "  'product_mlr_time': 165.61839079856873,\n",
       "  'd_avg': nan,\n",
       "  'dataset': 'football'},\n",
       " {'sklearn_dt_accuracy': 0.7346938775510204,\n",
       "  'sklearn_dt_f1-micro': 0.7346938775510204,\n",
       "  'sklearn_dt_time': 0.0028600692749023438,\n",
       "  'sklearn_rf_accuracy': 0.7591836734693878,\n",
       "  'sklearn_rf_f1-micro': 0.7591836734693878,\n",
       "  'sklearn_rf_time': 0.036014556884765625,\n",
       "  'product_dt_accuracy': 0.726530612244898,\n",
       "  'product_dt_f1-micro': 0.726530612244898,\n",
       "  'product_dt_time': 0.032311201095581055,\n",
       "  'product_rf_accuracy': 0.7551020408163265,\n",
       "  'product_rf_f1-micro': 0.7551020408163265,\n",
       "  'product_rf_time': 0.3882300853729248,\n",
       "  'tangent_dt_accuracy': 0.7224489795918367,\n",
       "  'tangent_dt_f1-micro': 0.7224489795918367,\n",
       "  'tangent_dt_time': 0.0023708343505859375,\n",
       "  'tangent_rf_accuracy': 0.7510204081632653,\n",
       "  'tangent_rf_f1-micro': 0.7510204081632653,\n",
       "  'tangent_rf_time': 0.035185813903808594,\n",
       "  'knn_accuracy': 0.7428571428571429,\n",
       "  'knn_f1-micro': 0.7428571428571429,\n",
       "  'knn_time': 0.005288839340209961,\n",
       "  'ps_perceptron_accuracy': 0.7428571428571429,\n",
       "  'ps_perceptron_f1-micro': 0.7428571428571429,\n",
       "  'ps_perceptron_time': 0.018149852752685547,\n",
       "  'ambient_mlp_accuracy': 0.7510204081632653,\n",
       "  'ambient_mlp_f1-micro': 0.7510204081632653,\n",
       "  'ambient_mlp_time': 36.77312135696411,\n",
       "  'ambient_gnn_accuracy': 0.559183657169342,\n",
       "  'ambient_gnn_f1_micro': 0.5591836734693878,\n",
       "  'ambient_gnn_time': 76.31256794929504,\n",
       "  'kappa_gcn_accuracy': 0.8244897723197937,\n",
       "  'kappa_gcn_f1_micro': 0.8244897959183674,\n",
       "  'kappa_gcn_time': 176.37585043907166,\n",
       "  'product_mlr_accuracy': 0.8244897723197937,\n",
       "  'product_mlr_f1_micro': 0.8244897959183674,\n",
       "  'product_mlr_time': 140.22295594215393,\n",
       "  'd_avg': nan,\n",
       "  'dataset': 'football'},\n",
       " {'sklearn_dt_accuracy': 0.8122448979591836,\n",
       "  'sklearn_dt_f1-micro': 0.8122448979591836,\n",
       "  'sklearn_dt_time': 0.0028443336486816406,\n",
       "  'sklearn_rf_accuracy': 0.8163265306122449,\n",
       "  'sklearn_rf_f1-micro': 0.8163265306122449,\n",
       "  'sklearn_rf_time': 0.03485679626464844,\n",
       "  'product_dt_accuracy': 0.8285714285714286,\n",
       "  'product_dt_f1-micro': 0.8285714285714286,\n",
       "  'product_dt_time': 0.03543806076049805,\n",
       "  'product_rf_accuracy': 0.8326530612244898,\n",
       "  'product_rf_f1-micro': 0.8326530612244898,\n",
       "  'product_rf_time': 0.34447574615478516,\n",
       "  'tangent_dt_accuracy': 0.8285714285714286,\n",
       "  'tangent_dt_f1-micro': 0.8285714285714286,\n",
       "  'tangent_dt_time': 0.002281665802001953,\n",
       "  'tangent_rf_accuracy': 0.8163265306122449,\n",
       "  'tangent_rf_f1-micro': 0.8163265306122449,\n",
       "  'tangent_rf_time': 0.03476977348327637,\n",
       "  'knn_accuracy': 0.8040816326530612,\n",
       "  'knn_f1-micro': 0.8040816326530612,\n",
       "  'knn_time': 0.005174398422241211,\n",
       "  'ps_perceptron_accuracy': 0.8122448979591836,\n",
       "  'ps_perceptron_f1-micro': 0.8122448979591836,\n",
       "  'ps_perceptron_time': 0.014636754989624023,\n",
       "  'ambient_mlp_accuracy': 0.8163265306122449,\n",
       "  'ambient_mlp_f1-micro': 0.8163265306122449,\n",
       "  'ambient_mlp_time': 36.13116908073425,\n",
       "  'ambient_gnn_accuracy': 0.41632652282714844,\n",
       "  'ambient_gnn_f1_micro': 0.4163265306122449,\n",
       "  'ambient_gnn_time': 76.09897065162659,\n",
       "  'kappa_gcn_accuracy': 0.5714285373687744,\n",
       "  'kappa_gcn_f1_micro': 0.5714285714285714,\n",
       "  'kappa_gcn_time': 157.6662881374359,\n",
       "  'product_mlr_accuracy': 0.44897958636283875,\n",
       "  'product_mlr_f1_micro': 0.4489795918367347,\n",
       "  'product_mlr_time': 151.34364819526672,\n",
       "  'd_avg': nan,\n",
       "  'dataset': 'football'},\n",
       " {'sklearn_dt_accuracy': 0.7551020408163265,\n",
       "  'sklearn_dt_f1-micro': 0.7551020408163265,\n",
       "  'sklearn_dt_time': 0.002998828887939453,\n",
       "  'sklearn_rf_accuracy': 0.7836734693877551,\n",
       "  'sklearn_rf_f1-micro': 0.7836734693877551,\n",
       "  'sklearn_rf_time': 0.03292584419250488,\n",
       "  'product_dt_accuracy': 0.7673469387755102,\n",
       "  'product_dt_f1-micro': 0.7673469387755102,\n",
       "  'product_dt_time': 0.035694122314453125,\n",
       "  'product_rf_accuracy': 0.7877551020408163,\n",
       "  'product_rf_f1-micro': 0.7877551020408163,\n",
       "  'product_rf_time': 0.38947510719299316,\n",
       "  'tangent_dt_accuracy': 0.7591836734693878,\n",
       "  'tangent_dt_f1-micro': 0.7591836734693878,\n",
       "  'tangent_dt_time': 0.002450227737426758,\n",
       "  'tangent_rf_accuracy': 0.7836734693877551,\n",
       "  'tangent_rf_f1-micro': 0.7836734693877551,\n",
       "  'tangent_rf_time': 0.03345918655395508,\n",
       "  'knn_accuracy': 0.7673469387755102,\n",
       "  'knn_f1-micro': 0.7673469387755102,\n",
       "  'knn_time': 0.0054187774658203125,\n",
       "  'ps_perceptron_accuracy': 0.7836734693877551,\n",
       "  'ps_perceptron_f1-micro': 0.7836734693877551,\n",
       "  'ps_perceptron_time': 0.01622605323791504,\n",
       "  'ambient_mlp_accuracy': 0.7877551020408163,\n",
       "  'ambient_mlp_f1-micro': 0.7877551020408163,\n",
       "  'ambient_mlp_time': 37.44898986816406,\n",
       "  'ambient_gnn_accuracy': 0.3551020324230194,\n",
       "  'ambient_gnn_f1_micro': 0.3551020408163265,\n",
       "  'ambient_gnn_time': 77.40527606010437,\n",
       "  'kappa_gcn_accuracy': 0.4734693765640259,\n",
       "  'kappa_gcn_f1_micro': 0.47346938775510206,\n",
       "  'kappa_gcn_time': 169.7292284965515,\n",
       "  'product_mlr_accuracy': 0.37142854928970337,\n",
       "  'product_mlr_f1_micro': 0.37142857142857144,\n",
       "  'product_mlr_time': 148.67524456977844,\n",
       "  'd_avg': nan,\n",
       "  'dataset': 'football'},\n",
       " {'sklearn_dt_accuracy': 0.763265306122449,\n",
       "  'sklearn_dt_f1-micro': 0.763265306122449,\n",
       "  'sklearn_dt_time': 0.0028553009033203125,\n",
       "  'sklearn_rf_accuracy': 0.7959183673469388,\n",
       "  'sklearn_rf_f1-micro': 0.7959183673469388,\n",
       "  'sklearn_rf_time': 0.03213787078857422,\n",
       "  'product_dt_accuracy': 0.7836734693877551,\n",
       "  'product_dt_f1-micro': 0.7836734693877551,\n",
       "  'product_dt_time': 0.04090237617492676,\n",
       "  'product_rf_accuracy': 0.7918367346938775,\n",
       "  'product_rf_f1-micro': 0.7918367346938775,\n",
       "  'product_rf_time': 0.36371660232543945,\n",
       "  'tangent_dt_accuracy': 0.763265306122449,\n",
       "  'tangent_dt_f1-micro': 0.763265306122449,\n",
       "  'tangent_dt_time': 0.0022842884063720703,\n",
       "  'tangent_rf_accuracy': 0.7877551020408163,\n",
       "  'tangent_rf_f1-micro': 0.7877551020408163,\n",
       "  'tangent_rf_time': 0.037236690521240234,\n",
       "  'knn_accuracy': 0.7795918367346939,\n",
       "  'knn_f1-micro': 0.7795918367346939,\n",
       "  'knn_time': 0.005841255187988281,\n",
       "  'ps_perceptron_accuracy': 0.8,\n",
       "  'ps_perceptron_f1-micro': 0.8,\n",
       "  'ps_perceptron_time': 0.017221689224243164,\n",
       "  'ambient_mlp_accuracy': 0.7959183673469388,\n",
       "  'ambient_mlp_f1-micro': 0.7959183673469388,\n",
       "  'ambient_mlp_time': 36.49632906913757,\n",
       "  'ambient_gnn_accuracy': 0.37551018595695496,\n",
       "  'ambient_gnn_f1_micro': 0.37551020408163266,\n",
       "  'ambient_gnn_time': 77.45996642112732,\n",
       "  'kappa_gcn_accuracy': 0.8285713791847229,\n",
       "  'kappa_gcn_f1_micro': 0.8285714285714286,\n",
       "  'kappa_gcn_time': 171.16806316375732,\n",
       "  'product_mlr_accuracy': 0.3673469126224518,\n",
       "  'product_mlr_f1_micro': 0.3673469387755102,\n",
       "  'product_mlr_time': 159.93948698043823,\n",
       "  'd_avg': nan,\n",
       "  'dataset': 'football'},\n",
       " {'sklearn_dt_accuracy': 0.7836734693877551,\n",
       "  'sklearn_dt_f1-micro': 0.7836734693877551,\n",
       "  'sklearn_dt_time': 0.002996683120727539,\n",
       "  'sklearn_rf_accuracy': 0.8204081632653061,\n",
       "  'sklearn_rf_f1-micro': 0.8204081632653061,\n",
       "  'sklearn_rf_time': 0.03477787971496582,\n",
       "  'product_dt_accuracy': 0.7918367346938775,\n",
       "  'product_dt_f1-micro': 0.7918367346938775,\n",
       "  'product_dt_time': 0.037589073181152344,\n",
       "  'product_rf_accuracy': 0.8163265306122449,\n",
       "  'product_rf_f1-micro': 0.8163265306122449,\n",
       "  'product_rf_time': 0.39054036140441895,\n",
       "  'tangent_dt_accuracy': 0.7959183673469388,\n",
       "  'tangent_dt_f1-micro': 0.7959183673469388,\n",
       "  'tangent_dt_time': 0.002439260482788086,\n",
       "  'tangent_rf_accuracy': 0.8122448979591836,\n",
       "  'tangent_rf_f1-micro': 0.8122448979591836,\n",
       "  'tangent_rf_time': 0.03226780891418457,\n",
       "  'knn_accuracy': 0.8040816326530612,\n",
       "  'knn_f1-micro': 0.8040816326530612,\n",
       "  'knn_time': 0.005263090133666992,\n",
       "  'ps_perceptron_accuracy': 0.8163265306122449,\n",
       "  'ps_perceptron_f1-micro': 0.8163265306122449,\n",
       "  'ps_perceptron_time': 0.01599907875061035,\n",
       "  'ambient_mlp_accuracy': 0.8081632653061225,\n",
       "  'ambient_mlp_f1-micro': 0.8081632653061225,\n",
       "  'ambient_mlp_time': 35.90916442871094,\n",
       "  'ambient_gnn_accuracy': 0.5061224102973938,\n",
       "  'ambient_gnn_f1_micro': 0.5061224489795918,\n",
       "  'ambient_gnn_time': 76.22262382507324,\n",
       "  'kappa_gcn_accuracy': 0.3673469126224518,\n",
       "  'kappa_gcn_f1_micro': 0.3673469387755102,\n",
       "  'kappa_gcn_time': 195.02070379257202,\n",
       "  'product_mlr_accuracy': 0.34693875908851624,\n",
       "  'product_mlr_f1_micro': 0.3469387755102041,\n",
       "  'product_mlr_time': 165.150297164917,\n",
       "  'd_avg': nan,\n",
       "  'dataset': 'football'},\n",
       " {'sklearn_dt_accuracy': 0.7918367346938775,\n",
       "  'sklearn_dt_f1-micro': 0.7918367346938775,\n",
       "  'sklearn_dt_time': 0.0029022693634033203,\n",
       "  'sklearn_rf_accuracy': 0.7959183673469388,\n",
       "  'sklearn_rf_f1-micro': 0.7959183673469388,\n",
       "  'sklearn_rf_time': 0.037100791931152344,\n",
       "  'product_dt_accuracy': 0.7959183673469388,\n",
       "  'product_dt_f1-micro': 0.7959183673469388,\n",
       "  'product_dt_time': 0.04195094108581543,\n",
       "  'product_rf_accuracy': 0.8,\n",
       "  'product_rf_f1-micro': 0.8,\n",
       "  'product_rf_time': 0.4087200164794922,\n",
       "  'tangent_dt_accuracy': 0.7714285714285715,\n",
       "  'tangent_dt_f1-micro': 0.7714285714285715,\n",
       "  'tangent_dt_time': 0.002398252487182617,\n",
       "  'tangent_rf_accuracy': 0.7959183673469388,\n",
       "  'tangent_rf_f1-micro': 0.7959183673469388,\n",
       "  'tangent_rf_time': 0.033855438232421875,\n",
       "  'knn_accuracy': 0.7918367346938775,\n",
       "  'knn_f1-micro': 0.7918367346938775,\n",
       "  'knn_time': 0.005274534225463867,\n",
       "  'ps_perceptron_accuracy': 0.7795918367346939,\n",
       "  'ps_perceptron_f1-micro': 0.7795918367346939,\n",
       "  'ps_perceptron_time': 0.01823878288269043,\n",
       "  'ambient_mlp_accuracy': 0.7877551020408163,\n",
       "  'ambient_mlp_f1-micro': 0.7877551020408163,\n",
       "  'ambient_mlp_time': 36.194517850875854,\n",
       "  'ambient_gnn_accuracy': 0.44081631302833557,\n",
       "  'ambient_gnn_f1_micro': 0.44081632653061226,\n",
       "  'ambient_gnn_time': 72.78856444358826,\n",
       "  'kappa_gcn_accuracy': 0.5020408034324646,\n",
       "  'kappa_gcn_f1_micro': 0.5020408163265306,\n",
       "  'kappa_gcn_time': 167.38808679580688,\n",
       "  'product_mlr_accuracy': 0.45714282989501953,\n",
       "  'product_mlr_f1_micro': 0.45714285714285713,\n",
       "  'product_mlr_time': 163.43525075912476,\n",
       "  'd_avg': nan,\n",
       "  'dataset': 'football'},\n",
       " {'sklearn_dt_accuracy': 0.763265306122449,\n",
       "  'sklearn_dt_f1-micro': 0.763265306122449,\n",
       "  'sklearn_dt_time': 0.0027115345001220703,\n",
       "  'sklearn_rf_accuracy': 0.7877551020408163,\n",
       "  'sklearn_rf_f1-micro': 0.7877551020408163,\n",
       "  'sklearn_rf_time': 0.034749746322631836,\n",
       "  'product_dt_accuracy': 0.7591836734693878,\n",
       "  'product_dt_f1-micro': 0.7591836734693878,\n",
       "  'product_dt_time': 0.027518749237060547,\n",
       "  'product_rf_accuracy': 0.7918367346938775,\n",
       "  'product_rf_f1-micro': 0.7918367346938775,\n",
       "  'product_rf_time': 0.3674626350402832,\n",
       "  'tangent_dt_accuracy': 0.7714285714285715,\n",
       "  'tangent_dt_f1-micro': 0.7714285714285715,\n",
       "  'tangent_dt_time': 0.0023818016052246094,\n",
       "  'tangent_rf_accuracy': 0.7877551020408163,\n",
       "  'tangent_rf_f1-micro': 0.7877551020408163,\n",
       "  'tangent_rf_time': 0.03311967849731445,\n",
       "  'knn_accuracy': 0.7877551020408163,\n",
       "  'knn_f1-micro': 0.7877551020408163,\n",
       "  'knn_time': 0.0051991939544677734,\n",
       "  'ps_perceptron_accuracy': 0.7918367346938775,\n",
       "  'ps_perceptron_f1-micro': 0.7918367346938775,\n",
       "  'ps_perceptron_time': 0.020083904266357422,\n",
       "  'ambient_mlp_accuracy': 0.7918367346938775,\n",
       "  'ambient_mlp_f1-micro': 0.7918367346938775,\n",
       "  'ambient_mlp_time': 35.76287007331848,\n",
       "  'ambient_gnn_accuracy': 0.3918367028236389,\n",
       "  'ambient_gnn_f1_micro': 0.39183673469387753,\n",
       "  'ambient_gnn_time': 75.95615220069885,\n",
       "  'kappa_gcn_accuracy': 0.4204081594944,\n",
       "  'kappa_gcn_f1_micro': 0.4204081632653061,\n",
       "  'kappa_gcn_time': 153.48689079284668,\n",
       "  'product_mlr_accuracy': 0.45306119322776794,\n",
       "  'product_mlr_f1_micro': 0.4530612244897959,\n",
       "  'product_mlr_time': 158.5699393749237,\n",
       "  'd_avg': nan,\n",
       "  'dataset': 'football'},\n",
       " {'sklearn_dt_accuracy': 0.9094827586206896,\n",
       "  'sklearn_dt_f1-micro': 0.9094827586206896,\n",
       "  'sklearn_dt_time': 0.0028061866760253906,\n",
       "  'sklearn_rf_accuracy': 0.9094827586206896,\n",
       "  'sklearn_rf_f1-micro': 0.9094827586206896,\n",
       "  'sklearn_rf_time': 0.03441810607910156,\n",
       "  'product_dt_accuracy': 0.896551724137931,\n",
       "  'product_dt_f1-micro': 0.896551724137931,\n",
       "  'product_dt_time': 0.029858112335205078,\n",
       "  'product_rf_accuracy': 0.8836206896551724,\n",
       "  'product_rf_f1-micro': 0.8836206896551724,\n",
       "  'product_rf_time': 0.30196046829223633,\n",
       "  'tangent_dt_accuracy': 0.9137931034482759,\n",
       "  'tangent_dt_f1-micro': 0.9137931034482759,\n",
       "  'tangent_dt_time': 0.0018117427825927734,\n",
       "  'tangent_rf_accuracy': 0.8793103448275862,\n",
       "  'tangent_rf_f1-micro': 0.8793103448275862,\n",
       "  'tangent_rf_time': 0.03519797325134277,\n",
       "  'knn_accuracy': 0.7758620689655172,\n",
       "  'knn_f1-micro': 0.7758620689655172,\n",
       "  'knn_time': 0.005128383636474609,\n",
       "  'ps_perceptron_accuracy': 0.8405172413793104,\n",
       "  'ps_perceptron_f1-micro': 0.8405172413793104,\n",
       "  'ps_perceptron_time': 0.0043048858642578125,\n",
       "  'ambient_mlp_accuracy': 0.8405172413793104,\n",
       "  'ambient_mlp_f1-micro': 0.8405172413793104,\n",
       "  'ambient_mlp_time': 35.315064430236816,\n",
       "  'ambient_gnn_accuracy': 0.8362069129943848,\n",
       "  'ambient_gnn_f1_micro': 0.8362068965517241,\n",
       "  'ambient_gnn_time': 75.20287418365479,\n",
       "  'kappa_gcn_accuracy': 0.8362069129943848,\n",
       "  'kappa_gcn_f1_micro': 0.8362068965517241,\n",
       "  'kappa_gcn_time': 158.94987034797668,\n",
       "  'product_mlr_accuracy': 0.8362069129943848,\n",
       "  'product_mlr_f1_micro': 0.8362068965517241,\n",
       "  'product_mlr_time': 163.82989883422852,\n",
       "  'd_avg': nan,\n",
       "  'dataset': 'karate_club'},\n",
       " {'sklearn_dt_accuracy': 0.9353448275862069,\n",
       "  'sklearn_dt_f1-micro': 0.9353448275862069,\n",
       "  'sklearn_dt_time': 0.0028765201568603516,\n",
       "  'sklearn_rf_accuracy': 0.896551724137931,\n",
       "  'sklearn_rf_f1-micro': 0.896551724137931,\n",
       "  'sklearn_rf_time': 0.035182952880859375,\n",
       "  'product_dt_accuracy': 0.9051724137931034,\n",
       "  'product_dt_f1-micro': 0.9051724137931034,\n",
       "  'product_dt_time': 0.03665637969970703,\n",
       "  'product_rf_accuracy': 0.853448275862069,\n",
       "  'product_rf_f1-micro': 0.853448275862069,\n",
       "  'product_rf_time': 0.30649662017822266,\n",
       "  'tangent_dt_accuracy': 0.9267241379310345,\n",
       "  'tangent_dt_f1-micro': 0.9267241379310345,\n",
       "  'tangent_dt_time': 0.002245664596557617,\n",
       "  'tangent_rf_accuracy': 0.8836206896551724,\n",
       "  'tangent_rf_f1-micro': 0.8836206896551724,\n",
       "  'tangent_rf_time': 0.03361082077026367,\n",
       "  'knn_accuracy': 0.8318965517241379,\n",
       "  'knn_f1-micro': 0.8318965517241379,\n",
       "  'knn_time': 0.005257129669189453,\n",
       "  'ps_perceptron_accuracy': 0.8577586206896551,\n",
       "  'ps_perceptron_f1-micro': 0.8577586206896551,\n",
       "  'ps_perceptron_time': 0.004321575164794922,\n",
       "  'ambient_mlp_accuracy': 0.8577586206896551,\n",
       "  'ambient_mlp_f1-micro': 0.8577586206896551,\n",
       "  'ambient_mlp_time': 34.38189935684204,\n",
       "  'ambient_gnn_accuracy': 0.8275861740112305,\n",
       "  'ambient_gnn_f1_micro': 0.8275862068965517,\n",
       "  'ambient_gnn_time': 69.50280141830444,\n",
       "  'kappa_gcn_accuracy': 0.8275861740112305,\n",
       "  'kappa_gcn_f1_micro': 0.8275862068965517,\n",
       "  'kappa_gcn_time': 159.71621537208557,\n",
       "  'product_mlr_accuracy': 0.8275861740112305,\n",
       "  'product_mlr_f1_micro': 0.8275862068965517,\n",
       "  'product_mlr_time': 162.07925271987915,\n",
       "  'd_avg': nan,\n",
       "  'dataset': 'karate_club'},\n",
       " {'sklearn_dt_accuracy': 0.9094827586206896,\n",
       "  'sklearn_dt_f1-micro': 0.9094827586206896,\n",
       "  'sklearn_dt_time': 0.002755880355834961,\n",
       "  'sklearn_rf_accuracy': 0.8922413793103449,\n",
       "  'sklearn_rf_f1-micro': 0.8922413793103449,\n",
       "  'sklearn_rf_time': 0.033599853515625,\n",
       "  'product_dt_accuracy': 0.9094827586206896,\n",
       "  'product_dt_f1-micro': 0.9094827586206896,\n",
       "  'product_dt_time': 0.02599191665649414,\n",
       "  'product_rf_accuracy': 0.9094827586206896,\n",
       "  'product_rf_f1-micro': 0.9094827586206896,\n",
       "  'product_rf_time': 0.3117215633392334,\n",
       "  'tangent_dt_accuracy': 0.9094827586206896,\n",
       "  'tangent_dt_f1-micro': 0.9094827586206896,\n",
       "  'tangent_dt_time': 0.0022199153900146484,\n",
       "  'tangent_rf_accuracy': 0.8879310344827587,\n",
       "  'tangent_rf_f1-micro': 0.8879310344827587,\n",
       "  'tangent_rf_time': 0.03247427940368652,\n",
       "  'knn_accuracy': 0.8879310344827587,\n",
       "  'knn_f1-micro': 0.8879310344827587,\n",
       "  'knn_time': 0.00526881217956543,\n",
       "  'ps_perceptron_accuracy': 0.8577586206896551,\n",
       "  'ps_perceptron_f1-micro': 0.8577586206896551,\n",
       "  'ps_perceptron_time': 0.0042798519134521484,\n",
       "  'ambient_mlp_accuracy': 0.8577586206896551,\n",
       "  'ambient_mlp_f1-micro': 0.8577586206896551,\n",
       "  'ambient_mlp_time': 36.96042561531067,\n",
       "  'ambient_gnn_accuracy': 0.8836206793785095,\n",
       "  'ambient_gnn_f1_micro': 0.8836206896551724,\n",
       "  'ambient_gnn_time': 77.09788250923157,\n",
       "  'kappa_gcn_accuracy': 0.8836206793785095,\n",
       "  'kappa_gcn_f1_micro': 0.8836206896551724,\n",
       "  'kappa_gcn_time': 135.06486678123474,\n",
       "  'product_mlr_accuracy': 0.8836206793785095,\n",
       "  'product_mlr_f1_micro': 0.8836206896551724,\n",
       "  'product_mlr_time': 133.40972256660461,\n",
       "  'd_avg': nan,\n",
       "  'dataset': 'karate_club'},\n",
       " {'sklearn_dt_accuracy': 0.9137931034482759,\n",
       "  'sklearn_dt_f1-micro': 0.9137931034482759,\n",
       "  'sklearn_dt_time': 0.002729177474975586,\n",
       "  'sklearn_rf_accuracy': 0.9137931034482759,\n",
       "  'sklearn_rf_f1-micro': 0.9137931034482759,\n",
       "  'sklearn_rf_time': 0.03486990928649902,\n",
       "  'product_dt_accuracy': 0.896551724137931,\n",
       "  'product_dt_f1-micro': 0.896551724137931,\n",
       "  'product_dt_time': 0.029975175857543945,\n",
       "  'product_rf_accuracy': 0.9051724137931034,\n",
       "  'product_rf_f1-micro': 0.9051724137931034,\n",
       "  'product_rf_time': 0.35069894790649414,\n",
       "  'tangent_dt_accuracy': 0.9008620689655172,\n",
       "  'tangent_dt_f1-micro': 0.9008620689655172,\n",
       "  'tangent_dt_time': 0.002110719680786133,\n",
       "  'tangent_rf_accuracy': 0.9137931034482759,\n",
       "  'tangent_rf_f1-micro': 0.9137931034482759,\n",
       "  'tangent_rf_time': 0.033598899841308594,\n",
       "  'knn_accuracy': 0.9008620689655172,\n",
       "  'knn_f1-micro': 0.9008620689655172,\n",
       "  'knn_time': 0.005250215530395508,\n",
       "  'ps_perceptron_accuracy': 0.8491379310344828,\n",
       "  'ps_perceptron_f1-micro': 0.8491379310344828,\n",
       "  'ps_perceptron_time': 0.004256248474121094,\n",
       "  'ambient_mlp_accuracy': 0.8577586206896551,\n",
       "  'ambient_mlp_f1-micro': 0.8577586206896551,\n",
       "  'ambient_mlp_time': 36.19792437553406,\n",
       "  'ambient_gnn_accuracy': 0.8879310488700867,\n",
       "  'ambient_gnn_f1_micro': 0.8879310344827587,\n",
       "  'ambient_gnn_time': 75.67189240455627,\n",
       "  'kappa_gcn_accuracy': 0.8879310488700867,\n",
       "  'kappa_gcn_f1_micro': 0.8879310344827587,\n",
       "  'kappa_gcn_time': 153.3131229877472,\n",
       "  'product_mlr_accuracy': 0.8879310488700867,\n",
       "  'product_mlr_f1_micro': 0.8879310344827587,\n",
       "  'product_mlr_time': 145.3463101387024,\n",
       "  'd_avg': nan,\n",
       "  'dataset': 'karate_club'},\n",
       " {'sklearn_dt_accuracy': 0.8706896551724138,\n",
       "  'sklearn_dt_f1-micro': 0.8706896551724138,\n",
       "  'sklearn_dt_time': 0.0026743412017822266,\n",
       "  'sklearn_rf_accuracy': 0.875,\n",
       "  'sklearn_rf_f1-micro': 0.875,\n",
       "  'sklearn_rf_time': 0.03380250930786133,\n",
       "  'product_dt_accuracy': 0.896551724137931,\n",
       "  'product_dt_f1-micro': 0.896551724137931,\n",
       "  'product_dt_time': 0.03581070899963379,\n",
       "  'product_rf_accuracy': 0.8879310344827587,\n",
       "  'product_rf_f1-micro': 0.8879310344827587,\n",
       "  'product_rf_time': 0.39363908767700195,\n",
       "  'tangent_dt_accuracy': 0.8922413793103449,\n",
       "  'tangent_dt_f1-micro': 0.8922413793103449,\n",
       "  'tangent_dt_time': 0.002201557159423828,\n",
       "  'tangent_rf_accuracy': 0.8879310344827587,\n",
       "  'tangent_rf_f1-micro': 0.8879310344827587,\n",
       "  'tangent_rf_time': 0.03249645233154297,\n",
       "  'knn_accuracy': 0.9094827586206896,\n",
       "  'knn_f1-micro': 0.9094827586206896,\n",
       "  'knn_time': 0.005189657211303711,\n",
       "  'ps_perceptron_accuracy': 0.875,\n",
       "  'ps_perceptron_f1-micro': 0.875,\n",
       "  'ps_perceptron_time': 0.005378007888793945,\n",
       "  'ambient_mlp_accuracy': 0.8706896551724138,\n",
       "  'ambient_mlp_f1-micro': 0.8706896551724138,\n",
       "  'ambient_mlp_time': 36.14824604988098,\n",
       "  'ambient_gnn_accuracy': 0.8534482717514038,\n",
       "  'ambient_gnn_f1_micro': 0.853448275862069,\n",
       "  'ambient_gnn_time': 76.11008882522583,\n",
       "  'kappa_gcn_accuracy': 0.8534482717514038,\n",
       "  'kappa_gcn_f1_micro': 0.853448275862069,\n",
       "  'kappa_gcn_time': 147.93948411941528,\n",
       "  'product_mlr_accuracy': 0.8534482717514038,\n",
       "  'product_mlr_f1_micro': 0.853448275862069,\n",
       "  'product_mlr_time': 153.0877330303192,\n",
       "  'd_avg': nan,\n",
       "  'dataset': 'karate_club'},\n",
       " {'sklearn_dt_accuracy': 0.8577586206896551,\n",
       "  'sklearn_dt_f1-micro': 0.8577586206896551,\n",
       "  'sklearn_dt_time': 0.0027472972869873047,\n",
       "  'sklearn_rf_accuracy': 0.8620689655172413,\n",
       "  'sklearn_rf_f1-micro': 0.8620689655172413,\n",
       "  'sklearn_rf_time': 0.034554481506347656,\n",
       "  'product_dt_accuracy': 0.8146551724137931,\n",
       "  'product_dt_f1-micro': 0.8146551724137931,\n",
       "  'product_dt_time': 0.03862166404724121,\n",
       "  'product_rf_accuracy': 0.853448275862069,\n",
       "  'product_rf_f1-micro': 0.853448275862069,\n",
       "  'product_rf_time': 0.37318873405456543,\n",
       "  'tangent_dt_accuracy': 0.8879310344827587,\n",
       "  'tangent_dt_f1-micro': 0.8879310344827587,\n",
       "  'tangent_dt_time': 0.0021409988403320312,\n",
       "  'tangent_rf_accuracy': 0.8577586206896551,\n",
       "  'tangent_rf_f1-micro': 0.8577586206896551,\n",
       "  'tangent_rf_time': 0.03548574447631836,\n",
       "  'knn_accuracy': 0.9094827586206896,\n",
       "  'knn_f1-micro': 0.9094827586206896,\n",
       "  'knn_time': 0.0054285526275634766,\n",
       "  'ps_perceptron_accuracy': 0.8318965517241379,\n",
       "  'ps_perceptron_f1-micro': 0.8318965517241379,\n",
       "  'ps_perceptron_time': 0.004487514495849609,\n",
       "  'ambient_mlp_accuracy': 0.8362068965517241,\n",
       "  'ambient_mlp_f1-micro': 0.8362068965517241,\n",
       "  'ambient_mlp_time': 35.845797538757324,\n",
       "  'ambient_gnn_accuracy': 0.8146551847457886,\n",
       "  'ambient_gnn_f1_micro': 0.8146551724137931,\n",
       "  'ambient_gnn_time': 74.89963698387146,\n",
       "  'kappa_gcn_accuracy': 0.8146551847457886,\n",
       "  'kappa_gcn_f1_micro': 0.8146551724137931,\n",
       "  'kappa_gcn_time': 151.43336129188538,\n",
       "  'product_mlr_accuracy': 0.8146551847457886,\n",
       "  'product_mlr_f1_micro': 0.8146551724137931,\n",
       "  'product_mlr_time': 145.93633317947388,\n",
       "  'd_avg': nan,\n",
       "  'dataset': 'karate_club'},\n",
       " {'sklearn_dt_accuracy': 0.8275862068965517,\n",
       "  'sklearn_dt_f1-micro': 0.8275862068965517,\n",
       "  'sklearn_dt_time': 0.0027036666870117188,\n",
       "  'sklearn_rf_accuracy': 0.8405172413793104,\n",
       "  'sklearn_rf_f1-micro': 0.8405172413793104,\n",
       "  'sklearn_rf_time': 0.0330350399017334,\n",
       "  'product_dt_accuracy': 0.8448275862068966,\n",
       "  'product_dt_f1-micro': 0.8448275862068966,\n",
       "  'product_dt_time': 0.0380709171295166,\n",
       "  'product_rf_accuracy': 0.8318965517241379,\n",
       "  'product_rf_f1-micro': 0.8318965517241379,\n",
       "  'product_rf_time': 0.3479735851287842,\n",
       "  'tangent_dt_accuracy': 0.8491379310344828,\n",
       "  'tangent_dt_f1-micro': 0.8491379310344828,\n",
       "  'tangent_dt_time': 0.0022590160369873047,\n",
       "  'tangent_rf_accuracy': 0.8232758620689655,\n",
       "  'tangent_rf_f1-micro': 0.8232758620689655,\n",
       "  'tangent_rf_time': 0.03282952308654785,\n",
       "  'knn_accuracy': 0.8318965517241379,\n",
       "  'knn_f1-micro': 0.8318965517241379,\n",
       "  'knn_time': 0.0051403045654296875,\n",
       "  'ps_perceptron_accuracy': 0.8017241379310345,\n",
       "  'ps_perceptron_f1-micro': 0.8017241379310345,\n",
       "  'ps_perceptron_time': 0.004298210144042969,\n",
       "  'ambient_mlp_accuracy': 0.8146551724137931,\n",
       "  'ambient_mlp_f1-micro': 0.8146551724137931,\n",
       "  'ambient_mlp_time': 37.14339518547058,\n",
       "  'ambient_gnn_accuracy': 0.8232758641242981,\n",
       "  'ambient_gnn_f1_micro': 0.8232758620689655,\n",
       "  'ambient_gnn_time': 70.54112076759338,\n",
       "  'kappa_gcn_accuracy': 0.8232758641242981,\n",
       "  'kappa_gcn_f1_micro': 0.8232758620689655,\n",
       "  'kappa_gcn_time': 159.58824610710144,\n",
       "  'product_mlr_accuracy': 0.8232758641242981,\n",
       "  'product_mlr_f1_micro': 0.8232758620689655,\n",
       "  'product_mlr_time': 143.86899042129517,\n",
       "  'd_avg': nan,\n",
       "  'dataset': 'karate_club'},\n",
       " {'sklearn_dt_accuracy': 0.8879310344827587,\n",
       "  'sklearn_dt_f1-micro': 0.8879310344827587,\n",
       "  'sklearn_dt_time': 0.0027081966400146484,\n",
       "  'sklearn_rf_accuracy': 0.8836206896551724,\n",
       "  'sklearn_rf_f1-micro': 0.8836206896551724,\n",
       "  'sklearn_rf_time': 0.03602290153503418,\n",
       "  'product_dt_accuracy': 0.8491379310344828,\n",
       "  'product_dt_f1-micro': 0.8491379310344828,\n",
       "  'product_dt_time': 0.04331564903259277,\n",
       "  'product_rf_accuracy': 0.875,\n",
       "  'product_rf_f1-micro': 0.875,\n",
       "  'product_rf_time': 0.36576294898986816,\n",
       "  'tangent_dt_accuracy': 0.8706896551724138,\n",
       "  'tangent_dt_f1-micro': 0.8706896551724138,\n",
       "  'tangent_dt_time': 0.0021276473999023438,\n",
       "  'tangent_rf_accuracy': 0.8663793103448276,\n",
       "  'tangent_rf_f1-micro': 0.8663793103448276,\n",
       "  'tangent_rf_time': 0.03277444839477539,\n",
       "  'knn_accuracy': 0.9008620689655172,\n",
       "  'knn_f1-micro': 0.9008620689655172,\n",
       "  'knn_time': 0.005034923553466797,\n",
       "  'ps_perceptron_accuracy': 0.7844827586206896,\n",
       "  'ps_perceptron_f1-micro': 0.7844827586206896,\n",
       "  'ps_perceptron_time': 0.004279375076293945,\n",
       "  'ambient_mlp_accuracy': 0.8620689655172413,\n",
       "  'ambient_mlp_f1-micro': 0.8620689655172413,\n",
       "  'ambient_mlp_time': 36.019753217697144,\n",
       "  'ambient_gnn_accuracy': 0.8965517282485962,\n",
       "  'ambient_gnn_f1_micro': 0.896551724137931,\n",
       "  'ambient_gnn_time': 73.39648723602295,\n",
       "  'kappa_gcn_accuracy': 0.8965517282485962,\n",
       "  'kappa_gcn_f1_micro': 0.896551724137931,\n",
       "  'kappa_gcn_time': 165.0456759929657,\n",
       "  'product_mlr_accuracy': 0.8965517282485962,\n",
       "  'product_mlr_f1_micro': 0.896551724137931,\n",
       "  'product_mlr_time': 148.9833586215973,\n",
       "  'd_avg': nan,\n",
       "  'dataset': 'karate_club'},\n",
       " {'sklearn_dt_accuracy': 0.896551724137931,\n",
       "  'sklearn_dt_f1-micro': 0.896551724137931,\n",
       "  'sklearn_dt_time': 0.0027282238006591797,\n",
       "  'sklearn_rf_accuracy': 0.8836206896551724,\n",
       "  'sklearn_rf_f1-micro': 0.8836206896551724,\n",
       "  'sklearn_rf_time': 0.032858848571777344,\n",
       "  'product_dt_accuracy': 0.8879310344827587,\n",
       "  'product_dt_f1-micro': 0.8879310344827587,\n",
       "  'product_dt_time': 0.031853437423706055,\n",
       "  'product_rf_accuracy': 0.8663793103448276,\n",
       "  'product_rf_f1-micro': 0.8663793103448276,\n",
       "  'product_rf_time': 0.37003636360168457,\n",
       "  'tangent_dt_accuracy': 0.8620689655172413,\n",
       "  'tangent_dt_f1-micro': 0.8620689655172413,\n",
       "  'tangent_dt_time': 0.002130270004272461,\n",
       "  'tangent_rf_accuracy': 0.8836206896551724,\n",
       "  'tangent_rf_f1-micro': 0.8836206896551724,\n",
       "  'tangent_rf_time': 0.03581714630126953,\n",
       "  'knn_accuracy': 0.8836206896551724,\n",
       "  'knn_f1-micro': 0.8836206896551724,\n",
       "  'knn_time': 0.00506281852722168,\n",
       "  'ps_perceptron_accuracy': 0.8793103448275862,\n",
       "  'ps_perceptron_f1-micro': 0.8793103448275862,\n",
       "  'ps_perceptron_time': 0.004639625549316406,\n",
       "  'ambient_mlp_accuracy': 0.8706896551724138,\n",
       "  'ambient_mlp_f1-micro': 0.8706896551724138,\n",
       "  'ambient_mlp_time': 37.14183807373047,\n",
       "  'ambient_gnn_accuracy': 0.8836206793785095,\n",
       "  'ambient_gnn_f1_micro': 0.8836206896551724,\n",
       "  'ambient_gnn_time': 74.81716799736023,\n",
       "  'kappa_gcn_accuracy': 0.8836206793785095,\n",
       "  'kappa_gcn_f1_micro': 0.8836206896551724,\n",
       "  'kappa_gcn_time': 164.52537631988525,\n",
       "  'product_mlr_accuracy': 0.8836206793785095,\n",
       "  'product_mlr_f1_micro': 0.8836206896551724,\n",
       "  'product_mlr_time': 158.90027260780334,\n",
       "  'd_avg': nan,\n",
       "  'dataset': 'karate_club'},\n",
       " {'sklearn_dt_accuracy': 0.896551724137931,\n",
       "  'sklearn_dt_f1-micro': 0.896551724137931,\n",
       "  'sklearn_dt_time': 0.0027861595153808594,\n",
       "  'sklearn_rf_accuracy': 0.8706896551724138,\n",
       "  'sklearn_rf_f1-micro': 0.8706896551724138,\n",
       "  'sklearn_rf_time': 0.033812761306762695,\n",
       "  'product_dt_accuracy': 0.8060344827586207,\n",
       "  'product_dt_f1-micro': 0.8060344827586207,\n",
       "  'product_dt_time': 0.04418063163757324,\n",
       "  'product_rf_accuracy': 0.875,\n",
       "  'product_rf_f1-micro': 0.875,\n",
       "  'product_rf_time': 0.3681156635284424,\n",
       "  'tangent_dt_accuracy': 0.8491379310344828,\n",
       "  'tangent_dt_f1-micro': 0.8491379310344828,\n",
       "  'tangent_dt_time': 0.0023276805877685547,\n",
       "  'tangent_rf_accuracy': 0.8836206896551724,\n",
       "  'tangent_rf_f1-micro': 0.8836206896551724,\n",
       "  'tangent_rf_time': 0.03391575813293457,\n",
       "  'knn_accuracy': 0.875,\n",
       "  'knn_f1-micro': 0.875,\n",
       "  'knn_time': 0.00519251823425293,\n",
       "  'ps_perceptron_accuracy': 0.728448275862069,\n",
       "  'ps_perceptron_f1-micro': 0.728448275862069,\n",
       "  'ps_perceptron_time': 0.004281044006347656,\n",
       "  'ambient_mlp_accuracy': 0.8793103448275862,\n",
       "  'ambient_mlp_f1-micro': 0.8793103448275862,\n",
       "  'ambient_mlp_time': 37.17671990394592,\n",
       "  'ambient_gnn_accuracy': 0.9008620381355286,\n",
       "  'ambient_gnn_f1_micro': 0.9008620689655172,\n",
       "  'ambient_gnn_time': 75.77790021896362,\n",
       "  'kappa_gcn_accuracy': 0.9008620381355286,\n",
       "  'kappa_gcn_f1_micro': 0.9008620689655172,\n",
       "  'kappa_gcn_time': 157.24501299858093,\n",
       "  'product_mlr_accuracy': 0.9008620381355286,\n",
       "  'product_mlr_f1_micro': 0.9008620689655172,\n",
       "  'product_mlr_time': 187.50086450576782,\n",
       "  'd_avg': nan,\n",
       "  'dataset': 'karate_club'},\n",
       " {'sklearn_dt_accuracy': 0.9654300168634065,\n",
       "  'sklearn_dt_f1-micro': 0.9654300168634065,\n",
       "  'sklearn_dt_time': 0.013603687286376953,\n",
       "  'sklearn_rf_accuracy': 0.9688026981450253,\n",
       "  'sklearn_rf_f1-micro': 0.9688026981450253,\n",
       "  'sklearn_rf_time': 0.04292035102844238,\n",
       "  'product_dt_accuracy': 0.9688026981450253,\n",
       "  'product_dt_f1-micro': 0.9688026981450253,\n",
       "  'product_dt_time': 0.10075259208679199,\n",
       "  'product_rf_accuracy': 0.9131534569983136,\n",
       "  'product_rf_f1-micro': 0.9131534569983136,\n",
       "  'product_rf_time': 0.6322410106658936,\n",
       "  'tangent_dt_accuracy': 0.9679595278246206,\n",
       "  'tangent_dt_f1-micro': 0.9679595278246206,\n",
       "  'tangent_dt_time': 0.010191917419433594,\n",
       "  'tangent_rf_accuracy': 0.9620573355817875,\n",
       "  'tangent_rf_f1-micro': 0.9620573355817875,\n",
       "  'tangent_rf_time': 0.03424644470214844,\n",
       "  'knn_accuracy': 0.9435075885328836,\n",
       "  'knn_f1-micro': 0.9435075885328836,\n",
       "  'knn_time': 0.10568070411682129,\n",
       "  'ps_perceptron_accuracy': 0.9123102866779089,\n",
       "  'ps_perceptron_f1-micro': 0.9123102866779089,\n",
       "  'ps_perceptron_time': 0.01676321029663086,\n",
       "  'ambient_mlp_accuracy': 0.9123102866779089,\n",
       "  'ambient_mlp_f1-micro': 0.9123102866779089,\n",
       "  'ambient_mlp_time': 36.30475950241089,\n",
       "  'ambient_gnn_accuracy': 0.9139966368675232,\n",
       "  'ambient_gnn_f1_micro': 0.9139966273187183,\n",
       "  'ambient_gnn_time': 79.01567792892456,\n",
       "  'kappa_gcn_accuracy': 0.9139966368675232,\n",
       "  'kappa_gcn_f1_micro': 0.9139966273187183,\n",
       "  'kappa_gcn_time': 152.2316586971283,\n",
       "  'product_mlr_accuracy': 0.9139966368675232,\n",
       "  'product_mlr_f1_micro': 0.9139966273187183,\n",
       "  'product_mlr_time': 170.02004504203796,\n",
       "  'd_avg': nan,\n",
       "  'dataset': 'lesmis'},\n",
       " {'sklearn_dt_accuracy': 0.93929173693086,\n",
       "  'sklearn_dt_f1-micro': 0.93929173693086,\n",
       "  'sklearn_dt_time': 0.013390779495239258,\n",
       "  'sklearn_rf_accuracy': 0.9359190556492412,\n",
       "  'sklearn_rf_f1-micro': 0.9359190556492412,\n",
       "  'sklearn_rf_time': 0.044109344482421875,\n",
       "  'product_dt_accuracy': 0.9350758853288365,\n",
       "  'product_dt_f1-micro': 0.9350758853288365,\n",
       "  'product_dt_time': 0.09742569923400879,\n",
       "  'product_rf_accuracy': 0.9325463743676222,\n",
       "  'product_rf_f1-micro': 0.9325463743676222,\n",
       "  'product_rf_time': 0.6285245418548584,\n",
       "  'tangent_dt_accuracy': 0.9409780775716695,\n",
       "  'tangent_dt_f1-micro': 0.9409780775716695,\n",
       "  'tangent_dt_time': 0.010713338851928711,\n",
       "  'tangent_rf_accuracy': 0.9342327150084317,\n",
       "  'tangent_rf_f1-micro': 0.9342327150084317,\n",
       "  'tangent_rf_time': 0.04435014724731445,\n",
       "  'knn_accuracy': 0.9502529510961214,\n",
       "  'knn_f1-micro': 0.9502529510961214,\n",
       "  'knn_time': 0.10486936569213867,\n",
       "  'ps_perceptron_accuracy': 0.927487352445194,\n",
       "  'ps_perceptron_f1-micro': 0.927487352445194,\n",
       "  'ps_perceptron_time': 0.016794443130493164,\n",
       "  'ambient_mlp_accuracy': 0.927487352445194,\n",
       "  'ambient_mlp_f1-micro': 0.927487352445194,\n",
       "  'ambient_mlp_time': 36.46441173553467,\n",
       "  'ambient_gnn_accuracy': 0.9165261387825012,\n",
       "  'ambient_gnn_f1_micro': 0.9165261382799326,\n",
       "  'ambient_gnn_time': 74.8649320602417,\n",
       "  'kappa_gcn_accuracy': 0.9165261387825012,\n",
       "  'kappa_gcn_f1_micro': 0.9165261382799326,\n",
       "  'kappa_gcn_time': 175.0461573600769,\n",
       "  'product_mlr_accuracy': 0.9165261387825012,\n",
       "  'product_mlr_f1_micro': 0.9165261382799326,\n",
       "  'product_mlr_time': 144.72097516059875,\n",
       "  'd_avg': nan,\n",
       "  'dataset': 'lesmis'},\n",
       " {'sklearn_dt_accuracy': 0.9249578414839797,\n",
       "  'sklearn_dt_f1-micro': 0.9249578414839797,\n",
       "  'sklearn_dt_time': 0.01348567008972168,\n",
       "  'sklearn_rf_accuracy': 0.9173693086003373,\n",
       "  'sklearn_rf_f1-micro': 0.9173693086003373,\n",
       "  'sklearn_rf_time': 0.036978721618652344,\n",
       "  'product_dt_accuracy': 0.9131534569983136,\n",
       "  'product_dt_f1-micro': 0.9131534569983136,\n",
       "  'product_dt_time': 0.10459470748901367,\n",
       "  'product_rf_accuracy': 0.9224283305227656,\n",
       "  'product_rf_f1-micro': 0.9224283305227656,\n",
       "  'product_rf_time': 0.6594724655151367,\n",
       "  'tangent_dt_accuracy': 0.9232715008431703,\n",
       "  'tangent_dt_f1-micro': 0.9232715008431703,\n",
       "  'tangent_dt_time': 0.010548830032348633,\n",
       "  'tangent_rf_accuracy': 0.9173693086003373,\n",
       "  'tangent_rf_f1-micro': 0.9173693086003373,\n",
       "  'tangent_rf_time': 0.042882442474365234,\n",
       "  'knn_accuracy': 0.9418212478920742,\n",
       "  'knn_f1-micro': 0.9418212478920742,\n",
       "  'knn_time': 0.10608983039855957,\n",
       "  'ps_perceptron_accuracy': 0.9148397976391232,\n",
       "  'ps_perceptron_f1-micro': 0.9148397976391232,\n",
       "  'ps_perceptron_time': 0.016757488250732422,\n",
       "  'ambient_mlp_accuracy': 0.9148397976391232,\n",
       "  'ambient_mlp_f1-micro': 0.9148397976391232,\n",
       "  'ambient_mlp_time': 37.905916690826416,\n",
       "  'ambient_gnn_accuracy': 0.9123103022575378,\n",
       "  'ambient_gnn_f1_micro': 0.9123102866779089,\n",
       "  'ambient_gnn_time': 70.07786059379578,\n",
       "  'kappa_gcn_accuracy': 0.9123103022575378,\n",
       "  'kappa_gcn_f1_micro': 0.9123102866779089,\n",
       "  'kappa_gcn_time': 147.78528809547424,\n",
       "  'product_mlr_accuracy': 0.9123103022575378,\n",
       "  'product_mlr_f1_micro': 0.9123102866779089,\n",
       "  'product_mlr_time': 171.2024610042572,\n",
       "  'd_avg': nan,\n",
       "  'dataset': 'lesmis'},\n",
       " {'sklearn_dt_accuracy': 0.9291736930860034,\n",
       "  'sklearn_dt_f1-micro': 0.9291736930860034,\n",
       "  'sklearn_dt_time': 0.01344156265258789,\n",
       "  'sklearn_rf_accuracy': 0.9291736930860034,\n",
       "  'sklearn_rf_f1-micro': 0.9291736930860034,\n",
       "  'sklearn_rf_time': 0.044217824935913086,\n",
       "  'product_dt_accuracy': 0.9215851602023609,\n",
       "  'product_dt_f1-micro': 0.9215851602023609,\n",
       "  'product_dt_time': 0.09128761291503906,\n",
       "  'product_rf_accuracy': 0.924114671163575,\n",
       "  'product_rf_f1-micro': 0.924114671163575,\n",
       "  'product_rf_time': 0.6688001155853271,\n",
       "  'tangent_dt_accuracy': 0.9350758853288365,\n",
       "  'tangent_dt_f1-micro': 0.9350758853288365,\n",
       "  'tangent_dt_time': 0.010409355163574219,\n",
       "  'tangent_rf_accuracy': 0.927487352445194,\n",
       "  'tangent_rf_f1-micro': 0.927487352445194,\n",
       "  'tangent_rf_time': 0.044348716735839844,\n",
       "  'knn_accuracy': 0.9333895446880269,\n",
       "  'knn_f1-micro': 0.9333895446880269,\n",
       "  'knn_time': 0.10381031036376953,\n",
       "  'ps_perceptron_accuracy': 0.9232715008431703,\n",
       "  'ps_perceptron_f1-micro': 0.9232715008431703,\n",
       "  'ps_perceptron_time': 0.016756772994995117,\n",
       "  'ambient_mlp_accuracy': 0.9232715008431703,\n",
       "  'ambient_mlp_f1-micro': 0.9232715008431703,\n",
       "  'ambient_mlp_time': 37.41668677330017,\n",
       "  'ambient_gnn_accuracy': 0.9232715368270874,\n",
       "  'ambient_gnn_f1_micro': 0.9232715008431703,\n",
       "  'ambient_gnn_time': 82.09356832504272,\n",
       "  'kappa_gcn_accuracy': 0.9232715368270874,\n",
       "  'kappa_gcn_f1_micro': 0.9232715008431703,\n",
       "  'kappa_gcn_time': 158.3443682193756,\n",
       "  'product_mlr_accuracy': 0.9232715368270874,\n",
       "  'product_mlr_f1_micro': 0.9232715008431703,\n",
       "  'product_mlr_time': 150.27907609939575,\n",
       "  'd_avg': nan,\n",
       "  'dataset': 'lesmis'},\n",
       " {'sklearn_dt_accuracy': 0.9300168634064081,\n",
       "  'sklearn_dt_f1-micro': 0.9300168634064081,\n",
       "  'sklearn_dt_time': 0.013059616088867188,\n",
       "  'sklearn_rf_accuracy': 0.9283305227655987,\n",
       "  'sklearn_rf_f1-micro': 0.9283305227655987,\n",
       "  'sklearn_rf_time': 0.04432511329650879,\n",
       "  'product_dt_accuracy': 0.9258010118043845,\n",
       "  'product_dt_f1-micro': 0.9258010118043845,\n",
       "  'product_dt_time': 0.11415576934814453,\n",
       "  'product_rf_accuracy': 0.9224283305227656,\n",
       "  'product_rf_f1-micro': 0.9224283305227656,\n",
       "  'product_rf_time': 0.6616456508636475,\n",
       "  'tangent_dt_accuracy': 0.9333895446880269,\n",
       "  'tangent_dt_f1-micro': 0.9333895446880269,\n",
       "  'tangent_dt_time': 0.009963512420654297,\n",
       "  'tangent_rf_accuracy': 0.924114671163575,\n",
       "  'tangent_rf_f1-micro': 0.924114671163575,\n",
       "  'tangent_rf_time': 0.03584551811218262,\n",
       "  'knn_accuracy': 0.9317032040472175,\n",
       "  'knn_f1-micro': 0.9317032040472175,\n",
       "  'knn_time': 0.10471463203430176,\n",
       "  'ps_perceptron_accuracy': 0.918212478920742,\n",
       "  'ps_perceptron_f1-micro': 0.918212478920742,\n",
       "  'ps_perceptron_time': 0.016757726669311523,\n",
       "  'ambient_mlp_accuracy': 0.918212478920742,\n",
       "  'ambient_mlp_f1-micro': 0.918212478920742,\n",
       "  'ambient_mlp_time': 37.236993074417114,\n",
       "  'ambient_gnn_accuracy': 0.8903878927230835,\n",
       "  'ambient_gnn_f1_micro': 0.8903878583473862,\n",
       "  'ambient_gnn_time': 48.947198152542114,\n",
       "  'kappa_gcn_accuracy': 0.8903878927230835,\n",
       "  'kappa_gcn_f1_micro': 0.8903878583473862,\n",
       "  'kappa_gcn_time': 153.87616682052612,\n",
       "  'product_mlr_accuracy': 0.8903878927230835,\n",
       "  'product_mlr_f1_micro': 0.8903878583473862,\n",
       "  'product_mlr_time': 152.94577932357788,\n",
       "  'd_avg': nan,\n",
       "  'dataset': 'lesmis'},\n",
       " {'sklearn_dt_accuracy': 0.9232715008431703,\n",
       "  'sklearn_dt_f1-micro': 0.9232715008431703,\n",
       "  'sklearn_dt_time': 0.013020515441894531,\n",
       "  'sklearn_rf_accuracy': 0.9224283305227656,\n",
       "  'sklearn_rf_f1-micro': 0.9224283305227656,\n",
       "  'sklearn_rf_time': 0.04507017135620117,\n",
       "  'product_dt_accuracy': 0.918212478920742,\n",
       "  'product_dt_f1-micro': 0.918212478920742,\n",
       "  'product_dt_time': 0.10141897201538086,\n",
       "  'product_rf_accuracy': 0.9215851602023609,\n",
       "  'product_rf_f1-micro': 0.9215851602023609,\n",
       "  'product_rf_time': 0.664304256439209,\n",
       "  'tangent_dt_accuracy': 0.9266441821247892,\n",
       "  'tangent_dt_f1-micro': 0.9266441821247892,\n",
       "  'tangent_dt_time': 0.010742664337158203,\n",
       "  'tangent_rf_accuracy': 0.924114671163575,\n",
       "  'tangent_rf_f1-micro': 0.924114671163575,\n",
       "  'tangent_rf_time': 0.04398703575134277,\n",
       "  'knn_accuracy': 0.9359190556492412,\n",
       "  'knn_f1-micro': 0.9359190556492412,\n",
       "  'knn_time': 0.10456514358520508,\n",
       "  'ps_perceptron_accuracy': 0.9215851602023609,\n",
       "  'ps_perceptron_f1-micro': 0.9215851602023609,\n",
       "  'ps_perceptron_time': 0.016773700714111328,\n",
       "  'ambient_mlp_accuracy': 0.9215851602023609,\n",
       "  'ambient_mlp_f1-micro': 0.9215851602023609,\n",
       "  'ambient_mlp_time': 36.807929277420044,\n",
       "  'ambient_gnn_accuracy': 0.9139966368675232,\n",
       "  'ambient_gnn_f1_micro': 0.9139966273187183,\n",
       "  'ambient_gnn_time': 72.44843006134033,\n",
       "  'kappa_gcn_accuracy': 0.9139966368675232,\n",
       "  'kappa_gcn_f1_micro': 0.9139966273187183,\n",
       "  'kappa_gcn_time': 137.77251958847046,\n",
       "  'product_mlr_accuracy': 0.9139966368675232,\n",
       "  'product_mlr_f1_micro': 0.9139966273187183,\n",
       "  'product_mlr_time': 155.2336642742157,\n",
       "  'd_avg': nan,\n",
       "  'dataset': 'lesmis'},\n",
       " {'sklearn_dt_accuracy': 0.9224283305227656,\n",
       "  'sklearn_dt_f1-micro': 0.9224283305227656,\n",
       "  'sklearn_dt_time': 0.013091325759887695,\n",
       "  'sklearn_rf_accuracy': 0.9165261382799326,\n",
       "  'sklearn_rf_f1-micro': 0.9165261382799326,\n",
       "  'sklearn_rf_time': 0.04283642768859863,\n",
       "  'product_dt_accuracy': 0.9215851602023609,\n",
       "  'product_dt_f1-micro': 0.9215851602023609,\n",
       "  'product_dt_time': 0.09321212768554688,\n",
       "  'product_rf_accuracy': 0.9165261382799326,\n",
       "  'product_rf_f1-micro': 0.9165261382799326,\n",
       "  'product_rf_time': 0.6573276519775391,\n",
       "  'tangent_dt_accuracy': 0.924114671163575,\n",
       "  'tangent_dt_f1-micro': 0.924114671163575,\n",
       "  'tangent_dt_time': 0.010400772094726562,\n",
       "  'tangent_rf_accuracy': 0.9156829679595279,\n",
       "  'tangent_rf_f1-micro': 0.9156829679595279,\n",
       "  'tangent_rf_time': 0.04279494285583496,\n",
       "  'knn_accuracy': 0.9308600337268128,\n",
       "  'knn_f1-micro': 0.9308600337268128,\n",
       "  'knn_time': 0.10478758811950684,\n",
       "  'ps_perceptron_accuracy': 0.9156829679595279,\n",
       "  'ps_perceptron_f1-micro': 0.9156829679595279,\n",
       "  'ps_perceptron_time': 0.016792774200439453,\n",
       "  'ambient_mlp_accuracy': 0.9156829679595279,\n",
       "  'ambient_mlp_f1-micro': 0.9156829679595279,\n",
       "  'ambient_mlp_time': 36.60547924041748,\n",
       "  'ambient_gnn_accuracy': 0.904721736907959,\n",
       "  'ambient_gnn_f1_micro': 0.9047217537942664,\n",
       "  'ambient_gnn_time': 80.88180613517761,\n",
       "  'kappa_gcn_accuracy': 0.904721736907959,\n",
       "  'kappa_gcn_f1_micro': 0.9047217537942664,\n",
       "  'kappa_gcn_time': 146.90909886360168,\n",
       "  'product_mlr_accuracy': 0.904721736907959,\n",
       "  'product_mlr_f1_micro': 0.9047217537942664,\n",
       "  'product_mlr_time': 140.29572558403015,\n",
       "  'd_avg': nan,\n",
       "  'dataset': 'lesmis'},\n",
       " {'sklearn_dt_accuracy': 0.9165261382799326,\n",
       "  'sklearn_dt_f1-micro': 0.9165261382799326,\n",
       "  'sklearn_dt_time': 0.012653827667236328,\n",
       "  'sklearn_rf_accuracy': 0.9139966273187183,\n",
       "  'sklearn_rf_f1-micro': 0.9139966273187183,\n",
       "  'sklearn_rf_time': 0.044544219970703125,\n",
       "  'product_dt_accuracy': 0.9055649241146712,\n",
       "  'product_dt_f1-micro': 0.9055649241146712,\n",
       "  'product_dt_time': 0.11193656921386719,\n",
       "  'product_rf_accuracy': 0.9097807757166948,\n",
       "  'product_rf_f1-micro': 0.9097807757166948,\n",
       "  'product_rf_time': 0.6784553527832031,\n",
       "  'tangent_dt_accuracy': 0.9190556492411467,\n",
       "  'tangent_dt_f1-micro': 0.9190556492411467,\n",
       "  'tangent_dt_time': 0.00943303108215332,\n",
       "  'tangent_rf_accuracy': 0.9156829679595279,\n",
       "  'tangent_rf_f1-micro': 0.9156829679595279,\n",
       "  'tangent_rf_time': 0.04372453689575195,\n",
       "  'knn_accuracy': 0.9224283305227656,\n",
       "  'knn_f1-micro': 0.9224283305227656,\n",
       "  'knn_time': 0.10484457015991211,\n",
       "  'ps_perceptron_accuracy': 0.8684654300168634,\n",
       "  'ps_perceptron_f1-micro': 0.8684654300168634,\n",
       "  'ps_perceptron_time': 0.019590377807617188,\n",
       "  'ambient_mlp_accuracy': 0.9097807757166948,\n",
       "  'ambient_mlp_f1-micro': 0.9097807757166948,\n",
       "  'ambient_mlp_time': 36.70433712005615,\n",
       "  'ambient_gnn_accuracy': 0.9106239676475525,\n",
       "  'ambient_gnn_f1_micro': 0.9106239460370995,\n",
       "  'ambient_gnn_time': 82.03805780410767,\n",
       "  'kappa_gcn_accuracy': 0.9106239676475525,\n",
       "  'kappa_gcn_f1_micro': 0.9106239460370995,\n",
       "  'kappa_gcn_time': 161.3441026210785,\n",
       "  'product_mlr_accuracy': 0.9106239676475525,\n",
       "  'product_mlr_f1_micro': 0.9106239460370995,\n",
       "  'product_mlr_time': 155.70328974723816,\n",
       "  'd_avg': nan,\n",
       "  'dataset': 'lesmis'},\n",
       " {'sklearn_dt_accuracy': 0.9215851602023609,\n",
       "  'sklearn_dt_f1-micro': 0.9215851602023609,\n",
       "  'sklearn_dt_time': 0.013143301010131836,\n",
       "  'sklearn_rf_accuracy': 0.9190556492411467,\n",
       "  'sklearn_rf_f1-micro': 0.9190556492411467,\n",
       "  'sklearn_rf_time': 0.044443368911743164,\n",
       "  'product_dt_accuracy': 0.9198988195615514,\n",
       "  'product_dt_f1-micro': 0.9198988195615514,\n",
       "  'product_dt_time': 0.08968305587768555,\n",
       "  'product_rf_accuracy': 0.9139966273187183,\n",
       "  'product_rf_f1-micro': 0.9139966273187183,\n",
       "  'product_rf_time': 0.6634809970855713,\n",
       "  'tangent_dt_accuracy': 0.9198988195615514,\n",
       "  'tangent_dt_f1-micro': 0.9198988195615514,\n",
       "  'tangent_dt_time': 0.010662078857421875,\n",
       "  'tangent_rf_accuracy': 0.9148397976391232,\n",
       "  'tangent_rf_f1-micro': 0.9148397976391232,\n",
       "  'tangent_rf_time': 0.04319643974304199,\n",
       "  'knn_accuracy': 0.9333895446880269,\n",
       "  'knn_f1-micro': 0.9333895446880269,\n",
       "  'knn_time': 0.10408258438110352,\n",
       "  'ps_perceptron_accuracy': 0.9123102866779089,\n",
       "  'ps_perceptron_f1-micro': 0.9123102866779089,\n",
       "  'ps_perceptron_time': 0.016756296157836914,\n",
       "  'ambient_mlp_accuracy': 0.9139966273187183,\n",
       "  'ambient_mlp_f1-micro': 0.9139966273187183,\n",
       "  'ambient_mlp_time': 37.45043110847473,\n",
       "  'ambient_gnn_accuracy': 0.9072512984275818,\n",
       "  'ambient_gnn_f1_micro': 0.9072512647554806,\n",
       "  'ambient_gnn_time': 82.31356406211853,\n",
       "  'kappa_gcn_accuracy': 0.9072512984275818,\n",
       "  'kappa_gcn_f1_micro': 0.9072512647554806,\n",
       "  'kappa_gcn_time': 139.85598802566528,\n",
       "  'product_mlr_accuracy': 0.9072512984275818,\n",
       "  'product_mlr_f1_micro': 0.9072512647554806,\n",
       "  'product_mlr_time': 137.85174083709717,\n",
       "  'd_avg': nan,\n",
       "  'dataset': 'lesmis'},\n",
       " {'sklearn_dt_accuracy': 0.9198988195615514,\n",
       "  'sklearn_dt_f1-micro': 0.9198988195615514,\n",
       "  'sklearn_dt_time': 0.013275384902954102,\n",
       "  'sklearn_rf_accuracy': 0.9173693086003373,\n",
       "  'sklearn_rf_f1-micro': 0.9173693086003373,\n",
       "  'sklearn_rf_time': 0.04484748840332031,\n",
       "  'product_dt_accuracy': 0.9165261382799326,\n",
       "  'product_dt_f1-micro': 0.9165261382799326,\n",
       "  'product_dt_time': 0.11136603355407715,\n",
       "  'product_rf_accuracy': 0.9114671163575042,\n",
       "  'product_rf_f1-micro': 0.9114671163575042,\n",
       "  'product_rf_time': 0.6484227180480957,\n",
       "  'tangent_dt_accuracy': 0.9156829679595279,\n",
       "  'tangent_dt_f1-micro': 0.9156829679595279,\n",
       "  'tangent_dt_time': 0.010002374649047852,\n",
       "  'tangent_rf_accuracy': 0.9139966273187183,\n",
       "  'tangent_rf_f1-micro': 0.9139966273187183,\n",
       "  'tangent_rf_time': 0.04571676254272461,\n",
       "  'knn_accuracy': 0.9283305227655987,\n",
       "  'knn_f1-micro': 0.9283305227655987,\n",
       "  'knn_time': 0.10384464263916016,\n",
       "  'ps_perceptron_accuracy': 0.9106239460370995,\n",
       "  'ps_perceptron_f1-micro': 0.9106239460370995,\n",
       "  'ps_perceptron_time': 0.01673126220703125,\n",
       "  'ambient_mlp_accuracy': 0.9106239460370995,\n",
       "  'ambient_mlp_f1-micro': 0.9106239460370995,\n",
       "  'ambient_mlp_time': 35.56116199493408,\n",
       "  'ambient_gnn_accuracy': 0.9072512984275818,\n",
       "  'ambient_gnn_f1_micro': 0.9072512647554806,\n",
       "  'ambient_gnn_time': 71.82024073600769,\n",
       "  'kappa_gcn_accuracy': 0.9072512984275818,\n",
       "  'kappa_gcn_f1_micro': 0.9072512647554806,\n",
       "  'kappa_gcn_time': 154.28176546096802,\n",
       "  'product_mlr_accuracy': 0.9072512984275818,\n",
       "  'product_mlr_f1_micro': 0.9072512647554806,\n",
       "  'product_mlr_time': 137.30665016174316,\n",
       "  'd_avg': nan,\n",
       "  'dataset': 'lesmis'}]"
      ]
     },
     "execution_count": 18,
     "metadata": {},
     "output_type": "execute_result"
    }
   ],
   "source": [
    "results"
   ]
  },
  {
   "cell_type": "code",
   "execution_count": 19,
   "metadata": {},
   "outputs": [],
   "source": [
    "import pandas as pd\n",
    "results_df = pd.DataFrame(results)\n",
    "results_df.to_csv(\"../data/results_icml/link_prediction.tsv\", sep=\"\\t\", index=False)"
   ]
  },
  {
   "cell_type": "code",
   "execution_count": 24,
   "metadata": {},
   "outputs": [
    {
     "data": {
      "application/vnd.jupyter.widget-view+json": {
       "model_id": "3d38b5642b964e2b8852ede1d7a35ba3",
       "version_major": 2,
       "version_minor": 0
      },
      "text/plain": [
       "  0%|          | 0/20 [00:00<?, ?it/s]"
      ]
     },
     "metadata": {},
     "output_type": "display_data"
    },
    {
     "name": "stdout",
     "output_type": "stream",
     "text": [
      "Top CC has 112 nodes; original graph has 112 nodes.\n"
     ]
    },
    {
     "data": {
      "application/vnd.jupyter.widget-view+json": {
       "model_id": "83926943edbc47bd94690beaa7bf1cc1",
       "version_major": 2,
       "version_minor": 0
      },
      "text/plain": [
       "  0%|          | 0/1000 [00:00<?, ?it/s]"
      ]
     },
     "metadata": {},
     "output_type": "display_data"
    },
    {
     "data": {
      "application/vnd.jupyter.widget-view+json": {
       "model_id": "f4e558e28dea44cca712345d7911a28c",
       "version_major": 2,
       "version_minor": 0
      },
      "text/plain": [
       "  0%|          | 0/4000 [00:00<?, ?it/s]"
      ]
     },
     "metadata": {},
     "output_type": "display_data"
    },
    {
     "data": {
      "application/vnd.jupyter.widget-view+json": {
       "model_id": "4aacabdedd1b4f68af6f9157c74aa54a",
       "version_major": 2,
       "version_minor": 0
      },
      "text/plain": [
       "  0%|          | 0/4000 [00:00<?, ?it/s]"
      ]
     },
     "metadata": {},
     "output_type": "display_data"
    },
    {
     "data": {
      "application/vnd.jupyter.widget-view+json": {
       "model_id": "622dea1f7d3a423cacfe934551d88b7f",
       "version_major": 2,
       "version_minor": 0
      },
      "text/plain": [
       "  0%|          | 0/4000 [00:00<?, ?it/s]"
      ]
     },
     "metadata": {},
     "output_type": "display_data"
    },
    {
     "ename": "KeyboardInterrupt",
     "evalue": "",
     "output_type": "error",
     "traceback": [
      "\u001b[0;31m---------------------------------------------------------------------------\u001b[0m",
      "\u001b[0;31mKeyboardInterrupt\u001b[0m                         Traceback (most recent call last)",
      "Cell \u001b[0;32mIn[24], line 69\u001b[0m\n\u001b[1;32m     65\u001b[0m kgcn \u001b[38;5;241m=\u001b[39m embedders\u001b[38;5;241m.\u001b[39mpredictors\u001b[38;5;241m.\u001b[39mkappa_gcn\u001b[38;5;241m.\u001b[39mKappaGCN(\n\u001b[1;32m     66\u001b[0m     pm\u001b[38;5;241m=\u001b[39mpm_stereo, output_dim\u001b[38;5;241m=\u001b[39m\u001b[38;5;241m1\u001b[39m, hidden_dims\u001b[38;5;241m=\u001b[39m[pm_stereo\u001b[38;5;241m.\u001b[39mdim], task\u001b[38;5;241m=\u001b[39m\u001b[38;5;124m\"\u001b[39m\u001b[38;5;124mlink_prediction\u001b[39m\u001b[38;5;124m\"\u001b[39m\n\u001b[1;32m     67\u001b[0m )\u001b[38;5;241m.\u001b[39mto(DEVICE)\n\u001b[1;32m     68\u001b[0m t1 \u001b[38;5;241m=\u001b[39m time\u001b[38;5;241m.\u001b[39mtime()\n\u001b[0;32m---> 69\u001b[0m \u001b[43mkgcn\u001b[49m\u001b[38;5;241;43m.\u001b[39;49m\u001b[43mfit\u001b[49m\u001b[43m(\u001b[49m\u001b[43mX\u001b[49m\u001b[38;5;241;43m=\u001b[39;49m\u001b[43mX_stereo\u001b[49m\u001b[43m,\u001b[49m\u001b[43m \u001b[49m\u001b[43my\u001b[49m\u001b[38;5;241;43m=\u001b[39;49m\u001b[43my_train\u001b[49m\u001b[43m,\u001b[49m\u001b[43m \u001b[49m\u001b[43mA\u001b[49m\u001b[38;5;241;43m=\u001b[39;49m\u001b[43mA_hat\u001b[49m\u001b[43m,\u001b[49m\u001b[43m \u001b[49m\u001b[43mlr\u001b[49m\u001b[38;5;241;43m=\u001b[39;49m\u001b[43mLR\u001b[49m\u001b[43m,\u001b[49m\u001b[43m \u001b[49m\u001b[43mepochs\u001b[49m\u001b[38;5;241;43m=\u001b[39;49m\u001b[43mEPOCHS\u001b[49m\u001b[43m,\u001b[49m\u001b[43m \u001b[49m\u001b[43mlp_indices\u001b[49m\u001b[38;5;241;43m=\u001b[39;49m\u001b[43midx_train\u001b[49m\u001b[43m,\u001b[49m\u001b[43m \u001b[49m\u001b[43muse_tqdm\u001b[49m\u001b[38;5;241;43m=\u001b[39;49m\u001b[43mUSE_TQDM\u001b[49m\u001b[43m)\u001b[49m\n\u001b[1;32m     70\u001b[0m t2 \u001b[38;5;241m=\u001b[39m time\u001b[38;5;241m.\u001b[39mtime()\n\u001b[1;32m     71\u001b[0m y_pred \u001b[38;5;241m=\u001b[39m kgcn\u001b[38;5;241m.\u001b[39mpredict(X_stereo, A_hat)[idx_test]\n",
      "File \u001b[0;32m~/embedders/embedders/predictors/kappa_gcn.py:357\u001b[0m, in \u001b[0;36mKappaGCN.fit\u001b[0;34m(self, X, y, A, epochs, lr, use_tqdm, lp_indices)\u001b[0m\n\u001b[1;32m    355\u001b[0m \u001b[38;5;28;01mif\u001b[39;00m use_tqdm:\n\u001b[1;32m    356\u001b[0m     my_tqdm\u001b[38;5;241m.\u001b[39mupdate(\u001b[38;5;241m1\u001b[39m)\n\u001b[0;32m--> 357\u001b[0m     \u001b[43mmy_tqdm\u001b[49m\u001b[38;5;241;43m.\u001b[39;49m\u001b[43mset_description\u001b[49m\u001b[43m(\u001b[49m\u001b[38;5;124;43mf\u001b[39;49m\u001b[38;5;124;43m\"\u001b[39;49m\u001b[38;5;124;43mEpoch \u001b[39;49m\u001b[38;5;132;43;01m{\u001b[39;49;00m\u001b[43mi\u001b[49m\u001b[38;5;241;43m+\u001b[39;49m\u001b[38;5;241;43m1\u001b[39;49m\u001b[38;5;132;43;01m}\u001b[39;49;00m\u001b[38;5;124;43m/\u001b[39;49m\u001b[38;5;132;43;01m{\u001b[39;49;00m\u001b[43mepochs\u001b[49m\u001b[38;5;132;43;01m}\u001b[39;49;00m\u001b[38;5;124;43m, Loss: \u001b[39;49m\u001b[38;5;132;43;01m{\u001b[39;49;00m\u001b[43mloss\u001b[49m\u001b[38;5;241;43m.\u001b[39;49m\u001b[43mitem\u001b[49m\u001b[43m(\u001b[49m\u001b[43m)\u001b[49m\u001b[38;5;132;43;01m:\u001b[39;49;00m\u001b[38;5;124;43m.4f\u001b[39;49m\u001b[38;5;132;43;01m}\u001b[39;49;00m\u001b[38;5;124;43m\"\u001b[39;49m\u001b[43m)\u001b[49m\n",
      "File \u001b[0;32m~/miniconda3/envs/embedders/lib/python3.9/site-packages/tqdm/std.py:1394\u001b[0m, in \u001b[0;36mtqdm.set_description\u001b[0;34m(self, desc, refresh)\u001b[0m\n\u001b[1;32m   1392\u001b[0m \u001b[38;5;28mself\u001b[39m\u001b[38;5;241m.\u001b[39mdesc \u001b[38;5;241m=\u001b[39m desc \u001b[38;5;241m+\u001b[39m \u001b[38;5;124m'\u001b[39m\u001b[38;5;124m: \u001b[39m\u001b[38;5;124m'\u001b[39m \u001b[38;5;28;01mif\u001b[39;00m desc \u001b[38;5;28;01melse\u001b[39;00m \u001b[38;5;124m'\u001b[39m\u001b[38;5;124m'\u001b[39m\n\u001b[1;32m   1393\u001b[0m \u001b[38;5;28;01mif\u001b[39;00m refresh:\n\u001b[0;32m-> 1394\u001b[0m     \u001b[38;5;28;43mself\u001b[39;49m\u001b[38;5;241;43m.\u001b[39;49m\u001b[43mrefresh\u001b[49m\u001b[43m(\u001b[49m\u001b[43m)\u001b[49m\n",
      "File \u001b[0;32m~/miniconda3/envs/embedders/lib/python3.9/site-packages/tqdm/std.py:1347\u001b[0m, in \u001b[0;36mtqdm.refresh\u001b[0;34m(self, nolock, lock_args)\u001b[0m\n\u001b[1;32m   1345\u001b[0m     \u001b[38;5;28;01melse\u001b[39;00m:\n\u001b[1;32m   1346\u001b[0m         \u001b[38;5;28mself\u001b[39m\u001b[38;5;241m.\u001b[39m_lock\u001b[38;5;241m.\u001b[39macquire()\n\u001b[0;32m-> 1347\u001b[0m \u001b[38;5;28;43mself\u001b[39;49m\u001b[38;5;241;43m.\u001b[39;49m\u001b[43mdisplay\u001b[49m\u001b[43m(\u001b[49m\u001b[43m)\u001b[49m\n\u001b[1;32m   1348\u001b[0m \u001b[38;5;28;01mif\u001b[39;00m \u001b[38;5;129;01mnot\u001b[39;00m nolock:\n\u001b[1;32m   1349\u001b[0m     \u001b[38;5;28mself\u001b[39m\u001b[38;5;241m.\u001b[39m_lock\u001b[38;5;241m.\u001b[39mrelease()\n",
      "File \u001b[0;32m~/miniconda3/envs/embedders/lib/python3.9/site-packages/tqdm/notebook.py:171\u001b[0m, in \u001b[0;36mtqdm_notebook.display\u001b[0;34m(self, msg, pos, close, bar_style, check_delay)\u001b[0m\n\u001b[1;32m    169\u001b[0m     \u001b[38;5;66;03m# never clear the bar (signal: msg='')\u001b[39;00m\n\u001b[1;32m    170\u001b[0m     \u001b[38;5;28;01mif\u001b[39;00m right:\n\u001b[0;32m--> 171\u001b[0m         rtext\u001b[38;5;241m.\u001b[39mvalue \u001b[38;5;241m=\u001b[39m right\n\u001b[1;32m    173\u001b[0m \u001b[38;5;66;03m# Change bar style\u001b[39;00m\n\u001b[1;32m    174\u001b[0m \u001b[38;5;28;01mif\u001b[39;00m bar_style:\n\u001b[1;32m    175\u001b[0m     \u001b[38;5;66;03m# Hack-ish way to avoid the danger bar_style being overridden by\u001b[39;00m\n\u001b[1;32m    176\u001b[0m     \u001b[38;5;66;03m# success because the bar gets closed after the error...\u001b[39;00m\n",
      "File \u001b[0;32m~/miniconda3/envs/embedders/lib/python3.9/site-packages/traitlets/traitlets.py:716\u001b[0m, in \u001b[0;36mTraitType.__set__\u001b[0;34m(self, obj, value)\u001b[0m\n\u001b[1;32m    714\u001b[0m \u001b[38;5;28;01mif\u001b[39;00m \u001b[38;5;28mself\u001b[39m\u001b[38;5;241m.\u001b[39mread_only:\n\u001b[1;32m    715\u001b[0m     \u001b[38;5;28;01mraise\u001b[39;00m TraitError(\u001b[38;5;124m'\u001b[39m\u001b[38;5;124mThe \u001b[39m\u001b[38;5;124m\"\u001b[39m\u001b[38;5;132;01m%s\u001b[39;00m\u001b[38;5;124m\"\u001b[39m\u001b[38;5;124m trait is read-only.\u001b[39m\u001b[38;5;124m'\u001b[39m \u001b[38;5;241m%\u001b[39m \u001b[38;5;28mself\u001b[39m\u001b[38;5;241m.\u001b[39mname)\n\u001b[0;32m--> 716\u001b[0m \u001b[38;5;28;43mself\u001b[39;49m\u001b[38;5;241;43m.\u001b[39;49m\u001b[43mset\u001b[49m\u001b[43m(\u001b[49m\u001b[43mobj\u001b[49m\u001b[43m,\u001b[49m\u001b[43m \u001b[49m\u001b[43mvalue\u001b[49m\u001b[43m)\u001b[49m\n",
      "File \u001b[0;32m~/miniconda3/envs/embedders/lib/python3.9/site-packages/traitlets/traitlets.py:706\u001b[0m, in \u001b[0;36mTraitType.set\u001b[0;34m(self, obj, value)\u001b[0m\n\u001b[1;32m    702\u001b[0m     silent \u001b[38;5;241m=\u001b[39m \u001b[38;5;28;01mFalse\u001b[39;00m\n\u001b[1;32m    703\u001b[0m \u001b[38;5;28;01mif\u001b[39;00m silent \u001b[38;5;129;01mis\u001b[39;00m \u001b[38;5;129;01mnot\u001b[39;00m \u001b[38;5;28;01mTrue\u001b[39;00m:\n\u001b[1;32m    704\u001b[0m     \u001b[38;5;66;03m# we explicitly compare silent to True just in case the equality\u001b[39;00m\n\u001b[1;32m    705\u001b[0m     \u001b[38;5;66;03m# comparison above returns something other than True/False\u001b[39;00m\n\u001b[0;32m--> 706\u001b[0m     \u001b[43mobj\u001b[49m\u001b[38;5;241;43m.\u001b[39;49m\u001b[43m_notify_trait\u001b[49m\u001b[43m(\u001b[49m\u001b[38;5;28;43mself\u001b[39;49m\u001b[38;5;241;43m.\u001b[39;49m\u001b[43mname\u001b[49m\u001b[43m,\u001b[49m\u001b[43m \u001b[49m\u001b[43mold_value\u001b[49m\u001b[43m,\u001b[49m\u001b[43m \u001b[49m\u001b[43mnew_value\u001b[49m\u001b[43m)\u001b[49m\n",
      "File \u001b[0;32m~/miniconda3/envs/embedders/lib/python3.9/site-packages/traitlets/traitlets.py:1513\u001b[0m, in \u001b[0;36mHasTraits._notify_trait\u001b[0;34m(self, name, old_value, new_value)\u001b[0m\n\u001b[1;32m   1512\u001b[0m \u001b[38;5;28;01mdef\u001b[39;00m \u001b[38;5;21m_notify_trait\u001b[39m(\u001b[38;5;28mself\u001b[39m, name: \u001b[38;5;28mstr\u001b[39m, old_value: t\u001b[38;5;241m.\u001b[39mAny, new_value: t\u001b[38;5;241m.\u001b[39mAny) \u001b[38;5;241m-\u001b[39m\u001b[38;5;241m>\u001b[39m \u001b[38;5;28;01mNone\u001b[39;00m:\n\u001b[0;32m-> 1513\u001b[0m     \u001b[38;5;28;43mself\u001b[39;49m\u001b[38;5;241;43m.\u001b[39;49m\u001b[43mnotify_change\u001b[49m\u001b[43m(\u001b[49m\n\u001b[1;32m   1514\u001b[0m \u001b[43m        \u001b[49m\u001b[43mBunch\u001b[49m\u001b[43m(\u001b[49m\n\u001b[1;32m   1515\u001b[0m \u001b[43m            \u001b[49m\u001b[43mname\u001b[49m\u001b[38;5;241;43m=\u001b[39;49m\u001b[43mname\u001b[49m\u001b[43m,\u001b[49m\n\u001b[1;32m   1516\u001b[0m \u001b[43m            \u001b[49m\u001b[43mold\u001b[49m\u001b[38;5;241;43m=\u001b[39;49m\u001b[43mold_value\u001b[49m\u001b[43m,\u001b[49m\n\u001b[1;32m   1517\u001b[0m \u001b[43m            \u001b[49m\u001b[43mnew\u001b[49m\u001b[38;5;241;43m=\u001b[39;49m\u001b[43mnew_value\u001b[49m\u001b[43m,\u001b[49m\n\u001b[1;32m   1518\u001b[0m \u001b[43m            \u001b[49m\u001b[43mowner\u001b[49m\u001b[38;5;241;43m=\u001b[39;49m\u001b[38;5;28;43mself\u001b[39;49m\u001b[43m,\u001b[49m\n\u001b[1;32m   1519\u001b[0m \u001b[43m            \u001b[49m\u001b[38;5;28;43mtype\u001b[39;49m\u001b[38;5;241;43m=\u001b[39;49m\u001b[38;5;124;43m\"\u001b[39;49m\u001b[38;5;124;43mchange\u001b[39;49m\u001b[38;5;124;43m\"\u001b[39;49m\u001b[43m,\u001b[49m\n\u001b[1;32m   1520\u001b[0m \u001b[43m        \u001b[49m\u001b[43m)\u001b[49m\n\u001b[1;32m   1521\u001b[0m \u001b[43m    \u001b[49m\u001b[43m)\u001b[49m\n",
      "File \u001b[0;32m~/miniconda3/envs/embedders/lib/python3.9/site-packages/ipywidgets/widgets/widget.py:700\u001b[0m, in \u001b[0;36mWidget.notify_change\u001b[0;34m(self, change)\u001b[0m\n\u001b[1;32m    696\u001b[0m \u001b[38;5;28;01mif\u001b[39;00m \u001b[38;5;28mself\u001b[39m\u001b[38;5;241m.\u001b[39mcomm \u001b[38;5;129;01mis\u001b[39;00m \u001b[38;5;129;01mnot\u001b[39;00m \u001b[38;5;28;01mNone\u001b[39;00m \u001b[38;5;129;01mand\u001b[39;00m \u001b[38;5;28mgetattr\u001b[39m(\u001b[38;5;28mself\u001b[39m\u001b[38;5;241m.\u001b[39mcomm, \u001b[38;5;124m'\u001b[39m\u001b[38;5;124mkernel\u001b[39m\u001b[38;5;124m'\u001b[39m, \u001b[38;5;28;01mTrue\u001b[39;00m) \u001b[38;5;129;01mis\u001b[39;00m \u001b[38;5;129;01mnot\u001b[39;00m \u001b[38;5;28;01mNone\u001b[39;00m:\n\u001b[1;32m    697\u001b[0m     \u001b[38;5;66;03m# Make sure this isn't information that the front-end just sent us.\u001b[39;00m\n\u001b[1;32m    698\u001b[0m     \u001b[38;5;28;01mif\u001b[39;00m name \u001b[38;5;129;01min\u001b[39;00m \u001b[38;5;28mself\u001b[39m\u001b[38;5;241m.\u001b[39mkeys \u001b[38;5;129;01mand\u001b[39;00m \u001b[38;5;28mself\u001b[39m\u001b[38;5;241m.\u001b[39m_should_send_property(name, \u001b[38;5;28mgetattr\u001b[39m(\u001b[38;5;28mself\u001b[39m, name)):\n\u001b[1;32m    699\u001b[0m         \u001b[38;5;66;03m# Send new state to front-end\u001b[39;00m\n\u001b[0;32m--> 700\u001b[0m         \u001b[38;5;28;43mself\u001b[39;49m\u001b[38;5;241;43m.\u001b[39;49m\u001b[43msend_state\u001b[49m\u001b[43m(\u001b[49m\u001b[43mkey\u001b[49m\u001b[38;5;241;43m=\u001b[39;49m\u001b[43mname\u001b[49m\u001b[43m)\u001b[49m\n\u001b[1;32m    701\u001b[0m \u001b[38;5;28msuper\u001b[39m()\u001b[38;5;241m.\u001b[39mnotify_change(change)\n",
      "File \u001b[0;32m~/miniconda3/envs/embedders/lib/python3.9/site-packages/ipywidgets/widgets/widget.py:586\u001b[0m, in \u001b[0;36mWidget.send_state\u001b[0;34m(self, key)\u001b[0m\n\u001b[1;32m    584\u001b[0m state, buffer_paths, buffers \u001b[38;5;241m=\u001b[39m _remove_buffers(state)\n\u001b[1;32m    585\u001b[0m msg \u001b[38;5;241m=\u001b[39m {\u001b[38;5;124m'\u001b[39m\u001b[38;5;124mmethod\u001b[39m\u001b[38;5;124m'\u001b[39m: \u001b[38;5;124m'\u001b[39m\u001b[38;5;124mupdate\u001b[39m\u001b[38;5;124m'\u001b[39m, \u001b[38;5;124m'\u001b[39m\u001b[38;5;124mstate\u001b[39m\u001b[38;5;124m'\u001b[39m: state, \u001b[38;5;124m'\u001b[39m\u001b[38;5;124mbuffer_paths\u001b[39m\u001b[38;5;124m'\u001b[39m: buffer_paths}\n\u001b[0;32m--> 586\u001b[0m \u001b[38;5;28;43mself\u001b[39;49m\u001b[38;5;241;43m.\u001b[39;49m\u001b[43m_send\u001b[49m\u001b[43m(\u001b[49m\u001b[43mmsg\u001b[49m\u001b[43m,\u001b[49m\u001b[43m \u001b[49m\u001b[43mbuffers\u001b[49m\u001b[38;5;241;43m=\u001b[39;49m\u001b[43mbuffers\u001b[49m\u001b[43m)\u001b[49m\n",
      "File \u001b[0;32m~/miniconda3/envs/embedders/lib/python3.9/site-packages/ipywidgets/widgets/widget.py:825\u001b[0m, in \u001b[0;36mWidget._send\u001b[0;34m(self, msg, buffers)\u001b[0m\n\u001b[1;32m    823\u001b[0m \u001b[38;5;250m\u001b[39m\u001b[38;5;124;03m\"\"\"Sends a message to the model in the front-end.\"\"\"\u001b[39;00m\n\u001b[1;32m    824\u001b[0m \u001b[38;5;28;01mif\u001b[39;00m \u001b[38;5;28mself\u001b[39m\u001b[38;5;241m.\u001b[39mcomm \u001b[38;5;129;01mis\u001b[39;00m \u001b[38;5;129;01mnot\u001b[39;00m \u001b[38;5;28;01mNone\u001b[39;00m \u001b[38;5;129;01mand\u001b[39;00m (\u001b[38;5;28mself\u001b[39m\u001b[38;5;241m.\u001b[39mcomm\u001b[38;5;241m.\u001b[39mkernel \u001b[38;5;129;01mis\u001b[39;00m \u001b[38;5;129;01mnot\u001b[39;00m \u001b[38;5;28;01mNone\u001b[39;00m \u001b[38;5;28;01mif\u001b[39;00m \u001b[38;5;28mhasattr\u001b[39m(\u001b[38;5;28mself\u001b[39m\u001b[38;5;241m.\u001b[39mcomm, \u001b[38;5;124m\"\u001b[39m\u001b[38;5;124mkernel\u001b[39m\u001b[38;5;124m\"\u001b[39m) \u001b[38;5;28;01melse\u001b[39;00m \u001b[38;5;28;01mTrue\u001b[39;00m):\n\u001b[0;32m--> 825\u001b[0m     \u001b[38;5;28;43mself\u001b[39;49m\u001b[38;5;241;43m.\u001b[39;49m\u001b[43mcomm\u001b[49m\u001b[38;5;241;43m.\u001b[39;49m\u001b[43msend\u001b[49m\u001b[43m(\u001b[49m\u001b[43mdata\u001b[49m\u001b[38;5;241;43m=\u001b[39;49m\u001b[43mmsg\u001b[49m\u001b[43m,\u001b[49m\u001b[43m \u001b[49m\u001b[43mbuffers\u001b[49m\u001b[38;5;241;43m=\u001b[39;49m\u001b[43mbuffers\u001b[49m\u001b[43m)\u001b[49m\n",
      "File \u001b[0;32m~/miniconda3/envs/embedders/lib/python3.9/site-packages/comm/base_comm.py:147\u001b[0m, in \u001b[0;36mBaseComm.send\u001b[0;34m(self, data, metadata, buffers)\u001b[0m\n\u001b[1;32m    143\u001b[0m \u001b[38;5;28;01mdef\u001b[39;00m \u001b[38;5;21msend\u001b[39m(\n\u001b[1;32m    144\u001b[0m     \u001b[38;5;28mself\u001b[39m, data: MaybeDict \u001b[38;5;241m=\u001b[39m \u001b[38;5;28;01mNone\u001b[39;00m, metadata: MaybeDict \u001b[38;5;241m=\u001b[39m \u001b[38;5;28;01mNone\u001b[39;00m, buffers: BuffersType \u001b[38;5;241m=\u001b[39m \u001b[38;5;28;01mNone\u001b[39;00m\n\u001b[1;32m    145\u001b[0m ) \u001b[38;5;241m-\u001b[39m\u001b[38;5;241m>\u001b[39m \u001b[38;5;28;01mNone\u001b[39;00m:\n\u001b[1;32m    146\u001b[0m \u001b[38;5;250m    \u001b[39m\u001b[38;5;124;03m\"\"\"Send a message to the frontend-side version of this comm\"\"\"\u001b[39;00m\n\u001b[0;32m--> 147\u001b[0m     \u001b[38;5;28;43mself\u001b[39;49m\u001b[38;5;241;43m.\u001b[39;49m\u001b[43mpublish_msg\u001b[49m\u001b[43m(\u001b[49m\n\u001b[1;32m    148\u001b[0m \u001b[43m        \u001b[49m\u001b[38;5;124;43m\"\u001b[39;49m\u001b[38;5;124;43mcomm_msg\u001b[39;49m\u001b[38;5;124;43m\"\u001b[39;49m\u001b[43m,\u001b[49m\n\u001b[1;32m    149\u001b[0m \u001b[43m        \u001b[49m\u001b[43mdata\u001b[49m\u001b[38;5;241;43m=\u001b[39;49m\u001b[43mdata\u001b[49m\u001b[43m,\u001b[49m\n\u001b[1;32m    150\u001b[0m \u001b[43m        \u001b[49m\u001b[43mmetadata\u001b[49m\u001b[38;5;241;43m=\u001b[39;49m\u001b[43mmetadata\u001b[49m\u001b[43m,\u001b[49m\n\u001b[1;32m    151\u001b[0m \u001b[43m        \u001b[49m\u001b[43mbuffers\u001b[49m\u001b[38;5;241;43m=\u001b[39;49m\u001b[43mbuffers\u001b[49m\u001b[43m,\u001b[49m\n\u001b[1;32m    152\u001b[0m \u001b[43m    \u001b[49m\u001b[43m)\u001b[49m\n",
      "File \u001b[0;32m~/miniconda3/envs/embedders/lib/python3.9/site-packages/ipykernel/comm/comm.py:37\u001b[0m, in \u001b[0;36mBaseComm.publish_msg\u001b[0;34m(self, msg_type, data, metadata, buffers, **keys)\u001b[0m\n\u001b[1;32m     34\u001b[0m     \u001b[38;5;28mself\u001b[39m\u001b[38;5;241m.\u001b[39mkernel \u001b[38;5;241m=\u001b[39m Kernel\u001b[38;5;241m.\u001b[39minstance()\n\u001b[1;32m     36\u001b[0m \u001b[38;5;28;01massert\u001b[39;00m \u001b[38;5;28mself\u001b[39m\u001b[38;5;241m.\u001b[39mkernel\u001b[38;5;241m.\u001b[39msession \u001b[38;5;129;01mis\u001b[39;00m \u001b[38;5;129;01mnot\u001b[39;00m \u001b[38;5;28;01mNone\u001b[39;00m\n\u001b[0;32m---> 37\u001b[0m \u001b[38;5;28;43mself\u001b[39;49m\u001b[38;5;241;43m.\u001b[39;49m\u001b[43mkernel\u001b[49m\u001b[38;5;241;43m.\u001b[39;49m\u001b[43msession\u001b[49m\u001b[38;5;241;43m.\u001b[39;49m\u001b[43msend\u001b[49m\u001b[43m(\u001b[49m\n\u001b[1;32m     38\u001b[0m \u001b[43m    \u001b[49m\u001b[38;5;28;43mself\u001b[39;49m\u001b[38;5;241;43m.\u001b[39;49m\u001b[43mkernel\u001b[49m\u001b[38;5;241;43m.\u001b[39;49m\u001b[43miopub_socket\u001b[49m\u001b[43m,\u001b[49m\n\u001b[1;32m     39\u001b[0m \u001b[43m    \u001b[49m\u001b[43mmsg_type\u001b[49m\u001b[43m,\u001b[49m\n\u001b[1;32m     40\u001b[0m \u001b[43m    \u001b[49m\u001b[43mcontent\u001b[49m\u001b[43m,\u001b[49m\n\u001b[1;32m     41\u001b[0m \u001b[43m    \u001b[49m\u001b[43mmetadata\u001b[49m\u001b[38;5;241;43m=\u001b[39;49m\u001b[43mjson_clean\u001b[49m\u001b[43m(\u001b[49m\u001b[43mmetadata\u001b[49m\u001b[43m)\u001b[49m\u001b[43m,\u001b[49m\n\u001b[1;32m     42\u001b[0m \u001b[43m    \u001b[49m\u001b[43mparent\u001b[49m\u001b[38;5;241;43m=\u001b[39;49m\u001b[38;5;28;43mself\u001b[39;49m\u001b[38;5;241;43m.\u001b[39;49m\u001b[43mkernel\u001b[49m\u001b[38;5;241;43m.\u001b[39;49m\u001b[43mget_parent\u001b[49m\u001b[43m(\u001b[49m\u001b[43m)\u001b[49m\u001b[43m,\u001b[49m\n\u001b[1;32m     43\u001b[0m \u001b[43m    \u001b[49m\u001b[43mident\u001b[49m\u001b[38;5;241;43m=\u001b[39;49m\u001b[38;5;28;43mself\u001b[39;49m\u001b[38;5;241;43m.\u001b[39;49m\u001b[43mtopic\u001b[49m\u001b[43m,\u001b[49m\n\u001b[1;32m     44\u001b[0m \u001b[43m    \u001b[49m\u001b[43mbuffers\u001b[49m\u001b[38;5;241;43m=\u001b[39;49m\u001b[43mbuffers\u001b[49m\u001b[43m,\u001b[49m\n\u001b[1;32m     45\u001b[0m \u001b[43m\u001b[49m\u001b[43m)\u001b[49m\n",
      "File \u001b[0;32m~/miniconda3/envs/embedders/lib/python3.9/site-packages/jupyter_client/session.py:852\u001b[0m, in \u001b[0;36mSession.send\u001b[0;34m(self, stream, msg_or_type, content, parent, ident, buffers, track, header, metadata)\u001b[0m\n\u001b[1;32m    850\u001b[0m \u001b[38;5;28;01mif\u001b[39;00m \u001b[38;5;28mself\u001b[39m\u001b[38;5;241m.\u001b[39madapt_version:\n\u001b[1;32m    851\u001b[0m     msg \u001b[38;5;241m=\u001b[39m adapt(msg, \u001b[38;5;28mself\u001b[39m\u001b[38;5;241m.\u001b[39madapt_version)\n\u001b[0;32m--> 852\u001b[0m to_send \u001b[38;5;241m=\u001b[39m \u001b[38;5;28;43mself\u001b[39;49m\u001b[38;5;241;43m.\u001b[39;49m\u001b[43mserialize\u001b[49m\u001b[43m(\u001b[49m\u001b[43mmsg\u001b[49m\u001b[43m,\u001b[49m\u001b[43m \u001b[49m\u001b[43mident\u001b[49m\u001b[43m)\u001b[49m\n\u001b[1;32m    853\u001b[0m to_send\u001b[38;5;241m.\u001b[39mextend(buffers)\n\u001b[1;32m    854\u001b[0m longest \u001b[38;5;241m=\u001b[39m \u001b[38;5;28mmax\u001b[39m([\u001b[38;5;28mlen\u001b[39m(s) \u001b[38;5;28;01mfor\u001b[39;00m s \u001b[38;5;129;01min\u001b[39;00m to_send])\n",
      "File \u001b[0;32m~/miniconda3/envs/embedders/lib/python3.9/site-packages/jupyter_client/session.py:747\u001b[0m, in \u001b[0;36mSession.serialize\u001b[0;34m(self, msg, ident)\u001b[0m\n\u001b[1;32m    744\u001b[0m     to_send\u001b[38;5;241m.\u001b[39mappend(ident)\n\u001b[1;32m    745\u001b[0m to_send\u001b[38;5;241m.\u001b[39mappend(DELIM)\n\u001b[0;32m--> 747\u001b[0m signature \u001b[38;5;241m=\u001b[39m \u001b[38;5;28;43mself\u001b[39;49m\u001b[38;5;241;43m.\u001b[39;49m\u001b[43msign\u001b[49m\u001b[43m(\u001b[49m\u001b[43mreal_message\u001b[49m\u001b[43m)\u001b[49m\n\u001b[1;32m    748\u001b[0m to_send\u001b[38;5;241m.\u001b[39mappend(signature)\n\u001b[1;32m    750\u001b[0m to_send\u001b[38;5;241m.\u001b[39mextend(real_message)\n",
      "File \u001b[0;32m~/miniconda3/envs/embedders/lib/python3.9/site-packages/jupyter_client/session.py:685\u001b[0m, in \u001b[0;36mSession.sign\u001b[0;34m(self, msg_list)\u001b[0m\n\u001b[1;32m    683\u001b[0m \u001b[38;5;28;01mif\u001b[39;00m \u001b[38;5;28mself\u001b[39m\u001b[38;5;241m.\u001b[39mauth \u001b[38;5;129;01mis\u001b[39;00m \u001b[38;5;28;01mNone\u001b[39;00m:\n\u001b[1;32m    684\u001b[0m     \u001b[38;5;28;01mreturn\u001b[39;00m \u001b[38;5;124mb\u001b[39m\u001b[38;5;124m\"\u001b[39m\u001b[38;5;124m\"\u001b[39m\n\u001b[0;32m--> 685\u001b[0m h \u001b[38;5;241m=\u001b[39m \u001b[38;5;28;43mself\u001b[39;49m\u001b[38;5;241;43m.\u001b[39;49m\u001b[43mauth\u001b[49m\u001b[38;5;241;43m.\u001b[39;49m\u001b[43mcopy\u001b[49m\u001b[43m(\u001b[49m\u001b[43m)\u001b[49m\n\u001b[1;32m    686\u001b[0m \u001b[38;5;28;01mfor\u001b[39;00m m \u001b[38;5;129;01min\u001b[39;00m msg_list:\n\u001b[1;32m    687\u001b[0m     h\u001b[38;5;241m.\u001b[39mupdate(m)\n",
      "File \u001b[0;32m~/miniconda3/envs/embedders/lib/python3.9/hmac.py:123\u001b[0m, in \u001b[0;36mHMAC.copy\u001b[0;34m(self)\u001b[0m\n\u001b[1;32m    121\u001b[0m other \u001b[38;5;241m=\u001b[39m \u001b[38;5;28mself\u001b[39m\u001b[38;5;241m.\u001b[39m\u001b[38;5;18m__class__\u001b[39m\u001b[38;5;241m.\u001b[39m\u001b[38;5;21m__new__\u001b[39m(\u001b[38;5;28mself\u001b[39m\u001b[38;5;241m.\u001b[39m\u001b[38;5;18m__class__\u001b[39m)\n\u001b[1;32m    122\u001b[0m other\u001b[38;5;241m.\u001b[39m_digest_cons \u001b[38;5;241m=\u001b[39m \u001b[38;5;28mself\u001b[39m\u001b[38;5;241m.\u001b[39m_digest_cons\n\u001b[0;32m--> 123\u001b[0m other\u001b[38;5;241m.\u001b[39mdigest_size \u001b[38;5;241m=\u001b[39m \u001b[38;5;28mself\u001b[39m\u001b[38;5;241m.\u001b[39mdigest_size\n\u001b[1;32m    124\u001b[0m other\u001b[38;5;241m.\u001b[39m_inner \u001b[38;5;241m=\u001b[39m \u001b[38;5;28mself\u001b[39m\u001b[38;5;241m.\u001b[39m_inner\u001b[38;5;241m.\u001b[39mcopy()\n\u001b[1;32m    125\u001b[0m other\u001b[38;5;241m.\u001b[39m_outer \u001b[38;5;241m=\u001b[39m \u001b[38;5;28mself\u001b[39m\u001b[38;5;241m.\u001b[39m_outer\u001b[38;5;241m.\u001b[39mcopy()\n",
      "\u001b[0;31mKeyboardInterrupt\u001b[0m: "
     ]
    }
   ],
   "source": [
    "from sklearn.metrics import f1_score\n",
    "from tqdm.notebook import tqdm\n",
    "import time\n",
    "\n",
    "DATASETS = [\"adjnoun\", \"polbooks\"]\n",
    "\n",
    "results2 = []\n",
    "\n",
    "# for dataset in [\"karate_club\"]:\n",
    "my_tqdm = tqdm(total=N_TRIALS * len(DATASETS))\n",
    "for i, dataset in enumerate(DATASETS):\n",
    "    dists, _, adj = embedders.dataloaders.load(dataset)\n",
    "    dists, adj = dists.to(DEVICE), adj.to(DEVICE)\n",
    "    dists = dists / dists[dists.isfinite()].max()\n",
    "\n",
    "    # while len(results) < N_TRIALS:\n",
    "    for seed in range(N_TRIALS):\n",
    "        seed = seed + i * N_TRIALS # Unique\n",
    "        pm = embedders.manifolds.ProductManifold(signature=SIGNATURE, device=DEVICE)\n",
    "        X, _ = embedders.coordinate_learning.train_coords(\n",
    "            pm=pm,\n",
    "            dists=dists,\n",
    "            burn_in_iterations=int(0.1 * TOTAL_ITERATIONS),\n",
    "            training_iterations=int(0.9 * TOTAL_ITERATIONS),\n",
    "            scale_factor_learning_rate=0.02,\n",
    "            device=DEVICE,\n",
    "        )\n",
    "        assert not torch.isnan(X).any()\n",
    "\n",
    "        # Get data for classification variants\n",
    "        XX, yy, pm_new = make_link_prediction_dataset(X, pm, adj, add_dists=USE_DISTS)\n",
    "        X_train, X_test, y_train, y_test, idx_train, idx_test = train_test_split(\n",
    "            XX, yy, list(range(len(yy))), test_size=0.2\n",
    "        )\n",
    "        res = embedders.benchmarks.benchmark(\n",
    "            XX, yy, pm_new, task=\"classification\", score=[\"accuracy\", \"f1-micro\"], device=DEVICE, models=MODELS, seed=seed, batch_size=1\n",
    "        )\n",
    "\n",
    "        # Other manifolds we'll need\n",
    "        pm_stereo, X_stereo = pm.stereographic(X)\n",
    "        pm_stereo_euc = embedders.manifolds.ProductManifold(\n",
    "            signature=[(0, X.shape[1])], stereographic=True, device=DEVICE\n",
    "        )\n",
    "\n",
    "        # Get an adjacency matrix that's not leaky\n",
    "        dists = pm.pdist2(X)\n",
    "        max_dist = dists[dists.isfinite()].max()\n",
    "        dists /= max_dist\n",
    "        A = torch.exp(-dists)\n",
    "        A_hat = embedders.predictors.kappa_gcn.get_A_hat(A).float().to(DEVICE)\n",
    "\n",
    "        # Ambient GNN\n",
    "        agnn = embedders.predictors.kappa_gcn.KappaGCN(\n",
    "            pm=pm_stereo_euc, output_dim=1, hidden_dims=[pm_stereo_euc.dim], task=\"link_prediction\"\n",
    "        ).to(DEVICE)\n",
    "        t1 = time.time()\n",
    "        agnn.fit(X=X, y=y_train, A=A_hat, lr=LR, epochs=EPOCHS, lp_indices=idx_train, use_tqdm=USE_TQDM)\n",
    "        t2 = time.time()\n",
    "        y_pred = agnn.predict(X, A_hat)[idx_test]\n",
    "        res[\"ambient_gnn_accuracy\"] = (y_pred == y_test).float().mean().item()\n",
    "        res[\"ambient_gnn_f1_micro\"] = f1_score(y_test.cpu(), y_pred.cpu(), average=\"micro\")\n",
    "        res[\"ambient_gnn_time\"] = t2 - t1\n",
    "\n",
    "        # Kappa GCN\n",
    "        kgcn = embedders.predictors.kappa_gcn.KappaGCN(\n",
    "            pm=pm_stereo, output_dim=1, hidden_dims=[pm_stereo.dim], task=\"link_prediction\"\n",
    "        ).to(DEVICE)\n",
    "        t1 = time.time()\n",
    "        kgcn.fit(X=X_stereo, y=y_train, A=A_hat, lr=LR, epochs=EPOCHS, lp_indices=idx_train, use_tqdm=USE_TQDM)\n",
    "        t2 = time.time()\n",
    "        y_pred = kgcn.predict(X_stereo, A_hat)[idx_test]\n",
    "        res[\"kappa_gcn_accuracy\"] = (y_pred == y_test).float().mean().item()\n",
    "        res[\"kappa_gcn_f1_micro\"] = f1_score(y_test.cpu(), y_pred.cpu(), average=\"micro\")\n",
    "        res[\"kappa_gcn_time\"] = t2 - t1\n",
    "\n",
    "        # Product MLR\n",
    "        mlr = embedders.predictors.kappa_gcn.KappaGCN(\n",
    "            pm=pm_stereo, output_dim=1, hidden_dims=[], task=\"link_prediction\"\n",
    "        ).to(DEVICE)\n",
    "        t1 = time.time()\n",
    "        kgcn.fit(X=X_stereo, y=y_train, A=A_hat, lr=LR, epochs=EPOCHS, lp_indices=idx_train, use_tqdm=USE_TQDM)\n",
    "        t2 = time.time()\n",
    "        y_pred = kgcn.predict(X_stereo, A_hat)[idx_test]\n",
    "        res[\"product_mlr_accuracy\"] = (y_pred == y_test).float().mean().item()\n",
    "        res[\"product_mlr_f1_micro\"] = f1_score(y_test.cpu(), y_pred.cpu(), average=\"micro\")\n",
    "        res[\"product_mlr_time\"] = t2 - t1\n",
    "\n",
    "        # Other details\n",
    "        res[\"d_avg\"] = embedders.metrics.d_avg(pm.pdist(X), dists).item()\n",
    "        res[\"dataset\"] = dataset\n",
    "\n",
    "        results2.append(res)\n",
    "        my_tqdm.update(1)\n",
    "        # except Exception as e:\n",
    "        #     print(e)\n",
    "        #     pass"
   ]
  },
  {
   "cell_type": "code",
   "execution_count": null,
   "metadata": {},
   "outputs": [],
   "source": [
    "results_df2 = pd.DataFrame(results2)\n",
    "results_df2.to_csv(\"../data/results_icml/link_prediction2.tsv\", sep=\"\\t\", index=False)"
   ]
  },
  {
   "cell_type": "code",
   "execution_count": null,
   "metadata": {},
   "outputs": [],
   "source": []
  }
 ],
 "metadata": {
  "kernelspec": {
   "display_name": "embedders",
   "language": "python",
   "name": "python3"
  },
  "language_info": {
   "codemirror_mode": {
    "name": "ipython",
    "version": 3
   },
   "file_extension": ".py",
   "mimetype": "text/x-python",
   "name": "python",
   "nbconvert_exporter": "python",
   "pygments_lexer": "ipython3",
   "version": "3.9.0"
  }
 },
 "nbformat": 4,
 "nbformat_minor": 2
}

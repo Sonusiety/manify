{
 "cells": [
  {
   "cell_type": "code",
   "execution_count": 3,
   "metadata": {},
   "outputs": [
    {
     "name": "stdout",
     "output_type": "stream",
     "text": [
      "The autoreload extension is already loaded. To reload it, use:\n",
      "  %reload_ext autoreload\n"
     ]
    }
   ],
   "source": [
    "%load_ext autoreload\n",
    "%autoreload 2"
   ]
  },
  {
   "cell_type": "code",
   "execution_count": 4,
   "metadata": {},
   "outputs": [],
   "source": [
    "import torch\n",
    "import manify\n",
    "\n",
    "DEVICE = torch.device(\"cuda\", 1)  # Use the 2nd GPU"
   ]
  },
  {
   "cell_type": "code",
   "execution_count": 7,
   "metadata": {},
   "outputs": [
    {
     "name": "stdout",
     "output_type": "stream",
     "text": [
      "Top CC has 34 nodes; original graph has 34 nodes.\n"
     ]
    },
    {
     "data": {
      "application/vnd.jupyter.widget-view+json": {
       "model_id": "9341f13de1e64c2eb11086a32390a591",
       "version_major": 2,
       "version_minor": 0
      },
      "text/plain": [
       "  0%|          | 0/2000 [00:00<?, ?it/s]"
      ]
     },
     "metadata": {},
     "output_type": "display_data"
    },
    {
     "ename": "KeyboardInterrupt",
     "evalue": "",
     "output_type": "error",
     "traceback": [
      "\u001b[0;31m---------------------------------------------------------------------------\u001b[0m",
      "\u001b[0;31mKeyboardInterrupt\u001b[0m                         Traceback (most recent call last)",
      "Cell \u001b[0;32mIn[7], line 9\u001b[0m\n\u001b[1;32m      6\u001b[0m pm \u001b[38;5;241m=\u001b[39m manify\u001b[38;5;241m.\u001b[39mmanifolds\u001b[38;5;241m.\u001b[39mProductManifold(signature\u001b[38;5;241m=\u001b[39m[(\u001b[38;5;241m-\u001b[39m\u001b[38;5;241m1\u001b[39m, \u001b[38;5;241m2\u001b[39m), (\u001b[38;5;241m0\u001b[39m, \u001b[38;5;241m2\u001b[39m), (\u001b[38;5;241m1\u001b[39m, \u001b[38;5;241m2\u001b[39m)], device\u001b[38;5;241m=\u001b[39mDEVICE)\n\u001b[1;32m      8\u001b[0m \u001b[38;5;66;03m# Get embeddings\u001b[39;00m\n\u001b[0;32m----> 9\u001b[0m X, _ \u001b[38;5;241m=\u001b[39m \u001b[43mmanify\u001b[49m\u001b[38;5;241;43m.\u001b[39;49m\u001b[43membedders\u001b[49m\u001b[38;5;241;43m.\u001b[39;49m\u001b[43mcoordinate_learning\u001b[49m\u001b[38;5;241;43m.\u001b[39;49m\u001b[43mtrain_coords\u001b[49m\u001b[43m(\u001b[49m\n\u001b[1;32m     10\u001b[0m \u001b[43m    \u001b[49m\u001b[43mpm\u001b[49m\u001b[38;5;241;43m=\u001b[39;49m\u001b[43mpm\u001b[49m\u001b[43m,\u001b[49m\u001b[43m \u001b[49m\u001b[43mdists\u001b[49m\u001b[38;5;241;43m=\u001b[39;49m\u001b[43mD\u001b[49m\u001b[43m,\u001b[49m\u001b[43m \u001b[49m\u001b[43mdevice\u001b[49m\u001b[38;5;241;43m=\u001b[39;49m\u001b[43mDEVICE\u001b[49m\u001b[43m,\u001b[49m\u001b[43m \u001b[49m\u001b[43mburn_in_iterations\u001b[49m\u001b[38;5;241;43m=\u001b[39;49m\u001b[38;5;241;43m400\u001b[39;49m\u001b[43m,\u001b[49m\u001b[43m \u001b[49m\u001b[43mtraining_iterations\u001b[49m\u001b[38;5;241;43m=\u001b[39;49m\u001b[38;5;241;43m1600\u001b[39;49m\n\u001b[1;32m     11\u001b[0m \u001b[43m)\u001b[49m\n\u001b[1;32m     13\u001b[0m \u001b[38;5;66;03m# Get stereographic version\u001b[39;00m\n\u001b[1;32m     14\u001b[0m pm_stereo, X_stereo \u001b[38;5;241m=\u001b[39m pm\u001b[38;5;241m.\u001b[39mstereographic(X)\n",
      "File \u001b[0;32m~/manify/manify/embedders/coordinate_learning.py:99\u001b[0m, in \u001b[0;36mtrain_coords\u001b[0;34m(pm, dists, test_indices, device, burn_in_learning_rate, burn_in_iterations, learning_rate, scale_factor_learning_rate, training_iterations, loss_window_size, logging_interval, scale)\u001b[0m\n\u001b[1;32m     97\u001b[0m D_tt \u001b[38;5;241m=\u001b[39m pm\u001b[38;5;241m.\u001b[39mpdist(X_t)\n\u001b[1;32m     98\u001b[0m L_tt \u001b[38;5;241m=\u001b[39m distortion_loss(D_tt, dists[train][:, train], pairwise\u001b[38;5;241m=\u001b[39m\u001b[38;5;28;01mTrue\u001b[39;00m)\n\u001b[0;32m---> 99\u001b[0m \u001b[43mL_tt\u001b[49m\u001b[38;5;241;43m.\u001b[39;49m\u001b[43mbackward\u001b[49m\u001b[43m(\u001b[49m\u001b[43mretain_graph\u001b[49m\u001b[38;5;241;43m=\u001b[39;49m\u001b[38;5;28;43;01mTrue\u001b[39;49;00m\u001b[43m)\u001b[49m\n\u001b[1;32m    100\u001b[0m losses[\u001b[38;5;124m\"\u001b[39m\u001b[38;5;124mtrain_train\u001b[39m\u001b[38;5;124m\"\u001b[39m]\u001b[38;5;241m.\u001b[39mappend(L_tt\u001b[38;5;241m.\u001b[39mitem())\n\u001b[1;32m    102\u001b[0m \u001b[38;5;28;01mif\u001b[39;00m use_test:\n\u001b[1;32m    103\u001b[0m     \u001b[38;5;66;03m# 2. Test-test loss\u001b[39;00m\n",
      "File \u001b[0;32m~/miniconda3/envs/embedders/lib/python3.9/site-packages/torch/_tensor.py:626\u001b[0m, in \u001b[0;36mTensor.backward\u001b[0;34m(self, gradient, retain_graph, create_graph, inputs)\u001b[0m\n\u001b[1;32m    616\u001b[0m \u001b[38;5;28;01mif\u001b[39;00m has_torch_function_unary(\u001b[38;5;28mself\u001b[39m):\n\u001b[1;32m    617\u001b[0m     \u001b[38;5;28;01mreturn\u001b[39;00m handle_torch_function(\n\u001b[1;32m    618\u001b[0m         Tensor\u001b[38;5;241m.\u001b[39mbackward,\n\u001b[1;32m    619\u001b[0m         (\u001b[38;5;28mself\u001b[39m,),\n\u001b[0;32m   (...)\u001b[0m\n\u001b[1;32m    624\u001b[0m         inputs\u001b[38;5;241m=\u001b[39minputs,\n\u001b[1;32m    625\u001b[0m     )\n\u001b[0;32m--> 626\u001b[0m \u001b[43mtorch\u001b[49m\u001b[38;5;241;43m.\u001b[39;49m\u001b[43mautograd\u001b[49m\u001b[38;5;241;43m.\u001b[39;49m\u001b[43mbackward\u001b[49m\u001b[43m(\u001b[49m\n\u001b[1;32m    627\u001b[0m \u001b[43m    \u001b[49m\u001b[38;5;28;43mself\u001b[39;49m\u001b[43m,\u001b[49m\u001b[43m \u001b[49m\u001b[43mgradient\u001b[49m\u001b[43m,\u001b[49m\u001b[43m \u001b[49m\u001b[43mretain_graph\u001b[49m\u001b[43m,\u001b[49m\u001b[43m \u001b[49m\u001b[43mcreate_graph\u001b[49m\u001b[43m,\u001b[49m\u001b[43m \u001b[49m\u001b[43minputs\u001b[49m\u001b[38;5;241;43m=\u001b[39;49m\u001b[43minputs\u001b[49m\n\u001b[1;32m    628\u001b[0m \u001b[43m\u001b[49m\u001b[43m)\u001b[49m\n",
      "File \u001b[0;32m~/miniconda3/envs/embedders/lib/python3.9/site-packages/torch/autograd/__init__.py:347\u001b[0m, in \u001b[0;36mbackward\u001b[0;34m(tensors, grad_tensors, retain_graph, create_graph, grad_variables, inputs)\u001b[0m\n\u001b[1;32m    342\u001b[0m     retain_graph \u001b[38;5;241m=\u001b[39m create_graph\n\u001b[1;32m    344\u001b[0m \u001b[38;5;66;03m# The reason we repeat the same comment below is that\u001b[39;00m\n\u001b[1;32m    345\u001b[0m \u001b[38;5;66;03m# some Python versions print out the first line of a multi-line function\u001b[39;00m\n\u001b[1;32m    346\u001b[0m \u001b[38;5;66;03m# calls in the traceback and some print out the last line\u001b[39;00m\n\u001b[0;32m--> 347\u001b[0m \u001b[43m_engine_run_backward\u001b[49m\u001b[43m(\u001b[49m\n\u001b[1;32m    348\u001b[0m \u001b[43m    \u001b[49m\u001b[43mtensors\u001b[49m\u001b[43m,\u001b[49m\n\u001b[1;32m    349\u001b[0m \u001b[43m    \u001b[49m\u001b[43mgrad_tensors_\u001b[49m\u001b[43m,\u001b[49m\n\u001b[1;32m    350\u001b[0m \u001b[43m    \u001b[49m\u001b[43mretain_graph\u001b[49m\u001b[43m,\u001b[49m\n\u001b[1;32m    351\u001b[0m \u001b[43m    \u001b[49m\u001b[43mcreate_graph\u001b[49m\u001b[43m,\u001b[49m\n\u001b[1;32m    352\u001b[0m \u001b[43m    \u001b[49m\u001b[43minputs\u001b[49m\u001b[43m,\u001b[49m\n\u001b[1;32m    353\u001b[0m \u001b[43m    \u001b[49m\u001b[43mallow_unreachable\u001b[49m\u001b[38;5;241;43m=\u001b[39;49m\u001b[38;5;28;43;01mTrue\u001b[39;49;00m\u001b[43m,\u001b[49m\n\u001b[1;32m    354\u001b[0m \u001b[43m    \u001b[49m\u001b[43maccumulate_grad\u001b[49m\u001b[38;5;241;43m=\u001b[39;49m\u001b[38;5;28;43;01mTrue\u001b[39;49;00m\u001b[43m,\u001b[49m\n\u001b[1;32m    355\u001b[0m \u001b[43m\u001b[49m\u001b[43m)\u001b[49m\n",
      "File \u001b[0;32m~/miniconda3/envs/embedders/lib/python3.9/site-packages/torch/autograd/graph.py:823\u001b[0m, in \u001b[0;36m_engine_run_backward\u001b[0;34m(t_outputs, *args, **kwargs)\u001b[0m\n\u001b[1;32m    821\u001b[0m     unregister_hooks \u001b[38;5;241m=\u001b[39m _register_logging_hooks_on_whole_graph(t_outputs)\n\u001b[1;32m    822\u001b[0m \u001b[38;5;28;01mtry\u001b[39;00m:\n\u001b[0;32m--> 823\u001b[0m     \u001b[38;5;28;01mreturn\u001b[39;00m \u001b[43mVariable\u001b[49m\u001b[38;5;241;43m.\u001b[39;49m\u001b[43m_execution_engine\u001b[49m\u001b[38;5;241;43m.\u001b[39;49m\u001b[43mrun_backward\u001b[49m\u001b[43m(\u001b[49m\u001b[43m  \u001b[49m\u001b[38;5;66;43;03m# Calls into the C++ engine to run the backward pass\u001b[39;49;00m\n\u001b[1;32m    824\u001b[0m \u001b[43m        \u001b[49m\u001b[43mt_outputs\u001b[49m\u001b[43m,\u001b[49m\u001b[43m \u001b[49m\u001b[38;5;241;43m*\u001b[39;49m\u001b[43margs\u001b[49m\u001b[43m,\u001b[49m\u001b[43m \u001b[49m\u001b[38;5;241;43m*\u001b[39;49m\u001b[38;5;241;43m*\u001b[39;49m\u001b[43mkwargs\u001b[49m\n\u001b[1;32m    825\u001b[0m \u001b[43m    \u001b[49m\u001b[43m)\u001b[49m  \u001b[38;5;66;03m# Calls into the C++ engine to run the backward pass\u001b[39;00m\n\u001b[1;32m    826\u001b[0m \u001b[38;5;28;01mfinally\u001b[39;00m:\n\u001b[1;32m    827\u001b[0m     \u001b[38;5;28;01mif\u001b[39;00m attach_logging_hooks:\n",
      "\u001b[0;31mKeyboardInterrupt\u001b[0m: "
     ]
    }
   ],
   "source": [
    "# Get some embeddings to work with\n",
    "\n",
    "# Get graph\n",
    "D, _, adj = manify.utils.dataloaders.load(\"karate_club\")\n",
    "D, adj = D.to(DEVICE), adj.to(DEVICE)\n",
    "pm = manify.manifolds.ProductManifold(signature=[(-1, 2), (0, 2), (1, 2)], device=DEVICE)\n",
    "\n",
    "# Get embeddings\n",
    "X, _ = manify.embedders.coordinate_learning.train_coords(\n",
    "    pm=pm, dists=D, device=DEVICE, burn_in_iterations=400, training_iterations=1600\n",
    ")\n",
    "\n",
    "# Get stereographic version\n",
    "pm_stereo, X_stereo = pm.stereographic(X)"
   ]
  },
  {
   "cell_type": "code",
   "execution_count": 8,
   "metadata": {},
   "outputs": [
    {
     "ename": "NameError",
     "evalue": "name 'X' is not defined",
     "output_type": "error",
     "traceback": [
      "\u001b[0;31m---------------------------------------------------------------------------\u001b[0m",
      "\u001b[0;31mNameError\u001b[0m                                 Traceback (most recent call last)",
      "Cell \u001b[0;32mIn[8], line 2\u001b[0m\n\u001b[1;32m      1\u001b[0m \u001b[38;5;66;03m# Get an adjacency matrix that's not leaky\u001b[39;00m\n\u001b[0;32m----> 2\u001b[0m dists \u001b[38;5;241m=\u001b[39m pm\u001b[38;5;241m.\u001b[39mpdist2(\u001b[43mX\u001b[49m)\n\u001b[1;32m      3\u001b[0m max_dist \u001b[38;5;241m=\u001b[39m dists[dists\u001b[38;5;241m.\u001b[39misfinite()]\u001b[38;5;241m.\u001b[39mmax()\n\u001b[1;32m      4\u001b[0m dists \u001b[38;5;241m/\u001b[39m\u001b[38;5;241m=\u001b[39m max_dist\n",
      "\u001b[0;31mNameError\u001b[0m: name 'X' is not defined"
     ]
    }
   ],
   "source": [
    "# Get an adjacency matrix that's not leaky\n",
    "dists = pm.pdist2(X)\n",
    "max_dist = dists[dists.isfinite()].max()\n",
    "dists /= max_dist\n",
    "A = torch.exp(-dists)\n",
    "A_hat = embedders.predictors.kappa_gcn.get_A_hat(A).float().to(DEVICE)"
   ]
  },
  {
   "cell_type": "code",
   "execution_count": 5,
   "metadata": {},
   "outputs": [
    {
     "data": {
      "application/vnd.jupyter.widget-view+json": {
       "model_id": "923403dd631542d6b678c266ab2ed484",
       "version_major": 2,
       "version_minor": 0
      },
      "text/plain": [
       "  0%|          | 0/100 [00:00<?, ?it/s]"
      ]
     },
     "metadata": {},
     "output_type": "display_data"
    },
    {
     "data": {
      "text/plain": [
       "tensor(0.8405, device='cuda:1')"
      ]
     },
     "execution_count": 5,
     "metadata": {},
     "output_type": "execute_result"
    }
   ],
   "source": [
    "from sklearn.model_selection import train_test_split\n",
    "\n",
    "# Train a KappaGCN on everything\n",
    "kgcn = embedders.predictors.kappa_gcn.KappaGCN(\n",
    "    pm=pm_stereo, output_dim=1, hidden_dims=[pm.dim, pm.dim], task=\"link_prediction\"\n",
    ").to(DEVICE)\n",
    "\n",
    "# Split on indices, since this is a weird graph thing\n",
    "y = adj.float().flatten()\n",
    "train_idx, test_idx = train_test_split(list(range(len(y))), test_size=0.2)\n",
    "\n",
    "# Fit on train indices using all X, but only some of the y - this masks out certain edges from the loss\n",
    "kgcn.fit(X, y=y[train_idx], A=A_hat, lr=1e-2, lp_indices=train_idx, use_tqdm=True, epochs=100)\n",
    "\n",
    "# Predict on test indices\n",
    "y_pred = kgcn.predict(X, A_hat)[test_idx]\n",
    "\n",
    "(y_pred == y[test_idx]).float().mean()"
   ]
  },
  {
   "cell_type": "code",
   "execution_count": 14,
   "metadata": {},
   "outputs": [],
   "source": [
    "# Copied from notebook 22\n",
    "\n",
    "\n",
    "def make_link_prediction_dataset(X_embed, pm, adj, add_dists=True):\n",
    "    # Stack embeddings\n",
    "    emb = []\n",
    "    for i in range(len(X_embed)):\n",
    "        for j in range(len(X_embed)):\n",
    "            joint_embed = torch.cat([X_embed[i], X_embed[j]])\n",
    "            emb.append(joint_embed)\n",
    "\n",
    "    X = torch.stack(emb)\n",
    "\n",
    "    # Add distances\n",
    "    if add_dists:\n",
    "        dists = pm.pdist(X_embed)\n",
    "        X = torch.cat([X, dists.flatten().unsqueeze(1)], dim=1)\n",
    "\n",
    "    # y = torch.tensor(adj.flatten())\n",
    "    if not torch.is_tensor(adj):\n",
    "        adj = torch.tensor(adj)\n",
    "    y = adj.flatten()\n",
    "\n",
    "    # Make a new signature\n",
    "    new_sig = pm.signature + pm.signature\n",
    "    if add_dists:\n",
    "        new_sig.append((0, 1))\n",
    "    new_pm = manify.manifolds.ProductManifold(signature=new_sig)\n",
    "\n",
    "    return X, y, new_pm"
   ]
  },
  {
   "cell_type": "code",
   "execution_count": 27,
   "metadata": {},
   "outputs": [
    {
     "data": {
      "application/vnd.jupyter.widget-view+json": {
       "model_id": "033479b7dac0473aa9bc725d77fbd980",
       "version_major": 2,
       "version_minor": 0
      },
      "text/plain": [
       "  0%|          | 0/60 [00:00<?, ?it/s]"
      ]
     },
     "metadata": {},
     "output_type": "display_data"
    },
    {
     "name": "stdout",
     "output_type": "stream",
     "text": [
      "Top CC has 62 nodes; original graph has 62 nodes.\n"
     ]
    },
    {
     "data": {
      "application/vnd.jupyter.widget-view+json": {
       "model_id": "b68ab8f9442f4656bae1df13ad54430b",
       "version_major": 2,
       "version_minor": 0
      },
      "text/plain": [
       "  0%|          | 0/1000 [00:00<?, ?it/s]"
      ]
     },
     "metadata": {},
     "output_type": "display_data"
    },
    {
     "data": {
      "application/vnd.jupyter.widget-view+json": {
       "model_id": "7d0a3d1cfac44c089bc2fc7844c82983",
       "version_major": 2,
       "version_minor": 0
      },
      "text/plain": [
       "  0%|          | 0/4000 [00:00<?, ?it/s]"
      ]
     },
     "metadata": {},
     "output_type": "display_data"
    },
    {
     "data": {
      "application/vnd.jupyter.widget-view+json": {
       "model_id": "ec6bffad444a4752a6381610bf11e8e5",
       "version_major": 2,
       "version_minor": 0
      },
      "text/plain": [
       "  0%|          | 0/4000 [00:00<?, ?it/s]"
      ]
     },
     "metadata": {},
     "output_type": "display_data"
    },
    {
     "data": {
      "application/vnd.jupyter.widget-view+json": {
       "model_id": "228d79be785e408ea35b8939188f2ca9",
       "version_major": 2,
       "version_minor": 0
      },
      "text/plain": [
       "  0%|          | 0/4000 [00:00<?, ?it/s]"
      ]
     },
     "metadata": {},
     "output_type": "display_data"
    },
    {
     "data": {
      "application/vnd.jupyter.widget-view+json": {
       "model_id": "582b589fb9b044e18a31d34714fd07ff",
       "version_major": 2,
       "version_minor": 0
      },
      "text/plain": [
       "  0%|          | 0/4000 [00:00<?, ?it/s]"
      ]
     },
     "metadata": {},
     "output_type": "display_data"
    },
    {
     "data": {
      "application/vnd.jupyter.widget-view+json": {
       "model_id": "2c62751549bb4e069eebeb8a87710f6b",
       "version_major": 2,
       "version_minor": 0
      },
      "text/plain": [
       "  0%|          | 0/4000 [00:00<?, ?it/s]"
      ]
     },
     "metadata": {},
     "output_type": "display_data"
    },
    {
     "data": {
      "application/vnd.jupyter.widget-view+json": {
       "model_id": "f44e8a53b7b24a8f9b4d65dba5e7e9fd",
       "version_major": 2,
       "version_minor": 0
      },
      "text/plain": [
       "  0%|          | 0/4000 [00:00<?, ?it/s]"
      ]
     },
     "metadata": {},
     "output_type": "display_data"
    },
    {
     "data": {
      "application/vnd.jupyter.widget-view+json": {
       "model_id": "3e0d404676494a1e9e9231f5db9242c3",
       "version_major": 2,
       "version_minor": 0
      },
      "text/plain": [
       "  0%|          | 0/4000 [00:00<?, ?it/s]"
      ]
     },
     "metadata": {},
     "output_type": "display_data"
    },
    {
     "data": {
      "application/vnd.jupyter.widget-view+json": {
       "model_id": "03d204724ca34ca7b8b2d4dd00befb02",
       "version_major": 2,
       "version_minor": 0
      },
      "text/plain": [
       "  0%|          | 0/4000 [00:00<?, ?it/s]"
      ]
     },
     "metadata": {},
     "output_type": "display_data"
    },
    {
     "data": {
      "application/vnd.jupyter.widget-view+json": {
       "model_id": "29c4ac64b9e743c1bd050001a5acfdb8",
       "version_major": 2,
       "version_minor": 0
      },
      "text/plain": [
       "  0%|          | 0/1000 [00:00<?, ?it/s]"
      ]
     },
     "metadata": {},
     "output_type": "display_data"
    },
    {
     "ename": "KeyboardInterrupt",
     "evalue": "",
     "output_type": "error",
     "traceback": [
      "\u001b[0;31m---------------------------------------------------------------------------\u001b[0m",
      "\u001b[0;31mKeyboardInterrupt\u001b[0m                         Traceback (most recent call last)",
      "Cell \u001b[0;32mIn[27], line 65\u001b[0m\n\u001b[1;32m     63\u001b[0m idx_train \u001b[38;5;241m=\u001b[39m idx_train[:\u001b[38;5;241m1000\u001b[39m]\n\u001b[1;32m     64\u001b[0m idx_test \u001b[38;5;241m=\u001b[39m idx_test[:\u001b[38;5;241m1000\u001b[39m]\n\u001b[0;32m---> 65\u001b[0m res \u001b[38;5;241m=\u001b[39m \u001b[43mmanify\u001b[49m\u001b[38;5;241;43m.\u001b[39;49m\u001b[43mutils\u001b[49m\u001b[38;5;241;43m.\u001b[39;49m\u001b[43mbenchmarks\u001b[49m\u001b[38;5;241;43m.\u001b[39;49m\u001b[43mbenchmark\u001b[49m\u001b[43m(\u001b[49m\n\u001b[1;32m     66\u001b[0m \u001b[43m    \u001b[49m\u001b[38;5;66;43;03m# XX,\u001b[39;49;00m\n\u001b[1;32m     67\u001b[0m \u001b[43m    \u001b[49m\u001b[38;5;66;43;03m# yy,\u001b[39;49;00m\n\u001b[1;32m     68\u001b[0m \u001b[43m    \u001b[49m\u001b[38;5;28;43;01mNone\u001b[39;49;00m\u001b[43m,\u001b[49m\n\u001b[1;32m     69\u001b[0m \u001b[43m    \u001b[49m\u001b[38;5;28;43;01mNone\u001b[39;49;00m\u001b[43m,\u001b[49m\n\u001b[1;32m     70\u001b[0m \u001b[43m    \u001b[49m\u001b[43mX_train\u001b[49m\u001b[43m \u001b[49m\u001b[38;5;241;43m=\u001b[39;49m\u001b[43m \u001b[49m\u001b[43mX_train\u001b[49m\u001b[43m,\u001b[49m\n\u001b[1;32m     71\u001b[0m \u001b[43m    \u001b[49m\u001b[43mX_test\u001b[49m\u001b[43m \u001b[49m\u001b[38;5;241;43m=\u001b[39;49m\u001b[43m \u001b[49m\u001b[43mX_test\u001b[49m\u001b[43m,\u001b[49m\n\u001b[1;32m     72\u001b[0m \u001b[43m    \u001b[49m\u001b[43my_train\u001b[49m\u001b[43m \u001b[49m\u001b[38;5;241;43m=\u001b[39;49m\u001b[43m \u001b[49m\u001b[43my_train\u001b[49m\u001b[43m,\u001b[49m\n\u001b[1;32m     73\u001b[0m \u001b[43m    \u001b[49m\u001b[43my_test\u001b[49m\u001b[43m \u001b[49m\u001b[38;5;241;43m=\u001b[39;49m\u001b[43m \u001b[49m\u001b[43my_test\u001b[49m\u001b[43m,\u001b[49m\n\u001b[1;32m     74\u001b[0m \u001b[43m    \u001b[49m\u001b[43mpm\u001b[49m\u001b[43m \u001b[49m\u001b[38;5;241;43m=\u001b[39;49m\u001b[43m \u001b[49m\u001b[43mpm_new\u001b[49m\u001b[43m,\u001b[49m\n\u001b[1;32m     75\u001b[0m \u001b[43m    \u001b[49m\u001b[43mtask\u001b[49m\u001b[38;5;241;43m=\u001b[39;49m\u001b[38;5;124;43m\"\u001b[39;49m\u001b[38;5;124;43mclassification\u001b[39;49m\u001b[38;5;124;43m\"\u001b[39;49m\u001b[43m,\u001b[49m\n\u001b[1;32m     76\u001b[0m \u001b[43m    \u001b[49m\u001b[43mscore\u001b[49m\u001b[38;5;241;43m=\u001b[39;49m\u001b[43m[\u001b[49m\u001b[38;5;124;43m\"\u001b[39;49m\u001b[38;5;124;43maccuracy\u001b[39;49m\u001b[38;5;124;43m\"\u001b[39;49m\u001b[43m,\u001b[49m\u001b[43m \u001b[49m\u001b[38;5;124;43m\"\u001b[39;49m\u001b[38;5;124;43mf1-micro\u001b[39;49m\u001b[38;5;124;43m\"\u001b[39;49m\u001b[43m]\u001b[49m\u001b[43m,\u001b[49m\n\u001b[1;32m     77\u001b[0m \u001b[43m    \u001b[49m\u001b[43mdevice\u001b[49m\u001b[38;5;241;43m=\u001b[39;49m\u001b[43mDEVICE\u001b[49m\u001b[43m,\u001b[49m\n\u001b[1;32m     78\u001b[0m \u001b[43m    \u001b[49m\u001b[43mmodels\u001b[49m\u001b[38;5;241;43m=\u001b[39;49m\u001b[43mMODELS\u001b[49m\u001b[43m,\u001b[49m\n\u001b[1;32m     79\u001b[0m \u001b[43m    \u001b[49m\u001b[43mseed\u001b[49m\u001b[38;5;241;43m=\u001b[39;49m\u001b[43mseed\u001b[49m\u001b[43m,\u001b[49m\n\u001b[1;32m     80\u001b[0m \u001b[43m\u001b[49m\u001b[43m)\u001b[49m\n\u001b[1;32m     82\u001b[0m \u001b[38;5;66;03m# Other manifolds we'll need\u001b[39;00m\n\u001b[1;32m     83\u001b[0m pm_stereo, X_stereo \u001b[38;5;241m=\u001b[39m pm\u001b[38;5;241m.\u001b[39mstereographic(X)\n",
      "File \u001b[0;32m~/manify/manify/utils/benchmarks.py:303\u001b[0m, in \u001b[0;36mbenchmark\u001b[0;34m(X, y, pm, device, score, models, max_depth, n_estimators, min_samples_split, min_samples_leaf, task, seed, use_special_dims, n_features, X_train, X_test, y_train, y_test, batch_size, adj, A_train, A_test, hidden_dims, epochs, lr, kappa_gcn_layers, lp_train_idx, lp_test_idx)\u001b[0m\n\u001b[1;32m    301\u001b[0m     psrf\u001b[38;5;241m.\u001b[39mfit(X_train, y_train)\n\u001b[1;32m    302\u001b[0m     t2 \u001b[38;5;241m=\u001b[39m time\u001b[38;5;241m.\u001b[39mtime()\n\u001b[0;32m--> 303\u001b[0m     accs[\u001b[38;5;124m\"\u001b[39m\u001b[38;5;124mproduct_rf\u001b[39m\u001b[38;5;124m\"\u001b[39m] \u001b[38;5;241m=\u001b[39m \u001b[43m_score\u001b[49m\u001b[43m(\u001b[49m\u001b[43mX_test\u001b[49m\u001b[43m,\u001b[49m\u001b[43m \u001b[49m\u001b[43my_test_np\u001b[49m\u001b[43m,\u001b[49m\u001b[43m \u001b[49m\u001b[43mpsrf\u001b[49m\u001b[43m,\u001b[49m\u001b[43m \u001b[49m\u001b[43mtorch\u001b[49m\u001b[38;5;241;43m=\u001b[39;49m\u001b[38;5;28;43;01mTrue\u001b[39;49;00m\u001b[43m,\u001b[49m\u001b[43m \u001b[49m\u001b[43mscore\u001b[49m\u001b[38;5;241;43m=\u001b[39;49m\u001b[43mscore\u001b[49m\u001b[43m)\u001b[49m\n\u001b[1;32m    304\u001b[0m     accs[\u001b[38;5;124m\"\u001b[39m\u001b[38;5;124mproduct_rf\u001b[39m\u001b[38;5;124m\"\u001b[39m][\u001b[38;5;124m\"\u001b[39m\u001b[38;5;124mtime\u001b[39m\u001b[38;5;124m\"\u001b[39m] \u001b[38;5;241m=\u001b[39m t2 \u001b[38;5;241m-\u001b[39m t1\n\u001b[1;32m    306\u001b[0m \u001b[38;5;28;01mif\u001b[39;00m \u001b[38;5;124m\"\u001b[39m\u001b[38;5;124msingle_manifold_rf\u001b[39m\u001b[38;5;124m\"\u001b[39m \u001b[38;5;129;01min\u001b[39;00m models:\n",
      "File \u001b[0;32m~/manify/manify/utils/benchmarks.py:40\u001b[0m, in \u001b[0;36m_score\u001b[0;34m(_X, _y, model, y_pred_override, torch, score)\u001b[0m\n\u001b[1;32m     38\u001b[0m     y_pred \u001b[38;5;241m=\u001b[39m y_pred_override\n\u001b[1;32m     39\u001b[0m \u001b[38;5;28;01melse\u001b[39;00m:\n\u001b[0;32m---> 40\u001b[0m     y_pred \u001b[38;5;241m=\u001b[39m \u001b[43mmodel\u001b[49m\u001b[38;5;241;43m.\u001b[39;49m\u001b[43mpredict\u001b[49m\u001b[43m(\u001b[49m\u001b[43m_X\u001b[49m\u001b[43m)\u001b[49m\n\u001b[1;32m     42\u001b[0m \u001b[38;5;66;03m# Convert to numpy\u001b[39;00m\n\u001b[1;32m     43\u001b[0m \u001b[38;5;28;01mif\u001b[39;00m torch:\n",
      "File \u001b[0;32m~/manify/manify/predictors/tree_icml.py:762\u001b[0m, in \u001b[0;36mProductSpaceRF.predict\u001b[0;34m(self, X)\u001b[0m\n\u001b[1;32m    760\u001b[0m \u001b[38;5;66;03m# return self.classes_[self.predict_proba(X).argmax(dim=1)]\u001b[39;00m\n\u001b[1;32m    761\u001b[0m \u001b[38;5;28;01mif\u001b[39;00m \u001b[38;5;28mself\u001b[39m\u001b[38;5;241m.\u001b[39mtask \u001b[38;5;241m==\u001b[39m \u001b[38;5;124m\"\u001b[39m\u001b[38;5;124mclassification\u001b[39m\u001b[38;5;124m\"\u001b[39m:\n\u001b[0;32m--> 762\u001b[0m     \u001b[38;5;28;01mreturn\u001b[39;00m \u001b[38;5;28mself\u001b[39m\u001b[38;5;241m.\u001b[39mclasses_[\u001b[38;5;28;43mself\u001b[39;49m\u001b[38;5;241;43m.\u001b[39;49m\u001b[43mpredict_proba\u001b[49m\u001b[43m(\u001b[49m\u001b[43mX\u001b[49m\u001b[43m)\u001b[49m\u001b[38;5;241m.\u001b[39margmax(dim\u001b[38;5;241m=\u001b[39m\u001b[38;5;241m1\u001b[39m)]\n\u001b[1;32m    763\u001b[0m \u001b[38;5;28;01melse\u001b[39;00m:\n\u001b[1;32m    764\u001b[0m     \u001b[38;5;28;01mreturn\u001b[39;00m \u001b[38;5;28mself\u001b[39m\u001b[38;5;241m.\u001b[39mpredict_proba(X)\u001b[38;5;241m.\u001b[39mflatten()\n",
      "File \u001b[0;32m~/miniconda3/envs/embedders/lib/python3.9/site-packages/torch/utils/_contextlib.py:116\u001b[0m, in \u001b[0;36mcontext_decorator.<locals>.decorate_context\u001b[0;34m(*args, **kwargs)\u001b[0m\n\u001b[1;32m    113\u001b[0m \u001b[38;5;129m@functools\u001b[39m\u001b[38;5;241m.\u001b[39mwraps(func)\n\u001b[1;32m    114\u001b[0m \u001b[38;5;28;01mdef\u001b[39;00m \u001b[38;5;21mdecorate_context\u001b[39m(\u001b[38;5;241m*\u001b[39margs, \u001b[38;5;241m*\u001b[39m\u001b[38;5;241m*\u001b[39mkwargs):\n\u001b[1;32m    115\u001b[0m     \u001b[38;5;28;01mwith\u001b[39;00m ctx_factory():\n\u001b[0;32m--> 116\u001b[0m         \u001b[38;5;28;01mreturn\u001b[39;00m \u001b[43mfunc\u001b[49m\u001b[43m(\u001b[49m\u001b[38;5;241;43m*\u001b[39;49m\u001b[43margs\u001b[49m\u001b[43m,\u001b[49m\u001b[43m \u001b[49m\u001b[38;5;241;43m*\u001b[39;49m\u001b[38;5;241;43m*\u001b[39;49m\u001b[43mkwargs\u001b[49m\u001b[43m)\u001b[49m\n",
      "File \u001b[0;32m~/manify/manify/predictors/tree_icml.py:756\u001b[0m, in \u001b[0;36mProductSpaceRF.predict_proba\u001b[0;34m(self, X)\u001b[0m\n\u001b[1;32m    753\u001b[0m \u001b[38;5;129m@torch\u001b[39m\u001b[38;5;241m.\u001b[39mno_grad()\n\u001b[1;32m    754\u001b[0m \u001b[38;5;28;01mdef\u001b[39;00m \u001b[38;5;21mpredict_proba\u001b[39m(\u001b[38;5;28mself\u001b[39m, X: TT[\u001b[38;5;124m\"\u001b[39m\u001b[38;5;124mbatch intrinsic_dim\u001b[39m\u001b[38;5;124m\"\u001b[39m]) \u001b[38;5;241m-\u001b[39m\u001b[38;5;241m>\u001b[39m TT[\u001b[38;5;124m\"\u001b[39m\u001b[38;5;124mbatch n_classes\u001b[39m\u001b[38;5;124m\"\u001b[39m]:\n\u001b[1;32m    755\u001b[0m \u001b[38;5;250m    \u001b[39m\u001b[38;5;124;03m\"\"\"Predict class probabilities for samples in X\"\"\"\u001b[39;00m\n\u001b[0;32m--> 756\u001b[0m     \u001b[38;5;28;01mreturn\u001b[39;00m torch\u001b[38;5;241m.\u001b[39mstack([tree\u001b[38;5;241m.\u001b[39mpredict_proba(X) \u001b[38;5;28;01mfor\u001b[39;00m tree \u001b[38;5;129;01min\u001b[39;00m \u001b[38;5;28mself\u001b[39m\u001b[38;5;241m.\u001b[39mtrees])\u001b[38;5;241m.\u001b[39mmean(dim\u001b[38;5;241m=\u001b[39m\u001b[38;5;241m0\u001b[39m)\n",
      "File \u001b[0;32m~/manify/manify/predictors/tree_icml.py:756\u001b[0m, in \u001b[0;36m<listcomp>\u001b[0;34m(.0)\u001b[0m\n\u001b[1;32m    753\u001b[0m \u001b[38;5;129m@torch\u001b[39m\u001b[38;5;241m.\u001b[39mno_grad()\n\u001b[1;32m    754\u001b[0m \u001b[38;5;28;01mdef\u001b[39;00m \u001b[38;5;21mpredict_proba\u001b[39m(\u001b[38;5;28mself\u001b[39m, X: TT[\u001b[38;5;124m\"\u001b[39m\u001b[38;5;124mbatch intrinsic_dim\u001b[39m\u001b[38;5;124m\"\u001b[39m]) \u001b[38;5;241m-\u001b[39m\u001b[38;5;241m>\u001b[39m TT[\u001b[38;5;124m\"\u001b[39m\u001b[38;5;124mbatch n_classes\u001b[39m\u001b[38;5;124m\"\u001b[39m]:\n\u001b[1;32m    755\u001b[0m \u001b[38;5;250m    \u001b[39m\u001b[38;5;124;03m\"\"\"Predict class probabilities for samples in X\"\"\"\u001b[39;00m\n\u001b[0;32m--> 756\u001b[0m     \u001b[38;5;28;01mreturn\u001b[39;00m torch\u001b[38;5;241m.\u001b[39mstack([\u001b[43mtree\u001b[49m\u001b[38;5;241;43m.\u001b[39;49m\u001b[43mpredict_proba\u001b[49m\u001b[43m(\u001b[49m\u001b[43mX\u001b[49m\u001b[43m)\u001b[49m \u001b[38;5;28;01mfor\u001b[39;00m tree \u001b[38;5;129;01min\u001b[39;00m \u001b[38;5;28mself\u001b[39m\u001b[38;5;241m.\u001b[39mtrees])\u001b[38;5;241m.\u001b[39mmean(dim\u001b[38;5;241m=\u001b[39m\u001b[38;5;241m0\u001b[39m)\n",
      "File \u001b[0;32m~/miniconda3/envs/embedders/lib/python3.9/site-packages/torch/utils/_contextlib.py:116\u001b[0m, in \u001b[0;36mcontext_decorator.<locals>.decorate_context\u001b[0;34m(*args, **kwargs)\u001b[0m\n\u001b[1;32m    113\u001b[0m \u001b[38;5;129m@functools\u001b[39m\u001b[38;5;241m.\u001b[39mwraps(func)\n\u001b[1;32m    114\u001b[0m \u001b[38;5;28;01mdef\u001b[39;00m \u001b[38;5;21mdecorate_context\u001b[39m(\u001b[38;5;241m*\u001b[39margs, \u001b[38;5;241m*\u001b[39m\u001b[38;5;241m*\u001b[39mkwargs):\n\u001b[1;32m    115\u001b[0m     \u001b[38;5;28;01mwith\u001b[39;00m ctx_factory():\n\u001b[0;32m--> 116\u001b[0m         \u001b[38;5;28;01mreturn\u001b[39;00m \u001b[43mfunc\u001b[49m\u001b[43m(\u001b[49m\u001b[38;5;241;43m*\u001b[39;49m\u001b[43margs\u001b[49m\u001b[43m,\u001b[49m\u001b[43m \u001b[49m\u001b[38;5;241;43m*\u001b[39;49m\u001b[38;5;241;43m*\u001b[39;49m\u001b[43mkwargs\u001b[49m\u001b[43m)\u001b[49m\n",
      "File \u001b[0;32m~/manify/manify/predictors/tree_icml.py:622\u001b[0m, in \u001b[0;36mProductSpaceDT.predict_proba\u001b[0;34m(self, X)\u001b[0m\n\u001b[1;32m    620\u001b[0m \u001b[38;5;28;01mif\u001b[39;00m \u001b[38;5;28mself\u001b[39m\u001b[38;5;241m.\u001b[39mpermutations \u001b[38;5;129;01mis\u001b[39;00m \u001b[38;5;129;01mnot\u001b[39;00m \u001b[38;5;28;01mNone\u001b[39;00m:\n\u001b[1;32m    621\u001b[0m     angles \u001b[38;5;241m=\u001b[39m angles[:, \u001b[38;5;28mself\u001b[39m\u001b[38;5;241m.\u001b[39mpermutations]\n\u001b[0;32m--> 622\u001b[0m \u001b[38;5;28;01mreturn\u001b[39;00m torch\u001b[38;5;241m.\u001b[39mvstack([\u001b[38;5;28mself\u001b[39m\u001b[38;5;241m.\u001b[39m_traverse(angles_row, \u001b[38;5;28mself\u001b[39m\u001b[38;5;241m.\u001b[39mtree)\u001b[38;5;241m.\u001b[39mprobs \u001b[38;5;28;01mfor\u001b[39;00m angles_row \u001b[38;5;129;01min\u001b[39;00m angles])\n",
      "File \u001b[0;32m~/manify/manify/predictors/tree_icml.py:622\u001b[0m, in \u001b[0;36m<listcomp>\u001b[0;34m(.0)\u001b[0m\n\u001b[1;32m    620\u001b[0m \u001b[38;5;28;01mif\u001b[39;00m \u001b[38;5;28mself\u001b[39m\u001b[38;5;241m.\u001b[39mpermutations \u001b[38;5;129;01mis\u001b[39;00m \u001b[38;5;129;01mnot\u001b[39;00m \u001b[38;5;28;01mNone\u001b[39;00m:\n\u001b[1;32m    621\u001b[0m     angles \u001b[38;5;241m=\u001b[39m angles[:, \u001b[38;5;28mself\u001b[39m\u001b[38;5;241m.\u001b[39mpermutations]\n\u001b[0;32m--> 622\u001b[0m \u001b[38;5;28;01mreturn\u001b[39;00m torch\u001b[38;5;241m.\u001b[39mvstack([\u001b[38;5;28;43mself\u001b[39;49m\u001b[38;5;241;43m.\u001b[39;49m\u001b[43m_traverse\u001b[49m\u001b[43m(\u001b[49m\u001b[43mangles_row\u001b[49m\u001b[43m,\u001b[49m\u001b[43m \u001b[49m\u001b[38;5;28;43mself\u001b[39;49m\u001b[38;5;241;43m.\u001b[39;49m\u001b[43mtree\u001b[49m\u001b[43m)\u001b[49m\u001b[38;5;241m.\u001b[39mprobs \u001b[38;5;28;01mfor\u001b[39;00m angles_row \u001b[38;5;129;01min\u001b[39;00m angles])\n",
      "File \u001b[0;32m~/manify/manify/predictors/tree_icml.py:612\u001b[0m, in \u001b[0;36mProductSpaceDT._traverse\u001b[0;34m(self, x, node)\u001b[0m\n\u001b[1;32m    609\u001b[0m \u001b[38;5;28;01mif\u001b[39;00m node\u001b[38;5;241m.\u001b[39mvalue \u001b[38;5;129;01mis\u001b[39;00m \u001b[38;5;129;01mnot\u001b[39;00m \u001b[38;5;28;01mNone\u001b[39;00m:\n\u001b[1;32m    610\u001b[0m     \u001b[38;5;28;01mreturn\u001b[39;00m node\n\u001b[0;32m--> 612\u001b[0m \u001b[38;5;28;01mreturn\u001b[39;00m \u001b[38;5;28mself\u001b[39m\u001b[38;5;241m.\u001b[39m_traverse(x, node\u001b[38;5;241m.\u001b[39mleft) \u001b[38;5;28;01mif\u001b[39;00m \u001b[38;5;28mself\u001b[39m\u001b[38;5;241m.\u001b[39m_left(x, node) \u001b[38;5;28;01melse\u001b[39;00m \u001b[38;5;28;43mself\u001b[39;49m\u001b[38;5;241;43m.\u001b[39;49m\u001b[43m_traverse\u001b[49m\u001b[43m(\u001b[49m\u001b[43mx\u001b[49m\u001b[43m,\u001b[49m\u001b[43m \u001b[49m\u001b[43mnode\u001b[49m\u001b[38;5;241;43m.\u001b[39;49m\u001b[43mright\u001b[49m\u001b[43m)\u001b[49m\n",
      "File \u001b[0;32m~/manify/manify/predictors/tree_icml.py:612\u001b[0m, in \u001b[0;36mProductSpaceDT._traverse\u001b[0;34m(self, x, node)\u001b[0m\n\u001b[1;32m    609\u001b[0m \u001b[38;5;28;01mif\u001b[39;00m node\u001b[38;5;241m.\u001b[39mvalue \u001b[38;5;129;01mis\u001b[39;00m \u001b[38;5;129;01mnot\u001b[39;00m \u001b[38;5;28;01mNone\u001b[39;00m:\n\u001b[1;32m    610\u001b[0m     \u001b[38;5;28;01mreturn\u001b[39;00m node\n\u001b[0;32m--> 612\u001b[0m \u001b[38;5;28;01mreturn\u001b[39;00m \u001b[38;5;28;43mself\u001b[39;49m\u001b[38;5;241;43m.\u001b[39;49m\u001b[43m_traverse\u001b[49m\u001b[43m(\u001b[49m\u001b[43mx\u001b[49m\u001b[43m,\u001b[49m\u001b[43m \u001b[49m\u001b[43mnode\u001b[49m\u001b[38;5;241;43m.\u001b[39;49m\u001b[43mleft\u001b[49m\u001b[43m)\u001b[49m \u001b[38;5;28;01mif\u001b[39;00m \u001b[38;5;28mself\u001b[39m\u001b[38;5;241m.\u001b[39m_left(x, node) \u001b[38;5;28;01melse\u001b[39;00m \u001b[38;5;28mself\u001b[39m\u001b[38;5;241m.\u001b[39m_traverse(x, node\u001b[38;5;241m.\u001b[39mright)\n",
      "    \u001b[0;31m[... skipping similar frames: ProductSpaceDT._traverse at line 612 (1 times)]\u001b[0m\n",
      "File \u001b[0;32m~/manify/manify/predictors/tree_icml.py:612\u001b[0m, in \u001b[0;36mProductSpaceDT._traverse\u001b[0;34m(self, x, node)\u001b[0m\n\u001b[1;32m    609\u001b[0m \u001b[38;5;28;01mif\u001b[39;00m node\u001b[38;5;241m.\u001b[39mvalue \u001b[38;5;129;01mis\u001b[39;00m \u001b[38;5;129;01mnot\u001b[39;00m \u001b[38;5;28;01mNone\u001b[39;00m:\n\u001b[1;32m    610\u001b[0m     \u001b[38;5;28;01mreturn\u001b[39;00m node\n\u001b[0;32m--> 612\u001b[0m \u001b[38;5;28;01mreturn\u001b[39;00m \u001b[38;5;28mself\u001b[39m\u001b[38;5;241m.\u001b[39m_traverse(x, node\u001b[38;5;241m.\u001b[39mleft) \u001b[38;5;28;01mif\u001b[39;00m \u001b[38;5;28;43mself\u001b[39;49m\u001b[38;5;241;43m.\u001b[39;49m\u001b[43m_left\u001b[49m\u001b[43m(\u001b[49m\u001b[43mx\u001b[49m\u001b[43m,\u001b[49m\u001b[43m \u001b[49m\u001b[43mnode\u001b[49m\u001b[43m)\u001b[49m \u001b[38;5;28;01melse\u001b[39;00m \u001b[38;5;28mself\u001b[39m\u001b[38;5;241m.\u001b[39m_traverse(x, node\u001b[38;5;241m.\u001b[39mright)\n",
      "File \u001b[0;32m~/manify/manify/predictors/tree_icml.py:602\u001b[0m, in \u001b[0;36mProductSpaceDT._left\u001b[0;34m(self, angles_row, node)\u001b[0m\n\u001b[1;32m    600\u001b[0m \u001b[38;5;28;01mdef\u001b[39;00m \u001b[38;5;21m_left\u001b[39m(\u001b[38;5;28mself\u001b[39m, angles_row: TT[\u001b[38;5;124m\"\u001b[39m\u001b[38;5;124mintrinsic_dim\u001b[39m\u001b[38;5;124m\"\u001b[39m], node: DecisionNode) \u001b[38;5;241m-\u001b[39m\u001b[38;5;241m>\u001b[39m \u001b[38;5;28mbool\u001b[39m:\n\u001b[1;32m    601\u001b[0m \u001b[38;5;250m    \u001b[39m\u001b[38;5;124;03m\"\"\"Boolean: Go left? Works on a preprocessed input vector.\"\"\"\u001b[39;00m\n\u001b[0;32m--> 602\u001b[0m     \u001b[38;5;28;01mreturn\u001b[39;00m \u001b[43m_angular_greater\u001b[49m\u001b[43m(\u001b[49m\n\u001b[1;32m    603\u001b[0m \u001b[43m        \u001b[49m\u001b[43mtorch\u001b[49m\u001b[38;5;241;43m.\u001b[39;49m\u001b[43mtensor\u001b[49m\u001b[43m(\u001b[49m\u001b[43mnode\u001b[49m\u001b[38;5;241;43m.\u001b[39;49m\u001b[43mtheta\u001b[49m\u001b[43m,\u001b[49m\u001b[43m \u001b[49m\u001b[43mdevice\u001b[49m\u001b[38;5;241;43m=\u001b[39;49m\u001b[43mangles_row\u001b[49m\u001b[38;5;241;43m.\u001b[39;49m\u001b[43mdevice\u001b[49m\u001b[43m)\u001b[49m\u001b[38;5;241;43m.\u001b[39;49m\u001b[43mflatten\u001b[49m\u001b[43m(\u001b[49m\u001b[43m)\u001b[49m\u001b[43m,\u001b[49m\u001b[43m \u001b[49m\u001b[43mangles_row\u001b[49m\u001b[43m[\u001b[49m\u001b[43mnode\u001b[49m\u001b[38;5;241;43m.\u001b[39;49m\u001b[43mfeature\u001b[49m\u001b[43m]\u001b[49m\u001b[38;5;241;43m.\u001b[39;49m\u001b[43mflatten\u001b[49m\u001b[43m(\u001b[49m\u001b[43m)\u001b[49m\n\u001b[1;32m    604\u001b[0m \u001b[43m    \u001b[49m\u001b[43m)\u001b[49m\u001b[38;5;241;43m.\u001b[39;49m\u001b[43mitem\u001b[49m\u001b[43m(\u001b[49m\u001b[43m)\u001b[49m\n",
      "\u001b[0;31mKeyboardInterrupt\u001b[0m: "
     ]
    }
   ],
   "source": [
    "from sklearn.metrics import f1_score\n",
    "from tqdm.notebook import tqdm\n",
    "import time\n",
    "from sklearn.metrics import f1_score\n",
    "from sklearn.model_selection import train_test_split\n",
    "\n",
    "DATASETS = [\"dolphins\", \"football\", \"karate_club\", \"lesmis\", \"polbooks\", \"adjnoun\"]\n",
    "SIGNATURE = [(-1, 2), (0, 2), (1, 2)]\n",
    "N_TRIALS = 10\n",
    "TOTAL_ITERATIONS = 1_000\n",
    "USE_DISTS = True\n",
    "USE_TQDM = True\n",
    "MODELS = [\n",
    "    \"sklearn_dt\",\n",
    "    \"sklearn_rf\",\n",
    "    \"product_dt\",\n",
    "    \"product_rf\",\n",
    "    \"tangent_dt\",\n",
    "    \"tangent_rf\",\n",
    "    \"single_manifold_rf\",\n",
    "    \"knn\",\n",
    "    \"ps_perceptron\",\n",
    "    # \"ambient_mlp\",\n",
    "    # \"ambient_gnn\",\n",
    "    # \"kappa_gcn\",\n",
    "    # \"product_mlr\",\n",
    "]\n",
    "LR = 1e-4\n",
    "EPOCHS = 4_000\n",
    "\n",
    "results = []\n",
    "\n",
    "# for dataset in [\"karate_club\"]:\n",
    "my_tqdm = tqdm(total=N_TRIALS * len(DATASETS))\n",
    "for i, dataset in enumerate(DATASETS):\n",
    "    dists, _, adj = manify.utils.dataloaders.load(dataset)\n",
    "    dists, adj = dists.to(DEVICE), adj.to(DEVICE)\n",
    "    dists = dists / dists[dists.isfinite()].max()\n",
    "\n",
    "    # while len(results) < N_TRIALS:\n",
    "    for seed in range(N_TRIALS):\n",
    "        seed = seed + i * N_TRIALS  # Unique\n",
    "        pm = manify.manifolds.ProductManifold(signature=SIGNATURE, device=DEVICE)\n",
    "        X, _ = manify.embedders.coordinate_learning.train_coords(\n",
    "            pm=pm,\n",
    "            dists=dists,\n",
    "            burn_in_iterations=int(0.1 * TOTAL_ITERATIONS),\n",
    "            training_iterations=int(0.9 * TOTAL_ITERATIONS),\n",
    "            scale_factor_learning_rate=0.02,\n",
    "            device=DEVICE,\n",
    "        )\n",
    "        assert not torch.isnan(X).any()\n",
    "\n",
    "        # Get data for classification variants\n",
    "        XX, yy, pm_new = make_link_prediction_dataset(X, pm, adj, add_dists=USE_DISTS)\n",
    "        X_train, X_test, y_train, y_test, idx_train, idx_test = train_test_split(\n",
    "            XX, yy, list(range(len(yy))), test_size=0.2\n",
    "        )\n",
    "        X_train = X_train[:1000]\n",
    "        X_test = X_test[:1000]\n",
    "        y_train = y_train[:1000]\n",
    "        y_test = y_test[:1000]\n",
    "        idx_train = idx_train[:1000]\n",
    "        idx_test = idx_test[:1000]\n",
    "        res = manify.utils.benchmarks.benchmark(\n",
    "            # XX,\n",
    "            # yy,\n",
    "            None,\n",
    "            None,\n",
    "            X_train = X_train,\n",
    "            X_test = X_test,\n",
    "            y_train = y_train,\n",
    "            y_test = y_test,\n",
    "            pm = pm_new,\n",
    "            task=\"classification\",\n",
    "            score=[\"accuracy\", \"f1-micro\"],\n",
    "            device=DEVICE,\n",
    "            models=MODELS,\n",
    "            seed=seed,\n",
    "        )\n",
    "\n",
    "        # Other manifolds we'll need\n",
    "        pm_stereo, X_stereo = pm.stereographic(X)\n",
    "        pm_stereo_euc = manify.manifolds.ProductManifold(\n",
    "            signature=[(0, X.shape[1])], stereographic=True, device=DEVICE\n",
    "        )\n",
    "\n",
    "        # Get an adjacency matrix that's not leaky\n",
    "        dists = pm.pdist2(X)\n",
    "        max_dist = dists[dists.isfinite()].max()\n",
    "        dists /= max_dist\n",
    "        A = torch.exp(-dists)\n",
    "        A_hat = manify.predictors.kappa_gcn.get_A_hat(A).float().to(DEVICE)\n",
    "\n",
    "        # Ambient GCN\n",
    "        agnn = manify.predictors.kappa_gcn.KappaGCN(\n",
    "            pm=pm_stereo_euc, output_dim=1, hidden_dims=[pm_stereo_euc.dim], task=\"link_prediction\"\n",
    "        ).to(DEVICE)\n",
    "        t1 = time.time()\n",
    "        agnn.fit(X=X, y=y_train, A=A_hat, lr=LR, epochs=EPOCHS, lp_indices=idx_train, use_tqdm=USE_TQDM)\n",
    "        t2 = time.time()\n",
    "        y_pred = agnn.predict(X, A_hat)[idx_test]\n",
    "        res[\"ambient_gcn_accuracy\"] = (y_pred == y_test).float().mean().item()\n",
    "        res[\"ambient_gcn_f1_micro\"] = f1_score(y_test.cpu(), y_pred.cpu(), average=\"micro\")\n",
    "        res[\"ambient_gcn_time\"] = t2 - t1\n",
    "\n",
    "        # Tangent GCN\n",
    "        tgcn = manify.predictors.kappa_gcn.KappaGCN(\n",
    "            pm=pm_stereo, output_dim=1, hidden_dims=[pm_stereo.dim], task=\"link_prediction\"\n",
    "        ).to(DEVICE)\n",
    "        t1 = time.time()\n",
    "        tgcn.fit(X=pm.logmap(X).detach(), y=y_train, A=A_hat, lr=LR, epochs=EPOCHS, lp_indices=idx_train, use_tqdm=USE_TQDM)\n",
    "        t2 = time.time()\n",
    "        y_pred = tgcn.predict(pm.logmap(X).detach(), A_hat)[idx_test]\n",
    "        res[\"tangent_gcn_accuracy\"] = (y_pred == y_test).float().mean().item()\n",
    "        res[\"tangent_gcn_f1_micro\"] = f1_score(y_test.cpu(), y_pred.cpu(), average=\"micro\")\n",
    "        res[\"tangent_gcn_time\"] = t2 - t1\n",
    "\n",
    "        # Kappa GCN\n",
    "        kgcn = manify.predictors.kappa_gcn.KappaGCN(\n",
    "            pm=pm_stereo, output_dim=1, hidden_dims=[pm_stereo.dim], task=\"link_prediction\"\n",
    "        ).to(DEVICE)\n",
    "        t1 = time.time()\n",
    "        kgcn.fit(X=X_stereo, y=y_train, A=A_hat, lr=LR, epochs=EPOCHS, lp_indices=idx_train, use_tqdm=USE_TQDM)\n",
    "        t2 = time.time()\n",
    "        y_pred = kgcn.predict(X_stereo, A_hat)[idx_test]\n",
    "        res[\"kappa_gcn_accuracy\"] = (y_pred == y_test).float().mean().item()\n",
    "        res[\"kappa_gcn_f1_micro\"] = f1_score(y_test.cpu(), y_pred.cpu(), average=\"micro\")\n",
    "        res[\"kappa_gcn_time\"] = t2 - t1\n",
    "\n",
    "        # Ambient MLP\n",
    "        amlp = manify.predictors.kappa_gcn.KappaGCN(\n",
    "            pm=pm_stereo, output_dim=1, hidden_dims=[pm_stereo.dim], task=\"link_prediction\"\n",
    "        ).to(DEVICE)\n",
    "        t1 = time.time()\n",
    "        amlp.fit(X=X, y=y_train, A=torch.eye(len(X), device=DEVICE), lr=LR, epochs=EPOCHS, lp_indices=idx_train, use_tqdm=USE_TQDM)\n",
    "        t2 = time.time()\n",
    "        y_pred = amlp.predict(X, torch.eye(len(X), device=DEVICE))[idx_test]\n",
    "        res[\"ambient_mlp_accuracy\"] = (y_pred == y_test).float().mean().item()\n",
    "        res[\"ambient_mlp_f1_micro\"] = f1_score(y_test.cpu(), y_pred.cpu(), average=\"micro\")\n",
    "        res[\"ambient_mlp_time\"] = t2 - t1\n",
    "\n",
    "        # Tangent MLP\n",
    "        tmlp = manify.predictors.kappa_gcn.KappaGCN(\n",
    "            pm=pm_stereo, output_dim=1, hidden_dims=[pm_stereo.dim], task=\"link_prediction\"\n",
    "        ).to(DEVICE)\n",
    "        t1 = time.time()\n",
    "        tmlp.fit(X=pm.logmap(X).detach(), y=y_train, A=torch.eye(len(X), device=DEVICE), lr=LR, epochs=EPOCHS, lp_indices=idx_train, use_tqdm=USE_TQDM)\n",
    "        t2 = time.time()\n",
    "        y_pred = tmlp.predict(pm.logmap(X).detach(), torch.eye(len(X), device=DEVICE))[idx_test]\n",
    "        res[\"tangent_mlp_accuracy\"] = (y_pred == y_test).float().mean().item()\n",
    "        res[\"tangent_mlp_f1_micro\"] = f1_score(y_test.cpu(), y_pred.cpu(), average=\"micro\")\n",
    "        res[\"tangent_mlp_time\"] = t2 - t1\n",
    "\n",
    "        # Ambient MLR\n",
    "        amlr = manify.predictors.kappa_gcn.KappaGCN(\n",
    "            pm=pm_stereo, output_dim=1, hidden_dims=[], task=\"link_prediction\"\n",
    "        ).to(DEVICE)\n",
    "        t1 = time.time()\n",
    "        amlr.fit(X=X, y=y_train, A=torch.eye(len(X), device=DEVICE), lr=LR, epochs=EPOCHS, lp_indices=idx_train, use_tqdm=USE_TQDM)\n",
    "        t2 = time.time()\n",
    "        y_pred = amlr.predict(X, torch.eye(len(X), device=DEVICE))[idx_test]\n",
    "        res[\"ambient_mlr_accuracy\"] = (y_pred == y_test).float().mean().item()\n",
    "        res[\"ambient_mlr_f1_micro\"] = f1_score(y_test.cpu(), y_pred.cpu(), average=\"micro\")\n",
    "        res[\"ambient_mlr_time\"] = t2 - t1\n",
    "\n",
    "        # Tangent MLR\n",
    "        tmlr = manify.predictors.kappa_gcn.KappaGCN(\n",
    "            pm=pm_stereo, output_dim=1, hidden_dims=[], task=\"link_prediction\"\n",
    "        ).to(DEVICE)\n",
    "        t1 = time.time()\n",
    "        tmlr.fit(X=pm.logmap(X).detach(), y=y_train, A=torch.eye(len(X)), lr=LR, epochs=EPOCHS, lp_indices=idx_train, use_tqdm=USE_TQDM)\n",
    "        t2 = time.time()\n",
    "        y_pred = tmlr.predict(pm.logmap(X).detach(), torch.eye(len(X), device=DEVICE))[idx_test]\n",
    "        res[\"tangent_mlr_accuracy\"] = (y_pred == y_test).float().mean().item()\n",
    "        res[\"tangent_mlr_f1_micro\"] = f1_score(y_test.cpu(), y_pred.cpu(), average=\"micro\")\n",
    "        res[\"tangent_mlr_time\"] = t2 - t1\n",
    "\n",
    "        # Product MLR\n",
    "        mlr = manify.predictors.kappa_gcn.KappaGCN(\n",
    "            pm=pm_stereo, output_dim=1, hidden_dims=[], task=\"link_prediction\"\n",
    "        ).to(DEVICE)\n",
    "        t1 = time.time()\n",
    "        kgcn.fit(X=X_stereo, y=y_train, A=torch.eye(len(X_stereo), device=DEVICE), lr=LR, epochs=EPOCHS, lp_indices=idx_train, use_tqdm=USE_TQDM)\n",
    "        t2 = time.time()\n",
    "        y_pred = kgcn.predict(X_stereo, torch.eye(len(X_stereo), device=DEVICE))[idx_test]\n",
    "        res[\"kappa_mlr_accuracy\"] = (y_pred == y_test).float().mean().item()\n",
    "        res[\"kappa_mlr_f1_micro\"] = f1_score(y_test.cpu(), y_pred.cpu(), average=\"micro\")\n",
    "        res[\"kappa_mlr_time\"] = t2 - t1\n",
    "\n",
    "        # Other details\n",
    "        res[\"d_avg\"] = manify.embedders.losses.d_avg(pm.pdist(X), dists).item()\n",
    "        res[\"dataset\"] = dataset\n",
    "\n",
    "        results.append(res)\n",
    "        my_tqdm.update(1)"
   ]
  },
  {
   "cell_type": "code",
   "execution_count": null,
   "metadata": {},
   "outputs": [],
   "source": [
    "import pandas as pd\n",
    "\n",
    "results_df = pd.DataFrame(results)\n",
    "results_df.to_csv(\"../data/results_icml_revision/link_prediction.tsv\", sep=\"\\t\", index=False)"
   ]
  },
  {
   "cell_type": "code",
   "execution_count": null,
   "metadata": {},
   "outputs": [],
   "source": []
  }
 ],
 "metadata": {
  "kernelspec": {
   "display_name": "embedders",
   "language": "python",
   "name": "python3"
  },
  "language_info": {
   "codemirror_mode": {
    "name": "ipython",
    "version": 3
   },
   "file_extension": ".py",
   "mimetype": "text/x-python",
   "name": "python",
   "nbconvert_exporter": "python",
   "pygments_lexer": "ipython3",
   "version": "3.9.0"
  }
 },
 "nbformat": 4,
 "nbformat_minor": 2
}

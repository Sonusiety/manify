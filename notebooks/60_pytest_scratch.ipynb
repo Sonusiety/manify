{
 "cells": [
  {
   "cell_type": "code",
   "execution_count": 10,
   "id": "cfd9764c",
   "metadata": {},
   "outputs": [
    {
     "name": "stdout",
     "output_type": "stream",
     "text": [
      "The autoreload extension is already loaded. To reload it, use:\n",
      "  %reload_ext autoreload\n"
     ]
    }
   ],
   "source": [
    "%load_ext autoreload\n",
    "%autoreload 2\n",
    "\n",
    "import manify\n",
    "from manify.manifolds import Manifold\n",
    "import torch\n",
    "import geoopt"
   ]
  },
  {
   "cell_type": "code",
   "execution_count": 75,
   "id": "5a128e26",
   "metadata": {},
   "outputs": [],
   "source": [
    "\n",
    "for curv, dim in [(-1, 2), (0, 2), (1, 2), (-1, 64), (0, 64), (1, 64)]:\n",
    "    M = Manifold(curvature=curv, dim=dim)\n",
    "\n",
    "    # Does device switching work?\n",
    "    M.to(\"cpu\")\n",
    "\n",
    "    # Do attributes work correctly?\n",
    "    if curv < 0:\n",
    "        assert M.type == \"H\" and isinstance(M.manifold.base, geoopt.Lorentz)\n",
    "    elif curv == 0:\n",
    "        assert M.type == \"E\" and isinstance(M.manifold.base, geoopt.Euclidean)\n",
    "    else:\n",
    "        assert M.type == \"S\" and isinstance(M.manifold.base, geoopt.Sphere)\n",
    "\n",
    "    # get some vectors via gaussian mixture\n",
    "    cov = torch.eye(M.dim) / M.dim / 100\n",
    "    means = torch.vstack([M.mu0] * 10)\n",
    "    covs = torch.stack([cov] * 10)\n",
    "    X1, _ = M.sample(z_mean=means, sigma=covs)\n",
    "    X2, _ = M.sample(z_mean=means[:5], sigma=covs[:5])\n",
    "\n",
    "    # Verify points are on manifold\n",
    "    assert M.manifold.check_point(X1), \"X1 is not on the manifold\"\n",
    "    assert M.manifold.check_point(X2), \"X2 is not on the manifold\"\n",
    "\n",
    "    # Inner products\n",
    "    ip_11 = M.inner(X1, X1)\n",
    "    assert ip_11.shape == (10, 10), \"Inner product shape mismatch for X1\"\n",
    "    ip_12 = M.inner(X1, X2)\n",
    "    assert ip_12.shape == (10, 5), \"Inner product shape mismatch for X1 and X2\"\n",
    "    if curv == 0:\n",
    "        assert torch.allclose(ip_11, X1 @ X1.T), \"Euclidean inner products do not match for X1\"\n",
    "        assert torch.allclose(ip_12, X1 @ X2.T), \"Euclidean inner products do not match for X1 and X2\"\n",
    "\n",
    "    # Dists\n",
    "    dists_11 = M.dist(X1, X1)\n",
    "    assert dists_11.shape == (10, 10), \"Distance shape mismatch for X1\"\n",
    "    dists_12 = M.dist(X1, X2)\n",
    "    assert dists_12.shape == (10, 5), \"Distance shape mismatch for X1 and X2\"\n",
    "    if curv == 0:\n",
    "        assert torch.allclose(\n",
    "            dists_12, torch.linalg.norm(X1[:, None] - X2[None, :], dim=-1)\n",
    "        ), \"Euclidean distances do not match for X1 and X2\"\n",
    "        assert torch.allclose(\n",
    "            dists_11, torch.linalg.norm(X1[:, None] - X1[None, :], dim=-1)\n",
    "        ), \"Euclidean distances do not match for X1\"\n",
    "    assert (dists_11.triu(1) >= 0).all(), \"Distances for X1 should be non-negative\"\n",
    "    assert (dists_12.triu(1) >= 0).all(), \"Distances for X2 should be non-negative\"\n",
    "    assert torch.allclose(dists_11.triu(1), M.pdist(X1).triu(1)), \"dist and pdist diverge for X1\"\n",
    "\n",
    "    # Square dists\n",
    "    sqdists_11 = M.dist2(X1, X1)\n",
    "    assert sqdists_11.shape == (10, 10), \"Squared distance shape mismatch for X1\"\n",
    "    sqdists_12 = M.dist2(X1, X2)\n",
    "    assert sqdists_12.shape == (10, 5), \"Squared distance shape mismatch for X1 and X2\"\n",
    "    if curv == 0:\n",
    "        assert torch.allclose(\n",
    "            sqdists_12, torch.linalg.norm(X1[:, None] - X2[None, :], dim=-1) ** 2\n",
    "        ), \"Euclidean squared distances do not match for X1 and X2\"\n",
    "        assert torch.allclose(\n",
    "            sqdists_11, torch.linalg.norm(X1[:, None] - X1[None, :], dim=-1) ** 2\n",
    "        ), \"Euclidean squared distances do not match for X1\"\n",
    "    assert (sqdists_11.triu(1) >= 0).all(), \"Squared distances for X1 should be non-negative\"\n",
    "    assert (sqdists_12.triu(1) >= 0).all(), \"Squared distances for X1 and X2 should be non-negative\"\n",
    "    assert torch.allclose(sqdists_11.triu(1), M.pdist2(X1).triu(1)), \"sqdists_11 and pdist2 diverge for X1\"\n",
    "\n",
    "    # Log-likelihood\n",
    "    lls = M.log_likelihood(X1)\n",
    "    if curv == 0:\n",
    "        # Evaluate as ll of gaussian with mean 0, variance 1:\n",
    "        assert torch.allclose(\n",
    "            lls,\n",
    "            -0.5 * (torch.sum(X1**2, dim=-1) + X1.size(-1) * math.log(2 * math.pi)),\n",
    "        ), \"Log-likelihood mismatch for Gaussian\"\n",
    "    assert (lls <= 0).all(), \"Log-likelihood should be non-positive\"\n",
    "\n",
    "    # Logmap and expmap\n",
    "    logmap_x1 = M.logmap(X1)\n",
    "    assert M.manifold.check_vector(logmap_x1), \"Logmap point should be in the tangent plane\"\n",
    "    expmap_x1 = M.expmap(logmap_x1)\n",
    "    assert M.manifold.check_point(expmap_x1), \"Expmap point should be on the manifold\"\n",
    "    assert torch.allclose(expmap_x1, X1, atol=1e-5), \"Expmap does not return the original points\"\n",
    "\n",
    "    # Stereographic conversions\n",
    "    M_stereo, X1_stereo, X2_stereo = M.stereographic(X1, X2)\n",
    "    assert M_stereo.is_stereographic\n",
    "    X_inv_stereo, X1_inv_stereo, X2_inv_stereo = M_stereo.inverse_stereographic(X1_stereo, X2_stereo)\n",
    "    assert not X_inv_stereo.is_stereographic\n",
    "    assert torch.allclose(X1_inv_stereo, X1), \"Inverse stereographic conversion mismatch for X1\"\n",
    "    assert torch.allclose(X2_inv_stereo, X2), \"Inverse stereographic conversion mismatch for X2\"\n",
    "\n",
    "    # Apply\n",
    "    @M.apply\n",
    "    def apply_function(x):\n",
    "        return torch.nn.functional.relu(x)\n",
    "\n",
    "    result = apply_function(X1)\n",
    "    assert result.shape == X1.shape, \"Result shape mismatch for apply_function\"\n",
    "    assert M.manifold.check_point(result)"
   ]
  },
  {
   "cell_type": "code",
   "execution_count": 72,
   "id": "84491262",
   "metadata": {},
   "outputs": [
    {
     "data": {
      "text/plain": [
       "tensor([[ 1.0011,  0.0458,  0.0055],\n",
       "        [ 1.0001, -0.0142, -0.0087],\n",
       "        [ 1.0121,  0.1557,  0.0073],\n",
       "        [ 1.0099, -0.0979,  0.1019],\n",
       "        [ 1.0033,  0.0339,  0.0737],\n",
       "        [ 1.0008,  0.0300,  0.0255],\n",
       "        [ 1.0006,  0.0211,  0.0289],\n",
       "        [ 1.0040, -0.0701, -0.0553],\n",
       "        [ 1.0160,  0.1332, -0.1208],\n",
       "        [ 1.0026,  0.0174,  0.0700]], grad_fn=<CatBackward0>)"
      ]
     },
     "execution_count": 72,
     "metadata": {},
     "output_type": "execute_result"
    }
   ],
   "source": [
    "expmap_x1"
   ]
  },
  {
   "cell_type": "markdown",
   "id": "be661a96",
   "metadata": {},
   "source": []
  },
  {
   "cell_type": "code",
   "execution_count": 73,
   "id": "a3edd57e",
   "metadata": {},
   "outputs": [
    {
     "data": {
      "text/plain": [
       "tensor([[ 1.0011,  0.0458,  0.0055],\n",
       "        [ 1.0001, -0.0142, -0.0087],\n",
       "        [ 1.0121,  0.1557,  0.0073],\n",
       "        [ 1.0099, -0.0979,  0.1019],\n",
       "        [ 1.0033,  0.0339,  0.0737],\n",
       "        [ 1.0008,  0.0300,  0.0255],\n",
       "        [ 1.0006,  0.0211,  0.0289],\n",
       "        [ 1.0040, -0.0701, -0.0553],\n",
       "        [ 1.0160,  0.1332, -0.1208],\n",
       "        [ 1.0026,  0.0174,  0.0700]], grad_fn=<CatBackward0>)"
      ]
     },
     "execution_count": 73,
     "metadata": {},
     "output_type": "execute_result"
    }
   ],
   "source": [
    "X1"
   ]
  },
  {
   "cell_type": "code",
   "execution_count": 59,
   "id": "2ea982c6",
   "metadata": {},
   "outputs": [],
   "source": [
    "# make a stack of (10, 2, 2) from this\n",
    "my_stack = torch.stack([cov] * 10, dim=0)  # create a stack of 10 copies of cov"
   ]
  },
  {
   "cell_type": "code",
   "execution_count": 66,
   "id": "8cb6c755",
   "metadata": {},
   "outputs": [
    {
     "data": {
      "text/plain": [
       "torch.Size([1, 10, 3])"
      ]
     },
     "execution_count": 66,
     "metadata": {},
     "output_type": "execute_result"
    }
   ],
   "source": [
    "torch.stack([M.mu0] * 10, dim=1).shape"
   ]
  },
  {
   "cell_type": "code",
   "execution_count": 67,
   "id": "585ed32e",
   "metadata": {},
   "outputs": [
    {
     "data": {
      "text/plain": [
       "tensor([[1., 0., 0.]])"
      ]
     },
     "execution_count": 67,
     "metadata": {},
     "output_type": "execute_result"
    }
   ],
   "source": [
    "M.mu0"
   ]
  },
  {
   "cell_type": "code",
   "execution_count": 70,
   "id": "72cdf03f",
   "metadata": {},
   "outputs": [
    {
     "data": {
      "text/plain": [
       "tensor([[1., 0., 0.],\n",
       "        [1., 0., 0.],\n",
       "        [1., 0., 0.],\n",
       "        [1., 0., 0.],\n",
       "        [1., 0., 0.],\n",
       "        [1., 0., 0.],\n",
       "        [1., 0., 0.],\n",
       "        [1., 0., 0.],\n",
       "        [1., 0., 0.],\n",
       "        [1., 0., 0.]])"
      ]
     },
     "execution_count": 70,
     "metadata": {},
     "output_type": "execute_result"
    }
   ],
   "source": [
    "torch.vstack([M.mu0] * 10)"
   ]
  },
  {
   "cell_type": "code",
   "execution_count": null,
   "id": "46564821",
   "metadata": {},
   "outputs": [],
   "source": []
  }
 ],
 "metadata": {
  "kernelspec": {
   "display_name": "manify",
   "language": "python",
   "name": "python3"
  },
  "language_info": {
   "codemirror_mode": {
    "name": "ipython",
    "version": 3
   },
   "file_extension": ".py",
   "mimetype": "text/x-python",
   "name": "python",
   "nbconvert_exporter": "python",
   "pygments_lexer": "ipython3",
   "version": "3.10.0"
  }
 },
 "nbformat": 4,
 "nbformat_minor": 5
}

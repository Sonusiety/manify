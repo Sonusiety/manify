{
 "cells": [
  {
   "cell_type": "code",
   "execution_count": 1,
   "metadata": {},
   "outputs": [],
   "source": [
    "%load_ext autoreload\n",
    "%autoreload 2"
   ]
  },
  {
   "cell_type": "markdown",
   "metadata": {},
   "source": [
    "The purpose of this notebook is to compute information gains as efficiently as possible.\n",
    "\n",
    "First, we need to establish some ground truth information gains:"
   ]
  },
  {
   "cell_type": "code",
   "execution_count": 36,
   "metadata": {},
   "outputs": [],
   "source": [
    "from hyperdt.tree import HyperbolicDecisionTreeClassifier\n",
    "import embedders\n",
    "import torch\n",
    "import numpy as np\n",
    "import matplotlib.pyplot as plt\n"
   ]
  },
  {
   "cell_type": "code",
   "execution_count": 37,
   "metadata": {},
   "outputs": [
    {
     "name": "stdout",
     "output_type": "stream",
     "text": [
      "torch.Size([1000, 5]) torch.Size([1000])\n"
     ]
    },
    {
     "name": "stderr",
     "output_type": "stream",
     "text": [
      "/Users/phil/miniforge3/envs/embedders2/lib/python3.10/site-packages/torch/distributions/wishart.py:271: UserWarning: Singular sample detected.\n",
      "  warnings.warn(\"Singular sample detected.\")\n"
     ]
    }
   ],
   "source": [
    "pm = embedders.manifolds.ProductManifold(signature=[(-1, 4)])\n",
    "\n",
    "X, y = embedders.gaussian_mixture.gaussian_mixture(pm=pm)\n",
    "print(X.shape, y.shape)"
   ]
  },
  {
   "cell_type": "code",
   "execution_count": 47,
   "metadata": {},
   "outputs": [
    {
     "data": {
      "text/plain": [
       "<matplotlib.image.AxesImage at 0x353968550>"
      ]
     },
     "execution_count": 47,
     "metadata": {},
     "output_type": "execute_result"
    },
    {
     "data": {
      "image/png": "[encoded data removed]",
      "text/plain": [
       "<Figure size 400x500 with 1 Axes>"
      ]
     },
     "metadata": {},
     "output_type": "display_data"
    }
   ],
   "source": [
    "# Compute information gains for every possible split\n",
    "\n",
    "hdt = HyperbolicDecisionTreeClassifier()\n",
    "hdt.classes_ = [0, 1]\n",
    "\n",
    "info_gains = torch.zeros_like(X, dtype=torch.float64)\n",
    "for i in range(X.shape[0]):\n",
    "    for j in range(1, X.shape[1]):\n",
    "        theta = np.arctan2(X[i, 0].item(), X[i, j].item())\n",
    "        left, right = hdt._get_split(X=X.detach().numpy(), dim=j, theta=theta)\n",
    "        score = hdt._information_gain(left, right, y.detach().numpy())\n",
    "        info_gains[i, j] = score\n",
    "\n",
    "plt.matshow(info_gains[:32*8, :].reshape(-1, 32))"
   ]
  },
  {
   "cell_type": "code",
   "execution_count": 52,
   "metadata": {},
   "outputs": [
    {
     "name": "stdout",
     "output_type": "stream",
     "text": [
      "torch.Size([1000, 1000, 4])\n"
     ]
    }
   ],
   "source": [
    "# Great, now we have ground truth. Can we do it with tensors?\n",
    "\n",
    "info_gains_torch = torch.zeros_like(X)\n",
    "\n",
    "# First, we process our X-values into coordinates:\n",
    "# (batch, dims + 1) --> (batch, dims)\n",
    "angles = torch.arctan2(X[:,0:1], X[:, 1:])\n",
    "\n",
    "# Now, we create a tensor of comparisons\n",
    "# (batch, dims, batch)\n",
    "comparisons = angles[None, :] > angles[:, None]\n",
    "print(comparisons.shape)"
   ]
  },
  {
   "cell_type": "code",
   "execution_count": 56,
   "metadata": {},
   "outputs": [
    {
     "name": "stdout",
     "output_type": "stream",
     "text": [
      "torch.Size([1000, 1000, 4])\n"
     ]
    }
   ],
   "source": [
    "print((angles[:, None] > angles[None, :]).shape)"
   ]
  },
  {
   "cell_type": "code",
   "execution_count": null,
   "metadata": {},
   "outputs": [],
   "source": []
  }
 ],
 "metadata": {
  "kernelspec": {
   "display_name": "embedders2",
   "language": "python",
   "name": "python3"
  },
  "language_info": {
   "codemirror_mode": {
    "name": "ipython",
    "version": 3
   },
   "file_extension": ".py",
   "mimetype": "text/x-python",
   "name": "python",
   "nbconvert_exporter": "python",
   "pygments_lexer": "ipython3",
   "version": "3.10.0"
  }
 },
 "nbformat": 4,
 "nbformat_minor": 2
}

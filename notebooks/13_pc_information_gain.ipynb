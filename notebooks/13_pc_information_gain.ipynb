{
 "cells": [
  {
   "cell_type": "code",
   "execution_count": 1,
   "metadata": {},
   "outputs": [],
   "source": [
    "%load_ext autoreload\n",
    "%autoreload 2"
   ]
  },
  {
   "cell_type": "markdown",
   "metadata": {},
   "source": [
    "The purpose of this notebook is to compute information gains as efficiently as possible.\n",
    "\n",
    "First, we need to establish some ground truth information gains:"
   ]
  },
  {
   "cell_type": "markdown",
   "metadata": {},
   "source": [
    "# Basic setup"
   ]
  },
  {
   "cell_type": "code",
   "execution_count": 2,
   "metadata": {},
   "outputs": [
    {
     "name": "stderr",
     "output_type": "stream",
     "text": [
      "INFO: Using numpy backend\n"
     ]
    }
   ],
   "source": [
    "from hyperdt.tree import HyperbolicDecisionTreeClassifier\n",
    "import embedders\n",
    "import torch\n",
    "import numpy as np\n",
    "import matplotlib.pyplot as plt"
   ]
  },
  {
   "cell_type": "code",
   "execution_count": 3,
   "metadata": {},
   "outputs": [
    {
     "name": "stdout",
     "output_type": "stream",
     "text": [
      "torch.Size([1000, 5]) torch.Size([1000])\n"
     ]
    },
    {
     "name": "stderr",
     "output_type": "stream",
     "text": [
      "/home/zeus/miniconda3/envs/cloudspace/lib/python3.10/site-packages/torch/distributions/wishart.py:271: UserWarning: Singular sample detected.\n",
      "  warnings.warn(\"Singular sample detected.\")\n"
     ]
    }
   ],
   "source": [
    "pm = embedders.manifolds.ProductManifold(signature=[(-1, 4)])\n",
    "\n",
    "X, y = embedders.gaussian_mixture.gaussian_mixture(pm=pm)\n",
    "print(X.shape, y.shape)"
   ]
  },
  {
   "cell_type": "markdown",
   "metadata": {},
   "source": [
    "# Develop + test new approach"
   ]
  },
  {
   "cell_type": "code",
   "execution_count": 4,
   "metadata": {},
   "outputs": [
    {
     "name": "stderr",
     "output_type": "stream",
     "text": [
      "/teamspace/studios/this_studio/hyperDT/src/hyperdt/tree.py:54: RuntimeWarning: invalid value encountered in divide\n",
      "  return np.bincount(y, minlength=len(self.classes_)) / len(y)\n"
     ]
    },
    {
     "data": {
      "text/plain": [
       "<matplotlib.image.AxesImage at 0x7f40d91a0640>"
      ]
     },
     "execution_count": 4,
     "metadata": {},
     "output_type": "execute_result"
    },
    {
     "data": {
      "image/png": "[encoded data removed]",
      "text/plain": [
       "<Figure size 400x800 with 1 Axes>"
      ]
     },
     "metadata": {},
     "output_type": "display_data"
    }
   ],
   "source": [
    "# Compute information gains for every possible split\n",
    "\n",
    "hdt = HyperbolicDecisionTreeClassifier()\n",
    "hdt.classes_ = [0, 1]\n",
    "\n",
    "info_gains = torch.zeros_like(X, dtype=torch.float64)\n",
    "for i in range(X.shape[0]):\n",
    "    for j in range(1, X.shape[1]):\n",
    "        theta = np.arctan2(X[i, 0].item(), X[i, j].item())\n",
    "        left, right = hdt._get_split(X=X.detach().numpy(), dim=j, theta=theta)\n",
    "        score = hdt._information_gain(left, right, y.detach().numpy())\n",
    "        info_gains[i, j] = score\n",
    "\n",
    "plt.matshow(info_gains[: 32 * 16, 1:].reshape(-1, 32))  # Don't forget to drop first column"
   ]
  },
  {
   "cell_type": "code",
   "execution_count": 5,
   "metadata": {},
   "outputs": [],
   "source": [
    "SKIP_VERIFICATION = False\n",
    "COMPARISON = \"circular\" # \"geq\" or \"eq\" also accepted"
   ]
  },
  {
   "cell_type": "code",
   "execution_count": 6,
   "metadata": {},
   "outputs": [
    {
     "name": "stdout",
     "output_type": "stream",
     "text": [
      "Angles: torch.Size([1000, 4])\n",
      "Comparisons: torch.Size([1000, 1000, 4])\n",
      "Comparisons reshaped: torch.Size([1000, 4, 1000])\n",
      "Verification passed.\n"
     ]
    }
   ],
   "source": [
    "# Great, now we have ground truth. Can we do it with tensors?\n",
    "\n",
    "# First, we process our X-values into coordinates:\n",
    "# (batch, dims + 1) --> (batch, dims)\n",
    "angles = torch.arctan2(X[:, 0:1], X[:, 1:])\n",
    "print(f\"Angles: {angles.shape}\")\n",
    "\n",
    "# Now, we create a tensor of comparisons\n",
    "# (batch, dims, batch)\n",
    "if COMPARISON == \"circular\":\n",
    "    comparisons = ((angles[:, None] - angles[None, :] + torch.pi) % (2 * torch.pi)) >= torch.pi\n",
    "elif COMPARISON == \"geq\":\n",
    "    comparisons = angles[:, None] >= angles[None, :]\n",
    "elif COMPARISON == \"eq\":\n",
    "    comparisons = angles[:, None] > angles[None, :]\n",
    "else:\n",
    "    raise ValueError(f\"Unknown comparison type: {COMPARISON}\")\n",
    "print(f\"Comparisons: {comparisons.shape}\")\n",
    "\n",
    "# Reshape the comparisons tensor to (split_batch, dims, response_batch):\n",
    "comparisons_reshaped = comparisons.permute(0, 2, 1)\n",
    "print(f\"Comparisons reshaped: {comparisons_reshaped.shape}\")\n",
    "\n",
    "# Verify that this is equivalent to what we wanted:\n",
    "# This verification is slooooow, so I'm gonna start a new cell after this\n",
    "\n",
    "if not SKIP_VERIFICATION:\n",
    "    verification_tensor = torch.zeros_like(comparisons_reshaped)\n",
    "    for split_batch in range(angles.shape[0]):\n",
    "        for dim in range(angles.shape[1]):\n",
    "            for response_batch in range(angles.shape[0]):\n",
    "                # if COMPARISON == \"circular\":\n",
    "                #     val = ((angles[split_batch, dim] - angles[response_batch, dim]) % (2 * torch.pi)) - torch.pi > 0\n",
    "                # Use the GEQ approach to verify that, on the hyperboloid, these are the same\n",
    "                if COMPARISON in [\"geq\", \"circular\"]:\n",
    "                    val = angles[split_batch, dim] >= angles[response_batch, dim]\n",
    "                elif COMPARISON == \"eq\":\n",
    "                    val = angles[split_batch, dim] > angles[response_batch, dim]\n",
    "                verification_tensor[split_batch, dim, response_batch] = val\n",
    "    assert torch.allclose(verification_tensor, comparisons_reshaped)\n",
    "    print(\"Verification passed.\")"
   ]
  },
  {
   "cell_type": "markdown",
   "metadata": {},
   "source": [
    "Gini impurity function:\n",
    "\n",
    "$$\n",
    "1 - \\sum_{i=1}^k p_i^2\n",
    "$$\n",
    "\n",
    "Information gain:\n",
    "\n",
    "$$\n",
    "IG(y) = C(y) - \\frac{|y^+|}{|y|}C(y^+) - \\frac{|y^-|}{|y|}C(y^-)\n",
    "$$"
   ]
  },
  {
   "cell_type": "code",
   "execution_count": 7,
   "metadata": {},
   "outputs": [
    {
     "name": "stdout",
     "output_type": "stream",
     "text": [
      "y_onehot: torch.Size([1000, 2])\n",
      "Left labels: torch.Size([1000, 4, 2])\n",
      "Right labels: torch.Size([1000, 4, 2])\n",
      "n_left: torch.Size([1000, 4])\n",
      "n_right: torch.Size([1000, 4])\n",
      "n_total: torch.Size([1000, 4])\n",
      "Left probs: torch.Size([1000, 4, 2])\n",
      "Right probs: torch.Size([1000, 4, 2])\n",
      "Total probs: torch.Size([1000, 4, 2])\n",
      "Gini left: torch.Size([1000, 4])\n",
      "Gini right: torch.Size([1000, 4])\n",
      "Gini total: torch.Size([1000, 4])\n",
      "IG: torch.Size([1000, 4])\n",
      "Verification passed.\n"
     ]
    }
   ],
   "source": [
    "# Ok, great. Now how to transform our tensor into information gains?\n",
    "\n",
    "# First, we need to one-hot the y-values\n",
    "y_onehot = torch.nn.functional.one_hot(y, num_classes=2).double()\n",
    "print(f\"y_onehot: {y_onehot.shape}\")\n",
    "\n",
    "# Selecting a split is the same thing as multiplying by a vector from comparisons_reshaped\n",
    "# Our comparisons are already reshaped so that the last dim is the first dim of the labels, so we can use\n",
    "# batch matrix multiplication instead of einsum\n",
    "comparisons_float = comparisons_reshaped.double()\n",
    "left_labels = comparisons_float @ y_onehot\n",
    "right_labels = (1 - comparisons_float) @ y_onehot\n",
    "print(f\"Left labels: {left_labels.shape}\")\n",
    "print(f\"Right labels: {right_labels.shape}\")\n",
    "\n",
    "# What we now have is effectively a tensor of \"thinned-out\" counts of our y-values. Implicitly, we first turn some of\n",
    "# our so-called \"one-hot encoded\" y-values into zero across all classes. This has a convenient property that we can just\n",
    "# sum them up to get our class counts per split, which the matmul does.\n",
    "\n",
    "# Total counts are sums of label counts\n",
    "dim = 2\n",
    "eps = 1e-10\n",
    "n_left = left_labels.sum(dim=dim) + eps\n",
    "n_right = right_labels.sum(dim=dim) + eps\n",
    "n_total = n_left + n_right\n",
    "print(f\"n_left: {n_left.shape}\")\n",
    "print(f\"n_right: {n_right.shape}\")\n",
    "print(f\"n_total: {n_total.shape}\")\n",
    "\n",
    "# Probabilities are label counts divided by total counts\n",
    "left_probs = left_labels / n_left.unsqueeze(dim)\n",
    "right_probs = right_labels / n_right.unsqueeze(dim)\n",
    "total_probs = (left_labels + right_labels) / n_total.unsqueeze(dim)\n",
    "print(f\"Left probs: {left_probs.shape}\")\n",
    "print(f\"Right probs: {right_probs.shape}\")\n",
    "print(f\"Total probs: {total_probs.shape}\")\n",
    "\n",
    "# Gini impurity is 1 - sum(prob^2)\n",
    "gini_left = 1 - (left_probs ** 2).sum(dim=dim)\n",
    "gini_right = 1 - (right_probs ** 2).sum(dim=dim)\n",
    "gini_total = 1 - (total_probs ** 2).sum(dim=dim)\n",
    "# TODO: can we get rid of gini_total? It's always the same for the first split, but we may want it for later splits\n",
    "# TODO: can we also get rid of the nan_to_num step? Currently we need it because we divide by zero\n",
    "print(f\"Gini left: {gini_left.shape}\")\n",
    "print(f\"Gini right: {gini_right.shape}\")\n",
    "print(f\"Gini total: {gini_total.shape}\")\n",
    "\n",
    "# Information gain is the total gini impurity minus the weighted average of the new gini impurities\n",
    "ig_est = gini_total - (gini_left * n_left + gini_right * n_right) / n_total\n",
    "print(f\"IG: {ig_est.shape}\")\n",
    "\n",
    "assert ig_est.isnan().sum() == 0 # Ensure no NaNs\n",
    "info_gains_nonan = info_gains.clone().nan_to_num(0)\n",
    "assert torch.allclose(ig_est, info_gains_nonan[:, 1:], atol=1e-2) # Ensure the values are the same\n",
    "print(\"Verification passed.\")"
   ]
  },
  {
   "cell_type": "code",
   "execution_count": 8,
   "metadata": {},
   "outputs": [
    {
     "data": {
      "text/plain": [
       "SignificanceResult(statistic=0.9999674849648359, pvalue=0.0)"
      ]
     },
     "execution_count": 8,
     "metadata": {},
     "output_type": "execute_result"
    }
   ],
   "source": [
    "# Guess that doesn't pass either. What's the Spearman correlation?\n",
    "from scipy.stats import spearmanr\n",
    "\n",
    "spearmanr(ig_est.flatten().nan_to_num(0).numpy(), info_gains_nonan[:, 1:].flatten().nan_to_num(0).numpy())\n",
    "\n",
    "# Well, at least that's good. Still don't know why it isn't exactly 1, but at this point I'm equally likely to chalk it up to a bug\n",
    "# in the HyperDT code as I am to a bug in my code."
   ]
  },
  {
   "cell_type": "code",
   "execution_count": 9,
   "metadata": {},
   "outputs": [
    {
     "data": {
      "image/png": "[encoded data removed]",
      "text/plain": [
       "<Figure size 640x480 with 6 Axes>"
      ]
     },
     "metadata": {},
     "output_type": "display_data"
    }
   ],
   "source": [
    "fig, axs = plt.subplots(1, 3)\n",
    "plt.colorbar(axs[0].matshow(ig_est[: 32 * 16].reshape(-1, 32)))\n",
    "axs[0].set_title(\"Estimated\")\n",
    "\n",
    "plt.colorbar(axs[1].matshow(info_gains[: 32 * 16, 1:].reshape(-1, 32)))\n",
    "axs[1].set_title(\"Ground truth\")\n",
    "\n",
    "plt.colorbar(axs[2].matshow((ig_est[: 32 * 16] - info_gains[: 32 * 16, 1:]).abs().reshape(-1, 32)))\n",
    "axs[2].set_title(\"Difference\")\n",
    "\n",
    "plt.tight_layout()\n",
    "plt.show()"
   ]
  },
  {
   "cell_type": "markdown",
   "metadata": {},
   "source": [
    "# Batched function"
   ]
  },
  {
   "cell_type": "code",
   "execution_count": 42,
   "metadata": {},
   "outputs": [],
   "source": [
    "def preprocess(X, y):\n",
    "    \"\"\"\n",
    "    Preprocessing function for the new version of ProductDT\n",
    "\n",
    "    Args:\n",
    "        X*: (batch, dims + 1) tensor of hyperbolic coordinates\n",
    "        y*: (batch,) tensor of labels\n",
    "    \n",
    "    Outputs:\n",
    "        X: (batch, dims) tensor of angles\n",
    "        y: (batch, n_classes) tensor of one-hot labels\n",
    "        M: (batch, dims, batch) tensor of comparisons\n",
    "    \"\"\"\n",
    "    # Ensure X and y are tensors\n",
    "    if not torch.is_tensor(X):\n",
    "        X = torch.tensor(X)\n",
    "    if not torch.is_tensor(y):\n",
    "        y = torch.tensor(y)\n",
    "\n",
    "    # Assertions: input validation\n",
    "    assert X.dim() == 2\n",
    "    assert y.dim() == 1\n",
    "    assert X.shape[0] == y.shape[0]\n",
    "\n",
    "    # First, we process our X-values into coordinates:\n",
    "    # (batch, dims + 1) --> (batch, dims)\n",
    "    angles = torch.arctan2(X[:, 0:1], X[:, 1:])\n",
    "\n",
    "    # Now, we create a tensor of comparisons\n",
    "    # (batch, dims) --> (query_batch, key_batch, dims)\n",
    "    comparisons = ((angles[:, None] - angles[None, :] + torch.pi) % (2 * torch.pi)) >= torch.pi\n",
    "\n",
    "    # Reshape the comparisons tensor:\n",
    "    # (query_batch, key_batch, dims) --> (query_batch, dims, key_batch):\n",
    "    comparisons_reshaped = comparisons.permute(0, 2, 1)\n",
    "\n",
    "    # One-hot encode labels\n",
    "    n_classes = y.unique().numel()\n",
    "    labels_onehot = torch.nn.functional.one_hot(y, num_classes=n_classes)\n",
    "\n",
    "    return angles.double(), labels_onehot.double(), comparisons_reshaped.double()\n",
    "\n",
    "def get_info_gains(comparisons, labels, eps=1e-10):\n",
    "    \"\"\"\n",
    "    Given comparisons matrix and labels, return information gain for each possible split.\n",
    "\n",
    "    Args:\n",
    "        comparisons: (query_batch, dims, key_batch) tensor of comparisons\n",
    "        labels: (query_batch, n_classes) tensor of one-hot labels\n",
    "        eps: small number to prevent division by zero\n",
    "    \n",
    "    Outputs:\n",
    "        ig: (query_batch, dims) tensor of information gains\n",
    "    \"\"\"\n",
    "    # Matrix-multiply to get counts of labels in left and right splits\n",
    "    pos_labels = comparisons @ labels\n",
    "    neg_labels = (1 - comparisons) @ labels\n",
    "\n",
    "    # Total counts are sums of label counts\n",
    "    n_pos = pos_labels.sum(dim=-1) + eps\n",
    "    n_neg = neg_labels.sum(dim=-1) + eps\n",
    "    n_total = n_pos + n_neg\n",
    "\n",
    "    # Probabilities are label counts divided by total counts\n",
    "    pos_probs = pos_labels / n_pos.unsqueeze(-1)\n",
    "    neg_probs = neg_labels / n_neg.unsqueeze(-1)\n",
    "    total_probs = (pos_labels + neg_labels) / n_total.unsqueeze(-1)\n",
    "\n",
    "    # Gini impurity is 1 - sum(prob^2)\n",
    "    gini_pos = 1 - (pos_probs ** 2).sum(dim=-1)\n",
    "    gini_neg = 1 - (neg_probs ** 2).sum(dim=-1)\n",
    "    gini_total = 1 - (total_probs ** 2).sum(dim=-1)\n",
    "\n",
    "    # Information gain is the total gini impurity minus the weighted average of the new gini impurities\n",
    "    ig = gini_total - (gini_pos * n_pos + gini_neg * n_neg) / n_total\n",
    "\n",
    "    assert not ig.isnan().any() # Ensure no NaNs\n",
    "\n",
    "    return ig\n",
    "\n",
    "angles, labels_onehot, comparisons_reshaped = preprocess(X, y)\n",
    "ig_est_functional = get_info_gains(comparisons_reshaped, labels_onehot)\n",
    "assert torch.allclose(ig_est_functional, ig_est, atol=1e-6)\n"
   ]
  },
  {
   "cell_type": "code",
   "execution_count": 43,
   "metadata": {},
   "outputs": [],
   "source": [
    "assert torch.allclose(ig_est_functional, info_gains_nonan[:, 1:], atol=1e-2) # Ensure the values are the same"
   ]
  },
  {
   "cell_type": "markdown",
   "metadata": {},
   "source": [
    "# Get best split"
   ]
  },
  {
   "cell_type": "code",
   "execution_count": 12,
   "metadata": {},
   "outputs": [],
   "source": [
    "# Quick sanity check: verify that for any n, d\n",
    "# We have the following:\n",
    "# angles[comparisons_reshaped[n, d] == 0., d] - angles[n, d] > 0\n",
    "# angles[comparisons_reshaped[n, d] == 1., d] - angles[n, d] <= 0\n",
    "\n",
    "# This follows directly from the definition of the comparisons tensor\n",
    "# This means that for any angle we consider, the negative class will have larger angles than the positive class\n",
    "# Therefore \n",
    "\n",
    "for n in range(angles.shape[0]):\n",
    "    for d in range(angles.shape[1]):\n",
    "        assert ((angles[comparisons_reshaped[n, d] == 0., d] - angles[n, d] + torch.pi) % (2 * torch.pi) > torch.pi).all()\n",
    "        assert ((angles[comparisons_reshaped[n, d] == 1., d] - angles[n, d] + torch.pi) % (2 * torch.pi) <= torch.pi).all()\n",
    "        assert comparisons_reshaped[n, d, n] == 1.\n",
    "        if comparisons_reshaped[n, d].sum() > 0 and comparisons_reshaped[n, d].sum() < comparisons_reshaped.shape[2]:\n",
    "            # The exact definition\n",
    "            assert (\n",
    "                ((angles[comparisons_reshaped[n, d] == 0., d] + torch.pi) % (2 * torch.pi)).min() > \n",
    "                ((angles[comparisons_reshaped[n, d] == 1., d] + torch.pi) % (2 * torch.pi)).max()\n",
    "            )"
   ]
  },
  {
   "cell_type": "code",
   "execution_count": 38,
   "metadata": {},
   "outputs": [
    {
     "name": "stdout",
     "output_type": "stream",
     "text": [
      "n: 560, d: 0, theta: 0.505*pi, info_gain: 0.430\n"
     ]
    }
   ],
   "source": [
    "# How can we retrieve the best split from an information gain matrix?\n",
    "# This is actually a little tough, because it involves computing midpoints and stuff\n",
    "\n",
    "def hyperbolic_midpoint(u, v, assert_hyperbolic=False):\n",
    "    w = torch.sin(2 * u - 2 * v) / (torch.sin(u + v) * torch.sin(v - u))\n",
    "    coef = -1 if u + v < torch.pi else 1\n",
    "    sol = (-w + coef * torch.sqrt(w ** 2 - 4)) / 2\n",
    "    m = torch.arctan2(torch.tensor(1), sol) % torch.pi\n",
    "    if assert_hyperbolic:\n",
    "        assert is_hyperbolic_midpoint(u, v, m)\n",
    "    return m\n",
    "\n",
    "def is_hyperbolic_midpoint(u, v, m):\n",
    "    a = lambda x: torch.sqrt(-1 / torch.cos(2 * x)) # Alpha coefficient to reach manifold\n",
    "    d = lambda x, y: a(x) * a(y) * torch.cos(x - y) # Hyperbolic distance function (angular)\n",
    "    return torch.isclose(d(u, m), d(m, v))\n",
    "\n",
    "def spherical_midpoint(u, v):\n",
    "    return (u + v) / 2\n",
    "\n",
    "def euclidean_midpoint(u, v):\n",
    "    return torch.arctan2(1, (torch.tan(u) + torch.tan(v)) / 2)\n",
    "\n",
    "def midpoint(u, v, manifold):\n",
    "    if torch.isclose(u, v):\n",
    "        return u\n",
    "    elif manifold.type == \"H\":\n",
    "        return hyperbolic_midpoint(u, v)\n",
    "    elif manifold.type == \"S\":\n",
    "        return spherical_midpoint(u, v)\n",
    "    else:\n",
    "        return euclidean_midpoint(u, v)\n",
    "\n",
    "def get_best_split(ig, angles, comparisons, pm=None):\n",
    "    \"\"\"\n",
    "    All of the postprocessing for an information gain check\n",
    "\n",
    "    Args:\n",
    "        ig: (query_batch, dims) tensor of information gains\n",
    "        angles: (query_batch, dims) tensor of angles\n",
    "        comparisons: (query_batch, dims, key_batch) tensor of comparisons\n",
    "        pm: ProductManifold object, for determining midpoint approach\n",
    "    \n",
    "    Returns:\n",
    "        n: scalar index of best split (positive class)\n",
    "        d: scalar dimension of best split\n",
    "        theta: scalar angle of best split\n",
    "    \"\"\"\n",
    "    # First, figure out the dimension (d) and sample (n)\n",
    "    best_split = ig.argmax()\n",
    "    nd = ig.shape[1]\n",
    "    n, d = best_split // nd, best_split % nd\n",
    "\n",
    "    # Get the corresponding angle\n",
    "    theta_pos = angles[n, d]\n",
    "\n",
    "    # We have the angle, but ideally we would like the *midpoint* angle.\n",
    "    # So we need to grab the closest angle from the negative class:\n",
    "    n_neg = (angles[comparisons_reshaped[n, d] == 0., d] - theta_pos).abs().argmin()\n",
    "    theta_neg = angles[comparisons_reshaped[n, d] == 0., d][n_neg]\n",
    "\n",
    "    # Get manifold\n",
    "    manifold = pm.P[pm.intrinsic2man[d.item()]]\n",
    "\n",
    "    # Print what you're doing\n",
    "    m = midpoint(theta_pos, theta_neg, manifold)\n",
    "\n",
    "    return n, d, m\n",
    "\n",
    "\n",
    "n, d, theta = get_best_split(ig_est_functional, angles, comparisons_reshaped, pm)\n",
    "print(f\"n: {n}, d: {d}, theta: {theta/torch.pi:.3f}*pi, info_gain: {ig_est_functional.max():.3f}\")"
   ]
  },
  {
   "cell_type": "markdown",
   "metadata": {},
   "source": [
    "# Compose splits"
   ]
  },
  {
   "cell_type": "code",
   "execution_count": 51,
   "metadata": {},
   "outputs": [
    {
     "name": "stdout",
     "output_type": "stream",
     "text": [
      "Comparisons neg: torch.Size([606, 4, 606])\n",
      "Comparisons pos: torch.Size([394, 4, 394])\n"
     ]
    }
   ],
   "source": [
    "# Composing splits is the final problem.\n",
    "# The issue to be aware of is that we need to keep track of the splits we've already made.\n",
    "# Luckily, our comparisons tensor allows us to index into the next comparisons tensor!\n",
    "\n",
    "mask = comparisons_reshaped[n, d].bool()\n",
    "comparisons_neg = comparisons_reshaped[mask][:, :, mask]\n",
    "comparisons_pos = comparisons_reshaped[~mask][:, :, ~mask]\n",
    "\n",
    "print(f\"Comparisons neg: {comparisons_neg.shape}\")\n",
    "print(f\"Comparisons pos: {comparisons_pos.shape}\")"
   ]
  },
  {
   "cell_type": "code",
   "execution_count": null,
   "metadata": {},
   "outputs": [],
   "source": []
  }
 ],
 "metadata": {
  "kernelspec": {
   "display_name": "embedders2",
   "language": "python",
   "name": "python3"
  },
  "language_info": {
   "codemirror_mode": {
    "name": "ipython",
    "version": 3
   },
   "file_extension": ".py",
   "mimetype": "text/x-python",
   "name": "python",
   "nbconvert_exporter": "python",
   "pygments_lexer": "ipython3",
   "version": "3.10.10"
  }
 },
 "nbformat": 4,
 "nbformat_minor": 2
}

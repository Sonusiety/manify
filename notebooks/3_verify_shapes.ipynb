{
 "cells": [
  {
   "cell_type": "code",
   "execution_count": 1,
   "metadata": {},
   "outputs": [],
   "source": [
    "%load_ext autoreload\n",
    "%autoreload 2"
   ]
  },
  {
   "cell_type": "code",
   "execution_count": 2,
   "metadata": {},
   "outputs": [],
   "source": [
    "import embedders"
   ]
  },
  {
   "cell_type": "code",
   "execution_count": 4,
   "metadata": {},
   "outputs": [],
   "source": [
    "signature = [(-2, 2), (-1, 2), (0, 2), (1, 2), (2, 2)]\n",
    "pm = embedders.manifolds.ProductManifold(signature=signature)\n",
    "x_embed = pm.initialize_embeddings(n_points=10)"
   ]
  },
  {
   "cell_type": "code",
   "execution_count": 8,
   "metadata": {},
   "outputs": [
    {
     "name": "stdout",
     "output_type": "stream",
     "text": [
      "Manifold: H_2.0^2,\t Shape: torch.Size([10, 10]),\t Min: 2.4999997443709383e-16,\t Max: 17.72288703918457\n",
      "Manifold: H_1.0^2,\t Shape: torch.Size([10, 10]),\t Min: 9.999998977483753e-16,\t Max: 33.23011016845703\n",
      "Manifold: E_0.0^2,\t Shape: torch.Size([10, 10]),\t Min: 0.0,\t Max: 15.27530288696289\n",
      "Manifold: S_1.0^2,\t Shape: torch.Size([10, 10]),\t Min: 0.00020003652025479823,\t Max: 9.37893295288086\n",
      "Manifold: S_2.0^2,\t Shape: torch.Size([10, 10]),\t Min: 5.000913006369956e-05,\t Max: 1.9647080898284912\n"
     ]
    }
   ],
   "source": [
    "for i, M in enumerate(pm.P):\n",
    "    pdists = M.pdist2(x_embed[:, pm.man2dim[i]])\n",
    "    print(f\"Manifold: {M.name},\\t Shape: {pdists.shape},\\t Min: {pdists.min()},\\t Max: {pdists.max()}\")"
   ]
  },
  {
   "cell_type": "code",
   "execution_count": null,
   "metadata": {},
   "outputs": [],
   "source": []
  }
 ],
 "metadata": {
  "kernelspec": {
   "display_name": "hdt",
   "language": "python",
   "name": "python3"
  },
  "language_info": {
   "codemirror_mode": {
    "name": "ipython",
    "version": 3
   },
   "file_extension": ".py",
   "mimetype": "text/x-python",
   "name": "python",
   "nbconvert_exporter": "python",
   "pygments_lexer": "ipython3",
   "version": "3.11.4"
  }
 },
 "nbformat": 4,
 "nbformat_minor": 2
}

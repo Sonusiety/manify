{
 "cells": [
  {
   "cell_type": "code",
   "execution_count": 1,
   "metadata": {},
   "outputs": [],
   "source": [
    "%load_ext autoreload\n",
    "%autoreload 2"
   ]
  },
  {
   "cell_type": "code",
   "execution_count": 6,
   "metadata": {},
   "outputs": [],
   "source": [
    "import embedders\n",
    "import torch"
   ]
  },
  {
   "cell_type": "code",
   "execution_count": 7,
   "metadata": {},
   "outputs": [],
   "source": [
    "signature = [(-2, 2), (-1, 2), (0, 2), (1, 2), (2, 2)]\n",
    "pm = embedders.manifolds.ProductManifold(signature=signature)\n",
    "x_embed = pm.initialize_embeddings(n_points=10)"
   ]
  },
  {
   "cell_type": "code",
   "execution_count": 51,
   "metadata": {},
   "outputs": [
    {
     "name": "stdout",
     "output_type": "stream",
     "text": [
      "Manifold: H_2.0^2,\t Shape: torch.Size([10, 10]),\t Min: 2.4999997443709383e-16,\t Max: 8.0040864944458\n",
      "Manifold: H_1.0^2,\t Shape: torch.Size([10, 10]),\t Min: 9.999998977483753e-16,\t Max: 16.294078826904297\n",
      "Manifold: E_0.0^2,\t Shape: torch.Size([10, 10]),\t Min: 0.0,\t Max: 15.195690155029297\n",
      "Manifold: S_1.0^2,\t Shape: torch.Size([10, 10]),\t Min: 0.00020003652025479823,\t Max: 7.767841815948486\n",
      "Manifold: S_2.0^2,\t Shape: torch.Size([10, 10]),\t Min: 5.000913006369956e-05,\t Max: 1.5605741739273071\n"
     ]
    }
   ],
   "source": [
    "for i, M in enumerate(pm.P):\n",
    "    dims = pm.man2dim[i]\n",
    "    pdists = M.pdist2(x_embed[:, dims])\n",
    "    print(f\"Manifold: {M.name},\\t Shape: {pdists.shape},\\t Min: {pdists.min()},\\t Max: {pdists.max()}\")\n",
    "\n",
    "    # Since I implemented these things a little differently, we should check that we can convert between distance types\n",
    "    assert torch.allclose(pdists.sqrt(), M.pdist(x_embed[:, dims]), atol=1e-4)\n",
    "\n",
    "    # Also we should check all entries\n",
    "    for j in range(pdists.shape[0]):\n",
    "        for k in range(j + 1, pdists.shape[1]):\n",
    "            assert torch.allclose(pdists[j, k], M.dist2(x_embed[j, dims], x_embed[k, dims]).sum(), atol=1e-6)"
   ]
  },
  {
   "cell_type": "code",
   "execution_count": null,
   "metadata": {},
   "outputs": [],
   "source": []
  }
 ],
 "metadata": {
  "kernelspec": {
   "display_name": "hdt",
   "language": "python",
   "name": "python3"
  },
  "language_info": {
   "codemirror_mode": {
    "name": "ipython",
    "version": 3
   },
   "file_extension": ".py",
   "mimetype": "text/x-python",
   "name": "python",
   "nbconvert_exporter": "python",
   "pygments_lexer": "ipython3",
   "version": "3.11.4"
  }
 },
 "nbformat": 4,
 "nbformat_minor": 2
}

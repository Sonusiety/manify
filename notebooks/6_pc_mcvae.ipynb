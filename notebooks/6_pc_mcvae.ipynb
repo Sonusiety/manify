{
 "cells": [
  {
   "cell_type": "code",
   "execution_count": 1,
   "metadata": {},
   "outputs": [],
   "source": [
    "%load_ext autoreload\n",
    "%autoreload 2"
   ]
  },
  {
   "cell_type": "code",
   "execution_count": 2,
   "metadata": {},
   "outputs": [],
   "source": [
    "# Get mnist, I guess (not using Keras)\n",
    "\n",
    "import torch\n",
    "import torch.nn.functional as F\n",
    "import torchvision\n",
    "\n",
    "from embedders.manifolds import ProductManifold\n",
    "from embedders.vae import ProductSpaceVAE\n",
    "\n",
    "mnist = torchvision.datasets.MNIST(\"./data\", download=True)"
   ]
  },
  {
   "cell_type": "code",
   "execution_count": 3,
   "metadata": {},
   "outputs": [
    {
     "name": "stdout",
     "output_type": "stream",
     "text": [
      "Using device: cuda\n"
     ]
    }
   ],
   "source": [
    "# Torch device management\n",
    "import torch\n",
    "\n",
    "if torch.cuda.is_available():\n",
    "    torch.cuda.set_device(0)\n",
    "    device = torch.device(\"cuda\")\n",
    "else:\n",
    "    device = torch.device(\"cpu\")\n",
    "\n",
    "print(f\"Using device: {device}\")"
   ]
  },
  {
   "cell_type": "code",
   "execution_count": 4,
   "metadata": {},
   "outputs": [
    {
     "data": {
      "text/plain": [
       "torch.Size([60000, 28, 28])"
      ]
     },
     "execution_count": 4,
     "metadata": {},
     "output_type": "execute_result"
    }
   ],
   "source": [
    "mnist.data.shape"
   ]
  },
  {
   "cell_type": "code",
   "execution_count": 5,
   "metadata": {},
   "outputs": [
    {
     "data": {
      "text/plain": [
       "<matplotlib.image.AxesImage at 0x7f3e48d35f60>"
      ]
     },
     "execution_count": 5,
     "metadata": {},
     "output_type": "execute_result"
    },
    {
     "data": {
      "image/png": "[encoded data removed]",
      "text/plain": [
       "<Figure size 640x480 with 1 Axes>"
      ]
     },
     "metadata": {},
     "output_type": "display_data"
    }
   ],
   "source": [
    "import matplotlib.pyplot as plt\n",
    "\n",
    "plt.imshow(mnist.data[1234].detach().numpy(), cmap=\"gray_r\")"
   ]
  },
  {
   "cell_type": "code",
   "execution_count": 6,
   "metadata": {},
   "outputs": [],
   "source": [
    "class Encoder(torch.nn.Module):\n",
    "    def __init__(self, pm):\n",
    "        super().__init__()\n",
    "        self.pm = pm\n",
    "        self.fc1 = torch.nn.Linear(28 * 28, 256)\n",
    "        self.fc2 = torch.nn.Linear(256, 64)\n",
    "        self.fc3_z_mean = torch.nn.Linear(64, pm.dim)  # Use ambient dim\n",
    "        self.fc3_z_logvar = torch.nn.Linear(64, pm.dim)\n",
    "\n",
    "    def forward(self, x):\n",
    "        h1 = F.relu(self.fc1(x))\n",
    "        h2 = F.relu(self.fc2(h1))\n",
    "        z_mean_tangent = self.fc3_z_mean(h2)\n",
    "        z_logvar = self.fc3_z_logvar(h2)\n",
    "\n",
    "        z_mean = pm.manifold.expmap(x=pm.mu0, u=z_mean_tangent @ pm.projection_matrix)\n",
    "\n",
    "        return z_mean, z_logvar\n",
    "\n",
    "\n",
    "class Decoder(torch.nn.Module):\n",
    "    def __init__(self, pm):\n",
    "        super().__init__()\n",
    "        self.pm = pm\n",
    "        self.fc1 = torch.nn.Linear(pm.ambient_dim, 64)\n",
    "        self.fc2 = torch.nn.Linear(64, 256)\n",
    "        self.fc3 = torch.nn.Linear(256, 28 * 28)\n",
    "\n",
    "    def forward(self, z):\n",
    "        h1 = F.relu(self.fc1(z))\n",
    "        h2 = F.relu(self.fc2(h1))\n",
    "        x_recon = torch.sigmoid(self.fc3(h2))\n",
    "\n",
    "        return x_recon"
   ]
  },
  {
   "cell_type": "code",
   "execution_count": 8,
   "metadata": {},
   "outputs": [
    {
     "data": {
      "application/vnd.jupyter.widget-view+json": {
       "model_id": "4c33e14529a545d9b4f7d39251bc9a24",
       "version_major": 2,
       "version_minor": 0
      },
      "text/plain": [
       "  0%|          | 0/600000 [00:00<?, ?it/s]"
      ]
     },
     "metadata": {},
     "output_type": "display_data"
    },
    {
     "name": "stdout",
     "output_type": "stream",
     "text": [
      "NANs in parallel transport\n",
      "Loss is NaN at iteration 25216\n",
      "NANs in parallel transport\n",
      "NANs in parallel transport\n",
      "Loss is NaN at iteration 41344\n",
      "NANs in parallel transport\n",
      "NANs in parallel transport\n",
      "Loss is NaN at iteration 59392\n",
      "Loss is inf at iteration 5888\n",
      "NANs in parallel transport\n",
      "NANs in parallel transport\n",
      "Loss is NaN at iteration 10112\n",
      "NANs in parallel transport\n",
      "Loss is NaN at iteration 10240\n",
      "NANs in parallel transport\n",
      "NANs in parallel transport\n",
      "Loss is NaN at iteration 11648\n",
      "Loss is inf at iteration 23296\n",
      "NANs in parallel transport\n",
      "NANs in parallel transport\n",
      "Loss is NaN at iteration 25216\n",
      "NANs in parallel transport\n",
      "NANs in parallel transport\n",
      "Loss is NaN at iteration 30976\n",
      "Loss is inf at iteration 31360\n",
      "Loss is inf at iteration 37120\n",
      "NANs in parallel transport\n",
      "NANs in parallel transport\n",
      "Loss is NaN at iteration 37504\n",
      "NANs in parallel transport\n",
      "NANs in parallel transport\n",
      "Loss is NaN at iteration 41344\n",
      "Loss is inf at iteration 59264\n",
      "NANs in parallel transport\n",
      "Loss is NaN at iteration 59392\n",
      "NANs in parallel transport\n",
      "NANs in parallel transport\n",
      "Loss is NaN at iteration 5888\n",
      "Loss is inf at iteration 7936\n",
      "NANs in parallel transport\n",
      "NANs in parallel transport\n",
      "Loss is NaN at iteration 10112\n",
      "NANs in parallel transport\n",
      "NANs in parallel transport\n",
      "Loss is NaN at iteration 10240\n",
      "Loss is inf at iteration 13184\n",
      "NANs in parallel transport\n",
      "NANs in parallel transport\n",
      "Loss is NaN at iteration 25216\n",
      "NANs in parallel transport\n",
      "Loss is NaN at iteration 30976\n",
      "Loss is inf at iteration 36736\n",
      "Loss is inf at iteration 37504\n",
      "NANs in parallel transport\n",
      "NANs in parallel transport\n",
      "Loss is NaN at iteration 41344\n",
      "Loss is inf at iteration 59392\n",
      "NANs in parallel transport\n",
      "NANs in parallel transport\n",
      "Loss is NaN at iteration 5888\n",
      "NANs in parallel transport\n",
      "Loss is NaN at iteration 10112\n",
      "NANs in parallel transport\n",
      "NANs in parallel transport\n",
      "Loss is NaN at iteration 10240\n",
      "NANs in parallel transport\n",
      "NANs in parallel transport\n",
      "Loss is NaN at iteration 25216\n",
      "Loss is inf at iteration 29312\n",
      "Loss is inf at iteration 30976\n",
      "NANs in parallel transport\n",
      "NANs in parallel transport\n",
      "Loss is NaN at iteration 41344\n",
      "Loss is inf at iteration 41856\n",
      "Loss is inf at iteration 48128\n",
      "Loss is inf at iteration 59264\n",
      "NANs in parallel transport\n",
      "Loss is NaN at iteration 59392\n",
      "NANs in parallel transport\n",
      "NANs in parallel transport\n",
      "Loss is NaN at iteration 4096\n",
      "NANs in parallel transport\n",
      "Loss is NaN at iteration 5888\n",
      "NANs in parallel transport\n",
      "Loss is NaN at iteration 10112\n",
      "NANs in parallel transport\n",
      "Loss is NaN at iteration 10240\n",
      "Loss is inf at iteration 16640\n",
      "NANs in parallel transport\n",
      "NANs in parallel transport\n",
      "Loss is NaN at iteration 25216\n",
      "NANs in parallel transport\n",
      "NANs in parallel transport\n",
      "Loss is NaN at iteration 37504\n",
      "NANs in parallel transport\n",
      "Loss is NaN at iteration 41344\n",
      "NANs in parallel transport\n",
      "Loss is NaN at iteration 59264\n",
      "NANs in parallel transport\n",
      "Loss is NaN at iteration 59392\n",
      "NANs in parallel transport\n",
      "NANs in parallel transport\n",
      "Loss is NaN at iteration 5888\n",
      "NANs in parallel transport\n",
      "Loss is NaN at iteration 10112\n",
      "NANs in parallel transport\n",
      "Loss is NaN at iteration 10240\n",
      "NANs in parallel transport\n",
      "NANs in parallel transport\n",
      "Loss is NaN at iteration 17536\n",
      "NANs in parallel transport\n",
      "Loss is NaN at iteration 25216\n",
      "NANs in parallel transport\n",
      "NANs in parallel transport\n",
      "Loss is NaN at iteration 29312\n",
      "NANs in parallel transport\n",
      "NANs in parallel transport\n",
      "Loss is NaN at iteration 30976\n",
      "NANs in parallel transport\n",
      "NANs in parallel transport\n",
      "Loss is NaN at iteration 37504\n",
      "Loss is inf at iteration 39424\n",
      "NANs in parallel transport\n",
      "NANs in parallel transport\n",
      "Loss is NaN at iteration 41344\n",
      "Loss is inf at iteration 47616\n",
      "NANs in parallel transport\n",
      "NANs in parallel transport\n",
      "Loss is NaN at iteration 59264\n",
      "NANs in parallel transport\n",
      "Loss is NaN at iteration 59392\n",
      "Loss is inf at iteration 1920\n",
      "NANs in parallel transport\n",
      "NANs in parallel transport\n",
      "Loss is NaN at iteration 4096\n",
      "NANs in parallel transport\n",
      "Loss is NaN at iteration 5888\n",
      "NANs in parallel transport\n",
      "Loss is NaN at iteration 10112\n",
      "NANs in parallel transport\n",
      "NANs in parallel transport\n",
      "Loss is NaN at iteration 10240\n",
      "Loss is inf at iteration 11648\n",
      "Loss is inf at iteration 23296\n",
      "NANs in parallel transport\n",
      "NANs in parallel transport\n",
      "Loss is NaN at iteration 25216\n",
      "Loss is inf at iteration 29312\n",
      "NANs in parallel transport\n",
      "NANs in parallel transport\n",
      "Loss is NaN at iteration 30976\n",
      "Loss is inf at iteration 36736\n",
      "Loss is inf at iteration 37120\n",
      "Loss is inf at iteration 37504\n",
      "NANs in parallel transport\n",
      "NANs in parallel transport\n",
      "Loss is NaN at iteration 41344\n",
      "NANs in parallel transport\n",
      "NANs in parallel transport\n",
      "Loss is NaN at iteration 59264\n",
      "NANs in parallel transport\n",
      "Loss is NaN at iteration 59392\n"
     ]
    },
    {
     "data": {
      "image/png": "[encoded data removed]",
      "text/plain": [
       "<Figure size 640x480 with 1 Axes>"
      ]
     },
     "metadata": {},
     "output_type": "display_data"
    }
   ],
   "source": [
    "from tqdm.notebook import tqdm\n",
    "import matplotlib.pyplot as plt\n",
    "\n",
    "BATCH_SIZE = 128\n",
    "\n",
    "# Manifold stuff\n",
    "pm = ProductManifold([(-1, 2), (0, 2), (1, 2)])\n",
    "vae = ProductSpaceVAE(product_manifold=pm, encoder=Encoder(pm), decoder=Decoder(pm), beta=1.0, device=device)\n",
    "\n",
    "# Training stuff\n",
    "X_train = mnist.data.float().view(-1, 28 * 28) / 255.0\n",
    "opt = torch.optim.Adam(vae.parameters(), lr=5e-6)\n",
    "\n",
    "# Visualization stuff\n",
    "my_tqdm = tqdm(total=10 * len(X_train))\n",
    "fig, ax = plt.subplots()  # Create a figure and a set of subplots\n",
    "\n",
    "# Device stuff\n",
    "vae = vae.to(device)\n",
    "X_train = X_train.to(device)\n",
    "pm = pm.to(device)\n",
    "\n",
    "\n",
    "# Gradient checking stuff\n",
    "def grads_ok(vae):\n",
    "    out = True\n",
    "    for name, param in vae.named_parameters():\n",
    "        if param.grad is not None:\n",
    "            if torch.isnan(param.grad).any():\n",
    "                print(f\"NaN gradient in {name}\")\n",
    "                out = False\n",
    "            if torch.isinf(param.grad).any():\n",
    "                print(f\"Inf gradient in {name}\")\n",
    "                out = False\n",
    "    return out\n",
    "\n",
    "\n",
    "for epoch, lr in enumerate([1e-7, 1e-6, 5e-6, 1e-5, 5e-5, 5e-5, 5e-5, 5e-5, 5e-5, 5e-5]):\n",
    "    opt.param_groups[0][\"lr\"] = lr\n",
    "    for i in range(0, len(X_train), BATCH_SIZE):\n",
    "        x_batch = X_train[i : i + BATCH_SIZE]\n",
    "\n",
    "        elbo, ll, kl = vae.elbo(x_batch)\n",
    "        loss = -elbo\n",
    "\n",
    "        opt.zero_grad()\n",
    "        loss.backward()\n",
    "\n",
    "        # Gradient clipping\n",
    "        # torch.nn.utils.clip_grad_norm_(vae.parameters(), 1.0)\n",
    "        if torch.isnan(loss):\n",
    "            print(f\"Loss is NaN at iteration {i}\")\n",
    "        elif torch.isinf(loss):\n",
    "            print(f\"Loss is inf at iteration {i}\")\n",
    "        elif grads_ok(vae):\n",
    "            opt.step()\n",
    "\n",
    "        if i % 100 * BATCH_SIZE == 0:\n",
    "            z_mean, z_sigma = vae.encoder(x_batch)\n",
    "            my_tqdm.set_postfix({\"Example latent\": \", \".join([f\"{x:.2f}\" for x in z_mean[0]])})\n",
    "\n",
    "        my_tqdm.update(BATCH_SIZE)\n",
    "        my_tqdm.set_description(f\"Epoch {epoch}, loss: {loss.item():.1f}, ll: {ll.item():.1f}, kl: {kl.item():.1f}\")"
   ]
  },
  {
   "cell_type": "code",
   "execution_count": 16,
   "metadata": {},
   "outputs": [
    {
     "data": {
      "image/png": "[encoded data removed]",
      "text/plain": [
       "<Figure size 500x1250 with 10 Axes>"
      ]
     },
     "metadata": {},
     "output_type": "display_data"
    }
   ],
   "source": [
    "# Let's try a reconstruction\n",
    "N_RECONSTRUCTIONS = 5\n",
    "\n",
    "x = X_train[torch.randint(low=0, high=len(X_train), size=(N_RECONSTRUCTIONS,))]\n",
    "x_recon, z_mean, z_logvar = vae(x.view(-1, 28 * 28))\n",
    "\n",
    "fig, axs = plt.subplots(N_RECONSTRUCTIONS, 2, figsize=(5, 5*N_RECONSTRUCTIONS/2))\n",
    "for i in range(N_RECONSTRUCTIONS):\n",
    "    axs[i, 0].imshow(x[i].view(28, 28).detach().cpu().numpy(), cmap=\"gray_r\")\n",
    "    axs[i, 1].imshow(x_recon[i].view(28, 28).detach().cpu().numpy(), cmap=\"gray_r\")"
   ]
  },
  {
   "cell_type": "code",
   "execution_count": null,
   "metadata": {},
   "outputs": [],
   "source": []
  }
 ],
 "metadata": {
  "kernelspec": {
   "display_name": "cloudspace",
   "language": "python",
   "name": "python3"
  },
  "language_info": {
   "codemirror_mode": {
    "name": "ipython",
    "version": 3
   },
   "file_extension": ".py",
   "mimetype": "text/x-python",
   "name": "python",
   "nbconvert_exporter": "python",
   "pygments_lexer": "ipython3",
   "version": "3.10.10"
  }
 },
 "nbformat": 4,
 "nbformat_minor": 2
}

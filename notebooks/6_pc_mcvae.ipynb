{
 "cells": [
  {
   "cell_type": "code",
   "execution_count": 1,
   "metadata": {},
   "outputs": [],
   "source": [
    "%load_ext autoreload\n",
    "%autoreload 2"
   ]
  },
  {
   "cell_type": "code",
   "execution_count": 2,
   "metadata": {},
   "outputs": [],
   "source": [
    "# Get mnist, I guess (not using Keras)\n",
    "\n",
    "import torch\n",
    "import torch.nn.functional as F\n",
    "import torchvision\n",
    "\n",
    "from embedders.manifolds import ProductManifold\n",
    "from embedders.vae import ProductSpaceVAE\n",
    "\n",
    "mnist = torchvision.datasets.MNIST(\"./data\", download=True)"
   ]
  },
  {
   "cell_type": "code",
   "execution_count": 3,
   "metadata": {},
   "outputs": [
    {
     "name": "stdout",
     "output_type": "stream",
     "text": [
      "Using device: cuda\n"
     ]
    }
   ],
   "source": [
    "# Torch device management\n",
    "import torch\n",
    "\n",
    "if torch.cuda.is_available():\n",
    "    torch.cuda.set_device(0)\n",
    "    device = torch.device(\"cuda\")\n",
    "else:\n",
    "    device = torch.device(\"cpu\")\n",
    "\n",
    "print(f\"Using device: {device}\")"
   ]
  },
  {
   "cell_type": "code",
   "execution_count": 4,
   "metadata": {},
   "outputs": [
    {
     "data": {
      "text/plain": [
       "torch.Size([60000, 28, 28])"
      ]
     },
     "execution_count": 4,
     "metadata": {},
     "output_type": "execute_result"
    }
   ],
   "source": [
    "mnist.data.shape"
   ]
  },
  {
   "cell_type": "code",
   "execution_count": 5,
   "metadata": {},
   "outputs": [
    {
     "data": {
      "text/plain": [
       "<matplotlib.image.AxesImage at 0x7fe67d895ea0>"
      ]
     },
     "execution_count": 5,
     "metadata": {},
     "output_type": "execute_result"
    },
    {
     "data": {
      "image/png": "[encoded data removed]",
      "text/plain": [
       "<Figure size 640x480 with 1 Axes>"
      ]
     },
     "metadata": {},
     "output_type": "display_data"
    }
   ],
   "source": [
    "import matplotlib.pyplot as plt\n",
    "\n",
    "plt.imshow(mnist.data[1234].detach().numpy(), cmap=\"gray_r\")"
   ]
  },
  {
   "cell_type": "code",
   "execution_count": 6,
   "metadata": {},
   "outputs": [],
   "source": [
    "class Encoder(torch.nn.Module):\n",
    "    def __init__(self, pm):\n",
    "        super().__init__()\n",
    "        self.pm = pm\n",
    "        self.fc1 = torch.nn.Linear(28 * 28, 256)\n",
    "        self.fc3_z_mean = torch.nn.Linear(256, pm.dim)  # Use ambient dim\n",
    "        self.fc3_z_logvar = torch.nn.Linear(256, pm.dim)\n",
    "\n",
    "    def forward(self, x):\n",
    "        h1 = F.relu(self.fc1(x))\n",
    "        z_mean_tangent = self.fc3_z_mean(h1)\n",
    "        z_logvar = self.fc3_z_logvar(h1)\n",
    "\n",
    "        z_mean = pm.manifold.expmap(x=pm.mu0, u=z_mean_tangent @ pm.projection_matrix)\n",
    "\n",
    "        return z_mean, z_logvar\n",
    "\n",
    "\n",
    "class Decoder(torch.nn.Module):\n",
    "    def __init__(self, pm):\n",
    "        super().__init__()\n",
    "        self.pm = pm\n",
    "        self.fc1 = torch.nn.Linear(pm.ambient_dim, 256)\n",
    "        # self.fc2 = torch.nn.Linear(64, 256)\n",
    "        self.fc3 = torch.nn.Linear(256, 28 * 28)\n",
    "\n",
    "    def forward(self, z):\n",
    "        h1 = F.relu(self.fc1(z))\n",
    "        # h2 = F.relu(self.fc2(h1))\n",
    "        x_recon = torch.sigmoid(self.fc3(h1))\n",
    "\n",
    "        return x_recon"
   ]
  },
  {
   "cell_type": "code",
   "execution_count": 8,
   "metadata": {},
   "outputs": [
    {
     "data": {
      "application/vnd.jupyter.widget-view+json": {
       "model_id": "cadb0b93a27e4940acb29799763f771b",
       "version_major": 2,
       "version_minor": 0
      },
      "text/plain": [
       "  0%|          | 0/300000 [00:00<?, ?it/s]"
      ]
     },
     "metadata": {},
     "output_type": "display_data"
    }
   ],
   "source": [
    "from tqdm.notebook import tqdm\n",
    "import matplotlib.pyplot as plt\n",
    "\n",
    "SIGNATURE = [(-1, 16), (0, 16), (1, 16)]\n",
    "BATCH_SIZE = 64\n",
    "N_EPOCHS = 5\n",
    "LR = 1e-5\n",
    "BETA = 0.1\n",
    "N_SAMPLES = 32\n",
    "CLIP_GRAD = False\n",
    "\n",
    "# Manifold stuff\n",
    "# pm = ProductManifold([(-1, 2), (0, 2), (1, 2)])\n",
    "pm = ProductManifold(SIGNATURE)\n",
    "vae = ProductSpaceVAE(\n",
    "    product_manifold=pm, encoder=Encoder(pm), decoder=Decoder(pm), beta=BETA, n_samples=N_SAMPLES, device=device\n",
    ")\n",
    "\n",
    "# Training stuff\n",
    "X_train = mnist.data.float().view(-1, 28 * 28) / 255.0\n",
    "opt = torch.optim.Adam(vae.parameters(), lr=LR)\n",
    "\n",
    "# Visualization stuff\n",
    "my_tqdm = tqdm(total=N_EPOCHS * len(X_train))\n",
    "\n",
    "# Device stuff\n",
    "vae = vae.to(device)\n",
    "X_train = X_train.to(device)\n",
    "pm = pm.to(device)\n",
    "\n",
    "\n",
    "# Gradient checking stuff\n",
    "def grads_ok(vae):\n",
    "    out = True\n",
    "    for name, param in vae.named_parameters():\n",
    "        if param.grad is not None:\n",
    "            if torch.isnan(param.grad).any():\n",
    "                print(f\"NaN gradient in {name}\")\n",
    "                out = False\n",
    "            if torch.isinf(param.grad).any():\n",
    "                print(f\"Inf gradient in {name}\")\n",
    "                out = False\n",
    "    return out\n",
    "\n",
    "\n",
    "L = torch.nn.MSELoss(reduction=\"none\")\n",
    "for epoch in range(N_EPOCHS):\n",
    "    # opt.param_groups[0][\"lr\"] = lr\n",
    "    for i in range(0, len(X_train), BATCH_SIZE):\n",
    "        x_batch = X_train[i : i + BATCH_SIZE]\n",
    "\n",
    "        elbo, ll, kl = vae.elbo(x_batch)\n",
    "        loss = -elbo\n",
    "\n",
    "        opt.zero_grad()\n",
    "        loss.backward()\n",
    "\n",
    "        # Gradient clipping\n",
    "        if CLIP_GRAD:\n",
    "            torch.nn.utils.clip_grad_norm_(vae.parameters(), 1.0)\n",
    "        if torch.isnan(loss):\n",
    "            print(f\"Loss is NaN at iteration {i}\")\n",
    "        elif torch.isinf(loss):\n",
    "            print(f\"Loss is inf at iteration {i}\")\n",
    "        elif grads_ok(vae):\n",
    "            opt.step()\n",
    "\n",
    "        # if i % 100 * BATCH_SIZE == 0:\n",
    "        #     z_mean, z_sigma = vae.encoder(x_batch)\n",
    "        #     my_tqdm.set_postfix({\"Example latent\": \", \".join([f\"{x:.2f}\" for x in z_mean[0]])})\n",
    "\n",
    "        my_tqdm.update(BATCH_SIZE)\n",
    "        my_tqdm.set_description(f\"Epoch {epoch}, loss: {loss.item():.1f}, ll: {ll.item():.1f}, kl: {kl.item():.1f}\")"
   ]
  },
  {
   "cell_type": "code",
   "execution_count": 9,
   "metadata": {},
   "outputs": [
    {
     "name": "stdout",
     "output_type": "stream",
     "text": [
      "z mean variance: 0.7404361367225647\n",
      "z logvar variance: 13.457897186279297\n",
      "x_recon variance: 0.052793435752391815\n"
     ]
    },
    {
     "data": {
      "image/png": "[encoded data removed]",
      "text/plain": [
       "<Figure size 500x1250 with 10 Axes>"
      ]
     },
     "metadata": {},
     "output_type": "display_data"
    }
   ],
   "source": [
    "# Let's try a reconstruction\n",
    "N_RECONSTRUCTIONS = 5\n",
    "\n",
    "x = X_train[torch.randint(low=0, high=len(X_train), size=(N_RECONSTRUCTIONS,))]\n",
    "x_recon, z_mean, sigma = vae(x.view(-1, 28 * 28))\n",
    "\n",
    "fig, axs = plt.subplots(N_RECONSTRUCTIONS, 2, figsize=(5, 5 * N_RECONSTRUCTIONS / 2))\n",
    "for i in range(N_RECONSTRUCTIONS):\n",
    "    axs[i, 0].imshow(x[i].view(28, 28).detach().cpu().numpy(), cmap=\"gray_r\")\n",
    "    axs[i, 1].imshow(x_recon[i].view(28, 28).detach().cpu().numpy(), cmap=\"gray_r\")\n",
    "\n",
    "print(f\"z mean variance: {z_mean.var(dim=0).mean().item()}\")\n",
    "print(f\"z logvar variance: {sigma.var(dim=0).mean().item()}\")\n",
    "print(f\"x_recon variance: {x_recon.var().item()}\")"
   ]
  },
  {
   "cell_type": "code",
   "execution_count": null,
   "metadata": {},
   "outputs": [],
   "source": []
  },
  {
   "cell_type": "code",
   "execution_count": null,
   "metadata": {},
   "outputs": [
    {
     "data": {
      "text/plain": [
       "tensor([[[3.5733e+00, 1.0000e+00, 1.0000e+00,  ..., 1.0000e+00,\n",
       "          1.0000e+00, 1.0000e+00],\n",
       "         [1.0000e+00, 5.3354e+02, 1.0000e+00,  ..., 1.0000e+00,\n",
       "          1.0000e+00, 1.0000e+00],\n",
       "         [1.0000e+00, 1.0000e+00, 1.9099e+00,  ..., 1.0000e+00,\n",
       "          1.0000e+00, 1.0000e+00],\n",
       "         ...,\n",
       "         [1.0000e+00, 1.0000e+00, 1.0000e+00,  ..., 3.5696e+01,\n",
       "          1.0000e+00, 1.0000e+00],\n",
       "         [1.0000e+00, 1.0000e+00, 1.0000e+00,  ..., 1.0000e+00,\n",
       "          1.1972e+00, 1.0000e+00],\n",
       "         [1.0000e+00, 1.0000e+00, 1.0000e+00,  ..., 1.0000e+00,\n",
       "          1.0000e+00, 1.1346e+00]],\n",
       "\n",
       "        [[3.6516e+00, 1.0000e+00, 1.0000e+00,  ..., 1.0000e+00,\n",
       "          1.0000e+00, 1.0000e+00],\n",
       "         [1.0000e+00, 1.8000e+03, 1.0000e+00,  ..., 1.0000e+00,\n",
       "          1.0000e+00, 1.0000e+00],\n",
       "         [1.0000e+00, 1.0000e+00, 1.8901e+00,  ..., 1.0000e+00,\n",
       "          1.0000e+00, 1.0000e+00],\n",
       "         ...,\n",
       "         [1.0000e+00, 1.0000e+00, 1.0000e+00,  ..., 6.7089e+01,\n",
       "          1.0000e+00, 1.0000e+00],\n",
       "         [1.0000e+00, 1.0000e+00, 1.0000e+00,  ..., 1.0000e+00,\n",
       "          1.1476e+00, 1.0000e+00],\n",
       "         [1.0000e+00, 1.0000e+00, 1.0000e+00,  ..., 1.0000e+00,\n",
       "          1.0000e+00, 1.1005e+00]],\n",
       "\n",
       "        [[3.5458e+00, 1.0000e+00, 1.0000e+00,  ..., 1.0000e+00,\n",
       "          1.0000e+00, 1.0000e+00],\n",
       "         [1.0000e+00, 2.8620e+07, 1.0000e+00,  ..., 1.0000e+00,\n",
       "          1.0000e+00, 1.0000e+00],\n",
       "         [1.0000e+00, 1.0000e+00, 1.7381e+00,  ..., 1.0000e+00,\n",
       "          1.0000e+00, 1.0000e+00],\n",
       "         ...,\n",
       "         [1.0000e+00, 1.0000e+00, 1.0000e+00,  ..., 1.3188e+03,\n",
       "          1.0000e+00, 1.0000e+00],\n",
       "         [1.0000e+00, 1.0000e+00, 1.0000e+00,  ..., 1.0000e+00,\n",
       "          1.0550e+00, 1.0000e+00],\n",
       "         [1.0000e+00, 1.0000e+00, 1.0000e+00,  ..., 1.0000e+00,\n",
       "          1.0000e+00, 1.0374e+00]],\n",
       "\n",
       "        [[3.3601e+00, 1.0000e+00, 1.0000e+00,  ..., 1.0000e+00,\n",
       "          1.0000e+00, 1.0000e+00],\n",
       "         [1.0000e+00, 1.6601e+03, 1.0000e+00,  ..., 1.0000e+00,\n",
       "          1.0000e+00, 1.0000e+00],\n",
       "         [1.0000e+00, 1.0000e+00, 1.8228e+00,  ..., 1.0000e+00,\n",
       "          1.0000e+00, 1.0000e+00],\n",
       "         ...,\n",
       "         [1.0000e+00, 1.0000e+00, 1.0000e+00,  ..., 4.2186e+01,\n",
       "          1.0000e+00, 1.0000e+00],\n",
       "         [1.0000e+00, 1.0000e+00, 1.0000e+00,  ..., 1.0000e+00,\n",
       "          1.1595e+00, 1.0000e+00],\n",
       "         [1.0000e+00, 1.0000e+00, 1.0000e+00,  ..., 1.0000e+00,\n",
       "          1.0000e+00, 1.1181e+00]],\n",
       "\n",
       "        [[3.2320e+00, 1.0000e+00, 1.0000e+00,  ..., 1.0000e+00,\n",
       "          1.0000e+00, 1.0000e+00],\n",
       "         [1.0000e+00, 5.5670e+01, 1.0000e+00,  ..., 1.0000e+00,\n",
       "          1.0000e+00, 1.0000e+00],\n",
       "         [1.0000e+00, 1.0000e+00, 1.9429e+00,  ..., 1.0000e+00,\n",
       "          1.0000e+00, 1.0000e+00],\n",
       "         ...,\n",
       "         [1.0000e+00, 1.0000e+00, 1.0000e+00,  ..., 1.2027e+01,\n",
       "          1.0000e+00, 1.0000e+00],\n",
       "         [1.0000e+00, 1.0000e+00, 1.0000e+00,  ..., 1.0000e+00,\n",
       "          1.3459e+00, 1.0000e+00],\n",
       "         [1.0000e+00, 1.0000e+00, 1.0000e+00,  ..., 1.0000e+00,\n",
       "          1.0000e+00, 1.2470e+00]]], device='cuda:0', grad_fn=<ExpBackward0>)"
      ]
     },
     "execution_count": 34,
     "metadata": {},
     "output_type": "execute_result"
    }
   ],
   "source": [
    "z_logvar.exp()"
   ]
  },
  {
   "cell_type": "code",
   "execution_count": null,
   "metadata": {},
   "outputs": [
    {
     "data": {
      "text/plain": [
       "tensor([1., 2., 3.])"
      ]
     },
     "execution_count": 20,
     "metadata": {},
     "output_type": "execute_result"
    }
   ],
   "source": [
    "_x = torch.repeat_interleave(torch.Tensor([[1], [2], [3]]), dim=0, repeats=5)\n",
    "_x.view(-1, 5).mean(dim=1)"
   ]
  },
  {
   "cell_type": "code",
   "execution_count": null,
   "metadata": {},
   "outputs": [],
   "source": []
  }
 ],
 "metadata": {
  "kernelspec": {
   "display_name": "cloudspace",
   "language": "python",
   "name": "python3"
  },
  "language_info": {
   "codemirror_mode": {
    "name": "ipython",
    "version": 3
   },
   "file_extension": ".py",
   "mimetype": "text/x-python",
   "name": "python",
   "nbconvert_exporter": "python",
   "pygments_lexer": "ipython3",
   "version": "3.10.10"
  }
 },
 "nbformat": 4,
 "nbformat_minor": 2
}

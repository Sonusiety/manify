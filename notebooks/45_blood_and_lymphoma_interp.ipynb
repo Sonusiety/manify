{
 "cells": [
  {
   "cell_type": "code",
   "execution_count": null,
   "metadata": {},
   "outputs": [],
   "source": [
    "# Load blood dataset and train model\n",
    "\n",
    "import embedders\n",
    "import numpy as np\n",
    "\n",
    "embedding = \"blood_cell_scrna\"\n",
    "trial = 0\n",
    "\n",
    "X_train = np.load(f\"../data/{embedding}/embeddings/X_train_{trial}.npy\")\n",
    "y_train = np.load(f\"../data/{embedding}/embeddings/y_train_{trial}.npy\")\n",
    "X_test = np.load(f\"../data/{embedding}/embeddings/X_test_{trial}.npy\")\n",
    "y_test = np.load(f\"../data/{embedding}/embeddings/y_test_{trial}.npy\")"
   ]
  },
  {
   "cell_type": "code",
   "execution_count": 3,
   "metadata": {},
   "outputs": [],
   "source": [
    "# Downsample to 1000 points each\n",
    "\n",
    "train_downsample = np.random.choice(X_train.shape[0], 1000, replace=False)\n",
    "test_downsample = np.random.choice(X_test.shape[0], 1000, replace=False)\n",
    "\n",
    "X_train = X_train[train_downsample]\n",
    "y_train = y_train[train_downsample]"
   ]
  },
  {
   "cell_type": "code",
   "execution_count": 8,
   "metadata": {},
   "outputs": [],
   "source": [
    "sig = [(1, 2), (0, 2), (-1, 2), (-1, 2), (-1, 2)]\n",
    "pm = embedders.manifolds.ProductManifold(signature=sig)\n",
    "pdt = embedders.predictors.tree_new.ProductSpaceDT(pm=pm, max_depth=3, n_features=\"d_choose_2\")\n",
    "pdt.fit(X_train, y_train)"
   ]
  },
  {
   "cell_type": "code",
   "execution_count": 18,
   "metadata": {},
   "outputs": [
    {
     "data": {
      "text/plain": [
       "[3, 0, 0, 0, 1, 4, 1]"
      ]
     },
     "execution_count": 18,
     "metadata": {},
     "output_type": "execute_result"
    }
   ],
   "source": [
    "# Which manifolds do our nodes fall into?\n",
    "from collections import Counter \n",
    "\n",
    "[pm.dim2man[pdt.angle_dims[node.feature][1]] for node in pdt.nodes if node.feature is not None]"
   ]
  },
  {
   "cell_type": "code",
   "execution_count": null,
   "metadata": {},
   "outputs": [
    {
     "name": "stdout",
     "output_type": "stream",
     "text": [
      "Counter({3: 2, 2: 2, 1: 2, 0: 1})\n",
      "Counter({3: 5, 4: 1, 2: 1})\n",
      "Counter({0: 3, 2: 2, 1: 2})\n",
      "Counter({4: 2, 1: 2, 2: 1, 3: 1, 0: 1})\n",
      "Counter({3: 3, 2: 2, 0: 1, 1: 1})\n",
      "Counter({1: 3, 2: 2, 4: 1, 0: 1})\n",
      "Counter({3: 2, 0: 2, 2: 2, 1: 1})\n",
      "Counter({3: 4, 0: 2, 1: 1})\n",
      "Counter({2: 4, 1: 2, 4: 1})\n",
      "Counter({3: 2, 4: 2, 0: 2, 1: 1})\n"
     ]
    }
   ],
   "source": [
    "# Do this for all samples\n",
    "embedding = \"blood_cell_scrna\"\n",
    "sig = [(1, 2), (0, 2), (-1, 2), (-1, 2), (-1, 2)]\n",
    "pm = embedders.manifolds.ProductManifold(signature=sig)\n",
    "\n",
    "\n",
    "for i in range(10):\n",
    "    X_train = np.load(f\"../data/{embedding}/embeddings/X_train_{i}.npy\")\n",
    "    y_train = np.load(f\"../data/{embedding}/embeddings/y_train_{i}.npy\")\n",
    "    X_test = np.load(f\"../data/{embedding}/embeddings/X_test_{i}.npy\")\n",
    "    y_test = np.load(f\"../data/{embedding}/embeddings/y_test_{i}.npy\")\n",
    "\n",
    "    train_downsample = np.random.choice(X_train.shape[0], 1000, replace=False)\n",
    "    test_downsample = np.random.choice(X_test.shape[0], 1000, replace=False)\n",
    "\n",
    "    X_train = X_train[train_downsample]\n",
    "    y_train = y_train[train_downsample]\n",
    "\n",
    "    pdt = embedders.predictors.tree_new.ProductSpaceDT(pm=pm, max_depth=3, n_features=\"d_choose_2\")\n",
    "    pdt.fit(X_train, y_train)\n",
    "\n",
    "    print(Counter([pm.dim2man[pdt.angle_dims[node.feature][1]] for node in pdt.nodes if node.feature is not None]))"
   ]
  },
  {
   "cell_type": "code",
   "execution_count": 22,
   "metadata": {},
   "outputs": [
    {
     "name": "stdout",
     "output_type": "stream",
     "text": [
      "Counter({0: 5, 1: 2})\n",
      "Counter({0: 4, 1: 3})\n",
      "Counter({1: 4, 0: 3})\n",
      "Counter({0: 6, 1: 1})\n",
      "Counter({0: 5, 1: 2})\n",
      "Counter({0: 4, 1: 2})\n",
      "Counter({1: 4, 0: 3})\n",
      "Counter({0: 5, 1: 1})\n",
      "Counter({1: 4, 0: 2})\n",
      "Counter({0: 5, 1: 2})\n"
     ]
    }
   ],
   "source": [
    "embedding = \"lymphoma\"\n",
    "sig = [(1, 2), (1, 2)]\n",
    "pm = embedders.manifolds.ProductManifold(signature=sig)\n",
    "\n",
    "for i in range(10):\n",
    "    X_train = np.load(f\"../data/{embedding}/embeddings/X_train_{i}.npy\")\n",
    "    y_train = np.load(f\"../data/{embedding}/embeddings/y_train_{i}.npy\")\n",
    "    X_test = np.load(f\"../data/{embedding}/embeddings/X_test_{i}.npy\")\n",
    "    y_test = np.load(f\"../data/{embedding}/embeddings/y_test_{i}.npy\")\n",
    "\n",
    "    train_downsample = np.random.choice(X_train.shape[0], 1000, replace=False)\n",
    "    test_downsample = np.random.choice(X_test.shape[0], 1000, replace=False)\n",
    "\n",
    "    X_train = X_train[train_downsample]\n",
    "    y_train = y_train[train_downsample]\n",
    "\n",
    "    pdt = embedders.predictors.tree_new.ProductSpaceDT(pm=pm, max_depth=3, n_features=\"d_choose_2\")\n",
    "    pdt.fit(X_train, y_train)\n",
    "\n",
    "    print(Counter([pm.dim2man[pdt.angle_dims[node.feature][1]] for node in pdt.nodes if node.feature is not None]))"
   ]
  },
  {
   "cell_type": "code",
   "execution_count": null,
   "metadata": {},
   "outputs": [],
   "source": []
  }
 ],
 "metadata": {
  "kernelspec": {
   "display_name": "embedders2",
   "language": "python",
   "name": "python3"
  },
  "language_info": {
   "codemirror_mode": {
    "name": "ipython",
    "version": 3
   },
   "file_extension": ".py",
   "mimetype": "text/x-python",
   "name": "python",
   "nbconvert_exporter": "python",
   "pygments_lexer": "ipython3",
   "version": "3.10.0"
  }
 },
 "nbformat": 4,
 "nbformat_minor": 2
}

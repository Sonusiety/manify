{
 "cells": [
  {
   "cell_type": "code",
   "execution_count": 1,
   "metadata": {},
   "outputs": [],
   "source": [
    "%load_ext autoreload\n",
    "%autoreload 2"
   ]
  },
  {
   "cell_type": "code",
   "execution_count": 2,
   "metadata": {},
   "outputs": [],
   "source": [
    "from manify.curvature_estimation.delta_hyperbolicity import delta_hyperbolicity, iterative_delta_hyperbolicity"
   ]
  },
  {
   "cell_type": "code",
   "execution_count": 3,
   "metadata": {},
   "outputs": [],
   "source": [
    "from manify.manifolds import ProductManifold\n",
    "import torch\n",
    "\n",
    "def generate_data(n_dims=2, curvature=-1, n_samples=100):\n",
    "    pm = ProductManifold(signature=[(curvature,n_dims)])\n",
    "    X, _ = pm.sample(z_mean=torch.stack([pm.mu0] * n_samples))\n",
    "    dists = pm.pdist(X)\n",
    "    return dists\n",
    "\n",
    "def test_deltas(deltas, dists_max):\n",
    "    return (deltas <= dists_max).all() and (deltas >= -dists_max).all()\n",
    "\n",
    "def test_vectorized_deltas(iterative_deltas, vectorized_deltas):\n",
    "    return torch.allclose(iterative_deltas, vectorized_deltas)\n",
    "\n",
    "def test_vectorized_deltas_shape(vectorized_deltas, n_samples):\n",
    "    return vectorized_deltas.shape == (n_samples, n_samples, n_samples)\n",
    "\n",
    "def test_sampled_deltas(sampled_deltas, vectorized_deltas, indices):\n",
    "    sampled_vectorized_deltas = vectorized_deltas[indices]\n",
    "    return torch.allclose(sampled_deltas, sampled_vectorized_deltas)\n",
    "\n",
    "def test_gromov_products(gromov_products,dists_max):\n",
    "    return (gromov_products >= 0).all() and (gromov_products <= dists_max).all()\n",
    "\n",
    "# Maybe testing more one reference value (p) and making sure they are all equal/have the same ratio in them to justify point"
   ]
  },
  {
   "cell_type": "code",
   "execution_count": 4,
   "metadata": {},
   "outputs": [
    {
     "name": "stdout",
     "output_type": "stream",
     "text": [
      "Testing vectorized delta value ranges: True\n",
      "Testing iterative delta value ranges: True\n",
      "Test vectorized against iterative: True\n",
      "Test gromov products: True\n",
      "Test vectorized delta shapes: True\n",
      "Test Iterative delta shapes: True\n"
     ]
    }
   ],
   "source": [
    "dists = generate_data(n_samples=20)\n",
    "vectorized_deltas = delta_hyperbolicity(dists,full=True,relative=True)\n",
    "iterative_deltas, gromov_products = iterative_delta_hyperbolicity(dists)\n",
    "\n",
    "print(f'Testing vectorized delta value ranges: {test_deltas(vectorized_deltas, torch.max(dists))}')\n",
    "print(f'Testing iterative delta value ranges: {test_deltas(iterative_deltas, torch.max(dists))}')\n",
    "print(f'Test vectorized against iterative: {test_vectorized_deltas(iterative_deltas, vectorized_deltas)}')\n",
    "print(f'Test gromov products: {test_gromov_products(gromov_products,torch.max(dists))}')\n",
    "print(f'Test vectorized delta shapes: {test_vectorized_deltas_shape(vectorized_deltas, 20)}')\n",
    "print(f'Test Iterative delta shapes: {test_vectorized_deltas_shape(iterative_deltas, 20)}')"
   ]
  },
  {
   "cell_type": "code",
   "execution_count": 5,
   "metadata": {},
   "outputs": [
    {
     "name": "stdout",
     "output_type": "stream",
     "text": [
      "tensor([[ 0.0000, -0.3802, -0.8795, -0.7351, -0.9693, -1.0536, -0.9955, -0.5677,\n",
      "         -0.1635, -0.3472, -0.6060, -0.9172, -0.2628, -0.9631, -1.0442, -0.6954,\n",
      "         -0.4983, -0.6201, -0.8405, -0.5162],\n",
      "        [ 0.0000,  0.0000, -0.5616, -0.3549, -0.5891, -0.6734, -0.6154, -0.1875,\n",
      "         -0.1142,  0.0330, -0.2258, -0.6038,  0.1174, -0.6346, -0.6640, -0.3152,\n",
      "         -0.1182, -0.3860, -0.4603, -0.1361],\n",
      "        [ 0.0000, -0.0623,  0.0000, -0.1428, -0.1740, -0.1740, -0.1678, -0.0879,\n",
      "          0.0324, -0.0637, -0.1057, -0.0376, -0.0531, -0.0835, -0.1647, -0.1012,\n",
      "         -0.0935,  0.1011, -0.1408, -0.0903],\n",
      "        [ 0.0000,  0.1626, -0.2872,  0.0000, -0.2342, -0.3185, -0.2604,  0.1634,\n",
      "         -0.0673,  0.1980,  0.1291, -0.3122,  0.1730, -0.3183, -0.3091,  0.0397,\n",
      "          0.2368, -0.2056, -0.1054,  0.2189],\n",
      "        [ 0.0000,  0.0655, -0.0843,  0.2342,  0.0000, -0.0843, -0.0262,  0.0886,\n",
      "         -0.0255,  0.0723,  0.1309, -0.0721,  0.0603, -0.0537, -0.0749,  0.0787,\n",
      "          0.1228, -0.0699,  0.1212,  0.1085]], grad_fn=<SliceBackward0>)\n"
     ]
    }
   ],
   "source": [
    "print(vectorized_deltas[5][:5])"
   ]
  },
  {
   "cell_type": "code",
   "execution_count": 6,
   "metadata": {},
   "outputs": [
    {
     "name": "stdout",
     "output_type": "stream",
     "text": [
      "tensor([[ 0.0000, -0.3802, -0.8795, -0.7351, -0.9693, -1.0536, -0.9955, -0.5677,\n",
      "         -0.1635, -0.3472, -0.6060, -0.9172, -0.2628, -0.9631, -1.0442, -0.6954,\n",
      "         -0.4983, -0.6201, -0.8405, -0.5162],\n",
      "        [ 0.0000,  0.0000, -0.5616, -0.3549, -0.5891, -0.6734, -0.6154, -0.1875,\n",
      "         -0.1142,  0.0330, -0.2258, -0.6038,  0.1174, -0.6346, -0.6640, -0.3152,\n",
      "         -0.1182, -0.3860, -0.4603, -0.1361],\n",
      "        [ 0.0000, -0.0623,  0.0000, -0.1428, -0.1740, -0.1740, -0.1678, -0.0879,\n",
      "          0.0324, -0.0637, -0.1057, -0.0376, -0.0531, -0.0835, -0.1647, -0.1012,\n",
      "         -0.0935,  0.1011, -0.1408, -0.0903],\n",
      "        [ 0.0000,  0.1626, -0.2872,  0.0000, -0.2342, -0.3185, -0.2604,  0.1634,\n",
      "         -0.0673,  0.1980,  0.1291, -0.3122,  0.1730, -0.3183, -0.3091,  0.0397,\n",
      "          0.2368, -0.2056, -0.1054,  0.2189],\n",
      "        [ 0.0000,  0.0655, -0.0843,  0.2342,  0.0000, -0.0843, -0.0262,  0.0886,\n",
      "         -0.0255,  0.0723,  0.1309, -0.0721,  0.0603, -0.0537, -0.0749,  0.0787,\n",
      "          0.1228, -0.0699,  0.1212,  0.1085]], grad_fn=<SliceBackward0>)\n"
     ]
    }
   ],
   "source": [
    "print(iterative_deltas[5][:5])"
   ]
  },
  {
   "cell_type": "code",
   "execution_count": 7,
   "metadata": {},
   "outputs": [
    {
     "data": {
      "text/plain": [
       "tensor([1., 1., 1.,  ..., 1., 1., 1.], grad_fn=<DivBackward0>)"
      ]
     },
     "execution_count": 7,
     "metadata": {},
     "output_type": "execute_result"
    }
   ],
   "source": [
    "torch.sort(vectorized_deltas.flatten()).values / torch.sort(iterative_deltas.flatten()).values"
   ]
  },
  {
   "cell_type": "code",
   "execution_count": 8,
   "metadata": {},
   "outputs": [
    {
     "data": {
      "text/plain": [
       "tensor([-1.8494, -1.6930, -1.6055,  ...,  0.2895,  0.2975,  0.2975],\n",
       "       grad_fn=<SortBackward0>)"
      ]
     },
     "execution_count": 8,
     "metadata": {},
     "output_type": "execute_result"
    }
   ],
   "source": [
    "torch.sort(iterative_deltas.flatten()).values"
   ]
  },
  {
   "cell_type": "code",
   "execution_count": 28,
   "metadata": {},
   "outputs": [],
   "source": [
    "# Test Gromov Products\n",
    "\n",
    "def sampled_delta_hyperbolicity(dismat, n_samples=1000):\n",
    "    # (j,k)_i = .5 (d(i,j) + d(i,k) - d(j,k))\n",
    "    n = dismat.shape[0]\n",
    "    # Sample n_samples triplets of points randomly\n",
    "    indices = torch.randint(0, n, (n_samples, 3))\n",
    "\n",
    "    # Get gromov products\n",
    "\n",
    "    x,y,z = indices.T\n",
    "    w = 0\n",
    "    # xy_w = _vectorized_gromov(w,x,y,dismat)\n",
    "    # xz_w = _vectorized_gromov(w,x,z,dismat)\n",
    "    # yz_w = _vectorized_gromov(w,y,z,dismat)\n",
    "\n",
    "    xy_w = .5 * (dismat[w,x] + dismat[w,y] - dismat[x,y])\n",
    "    xz_w = .5 * (dismat[w,x] + dismat[w,z] - dismat[x,z])\n",
    "    yz_w = .5 * (dismat[w,y] + dismat[w,z] - dismat[y,z])\n",
    "\n",
    "    deltas = torch.minimum(xy_w,yz_w) - xz_w\n",
    "    diam = torch.max(dismat)\n",
    "    rel_deltas = 2 * deltas / diam\n",
    "\n",
    "    return rel_deltas, indices\n"
   ]
  },
  {
   "cell_type": "code",
   "execution_count": 29,
   "metadata": {},
   "outputs": [
    {
     "data": {
      "text/plain": [
       "True"
      ]
     },
     "execution_count": 29,
     "metadata": {},
     "output_type": "execute_result"
    }
   ],
   "source": [
    "from manify.curvature_estimation.delta_hyperbolicity import delta_hyperbolicity, iterative_delta_hyperbolicity\n",
    "\n",
    "sampled_deltas, indices = sampled_delta_hyperbolicity(dists)\n",
    "iterative_deltas = iterative_delta_hyperbolicity(dists)[0][indices[:,0],indices[:,1],indices[:,2]]\n",
    "\n",
    "torch.allclose(sampled_deltas, iterative_deltas)"
   ]
  },
  {
   "cell_type": "code",
   "execution_count": null,
   "metadata": {},
   "outputs": [],
   "source": []
  }
 ],
 "metadata": {
  "kernelspec": {
   "display_name": "manify",
   "language": "python",
   "name": "python3"
  },
  "language_info": {
   "codemirror_mode": {
    "name": "ipython",
    "version": 3
   },
   "file_extension": ".py",
   "mimetype": "text/x-python",
   "name": "python",
   "nbconvert_exporter": "python",
   "pygments_lexer": "ipython3",
   "version": "3.10.16"
  }
 },
 "nbformat": 4,
 "nbformat_minor": 2
}

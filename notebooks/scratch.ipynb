{
 "cells": [
  {
   "cell_type": "code",
   "execution_count": 1,
   "metadata": {},
   "outputs": [
    {
     "name": "stderr",
     "output_type": "stream",
     "text": [
      "INFO: Using numpy backend\n"
     ]
    }
   ],
   "source": [
    "import embedders"
   ]
  },
  {
   "cell_type": "code",
   "execution_count": 1,
   "metadata": {},
   "outputs": [],
   "source": [
    "%load_ext autoreload\n",
    "%autoreload 2"
   ]
  },
  {
   "cell_type": "code",
   "execution_count": 2,
   "metadata": {},
   "outputs": [],
   "source": [
    "import embedders.manifolds\n",
    "\n",
    "\n",
    "pm = embedders.manifolds.ProductManifold(signature=[(0, 8)])"
   ]
  },
  {
   "cell_type": "code",
   "execution_count": 3,
   "metadata": {},
   "outputs": [],
   "source": [
    "sample = pm.sample(pm.mu0)"
   ]
  },
  {
   "cell_type": "code",
   "execution_count": 4,
   "metadata": {},
   "outputs": [
    {
     "data": {
      "text/plain": [
       "tensor([[ 0.2419, -0.0205,  1.9957, -0.8986, -0.3383, -0.0302, -1.2964, -1.0592]],\n",
       "       grad_fn=<CatBackward0>)"
      ]
     },
     "execution_count": 4,
     "metadata": {},
     "output_type": "execute_result"
    }
   ],
   "source": [
    "pm.manifold.logmap(pm.mu0, sample)"
   ]
  },
  {
   "cell_type": "code",
   "execution_count": 5,
   "metadata": {},
   "outputs": [
    {
     "data": {
      "text/plain": [
       "tensor([[ 0.2419, -0.0205,  1.9957, -0.8986, -0.3383, -0.0302, -1.2964, -1.0592]],\n",
       "       grad_fn=<CatBackward0>)"
      ]
     },
     "execution_count": 5,
     "metadata": {},
     "output_type": "execute_result"
    }
   ],
   "source": [
    "sample"
   ]
  },
  {
   "cell_type": "code",
   "execution_count": 6,
   "metadata": {},
   "outputs": [],
   "source": [
    "import embedders\n",
    "\n",
    "pm = embedders.manifolds.ProductManifold(signature=[(-1, 2), (0, 2), (1, 2)])"
   ]
  },
  {
   "cell_type": "code",
   "execution_count": 7,
   "metadata": {},
   "outputs": [],
   "source": [
    "_m = pm.P[0].manifold"
   ]
  },
  {
   "cell_type": "code",
   "execution_count": 8,
   "metadata": {},
   "outputs": [
    {
     "data": {
      "text/plain": [
       "tensor([1., 0., 0., 0., 0., 1., 0., 0.])"
      ]
     },
     "execution_count": 8,
     "metadata": {},
     "output_type": "execute_result"
    }
   ],
   "source": [
    "pm.mu0"
   ]
  },
  {
   "cell_type": "code",
   "execution_count": 9,
   "metadata": {},
   "outputs": [
    {
     "data": {
      "text/plain": [
       "8"
      ]
     },
     "execution_count": 9,
     "metadata": {},
     "output_type": "execute_result"
    }
   ],
   "source": [
    "pm.ambient_dim"
   ]
  },
  {
   "cell_type": "code",
   "execution_count": 12,
   "metadata": {},
   "outputs": [
    {
     "data": {
      "text/plain": [
       "tensor([[[ 0.0000e+00,  3.7757e-01, -6.0623e-01,  9.9979e-01,  4.7421e-01,\n",
       "           0.0000e+00, -1.0952e+00, -3.4913e-01]],\n",
       "\n",
       "        [[ 0.0000e+00,  1.6256e+00, -1.2329e+00,  6.2518e-02,  2.1618e-01,\n",
       "           0.0000e+00,  4.4631e-01,  7.9177e-01]],\n",
       "\n",
       "        [[ 0.0000e+00,  1.0730e+00, -3.4047e-01,  5.3398e-01,  5.3757e-01,\n",
       "           0.0000e+00, -1.0448e+00,  5.9377e-01]],\n",
       "\n",
       "        [[ 0.0000e+00, -1.2358e+00, -1.8372e+00,  1.1468e+00,  1.2585e+00,\n",
       "           0.0000e+00,  6.3174e-01, -1.7462e+00]],\n",
       "\n",
       "        [[ 0.0000e+00,  3.5947e-01,  1.6151e-03, -3.3443e-01, -1.0160e-01,\n",
       "           0.0000e+00,  2.3179e-01,  5.0318e-02]],\n",
       "\n",
       "        [[ 0.0000e+00, -6.8709e-01,  4.5553e-01, -7.6210e-03, -3.5125e-01,\n",
       "           0.0000e+00, -3.9655e-01,  4.2721e-01]],\n",
       "\n",
       "        [[ 0.0000e+00,  5.1779e-01, -1.4346e-01, -8.9483e-01, -1.1972e+00,\n",
       "           0.0000e+00, -1.0568e+00, -3.4706e-01]],\n",
       "\n",
       "        [[ 0.0000e+00, -2.0099e+00, -8.9830e-01, -8.5351e-01, -2.0102e-01,\n",
       "           0.0000e+00, -3.9671e-01, -5.9352e-01]],\n",
       "\n",
       "        [[ 0.0000e+00, -1.6806e-01, -9.5356e-01, -1.1910e+00, -1.2669e+00,\n",
       "           0.0000e+00,  7.5351e-03, -9.1199e-01]],\n",
       "\n",
       "        [[ 0.0000e+00,  3.7191e-01, -4.7858e-01, -2.8217e+00,  1.3446e+00,\n",
       "           0.0000e+00, -6.0854e-02,  7.6243e-01]]], grad_fn=<CatBackward0>)"
      ]
     },
     "execution_count": 12,
     "metadata": {},
     "output_type": "execute_result"
    }
   ],
   "source": [
    "import torch\n",
    "sam = torch.stack([pm.sample() for _ in range(10)])\n",
    "\n",
    "pm.logmap(sam, base=pm.mu0)"
   ]
  },
  {
   "cell_type": "code",
   "execution_count": null,
   "metadata": {},
   "outputs": [
    {
     "ename": "TypeError",
     "evalue": "ProductManifold.sample() missing 1 required positional argument: 'z_mean'",
     "output_type": "error",
     "traceback": [
      "\u001b[0;31m---------------------------------------------------------------------------\u001b[0m",
      "\u001b[0;31mTypeError\u001b[0m                                 Traceback (most recent call last)",
      "Cell \u001b[0;32mIn[20], line 3\u001b[0m\n\u001b[1;32m      1\u001b[0m \u001b[38;5;28;01mimport\u001b[39;00m \u001b[38;5;21;01mtorch\u001b[39;00m\n\u001b[0;32m----> 3\u001b[0m _sample \u001b[38;5;241m=\u001b[39m \u001b[43mpm\u001b[49m\u001b[38;5;241;43m.\u001b[39;49m\u001b[43msample\u001b[49m\u001b[43m(\u001b[49m\u001b[43m)\u001b[49m\n",
      "\u001b[0;31mTypeError\u001b[0m: ProductManifold.sample() missing 1 required positional argument: 'z_mean'"
     ]
    }
   ],
   "source": [
    "import torch\n",
    "\n",
    "_sample = pm.sample()"
   ]
  },
  {
   "cell_type": "code",
   "execution_count": 13,
   "metadata": {},
   "outputs": [
    {
     "data": {
      "text/plain": [
       "Scaled(Lorentz) manifold"
      ]
     },
     "execution_count": 13,
     "metadata": {},
     "output_type": "execute_result"
    }
   ],
   "source": [
    "_m.expmap"
   ]
  },
  {
   "cell_type": "code",
   "execution_count": null,
   "metadata": {},
   "outputs": [],
   "source": [
    "import numpy as np "
   ]
  },
  {
   "cell_type": "markdown",
   "metadata": {},
   "source": []
  }
 ],
 "metadata": {
  "kernelspec": {
   "display_name": "cloudspace",
   "language": "python",
   "name": "python3"
  },
  "language_info": {
   "codemirror_mode": {
    "name": "ipython",
    "version": 3
   },
   "file_extension": ".py",
   "mimetype": "text/x-python",
   "name": "python",
   "nbconvert_exporter": "python",
   "pygments_lexer": "ipython3",
   "version": "3.10.0"
  }
 },
 "nbformat": 4,
 "nbformat_minor": 2
}

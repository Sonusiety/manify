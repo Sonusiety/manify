{
 "cells": [
  {
   "cell_type": "code",
   "execution_count": 1,
   "metadata": {},
   "outputs": [],
   "source": [
    "import embedders"
   ]
  },
  {
   "cell_type": "code",
   "execution_count": 5,
   "metadata": {},
   "outputs": [
    {
     "data": {
      "text/plain": [
       "torch.Size([13410, 1056])"
      ]
     },
     "execution_count": 5,
     "metadata": {},
     "output_type": "execute_result"
    }
   ],
   "source": [
    "import embedders.dataloaders\n",
    "\n",
    "\n",
    "embedders.dataloaders.load(\"lymphoma\")[0].shape"
   ]
  },
  {
   "cell_type": "code",
   "execution_count": 11,
   "metadata": {},
   "outputs": [
    {
     "name": "stdout",
     "output_type": "stream",
     "text": [
      "Top CC has 1025 nodes; original graph has 1025 nodes.\n"
     ]
    },
    {
     "data": {
      "application/vnd.jupyter.widget-view+json": {
       "model_id": "b04554a01d9745688e8f1e81a7390368",
       "version_major": 2,
       "version_minor": 0
      },
      "text/plain": [
       "  0%|          | 0/3000 [00:00<?, ?it/s]"
      ]
     },
     "metadata": {},
     "output_type": "display_data"
    },
    {
     "ename": "KeyboardInterrupt",
     "evalue": "",
     "output_type": "error",
     "traceback": [
      "\u001b[0;31m---------------------------------------------------------------------------\u001b[0m",
      "\u001b[0;31mKeyboardInterrupt\u001b[0m                         Traceback (most recent call last)",
      "Cell \u001b[0;32mIn[11], line 5\u001b[0m\n\u001b[1;32m      3\u001b[0m dists, y, adj \u001b[38;5;241m=\u001b[39m embedders\u001b[38;5;241m.\u001b[39mdataloaders\u001b[38;5;241m.\u001b[39mload(\u001b[38;5;124m\"\u001b[39m\u001b[38;5;124mcs_phds\u001b[39m\u001b[38;5;124m\"\u001b[39m)\n\u001b[1;32m      4\u001b[0m pm \u001b[38;5;241m=\u001b[39m embedders\u001b[38;5;241m.\u001b[39mmanifolds\u001b[38;5;241m.\u001b[39mProductManifold(signature\u001b[38;5;241m=\u001b[39m[(\u001b[38;5;241m-\u001b[39m\u001b[38;5;241m1\u001b[39m, \u001b[38;5;241m2\u001b[39m)] \u001b[38;5;241m*\u001b[39m \u001b[38;5;241m5\u001b[39m)\n\u001b[0;32m----> 5\u001b[0m \u001b[43membedders\u001b[49m\u001b[38;5;241;43m.\u001b[39;49m\u001b[43mcoordinate_learning\u001b[49m\u001b[38;5;241;43m.\u001b[39;49m\u001b[43mtrain_coords\u001b[49m\u001b[43m(\u001b[49m\u001b[43mpm\u001b[49m\u001b[43m,\u001b[49m\u001b[43m \u001b[49m\u001b[43mdists\u001b[49m\u001b[43m,\u001b[49m\u001b[43m \u001b[49m\u001b[43mlearning_rate\u001b[49m\u001b[38;5;241;43m=\u001b[39;49m\u001b[38;5;241;43m1e-2\u001b[39;49m\u001b[43m,\u001b[49m\u001b[43m \u001b[49m\u001b[43mburn_in_learning_rate\u001b[49m\u001b[38;5;241;43m=\u001b[39;49m\u001b[38;5;241;43m1e-3\u001b[39;49m\u001b[43m,\u001b[49m\u001b[43m \u001b[49m\u001b[43mburn_in_iterations\u001b[49m\u001b[38;5;241;43m=\u001b[39;49m\u001b[38;5;241;43m1000\u001b[39;49m\u001b[43m,\u001b[49m\u001b[43m \u001b[49m\u001b[43mtraining_iterations\u001b[49m\u001b[38;5;241;43m=\u001b[39;49m\u001b[38;5;241;43m2000\u001b[39;49m\u001b[43m)\u001b[49m\n",
      "File \u001b[0;32m~/embedders/src/embedders/coordinate_learning.py:60\u001b[0m, in \u001b[0;36mtrain_coords\u001b[0;34m(pm, dists, device, burn_in_learning_rate, burn_in_iterations, learning_rate, scale_factor_learning_rate, training_iterations, loss_window_size, logging_interval)\u001b[0m\n\u001b[1;32m     58\u001b[0m dist_est \u001b[38;5;241m=\u001b[39m pm\u001b[38;5;241m.\u001b[39mpdist(pm\u001b[38;5;241m.\u001b[39mx_embed)\n\u001b[1;32m     59\u001b[0m L \u001b[38;5;241m=\u001b[39m distortion_loss(dist_est, dists)\n\u001b[0;32m---> 60\u001b[0m \u001b[43mL\u001b[49m\u001b[38;5;241;43m.\u001b[39;49m\u001b[43mbackward\u001b[49m\u001b[43m(\u001b[49m\u001b[43m)\u001b[49m\n\u001b[1;32m     61\u001b[0m losses\u001b[38;5;241m.\u001b[39mappend(L\u001b[38;5;241m.\u001b[39mitem())\n\u001b[1;32m     62\u001b[0m pm\u001b[38;5;241m.\u001b[39mopt\u001b[38;5;241m.\u001b[39mstep()\n",
      "File \u001b[0;32m~/miniforge3/envs/embedders2/lib/python3.10/site-packages/torch/_tensor.py:525\u001b[0m, in \u001b[0;36mTensor.backward\u001b[0;34m(self, gradient, retain_graph, create_graph, inputs)\u001b[0m\n\u001b[1;32m    515\u001b[0m \u001b[38;5;28;01mif\u001b[39;00m has_torch_function_unary(\u001b[38;5;28mself\u001b[39m):\n\u001b[1;32m    516\u001b[0m     \u001b[38;5;28;01mreturn\u001b[39;00m handle_torch_function(\n\u001b[1;32m    517\u001b[0m         Tensor\u001b[38;5;241m.\u001b[39mbackward,\n\u001b[1;32m    518\u001b[0m         (\u001b[38;5;28mself\u001b[39m,),\n\u001b[0;32m   (...)\u001b[0m\n\u001b[1;32m    523\u001b[0m         inputs\u001b[38;5;241m=\u001b[39minputs,\n\u001b[1;32m    524\u001b[0m     )\n\u001b[0;32m--> 525\u001b[0m \u001b[43mtorch\u001b[49m\u001b[38;5;241;43m.\u001b[39;49m\u001b[43mautograd\u001b[49m\u001b[38;5;241;43m.\u001b[39;49m\u001b[43mbackward\u001b[49m\u001b[43m(\u001b[49m\n\u001b[1;32m    526\u001b[0m \u001b[43m    \u001b[49m\u001b[38;5;28;43mself\u001b[39;49m\u001b[43m,\u001b[49m\u001b[43m \u001b[49m\u001b[43mgradient\u001b[49m\u001b[43m,\u001b[49m\u001b[43m \u001b[49m\u001b[43mretain_graph\u001b[49m\u001b[43m,\u001b[49m\u001b[43m \u001b[49m\u001b[43mcreate_graph\u001b[49m\u001b[43m,\u001b[49m\u001b[43m \u001b[49m\u001b[43minputs\u001b[49m\u001b[38;5;241;43m=\u001b[39;49m\u001b[43minputs\u001b[49m\n\u001b[1;32m    527\u001b[0m \u001b[43m\u001b[49m\u001b[43m)\u001b[49m\n",
      "File \u001b[0;32m~/miniforge3/envs/embedders2/lib/python3.10/site-packages/torch/autograd/__init__.py:267\u001b[0m, in \u001b[0;36mbackward\u001b[0;34m(tensors, grad_tensors, retain_graph, create_graph, grad_variables, inputs)\u001b[0m\n\u001b[1;32m    262\u001b[0m     retain_graph \u001b[38;5;241m=\u001b[39m create_graph\n\u001b[1;32m    264\u001b[0m \u001b[38;5;66;03m# The reason we repeat the same comment below is that\u001b[39;00m\n\u001b[1;32m    265\u001b[0m \u001b[38;5;66;03m# some Python versions print out the first line of a multi-line function\u001b[39;00m\n\u001b[1;32m    266\u001b[0m \u001b[38;5;66;03m# calls in the traceback and some print out the last line\u001b[39;00m\n\u001b[0;32m--> 267\u001b[0m \u001b[43m_engine_run_backward\u001b[49m\u001b[43m(\u001b[49m\n\u001b[1;32m    268\u001b[0m \u001b[43m    \u001b[49m\u001b[43mtensors\u001b[49m\u001b[43m,\u001b[49m\n\u001b[1;32m    269\u001b[0m \u001b[43m    \u001b[49m\u001b[43mgrad_tensors_\u001b[49m\u001b[43m,\u001b[49m\n\u001b[1;32m    270\u001b[0m \u001b[43m    \u001b[49m\u001b[43mretain_graph\u001b[49m\u001b[43m,\u001b[49m\n\u001b[1;32m    271\u001b[0m \u001b[43m    \u001b[49m\u001b[43mcreate_graph\u001b[49m\u001b[43m,\u001b[49m\n\u001b[1;32m    272\u001b[0m \u001b[43m    \u001b[49m\u001b[43minputs\u001b[49m\u001b[43m,\u001b[49m\n\u001b[1;32m    273\u001b[0m \u001b[43m    \u001b[49m\u001b[43mallow_unreachable\u001b[49m\u001b[38;5;241;43m=\u001b[39;49m\u001b[38;5;28;43;01mTrue\u001b[39;49;00m\u001b[43m,\u001b[49m\n\u001b[1;32m    274\u001b[0m \u001b[43m    \u001b[49m\u001b[43maccumulate_grad\u001b[49m\u001b[38;5;241;43m=\u001b[39;49m\u001b[38;5;28;43;01mTrue\u001b[39;49;00m\u001b[43m,\u001b[49m\n\u001b[1;32m    275\u001b[0m \u001b[43m\u001b[49m\u001b[43m)\u001b[49m\n",
      "File \u001b[0;32m~/miniforge3/envs/embedders2/lib/python3.10/site-packages/torch/autograd/graph.py:744\u001b[0m, in \u001b[0;36m_engine_run_backward\u001b[0;34m(t_outputs, *args, **kwargs)\u001b[0m\n\u001b[1;32m    742\u001b[0m     unregister_hooks \u001b[38;5;241m=\u001b[39m _register_logging_hooks_on_whole_graph(t_outputs)\n\u001b[1;32m    743\u001b[0m \u001b[38;5;28;01mtry\u001b[39;00m:\n\u001b[0;32m--> 744\u001b[0m     \u001b[38;5;28;01mreturn\u001b[39;00m \u001b[43mVariable\u001b[49m\u001b[38;5;241;43m.\u001b[39;49m\u001b[43m_execution_engine\u001b[49m\u001b[38;5;241;43m.\u001b[39;49m\u001b[43mrun_backward\u001b[49m\u001b[43m(\u001b[49m\u001b[43m  \u001b[49m\u001b[38;5;66;43;03m# Calls into the C++ engine to run the backward pass\u001b[39;49;00m\n\u001b[1;32m    745\u001b[0m \u001b[43m        \u001b[49m\u001b[43mt_outputs\u001b[49m\u001b[43m,\u001b[49m\u001b[43m \u001b[49m\u001b[38;5;241;43m*\u001b[39;49m\u001b[43margs\u001b[49m\u001b[43m,\u001b[49m\u001b[43m \u001b[49m\u001b[38;5;241;43m*\u001b[39;49m\u001b[38;5;241;43m*\u001b[39;49m\u001b[43mkwargs\u001b[49m\n\u001b[1;32m    746\u001b[0m \u001b[43m    \u001b[49m\u001b[43m)\u001b[49m  \u001b[38;5;66;03m# Calls into the C++ engine to run the backward pass\u001b[39;00m\n\u001b[1;32m    747\u001b[0m \u001b[38;5;28;01mfinally\u001b[39;00m:\n\u001b[1;32m    748\u001b[0m     \u001b[38;5;28;01mif\u001b[39;00m attach_logging_hooks:\n",
      "\u001b[0;31mKeyboardInterrupt\u001b[0m: "
     ]
    }
   ],
   "source": [
    "import embedders\n",
    "\n",
    "dists, y, adj = embedders.dataloaders.load(\"cs_phds\")\n",
    "pm = embedders.manifolds.ProductManifold(signature=[(-1, 2)] * 5)\n",
    "embedders.coordinate_learning.train_coords(\n",
    "    pm, dists, learning_rate=1e-2, burn_in_learning_rate=1e-3, burn_in_iterations=1000, training_iterations=2000\n",
    ")"
   ]
  },
  {
   "cell_type": "code",
   "execution_count": 59,
   "metadata": {},
   "outputs": [
    {
     "name": "stdout",
     "output_type": "stream",
     "text": [
      "0.98\n"
     ]
    },
    {
     "data": {
      "text/plain": [
       "<matplotlib.collections.PathCollection at 0x34ed252d0>"
      ]
     },
     "execution_count": 59,
     "metadata": {},
     "output_type": "execute_result"
    },
    {
     "data": {
      "image/png": "[encoded data removed]",
      "text/plain": [
       "<Figure size 640x480 with 1 Axes>"
      ]
     },
     "metadata": {},
     "output_type": "display_data"
    }
   ],
   "source": [
    "import numpy as np\n",
    "from sklearn.tree import DecisionTreeClassifier\n",
    "from sklearn.ensemble import RandomForestClassifier, RandomForestRegressor\n",
    "from sklearn.neighbors import KNeighborsClassifier, KNeighborsRegressor\n",
    "\n",
    "X = np.random.rand(100, 2)\n",
    "y = np.random.randint(0, 5, 100)\n",
    "# dt = DecisionTreeClassifier(max_depth=None)\n",
    "# dt = RandomForestClassifier(n_estimators=10, max_depth=None, max_features=None)\n",
    "# dt = KNeighborsClassifier(n_neighbors=5)\n",
    "# dt = KNeighborsRegressor(n_neighbors=5)\n",
    "\n",
    "dt.fit(X, y)\n",
    "print(dt.score(X, y))\n",
    "\n",
    "_x = np.linspace(0, 1, 1001)\n",
    "_y = np.linspace(0, 1, 1001)\n",
    "_X, _Y = np.meshgrid(_x, _y)\n",
    "Z = dt.predict(np.c_[_X.ravel(), _Y.ravel()]).reshape(_X.shape)\n",
    "\n",
    "import matplotlib.pyplot as plt\n",
    "\n",
    "plt.contourf(_X, _Y, Z, levels=5)\n",
    "# Black border for points\n",
    "plt.scatter(X[:,0], X[:,1], c=y, edgecolors='black')"
   ]
  },
  {
   "cell_type": "code",
   "execution_count": 1,
   "metadata": {},
   "outputs": [
    {
     "data": {
      "application/vnd.jupyter.widget-view+json": {
       "model_id": "c36c7f393d48489bb6bd257b583f189a",
       "version_major": 2,
       "version_minor": 0
      },
      "text/plain": [
       "Calculating information gains:   0%|          | 0/200 [00:00<?, ?it/s]"
      ]
     },
     "metadata": {},
     "output_type": "display_data"
    },
    {
     "data": {
      "application/vnd.jupyter.widget-view+json": {
       "model_id": "5acb375a51f44b07bff92b3b27d62bf4",
       "version_major": 2,
       "version_minor": 0
      },
      "text/plain": [
       "Calculating information gains:   0%|          | 0/188 [00:00<?, ?it/s]"
      ]
     },
     "metadata": {},
     "output_type": "display_data"
    },
    {
     "data": {
      "application/vnd.jupyter.widget-view+json": {
       "model_id": "57b13c78ecd24eedaabe68a4be73f7db",
       "version_major": 2,
       "version_minor": 0
      },
      "text/plain": [
       "Calculating information gains:   0%|          | 0/178 [00:00<?, ?it/s]"
      ]
     },
     "metadata": {},
     "output_type": "display_data"
    },
    {
     "data": {
      "application/vnd.jupyter.widget-view+json": {
       "model_id": "92a0e351dccf456eb98f265bd2d1464a",
       "version_major": 2,
       "version_minor": 0
      },
      "text/plain": [
       "Calculating information gains:   0%|          | 0/48 [00:00<?, ?it/s]"
      ]
     },
     "metadata": {},
     "output_type": "display_data"
    },
    {
     "data": {
      "application/vnd.jupyter.widget-view+json": {
       "model_id": "6b07c46b72e849529cb5f5787c0997f7",
       "version_major": 2,
       "version_minor": 0
      },
      "text/plain": [
       "Calculating information gains:   0%|          | 0/40 [00:00<?, ?it/s]"
      ]
     },
     "metadata": {},
     "output_type": "display_data"
    },
    {
     "data": {
      "application/vnd.jupyter.widget-view+json": {
       "model_id": "2087ceccb4aa410d97d0d1aeae793fe2",
       "version_major": 2,
       "version_minor": 0
      },
      "text/plain": [
       "Calculating information gains:   0%|          | 0/30 [00:00<?, ?it/s]"
      ]
     },
     "metadata": {},
     "output_type": "display_data"
    },
    {
     "data": {
      "application/vnd.jupyter.widget-view+json": {
       "model_id": "79378b7f198b41c897a59c74de57f01a",
       "version_major": 2,
       "version_minor": 0
      },
      "text/plain": [
       "Calculating information gains:   0%|          | 0/28 [00:00<?, ?it/s]"
      ]
     },
     "metadata": {},
     "output_type": "display_data"
    },
    {
     "data": {
      "application/vnd.jupyter.widget-view+json": {
       "model_id": "ad4528cafb4345979e274b731fee5b15",
       "version_major": 2,
       "version_minor": 0
      },
      "text/plain": [
       "Calculating information gains:   0%|          | 0/16 [00:00<?, ?it/s]"
      ]
     },
     "metadata": {},
     "output_type": "display_data"
    },
    {
     "data": {
      "application/vnd.jupyter.widget-view+json": {
       "model_id": "d9185607e5da4343a30293ddd4b7d903",
       "version_major": 2,
       "version_minor": 0
      },
      "text/plain": [
       "Calculating information gains:   0%|          | 0/4 [00:00<?, ?it/s]"
      ]
     },
     "metadata": {},
     "output_type": "display_data"
    },
    {
     "data": {
      "application/vnd.jupyter.widget-view+json": {
       "model_id": "c8d4b8a7304e4a31aaab3bf3387a11c5",
       "version_major": 2,
       "version_minor": 0
      },
      "text/plain": [
       "Calculating information gains:   0%|          | 0/12 [00:00<?, ?it/s]"
      ]
     },
     "metadata": {},
     "output_type": "display_data"
    },
    {
     "data": {
      "application/vnd.jupyter.widget-view+json": {
       "model_id": "ededf448d42c4307ac61fbb2efa101d6",
       "version_major": 2,
       "version_minor": 0
      },
      "text/plain": [
       "Calculating information gains:   0%|          | 0/8 [00:00<?, ?it/s]"
      ]
     },
     "metadata": {},
     "output_type": "display_data"
    },
    {
     "data": {
      "application/vnd.jupyter.widget-view+json": {
       "model_id": "b436ca7696f141b6a2f9e7fa6bd9211e",
       "version_major": 2,
       "version_minor": 0
      },
      "text/plain": [
       "Calculating information gains:   0%|          | 0/4 [00:00<?, ?it/s]"
      ]
     },
     "metadata": {},
     "output_type": "display_data"
    },
    {
     "data": {
      "application/vnd.jupyter.widget-view+json": {
       "model_id": "adbee439d1be4698a7cc33d6160f6d34",
       "version_major": 2,
       "version_minor": 0
      },
      "text/plain": [
       "Calculating information gains:   0%|          | 0/4 [00:00<?, ?it/s]"
      ]
     },
     "metadata": {},
     "output_type": "display_data"
    },
    {
     "data": {
      "application/vnd.jupyter.widget-view+json": {
       "model_id": "184240f7ef6d47f9bce5d962f0283e02",
       "version_major": 2,
       "version_minor": 0
      },
      "text/plain": [
       "Calculating information gains:   0%|          | 0/4 [00:00<?, ?it/s]"
      ]
     },
     "metadata": {},
     "output_type": "display_data"
    },
    {
     "data": {
      "application/vnd.jupyter.widget-view+json": {
       "model_id": "21147216355940409bc4f9f4a10a20f2",
       "version_major": 2,
       "version_minor": 0
      },
      "text/plain": [
       "Calculating information gains:   0%|          | 0/12 [00:00<?, ?it/s]"
      ]
     },
     "metadata": {},
     "output_type": "display_data"
    },
    {
     "data": {
      "application/vnd.jupyter.widget-view+json": {
       "model_id": "4e916f8a2d534eb5a731ffc629beef5a",
       "version_major": 2,
       "version_minor": 0
      },
      "text/plain": [
       "Calculating information gains:   0%|          | 0/10 [00:00<?, ?it/s]"
      ]
     },
     "metadata": {},
     "output_type": "display_data"
    },
    {
     "data": {
      "application/vnd.jupyter.widget-view+json": {
       "model_id": "5854934f98084940b0170842997f52ca",
       "version_major": 2,
       "version_minor": 0
      },
      "text/plain": [
       "Calculating information gains:   0%|          | 0/6 [00:00<?, ?it/s]"
      ]
     },
     "metadata": {},
     "output_type": "display_data"
    },
    {
     "data": {
      "application/vnd.jupyter.widget-view+json": {
       "model_id": "1008289a058c406c89b3b34c6e816293",
       "version_major": 2,
       "version_minor": 0
      },
      "text/plain": [
       "Calculating information gains:   0%|          | 0/4 [00:00<?, ?it/s]"
      ]
     },
     "metadata": {},
     "output_type": "display_data"
    },
    {
     "data": {
      "application/vnd.jupyter.widget-view+json": {
       "model_id": "7d19f9920d2043a7893507971e573985",
       "version_major": 2,
       "version_minor": 0
      },
      "text/plain": [
       "Calculating information gains:   0%|          | 0/4 [00:00<?, ?it/s]"
      ]
     },
     "metadata": {},
     "output_type": "display_data"
    },
    {
     "data": {
      "application/vnd.jupyter.widget-view+json": {
       "model_id": "6c2d0044b5534c5784f40244bb43bfce",
       "version_major": 2,
       "version_minor": 0
      },
      "text/plain": [
       "Calculating information gains:   0%|          | 0/10 [00:00<?, ?it/s]"
      ]
     },
     "metadata": {},
     "output_type": "display_data"
    },
    {
     "data": {
      "application/vnd.jupyter.widget-view+json": {
       "model_id": "a3f86e603b274c3bbad2e4c64e43f438",
       "version_major": 2,
       "version_minor": 0
      },
      "text/plain": [
       "Calculating information gains:   0%|          | 0/6 [00:00<?, ?it/s]"
      ]
     },
     "metadata": {},
     "output_type": "display_data"
    },
    {
     "data": {
      "application/vnd.jupyter.widget-view+json": {
       "model_id": "e1eef09a733b411e9a360c83e66e7079",
       "version_major": 2,
       "version_minor": 0
      },
      "text/plain": [
       "Calculating information gains:   0%|          | 0/4 [00:00<?, ?it/s]"
      ]
     },
     "metadata": {},
     "output_type": "display_data"
    },
    {
     "data": {
      "application/vnd.jupyter.widget-view+json": {
       "model_id": "525de79c1c2e4c7abc512b2e055f1425",
       "version_major": 2,
       "version_minor": 0
      },
      "text/plain": [
       "Calculating information gains:   0%|          | 0/8 [00:00<?, ?it/s]"
      ]
     },
     "metadata": {},
     "output_type": "display_data"
    },
    {
     "data": {
      "application/vnd.jupyter.widget-view+json": {
       "model_id": "097a05dbb0fc40e69b053e8b4be8221e",
       "version_major": 2,
       "version_minor": 0
      },
      "text/plain": [
       "Calculating information gains:   0%|          | 0/4 [00:00<?, ?it/s]"
      ]
     },
     "metadata": {},
     "output_type": "display_data"
    },
    {
     "data": {
      "application/vnd.jupyter.widget-view+json": {
       "model_id": "ddb90d4e877e4f22ac04a00a7925126a",
       "version_major": 2,
       "version_minor": 0
      },
      "text/plain": [
       "Calculating information gains:   0%|          | 0/4 [00:00<?, ?it/s]"
      ]
     },
     "metadata": {},
     "output_type": "display_data"
    },
    {
     "data": {
      "application/vnd.jupyter.widget-view+json": {
       "model_id": "307e4c5fa3a24c4bb79b7aa755781917",
       "version_major": 2,
       "version_minor": 0
      },
      "text/plain": [
       "Calculating information gains:   0%|          | 0/130 [00:00<?, ?it/s]"
      ]
     },
     "metadata": {},
     "output_type": "display_data"
    },
    {
     "data": {
      "application/vnd.jupyter.widget-view+json": {
       "model_id": "534ccd990beb4444b7fa2d3ca91223db",
       "version_major": 2,
       "version_minor": 0
      },
      "text/plain": [
       "Calculating information gains:   0%|          | 0/14 [00:00<?, ?it/s]"
      ]
     },
     "metadata": {},
     "output_type": "display_data"
    },
    {
     "data": {
      "application/vnd.jupyter.widget-view+json": {
       "model_id": "2db107351e8a42aa9e7ebc15134a3b9f",
       "version_major": 2,
       "version_minor": 0
      },
      "text/plain": [
       "Calculating information gains:   0%|          | 0/12 [00:00<?, ?it/s]"
      ]
     },
     "metadata": {},
     "output_type": "display_data"
    },
    {
     "data": {
      "application/vnd.jupyter.widget-view+json": {
       "model_id": "05e226e85d294fc2ab315b3c4dce2020",
       "version_major": 2,
       "version_minor": 0
      },
      "text/plain": [
       "Calculating information gains:   0%|          | 0/10 [00:00<?, ?it/s]"
      ]
     },
     "metadata": {},
     "output_type": "display_data"
    },
    {
     "data": {
      "application/vnd.jupyter.widget-view+json": {
       "model_id": "d155d59ef64b4ae89d9517cd4e9a6ef1",
       "version_major": 2,
       "version_minor": 0
      },
      "text/plain": [
       "Calculating information gains:   0%|          | 0/116 [00:00<?, ?it/s]"
      ]
     },
     "metadata": {},
     "output_type": "display_data"
    },
    {
     "data": {
      "application/vnd.jupyter.widget-view+json": {
       "model_id": "917af1f2bf9d4890ad76bff597b04655",
       "version_major": 2,
       "version_minor": 0
      },
      "text/plain": [
       "Calculating information gains:   0%|          | 0/110 [00:00<?, ?it/s]"
      ]
     },
     "metadata": {},
     "output_type": "display_data"
    },
    {
     "data": {
      "application/vnd.jupyter.widget-view+json": {
       "model_id": "4c5fcbf5137443249e7c3cffe4d0359e",
       "version_major": 2,
       "version_minor": 0
      },
      "text/plain": [
       "Calculating information gains:   0%|          | 0/102 [00:00<?, ?it/s]"
      ]
     },
     "metadata": {},
     "output_type": "display_data"
    },
    {
     "data": {
      "application/vnd.jupyter.widget-view+json": {
       "model_id": "f9cdf42254d249fd81900ee6181e42e5",
       "version_major": 2,
       "version_minor": 0
      },
      "text/plain": [
       "Calculating information gains:   0%|          | 0/80 [00:00<?, ?it/s]"
      ]
     },
     "metadata": {},
     "output_type": "display_data"
    },
    {
     "data": {
      "application/vnd.jupyter.widget-view+json": {
       "model_id": "7c24ea5c4863423692e74b7a034f67c3",
       "version_major": 2,
       "version_minor": 0
      },
      "text/plain": [
       "Calculating information gains:   0%|          | 0/66 [00:00<?, ?it/s]"
      ]
     },
     "metadata": {},
     "output_type": "display_data"
    },
    {
     "data": {
      "application/vnd.jupyter.widget-view+json": {
       "model_id": "4a79dfe699ed438da946c0054356763b",
       "version_major": 2,
       "version_minor": 0
      },
      "text/plain": [
       "Calculating information gains:   0%|          | 0/62 [00:00<?, ?it/s]"
      ]
     },
     "metadata": {},
     "output_type": "display_data"
    },
    {
     "data": {
      "application/vnd.jupyter.widget-view+json": {
       "model_id": "b8484d5f4f7544ef80affc5da7a28551",
       "version_major": 2,
       "version_minor": 0
      },
      "text/plain": [
       "Calculating information gains:   0%|          | 0/22 [00:00<?, ?it/s]"
      ]
     },
     "metadata": {},
     "output_type": "display_data"
    },
    {
     "data": {
      "application/vnd.jupyter.widget-view+json": {
       "model_id": "586df3cc6eda4fe5aacfb318bfdd4870",
       "version_major": 2,
       "version_minor": 0
      },
      "text/plain": [
       "Calculating information gains:   0%|          | 0/16 [00:00<?, ?it/s]"
      ]
     },
     "metadata": {},
     "output_type": "display_data"
    },
    {
     "data": {
      "application/vnd.jupyter.widget-view+json": {
       "model_id": "4273e131636246339df43dcafaa6f61f",
       "version_major": 2,
       "version_minor": 0
      },
      "text/plain": [
       "Calculating information gains:   0%|          | 0/14 [00:00<?, ?it/s]"
      ]
     },
     "metadata": {},
     "output_type": "display_data"
    },
    {
     "data": {
      "application/vnd.jupyter.widget-view+json": {
       "model_id": "81cfc3d790914286af015b7af953d457",
       "version_major": 2,
       "version_minor": 0
      },
      "text/plain": [
       "Calculating information gains:   0%|          | 0/12 [00:00<?, ?it/s]"
      ]
     },
     "metadata": {},
     "output_type": "display_data"
    },
    {
     "data": {
      "application/vnd.jupyter.widget-view+json": {
       "model_id": "e8efa0f298494eb18f9694fb51486283",
       "version_major": 2,
       "version_minor": 0
      },
      "text/plain": [
       "Calculating information gains:   0%|          | 0/10 [00:00<?, ?it/s]"
      ]
     },
     "metadata": {},
     "output_type": "display_data"
    },
    {
     "data": {
      "application/vnd.jupyter.widget-view+json": {
       "model_id": "0cd11bffca864488a81cdecd7f189fcf",
       "version_major": 2,
       "version_minor": 0
      },
      "text/plain": [
       "Calculating information gains:   0%|          | 0/8 [00:00<?, ?it/s]"
      ]
     },
     "metadata": {},
     "output_type": "display_data"
    },
    {
     "data": {
      "application/vnd.jupyter.widget-view+json": {
       "model_id": "eeb5c88c3c66482e930e2b38d2b8090e",
       "version_major": 2,
       "version_minor": 0
      },
      "text/plain": [
       "Calculating information gains:   0%|          | 0/6 [00:00<?, ?it/s]"
      ]
     },
     "metadata": {},
     "output_type": "display_data"
    },
    {
     "data": {
      "application/vnd.jupyter.widget-view+json": {
       "model_id": "d0d1e29a74f14047b926dd5bfcbcba21",
       "version_major": 2,
       "version_minor": 0
      },
      "text/plain": [
       "Calculating information gains:   0%|          | 0/4 [00:00<?, ?it/s]"
      ]
     },
     "metadata": {},
     "output_type": "display_data"
    },
    {
     "data": {
      "application/vnd.jupyter.widget-view+json": {
       "model_id": "90eb749f73b0424393ac5123757e70a9",
       "version_major": 2,
       "version_minor": 0
      },
      "text/plain": [
       "Calculating information gains:   0%|          | 0/6 [00:00<?, ?it/s]"
      ]
     },
     "metadata": {},
     "output_type": "display_data"
    },
    {
     "data": {
      "application/vnd.jupyter.widget-view+json": {
       "model_id": "7ceddd8f410d4b458f9703d7e356d580",
       "version_major": 2,
       "version_minor": 0
      },
      "text/plain": [
       "Calculating information gains:   0%|          | 0/40 [00:00<?, ?it/s]"
      ]
     },
     "metadata": {},
     "output_type": "display_data"
    },
    {
     "data": {
      "application/vnd.jupyter.widget-view+json": {
       "model_id": "cfc999639f3d4caeb6d3d188da05787b",
       "version_major": 2,
       "version_minor": 0
      },
      "text/plain": [
       "Calculating information gains:   0%|          | 0/4 [00:00<?, ?it/s]"
      ]
     },
     "metadata": {},
     "output_type": "display_data"
    },
    {
     "data": {
      "application/vnd.jupyter.widget-view+json": {
       "model_id": "4d9ba5dfa6c84834913b520dfe9d7cc1",
       "version_major": 2,
       "version_minor": 0
      },
      "text/plain": [
       "Calculating information gains:   0%|          | 0/36 [00:00<?, ?it/s]"
      ]
     },
     "metadata": {},
     "output_type": "display_data"
    },
    {
     "data": {
      "application/vnd.jupyter.widget-view+json": {
       "model_id": "34c3042aa3ba45a985ecbc3507daba2f",
       "version_major": 2,
       "version_minor": 0
      },
      "text/plain": [
       "Calculating information gains:   0%|          | 0/34 [00:00<?, ?it/s]"
      ]
     },
     "metadata": {},
     "output_type": "display_data"
    },
    {
     "data": {
      "application/vnd.jupyter.widget-view+json": {
       "model_id": "f98898945ff045c6940f1bbf4ae99a55",
       "version_major": 2,
       "version_minor": 0
      },
      "text/plain": [
       "Calculating information gains:   0%|          | 0/10 [00:00<?, ?it/s]"
      ]
     },
     "metadata": {},
     "output_type": "display_data"
    },
    {
     "data": {
      "application/vnd.jupyter.widget-view+json": {
       "model_id": "702b60d0329f46a5828d18369e7c5a98",
       "version_major": 2,
       "version_minor": 0
      },
      "text/plain": [
       "Calculating information gains:   0%|          | 0/8 [00:00<?, ?it/s]"
      ]
     },
     "metadata": {},
     "output_type": "display_data"
    },
    {
     "data": {
      "application/vnd.jupyter.widget-view+json": {
       "model_id": "a46646c3619c4a70813192cac56ed38f",
       "version_major": 2,
       "version_minor": 0
      },
      "text/plain": [
       "Calculating information gains:   0%|          | 0/4 [00:00<?, ?it/s]"
      ]
     },
     "metadata": {},
     "output_type": "display_data"
    },
    {
     "data": {
      "application/vnd.jupyter.widget-view+json": {
       "model_id": "cef94125e7d14caf8c741acee5c669b9",
       "version_major": 2,
       "version_minor": 0
      },
      "text/plain": [
       "Calculating information gains:   0%|          | 0/4 [00:00<?, ?it/s]"
      ]
     },
     "metadata": {},
     "output_type": "display_data"
    },
    {
     "data": {
      "application/vnd.jupyter.widget-view+json": {
       "model_id": "ebf17d8052a04471a914a80d86454d09",
       "version_major": 2,
       "version_minor": 0
      },
      "text/plain": [
       "Calculating information gains:   0%|          | 0/24 [00:00<?, ?it/s]"
      ]
     },
     "metadata": {},
     "output_type": "display_data"
    },
    {
     "data": {
      "application/vnd.jupyter.widget-view+json": {
       "model_id": "0f739fc041ae402da2369814218bfd92",
       "version_major": 2,
       "version_minor": 0
      },
      "text/plain": [
       "Calculating information gains:   0%|          | 0/16 [00:00<?, ?it/s]"
      ]
     },
     "metadata": {},
     "output_type": "display_data"
    },
    {
     "data": {
      "application/vnd.jupyter.widget-view+json": {
       "model_id": "8ebdd828ee724524945b583312591ccb",
       "version_major": 2,
       "version_minor": 0
      },
      "text/plain": [
       "Calculating information gains:   0%|          | 0/4 [00:00<?, ?it/s]"
      ]
     },
     "metadata": {},
     "output_type": "display_data"
    },
    {
     "data": {
      "application/vnd.jupyter.widget-view+json": {
       "model_id": "98d3012112c248548604cd2b1e718b5d",
       "version_major": 2,
       "version_minor": 0
      },
      "text/plain": [
       "Calculating information gains:   0%|          | 0/12 [00:00<?, ?it/s]"
      ]
     },
     "metadata": {},
     "output_type": "display_data"
    },
    {
     "data": {
      "application/vnd.jupyter.widget-view+json": {
       "model_id": "8e3085fe5826413c8d985a1ec05de6cc",
       "version_major": 2,
       "version_minor": 0
      },
      "text/plain": [
       "Calculating information gains:   0%|          | 0/8 [00:00<?, ?it/s]"
      ]
     },
     "metadata": {},
     "output_type": "display_data"
    },
    {
     "data": {
      "application/vnd.jupyter.widget-view+json": {
       "model_id": "28d48ce7418f4aee84078955be6470b7",
       "version_major": 2,
       "version_minor": 0
      },
      "text/plain": [
       "Calculating information gains:   0%|          | 0/4 [00:00<?, ?it/s]"
      ]
     },
     "metadata": {},
     "output_type": "display_data"
    },
    {
     "data": {
      "application/vnd.jupyter.widget-view+json": {
       "model_id": "2a004b9421524608b3aaa5b140cdbb3a",
       "version_major": 2,
       "version_minor": 0
      },
      "text/plain": [
       "Calculating information gains:   0%|          | 0/4 [00:00<?, ?it/s]"
      ]
     },
     "metadata": {},
     "output_type": "display_data"
    },
    {
     "data": {
      "application/vnd.jupyter.widget-view+json": {
       "model_id": "c9d17fd98be24da5aa107aeafc4d7056",
       "version_major": 2,
       "version_minor": 0
      },
      "text/plain": [
       "Calculating information gains:   0%|          | 0/4 [00:00<?, ?it/s]"
      ]
     },
     "metadata": {},
     "output_type": "display_data"
    },
    {
     "data": {
      "application/vnd.jupyter.widget-view+json": {
       "model_id": "01c60c702aa44e6c9d49861df7fc27b8",
       "version_major": 2,
       "version_minor": 0
      },
      "text/plain": [
       "Calculating information gains:   0%|          | 0/8 [00:00<?, ?it/s]"
      ]
     },
     "metadata": {},
     "output_type": "display_data"
    },
    {
     "data": {
      "application/vnd.jupyter.widget-view+json": {
       "model_id": "faade64835f040cdad7cc196fc9ae205",
       "version_major": 2,
       "version_minor": 0
      },
      "text/plain": [
       "Calculating information gains:   0%|          | 0/4 [00:00<?, ?it/s]"
      ]
     },
     "metadata": {},
     "output_type": "display_data"
    },
    {
     "data": {
      "application/vnd.jupyter.widget-view+json": {
       "model_id": "6470e217f7cc4af48e15cfa8b5f879a8",
       "version_major": 2,
       "version_minor": 0
      },
      "text/plain": [
       "Calculating information gains:   0%|          | 0/4 [00:00<?, ?it/s]"
      ]
     },
     "metadata": {},
     "output_type": "display_data"
    },
    {
     "data": {
      "application/vnd.jupyter.widget-view+json": {
       "model_id": "90975b530c0d41b1b934977613a4f870",
       "version_major": 2,
       "version_minor": 0
      },
      "text/plain": [
       "Calculating information gains:   0%|          | 0/4 [00:00<?, ?it/s]"
      ]
     },
     "metadata": {},
     "output_type": "display_data"
    },
    {
     "data": {
      "application/vnd.jupyter.widget-view+json": {
       "model_id": "065ab57f6bad4fb884c822b2a980e47b",
       "version_major": 2,
       "version_minor": 0
      },
      "text/plain": [
       "Calculating information gains:   0%|          | 0/14 [00:00<?, ?it/s]"
      ]
     },
     "metadata": {},
     "output_type": "display_data"
    },
    {
     "data": {
      "application/vnd.jupyter.widget-view+json": {
       "model_id": "19d49ae2c102479da0756b005822f1a9",
       "version_major": 2,
       "version_minor": 0
      },
      "text/plain": [
       "Calculating information gains:   0%|          | 0/4 [00:00<?, ?it/s]"
      ]
     },
     "metadata": {},
     "output_type": "display_data"
    },
    {
     "data": {
      "application/vnd.jupyter.widget-view+json": {
       "model_id": "39e36a38676243f7894b10d42c3328dd",
       "version_major": 2,
       "version_minor": 0
      },
      "text/plain": [
       "Calculating information gains:   0%|          | 0/10 [00:00<?, ?it/s]"
      ]
     },
     "metadata": {},
     "output_type": "display_data"
    },
    {
     "data": {
      "application/vnd.jupyter.widget-view+json": {
       "model_id": "6104275e8cb841c89bce2c3def37c2d3",
       "version_major": 2,
       "version_minor": 0
      },
      "text/plain": [
       "Calculating information gains:   0%|          | 0/4 [00:00<?, ?it/s]"
      ]
     },
     "metadata": {},
     "output_type": "display_data"
    },
    {
     "data": {
      "application/vnd.jupyter.widget-view+json": {
       "model_id": "e5917256ec174aaaa526ff6671c3b3ea",
       "version_major": 2,
       "version_minor": 0
      },
      "text/plain": [
       "Calculating information gains:   0%|          | 0/6 [00:00<?, ?it/s]"
      ]
     },
     "metadata": {},
     "output_type": "display_data"
    },
    {
     "data": {
      "application/vnd.jupyter.widget-view+json": {
       "model_id": "8d089235c6414d25923337db9701e90e",
       "version_major": 2,
       "version_minor": 0
      },
      "text/plain": [
       "Calculating information gains:   0%|          | 0/22 [00:00<?, ?it/s]"
      ]
     },
     "metadata": {},
     "output_type": "display_data"
    },
    {
     "data": {
      "application/vnd.jupyter.widget-view+json": {
       "model_id": "d5fb6ebb45b048679b41132d2e7ec5e8",
       "version_major": 2,
       "version_minor": 0
      },
      "text/plain": [
       "Calculating information gains:   0%|          | 0/4 [00:00<?, ?it/s]"
      ]
     },
     "metadata": {},
     "output_type": "display_data"
    },
    {
     "data": {
      "application/vnd.jupyter.widget-view+json": {
       "model_id": "b4e80ab2a3424b6687056c8dee156d3f",
       "version_major": 2,
       "version_minor": 0
      },
      "text/plain": [
       "Calculating information gains:   0%|          | 0/18 [00:00<?, ?it/s]"
      ]
     },
     "metadata": {},
     "output_type": "display_data"
    },
    {
     "data": {
      "application/vnd.jupyter.widget-view+json": {
       "model_id": "72ef973e768845a08148e2719eb9b6c9",
       "version_major": 2,
       "version_minor": 0
      },
      "text/plain": [
       "Calculating information gains:   0%|          | 0/16 [00:00<?, ?it/s]"
      ]
     },
     "metadata": {},
     "output_type": "display_data"
    },
    {
     "data": {
      "application/vnd.jupyter.widget-view+json": {
       "model_id": "4af46900bbd248d7b862f91a830a3c4a",
       "version_major": 2,
       "version_minor": 0
      },
      "text/plain": [
       "Calculating information gains:   0%|          | 0/14 [00:00<?, ?it/s]"
      ]
     },
     "metadata": {},
     "output_type": "display_data"
    },
    {
     "data": {
      "application/vnd.jupyter.widget-view+json": {
       "model_id": "fc8e2670d7e144538ab378f7c6ce2884",
       "version_major": 2,
       "version_minor": 0
      },
      "text/plain": [
       "Calculating information gains:   0%|          | 0/4 [00:00<?, ?it/s]"
      ]
     },
     "metadata": {},
     "output_type": "display_data"
    },
    {
     "data": {
      "application/vnd.jupyter.widget-view+json": {
       "model_id": "db3b5a96517b4addb15682e9136a9d63",
       "version_major": 2,
       "version_minor": 0
      },
      "text/plain": [
       "Calculating information gains:   0%|          | 0/10 [00:00<?, ?it/s]"
      ]
     },
     "metadata": {},
     "output_type": "display_data"
    },
    {
     "data": {
      "application/vnd.jupyter.widget-view+json": {
       "model_id": "208c44ce18b64ce2958d0a2e5dfa755c",
       "version_major": 2,
       "version_minor": 0
      },
      "text/plain": [
       "Calculating information gains:   0%|          | 0/8 [00:00<?, ?it/s]"
      ]
     },
     "metadata": {},
     "output_type": "display_data"
    },
    {
     "data": {
      "application/vnd.jupyter.widget-view+json": {
       "model_id": "c34cb2c9557c4152bca56bd1b3ff3a03",
       "version_major": 2,
       "version_minor": 0
      },
      "text/plain": [
       "Calculating information gains:   0%|          | 0/6 [00:00<?, ?it/s]"
      ]
     },
     "metadata": {},
     "output_type": "display_data"
    },
    {
     "data": {
      "application/vnd.jupyter.widget-view+json": {
       "model_id": "155f6e2e32dc4a999a5b99110f13b9bb",
       "version_major": 2,
       "version_minor": 0
      },
      "text/plain": [
       "Calculating information gains:   0%|          | 0/4 [00:00<?, ?it/s]"
      ]
     },
     "metadata": {},
     "output_type": "display_data"
    },
    {
     "data": {
      "application/vnd.jupyter.widget-view+json": {
       "model_id": "7e62780fbd37406a836c23a9eacae336",
       "version_major": 2,
       "version_minor": 0
      },
      "text/plain": [
       "Calculating information gains:   0%|          | 0/8 [00:00<?, ?it/s]"
      ]
     },
     "metadata": {},
     "output_type": "display_data"
    },
    {
     "data": {
      "application/vnd.jupyter.widget-view+json": {
       "model_id": "2124a56b48e643c2ad3a30dc7e5ded1f",
       "version_major": 2,
       "version_minor": 0
      },
      "text/plain": [
       "Calculating information gains:   0%|          | 0/6 [00:00<?, ?it/s]"
      ]
     },
     "metadata": {},
     "output_type": "display_data"
    },
    {
     "data": {
      "application/vnd.jupyter.widget-view+json": {
       "model_id": "0092b261059648c89745cd84cfdb85ec",
       "version_major": 2,
       "version_minor": 0
      },
      "text/plain": [
       "Calculating information gains:   0%|          | 0/6 [00:00<?, ?it/s]"
      ]
     },
     "metadata": {},
     "output_type": "display_data"
    },
    {
     "data": {
      "application/vnd.jupyter.widget-view+json": {
       "model_id": "2c5fcc143ed24fdf86ca563bb7050962",
       "version_major": 2,
       "version_minor": 0
      },
      "text/plain": [
       "Calculating information gains:   0%|          | 0/4 [00:00<?, ?it/s]"
      ]
     },
     "metadata": {},
     "output_type": "display_data"
    },
    {
     "data": {
      "application/vnd.jupyter.widget-view+json": {
       "model_id": "712f4f95ef624847a58297dcba12e1c5",
       "version_major": 2,
       "version_minor": 0
      },
      "text/plain": [
       "Calculating information gains:   0%|          | 0/10 [00:00<?, ?it/s]"
      ]
     },
     "metadata": {},
     "output_type": "display_data"
    },
    {
     "data": {
      "application/vnd.jupyter.widget-view+json": {
       "model_id": "b2fa5f61736e47ceb4accc50ff19fa31",
       "version_major": 2,
       "version_minor": 0
      },
      "text/plain": [
       "Calculating information gains:   0%|          | 0/6 [00:00<?, ?it/s]"
      ]
     },
     "metadata": {},
     "output_type": "display_data"
    },
    {
     "data": {
      "application/vnd.jupyter.widget-view+json": {
       "model_id": "406ee28e19e0483a90e72869a37120b7",
       "version_major": 2,
       "version_minor": 0
      },
      "text/plain": [
       "Calculating information gains:   0%|          | 0/4 [00:00<?, ?it/s]"
      ]
     },
     "metadata": {},
     "output_type": "display_data"
    },
    {
     "data": {
      "application/vnd.jupyter.widget-view+json": {
       "model_id": "f2a28368db3341fd85895ad315d328e5",
       "version_major": 2,
       "version_minor": 0
      },
      "text/plain": [
       "Calculating information gains:   0%|          | 0/4 [00:00<?, ?it/s]"
      ]
     },
     "metadata": {},
     "output_type": "display_data"
    },
    {
     "data": {
      "application/vnd.jupyter.widget-view+json": {
       "model_id": "094f2f5b9d51434882b59ed1fde8774e",
       "version_major": 2,
       "version_minor": 0
      },
      "text/plain": [
       "Calculating information gains:   0%|          | 0/12 [00:00<?, ?it/s]"
      ]
     },
     "metadata": {},
     "output_type": "display_data"
    },
    {
     "data": {
      "application/vnd.jupyter.widget-view+json": {
       "model_id": "10f8dbc828654cc9b348c29a9027ba0e",
       "version_major": 2,
       "version_minor": 0
      },
      "text/plain": [
       "Calculating information gains:   0%|          | 0/6 [00:00<?, ?it/s]"
      ]
     },
     "metadata": {},
     "output_type": "display_data"
    },
    {
     "data": {
      "application/vnd.jupyter.widget-view+json": {
       "model_id": "a0bf438c34594be4827ddc38a057ab81",
       "version_major": 2,
       "version_minor": 0
      },
      "text/plain": [
       "Calculating information gains:   0%|          | 0/6 [00:00<?, ?it/s]"
      ]
     },
     "metadata": {},
     "output_type": "display_data"
    },
    {
     "data": {
      "application/vnd.jupyter.widget-view+json": {
       "model_id": "b8edf0d9a5da43aab0c6ae06e7eea417",
       "version_major": 2,
       "version_minor": 0
      },
      "text/plain": [
       "Calculating information gains:   0%|          | 0/4 [00:00<?, ?it/s]"
      ]
     },
     "metadata": {},
     "output_type": "display_data"
    },
    {
     "name": "stdout",
     "output_type": "stream",
     "text": [
      "tensor([True, True, True, True, True, True, True, True, True, True, True, True,\n",
      "        True, True, True, True, True, True, True, True, True, True, True, True,\n",
      "        True, True, True, True, True, True, True, True, True, True, True, True,\n",
      "        True, True, True, True, True, True, True, True, True, True, True, True,\n",
      "        True, True, True, True, True, True, True, True, True, True, True, True,\n",
      "        True, True, True, True, True, True, True, True, True, True, True, True,\n",
      "        True, True, True, True, True, True, True, True, True, True, True, True,\n",
      "        True, True, True, True, True, True, True, True, True, True, True, True,\n",
      "        True, True, True, True])\n"
     ]
    },
    {
     "data": {
      "text/plain": [
       "<matplotlib.collections.PathCollection at 0x35578df00>"
      ]
     },
     "execution_count": 1,
     "metadata": {},
     "output_type": "execute_result"
    },
    {
     "data": {
      "image/png": "[encoded data removed]",
      "text/plain": [
       "<Figure size 640x480 with 1 Axes>"
      ]
     },
     "metadata": {},
     "output_type": "display_data"
    }
   ],
   "source": [
    "import numpy as np\n",
    "import torch\n",
    "from sklearn.tree import DecisionTreeClassifier\n",
    "from sklearn.ensemble import RandomForestClassifier, RandomForestRegressor\n",
    "from sklearn.neighbors import KNeighborsClassifier, KNeighborsRegressor\n",
    "from embedders.tree_new import ProductSpaceDT\n",
    "from embedders.manifolds import ProductManifold\n",
    "\n",
    "def long_lat_to_3d(X):\n",
    "    long, lat = X[:,0], X[:,1]\n",
    "    return np.array([np.cos(lat) * np.cos(long), np.cos(lat) * np.sin(long), np.sin(lat)]).T\n",
    "\n",
    "def long_lat_to_2d(X):\n",
    "    long, lat = X[:,0], X[:,1]\n",
    "    return np.array([np.cos(lat) * np.cos(long), np.cos(lat) * np.sin(long)]).T\n",
    "\n",
    "X = np.random.rand(100, 2)\n",
    "X = long_lat_to_3d(X)\n",
    "X = torch.tensor(X, dtype=torch.float32)\n",
    "y = np.random.randint(0, 5, 100)\n",
    "y = torch.tensor(y, dtype=torch.long)\n",
    "\n",
    "pm = ProductManifold(signature=[(1, 2)])\n",
    "dt = ProductSpaceDT(pm=pm, batch_size=1)\n",
    "# dt = DecisionTreeClassifier(max_depth=None)\n",
    "# dt = RandomForestClassifier(n_estimators=10, max_depth=None, max_features=None)\n",
    "# dt = KNeighborsClassifier(n_neighbors=5)\n",
    "# dt = KNeighborsRegressor(n_neighbors=5)\n",
    "\n",
    "dt.fit(X, y)\n",
    "print(dt.score(X, y))\n",
    "\n",
    "_x = np.linspace(0, 1, 1001)\n",
    "_y = np.linspace(0, 1, 1001)\n",
    "_X, _Y = np.meshgrid(_x, _y)\n",
    "_X_sph = long_lat_to_3d(np.c_[_X.ravel(), _Y.ravel()])\n",
    "Z = dt.predict(_X_sph).reshape(_X.shape)\n",
    "# Z = dt.predict(np.c_[_X.ravel(), _Y.ravel()]).reshape(_X.shape)\n",
    "\n",
    "import matplotlib.pyplot as plt\n",
    "\n",
    "plt.contourf(_X, _Y, Z, levels=5)\n",
    "# Black border for points\n",
    "plt.scatter(X[:,0], X[:,1], c=y, edgecolors='black')"
   ]
  },
  {
   "cell_type": "code",
   "execution_count": 2,
   "metadata": {},
   "outputs": [],
   "source": [
    "import embedders.manifolds\n",
    "\n",
    "\n",
    "pm = embedders.manifolds.ProductManifold(signature=[(0, 8)])"
   ]
  },
  {
   "cell_type": "code",
   "execution_count": 3,
   "metadata": {},
   "outputs": [],
   "source": [
    "sample = pm.sample(pm.mu0)"
   ]
  },
  {
   "cell_type": "code",
   "execution_count": 4,
   "metadata": {},
   "outputs": [
    {
     "data": {
      "text/plain": [
       "tensor([[ 0.2419, -0.0205,  1.9957, -0.8986, -0.3383, -0.0302, -1.2964, -1.0592]],\n",
       "       grad_fn=<CatBackward0>)"
      ]
     },
     "execution_count": 4,
     "metadata": {},
     "output_type": "execute_result"
    }
   ],
   "source": [
    "pm.manifold.logmap(pm.mu0, sample)"
   ]
  },
  {
   "cell_type": "code",
   "execution_count": 5,
   "metadata": {},
   "outputs": [
    {
     "data": {
      "text/plain": [
       "tensor([[ 0.2419, -0.0205,  1.9957, -0.8986, -0.3383, -0.0302, -1.2964, -1.0592]],\n",
       "       grad_fn=<CatBackward0>)"
      ]
     },
     "execution_count": 5,
     "metadata": {},
     "output_type": "execute_result"
    }
   ],
   "source": [
    "sample"
   ]
  },
  {
   "cell_type": "code",
   "execution_count": 6,
   "metadata": {},
   "outputs": [],
   "source": [
    "import embedders\n",
    "\n",
    "pm = embedders.manifolds.ProductManifold(signature=[(-1, 2), (0, 2), (1, 2)])"
   ]
  },
  {
   "cell_type": "code",
   "execution_count": 7,
   "metadata": {},
   "outputs": [],
   "source": [
    "_m = pm.P[0].manifold"
   ]
  },
  {
   "cell_type": "code",
   "execution_count": 8,
   "metadata": {},
   "outputs": [
    {
     "data": {
      "text/plain": [
       "tensor([1., 0., 0., 0., 0., 1., 0., 0.])"
      ]
     },
     "execution_count": 8,
     "metadata": {},
     "output_type": "execute_result"
    }
   ],
   "source": [
    "pm.mu0"
   ]
  },
  {
   "cell_type": "code",
   "execution_count": 9,
   "metadata": {},
   "outputs": [
    {
     "data": {
      "text/plain": [
       "8"
      ]
     },
     "execution_count": 9,
     "metadata": {},
     "output_type": "execute_result"
    }
   ],
   "source": [
    "pm.ambient_dim"
   ]
  },
  {
   "cell_type": "code",
   "execution_count": 12,
   "metadata": {},
   "outputs": [
    {
     "data": {
      "text/plain": [
       "tensor([[[ 0.0000e+00,  3.7757e-01, -6.0623e-01,  9.9979e-01,  4.7421e-01,\n",
       "           0.0000e+00, -1.0952e+00, -3.4913e-01]],\n",
       "\n",
       "        [[ 0.0000e+00,  1.6256e+00, -1.2329e+00,  6.2518e-02,  2.1618e-01,\n",
       "           0.0000e+00,  4.4631e-01,  7.9177e-01]],\n",
       "\n",
       "        [[ 0.0000e+00,  1.0730e+00, -3.4047e-01,  5.3398e-01,  5.3757e-01,\n",
       "           0.0000e+00, -1.0448e+00,  5.9377e-01]],\n",
       "\n",
       "        [[ 0.0000e+00, -1.2358e+00, -1.8372e+00,  1.1468e+00,  1.2585e+00,\n",
       "           0.0000e+00,  6.3174e-01, -1.7462e+00]],\n",
       "\n",
       "        [[ 0.0000e+00,  3.5947e-01,  1.6151e-03, -3.3443e-01, -1.0160e-01,\n",
       "           0.0000e+00,  2.3179e-01,  5.0318e-02]],\n",
       "\n",
       "        [[ 0.0000e+00, -6.8709e-01,  4.5553e-01, -7.6210e-03, -3.5125e-01,\n",
       "           0.0000e+00, -3.9655e-01,  4.2721e-01]],\n",
       "\n",
       "        [[ 0.0000e+00,  5.1779e-01, -1.4346e-01, -8.9483e-01, -1.1972e+00,\n",
       "           0.0000e+00, -1.0568e+00, -3.4706e-01]],\n",
       "\n",
       "        [[ 0.0000e+00, -2.0099e+00, -8.9830e-01, -8.5351e-01, -2.0102e-01,\n",
       "           0.0000e+00, -3.9671e-01, -5.9352e-01]],\n",
       "\n",
       "        [[ 0.0000e+00, -1.6806e-01, -9.5356e-01, -1.1910e+00, -1.2669e+00,\n",
       "           0.0000e+00,  7.5351e-03, -9.1199e-01]],\n",
       "\n",
       "        [[ 0.0000e+00,  3.7191e-01, -4.7858e-01, -2.8217e+00,  1.3446e+00,\n",
       "           0.0000e+00, -6.0854e-02,  7.6243e-01]]], grad_fn=<CatBackward0>)"
      ]
     },
     "execution_count": 12,
     "metadata": {},
     "output_type": "execute_result"
    }
   ],
   "source": [
    "import torch\n",
    "sam = torch.stack([pm.sample() for _ in range(10)])\n",
    "\n",
    "pm.logmap(sam, base=pm.mu0)"
   ]
  },
  {
   "cell_type": "code",
   "execution_count": null,
   "metadata": {},
   "outputs": [
    {
     "ename": "TypeError",
     "evalue": "ProductManifold.sample() missing 1 required positional argument: 'z_mean'",
     "output_type": "error",
     "traceback": [
      "\u001b[0;31m---------------------------------------------------------------------------\u001b[0m",
      "\u001b[0;31mTypeError\u001b[0m                                 Traceback (most recent call last)",
      "Cell \u001b[0;32mIn[20], line 3\u001b[0m\n\u001b[1;32m      1\u001b[0m \u001b[38;5;28;01mimport\u001b[39;00m \u001b[38;5;21;01mtorch\u001b[39;00m\n\u001b[0;32m----> 3\u001b[0m _sample \u001b[38;5;241m=\u001b[39m \u001b[43mpm\u001b[49m\u001b[38;5;241;43m.\u001b[39;49m\u001b[43msample\u001b[49m\u001b[43m(\u001b[49m\u001b[43m)\u001b[49m\n",
      "\u001b[0;31mTypeError\u001b[0m: ProductManifold.sample() missing 1 required positional argument: 'z_mean'"
     ]
    }
   ],
   "source": [
    "import torch\n",
    "\n",
    "_sample = pm.sample()"
   ]
  },
  {
   "cell_type": "code",
   "execution_count": 13,
   "metadata": {},
   "outputs": [
    {
     "data": {
      "text/plain": [
       "Scaled(Lorentz) manifold"
      ]
     },
     "execution_count": 13,
     "metadata": {},
     "output_type": "execute_result"
    }
   ],
   "source": [
    "_m.expmap"
   ]
  },
  {
   "cell_type": "code",
   "execution_count": null,
   "metadata": {},
   "outputs": [],
   "source": [
    "import numpy as np "
   ]
  },
  {
   "cell_type": "code",
   "execution_count": 11,
   "metadata": {},
   "outputs": [
    {
     "data": {
      "text/plain": [
       "[<matplotlib.lines.Line2D at 0x31aee2ad0>]"
      ]
     },
     "execution_count": 11,
     "metadata": {},
     "output_type": "execute_result"
    },
    {
     "data": {
      "image/png": "[encoded data removed]",
      "text/plain": [
       "<Figure size 480x480 with 2 Axes>"
      ]
     },
     "metadata": {},
     "output_type": "display_data"
    }
   ],
   "source": [
    "import numpy as np\n",
    "import matplotlib.pyplot as plt\n",
    "\n",
    "x = np.linspace(-1, 1, 100)\n",
    "y = np.linspace(-1, 1, 100)\n",
    "\n",
    "diffs = x[:, None] - y[None, :]\n",
    "\n",
    "plt.matshow(diffs)\n",
    "plt.ylabel('x')\n",
    "plt.yticks([0, 50, 99], [-1, 0, 1])\n",
    "plt.xlabel('y')\n",
    "plt.xticks([0, 50, 99], [-1, 0, 1])\n",
    "plt.colorbar()\n",
    "\n",
    "# We want to learn y = x\n",
    "plt.plot([0, 99], [0, 99], 'r')"
   ]
  },
  {
   "cell_type": "code",
   "execution_count": 13,
   "metadata": {},
   "outputs": [
    {
     "data": {
      "text/plain": [
       "[<matplotlib.lines.Line2D at 0x31b200d30>]"
      ]
     },
     "execution_count": 13,
     "metadata": {},
     "output_type": "execute_result"
    },
    {
     "data": {
      "image/png": "[encoded data removed]",
      "text/plain": [
       "<Figure size 480x480 with 2 Axes>"
      ]
     },
     "metadata": {},
     "output_type": "display_data"
    }
   ],
   "source": [
    "diffs = (x[:, None] - y[None, :]) ** 2\n",
    "\n",
    "plt.matshow(diffs)\n",
    "plt.ylabel('x')\n",
    "plt.yticks([0, 50, 99], [-1, 0, 1])\n",
    "plt.xlabel('y')\n",
    "plt.xticks([0, 50, 99], [-1, 0, 1])\n",
    "plt.colorbar()\n",
    "\n",
    "# We want to learn y = x\n",
    "plt.plot([0, 99], [0, 99], 'r')"
   ]
  },
  {
   "cell_type": "code",
   "execution_count": 24,
   "metadata": {},
   "outputs": [
    {
     "data": {
      "text/plain": [
       "<matplotlib.legend.Legend at 0x17ee3b580>"
      ]
     },
     "execution_count": 24,
     "metadata": {},
     "output_type": "execute_result"
    },
    {
     "data": {
      "image/png": "[encoded data removed]",
      "text/plain": [
       "<Figure size 640x480 with 1 Axes>"
      ]
     },
     "metadata": {},
     "output_type": "display_data"
    }
   ],
   "source": [
    "plt.plot(x, x, label=\"x\")\n",
    "# plt.plot(x, abs(x), label=\"abs(x)\")\n",
    "# plt.plot(x, [max(0, _x) for _x in x], label=\"max(0, x)\")\n",
    "plt.plot(x, x**2, label=\"x**2\")\n",
    "plt.xlabel(\"x - y\")\n",
    "plt.legend()\n",
    "# plt.ylabel(\"(x - y)**2\")"
   ]
  },
  {
   "cell_type": "code",
   "execution_count": 23,
   "metadata": {},
   "outputs": [
    {
     "data": {
      "text/plain": [
       "[<matplotlib.lines.Line2D at 0x17f5c8940>]"
      ]
     },
     "execution_count": 23,
     "metadata": {},
     "output_type": "execute_result"
    },
    {
     "data": {
      "image/png": "[encoded data removed]",
      "text/plain": [
       "<Figure size 640x480 with 1 Axes>"
      ]
     },
     "metadata": {},
     "output_type": "display_data"
    }
   ],
   "source": [
    "# Plot a sigmoid\n",
    "\n",
    "x = np.linspace(-10, 10, 100)\n",
    "y = 1 / (1 + np.exp(-x))\n",
    "\n",
    "plt.plot(x, y)"
   ]
  },
  {
   "cell_type": "code",
   "execution_count": null,
   "metadata": {},
   "outputs": [],
   "source": [
    "# Hot dog detector\n",
    "\n",
    "# Input: 28x28 image\n",
    "# Hidden: 1000 dimensions\n",
    "# Output: 2 dimension (hot dog vs not hot dog)\n",
    "\n",
    "# Suppose you have an input that is a hot dog\n",
    "# And your p(hot dog) = 0.1\n",
    "\n",
    "# That means the loss is probably pretty high for this input\n",
    "# How was this computed?\n",
    "\n",
    "# Loss = (1 - 0.1)^2\n",
    "\n",
    "# "
   ]
  },
  {
   "cell_type": "code",
   "execution_count": null,
   "metadata": {},
   "outputs": [],
   "source": [
    "# Chain rule in calculus:\n",
    "# if you want to compute d/dx f(g(x)), then you can compute:\n",
    "# d/dx f(g(x)) = f'(g(x)) * g'(x)\n",
    "\n",
    "\n",
    "# Let's do this in the multivariate case\n",
    "# L is out loss function\n",
    "# y is our output\n",
    "# x is our input\n",
    "# dL/dx = dL/dy * dy/dx\n",
    "# What does this mean? We can compute the\n",
    "# contribution of our input as the product of the contribution of\n",
    "# our output to the loss and the contribution of our input to the output"
   ]
  },
  {
   "cell_type": "markdown",
   "metadata": {},
   "source": []
  }
 ],
 "metadata": {
  "kernelspec": {
   "display_name": "cloudspace",
   "language": "python",
   "name": "python3"
  },
  "language_info": {
   "codemirror_mode": {
    "name": "ipython",
    "version": 3
   },
   "file_extension": ".py",
   "mimetype": "text/x-python",
   "name": "python",
   "nbconvert_exporter": "python",
   "pygments_lexer": "ipython3",
   "version": "3.10.10"
  }
 },
 "nbformat": 4,
 "nbformat_minor": 2
}

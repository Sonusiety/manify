{
 "cells": [
  {
   "cell_type": "code",
   "execution_count": 1,
   "metadata": {},
   "outputs": [],
   "source": [
    "import embedders"
   ]
  },
  {
   "cell_type": "code",
   "execution_count": 2,
   "metadata": {},
   "outputs": [
    {
     "data": {
      "text/plain": [
       "'1.5.1'"
      ]
     },
     "execution_count": 2,
     "metadata": {},
     "output_type": "execute_result"
    }
   ],
   "source": [
    "import sklearn\n",
    "sklearn.__version__"
   ]
  },
  {
   "cell_type": "code",
   "execution_count": 5,
   "metadata": {},
   "outputs": [
    {
     "data": {
      "text/plain": [
       "torch.Size([13410, 1056])"
      ]
     },
     "execution_count": 5,
     "metadata": {},
     "output_type": "execute_result"
    }
   ],
   "source": [
    "import embedders.dataloaders\n",
    "\n",
    "\n",
    "embedders.dataloaders.load(\"lymphoma\")[0].shape"
   ]
  },
  {
   "cell_type": "code",
   "execution_count": 11,
   "metadata": {},
   "outputs": [
    {
     "name": "stdout",
     "output_type": "stream",
     "text": [
      "Top CC has 1025 nodes; original graph has 1025 nodes.\n"
     ]
    },
    {
     "data": {
      "application/vnd.jupyter.widget-view+json": {
       "model_id": "b04554a01d9745688e8f1e81a7390368",
       "version_major": 2,
       "version_minor": 0
      },
      "text/plain": [
       "  0%|          | 0/3000 [00:00<?, ?it/s]"
      ]
     },
     "metadata": {},
     "output_type": "display_data"
    },
    {
     "ename": "KeyboardInterrupt",
     "evalue": "",
     "output_type": "error",
     "traceback": [
      "\u001b[0;31m---------------------------------------------------------------------------\u001b[0m",
      "\u001b[0;31mKeyboardInterrupt\u001b[0m                         Traceback (most recent call last)",
      "Cell \u001b[0;32mIn[11], line 5\u001b[0m\n\u001b[1;32m      3\u001b[0m dists, y, adj \u001b[38;5;241m=\u001b[39m embedders\u001b[38;5;241m.\u001b[39mdataloaders\u001b[38;5;241m.\u001b[39mload(\u001b[38;5;124m\"\u001b[39m\u001b[38;5;124mcs_phds\u001b[39m\u001b[38;5;124m\"\u001b[39m)\n\u001b[1;32m      4\u001b[0m pm \u001b[38;5;241m=\u001b[39m embedders\u001b[38;5;241m.\u001b[39mmanifolds\u001b[38;5;241m.\u001b[39mProductManifold(signature\u001b[38;5;241m=\u001b[39m[(\u001b[38;5;241m-\u001b[39m\u001b[38;5;241m1\u001b[39m, \u001b[38;5;241m2\u001b[39m)] \u001b[38;5;241m*\u001b[39m \u001b[38;5;241m5\u001b[39m)\n\u001b[0;32m----> 5\u001b[0m \u001b[43membedders\u001b[49m\u001b[38;5;241;43m.\u001b[39;49m\u001b[43mcoordinate_learning\u001b[49m\u001b[38;5;241;43m.\u001b[39;49m\u001b[43mtrain_coords\u001b[49m\u001b[43m(\u001b[49m\u001b[43mpm\u001b[49m\u001b[43m,\u001b[49m\u001b[43m \u001b[49m\u001b[43mdists\u001b[49m\u001b[43m,\u001b[49m\u001b[43m \u001b[49m\u001b[43mlearning_rate\u001b[49m\u001b[38;5;241;43m=\u001b[39;49m\u001b[38;5;241;43m1e-2\u001b[39;49m\u001b[43m,\u001b[49m\u001b[43m \u001b[49m\u001b[43mburn_in_learning_rate\u001b[49m\u001b[38;5;241;43m=\u001b[39;49m\u001b[38;5;241;43m1e-3\u001b[39;49m\u001b[43m,\u001b[49m\u001b[43m \u001b[49m\u001b[43mburn_in_iterations\u001b[49m\u001b[38;5;241;43m=\u001b[39;49m\u001b[38;5;241;43m1000\u001b[39;49m\u001b[43m,\u001b[49m\u001b[43m \u001b[49m\u001b[43mtraining_iterations\u001b[49m\u001b[38;5;241;43m=\u001b[39;49m\u001b[38;5;241;43m2000\u001b[39;49m\u001b[43m)\u001b[49m\n",
      "File \u001b[0;32m~/embedders/src/embedders/coordinate_learning.py:60\u001b[0m, in \u001b[0;36mtrain_coords\u001b[0;34m(pm, dists, device, burn_in_learning_rate, burn_in_iterations, learning_rate, scale_factor_learning_rate, training_iterations, loss_window_size, logging_interval)\u001b[0m\n\u001b[1;32m     58\u001b[0m dist_est \u001b[38;5;241m=\u001b[39m pm\u001b[38;5;241m.\u001b[39mpdist(pm\u001b[38;5;241m.\u001b[39mx_embed)\n\u001b[1;32m     59\u001b[0m L \u001b[38;5;241m=\u001b[39m distortion_loss(dist_est, dists)\n\u001b[0;32m---> 60\u001b[0m \u001b[43mL\u001b[49m\u001b[38;5;241;43m.\u001b[39;49m\u001b[43mbackward\u001b[49m\u001b[43m(\u001b[49m\u001b[43m)\u001b[49m\n\u001b[1;32m     61\u001b[0m losses\u001b[38;5;241m.\u001b[39mappend(L\u001b[38;5;241m.\u001b[39mitem())\n\u001b[1;32m     62\u001b[0m pm\u001b[38;5;241m.\u001b[39mopt\u001b[38;5;241m.\u001b[39mstep()\n",
      "File \u001b[0;32m~/miniforge3/envs/embedders2/lib/python3.10/site-packages/torch/_tensor.py:525\u001b[0m, in \u001b[0;36mTensor.backward\u001b[0;34m(self, gradient, retain_graph, create_graph, inputs)\u001b[0m\n\u001b[1;32m    515\u001b[0m \u001b[38;5;28;01mif\u001b[39;00m has_torch_function_unary(\u001b[38;5;28mself\u001b[39m):\n\u001b[1;32m    516\u001b[0m     \u001b[38;5;28;01mreturn\u001b[39;00m handle_torch_function(\n\u001b[1;32m    517\u001b[0m         Tensor\u001b[38;5;241m.\u001b[39mbackward,\n\u001b[1;32m    518\u001b[0m         (\u001b[38;5;28mself\u001b[39m,),\n\u001b[0;32m   (...)\u001b[0m\n\u001b[1;32m    523\u001b[0m         inputs\u001b[38;5;241m=\u001b[39minputs,\n\u001b[1;32m    524\u001b[0m     )\n\u001b[0;32m--> 525\u001b[0m \u001b[43mtorch\u001b[49m\u001b[38;5;241;43m.\u001b[39;49m\u001b[43mautograd\u001b[49m\u001b[38;5;241;43m.\u001b[39;49m\u001b[43mbackward\u001b[49m\u001b[43m(\u001b[49m\n\u001b[1;32m    526\u001b[0m \u001b[43m    \u001b[49m\u001b[38;5;28;43mself\u001b[39;49m\u001b[43m,\u001b[49m\u001b[43m \u001b[49m\u001b[43mgradient\u001b[49m\u001b[43m,\u001b[49m\u001b[43m \u001b[49m\u001b[43mretain_graph\u001b[49m\u001b[43m,\u001b[49m\u001b[43m \u001b[49m\u001b[43mcreate_graph\u001b[49m\u001b[43m,\u001b[49m\u001b[43m \u001b[49m\u001b[43minputs\u001b[49m\u001b[38;5;241;43m=\u001b[39;49m\u001b[43minputs\u001b[49m\n\u001b[1;32m    527\u001b[0m \u001b[43m\u001b[49m\u001b[43m)\u001b[49m\n",
      "File \u001b[0;32m~/miniforge3/envs/embedders2/lib/python3.10/site-packages/torch/autograd/__init__.py:267\u001b[0m, in \u001b[0;36mbackward\u001b[0;34m(tensors, grad_tensors, retain_graph, create_graph, grad_variables, inputs)\u001b[0m\n\u001b[1;32m    262\u001b[0m     retain_graph \u001b[38;5;241m=\u001b[39m create_graph\n\u001b[1;32m    264\u001b[0m \u001b[38;5;66;03m# The reason we repeat the same comment below is that\u001b[39;00m\n\u001b[1;32m    265\u001b[0m \u001b[38;5;66;03m# some Python versions print out the first line of a multi-line function\u001b[39;00m\n\u001b[1;32m    266\u001b[0m \u001b[38;5;66;03m# calls in the traceback and some print out the last line\u001b[39;00m\n\u001b[0;32m--> 267\u001b[0m \u001b[43m_engine_run_backward\u001b[49m\u001b[43m(\u001b[49m\n\u001b[1;32m    268\u001b[0m \u001b[43m    \u001b[49m\u001b[43mtensors\u001b[49m\u001b[43m,\u001b[49m\n\u001b[1;32m    269\u001b[0m \u001b[43m    \u001b[49m\u001b[43mgrad_tensors_\u001b[49m\u001b[43m,\u001b[49m\n\u001b[1;32m    270\u001b[0m \u001b[43m    \u001b[49m\u001b[43mretain_graph\u001b[49m\u001b[43m,\u001b[49m\n\u001b[1;32m    271\u001b[0m \u001b[43m    \u001b[49m\u001b[43mcreate_graph\u001b[49m\u001b[43m,\u001b[49m\n\u001b[1;32m    272\u001b[0m \u001b[43m    \u001b[49m\u001b[43minputs\u001b[49m\u001b[43m,\u001b[49m\n\u001b[1;32m    273\u001b[0m \u001b[43m    \u001b[49m\u001b[43mallow_unreachable\u001b[49m\u001b[38;5;241;43m=\u001b[39;49m\u001b[38;5;28;43;01mTrue\u001b[39;49;00m\u001b[43m,\u001b[49m\n\u001b[1;32m    274\u001b[0m \u001b[43m    \u001b[49m\u001b[43maccumulate_grad\u001b[49m\u001b[38;5;241;43m=\u001b[39;49m\u001b[38;5;28;43;01mTrue\u001b[39;49;00m\u001b[43m,\u001b[49m\n\u001b[1;32m    275\u001b[0m \u001b[43m\u001b[49m\u001b[43m)\u001b[49m\n",
      "File \u001b[0;32m~/miniforge3/envs/embedders2/lib/python3.10/site-packages/torch/autograd/graph.py:744\u001b[0m, in \u001b[0;36m_engine_run_backward\u001b[0;34m(t_outputs, *args, **kwargs)\u001b[0m\n\u001b[1;32m    742\u001b[0m     unregister_hooks \u001b[38;5;241m=\u001b[39m _register_logging_hooks_on_whole_graph(t_outputs)\n\u001b[1;32m    743\u001b[0m \u001b[38;5;28;01mtry\u001b[39;00m:\n\u001b[0;32m--> 744\u001b[0m     \u001b[38;5;28;01mreturn\u001b[39;00m \u001b[43mVariable\u001b[49m\u001b[38;5;241;43m.\u001b[39;49m\u001b[43m_execution_engine\u001b[49m\u001b[38;5;241;43m.\u001b[39;49m\u001b[43mrun_backward\u001b[49m\u001b[43m(\u001b[49m\u001b[43m  \u001b[49m\u001b[38;5;66;43;03m# Calls into the C++ engine to run the backward pass\u001b[39;49;00m\n\u001b[1;32m    745\u001b[0m \u001b[43m        \u001b[49m\u001b[43mt_outputs\u001b[49m\u001b[43m,\u001b[49m\u001b[43m \u001b[49m\u001b[38;5;241;43m*\u001b[39;49m\u001b[43margs\u001b[49m\u001b[43m,\u001b[49m\u001b[43m \u001b[49m\u001b[38;5;241;43m*\u001b[39;49m\u001b[38;5;241;43m*\u001b[39;49m\u001b[43mkwargs\u001b[49m\n\u001b[1;32m    746\u001b[0m \u001b[43m    \u001b[49m\u001b[43m)\u001b[49m  \u001b[38;5;66;03m# Calls into the C++ engine to run the backward pass\u001b[39;00m\n\u001b[1;32m    747\u001b[0m \u001b[38;5;28;01mfinally\u001b[39;00m:\n\u001b[1;32m    748\u001b[0m     \u001b[38;5;28;01mif\u001b[39;00m attach_logging_hooks:\n",
      "\u001b[0;31mKeyboardInterrupt\u001b[0m: "
     ]
    }
   ],
   "source": [
    "import embedders\n",
    "\n",
    "dists, y, adj = embedders.dataloaders.load(\"cs_phds\")\n",
    "pm = embedders.manifolds.ProductManifold(signature=[(-1, 2)] * 5)\n",
    "embedders.coordinate_learning.train_coords(\n",
    "    pm, dists, learning_rate=1e-2, burn_in_learning_rate=1e-3, burn_in_iterations=1000, training_iterations=2000\n",
    ")"
   ]
  },
  {
   "cell_type": "code",
   "execution_count": 59,
   "metadata": {},
   "outputs": [
    {
     "name": "stdout",
     "output_type": "stream",
     "text": [
      "0.98\n"
     ]
    },
    {
     "data": {
      "text/plain": [
       "<matplotlib.collections.PathCollection at 0x34ed252d0>"
      ]
     },
     "execution_count": 59,
     "metadata": {},
     "output_type": "execute_result"
    },
    {
     "data": {
      "image/png": "[encoded data removed]",
      "text/plain": [
       "<Figure size 640x480 with 1 Axes>"
      ]
     },
     "metadata": {},
     "output_type": "display_data"
    }
   ],
   "source": [
    "import numpy as np\n",
    "from sklearn.tree import DecisionTreeClassifier\n",
    "from sklearn.ensemble import RandomForestClassifier, RandomForestRegressor\n",
    "from sklearn.neighbors import KNeighborsClassifier, KNeighborsRegressor\n",
    "\n",
    "X = np.random.rand(100, 2)\n",
    "y = np.random.randint(0, 5, 100)\n",
    "# dt = DecisionTreeClassifier(max_depth=None)\n",
    "# dt = RandomForestClassifier(n_estimators=10, max_depth=None, max_features=None)\n",
    "# dt = KNeighborsClassifier(n_neighbors=5)\n",
    "# dt = KNeighborsRegressor(n_neighbors=5)\n",
    "\n",
    "dt.fit(X, y)\n",
    "print(dt.score(X, y))\n",
    "\n",
    "_x = np.linspace(0, 1, 1001)\n",
    "_y = np.linspace(0, 1, 1001)\n",
    "_X, _Y = np.meshgrid(_x, _y)\n",
    "Z = dt.predict(np.c_[_X.ravel(), _Y.ravel()]).reshape(_X.shape)\n",
    "\n",
    "import matplotlib.pyplot as plt\n",
    "\n",
    "plt.contourf(_X, _Y, Z, levels=5)\n",
    "# Black border for points\n",
    "plt.scatter(X[:,0], X[:,1], c=y, edgecolors='black')"
   ]
  },
  {
   "cell_type": "code",
   "execution_count": 1,
   "metadata": {},
   "outputs": [
    {
     "data": {
      "application/vnd.jupyter.widget-view+json": {
       "model_id": "6d81c0de6c384db2a7c87ba629ce0cd8",
       "version_major": 2,
       "version_minor": 0
      },
      "text/plain": [
       "Calculating information gains:   0%|          | 0/300 [00:00<?, ?it/s]"
      ]
     },
     "metadata": {},
     "output_type": "display_data"
    },
    {
     "data": {
      "application/vnd.jupyter.widget-view+json": {
       "model_id": "4f03a3573de84d088f4f86b1b8570f16",
       "version_major": 2,
       "version_minor": 0
      },
      "text/plain": [
       "Calculating information gains:   0%|          | 0/45 [00:00<?, ?it/s]"
      ]
     },
     "metadata": {},
     "output_type": "display_data"
    },
    {
     "data": {
      "application/vnd.jupyter.widget-view+json": {
       "model_id": "9fb253c829dd4dba87f3fce32161a13c",
       "version_major": 2,
       "version_minor": 0
      },
      "text/plain": [
       "Calculating information gains:   0%|          | 0/30 [00:00<?, ?it/s]"
      ]
     },
     "metadata": {},
     "output_type": "display_data"
    },
    {
     "data": {
      "application/vnd.jupyter.widget-view+json": {
       "model_id": "d52eb0f410254f628c75ab0ffb4498d7",
       "version_major": 2,
       "version_minor": 0
      },
      "text/plain": [
       "Calculating information gains:   0%|          | 0/6 [00:00<?, ?it/s]"
      ]
     },
     "metadata": {},
     "output_type": "display_data"
    },
    {
     "data": {
      "application/vnd.jupyter.widget-view+json": {
       "model_id": "c549364bd2e14c4ba95c1f5439eed09d",
       "version_major": 2,
       "version_minor": 0
      },
      "text/plain": [
       "Calculating information gains:   0%|          | 0/24 [00:00<?, ?it/s]"
      ]
     },
     "metadata": {},
     "output_type": "display_data"
    },
    {
     "data": {
      "application/vnd.jupyter.widget-view+json": {
       "model_id": "1d92377d6147492c92082099a7ccba2e",
       "version_major": 2,
       "version_minor": 0
      },
      "text/plain": [
       "Calculating information gains:   0%|          | 0/21 [00:00<?, ?it/s]"
      ]
     },
     "metadata": {},
     "output_type": "display_data"
    },
    {
     "data": {
      "application/vnd.jupyter.widget-view+json": {
       "model_id": "d3a6252f34e94a2f86241b93e16173a7",
       "version_major": 2,
       "version_minor": 0
      },
      "text/plain": [
       "Calculating information gains:   0%|          | 0/15 [00:00<?, ?it/s]"
      ]
     },
     "metadata": {},
     "output_type": "display_data"
    },
    {
     "data": {
      "application/vnd.jupyter.widget-view+json": {
       "model_id": "b54b20cdc3d34c4791769fc980b142b2",
       "version_major": 2,
       "version_minor": 0
      },
      "text/plain": [
       "Calculating information gains:   0%|          | 0/9 [00:00<?, ?it/s]"
      ]
     },
     "metadata": {},
     "output_type": "display_data"
    },
    {
     "data": {
      "application/vnd.jupyter.widget-view+json": {
       "model_id": "12ce9ca11ac74be4b721eb7af137f3e6",
       "version_major": 2,
       "version_minor": 0
      },
      "text/plain": [
       "Calculating information gains:   0%|          | 0/6 [00:00<?, ?it/s]"
      ]
     },
     "metadata": {},
     "output_type": "display_data"
    },
    {
     "data": {
      "application/vnd.jupyter.widget-view+json": {
       "model_id": "afd3ad3c1416437ea4440fa9b329f6ef",
       "version_major": 2,
       "version_minor": 0
      },
      "text/plain": [
       "Calculating information gains:   0%|          | 0/6 [00:00<?, ?it/s]"
      ]
     },
     "metadata": {},
     "output_type": "display_data"
    },
    {
     "data": {
      "application/vnd.jupyter.widget-view+json": {
       "model_id": "e8d51b68c890409d9b0811757e495d3f",
       "version_major": 2,
       "version_minor": 0
      },
      "text/plain": [
       "Calculating information gains:   0%|          | 0/255 [00:00<?, ?it/s]"
      ]
     },
     "metadata": {},
     "output_type": "display_data"
    },
    {
     "data": {
      "application/vnd.jupyter.widget-view+json": {
       "model_id": "4189a3a7ed56408db1fcb9c9050557da",
       "version_major": 2,
       "version_minor": 0
      },
      "text/plain": [
       "Calculating information gains:   0%|          | 0/24 [00:00<?, ?it/s]"
      ]
     },
     "metadata": {},
     "output_type": "display_data"
    },
    {
     "data": {
      "application/vnd.jupyter.widget-view+json": {
       "model_id": "87502ba69ca440efa2c9917b12ad1a8d",
       "version_major": 2,
       "version_minor": 0
      },
      "text/plain": [
       "Calculating information gains:   0%|          | 0/6 [00:00<?, ?it/s]"
      ]
     },
     "metadata": {},
     "output_type": "display_data"
    },
    {
     "data": {
      "application/vnd.jupyter.widget-view+json": {
       "model_id": "0b6d3ad14f144deb813201050453802c",
       "version_major": 2,
       "version_minor": 0
      },
      "text/plain": [
       "Calculating information gains:   0%|          | 0/18 [00:00<?, ?it/s]"
      ]
     },
     "metadata": {},
     "output_type": "display_data"
    },
    {
     "data": {
      "application/vnd.jupyter.widget-view+json": {
       "model_id": "255c73cd90234ad2a5d3d41a2a9c1f8b",
       "version_major": 2,
       "version_minor": 0
      },
      "text/plain": [
       "Calculating information gains:   0%|          | 0/9 [00:00<?, ?it/s]"
      ]
     },
     "metadata": {},
     "output_type": "display_data"
    },
    {
     "data": {
      "application/vnd.jupyter.widget-view+json": {
       "model_id": "5029823e0cec4c1cb268fa5b3b88276f",
       "version_major": 2,
       "version_minor": 0
      },
      "text/plain": [
       "Calculating information gains:   0%|          | 0/9 [00:00<?, ?it/s]"
      ]
     },
     "metadata": {},
     "output_type": "display_data"
    },
    {
     "data": {
      "application/vnd.jupyter.widget-view+json": {
       "model_id": "dcfbf6a8506d498e91f407a47d648707",
       "version_major": 2,
       "version_minor": 0
      },
      "text/plain": [
       "Calculating information gains:   0%|          | 0/6 [00:00<?, ?it/s]"
      ]
     },
     "metadata": {},
     "output_type": "display_data"
    },
    {
     "data": {
      "application/vnd.jupyter.widget-view+json": {
       "model_id": "28ffbca023e642368b8db8c984b41315",
       "version_major": 2,
       "version_minor": 0
      },
      "text/plain": [
       "Calculating information gains:   0%|          | 0/231 [00:00<?, ?it/s]"
      ]
     },
     "metadata": {},
     "output_type": "display_data"
    },
    {
     "data": {
      "application/vnd.jupyter.widget-view+json": {
       "model_id": "f86d8ae8f97247079c0a5212c5bf986e",
       "version_major": 2,
       "version_minor": 0
      },
      "text/plain": [
       "Calculating information gains:   0%|          | 0/93 [00:00<?, ?it/s]"
      ]
     },
     "metadata": {},
     "output_type": "display_data"
    },
    {
     "data": {
      "application/vnd.jupyter.widget-view+json": {
       "model_id": "6ca42f7fe5e942358e41704b7e12d814",
       "version_major": 2,
       "version_minor": 0
      },
      "text/plain": [
       "Calculating information gains:   0%|          | 0/12 [00:00<?, ?it/s]"
      ]
     },
     "metadata": {},
     "output_type": "display_data"
    },
    {
     "data": {
      "application/vnd.jupyter.widget-view+json": {
       "model_id": "9d6d72c559964561bba3a2b48a425e11",
       "version_major": 2,
       "version_minor": 0
      },
      "text/plain": [
       "Calculating information gains:   0%|          | 0/9 [00:00<?, ?it/s]"
      ]
     },
     "metadata": {},
     "output_type": "display_data"
    },
    {
     "data": {
      "application/vnd.jupyter.widget-view+json": {
       "model_id": "688a40dee985443cb5e3b4944f51a823",
       "version_major": 2,
       "version_minor": 0
      },
      "text/plain": [
       "Calculating information gains:   0%|          | 0/81 [00:00<?, ?it/s]"
      ]
     },
     "metadata": {},
     "output_type": "display_data"
    },
    {
     "data": {
      "application/vnd.jupyter.widget-view+json": {
       "model_id": "8f7aa5fd4fe74ead8da004120647165f",
       "version_major": 2,
       "version_minor": 0
      },
      "text/plain": [
       "Calculating information gains:   0%|          | 0/54 [00:00<?, ?it/s]"
      ]
     },
     "metadata": {},
     "output_type": "display_data"
    },
    {
     "data": {
      "application/vnd.jupyter.widget-view+json": {
       "model_id": "7c37cb361d2c4060a67e69bd2a097e1e",
       "version_major": 2,
       "version_minor": 0
      },
      "text/plain": [
       "Calculating information gains:   0%|          | 0/48 [00:00<?, ?it/s]"
      ]
     },
     "metadata": {},
     "output_type": "display_data"
    },
    {
     "data": {
      "application/vnd.jupyter.widget-view+json": {
       "model_id": "4ca65e8dd636428f99396f30ef0a1df1",
       "version_major": 2,
       "version_minor": 0
      },
      "text/plain": [
       "Calculating information gains:   0%|          | 0/42 [00:00<?, ?it/s]"
      ]
     },
     "metadata": {},
     "output_type": "display_data"
    },
    {
     "data": {
      "application/vnd.jupyter.widget-view+json": {
       "model_id": "f5563a2a419341e69deae4f7c05b7e18",
       "version_major": 2,
       "version_minor": 0
      },
      "text/plain": [
       "Calculating information gains:   0%|          | 0/36 [00:00<?, ?it/s]"
      ]
     },
     "metadata": {},
     "output_type": "display_data"
    },
    {
     "data": {
      "application/vnd.jupyter.widget-view+json": {
       "model_id": "ba7fcd91b6b242c681c52cd7bbd2053f",
       "version_major": 2,
       "version_minor": 0
      },
      "text/plain": [
       "Calculating information gains:   0%|          | 0/27 [00:00<?, ?it/s]"
      ]
     },
     "metadata": {},
     "output_type": "display_data"
    },
    {
     "data": {
      "application/vnd.jupyter.widget-view+json": {
       "model_id": "7758f26ec6d641c0924f2b7205ee9856",
       "version_major": 2,
       "version_minor": 0
      },
      "text/plain": [
       "Calculating information gains:   0%|          | 0/9 [00:00<?, ?it/s]"
      ]
     },
     "metadata": {},
     "output_type": "display_data"
    },
    {
     "data": {
      "application/vnd.jupyter.widget-view+json": {
       "model_id": "169c88ee07bc4983a5111909317f9bf5",
       "version_major": 2,
       "version_minor": 0
      },
      "text/plain": [
       "Calculating information gains:   0%|          | 0/6 [00:00<?, ?it/s]"
      ]
     },
     "metadata": {},
     "output_type": "display_data"
    },
    {
     "data": {
      "application/vnd.jupyter.widget-view+json": {
       "model_id": "6a7c670fa2a24d0b847b662f5b3b9c73",
       "version_major": 2,
       "version_minor": 0
      },
      "text/plain": [
       "Calculating information gains:   0%|          | 0/18 [00:00<?, ?it/s]"
      ]
     },
     "metadata": {},
     "output_type": "display_data"
    },
    {
     "data": {
      "application/vnd.jupyter.widget-view+json": {
       "model_id": "f6a116c88dd94719bd5406874c215fd8",
       "version_major": 2,
       "version_minor": 0
      },
      "text/plain": [
       "Calculating information gains:   0%|          | 0/12 [00:00<?, ?it/s]"
      ]
     },
     "metadata": {},
     "output_type": "display_data"
    },
    {
     "data": {
      "application/vnd.jupyter.widget-view+json": {
       "model_id": "cf61893611f947ad9495be27e46de967",
       "version_major": 2,
       "version_minor": 0
      },
      "text/plain": [
       "Calculating information gains:   0%|          | 0/6 [00:00<?, ?it/s]"
      ]
     },
     "metadata": {},
     "output_type": "display_data"
    },
    {
     "data": {
      "application/vnd.jupyter.widget-view+json": {
       "model_id": "7601d4c1065943e28e521a9c89f2c81b",
       "version_major": 2,
       "version_minor": 0
      },
      "text/plain": [
       "Calculating information gains:   0%|          | 0/6 [00:00<?, ?it/s]"
      ]
     },
     "metadata": {},
     "output_type": "display_data"
    },
    {
     "data": {
      "application/vnd.jupyter.widget-view+json": {
       "model_id": "69414c0ded4d4629bed56ae09d6088b0",
       "version_major": 2,
       "version_minor": 0
      },
      "text/plain": [
       "Calculating information gains:   0%|          | 0/6 [00:00<?, ?it/s]"
      ]
     },
     "metadata": {},
     "output_type": "display_data"
    },
    {
     "data": {
      "application/vnd.jupyter.widget-view+json": {
       "model_id": "640fb55cf0624d33b97a71f8198c7831",
       "version_major": 2,
       "version_minor": 0
      },
      "text/plain": [
       "Calculating information gains:   0%|          | 0/9 [00:00<?, ?it/s]"
      ]
     },
     "metadata": {},
     "output_type": "display_data"
    },
    {
     "data": {
      "application/vnd.jupyter.widget-view+json": {
       "model_id": "1c1990353fc54c3188c47bd3cadb6c76",
       "version_major": 2,
       "version_minor": 0
      },
      "text/plain": [
       "Calculating information gains:   0%|          | 0/6 [00:00<?, ?it/s]"
      ]
     },
     "metadata": {},
     "output_type": "display_data"
    },
    {
     "data": {
      "application/vnd.jupyter.widget-view+json": {
       "model_id": "6446a3dc21ab4c23a059ba8dfcc27d1b",
       "version_major": 2,
       "version_minor": 0
      },
      "text/plain": [
       "Calculating information gains:   0%|          | 0/6 [00:00<?, ?it/s]"
      ]
     },
     "metadata": {},
     "output_type": "display_data"
    },
    {
     "data": {
      "application/vnd.jupyter.widget-view+json": {
       "model_id": "a22154f2e0064056974cef0e312030d0",
       "version_major": 2,
       "version_minor": 0
      },
      "text/plain": [
       "Calculating information gains:   0%|          | 0/6 [00:00<?, ?it/s]"
      ]
     },
     "metadata": {},
     "output_type": "display_data"
    },
    {
     "data": {
      "application/vnd.jupyter.widget-view+json": {
       "model_id": "60054e4ea80342c3b8a5f3ae908d2798",
       "version_major": 2,
       "version_minor": 0
      },
      "text/plain": [
       "Calculating information gains:   0%|          | 0/27 [00:00<?, ?it/s]"
      ]
     },
     "metadata": {},
     "output_type": "display_data"
    },
    {
     "data": {
      "application/vnd.jupyter.widget-view+json": {
       "model_id": "ba28c3f7ebe74fcb86803336d8984a44",
       "version_major": 2,
       "version_minor": 0
      },
      "text/plain": [
       "Calculating information gains:   0%|          | 0/15 [00:00<?, ?it/s]"
      ]
     },
     "metadata": {},
     "output_type": "display_data"
    },
    {
     "data": {
      "application/vnd.jupyter.widget-view+json": {
       "model_id": "70a169d752e248b083c5ba5229cd5c0c",
       "version_major": 2,
       "version_minor": 0
      },
      "text/plain": [
       "Calculating information gains:   0%|          | 0/6 [00:00<?, ?it/s]"
      ]
     },
     "metadata": {},
     "output_type": "display_data"
    },
    {
     "data": {
      "application/vnd.jupyter.widget-view+json": {
       "model_id": "396bfa6f65ee4564bf3f65a9d059477e",
       "version_major": 2,
       "version_minor": 0
      },
      "text/plain": [
       "Calculating information gains:   0%|          | 0/9 [00:00<?, ?it/s]"
      ]
     },
     "metadata": {},
     "output_type": "display_data"
    },
    {
     "data": {
      "application/vnd.jupyter.widget-view+json": {
       "model_id": "91d87a8916904f57a1a7760225d01f96",
       "version_major": 2,
       "version_minor": 0
      },
      "text/plain": [
       "Calculating information gains:   0%|          | 0/6 [00:00<?, ?it/s]"
      ]
     },
     "metadata": {},
     "output_type": "display_data"
    },
    {
     "data": {
      "application/vnd.jupyter.widget-view+json": {
       "model_id": "c286998b38bd4e5d9a4f81426118ac16",
       "version_major": 2,
       "version_minor": 0
      },
      "text/plain": [
       "Calculating information gains:   0%|          | 0/12 [00:00<?, ?it/s]"
      ]
     },
     "metadata": {},
     "output_type": "display_data"
    },
    {
     "data": {
      "application/vnd.jupyter.widget-view+json": {
       "model_id": "7c3bf1a5fc174b5daf0e973b312a2de0",
       "version_major": 2,
       "version_minor": 0
      },
      "text/plain": [
       "Calculating information gains:   0%|          | 0/138 [00:00<?, ?it/s]"
      ]
     },
     "metadata": {},
     "output_type": "display_data"
    },
    {
     "data": {
      "application/vnd.jupyter.widget-view+json": {
       "model_id": "13d20b48f0d64d86857f8bd210ca8b9c",
       "version_major": 2,
       "version_minor": 0
      },
      "text/plain": [
       "Calculating information gains:   0%|          | 0/105 [00:00<?, ?it/s]"
      ]
     },
     "metadata": {},
     "output_type": "display_data"
    },
    {
     "data": {
      "application/vnd.jupyter.widget-view+json": {
       "model_id": "8429877f7c5d471b8850402f3b86b994",
       "version_major": 2,
       "version_minor": 0
      },
      "text/plain": [
       "Calculating information gains:   0%|          | 0/36 [00:00<?, ?it/s]"
      ]
     },
     "metadata": {},
     "output_type": "display_data"
    },
    {
     "data": {
      "application/vnd.jupyter.widget-view+json": {
       "model_id": "9cf740fb9b524f609eeb3ede8d0b4a22",
       "version_major": 2,
       "version_minor": 0
      },
      "text/plain": [
       "Calculating information gains:   0%|          | 0/33 [00:00<?, ?it/s]"
      ]
     },
     "metadata": {},
     "output_type": "display_data"
    },
    {
     "data": {
      "application/vnd.jupyter.widget-view+json": {
       "model_id": "7fbb0ee2bbc940ecac83089d47a91040",
       "version_major": 2,
       "version_minor": 0
      },
      "text/plain": [
       "Calculating information gains:   0%|          | 0/15 [00:00<?, ?it/s]"
      ]
     },
     "metadata": {},
     "output_type": "display_data"
    },
    {
     "data": {
      "application/vnd.jupyter.widget-view+json": {
       "model_id": "a2bfd6597f6a44a9b44f54a7b0bf4d12",
       "version_major": 2,
       "version_minor": 0
      },
      "text/plain": [
       "Calculating information gains:   0%|          | 0/6 [00:00<?, ?it/s]"
      ]
     },
     "metadata": {},
     "output_type": "display_data"
    },
    {
     "data": {
      "application/vnd.jupyter.widget-view+json": {
       "model_id": "94bd909bad474a54b8425cf60430eab4",
       "version_major": 2,
       "version_minor": 0
      },
      "text/plain": [
       "Calculating information gains:   0%|          | 0/9 [00:00<?, ?it/s]"
      ]
     },
     "metadata": {},
     "output_type": "display_data"
    },
    {
     "data": {
      "application/vnd.jupyter.widget-view+json": {
       "model_id": "f3eb4ce098f746fdb9c81dafc8e7b628",
       "version_major": 2,
       "version_minor": 0
      },
      "text/plain": [
       "Calculating information gains:   0%|          | 0/18 [00:00<?, ?it/s]"
      ]
     },
     "metadata": {},
     "output_type": "display_data"
    },
    {
     "data": {
      "application/vnd.jupyter.widget-view+json": {
       "model_id": "298c32ae1f2543c1ab8dc32f3c57e297",
       "version_major": 2,
       "version_minor": 0
      },
      "text/plain": [
       "Calculating information gains:   0%|          | 0/12 [00:00<?, ?it/s]"
      ]
     },
     "metadata": {},
     "output_type": "display_data"
    },
    {
     "data": {
      "application/vnd.jupyter.widget-view+json": {
       "model_id": "55f667166913492eb2fecd31ffce25dc",
       "version_major": 2,
       "version_minor": 0
      },
      "text/plain": [
       "Calculating information gains:   0%|          | 0/9 [00:00<?, ?it/s]"
      ]
     },
     "metadata": {},
     "output_type": "display_data"
    },
    {
     "data": {
      "application/vnd.jupyter.widget-view+json": {
       "model_id": "bdfcbcdf3bdb4221ab3186e7e7e9d475",
       "version_major": 2,
       "version_minor": 0
      },
      "text/plain": [
       "Calculating information gains:   0%|          | 0/6 [00:00<?, ?it/s]"
      ]
     },
     "metadata": {},
     "output_type": "display_data"
    },
    {
     "data": {
      "application/vnd.jupyter.widget-view+json": {
       "model_id": "3646ffa879a244d5ab898eeb5a14d01d",
       "version_major": 2,
       "version_minor": 0
      },
      "text/plain": [
       "Calculating information gains:   0%|          | 0/69 [00:00<?, ?it/s]"
      ]
     },
     "metadata": {},
     "output_type": "display_data"
    },
    {
     "data": {
      "application/vnd.jupyter.widget-view+json": {
       "model_id": "34097683ffd64b6eb32b246d850d312e",
       "version_major": 2,
       "version_minor": 0
      },
      "text/plain": [
       "Calculating information gains:   0%|          | 0/18 [00:00<?, ?it/s]"
      ]
     },
     "metadata": {},
     "output_type": "display_data"
    },
    {
     "data": {
      "application/vnd.jupyter.widget-view+json": {
       "model_id": "8886194f57b64939819e2e113d595a49",
       "version_major": 2,
       "version_minor": 0
      },
      "text/plain": [
       "Calculating information gains:   0%|          | 0/15 [00:00<?, ?it/s]"
      ]
     },
     "metadata": {},
     "output_type": "display_data"
    },
    {
     "data": {
      "application/vnd.jupyter.widget-view+json": {
       "model_id": "b8744c0558284be9b29d0e98011b265c",
       "version_major": 2,
       "version_minor": 0
      },
      "text/plain": [
       "Calculating information gains:   0%|          | 0/9 [00:00<?, ?it/s]"
      ]
     },
     "metadata": {},
     "output_type": "display_data"
    },
    {
     "data": {
      "application/vnd.jupyter.widget-view+json": {
       "model_id": "5e6050ac799543c0a4a83d398f270b9c",
       "version_major": 2,
       "version_minor": 0
      },
      "text/plain": [
       "Calculating information gains:   0%|          | 0/6 [00:00<?, ?it/s]"
      ]
     },
     "metadata": {},
     "output_type": "display_data"
    },
    {
     "data": {
      "application/vnd.jupyter.widget-view+json": {
       "model_id": "a535bf334fc7493db922e9524550c8fe",
       "version_major": 2,
       "version_minor": 0
      },
      "text/plain": [
       "Calculating information gains:   0%|          | 0/6 [00:00<?, ?it/s]"
      ]
     },
     "metadata": {},
     "output_type": "display_data"
    },
    {
     "data": {
      "application/vnd.jupyter.widget-view+json": {
       "model_id": "21ba44546b424904b9f473115f436acd",
       "version_major": 2,
       "version_minor": 0
      },
      "text/plain": [
       "Calculating information gains:   0%|          | 0/51 [00:00<?, ?it/s]"
      ]
     },
     "metadata": {},
     "output_type": "display_data"
    },
    {
     "data": {
      "application/vnd.jupyter.widget-view+json": {
       "model_id": "c95cc5ccde554b188735f1a309baee59",
       "version_major": 2,
       "version_minor": 0
      },
      "text/plain": [
       "Calculating information gains:   0%|          | 0/12 [00:00<?, ?it/s]"
      ]
     },
     "metadata": {},
     "output_type": "display_data"
    },
    {
     "data": {
      "application/vnd.jupyter.widget-view+json": {
       "model_id": "b585bd4f17b24ac28a2d1b61aa63e47c",
       "version_major": 2,
       "version_minor": 0
      },
      "text/plain": [
       "Calculating information gains:   0%|          | 0/9 [00:00<?, ?it/s]"
      ]
     },
     "metadata": {},
     "output_type": "display_data"
    },
    {
     "data": {
      "application/vnd.jupyter.widget-view+json": {
       "model_id": "e6d88875196c43e69cea31cebabd8134",
       "version_major": 2,
       "version_minor": 0
      },
      "text/plain": [
       "Calculating information gains:   0%|          | 0/39 [00:00<?, ?it/s]"
      ]
     },
     "metadata": {},
     "output_type": "display_data"
    },
    {
     "data": {
      "application/vnd.jupyter.widget-view+json": {
       "model_id": "c184a4967cf44847adf2c584977a5b73",
       "version_major": 2,
       "version_minor": 0
      },
      "text/plain": [
       "Calculating information gains:   0%|          | 0/36 [00:00<?, ?it/s]"
      ]
     },
     "metadata": {},
     "output_type": "display_data"
    },
    {
     "data": {
      "application/vnd.jupyter.widget-view+json": {
       "model_id": "6929fcc4bf32492e892f16167d9312ca",
       "version_major": 2,
       "version_minor": 0
      },
      "text/plain": [
       "Calculating information gains:   0%|          | 0/9 [00:00<?, ?it/s]"
      ]
     },
     "metadata": {},
     "output_type": "display_data"
    },
    {
     "data": {
      "application/vnd.jupyter.widget-view+json": {
       "model_id": "c59f5171fd634705b843ce5bd340e523",
       "version_major": 2,
       "version_minor": 0
      },
      "text/plain": [
       "Calculating information gains:   0%|          | 0/6 [00:00<?, ?it/s]"
      ]
     },
     "metadata": {},
     "output_type": "display_data"
    },
    {
     "data": {
      "application/vnd.jupyter.widget-view+json": {
       "model_id": "984ce5073f674278aa633bbc9ce0cea4",
       "version_major": 2,
       "version_minor": 0
      },
      "text/plain": [
       "Calculating information gains:   0%|          | 0/27 [00:00<?, ?it/s]"
      ]
     },
     "metadata": {},
     "output_type": "display_data"
    },
    {
     "data": {
      "application/vnd.jupyter.widget-view+json": {
       "model_id": "038a82f57504475eb6a9d0cd28c64a59",
       "version_major": 2,
       "version_minor": 0
      },
      "text/plain": [
       "Calculating information gains:   0%|          | 0/9 [00:00<?, ?it/s]"
      ]
     },
     "metadata": {},
     "output_type": "display_data"
    },
    {
     "data": {
      "application/vnd.jupyter.widget-view+json": {
       "model_id": "2cbdf82ba5604e17847ce6b98f094ae5",
       "version_major": 2,
       "version_minor": 0
      },
      "text/plain": [
       "Calculating information gains:   0%|          | 0/18 [00:00<?, ?it/s]"
      ]
     },
     "metadata": {},
     "output_type": "display_data"
    },
    {
     "data": {
      "application/vnd.jupyter.widget-view+json": {
       "model_id": "e10492a961cc43178f8c8ff87ae29be8",
       "version_major": 2,
       "version_minor": 0
      },
      "text/plain": [
       "Calculating information gains:   0%|          | 0/9 [00:00<?, ?it/s]"
      ]
     },
     "metadata": {},
     "output_type": "display_data"
    },
    {
     "data": {
      "application/vnd.jupyter.widget-view+json": {
       "model_id": "7ceed0395f3b4b4c9b4b09727da9c8d4",
       "version_major": 2,
       "version_minor": 0
      },
      "text/plain": [
       "Calculating information gains:   0%|          | 0/6 [00:00<?, ?it/s]"
      ]
     },
     "metadata": {},
     "output_type": "display_data"
    },
    {
     "data": {
      "application/vnd.jupyter.widget-view+json": {
       "model_id": "e8b4686e320e4d0ab7d2169479e61d9a",
       "version_major": 2,
       "version_minor": 0
      },
      "text/plain": [
       "Calculating information gains:   0%|          | 0/9 [00:00<?, ?it/s]"
      ]
     },
     "metadata": {},
     "output_type": "display_data"
    },
    {
     "data": {
      "application/vnd.jupyter.widget-view+json": {
       "model_id": "5ad2a00519f945d5a2e0f7208a3d5036",
       "version_major": 2,
       "version_minor": 0
      },
      "text/plain": [
       "Calculating information gains:   0%|          | 0/6 [00:00<?, ?it/s]"
      ]
     },
     "metadata": {},
     "output_type": "display_data"
    },
    {
     "data": {
      "application/vnd.jupyter.widget-view+json": {
       "model_id": "fb056e78cc6e4768a2d2e1ee12b6916d",
       "version_major": 2,
       "version_minor": 0
      },
      "text/plain": [
       "Calculating information gains:   0%|          | 0/33 [00:00<?, ?it/s]"
      ]
     },
     "metadata": {},
     "output_type": "display_data"
    },
    {
     "data": {
      "application/vnd.jupyter.widget-view+json": {
       "model_id": "0dcaaefb5884469fbc40a8d405e90311",
       "version_major": 2,
       "version_minor": 0
      },
      "text/plain": [
       "Calculating information gains:   0%|          | 0/9 [00:00<?, ?it/s]"
      ]
     },
     "metadata": {},
     "output_type": "display_data"
    },
    {
     "data": {
      "application/vnd.jupyter.widget-view+json": {
       "model_id": "7e35e45a2c5442608a0cfb1b27a9d09d",
       "version_major": 2,
       "version_minor": 0
      },
      "text/plain": [
       "Calculating information gains:   0%|          | 0/24 [00:00<?, ?it/s]"
      ]
     },
     "metadata": {},
     "output_type": "display_data"
    },
    {
     "data": {
      "application/vnd.jupyter.widget-view+json": {
       "model_id": "9c9f659ae1124ed0a580c6b76c7ea6e4",
       "version_major": 2,
       "version_minor": 0
      },
      "text/plain": [
       "Calculating information gains:   0%|          | 0/9 [00:00<?, ?it/s]"
      ]
     },
     "metadata": {},
     "output_type": "display_data"
    },
    {
     "data": {
      "application/vnd.jupyter.widget-view+json": {
       "model_id": "1b2bac444e744660b75c8ed117defba2",
       "version_major": 2,
       "version_minor": 0
      },
      "text/plain": [
       "Calculating information gains:   0%|          | 0/6 [00:00<?, ?it/s]"
      ]
     },
     "metadata": {},
     "output_type": "display_data"
    },
    {
     "data": {
      "application/vnd.jupyter.widget-view+json": {
       "model_id": "b65124e0cc3f485ea88af7ec815ed834",
       "version_major": 2,
       "version_minor": 0
      },
      "text/plain": [
       "Calculating information gains:   0%|          | 0/15 [00:00<?, ?it/s]"
      ]
     },
     "metadata": {},
     "output_type": "display_data"
    },
    {
     "data": {
      "application/vnd.jupyter.widget-view+json": {
       "model_id": "74ebaa57c321477b9beac69635282df1",
       "version_major": 2,
       "version_minor": 0
      },
      "text/plain": [
       "Calculating information gains:   0%|          | 0/9 [00:00<?, ?it/s]"
      ]
     },
     "metadata": {},
     "output_type": "display_data"
    },
    {
     "data": {
      "application/vnd.jupyter.widget-view+json": {
       "model_id": "dc5cdcf0a62c40b29190485591a41313",
       "version_major": 2,
       "version_minor": 0
      },
      "text/plain": [
       "Calculating information gains:   0%|          | 0/6 [00:00<?, ?it/s]"
      ]
     },
     "metadata": {},
     "output_type": "display_data"
    },
    {
     "data": {
      "application/vnd.jupyter.widget-view+json": {
       "model_id": "32adfc075ea249b284c9f1c9985dceda",
       "version_major": 2,
       "version_minor": 0
      },
      "text/plain": [
       "Calculating information gains:   0%|          | 0/6 [00:00<?, ?it/s]"
      ]
     },
     "metadata": {},
     "output_type": "display_data"
    },
    {
     "name": "stdout",
     "output_type": "stream",
     "text": [
      "tensor([True, True, True, True, True, True, True, True, True, True, True, True,\n",
      "        True, True, True, True, True, True, True, True, True, True, True, True,\n",
      "        True, True, True, True, True, True, True, True, True, True, True, True,\n",
      "        True, True, True, True, True, True, True, True, True, True, True, True,\n",
      "        True, True, True, True, True, True, True, True, True, True, True, True,\n",
      "        True, True, True, True, True, True, True, True, True, True, True, True,\n",
      "        True, True, True, True, True, True, True, True, True, True, True, True,\n",
      "        True, True, True, True, True, True, True, True, True, True, True, True,\n",
      "        True, True, True, True])\n"
     ]
    },
    {
     "data": {
      "text/plain": [
       "<matplotlib.collections.PathCollection at 0x347e12cb0>"
      ]
     },
     "execution_count": 1,
     "metadata": {},
     "output_type": "execute_result"
    },
    {
     "data": {
      "image/png": "[encoded data removed]",
      "text/plain": [
       "<Figure size 640x480 with 1 Axes>"
      ]
     },
     "metadata": {},
     "output_type": "display_data"
    }
   ],
   "source": [
    "import numpy as np\n",
    "import torch\n",
    "from sklearn.tree import DecisionTreeClassifier\n",
    "from sklearn.ensemble import RandomForestClassifier, RandomForestRegressor\n",
    "from sklearn.neighbors import KNeighborsClassifier, KNeighborsRegressor\n",
    "from embedders.tree_new import ProductSpaceDT\n",
    "from embedders.manifolds import ProductManifold\n",
    "\n",
    "def long_lat_to_3d(X):\n",
    "    long, lat = X[:,0], X[:,1]\n",
    "    return np.array([np.cos(lat) * np.cos(long), np.cos(lat) * np.sin(long), np.sin(lat)]).T\n",
    "\n",
    "def long_lat_to_2d(X):\n",
    "    long, lat = X[:,0], X[:,1]\n",
    "    return np.array([np.cos(lat) * np.cos(long), np.cos(lat) * np.sin(long)]).T\n",
    "\n",
    "X = np.random.rand(100, 2)\n",
    "X = long_lat_to_3d(X)\n",
    "X = torch.tensor(X, dtype=torch.float32)\n",
    "y = np.random.randint(0, 5, 100)\n",
    "y = torch.tensor(y, dtype=torch.long)\n",
    "\n",
    "pm = ProductManifold(signature=[(1, 2)])\n",
    "dt = ProductSpaceDT(pm=pm, batch_size=1, n_features=\"d_choose_2\")\n",
    "# dt = DecisionTreeClassifier(max_depth=None)\n",
    "# dt = RandomForestClassifier(n_estimators=10, max_depth=None, max_features=None)\n",
    "# dt = KNeighborsClassifier(n_neighbors=5)\n",
    "# dt = KNeighborsRegressor(n_neighbors=5)\n",
    "\n",
    "dt.fit(X, y)\n",
    "print(dt.score(X, y))\n",
    "\n",
    "_x = np.linspace(0, 1, 101)\n",
    "_y = np.linspace(0, 1, 101)\n",
    "_X, _Y = np.meshgrid(_x, _y)\n",
    "_X_sph = long_lat_to_3d(np.c_[_X.ravel(), _Y.ravel()])\n",
    "Z = dt.predict(_X_sph).reshape(_X.shape)\n",
    "# Z = dt.predict(np.c_[_X.ravel(), _Y.ravel()]).reshape(_X.shape)\n",
    "\n",
    "import matplotlib.pyplot as plt\n",
    "\n",
    "plt.contourf(_X, _Y, Z, levels=5)\n",
    "# Black border for points\n",
    "plt.scatter(X[:,0], X[:,1], c=y, edgecolors='black')"
   ]
  },
  {
   "cell_type": "code",
   "execution_count": 2,
   "metadata": {},
   "outputs": [],
   "source": [
    "import embedders.manifolds\n",
    "\n",
    "\n",
    "pm = embedders.manifolds.ProductManifold(signature=[(0, 8)])"
   ]
  },
  {
   "cell_type": "code",
   "execution_count": 3,
   "metadata": {},
   "outputs": [],
   "source": [
    "sample = pm.sample(pm.mu0)"
   ]
  },
  {
   "cell_type": "code",
   "execution_count": 4,
   "metadata": {},
   "outputs": [
    {
     "data": {
      "text/plain": [
       "tensor([[ 0.2419, -0.0205,  1.9957, -0.8986, -0.3383, -0.0302, -1.2964, -1.0592]],\n",
       "       grad_fn=<CatBackward0>)"
      ]
     },
     "execution_count": 4,
     "metadata": {},
     "output_type": "execute_result"
    }
   ],
   "source": [
    "pm.manifold.logmap(pm.mu0, sample)"
   ]
  },
  {
   "cell_type": "code",
   "execution_count": 5,
   "metadata": {},
   "outputs": [
    {
     "data": {
      "text/plain": [
       "tensor([[ 0.2419, -0.0205,  1.9957, -0.8986, -0.3383, -0.0302, -1.2964, -1.0592]],\n",
       "       grad_fn=<CatBackward0>)"
      ]
     },
     "execution_count": 5,
     "metadata": {},
     "output_type": "execute_result"
    }
   ],
   "source": [
    "sample"
   ]
  },
  {
   "cell_type": "code",
   "execution_count": 6,
   "metadata": {},
   "outputs": [],
   "source": [
    "import embedders\n",
    "\n",
    "pm = embedders.manifolds.ProductManifold(signature=[(-1, 2), (0, 2), (1, 2)])"
   ]
  },
  {
   "cell_type": "code",
   "execution_count": 7,
   "metadata": {},
   "outputs": [],
   "source": [
    "_m = pm.P[0].manifold"
   ]
  },
  {
   "cell_type": "code",
   "execution_count": 8,
   "metadata": {},
   "outputs": [
    {
     "data": {
      "text/plain": [
       "tensor([1., 0., 0., 0., 0., 1., 0., 0.])"
      ]
     },
     "execution_count": 8,
     "metadata": {},
     "output_type": "execute_result"
    }
   ],
   "source": [
    "pm.mu0"
   ]
  },
  {
   "cell_type": "code",
   "execution_count": 9,
   "metadata": {},
   "outputs": [
    {
     "data": {
      "text/plain": [
       "8"
      ]
     },
     "execution_count": 9,
     "metadata": {},
     "output_type": "execute_result"
    }
   ],
   "source": [
    "pm.ambient_dim"
   ]
  },
  {
   "cell_type": "code",
   "execution_count": 12,
   "metadata": {},
   "outputs": [
    {
     "data": {
      "text/plain": [
       "tensor([[[ 0.0000e+00,  3.7757e-01, -6.0623e-01,  9.9979e-01,  4.7421e-01,\n",
       "           0.0000e+00, -1.0952e+00, -3.4913e-01]],\n",
       "\n",
       "        [[ 0.0000e+00,  1.6256e+00, -1.2329e+00,  6.2518e-02,  2.1618e-01,\n",
       "           0.0000e+00,  4.4631e-01,  7.9177e-01]],\n",
       "\n",
       "        [[ 0.0000e+00,  1.0730e+00, -3.4047e-01,  5.3398e-01,  5.3757e-01,\n",
       "           0.0000e+00, -1.0448e+00,  5.9377e-01]],\n",
       "\n",
       "        [[ 0.0000e+00, -1.2358e+00, -1.8372e+00,  1.1468e+00,  1.2585e+00,\n",
       "           0.0000e+00,  6.3174e-01, -1.7462e+00]],\n",
       "\n",
       "        [[ 0.0000e+00,  3.5947e-01,  1.6151e-03, -3.3443e-01, -1.0160e-01,\n",
       "           0.0000e+00,  2.3179e-01,  5.0318e-02]],\n",
       "\n",
       "        [[ 0.0000e+00, -6.8709e-01,  4.5553e-01, -7.6210e-03, -3.5125e-01,\n",
       "           0.0000e+00, -3.9655e-01,  4.2721e-01]],\n",
       "\n",
       "        [[ 0.0000e+00,  5.1779e-01, -1.4346e-01, -8.9483e-01, -1.1972e+00,\n",
       "           0.0000e+00, -1.0568e+00, -3.4706e-01]],\n",
       "\n",
       "        [[ 0.0000e+00, -2.0099e+00, -8.9830e-01, -8.5351e-01, -2.0102e-01,\n",
       "           0.0000e+00, -3.9671e-01, -5.9352e-01]],\n",
       "\n",
       "        [[ 0.0000e+00, -1.6806e-01, -9.5356e-01, -1.1910e+00, -1.2669e+00,\n",
       "           0.0000e+00,  7.5351e-03, -9.1199e-01]],\n",
       "\n",
       "        [[ 0.0000e+00,  3.7191e-01, -4.7858e-01, -2.8217e+00,  1.3446e+00,\n",
       "           0.0000e+00, -6.0854e-02,  7.6243e-01]]], grad_fn=<CatBackward0>)"
      ]
     },
     "execution_count": 12,
     "metadata": {},
     "output_type": "execute_result"
    }
   ],
   "source": [
    "import torch\n",
    "sam = torch.stack([pm.sample() for _ in range(10)])\n",
    "\n",
    "pm.logmap(sam, base=pm.mu0)"
   ]
  },
  {
   "cell_type": "code",
   "execution_count": null,
   "metadata": {},
   "outputs": [
    {
     "ename": "TypeError",
     "evalue": "ProductManifold.sample() missing 1 required positional argument: 'z_mean'",
     "output_type": "error",
     "traceback": [
      "\u001b[0;31m---------------------------------------------------------------------------\u001b[0m",
      "\u001b[0;31mTypeError\u001b[0m                                 Traceback (most recent call last)",
      "Cell \u001b[0;32mIn[20], line 3\u001b[0m\n\u001b[1;32m      1\u001b[0m \u001b[38;5;28;01mimport\u001b[39;00m \u001b[38;5;21;01mtorch\u001b[39;00m\n\u001b[0;32m----> 3\u001b[0m _sample \u001b[38;5;241m=\u001b[39m \u001b[43mpm\u001b[49m\u001b[38;5;241;43m.\u001b[39;49m\u001b[43msample\u001b[49m\u001b[43m(\u001b[49m\u001b[43m)\u001b[49m\n",
      "\u001b[0;31mTypeError\u001b[0m: ProductManifold.sample() missing 1 required positional argument: 'z_mean'"
     ]
    }
   ],
   "source": [
    "import torch\n",
    "\n",
    "_sample = pm.sample()"
   ]
  },
  {
   "cell_type": "code",
   "execution_count": 13,
   "metadata": {},
   "outputs": [
    {
     "data": {
      "text/plain": [
       "Scaled(Lorentz) manifold"
      ]
     },
     "execution_count": 13,
     "metadata": {},
     "output_type": "execute_result"
    }
   ],
   "source": [
    "_m.expmap"
   ]
  },
  {
   "cell_type": "code",
   "execution_count": null,
   "metadata": {},
   "outputs": [],
   "source": [
    "import numpy as np "
   ]
  },
  {
   "cell_type": "code",
   "execution_count": 11,
   "metadata": {},
   "outputs": [
    {
     "data": {
      "text/plain": [
       "[<matplotlib.lines.Line2D at 0x31aee2ad0>]"
      ]
     },
     "execution_count": 11,
     "metadata": {},
     "output_type": "execute_result"
    },
    {
     "data": {
      "image/png": "[encoded data removed]",
      "text/plain": [
       "<Figure size 480x480 with 2 Axes>"
      ]
     },
     "metadata": {},
     "output_type": "display_data"
    }
   ],
   "source": [
    "import numpy as np\n",
    "import matplotlib.pyplot as plt\n",
    "\n",
    "x = np.linspace(-1, 1, 100)\n",
    "y = np.linspace(-1, 1, 100)\n",
    "\n",
    "diffs = x[:, None] - y[None, :]\n",
    "\n",
    "plt.matshow(diffs)\n",
    "plt.ylabel('x')\n",
    "plt.yticks([0, 50, 99], [-1, 0, 1])\n",
    "plt.xlabel('y')\n",
    "plt.xticks([0, 50, 99], [-1, 0, 1])\n",
    "plt.colorbar()\n",
    "\n",
    "# We want to learn y = x\n",
    "plt.plot([0, 99], [0, 99], 'r')"
   ]
  },
  {
   "cell_type": "code",
   "execution_count": 13,
   "metadata": {},
   "outputs": [
    {
     "data": {
      "text/plain": [
       "[<matplotlib.lines.Line2D at 0x31b200d30>]"
      ]
     },
     "execution_count": 13,
     "metadata": {},
     "output_type": "execute_result"
    },
    {
     "data": {
      "image/png": "[encoded data removed]",
      "text/plain": [
       "<Figure size 480x480 with 2 Axes>"
      ]
     },
     "metadata": {},
     "output_type": "display_data"
    }
   ],
   "source": [
    "diffs = (x[:, None] - y[None, :]) ** 2\n",
    "\n",
    "plt.matshow(diffs)\n",
    "plt.ylabel('x')\n",
    "plt.yticks([0, 50, 99], [-1, 0, 1])\n",
    "plt.xlabel('y')\n",
    "plt.xticks([0, 50, 99], [-1, 0, 1])\n",
    "plt.colorbar()\n",
    "\n",
    "# We want to learn y = x\n",
    "plt.plot([0, 99], [0, 99], 'r')"
   ]
  },
  {
   "cell_type": "code",
   "execution_count": 24,
   "metadata": {},
   "outputs": [
    {
     "data": {
      "text/plain": [
       "<matplotlib.legend.Legend at 0x17ee3b580>"
      ]
     },
     "execution_count": 24,
     "metadata": {},
     "output_type": "execute_result"
    },
    {
     "data": {
      "image/png": "[encoded data removed]",
      "text/plain": [
       "<Figure size 640x480 with 1 Axes>"
      ]
     },
     "metadata": {},
     "output_type": "display_data"
    }
   ],
   "source": [
    "plt.plot(x, x, label=\"x\")\n",
    "# plt.plot(x, abs(x), label=\"abs(x)\")\n",
    "# plt.plot(x, [max(0, _x) for _x in x], label=\"max(0, x)\")\n",
    "plt.plot(x, x**2, label=\"x**2\")\n",
    "plt.xlabel(\"x - y\")\n",
    "plt.legend()\n",
    "# plt.ylabel(\"(x - y)**2\")"
   ]
  },
  {
   "cell_type": "code",
   "execution_count": 23,
   "metadata": {},
   "outputs": [
    {
     "data": {
      "text/plain": [
       "[<matplotlib.lines.Line2D at 0x17f5c8940>]"
      ]
     },
     "execution_count": 23,
     "metadata": {},
     "output_type": "execute_result"
    },
    {
     "data": {
      "image/png": "[encoded data removed]",
      "text/plain": [
       "<Figure size 640x480 with 1 Axes>"
      ]
     },
     "metadata": {},
     "output_type": "display_data"
    }
   ],
   "source": [
    "# Plot a sigmoid\n",
    "\n",
    "x = np.linspace(-10, 10, 100)\n",
    "y = 1 / (1 + np.exp(-x))\n",
    "\n",
    "plt.plot(x, y)"
   ]
  },
  {
   "cell_type": "code",
   "execution_count": null,
   "metadata": {},
   "outputs": [],
   "source": [
    "# Hot dog detector\n",
    "\n",
    "# Input: 28x28 image\n",
    "# Hidden: 1000 dimensions\n",
    "# Output: 2 dimension (hot dog vs not hot dog)\n",
    "\n",
    "# Suppose you have an input that is a hot dog\n",
    "# And your p(hot dog) = 0.1\n",
    "\n",
    "# That means the loss is probably pretty high for this input\n",
    "# How was this computed?\n",
    "\n",
    "# Loss = (1 - 0.1)^2\n",
    "\n",
    "# "
   ]
  },
  {
   "cell_type": "code",
   "execution_count": null,
   "metadata": {},
   "outputs": [],
   "source": [
    "# Chain rule in calculus:\n",
    "# if you want to compute d/dx f(g(x)), then you can compute:\n",
    "# d/dx f(g(x)) = f'(g(x)) * g'(x)\n",
    "\n",
    "\n",
    "# Let's do this in the multivariate case\n",
    "# L is out loss function\n",
    "# y is our output\n",
    "# x is our input\n",
    "# dL/dx = dL/dy * dy/dx\n",
    "# What does this mean? We can compute the\n",
    "# contribution of our input as the product of the contribution of\n",
    "# our output to the loss and the contribution of our input to the output"
   ]
  },
  {
   "cell_type": "markdown",
   "metadata": {},
   "source": []
  }
 ],
 "metadata": {
  "kernelspec": {
   "display_name": "cloudspace",
   "language": "python",
   "name": "python3"
  },
  "language_info": {
   "codemirror_mode": {
    "name": "ipython",
    "version": 3
   },
   "file_extension": ".py",
   "mimetype": "text/x-python",
   "name": "python",
   "nbconvert_exporter": "python",
   "pygments_lexer": "ipython3",
   "version": "3.10.0"
  }
 },
 "nbformat": 4,
 "nbformat_minor": 2
}

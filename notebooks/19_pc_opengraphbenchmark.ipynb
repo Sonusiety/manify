{
 "cells": [
  {
   "cell_type": "code",
   "execution_count": 1,
   "metadata": {},
   "outputs": [],
   "source": [
    "%load_ext autoreload\n",
    "%autoreload 2"
   ]
  },
  {
   "cell_type": "code",
   "execution_count": 2,
   "metadata": {},
   "outputs": [
    {
     "name": "stdout",
     "output_type": "stream",
     "text": [
      "Collecting ogb\n",
      "  Downloading ogb-1.3.6-py3-none-any.whl.metadata (6.2 kB)\n",
      "Requirement already satisfied: torch>=1.6.0 in /Users/phil/miniforge3/envs/embedders2/lib/python3.10/site-packages (from ogb) (2.3.1)\n",
      "Requirement already satisfied: numpy>=1.16.0 in /Users/phil/miniforge3/envs/embedders2/lib/python3.10/site-packages (from ogb) (1.26.4)\n",
      "Requirement already satisfied: tqdm>=4.29.0 in /Users/phil/miniforge3/envs/embedders2/lib/python3.10/site-packages (from ogb) (4.66.4)\n",
      "Requirement already satisfied: scikit-learn>=0.20.0 in /Users/phil/miniforge3/envs/embedders2/lib/python3.10/site-packages (from ogb) (1.5.1)\n",
      "Requirement already satisfied: pandas>=0.24.0 in /Users/phil/miniforge3/envs/embedders2/lib/python3.10/site-packages (from ogb) (2.2.2)\n",
      "Requirement already satisfied: six>=1.12.0 in /Users/phil/miniforge3/envs/embedders2/lib/python3.10/site-packages (from ogb) (1.16.0)\n",
      "Requirement already satisfied: urllib3>=1.24.0 in /Users/phil/miniforge3/envs/embedders2/lib/python3.10/site-packages (from ogb) (2.2.2)\n",
      "Collecting outdated>=0.2.0 (from ogb)\n",
      "  Downloading outdated-0.2.2-py2.py3-none-any.whl.metadata (4.7 kB)\n",
      "Requirement already satisfied: setuptools>=44 in /Users/phil/miniforge3/envs/embedders2/lib/python3.10/site-packages (from outdated>=0.2.0->ogb) (71.0.4)\n",
      "Collecting littleutils (from outdated>=0.2.0->ogb)\n",
      "  Downloading littleutils-0.2.4-py3-none-any.whl.metadata (679 bytes)\n",
      "Requirement already satisfied: requests in /Users/phil/miniforge3/envs/embedders2/lib/python3.10/site-packages (from outdated>=0.2.0->ogb) (2.32.3)\n",
      "Requirement already satisfied: python-dateutil>=2.8.2 in /Users/phil/miniforge3/envs/embedders2/lib/python3.10/site-packages (from pandas>=0.24.0->ogb) (2.9.0)\n",
      "Requirement already satisfied: pytz>=2020.1 in /Users/phil/miniforge3/envs/embedders2/lib/python3.10/site-packages (from pandas>=0.24.0->ogb) (2024.1)\n",
      "Requirement already satisfied: tzdata>=2022.7 in /Users/phil/miniforge3/envs/embedders2/lib/python3.10/site-packages (from pandas>=0.24.0->ogb) (2024.1)\n",
      "Requirement already satisfied: scipy>=1.6.0 in /Users/phil/miniforge3/envs/embedders2/lib/python3.10/site-packages (from scikit-learn>=0.20.0->ogb) (1.11.4)\n",
      "Requirement already satisfied: joblib>=1.2.0 in /Users/phil/miniforge3/envs/embedders2/lib/python3.10/site-packages (from scikit-learn>=0.20.0->ogb) (1.4.2)\n",
      "Requirement already satisfied: threadpoolctl>=3.1.0 in /Users/phil/miniforge3/envs/embedders2/lib/python3.10/site-packages (from scikit-learn>=0.20.0->ogb) (3.5.0)\n",
      "Requirement already satisfied: filelock in /Users/phil/miniforge3/envs/embedders2/lib/python3.10/site-packages (from torch>=1.6.0->ogb) (3.15.4)\n",
      "Requirement already satisfied: typing-extensions>=4.8.0 in /Users/phil/miniforge3/envs/embedders2/lib/python3.10/site-packages (from torch>=1.6.0->ogb) (4.12.2)\n",
      "Requirement already satisfied: sympy in /Users/phil/miniforge3/envs/embedders2/lib/python3.10/site-packages (from torch>=1.6.0->ogb) (1.13.1)\n",
      "Requirement already satisfied: networkx in /Users/phil/miniforge3/envs/embedders2/lib/python3.10/site-packages (from torch>=1.6.0->ogb) (3.3)\n",
      "Requirement already satisfied: jinja2 in /Users/phil/miniforge3/envs/embedders2/lib/python3.10/site-packages (from torch>=1.6.0->ogb) (3.1.4)\n",
      "Requirement already satisfied: fsspec in /Users/phil/miniforge3/envs/embedders2/lib/python3.10/site-packages (from torch>=1.6.0->ogb) (2024.6.1)\n",
      "Requirement already satisfied: MarkupSafe>=2.0 in /Users/phil/miniforge3/envs/embedders2/lib/python3.10/site-packages (from jinja2->torch>=1.6.0->ogb) (2.1.5)\n",
      "Requirement already satisfied: charset-normalizer<4,>=2 in /Users/phil/miniforge3/envs/embedders2/lib/python3.10/site-packages (from requests->outdated>=0.2.0->ogb) (3.3.2)\n",
      "Requirement already satisfied: idna<4,>=2.5 in /Users/phil/miniforge3/envs/embedders2/lib/python3.10/site-packages (from requests->outdated>=0.2.0->ogb) (3.7)\n",
      "Requirement already satisfied: certifi>=2017.4.17 in /Users/phil/miniforge3/envs/embedders2/lib/python3.10/site-packages (from requests->outdated>=0.2.0->ogb) (2024.7.4)\n",
      "Requirement already satisfied: mpmath<1.4,>=1.1.0 in /Users/phil/miniforge3/envs/embedders2/lib/python3.10/site-packages (from sympy->torch>=1.6.0->ogb) (1.3.0)\n",
      "Downloading ogb-1.3.6-py3-none-any.whl (78 kB)\n",
      "\u001b[2K   \u001b[90m━━━━━━━━━━━━━━━━━━━━━━━━━━━━━━━━━━━━━━━━\u001b[0m \u001b[32m78.8/78.8 kB\u001b[0m \u001b[31m1.6 MB/s\u001b[0m eta \u001b[36m0:00:00\u001b[0ma \u001b[36m0:00:01\u001b[0m\n",
      "\u001b[?25hDownloading outdated-0.2.2-py2.py3-none-any.whl (7.5 kB)\n",
      "Downloading littleutils-0.2.4-py3-none-any.whl (8.1 kB)\n",
      "Installing collected packages: littleutils, outdated, ogb\n",
      "Successfully installed littleutils-0.2.4 ogb-1.3.6 outdated-0.2.2\n",
      "Note: you may need to restart the kernel to use updated packages.\n"
     ]
    }
   ],
   "source": [
    "pip install ogb"
   ]
  },
  {
   "cell_type": "code",
   "execution_count": 3,
   "metadata": {},
   "outputs": [],
   "source": [
    "import ogb.nodeproppred"
   ]
  },
  {
   "cell_type": "code",
   "execution_count": 4,
   "metadata": {},
   "outputs": [
    {
     "name": "stdout",
     "output_type": "stream",
     "text": [
      "Downloading http://snap.stanford.edu/ogb/data/nodeproppred/products.zip\n"
     ]
    },
    {
     "name": "stderr",
     "output_type": "stream",
     "text": [
      "Downloaded 1.21 GB:  88%|████████▊ | 1242/1414 [04:51<00:46,  3.72it/s]"
     ]
    }
   ],
   "source": [
    "prods = ogb.nodeproppred.NodePropPredDataset(name='ogbn-products')"
   ]
  },
  {
   "cell_type": "code",
   "execution_count": null,
   "metadata": {},
   "outputs": [],
   "source": []
  }
 ],
 "metadata": {
  "kernelspec": {
   "display_name": "embedders2",
   "language": "python",
   "name": "python3"
  },
  "language_info": {
   "codemirror_mode": {
    "name": "ipython",
    "version": 3
   },
   "file_extension": ".py",
   "mimetype": "text/x-python",
   "name": "python",
   "nbconvert_exporter": "python",
   "pygments_lexer": "ipython3",
   "version": "3.10.0"
  }
 },
 "nbformat": 4,
 "nbformat_minor": 2
}

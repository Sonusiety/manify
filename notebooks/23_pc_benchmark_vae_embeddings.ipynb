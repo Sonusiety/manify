{
 "cells": [
  {
   "cell_type": "code",
   "execution_count": 4,
   "metadata": {},
   "outputs": [
    {
     "name": "stdout",
     "output_type": "stream",
     "text": [
      "The autoreload extension is already loaded. To reload it, use:\n",
      "  %reload_ext autoreload\n"
     ]
    }
   ],
   "source": [
    "%load_ext autoreload\n",
    "%autoreload 2"
   ]
  },
  {
   "cell_type": "code",
   "execution_count": 5,
   "metadata": {},
   "outputs": [
    {
     "name": "stdout",
     "output_type": "stream",
     "text": [
      "[]\n"
     ]
    }
   ],
   "source": [
    "import numpy as np\n",
    "\n",
    "embeddings_names = [\n",
    "    \"blood_cell_scrna\",\n",
    "    \"lymphoma\",\n",
    "    \"cifar_100\",\n",
    "    \"mnist\",\n",
    "]\n",
    "sigs = [\n",
    "    [(1, 2), (0, 2), (-1, 2), (-1, 2), (-1, 2)],\n",
    "    [(1, 2), (1, 2)],\n",
    "    [(1, 2), (1, 2), (1, 2), (1, 2)],\n",
    "    [(1, 2), (0, 2), (-1, 2)],\n",
    "]\n",
    "n_trials = 10\n",
    "sets = [\"train\", \"test\"]\n",
    "datasets = [\"X\", \"y\"]\n",
    "\n",
    "bad = []\n",
    "for embedding in embeddings_names:\n",
    "    for trial in range(n_trials):\n",
    "        for set_name in sets:\n",
    "            for dataset in datasets:\n",
    "                my_data = np.load(f\"../data/{embedding}/embeddings/{dataset}_{set_name}_{trial}.npy\")\n",
    "                if np.isnan(my_data).any():\n",
    "                    bad.append((embedding, trial, set_name, dataset))\n",
    "                    print(embedding, trial, set_name, dataset)\n",
    "                # print(my_data.shape)\n",
    "print(bad)"
   ]
  },
  {
   "cell_type": "code",
   "execution_count": 6,
   "metadata": {},
   "outputs": [
    {
     "data": {
      "application/vnd.jupyter.widget-view+json": {
       "model_id": "f49e2862f89c40efb02c767d0087055c",
       "version_major": 2,
       "version_minor": 0
      },
      "text/plain": [
       "  0%|          | 0/40 [00:00<?, ?it/s]"
      ]
     },
     "metadata": {},
     "output_type": "display_data"
    },
    {
     "ename": "KeyboardInterrupt",
     "evalue": "",
     "output_type": "error",
     "traceback": [
      "\u001b[0;31m---------------------------------------------------------------------------\u001b[0m",
      "\u001b[0;31mKeyboardInterrupt\u001b[0m                         Traceback (most recent call last)",
      "Cell \u001b[0;32mIn[6], line 32\u001b[0m\n\u001b[1;32m     29\u001b[0m     X_test \u001b[38;5;241m=\u001b[39m X_test[idx]\n\u001b[1;32m     30\u001b[0m     y_test \u001b[38;5;241m=\u001b[39m y_test[idx]\n\u001b[0;32m---> 32\u001b[0m res \u001b[38;5;241m=\u001b[39m \u001b[43membedders\u001b[49m\u001b[38;5;241;43m.\u001b[39;49m\u001b[43mbenchmarks\u001b[49m\u001b[38;5;241;43m.\u001b[39;49m\u001b[43mbenchmark\u001b[49m\u001b[43m(\u001b[49m\n\u001b[1;32m     33\u001b[0m \u001b[43m    \u001b[49m\u001b[43mX\u001b[49m\u001b[38;5;241;43m=\u001b[39;49m\u001b[38;5;28;43;01mNone\u001b[39;49;00m\u001b[43m,\u001b[49m\n\u001b[1;32m     34\u001b[0m \u001b[43m    \u001b[49m\u001b[43my\u001b[49m\u001b[38;5;241;43m=\u001b[39;49m\u001b[38;5;28;43;01mNone\u001b[39;49;00m\u001b[43m,\u001b[49m\n\u001b[1;32m     35\u001b[0m \u001b[43m    \u001b[49m\u001b[43mX_train\u001b[49m\u001b[38;5;241;43m=\u001b[39;49m\u001b[43mX_train\u001b[49m\u001b[43m,\u001b[49m\n\u001b[1;32m     36\u001b[0m \u001b[43m    \u001b[49m\u001b[43mX_test\u001b[49m\u001b[38;5;241;43m=\u001b[39;49m\u001b[43mX_test\u001b[49m\u001b[43m,\u001b[49m\n\u001b[1;32m     37\u001b[0m \u001b[43m    \u001b[49m\u001b[43my_train\u001b[49m\u001b[38;5;241;43m=\u001b[39;49m\u001b[43my_train\u001b[49m\u001b[43m,\u001b[49m\n\u001b[1;32m     38\u001b[0m \u001b[43m    \u001b[49m\u001b[43my_test\u001b[49m\u001b[38;5;241;43m=\u001b[39;49m\u001b[43my_test\u001b[49m\u001b[43m,\u001b[49m\n\u001b[1;32m     39\u001b[0m \u001b[43m    \u001b[49m\u001b[43mpm\u001b[49m\u001b[38;5;241;43m=\u001b[39;49m\u001b[43mpm\u001b[49m\u001b[43m,\u001b[49m\n\u001b[1;32m     40\u001b[0m \u001b[43m    \u001b[49m\u001b[38;5;66;43;03m# models=[\"sklearn_dt\", \"product_dt\"],\u001b[39;49;00m\n\u001b[1;32m     41\u001b[0m \u001b[43m    \u001b[49m\u001b[43mmax_depth\u001b[49m\u001b[38;5;241;43m=\u001b[39;49m\u001b[43mMAX_DEPTH\u001b[49m\u001b[43m,\u001b[49m\n\u001b[1;32m     42\u001b[0m \u001b[43m    \u001b[49m\u001b[43mbatch_size\u001b[49m\u001b[38;5;241;43m=\u001b[39;49m\u001b[38;5;241;43m1\u001b[39;49m\u001b[43m,\u001b[49m\n\u001b[1;32m     43\u001b[0m \u001b[43m    \u001b[49m\u001b[43mn_features\u001b[49m\u001b[38;5;241;43m=\u001b[39;49m\u001b[43mN_FEATURES\u001b[49m\u001b[43m,\u001b[49m\n\u001b[1;32m     44\u001b[0m \u001b[43m\u001b[49m\u001b[43m)\u001b[49m\n\u001b[1;32m     45\u001b[0m res[\u001b[38;5;124m\"\u001b[39m\u001b[38;5;124membedding\u001b[39m\u001b[38;5;124m\"\u001b[39m] \u001b[38;5;241m=\u001b[39m embedding\n\u001b[1;32m     46\u001b[0m res[\u001b[38;5;124m\"\u001b[39m\u001b[38;5;124mtrial\u001b[39m\u001b[38;5;124m\"\u001b[39m] \u001b[38;5;241m=\u001b[39m trial\n",
      "File \u001b[0;32m~/embedders/src/embedders/benchmarks.py:203\u001b[0m, in \u001b[0;36mbenchmark\u001b[0;34m(X, y, pm, split, device, score, models, max_depth, n_estimators, min_samples_split, min_samples_leaf, task, seed, use_special_dims, n_features, X_train, X_test, y_train, y_test, batch_size)\u001b[0m\n\u001b[1;32m    194\u001b[0m \u001b[38;5;28;01mif\u001b[39;00m \u001b[38;5;124m\"\u001b[39m\u001b[38;5;124mproduct_dt\u001b[39m\u001b[38;5;124m\"\u001b[39m \u001b[38;5;129;01min\u001b[39;00m models:\n\u001b[1;32m    195\u001b[0m     psdt \u001b[38;5;241m=\u001b[39m ProductSpaceDT(\n\u001b[1;32m    196\u001b[0m         pm\u001b[38;5;241m=\u001b[39mpm,\n\u001b[1;32m    197\u001b[0m         task\u001b[38;5;241m=\u001b[39mtask,\n\u001b[0;32m   (...)\u001b[0m\n\u001b[1;32m    201\u001b[0m         batch_size\u001b[38;5;241m=\u001b[39mbatch_size,\n\u001b[1;32m    202\u001b[0m     )\n\u001b[0;32m--> 203\u001b[0m     \u001b[43mpsdt\u001b[49m\u001b[38;5;241;43m.\u001b[39;49m\u001b[43mfit\u001b[49m\u001b[43m(\u001b[49m\u001b[43mX_train\u001b[49m\u001b[43m,\u001b[49m\u001b[43m \u001b[49m\u001b[43my_train\u001b[49m\u001b[43m)\u001b[49m\n\u001b[1;32m    204\u001b[0m     accs[\u001b[38;5;124m\"\u001b[39m\u001b[38;5;124mproduct_dt\u001b[39m\u001b[38;5;124m\"\u001b[39m] \u001b[38;5;241m=\u001b[39m _score(X_test, y_test_np, psdt, torch\u001b[38;5;241m=\u001b[39m\u001b[38;5;28;01mTrue\u001b[39;00m)\n\u001b[1;32m    206\u001b[0m \u001b[38;5;28;01mif\u001b[39;00m \u001b[38;5;124m\"\u001b[39m\u001b[38;5;124mproduct_rf\u001b[39m\u001b[38;5;124m\"\u001b[39m \u001b[38;5;129;01min\u001b[39;00m models:\n",
      "File \u001b[0;32m~/miniforge3/envs/embedders2/lib/python3.10/site-packages/torch/utils/_contextlib.py:115\u001b[0m, in \u001b[0;36mcontext_decorator.<locals>.decorate_context\u001b[0;34m(*args, **kwargs)\u001b[0m\n\u001b[1;32m    112\u001b[0m \u001b[38;5;129m@functools\u001b[39m\u001b[38;5;241m.\u001b[39mwraps(func)\n\u001b[1;32m    113\u001b[0m \u001b[38;5;28;01mdef\u001b[39;00m \u001b[38;5;21mdecorate_context\u001b[39m(\u001b[38;5;241m*\u001b[39margs, \u001b[38;5;241m*\u001b[39m\u001b[38;5;241m*\u001b[39mkwargs):\n\u001b[1;32m    114\u001b[0m     \u001b[38;5;28;01mwith\u001b[39;00m ctx_factory():\n\u001b[0;32m--> 115\u001b[0m         \u001b[38;5;28;01mreturn\u001b[39;00m \u001b[43mfunc\u001b[49m\u001b[43m(\u001b[49m\u001b[38;5;241;43m*\u001b[39;49m\u001b[43margs\u001b[49m\u001b[43m,\u001b[49m\u001b[43m \u001b[49m\u001b[38;5;241;43m*\u001b[39;49m\u001b[38;5;241;43m*\u001b[39;49m\u001b[43mkwargs\u001b[49m\u001b[43m)\u001b[49m\n",
      "File \u001b[0;32m~/embedders/src/embedders/tree_new.py:507\u001b[0m, in \u001b[0;36mProductSpaceDT.fit\u001b[0;34m(self, X, y)\u001b[0m\n\u001b[1;32m    504\u001b[0m \u001b[38;5;28mself\u001b[39m\u001b[38;5;241m.\u001b[39mclasses_ \u001b[38;5;241m=\u001b[39m classes\n\u001b[1;32m    506\u001b[0m \u001b[38;5;66;03m# Fit node\u001b[39;00m\n\u001b[0;32m--> 507\u001b[0m \u001b[38;5;28mself\u001b[39m\u001b[38;5;241m.\u001b[39mtree \u001b[38;5;241m=\u001b[39m \u001b[38;5;28;43mself\u001b[39;49m\u001b[38;5;241;43m.\u001b[39;49m\u001b[43m_fit_node\u001b[49m\u001b[43m(\u001b[49m\u001b[43mangles\u001b[49m\u001b[38;5;241;43m=\u001b[39;49m\u001b[43mangles\u001b[49m\u001b[43m,\u001b[49m\u001b[43m \u001b[49m\u001b[43mlabels\u001b[49m\u001b[38;5;241;43m=\u001b[39;49m\u001b[43mlabels\u001b[49m\u001b[43m,\u001b[49m\u001b[43m \u001b[49m\u001b[43mcomparisons\u001b[49m\u001b[38;5;241;43m=\u001b[39;49m\u001b[43mcomparisons_reshaped\u001b[49m\u001b[43m,\u001b[49m\u001b[43m \u001b[49m\u001b[43mdepth\u001b[49m\u001b[38;5;241;43m=\u001b[39;49m\u001b[38;5;28;43mself\u001b[39;49m\u001b[38;5;241;43m.\u001b[39;49m\u001b[43mmax_depth\u001b[49m\u001b[43m)\u001b[49m\n",
      "File \u001b[0;32m~/embedders/src/embedders/tree_new.py:550\u001b[0m, in \u001b[0;36mProductSpaceDT._fit_node\u001b[0;34m(self, angles, labels, comparisons, depth)\u001b[0m\n\u001b[1;32m    548\u001b[0m     ig \u001b[38;5;241m=\u001b[39m _get_info_gains(comparisons\u001b[38;5;241m=\u001b[39mcomparisons, labels\u001b[38;5;241m=\u001b[39mlabels, criterion\u001b[38;5;241m=\u001b[39m\u001b[38;5;28mself\u001b[39m\u001b[38;5;241m.\u001b[39mcriterion)\n\u001b[1;32m    549\u001b[0m \u001b[38;5;28;01melse\u001b[39;00m:\n\u001b[0;32m--> 550\u001b[0m     ig \u001b[38;5;241m=\u001b[39m \u001b[43m_get_info_gains_nobatch\u001b[49m\u001b[43m(\u001b[49m\n\u001b[1;32m    551\u001b[0m \u001b[43m        \u001b[49m\u001b[43mangles\u001b[49m\u001b[38;5;241;43m=\u001b[39;49m\u001b[43mangles\u001b[49m\u001b[43m,\u001b[49m\u001b[43m \u001b[49m\u001b[43mlabels\u001b[49m\u001b[38;5;241;43m=\u001b[39;49m\u001b[43mlabels\u001b[49m\u001b[43m,\u001b[49m\u001b[43m \u001b[49m\u001b[43mcriterion\u001b[49m\u001b[38;5;241;43m=\u001b[39;49m\u001b[38;5;28;43mself\u001b[39;49m\u001b[38;5;241;43m.\u001b[39;49m\u001b[43mcriterion\u001b[49m\u001b[43m,\u001b[49m\u001b[43m \u001b[49m\u001b[43mbatch_size\u001b[49m\u001b[38;5;241;43m=\u001b[39;49m\u001b[38;5;28;43mself\u001b[39;49m\u001b[38;5;241;43m.\u001b[39;49m\u001b[43mbatch_size\u001b[49m\n\u001b[1;32m    552\u001b[0m \u001b[43m    \u001b[49m\u001b[43m)\u001b[49m\n\u001b[1;32m    554\u001b[0m \u001b[38;5;66;03m# Check if we have a valid split\u001b[39;00m\n\u001b[1;32m    555\u001b[0m \u001b[38;5;28;01mif\u001b[39;00m ig\u001b[38;5;241m.\u001b[39mmax() \u001b[38;5;241m<\u001b[39m\u001b[38;5;241m=\u001b[39m \u001b[38;5;28mself\u001b[39m\u001b[38;5;241m.\u001b[39mmin_impurity_decrease:\n",
      "File \u001b[0;32m~/embedders/src/embedders/tree_new.py:157\u001b[0m, in \u001b[0;36m_get_info_gains_nobatch\u001b[0;34m(angles, labels, criterion, min_values_leaf, eps, batch_size)\u001b[0m\n\u001b[1;32m    151\u001b[0m         \u001b[38;5;66;03m# pos_labels_entry = pos_labels_entry_all[j]\u001b[39;00m\n\u001b[1;32m    152\u001b[0m         \u001b[38;5;66;03m# neg_labels_entry = neg_labels_entry_all[j]\u001b[39;00m\n\u001b[1;32m    153\u001b[0m         \u001b[38;5;66;03m# print(pos_labels_entry.shape, pos_labels[j, d, :].shape)\u001b[39;00m\n\u001b[1;32m    154\u001b[0m \n\u001b[1;32m    155\u001b[0m         \u001b[38;5;66;03m# Assign the calculated values to the respective positions in the final tensors\u001b[39;00m\n\u001b[1;32m    156\u001b[0m         pos_labels[j, d, :] \u001b[38;5;241m=\u001b[39m pos_labels_entry\u001b[38;5;241m.\u001b[39msum(dim\u001b[38;5;241m=\u001b[39m\u001b[38;5;241m0\u001b[39m)\n\u001b[0;32m--> 157\u001b[0m         neg_labels[j, d, :] \u001b[38;5;241m=\u001b[39m \u001b[43mneg_labels_entry\u001b[49m\u001b[38;5;241;43m.\u001b[39;49m\u001b[43msum\u001b[49m\u001b[43m(\u001b[49m\u001b[43mdim\u001b[49m\u001b[38;5;241;43m=\u001b[39;49m\u001b[38;5;241;43m0\u001b[39;49m\u001b[43m)\u001b[49m\n\u001b[1;32m    159\u001b[0m         \u001b[38;5;66;03m# my_tqdm.update(1)\u001b[39;00m\n\u001b[1;32m    160\u001b[0m \n\u001b[1;32m    161\u001b[0m \u001b[38;5;66;03m# Total counts are sums of label counts\u001b[39;00m\n\u001b[1;32m    162\u001b[0m n_pos \u001b[38;5;241m=\u001b[39m pos_labels\u001b[38;5;241m.\u001b[39msum(dim\u001b[38;5;241m=\u001b[39m\u001b[38;5;241m-\u001b[39m\u001b[38;5;241m1\u001b[39m) \u001b[38;5;241m+\u001b[39m eps\n",
      "\u001b[0;31mKeyboardInterrupt\u001b[0m: "
     ]
    }
   ],
   "source": [
    "import embedders\n",
    "import pandas as pd\n",
    "from tqdm.notebook import tqdm\n",
    "\n",
    "# N_SAMPLES = 100 # Takes ~20 secs\n",
    "# N_SAMPLES = 1_000 # Takes ~5 mins\n",
    "N_SAMPLES = float(\"inf\")  # Takes ~1 hour\n",
    "MAX_DEPTH = 3\n",
    "N_FEATURES = \"d_choose_2\"\n",
    "\n",
    "results = []\n",
    "my_tqdm = tqdm(total=len(embeddings_names) * n_trials)\n",
    "for embedding, sig in zip(embeddings_names, sigs):\n",
    "    pm = embedders.manifolds.ProductManifold(signature=sig)\n",
    "    for trial in range(n_trials):\n",
    "        X_train = np.load(f\"../data/{embedding}/embeddings/X_train_{trial}.npy\")\n",
    "        y_train = np.load(f\"../data/{embedding}/embeddings/y_train_{trial}.npy\")\n",
    "        X_test = np.load(f\"../data/{embedding}/embeddings/X_test_{trial}.npy\")\n",
    "        y_test = np.load(f\"../data/{embedding}/embeddings/y_test_{trial}.npy\")\n",
    "\n",
    "        # Randomly subsample\n",
    "        if len(X_train) > N_SAMPLES:\n",
    "            idx = np.random.choice(X_train.shape[0], N_SAMPLES, replace=False)\n",
    "            X_train = X_train[idx]\n",
    "            y_train = y_train[idx]\n",
    "\n",
    "        if len(X_test) > N_SAMPLES:\n",
    "            idx = np.random.choice(X_test.shape[0], N_SAMPLES, replace=False)\n",
    "            X_test = X_test[idx]\n",
    "            y_test = y_test[idx]\n",
    "\n",
    "        res = embedders.benchmarks.benchmark(\n",
    "            X=None,\n",
    "            y=None,\n",
    "            X_train=X_train,\n",
    "            X_test=X_test,\n",
    "            y_train=y_train,\n",
    "            y_test=y_test,\n",
    "            pm=pm,\n",
    "            # models=[\"sklearn_dt\", \"product_dt\"],\n",
    "            max_depth=MAX_DEPTH,\n",
    "            batch_size=1,\n",
    "            n_features=N_FEATURES,\n",
    "        )\n",
    "        res[\"embedding\"] = embedding\n",
    "        res[\"trial\"] = trial\n",
    "\n",
    "        results.append(res)\n",
    "        my_tqdm.update(1)\n",
    "\n",
    "results = pd.DataFrame(results)"
   ]
  },
  {
   "cell_type": "code",
   "execution_count": 51,
   "metadata": {},
   "outputs": [],
   "source": [
    "results.to_csv(\"../data/results/vae.tsv\", sep=\"\\t\", index=False)"
   ]
  },
  {
   "cell_type": "code",
   "execution_count": 49,
   "metadata": {},
   "outputs": [
    {
     "data": {
      "text/html": [
       "<div>\n",
       "<style scoped>\n",
       "    .dataframe tbody tr th:only-of-type {\n",
       "        vertical-align: middle;\n",
       "    }\n",
       "\n",
       "    .dataframe tbody tr th {\n",
       "        vertical-align: top;\n",
       "    }\n",
       "\n",
       "    .dataframe thead th {\n",
       "        text-align: right;\n",
       "    }\n",
       "</style>\n",
       "<table border=\"1\" class=\"dataframe\">\n",
       "  <thead>\n",
       "    <tr style=\"text-align: right;\">\n",
       "      <th></th>\n",
       "      <th>sklearn_dt</th>\n",
       "      <th>sklearn_rf</th>\n",
       "      <th>product_dt</th>\n",
       "      <th>product_rf</th>\n",
       "      <th>tangent_dt</th>\n",
       "      <th>tangent_rf</th>\n",
       "      <th>knn</th>\n",
       "      <th>ps_perceptron</th>\n",
       "      <th>trial</th>\n",
       "    </tr>\n",
       "    <tr>\n",
       "      <th>embedding</th>\n",
       "      <th></th>\n",
       "      <th></th>\n",
       "      <th></th>\n",
       "      <th></th>\n",
       "      <th></th>\n",
       "      <th></th>\n",
       "      <th></th>\n",
       "      <th></th>\n",
       "      <th></th>\n",
       "    </tr>\n",
       "  </thead>\n",
       "  <tbody>\n",
       "    <tr>\n",
       "      <th>blood_cell_scrna</th>\n",
       "      <td>0.1633</td>\n",
       "      <td>0.1746</td>\n",
       "      <td>0.1541</td>\n",
       "      <td>0.1703</td>\n",
       "      <td>0.1692</td>\n",
       "      <td>0.1732</td>\n",
       "      <td>0.1635</td>\n",
       "      <td>0.0296</td>\n",
       "      <td>4.5</td>\n",
       "    </tr>\n",
       "    <tr>\n",
       "      <th>cifar_100</th>\n",
       "      <td>0.0907</td>\n",
       "      <td>0.0977</td>\n",
       "      <td>0.0913</td>\n",
       "      <td>0.1044</td>\n",
       "      <td>0.0898</td>\n",
       "      <td>0.0991</td>\n",
       "      <td>0.0795</td>\n",
       "      <td>0.0546</td>\n",
       "      <td>4.5</td>\n",
       "    </tr>\n",
       "    <tr>\n",
       "      <th>lymphoma</th>\n",
       "      <td>0.8192</td>\n",
       "      <td>0.8172</td>\n",
       "      <td>0.8314</td>\n",
       "      <td>0.8291</td>\n",
       "      <td>0.8156</td>\n",
       "      <td>0.8154</td>\n",
       "      <td>0.7872</td>\n",
       "      <td>0.7821</td>\n",
       "      <td>4.5</td>\n",
       "    </tr>\n",
       "    <tr>\n",
       "      <th>mnist</th>\n",
       "      <td>0.2668</td>\n",
       "      <td>0.3413</td>\n",
       "      <td>0.2909</td>\n",
       "      <td>0.3873</td>\n",
       "      <td>0.2646</td>\n",
       "      <td>0.3463</td>\n",
       "      <td>0.3386</td>\n",
       "      <td>0.1687</td>\n",
       "      <td>4.5</td>\n",
       "    </tr>\n",
       "  </tbody>\n",
       "</table>\n",
       "</div>"
      ],
      "text/plain": [
       "                  sklearn_dt  sklearn_rf  product_dt  product_rf  tangent_dt  \\\n",
       "embedding                                                                      \n",
       "blood_cell_scrna      0.1633      0.1746      0.1541      0.1703      0.1692   \n",
       "cifar_100             0.0907      0.0977      0.0913      0.1044      0.0898   \n",
       "lymphoma              0.8192      0.8172      0.8314      0.8291      0.8156   \n",
       "mnist                 0.2668      0.3413      0.2909      0.3873      0.2646   \n",
       "\n",
       "                  tangent_rf     knn  ps_perceptron  trial  \n",
       "embedding                                                   \n",
       "blood_cell_scrna      0.1732  0.1635         0.0296    4.5  \n",
       "cifar_100             0.0991  0.0795         0.0546    4.5  \n",
       "lymphoma              0.8154  0.7872         0.7821    4.5  \n",
       "mnist                 0.3463  0.3386         0.1687    4.5  "
      ]
     },
     "execution_count": 49,
     "metadata": {},
     "output_type": "execute_result"
    }
   ],
   "source": [
    "results.groupby(\"embedding\").mean()"
   ]
  },
  {
   "cell_type": "code",
   "execution_count": null,
   "metadata": {},
   "outputs": [],
   "source": []
  }
 ],
 "metadata": {
  "kernelspec": {
   "display_name": "embedders2",
   "language": "python",
   "name": "python3"
  },
  "language_info": {
   "codemirror_mode": {
    "name": "ipython",
    "version": 3
   },
   "file_extension": ".py",
   "mimetype": "text/x-python",
   "name": "python",
   "nbconvert_exporter": "python",
   "pygments_lexer": "ipython3",
   "version": "3.10.0"
  }
 },
 "nbformat": 4,
 "nbformat_minor": 2
}

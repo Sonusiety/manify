{
 "cells": [
  {
   "cell_type": "code",
   "execution_count": 1,
   "metadata": {},
   "outputs": [],
   "source": [
    "%load_ext autoreload\n",
    "%autoreload 2"
   ]
  },
  {
   "cell_type": "markdown",
   "metadata": {},
   "source": [
    "# Proof of concept"
   ]
  },
  {
   "cell_type": "code",
   "execution_count": 2,
   "metadata": {},
   "outputs": [
    {
     "name": "stdout",
     "output_type": "stream",
     "text": [
      "Using device: cpu\n"
     ]
    }
   ],
   "source": [
    "# Torch device management\n",
    "import torch\n",
    "\n",
    "if torch.cuda.is_available():\n",
    "    torch.cuda.set_device(0)\n",
    "    device = torch.device(\"cuda\")\n",
    "else:\n",
    "    device = torch.device(\"cpu\")\n",
    "\n",
    "print(f\"Using device: {device}\")"
   ]
  },
  {
   "cell_type": "code",
   "execution_count": 5,
   "metadata": {},
   "outputs": [],
   "source": [
    "import embedders"
   ]
  },
  {
   "cell_type": "code",
   "execution_count": 6,
   "metadata": {},
   "outputs": [
    {
     "name": "stdout",
     "output_type": "stream",
     "text": [
      "Top CC has 1222 nodes; original graph has 1490 nodes.\n"
     ]
    }
   ],
   "source": [
    "# Load Polblogs\n",
    "\n",
    "polblogs_dists, polblogs_labels = embedders.dataloaders.load(\n",
    "    \"polblogs\",\n",
    "    labels=True,\n",
    "    polblogs_path=\"/Users/phil/embedders/data/graphs/polblogs.mtx\",\n",
    "    polblogs_labels_path=\"/Users/phil/embedders/data/graphs/polblogs_labels.tsv\",\n",
    ")"
   ]
  },
  {
   "cell_type": "code",
   "execution_count": 10,
   "metadata": {},
   "outputs": [
    {
     "name": "stdout",
     "output_type": "stream",
     "text": [
      "H_1.0^6\n"
     ]
    },
    {
     "data": {
      "application/vnd.jupyter.widget-view+json": {
       "model_id": "b2f9b69ec9a048819f3794f4d5fdd4ce",
       "version_major": 2,
       "version_minor": 0
      },
      "text/plain": [
       "  0%|          | 0/3000 [00:00<?, ?it/s]"
      ]
     },
     "metadata": {},
     "output_type": "display_data"
    }
   ],
   "source": [
    "# Specify signature - useful to re-initialize the manifold here\n",
    "\n",
    "torch.manual_seed(0)  # Not all seeds are stable - this one trains for 3000 iterations at lr=1e-2 (burn-in 1e-3)\n",
    "\n",
    "signature = [(-1, 6)]\n",
    "pm = embedders.manifolds.ProductManifold(signature=signature)\n",
    "print(pm.name)\n",
    "\n",
    "# Rescale distances\n",
    "dists_rescaled = polblogs_dists / polblogs_dists.max()\n",
    "\n",
    "# Get embedding\n",
    "embedders.coordinate_learning.train_coords(\n",
    "    pm,\n",
    "    dists_rescaled,\n",
    "    device=device,\n",
    "    burn_in_iterations=300,\n",
    "    training_iterations=300 * 9,\n",
    "    learning_rate=1e-1,\n",
    "    burn_in_learning_rate=1e-2,\n",
    "    scale_factor_learning_rate=1e-1,\n",
    ")\n",
    "\n",
    "h6_polblogs = pm.x_embed.detach().cpu().numpy()"
   ]
  },
  {
   "cell_type": "code",
   "execution_count": 22,
   "metadata": {},
   "outputs": [
    {
     "name": "stdout",
     "output_type": "stream",
     "text": [
      "ProductDT\t89.23\n",
      "DT\t89.31\n"
     ]
    }
   ],
   "source": [
    "# Compare productDT and sklearn on this dataset\n",
    "# from sklearn.model_selection import KFold\n",
    "from sklearn.model_selection import train_test_split\n",
    "from sklearn.metrics import f1_score\n",
    "\n",
    "# from hyperdt.tree import HyperbolicDecisionTreeClassifier\n",
    "from embedders.tree_new import ProductSpaceDT\n",
    "from sklearn.tree import DecisionTreeClassifier\n",
    "\n",
    "X_train, X_test, y_train, y_test = train_test_split(h6_polblogs, polblogs_labels.values, test_size=0.2, random_state=0)\n",
    "\n",
    "pdt = ProductSpaceDT(pm=pm, max_depth=3, use_special_dims=True)\n",
    "pdt.fit(X_train, y_train)\n",
    "pdt_f1 = f1_score(y_test, pdt.predict(X_test))\n",
    "print(f\"ProductDT\\t{pdt_f1*100:.2f}\")\n",
    "\n",
    "dt = DecisionTreeClassifier(max_depth=3)\n",
    "dt.fit(X_train, y_train)\n",
    "dt_f1 = f1_score(y_test, dt.predict(X_test))\n",
    "print(f\"DT\\t{dt_f1*100:.2f}\")"
   ]
  },
  {
   "cell_type": "code",
   "execution_count": 23,
   "metadata": {},
   "outputs": [
    {
     "name": "stdout",
     "output_type": "stream",
     "text": [
      "H_1.0^2 x E_0.0^2 x S_1.0^2\n"
     ]
    },
    {
     "data": {
      "application/vnd.jupyter.widget-view+json": {
       "model_id": "f0ad7dba0c5f4a08993f5af8102d150b",
       "version_major": 2,
       "version_minor": 0
      },
      "text/plain": [
       "  0%|          | 0/3000 [00:00<?, ?it/s]"
      ]
     },
     "metadata": {},
     "output_type": "display_data"
    }
   ],
   "source": [
    "# Same thing, but now we do H2 x E2 x S2\n",
    "torch.manual_seed(0)\n",
    "\n",
    "signature = [(-1, 2), (0, 2), (1, 2)]\n",
    "pm2 = embedders.manifolds.ProductManifold(signature=signature)\n",
    "print(pm2.name)\n",
    "\n",
    "# Get embedding\n",
    "embedders.coordinate_learning.train_coords(\n",
    "    pm2,\n",
    "    dists_rescaled,\n",
    "    device=device,\n",
    "    burn_in_iterations=300,\n",
    "    training_iterations=300 * 9,\n",
    "    learning_rate=1e-1,\n",
    "    burn_in_learning_rate=1e-2,\n",
    "    scale_factor_learning_rate=1e-1,\n",
    ")\n",
    "\n",
    "h2_e2_s2_polblogs = pm2.x_embed.detach().cpu().numpy()"
   ]
  },
  {
   "cell_type": "code",
   "execution_count": 24,
   "metadata": {},
   "outputs": [
    {
     "name": "stdout",
     "output_type": "stream",
     "text": [
      "ProductDT\t90.57\n",
      "DT\t88.46\n"
     ]
    }
   ],
   "source": [
    "# Compare productDT and sklearn on this dataset\n",
    "from sklearn.tree import DecisionTreeClassifier\n",
    "\n",
    "X_train, X_test, y_train, y_test = train_test_split(\n",
    "    h2_e2_s2_polblogs, polblogs_labels.values, test_size=0.2, random_state=0\n",
    ")\n",
    "\n",
    "pdt2 = ProductSpaceDT(pm=pm2, max_depth=3)\n",
    "pdt2.fit(X_train, y_train)\n",
    "pdt2_f1 = f1_score(y_test, pdt2.predict(X_test))\n",
    "print(f\"ProductDT\\t{pdt2_f1*100:.2f}\")\n",
    "\n",
    "dt = DecisionTreeClassifier(max_depth=3)\n",
    "dt.fit(X_train, y_train)\n",
    "dt_f1 = f1_score(y_test, dt.predict(X_test))\n",
    "print(f\"DT\\t{dt_f1*100:.2f}\")\n",
    "# cv_eval(dt, \"DT\", h2_e2_s2_polblogs, polblogs_labels)\n",
    "\n",
    "# TODO: Quentin: product perceptron eval\n",
    "# TODO: Quentin: product SVM eval"
   ]
  },
  {
   "cell_type": "code",
   "execution_count": 10,
   "metadata": {},
   "outputs": [
    {
     "name": "stdout",
     "output_type": "stream",
     "text": [
      "ProductDT (H)\t70.13 +/- 2.41\n",
      "HyperDT (H)\t70.13 +/- 2.41\n",
      "DT (H)\t68.98 +/- 3.30\n",
      "\n",
      "ProductDT (E)\t81.34 +/- 4.06\n",
      "DT (E)\t81.34 +/- 4.06\n",
      "\n",
      "ProductDT (S)\t90.26 +/- 1.02\n",
      "HyperDT (S)\t90.26 +/- 1.02\n",
      "DT (S)\t90.67 +/- 1.59\n"
     ]
    }
   ],
   "source": [
    "# Does it hold up componentwise?\n",
    "\n",
    "# Hyperbolic\n",
    "pdt_H = ProductSpaceDT(max_depth=3, signature=[(2, -1.0)])\n",
    "cv_eval(pdt_H, \"ProductDT (H)\", h2_e2_s2_polblogs[:, pm2.man2dim[0]], polblogs_labels)\n",
    "\n",
    "hdt_H = HyperbolicDecisionTreeClassifier(max_depth=3, skip_hyperboloid_check=True)\n",
    "cv_eval(hdt_H, \"HyperDT (H)\", h2_e2_s2_polblogs[:, pm2.man2dim[0]], polblogs_labels)\n",
    "\n",
    "dt_H = DecisionTreeClassifier(max_depth=3)\n",
    "cv_eval(dt_H, \"DT (H)\", h2_e2_s2_polblogs[:, pm2.man2dim[0]], polblogs_labels)\n",
    "\n",
    "# TODO: Quentin: product perceptron eval\n",
    "# TODO: Quentin: product SVM eval\n",
    "\n",
    "print()\n",
    "\n",
    "# Euclidean\n",
    "# For the euclidean ones, we won't use man2dim because fix_X() breaks it - we'll hardcode 3:6 instead\n",
    "pdt_E = ProductSpaceDT(max_depth=3, signature=[(2, 0.0)])\n",
    "cv_eval(pdt_E, \"ProductDT (E)\", fix_X(h2_e2_s2_polblogs)[:, 3:6], polblogs_labels)\n",
    "\n",
    "dt_E = DecisionTreeClassifier(max_depth=3)\n",
    "cv_eval(dt_E, \"DT (E)\", h2_e2_s2_polblogs[:, pm2.man2dim[1]], polblogs_labels)\n",
    "\n",
    "# TODO: Quentin: product perceptron eval\n",
    "# TODO: Quentin: product SVM eval\n",
    "\n",
    "print()\n",
    "\n",
    "# Sphere\n",
    "pdt_S = ProductSpaceDT(max_depth=3, signature=[(2, 1.0)])\n",
    "cv_eval(pdt_S, \"ProductDT (S)\", h2_e2_s2_polblogs[:, pm2.man2dim[2]], polblogs_labels)\n",
    "\n",
    "hdt_S = HyperbolicDecisionTreeClassifier(max_depth=3, skip_hyperboloid_check=True, angle_midpoint_method=\"bisect\")\n",
    "cv_eval(hdt_S, \"HyperDT (S)\", h2_e2_s2_polblogs[:, pm2.man2dim[2]], polblogs_labels)\n",
    "\n",
    "dt_S = DecisionTreeClassifier(max_depth=3)\n",
    "cv_eval(dt_S, \"DT (S)\", h2_e2_s2_polblogs[:, pm2.man2dim[2]], polblogs_labels)\n",
    "\n",
    "# TODO: Quentin: product perceptron eval\n",
    "# TODO: Quentin: product SVM eval"
   ]
  },
  {
   "cell_type": "code",
   "execution_count": 54,
   "metadata": {},
   "outputs": [
    {
     "name": "stdout",
     "output_type": "stream",
     "text": [
      "[0.25659456849098206, 0.3267468214035034, 0.4166586697101593]\n",
      "1.0000000596046448\n"
     ]
    }
   ],
   "source": [
    "contributions = embedders.metrics.dist_component_by_manifold(pm2, pm2.x_embed)\n",
    "\n",
    "# Why don't these add to 100%...?\n",
    "print(contributions)\n",
    "print(sum(contributions))"
   ]
  },
  {
   "cell_type": "markdown",
   "metadata": {},
   "source": [
    "# Exhaustive benchmark"
   ]
  },
  {
   "cell_type": "code",
   "execution_count": 25,
   "metadata": {},
   "outputs": [],
   "source": [
    "SIGNATURES = [\n",
    "    [(-1, 10)],\n",
    "    [(0, 10)],\n",
    "    [(1, 10)],\n",
    "    [(-1, 5), (-1, 5)],\n",
    "    [(1, 5), (1, 5)],\n",
    "    [(-1, 5), (1, 5)],\n",
    "    [(-1, 2), (-1, 2), (-1, 2), (-1, 2), (-1, 2)],\n",
    "    [(1, 2), (1, 2), (1, 2), (1, 2), (1, 2)],\n",
    "    [(-1, 2), (-1, 2), (0, 2), (1, 2), (1, 2)],\n",
    "]"
   ]
  },
  {
   "cell_type": "code",
   "execution_count": 36,
   "metadata": {},
   "outputs": [
    {
     "data": {
      "text/plain": [
       "device(type='cpu')"
      ]
     },
     "execution_count": 36,
     "metadata": {},
     "output_type": "execute_result"
    }
   ],
   "source": [
    "import torch\n",
    "import embedders\n",
    "import numpy as np\n",
    "\n",
    "device = torch.device(\"cuda\") if torch.cuda.is_available() else torch.device(\"cpu\")\n",
    "device"
   ]
  },
  {
   "cell_type": "code",
   "execution_count": 37,
   "metadata": {},
   "outputs": [
    {
     "name": "stdout",
     "output_type": "stream",
     "text": [
      "Top CC has 1222 nodes; original graph has 1490 nodes.\n"
     ]
    }
   ],
   "source": [
    "# Get data\n",
    "\n",
    "polblogs_dists, polblogs_labels = embedders.dataloaders.load(\n",
    "    \"polblogs\",\n",
    "    labels=True,\n",
    "    polblogs_path=\"/Users/phil/embedders/data/graphs/polblogs.mtx\",\n",
    "    polblogs_labels_path=\"/Users/phil/embedders/data/graphs/polblogs_labels.tsv\",\n",
    ")\n",
    "dists_rescaled = polblogs_dists / polblogs_dists.max()\n",
    "dists_rescaled = torch.tensor(dists_rescaled, dtype=torch.float32).to(device)\n",
    "polblogs_labels = torch.tensor(polblogs_labels.values, dtype=torch.long).to(device)"
   ]
  },
  {
   "cell_type": "code",
   "execution_count": 43,
   "metadata": {},
   "outputs": [
    {
     "data": {
      "application/vnd.jupyter.widget-view+json": {
       "model_id": "d3ecc59897d44d678dac9e16ccfed725",
       "version_major": 2,
       "version_minor": 0
      },
      "text/plain": [
       "  0%|          | 0/3000 [00:00<?, ?it/s]"
      ]
     },
     "metadata": {},
     "output_type": "display_data"
    },
    {
     "data": {
      "application/vnd.jupyter.widget-view+json": {
       "model_id": "be7998a380234c93b705f0a8515ace41",
       "version_major": 2,
       "version_minor": 0
      },
      "text/plain": [
       "  0%|          | 0/3000 [00:00<?, ?it/s]"
      ]
     },
     "metadata": {},
     "output_type": "display_data"
    },
    {
     "data": {
      "application/vnd.jupyter.widget-view+json": {
       "model_id": "78fa7662e90847edaf7b02794d0bbb69",
       "version_major": 2,
       "version_minor": 0
      },
      "text/plain": [
       "  0%|          | 0/3000 [00:00<?, ?it/s]"
      ]
     },
     "metadata": {},
     "output_type": "display_data"
    },
    {
     "data": {
      "application/vnd.jupyter.widget-view+json": {
       "model_id": "ab02c025cb554246a5505cb8e6d920e7",
       "version_major": 2,
       "version_minor": 0
      },
      "text/plain": [
       "  0%|          | 0/3000 [00:00<?, ?it/s]"
      ]
     },
     "metadata": {},
     "output_type": "display_data"
    },
    {
     "data": {
      "application/vnd.jupyter.widget-view+json": {
       "model_id": "3701dd37c6b340d18e790e4f7b3c8261",
       "version_major": 2,
       "version_minor": 0
      },
      "text/plain": [
       "  0%|          | 0/3000 [00:00<?, ?it/s]"
      ]
     },
     "metadata": {},
     "output_type": "display_data"
    },
    {
     "data": {
      "application/vnd.jupyter.widget-view+json": {
       "model_id": "f5e987fd1958408387a4a637246de107",
       "version_major": 2,
       "version_minor": 0
      },
      "text/plain": [
       "  0%|          | 0/3000 [00:00<?, ?it/s]"
      ]
     },
     "metadata": {},
     "output_type": "display_data"
    },
    {
     "data": {
      "application/vnd.jupyter.widget-view+json": {
       "model_id": "d7136b4efb9b4d8e96e72715e3e69b78",
       "version_major": 2,
       "version_minor": 0
      },
      "text/plain": [
       "  0%|          | 0/3000 [00:00<?, ?it/s]"
      ]
     },
     "metadata": {},
     "output_type": "display_data"
    },
    {
     "data": {
      "application/vnd.jupyter.widget-view+json": {
       "model_id": "e26ab8f443834781bba7975c5eee1bba",
       "version_major": 2,
       "version_minor": 0
      },
      "text/plain": [
       "  0%|          | 0/3000 [00:00<?, ?it/s]"
      ]
     },
     "metadata": {},
     "output_type": "display_data"
    },
    {
     "data": {
      "application/vnd.jupyter.widget-view+json": {
       "model_id": "61740c807f9a460ba85b72dc06d12e40",
       "version_major": 2,
       "version_minor": 0
      },
      "text/plain": [
       "  0%|          | 0/3000 [00:00<?, ?it/s]"
      ]
     },
     "metadata": {},
     "output_type": "display_data"
    },
    {
     "data": {
      "application/vnd.jupyter.widget-view+json": {
       "model_id": "aa03824e873e47ca91390439ed93aef7",
       "version_major": 2,
       "version_minor": 0
      },
      "text/plain": [
       "  0%|          | 0/3000 [00:00<?, ?it/s]"
      ]
     },
     "metadata": {},
     "output_type": "display_data"
    },
    {
     "data": {
      "application/vnd.jupyter.widget-view+json": {
       "model_id": "32610fa94eff43a3a881890ef3a89237",
       "version_major": 2,
       "version_minor": 0
      },
      "text/plain": [
       "  0%|          | 0/3000 [00:00<?, ?it/s]"
      ]
     },
     "metadata": {},
     "output_type": "display_data"
    },
    {
     "data": {
      "application/vnd.jupyter.widget-view+json": {
       "model_id": "bf12046f758e49b3aae9bbc77938d05d",
       "version_major": 2,
       "version_minor": 0
      },
      "text/plain": [
       "  0%|          | 0/3000 [00:00<?, ?it/s]"
      ]
     },
     "metadata": {},
     "output_type": "display_data"
    },
    {
     "data": {
      "application/vnd.jupyter.widget-view+json": {
       "model_id": "e817c72cd0f54788aab1fa969ddc3f2d",
       "version_major": 2,
       "version_minor": 0
      },
      "text/plain": [
       "  0%|          | 0/3000 [00:00<?, ?it/s]"
      ]
     },
     "metadata": {},
     "output_type": "display_data"
    },
    {
     "data": {
      "application/vnd.jupyter.widget-view+json": {
       "model_id": "3498e8c8748048f4a716cc3191b18e51",
       "version_major": 2,
       "version_minor": 0
      },
      "text/plain": [
       "  0%|          | 0/3000 [00:00<?, ?it/s]"
      ]
     },
     "metadata": {},
     "output_type": "display_data"
    },
    {
     "data": {
      "application/vnd.jupyter.widget-view+json": {
       "model_id": "01db33179009496b9b5aaa89093a57e7",
       "version_major": 2,
       "version_minor": 0
      },
      "text/plain": [
       "  0%|          | 0/3000 [00:00<?, ?it/s]"
      ]
     },
     "metadata": {},
     "output_type": "display_data"
    },
    {
     "data": {
      "application/vnd.jupyter.widget-view+json": {
       "model_id": "9848c9c28c4f462a99b7c480c33e2e38",
       "version_major": 2,
       "version_minor": 0
      },
      "text/plain": [
       "  0%|          | 0/3000 [00:00<?, ?it/s]"
      ]
     },
     "metadata": {},
     "output_type": "display_data"
    },
    {
     "data": {
      "application/vnd.jupyter.widget-view+json": {
       "model_id": "74a004a1bb7e4efe8526ef9a2579cfde",
       "version_major": 2,
       "version_minor": 0
      },
      "text/plain": [
       "  0%|          | 0/3000 [00:00<?, ?it/s]"
      ]
     },
     "metadata": {},
     "output_type": "display_data"
    },
    {
     "data": {
      "application/vnd.jupyter.widget-view+json": {
       "model_id": "6427b40a35f8484eae85e8b97a577bd2",
       "version_major": 2,
       "version_minor": 0
      },
      "text/plain": [
       "  0%|          | 0/3000 [00:00<?, ?it/s]"
      ]
     },
     "metadata": {},
     "output_type": "display_data"
    },
    {
     "data": {
      "application/vnd.jupyter.widget-view+json": {
       "model_id": "09bbee80c2224ffc8fa8e3b3be169dd1",
       "version_major": 2,
       "version_minor": 0
      },
      "text/plain": [
       "  0%|          | 0/3000 [00:00<?, ?it/s]"
      ]
     },
     "metadata": {},
     "output_type": "display_data"
    },
    {
     "data": {
      "application/vnd.jupyter.widget-view+json": {
       "model_id": "de009a61e7144d2aad258722db77ecaf",
       "version_major": 2,
       "version_minor": 0
      },
      "text/plain": [
       "  0%|          | 0/3000 [00:00<?, ?it/s]"
      ]
     },
     "metadata": {},
     "output_type": "display_data"
    },
    {
     "data": {
      "application/vnd.jupyter.widget-view+json": {
       "model_id": "107fdde4c72d40f3b9d7cb9d68abadf6",
       "version_major": 2,
       "version_minor": 0
      },
      "text/plain": [
       "  0%|          | 0/3000 [00:00<?, ?it/s]"
      ]
     },
     "metadata": {},
     "output_type": "display_data"
    },
    {
     "data": {
      "application/vnd.jupyter.widget-view+json": {
       "model_id": "0b97b2738b104d1d9004eb729b1c0f9c",
       "version_major": 2,
       "version_minor": 0
      },
      "text/plain": [
       "  0%|          | 0/3000 [00:00<?, ?it/s]"
      ]
     },
     "metadata": {},
     "output_type": "display_data"
    },
    {
     "data": {
      "application/vnd.jupyter.widget-view+json": {
       "model_id": "1702c11e0d9e45b8a84f0cd74f77b82a",
       "version_major": 2,
       "version_minor": 0
      },
      "text/plain": [
       "  0%|          | 0/3000 [00:00<?, ?it/s]"
      ]
     },
     "metadata": {},
     "output_type": "display_data"
    },
    {
     "data": {
      "application/vnd.jupyter.widget-view+json": {
       "model_id": "dd25c36e090c4f6b8003b42685860b49",
       "version_major": 2,
       "version_minor": 0
      },
      "text/plain": [
       "  0%|          | 0/3000 [00:00<?, ?it/s]"
      ]
     },
     "metadata": {},
     "output_type": "display_data"
    },
    {
     "data": {
      "application/vnd.jupyter.widget-view+json": {
       "model_id": "48b67184e44f4feebe37098a3c1ba888",
       "version_major": 2,
       "version_minor": 0
      },
      "text/plain": [
       "  0%|          | 0/3000 [00:00<?, ?it/s]"
      ]
     },
     "metadata": {},
     "output_type": "display_data"
    },
    {
     "data": {
      "application/vnd.jupyter.widget-view+json": {
       "model_id": "3a61643815d14192aceda172d74d1505",
       "version_major": 2,
       "version_minor": 0
      },
      "text/plain": [
       "  0%|          | 0/3000 [00:00<?, ?it/s]"
      ]
     },
     "metadata": {},
     "output_type": "display_data"
    },
    {
     "data": {
      "application/vnd.jupyter.widget-view+json": {
       "model_id": "acadc36d51ee4aa4a4bab4502636b399",
       "version_major": 2,
       "version_minor": 0
      },
      "text/plain": [
       "  0%|          | 0/3000 [00:00<?, ?it/s]"
      ]
     },
     "metadata": {},
     "output_type": "display_data"
    },
    {
     "data": {
      "application/vnd.jupyter.widget-view+json": {
       "model_id": "35aab6ca3e3b4670a450a7f812444373",
       "version_major": 2,
       "version_minor": 0
      },
      "text/plain": [
       "  0%|          | 0/3000 [00:00<?, ?it/s]"
      ]
     },
     "metadata": {},
     "output_type": "display_data"
    },
    {
     "data": {
      "application/vnd.jupyter.widget-view+json": {
       "model_id": "8209d2df47724246aca4363dd21b8652",
       "version_major": 2,
       "version_minor": 0
      },
      "text/plain": [
       "  0%|          | 0/3000 [00:00<?, ?it/s]"
      ]
     },
     "metadata": {},
     "output_type": "display_data"
    },
    {
     "data": {
      "application/vnd.jupyter.widget-view+json": {
       "model_id": "cab6c7d75848440fba2f3146f11aa20d",
       "version_major": 2,
       "version_minor": 0
      },
      "text/plain": [
       "  0%|          | 0/3000 [00:00<?, ?it/s]"
      ]
     },
     "metadata": {},
     "output_type": "display_data"
    },
    {
     "data": {
      "application/vnd.jupyter.widget-view+json": {
       "model_id": "56d1be3d049542e0a460f6270d45860b",
       "version_major": 2,
       "version_minor": 0
      },
      "text/plain": [
       "  0%|          | 0/3000 [00:00<?, ?it/s]"
      ]
     },
     "metadata": {},
     "output_type": "display_data"
    },
    {
     "data": {
      "application/vnd.jupyter.widget-view+json": {
       "model_id": "7ba8425c37a84d64b6b2c6bbb1f072f2",
       "version_major": 2,
       "version_minor": 0
      },
      "text/plain": [
       "  0%|          | 0/3000 [00:00<?, ?it/s]"
      ]
     },
     "metadata": {},
     "output_type": "display_data"
    },
    {
     "data": {
      "application/vnd.jupyter.widget-view+json": {
       "model_id": "42846a90260f48799fcc9486bbcae61b",
       "version_major": 2,
       "version_minor": 0
      },
      "text/plain": [
       "  0%|          | 0/3000 [00:00<?, ?it/s]"
      ]
     },
     "metadata": {},
     "output_type": "display_data"
    },
    {
     "data": {
      "application/vnd.jupyter.widget-view+json": {
       "model_id": "c82821937745451288310977ee4773ae",
       "version_major": 2,
       "version_minor": 0
      },
      "text/plain": [
       "  0%|          | 0/3000 [00:00<?, ?it/s]"
      ]
     },
     "metadata": {},
     "output_type": "display_data"
    },
    {
     "data": {
      "application/vnd.jupyter.widget-view+json": {
       "model_id": "3b6cc9014a784693aa9840bfdb88119a",
       "version_major": 2,
       "version_minor": 0
      },
      "text/plain": [
       "  0%|          | 0/3000 [00:00<?, ?it/s]"
      ]
     },
     "metadata": {},
     "output_type": "display_data"
    },
    {
     "data": {
      "application/vnd.jupyter.widget-view+json": {
       "model_id": "304004d11c7f44069ee394fe5e2aeda7",
       "version_major": 2,
       "version_minor": 0
      },
      "text/plain": [
       "  0%|          | 0/3000 [00:00<?, ?it/s]"
      ]
     },
     "metadata": {},
     "output_type": "display_data"
    },
    {
     "data": {
      "application/vnd.jupyter.widget-view+json": {
       "model_id": "c40312e7f89e4794bca53ccae29e56f7",
       "version_major": 2,
       "version_minor": 0
      },
      "text/plain": [
       "  0%|          | 0/3000 [00:00<?, ?it/s]"
      ]
     },
     "metadata": {},
     "output_type": "display_data"
    },
    {
     "data": {
      "application/vnd.jupyter.widget-view+json": {
       "model_id": "54a643857914481090e954c2d56dbf48",
       "version_major": 2,
       "version_minor": 0
      },
      "text/plain": [
       "  0%|          | 0/3000 [00:00<?, ?it/s]"
      ]
     },
     "metadata": {},
     "output_type": "display_data"
    },
    {
     "data": {
      "application/vnd.jupyter.widget-view+json": {
       "model_id": "071416e4de6d4289bec4dbcda328a924",
       "version_major": 2,
       "version_minor": 0
      },
      "text/plain": [
       "  0%|          | 0/3000 [00:00<?, ?it/s]"
      ]
     },
     "metadata": {},
     "output_type": "display_data"
    },
    {
     "data": {
      "application/vnd.jupyter.widget-view+json": {
       "model_id": "dd17dc2c44504e74835054b8e9637b7d",
       "version_major": 2,
       "version_minor": 0
      },
      "text/plain": [
       "  0%|          | 0/3000 [00:00<?, ?it/s]"
      ]
     },
     "metadata": {},
     "output_type": "display_data"
    },
    {
     "data": {
      "application/vnd.jupyter.widget-view+json": {
       "model_id": "edd2cd1dd34c4307bb92b0ac448b6e33",
       "version_major": 2,
       "version_minor": 0
      },
      "text/plain": [
       "  0%|          | 0/3000 [00:00<?, ?it/s]"
      ]
     },
     "metadata": {},
     "output_type": "display_data"
    },
    {
     "data": {
      "application/vnd.jupyter.widget-view+json": {
       "model_id": "6ec3f8b2cefc4629b2245a6ea4946e55",
       "version_major": 2,
       "version_minor": 0
      },
      "text/plain": [
       "  0%|          | 0/3000 [00:00<?, ?it/s]"
      ]
     },
     "metadata": {},
     "output_type": "display_data"
    },
    {
     "data": {
      "application/vnd.jupyter.widget-view+json": {
       "model_id": "931db6c02c2e4c6cab49e90b0c1c2735",
       "version_major": 2,
       "version_minor": 0
      },
      "text/plain": [
       "  0%|          | 0/3000 [00:00<?, ?it/s]"
      ]
     },
     "metadata": {},
     "output_type": "display_data"
    },
    {
     "data": {
      "application/vnd.jupyter.widget-view+json": {
       "model_id": "957a8198c5064795a71315dd49bfd93a",
       "version_major": 2,
       "version_minor": 0
      },
      "text/plain": [
       "  0%|          | 0/3000 [00:00<?, ?it/s]"
      ]
     },
     "metadata": {},
     "output_type": "display_data"
    },
    {
     "data": {
      "application/vnd.jupyter.widget-view+json": {
       "model_id": "a85c709719ef45f7930f2ff6ddea1172",
       "version_major": 2,
       "version_minor": 0
      },
      "text/plain": [
       "  0%|          | 0/3000 [00:00<?, ?it/s]"
      ]
     },
     "metadata": {},
     "output_type": "display_data"
    },
    {
     "data": {
      "application/vnd.jupyter.widget-view+json": {
       "model_id": "c085c6473fb742a8b6d82df0f93794f9",
       "version_major": 2,
       "version_minor": 0
      },
      "text/plain": [
       "  0%|          | 0/3000 [00:00<?, ?it/s]"
      ]
     },
     "metadata": {},
     "output_type": "display_data"
    },
    {
     "data": {
      "application/vnd.jupyter.widget-view+json": {
       "model_id": "05888af2a0c542c79b23f70aa9d37c4f",
       "version_major": 2,
       "version_minor": 0
      },
      "text/plain": [
       "  0%|          | 0/3000 [00:00<?, ?it/s]"
      ]
     },
     "metadata": {},
     "output_type": "display_data"
    },
    {
     "data": {
      "application/vnd.jupyter.widget-view+json": {
       "model_id": "681a45c13ffc4a2d928abdeb1bc319ca",
       "version_major": 2,
       "version_minor": 0
      },
      "text/plain": [
       "  0%|          | 0/3000 [00:00<?, ?it/s]"
      ]
     },
     "metadata": {},
     "output_type": "display_data"
    },
    {
     "data": {
      "application/vnd.jupyter.widget-view+json": {
       "model_id": "edcd6254b18c400f9d74d1385ac7b98a",
       "version_major": 2,
       "version_minor": 0
      },
      "text/plain": [
       "  0%|          | 0/3000 [00:00<?, ?it/s]"
      ]
     },
     "metadata": {},
     "output_type": "display_data"
    },
    {
     "data": {
      "application/vnd.jupyter.widget-view+json": {
       "model_id": "75b649ca2a454bb99f4b50ab56679658",
       "version_major": 2,
       "version_minor": 0
      },
      "text/plain": [
       "  0%|          | 0/3000 [00:00<?, ?it/s]"
      ]
     },
     "metadata": {},
     "output_type": "display_data"
    },
    {
     "data": {
      "application/vnd.jupyter.widget-view+json": {
       "model_id": "500b17194dde484fa4acea7e4c6a0fe6",
       "version_major": 2,
       "version_minor": 0
      },
      "text/plain": [
       "  0%|          | 0/3000 [00:00<?, ?it/s]"
      ]
     },
     "metadata": {},
     "output_type": "display_data"
    },
    {
     "data": {
      "application/vnd.jupyter.widget-view+json": {
       "model_id": "a35bed42e6b74e30aace5bef682f93f7",
       "version_major": 2,
       "version_minor": 0
      },
      "text/plain": [
       "  0%|          | 0/3000 [00:00<?, ?it/s]"
      ]
     },
     "metadata": {},
     "output_type": "display_data"
    },
    {
     "data": {
      "application/vnd.jupyter.widget-view+json": {
       "model_id": "ea29970a571f4177acef568685912fdb",
       "version_major": 2,
       "version_minor": 0
      },
      "text/plain": [
       "  0%|          | 0/3000 [00:00<?, ?it/s]"
      ]
     },
     "metadata": {},
     "output_type": "display_data"
    },
    {
     "data": {
      "application/vnd.jupyter.widget-view+json": {
       "model_id": "bb70b15eee0b4288ac2ad4b8d6090e78",
       "version_major": 2,
       "version_minor": 0
      },
      "text/plain": [
       "  0%|          | 0/3000 [00:00<?, ?it/s]"
      ]
     },
     "metadata": {},
     "output_type": "display_data"
    },
    {
     "data": {
      "application/vnd.jupyter.widget-view+json": {
       "model_id": "a20901ce6e144ee99e7d53fb5afdd510",
       "version_major": 2,
       "version_minor": 0
      },
      "text/plain": [
       "  0%|          | 0/3000 [00:00<?, ?it/s]"
      ]
     },
     "metadata": {},
     "output_type": "display_data"
    },
    {
     "data": {
      "application/vnd.jupyter.widget-view+json": {
       "model_id": "7bf79fd39c114ebeab2d84e791b0e891",
       "version_major": 2,
       "version_minor": 0
      },
      "text/plain": [
       "  0%|          | 0/3000 [00:00<?, ?it/s]"
      ]
     },
     "metadata": {},
     "output_type": "display_data"
    },
    {
     "data": {
      "application/vnd.jupyter.widget-view+json": {
       "model_id": "783530a6a44a4cbeac379ff38e2b48ea",
       "version_major": 2,
       "version_minor": 0
      },
      "text/plain": [
       "  0%|          | 0/3000 [00:00<?, ?it/s]"
      ]
     },
     "metadata": {},
     "output_type": "display_data"
    },
    {
     "data": {
      "application/vnd.jupyter.widget-view+json": {
       "model_id": "b9321027841a4379813a2c27598f6bdf",
       "version_major": 2,
       "version_minor": 0
      },
      "text/plain": [
       "  0%|          | 0/3000 [00:00<?, ?it/s]"
      ]
     },
     "metadata": {},
     "output_type": "display_data"
    },
    {
     "data": {
      "application/vnd.jupyter.widget-view+json": {
       "model_id": "24041def984a4004b2ea0e2b2385ccd6",
       "version_major": 2,
       "version_minor": 0
      },
      "text/plain": [
       "  0%|          | 0/3000 [00:00<?, ?it/s]"
      ]
     },
     "metadata": {},
     "output_type": "display_data"
    },
    {
     "data": {
      "application/vnd.jupyter.widget-view+json": {
       "model_id": "b1a07b8ca6154aa193092096a7cee9d3",
       "version_major": 2,
       "version_minor": 0
      },
      "text/plain": [
       "  0%|          | 0/3000 [00:00<?, ?it/s]"
      ]
     },
     "metadata": {},
     "output_type": "display_data"
    },
    {
     "data": {
      "application/vnd.jupyter.widget-view+json": {
       "model_id": "24bb7fbe72264460b36a309ca1d9b7bc",
       "version_major": 2,
       "version_minor": 0
      },
      "text/plain": [
       "  0%|          | 0/3000 [00:00<?, ?it/s]"
      ]
     },
     "metadata": {},
     "output_type": "display_data"
    },
    {
     "data": {
      "application/vnd.jupyter.widget-view+json": {
       "model_id": "dce29a4273a24a63a0eb11017bd5c8cf",
       "version_major": 2,
       "version_minor": 0
      },
      "text/plain": [
       "  0%|          | 0/3000 [00:00<?, ?it/s]"
      ]
     },
     "metadata": {},
     "output_type": "display_data"
    },
    {
     "data": {
      "application/vnd.jupyter.widget-view+json": {
       "model_id": "1e05ce15de344daea0d8bd09be017c02",
       "version_major": 2,
       "version_minor": 0
      },
      "text/plain": [
       "  0%|          | 0/3000 [00:00<?, ?it/s]"
      ]
     },
     "metadata": {},
     "output_type": "display_data"
    },
    {
     "data": {
      "application/vnd.jupyter.widget-view+json": {
       "model_id": "ff32938fdbd64647ae51094cfea685a5",
       "version_major": 2,
       "version_minor": 0
      },
      "text/plain": [
       "  0%|          | 0/3000 [00:00<?, ?it/s]"
      ]
     },
     "metadata": {},
     "output_type": "display_data"
    },
    {
     "data": {
      "application/vnd.jupyter.widget-view+json": {
       "model_id": "fdf0a8796c764a6f99d27b25cff0d387",
       "version_major": 2,
       "version_minor": 0
      },
      "text/plain": [
       "  0%|          | 0/3000 [00:00<?, ?it/s]"
      ]
     },
     "metadata": {},
     "output_type": "display_data"
    },
    {
     "data": {
      "application/vnd.jupyter.widget-view+json": {
       "model_id": "686e53db603e4a92b05dce4745581e43",
       "version_major": 2,
       "version_minor": 0
      },
      "text/plain": [
       "  0%|          | 0/3000 [00:00<?, ?it/s]"
      ]
     },
     "metadata": {},
     "output_type": "display_data"
    },
    {
     "data": {
      "application/vnd.jupyter.widget-view+json": {
       "model_id": "bdf1da8ca5204b58b88a7358cabf0fac",
       "version_major": 2,
       "version_minor": 0
      },
      "text/plain": [
       "  0%|          | 0/3000 [00:00<?, ?it/s]"
      ]
     },
     "metadata": {},
     "output_type": "display_data"
    },
    {
     "data": {
      "application/vnd.jupyter.widget-view+json": {
       "model_id": "6bc408347acf427f9e85be9d047380e3",
       "version_major": 2,
       "version_minor": 0
      },
      "text/plain": [
       "  0%|          | 0/3000 [00:00<?, ?it/s]"
      ]
     },
     "metadata": {},
     "output_type": "display_data"
    },
    {
     "data": {
      "application/vnd.jupyter.widget-view+json": {
       "model_id": "0e4ef1e8220747b291dbeab6d3545726",
       "version_major": 2,
       "version_minor": 0
      },
      "text/plain": [
       "  0%|          | 0/3000 [00:00<?, ?it/s]"
      ]
     },
     "metadata": {},
     "output_type": "display_data"
    },
    {
     "data": {
      "application/vnd.jupyter.widget-view+json": {
       "model_id": "d33fe0c071094091b3c7b31e8a8b9b5a",
       "version_major": 2,
       "version_minor": 0
      },
      "text/plain": [
       "  0%|          | 0/3000 [00:00<?, ?it/s]"
      ]
     },
     "metadata": {},
     "output_type": "display_data"
    },
    {
     "data": {
      "application/vnd.jupyter.widget-view+json": {
       "model_id": "b7614fde653849ac973c7ae64bace3ac",
       "version_major": 2,
       "version_minor": 0
      },
      "text/plain": [
       "  0%|          | 0/3000 [00:00<?, ?it/s]"
      ]
     },
     "metadata": {},
     "output_type": "display_data"
    },
    {
     "data": {
      "application/vnd.jupyter.widget-view+json": {
       "model_id": "b3d372fdb5d9491595967b7299cdf3a4",
       "version_major": 2,
       "version_minor": 0
      },
      "text/plain": [
       "  0%|          | 0/3000 [00:00<?, ?it/s]"
      ]
     },
     "metadata": {},
     "output_type": "display_data"
    },
    {
     "data": {
      "application/vnd.jupyter.widget-view+json": {
       "model_id": "4d1cf1fa58424504bda1b04750c56c4f",
       "version_major": 2,
       "version_minor": 0
      },
      "text/plain": [
       "  0%|          | 0/3000 [00:00<?, ?it/s]"
      ]
     },
     "metadata": {},
     "output_type": "display_data"
    },
    {
     "data": {
      "application/vnd.jupyter.widget-view+json": {
       "model_id": "a038ce15675240e883491f0f72cdd1e0",
       "version_major": 2,
       "version_minor": 0
      },
      "text/plain": [
       "  0%|          | 0/3000 [00:00<?, ?it/s]"
      ]
     },
     "metadata": {},
     "output_type": "display_data"
    },
    {
     "data": {
      "application/vnd.jupyter.widget-view+json": {
       "model_id": "b38ad8b9e6f44226a1bdc28ff00e8a21",
       "version_major": 2,
       "version_minor": 0
      },
      "text/plain": [
       "  0%|          | 0/3000 [00:00<?, ?it/s]"
      ]
     },
     "metadata": {},
     "output_type": "display_data"
    },
    {
     "data": {
      "application/vnd.jupyter.widget-view+json": {
       "model_id": "5db7ab9aa3784ddbbfb57386837e3c94",
       "version_major": 2,
       "version_minor": 0
      },
      "text/plain": [
       "  0%|          | 0/3000 [00:00<?, ?it/s]"
      ]
     },
     "metadata": {},
     "output_type": "display_data"
    },
    {
     "data": {
      "application/vnd.jupyter.widget-view+json": {
       "model_id": "0bb7051ff7724e25bc5a217cd20e8c4e",
       "version_major": 2,
       "version_minor": 0
      },
      "text/plain": [
       "  0%|          | 0/3000 [00:00<?, ?it/s]"
      ]
     },
     "metadata": {},
     "output_type": "display_data"
    },
    {
     "data": {
      "application/vnd.jupyter.widget-view+json": {
       "model_id": "f50d069678364811a941109d80a6e23f",
       "version_major": 2,
       "version_minor": 0
      },
      "text/plain": [
       "  0%|          | 0/3000 [00:00<?, ?it/s]"
      ]
     },
     "metadata": {},
     "output_type": "display_data"
    },
    {
     "data": {
      "application/vnd.jupyter.widget-view+json": {
       "model_id": "f97e04702b574bb4896537f61cd5df5a",
       "version_major": 2,
       "version_minor": 0
      },
      "text/plain": [
       "  0%|          | 0/3000 [00:00<?, ?it/s]"
      ]
     },
     "metadata": {},
     "output_type": "display_data"
    },
    {
     "data": {
      "application/vnd.jupyter.widget-view+json": {
       "model_id": "d58e6a2567fa4960b1b86759925edf22",
       "version_major": 2,
       "version_minor": 0
      },
      "text/plain": [
       "  0%|          | 0/3000 [00:00<?, ?it/s]"
      ]
     },
     "metadata": {},
     "output_type": "display_data"
    },
    {
     "data": {
      "application/vnd.jupyter.widget-view+json": {
       "model_id": "9c959ca1f30840f5a11ea528e7ac3d63",
       "version_major": 2,
       "version_minor": 0
      },
      "text/plain": [
       "  0%|          | 0/3000 [00:00<?, ?it/s]"
      ]
     },
     "metadata": {},
     "output_type": "display_data"
    },
    {
     "data": {
      "application/vnd.jupyter.widget-view+json": {
       "model_id": "e394387991a449a2ba818cc2b80edd71",
       "version_major": 2,
       "version_minor": 0
      },
      "text/plain": [
       "  0%|          | 0/3000 [00:00<?, ?it/s]"
      ]
     },
     "metadata": {},
     "output_type": "display_data"
    },
    {
     "data": {
      "application/vnd.jupyter.widget-view+json": {
       "model_id": "4ce3e1bb7ffd4955ad38589129644d5b",
       "version_major": 2,
       "version_minor": 0
      },
      "text/plain": [
       "  0%|          | 0/3000 [00:00<?, ?it/s]"
      ]
     },
     "metadata": {},
     "output_type": "display_data"
    },
    {
     "data": {
      "application/vnd.jupyter.widget-view+json": {
       "model_id": "8bbfc52059874cff95ba8fa56b9d7902",
       "version_major": 2,
       "version_minor": 0
      },
      "text/plain": [
       "  0%|          | 0/3000 [00:00<?, ?it/s]"
      ]
     },
     "metadata": {},
     "output_type": "display_data"
    },
    {
     "data": {
      "application/vnd.jupyter.widget-view+json": {
       "model_id": "ff9e07376e6845e8adf47478faa773ea",
       "version_major": 2,
       "version_minor": 0
      },
      "text/plain": [
       "  0%|          | 0/3000 [00:00<?, ?it/s]"
      ]
     },
     "metadata": {},
     "output_type": "display_data"
    },
    {
     "data": {
      "application/vnd.jupyter.widget-view+json": {
       "model_id": "d4e78ef45270412bab3f0e4c56bd6493",
       "version_major": 2,
       "version_minor": 0
      },
      "text/plain": [
       "  0%|          | 0/3000 [00:00<?, ?it/s]"
      ]
     },
     "metadata": {},
     "output_type": "display_data"
    },
    {
     "data": {
      "application/vnd.jupyter.widget-view+json": {
       "model_id": "bc2d4cf78ab14290a97fca4046f89cfe",
       "version_major": 2,
       "version_minor": 0
      },
      "text/plain": [
       "  0%|          | 0/3000 [00:00<?, ?it/s]"
      ]
     },
     "metadata": {},
     "output_type": "display_data"
    },
    {
     "data": {
      "application/vnd.jupyter.widget-view+json": {
       "model_id": "ceb2fc31f2d14df18f78b8ca76582dc4",
       "version_major": 2,
       "version_minor": 0
      },
      "text/plain": [
       "  0%|          | 0/3000 [00:00<?, ?it/s]"
      ]
     },
     "metadata": {},
     "output_type": "display_data"
    },
    {
     "data": {
      "application/vnd.jupyter.widget-view+json": {
       "model_id": "a33eebae49de49be9b47e9b7ce5ccf06",
       "version_major": 2,
       "version_minor": 0
      },
      "text/plain": [
       "  0%|          | 0/3000 [00:00<?, ?it/s]"
      ]
     },
     "metadata": {},
     "output_type": "display_data"
    },
    {
     "data": {
      "application/vnd.jupyter.widget-view+json": {
       "model_id": "920aa3792e084487bc47e9334d71b7a4",
       "version_major": 2,
       "version_minor": 0
      },
      "text/plain": [
       "  0%|          | 0/3000 [00:00<?, ?it/s]"
      ]
     },
     "metadata": {},
     "output_type": "display_data"
    }
   ],
   "source": [
    "from embedders.tree import TorchProductSpaceDT, TorchProductSpaceRF\n",
    "from embedders.metrics import d_avg\n",
    "from sklearn.tree import DecisionTreeClassifier\n",
    "from sklearn.ensemble import RandomForestClassifier\n",
    "from sklearn.model_selection import KFold\n",
    "from sklearn.metrics import f1_score\n",
    "import pickle\n",
    "import os\n",
    "\n",
    "DOWNSAMPLE = None\n",
    "ITERS = 3_000\n",
    "TRIALS = 10\n",
    "\n",
    "results = []\n",
    "for i, signature in enumerate(SIGNATURES):\n",
    "    for j in range(TRIALS):\n",
    "        # Skip existing\n",
    "        if os.path.exists(f\"../data/polblogs_embeddings/polblogs_{i}_{j}.npy\"):\n",
    "            continue\n",
    "\n",
    "        seed = i * TRIALS + j  # Unique seed\n",
    "        torch.manual_seed(seed)\n",
    "\n",
    "        # Generate embedding\n",
    "        pm = embedders.manifolds.ProductManifold(signature=signature).to(device)\n",
    "        embedders.coordinate_learning.train_coords(\n",
    "            pm,\n",
    "            dists_rescaled[:DOWNSAMPLE, :DOWNSAMPLE],\n",
    "            device=device,\n",
    "            burn_in_iterations=int(ITERS * 0.1),\n",
    "            training_iterations=int(ITERS * 0.9),\n",
    "            learning_rate=1e-1,\n",
    "            burn_in_learning_rate=1e-2,\n",
    "            scale_factor_learning_rate=1e-2,\n",
    "        )\n",
    "\n",
    "        # Save embeddings\n",
    "        np.save(\n",
    "            f\"../data/polblogs_embeddings/polblogs_{i}_{j}.npy\",\n",
    "            pm.x_embed.detach().cpu().numpy(),\n",
    "        )\n",
    "\n",
    "        # Calculate d_avg\n",
    "        my_d_avg = d_avg(pm.pdist(pm.x_embed), dists_rescaled[:DOWNSAMPLE, :DOWNSAMPLE]).item()\n",
    "\n",
    "        # Results should just be average distances\n",
    "        results.append({\"signature\": signature, \"seed\": seed, \"d_avg\": my_d_avg})\n",
    "\n",
    "results = pd.DataFrame(results)\n",
    "results.to_csv(\"../data/polblogs_embeddings/dists.tsv\", sep=\"\\t\")"
   ]
  },
  {
   "cell_type": "code",
   "execution_count": 68,
   "metadata": {},
   "outputs": [
    {
     "name": "stdout",
     "output_type": "stream",
     "text": [
      "Top CC has 1222 nodes; original graph has 1490 nodes.\n"
     ]
    },
    {
     "data": {
      "application/vnd.jupyter.widget-view+json": {
       "model_id": "f85ecebb87ce4c97aba414e5d5c5a6f3",
       "version_major": 2,
       "version_minor": 0
      },
      "text/plain": [
       "  0%|          | 0/90 [00:00<?, ?it/s]"
      ]
     },
     "metadata": {},
     "output_type": "display_data"
    },
    {
     "name": "stdout",
     "output_type": "stream",
     "text": [
      "0 4 NaN\n"
     ]
    }
   ],
   "source": [
    "# Run benchmarks\n",
    "import torch\n",
    "import pandas as pd\n",
    "from tqdm.notebook import tqdm\n",
    "\n",
    "# Params\n",
    "TRIALS = 10\n",
    "MAX_DEPTH = 5\n",
    "SCORE = \"f1-micro\"\n",
    "\n",
    "# Get data\n",
    "_, y = embedders.dataloaders.load(\n",
    "    \"polblogs\",\n",
    "    labels=True,\n",
    "    polblogs_path=\"/Users/phil/embedders/data/graphs/polblogs.mtx\",\n",
    "    polblogs_labels_path=\"/Users/phil/embedders/data/graphs/polblogs_labels.tsv\",\n",
    ")\n",
    "y = torch.tensor(y.values)\n",
    "\n",
    "# Benchmark loop\n",
    "results = []\n",
    "with torch.no_grad():\n",
    "    my_tqdm = tqdm(total=TRIALS * len(SIGNATURES))\n",
    "    for i, signature in enumerate(SIGNATURES):\n",
    "        pm = embedders.manifolds.ProductManifold(signature=signature)\n",
    "        for j in range(TRIALS):\n",
    "            X = np.load(f\"../data/polblogs_embeddings/polblogs_{i}_{j}.npy\")\n",
    "            X = torch.tensor(X)\n",
    "            if X.isnan().any():\n",
    "                print(i, j, \"NaN\")\n",
    "                break\n",
    "\n",
    "            # Run benchmarks\n",
    "            seed = i * TRIALS + j\n",
    "            accs = embedders.benchmarks.benchmark(\n",
    "                X, y, pm, max_depth=MAX_DEPTH, task=\"classification\", score=SCORE, seed=seed\n",
    "            )\n",
    "            accs[\"signature\"] = signature\n",
    "            accs[\"seed\"] = seed\n",
    "            results.append(accs)\n",
    "\n",
    "            my_tqdm.update(1)\n",
    "\n",
    "results = pd.DataFrame(results)"
   ]
  },
  {
   "cell_type": "code",
   "execution_count": 69,
   "metadata": {},
   "outputs": [
    {
     "data": {
      "text/html": [
       "<div>\n",
       "<style scoped>\n",
       "    .dataframe tbody tr th:only-of-type {\n",
       "        vertical-align: middle;\n",
       "    }\n",
       "\n",
       "    .dataframe tbody tr th {\n",
       "        vertical-align: top;\n",
       "    }\n",
       "\n",
       "    .dataframe thead th {\n",
       "        text-align: right;\n",
       "    }\n",
       "</style>\n",
       "<table border=\"1\" class=\"dataframe\">\n",
       "  <thead>\n",
       "    <tr style=\"text-align: right;\">\n",
       "      <th></th>\n",
       "      <th>sklearn_dt</th>\n",
       "      <th>sklearn_rf</th>\n",
       "      <th>product_dt</th>\n",
       "      <th>product_rf</th>\n",
       "      <th>tangent_dt</th>\n",
       "      <th>tangent_rf</th>\n",
       "      <th>knn</th>\n",
       "      <th>ps_perceptron</th>\n",
       "      <th>signature</th>\n",
       "      <th>seed</th>\n",
       "    </tr>\n",
       "  </thead>\n",
       "  <tbody>\n",
       "    <tr>\n",
       "      <th>0</th>\n",
       "      <td>0.946939</td>\n",
       "      <td>0.946939</td>\n",
       "      <td>0.942857</td>\n",
       "      <td>0.934694</td>\n",
       "      <td>0.942857</td>\n",
       "      <td>0.942857</td>\n",
       "      <td>0.926531</td>\n",
       "      <td>0.469388</td>\n",
       "      <td>[(-1, 10)]</td>\n",
       "      <td>0</td>\n",
       "    </tr>\n",
       "    <tr>\n",
       "      <th>1</th>\n",
       "      <td>0.926531</td>\n",
       "      <td>0.922449</td>\n",
       "      <td>0.930612</td>\n",
       "      <td>0.938776</td>\n",
       "      <td>0.926531</td>\n",
       "      <td>0.934694</td>\n",
       "      <td>0.942857</td>\n",
       "      <td>0.489796</td>\n",
       "      <td>[(-1, 10)]</td>\n",
       "      <td>1</td>\n",
       "    </tr>\n",
       "    <tr>\n",
       "      <th>2</th>\n",
       "      <td>0.938776</td>\n",
       "      <td>0.963265</td>\n",
       "      <td>0.942857</td>\n",
       "      <td>0.951020</td>\n",
       "      <td>0.934694</td>\n",
       "      <td>0.955102</td>\n",
       "      <td>0.946939</td>\n",
       "      <td>0.481633</td>\n",
       "      <td>[(-1, 10)]</td>\n",
       "      <td>2</td>\n",
       "    </tr>\n",
       "    <tr>\n",
       "      <th>3</th>\n",
       "      <td>0.938776</td>\n",
       "      <td>0.963265</td>\n",
       "      <td>0.938776</td>\n",
       "      <td>0.967347</td>\n",
       "      <td>0.934694</td>\n",
       "      <td>0.959184</td>\n",
       "      <td>0.963265</td>\n",
       "      <td>0.453061</td>\n",
       "      <td>[(-1, 10)]</td>\n",
       "      <td>3</td>\n",
       "    </tr>\n",
       "    <tr>\n",
       "      <th>4</th>\n",
       "      <td>0.885714</td>\n",
       "      <td>0.934694</td>\n",
       "      <td>0.889796</td>\n",
       "      <td>0.951020</td>\n",
       "      <td>0.889796</td>\n",
       "      <td>0.934694</td>\n",
       "      <td>0.938776</td>\n",
       "      <td>0.506122</td>\n",
       "      <td>[(0, 10)]</td>\n",
       "      <td>10</td>\n",
       "    </tr>\n",
       "    <tr>\n",
       "      <th>...</th>\n",
       "      <td>...</td>\n",
       "      <td>...</td>\n",
       "      <td>...</td>\n",
       "      <td>...</td>\n",
       "      <td>...</td>\n",
       "      <td>...</td>\n",
       "      <td>...</td>\n",
       "      <td>...</td>\n",
       "      <td>...</td>\n",
       "      <td>...</td>\n",
       "    </tr>\n",
       "    <tr>\n",
       "      <th>79</th>\n",
       "      <td>0.934694</td>\n",
       "      <td>0.946939</td>\n",
       "      <td>0.934694</td>\n",
       "      <td>0.942857</td>\n",
       "      <td>0.934694</td>\n",
       "      <td>0.934694</td>\n",
       "      <td>0.942857</td>\n",
       "      <td>0.481633</td>\n",
       "      <td>[(-1, 2), (-1, 2), (0, 2), (1, 2), (1, 2)]</td>\n",
       "      <td>85</td>\n",
       "    </tr>\n",
       "    <tr>\n",
       "      <th>80</th>\n",
       "      <td>0.918367</td>\n",
       "      <td>0.930612</td>\n",
       "      <td>0.893878</td>\n",
       "      <td>0.926531</td>\n",
       "      <td>0.902041</td>\n",
       "      <td>0.914286</td>\n",
       "      <td>0.922449</td>\n",
       "      <td>0.453061</td>\n",
       "      <td>[(-1, 2), (-1, 2), (0, 2), (1, 2), (1, 2)]</td>\n",
       "      <td>86</td>\n",
       "    </tr>\n",
       "    <tr>\n",
       "      <th>81</th>\n",
       "      <td>0.897959</td>\n",
       "      <td>0.914286</td>\n",
       "      <td>0.848980</td>\n",
       "      <td>0.893878</td>\n",
       "      <td>0.906122</td>\n",
       "      <td>0.930612</td>\n",
       "      <td>0.938776</td>\n",
       "      <td>0.514286</td>\n",
       "      <td>[(-1, 2), (-1, 2), (0, 2), (1, 2), (1, 2)]</td>\n",
       "      <td>87</td>\n",
       "    </tr>\n",
       "    <tr>\n",
       "      <th>82</th>\n",
       "      <td>0.930612</td>\n",
       "      <td>0.955102</td>\n",
       "      <td>0.938776</td>\n",
       "      <td>0.951020</td>\n",
       "      <td>0.934694</td>\n",
       "      <td>0.946939</td>\n",
       "      <td>0.946939</td>\n",
       "      <td>0.632653</td>\n",
       "      <td>[(-1, 2), (-1, 2), (0, 2), (1, 2), (1, 2)]</td>\n",
       "      <td>88</td>\n",
       "    </tr>\n",
       "    <tr>\n",
       "      <th>83</th>\n",
       "      <td>0.918367</td>\n",
       "      <td>0.926531</td>\n",
       "      <td>0.918367</td>\n",
       "      <td>0.922449</td>\n",
       "      <td>0.918367</td>\n",
       "      <td>0.930612</td>\n",
       "      <td>0.918367</td>\n",
       "      <td>0.469388</td>\n",
       "      <td>[(-1, 2), (-1, 2), (0, 2), (1, 2), (1, 2)]</td>\n",
       "      <td>89</td>\n",
       "    </tr>\n",
       "  </tbody>\n",
       "</table>\n",
       "<p>84 rows × 10 columns</p>\n",
       "</div>"
      ],
      "text/plain": [
       "    sklearn_dt  sklearn_rf  product_dt  product_rf  tangent_dt  tangent_rf  \\\n",
       "0     0.946939    0.946939    0.942857    0.934694    0.942857    0.942857   \n",
       "1     0.926531    0.922449    0.930612    0.938776    0.926531    0.934694   \n",
       "2     0.938776    0.963265    0.942857    0.951020    0.934694    0.955102   \n",
       "3     0.938776    0.963265    0.938776    0.967347    0.934694    0.959184   \n",
       "4     0.885714    0.934694    0.889796    0.951020    0.889796    0.934694   \n",
       "..         ...         ...         ...         ...         ...         ...   \n",
       "79    0.934694    0.946939    0.934694    0.942857    0.934694    0.934694   \n",
       "80    0.918367    0.930612    0.893878    0.926531    0.902041    0.914286   \n",
       "81    0.897959    0.914286    0.848980    0.893878    0.906122    0.930612   \n",
       "82    0.930612    0.955102    0.938776    0.951020    0.934694    0.946939   \n",
       "83    0.918367    0.926531    0.918367    0.922449    0.918367    0.930612   \n",
       "\n",
       "         knn  ps_perceptron                                   signature  seed  \n",
       "0   0.926531       0.469388                                  [(-1, 10)]     0  \n",
       "1   0.942857       0.489796                                  [(-1, 10)]     1  \n",
       "2   0.946939       0.481633                                  [(-1, 10)]     2  \n",
       "3   0.963265       0.453061                                  [(-1, 10)]     3  \n",
       "4   0.938776       0.506122                                   [(0, 10)]    10  \n",
       "..       ...            ...                                         ...   ...  \n",
       "79  0.942857       0.481633  [(-1, 2), (-1, 2), (0, 2), (1, 2), (1, 2)]    85  \n",
       "80  0.922449       0.453061  [(-1, 2), (-1, 2), (0, 2), (1, 2), (1, 2)]    86  \n",
       "81  0.938776       0.514286  [(-1, 2), (-1, 2), (0, 2), (1, 2), (1, 2)]    87  \n",
       "82  0.946939       0.632653  [(-1, 2), (-1, 2), (0, 2), (1, 2), (1, 2)]    88  \n",
       "83  0.918367       0.469388  [(-1, 2), (-1, 2), (0, 2), (1, 2), (1, 2)]    89  \n",
       "\n",
       "[84 rows x 10 columns]"
      ]
     },
     "execution_count": 69,
     "metadata": {},
     "output_type": "execute_result"
    }
   ],
   "source": [
    "results"
   ]
  },
  {
   "cell_type": "code",
   "execution_count": 80,
   "metadata": {},
   "outputs": [
    {
     "data": {
      "text/plain": [
       "sklearn_dt        0.922303\n",
       "sklearn_rf        0.939990\n",
       "product_dt        0.918902\n",
       "product_rf        0.924198\n",
       "tangent_dt        0.922449\n",
       "tangent_rf        0.938047\n",
       "knn               0.940185\n",
       "ps_perceptron     0.490719\n",
       "seed             47.214286\n",
       "dtype: float64"
      ]
     },
     "execution_count": 80,
     "metadata": {},
     "output_type": "execute_result"
    }
   ],
   "source": [
    "results.drop(\"signature\", axis=1).mean()"
   ]
  },
  {
   "cell_type": "code",
   "execution_count": 83,
   "metadata": {},
   "outputs": [
    {
     "data": {
      "text/html": [
       "<div>\n",
       "<style scoped>\n",
       "    .dataframe tbody tr th:only-of-type {\n",
       "        vertical-align: middle;\n",
       "    }\n",
       "\n",
       "    .dataframe tbody tr th {\n",
       "        vertical-align: top;\n",
       "    }\n",
       "\n",
       "    .dataframe thead th {\n",
       "        text-align: right;\n",
       "    }\n",
       "</style>\n",
       "<table border=\"1\" class=\"dataframe\">\n",
       "  <thead>\n",
       "    <tr style=\"text-align: right;\">\n",
       "      <th></th>\n",
       "      <th>sklearn_dt</th>\n",
       "      <th>sklearn_rf</th>\n",
       "      <th>product_dt</th>\n",
       "      <th>product_rf</th>\n",
       "      <th>tangent_dt</th>\n",
       "      <th>tangent_rf</th>\n",
       "      <th>knn</th>\n",
       "      <th>ps_perceptron</th>\n",
       "      <th>seed</th>\n",
       "    </tr>\n",
       "    <tr>\n",
       "      <th>signature</th>\n",
       "      <th></th>\n",
       "      <th></th>\n",
       "      <th></th>\n",
       "      <th></th>\n",
       "      <th></th>\n",
       "      <th></th>\n",
       "      <th></th>\n",
       "      <th></th>\n",
       "      <th></th>\n",
       "    </tr>\n",
       "  </thead>\n",
       "  <tbody>\n",
       "    <tr>\n",
       "      <th>[(-1, 10)]</th>\n",
       "      <td>0.937755</td>\n",
       "      <td>0.948980</td>\n",
       "      <td>0.938776</td>\n",
       "      <td>0.947959</td>\n",
       "      <td>0.934694</td>\n",
       "      <td>0.947959</td>\n",
       "      <td>0.944898</td>\n",
       "      <td>0.473469</td>\n",
       "      <td>1.5</td>\n",
       "    </tr>\n",
       "    <tr>\n",
       "      <th>[(-1, 2), (-1, 2), (-1, 2), (-1, 2), (-1, 2)]</th>\n",
       "      <td>0.913878</td>\n",
       "      <td>0.931837</td>\n",
       "      <td>0.919184</td>\n",
       "      <td>0.909796</td>\n",
       "      <td>0.918367</td>\n",
       "      <td>0.931837</td>\n",
       "      <td>0.930204</td>\n",
       "      <td>0.475102</td>\n",
       "      <td>64.5</td>\n",
       "    </tr>\n",
       "    <tr>\n",
       "      <th>[(-1, 2), (-1, 2), (0, 2), (1, 2), (1, 2)]</th>\n",
       "      <td>0.923265</td>\n",
       "      <td>0.935510</td>\n",
       "      <td>0.914286</td>\n",
       "      <td>0.919184</td>\n",
       "      <td>0.920816</td>\n",
       "      <td>0.935918</td>\n",
       "      <td>0.935510</td>\n",
       "      <td>0.486939</td>\n",
       "      <td>84.5</td>\n",
       "    </tr>\n",
       "    <tr>\n",
       "      <th>[(-1, 5), (-1, 5)]</th>\n",
       "      <td>0.928980</td>\n",
       "      <td>0.944082</td>\n",
       "      <td>0.924898</td>\n",
       "      <td>0.935918</td>\n",
       "      <td>0.927755</td>\n",
       "      <td>0.941633</td>\n",
       "      <td>0.948163</td>\n",
       "      <td>0.487347</td>\n",
       "      <td>34.5</td>\n",
       "    </tr>\n",
       "    <tr>\n",
       "      <th>[(-1, 5), (1, 5)]</th>\n",
       "      <td>0.935918</td>\n",
       "      <td>0.949796</td>\n",
       "      <td>0.920408</td>\n",
       "      <td>0.914286</td>\n",
       "      <td>0.935510</td>\n",
       "      <td>0.943265</td>\n",
       "      <td>0.942449</td>\n",
       "      <td>0.528980</td>\n",
       "      <td>54.5</td>\n",
       "    </tr>\n",
       "    <tr>\n",
       "      <th>[(0, 10)]</th>\n",
       "      <td>0.922857</td>\n",
       "      <td>0.940000</td>\n",
       "      <td>0.924898</td>\n",
       "      <td>0.938776</td>\n",
       "      <td>0.922449</td>\n",
       "      <td>0.940000</td>\n",
       "      <td>0.943265</td>\n",
       "      <td>0.486939</td>\n",
       "      <td>14.5</td>\n",
       "    </tr>\n",
       "    <tr>\n",
       "      <th>[(1, 10)]</th>\n",
       "      <td>0.908163</td>\n",
       "      <td>0.929388</td>\n",
       "      <td>0.898367</td>\n",
       "      <td>0.909388</td>\n",
       "      <td>0.904490</td>\n",
       "      <td>0.931837</td>\n",
       "      <td>0.933469</td>\n",
       "      <td>0.486531</td>\n",
       "      <td>24.5</td>\n",
       "    </tr>\n",
       "    <tr>\n",
       "      <th>[(1, 2), (1, 2), (1, 2), (1, 2), (1, 2)]</th>\n",
       "      <td>0.917959</td>\n",
       "      <td>0.941224</td>\n",
       "      <td>0.929388</td>\n",
       "      <td>0.934286</td>\n",
       "      <td>0.915510</td>\n",
       "      <td>0.940000</td>\n",
       "      <td>0.944490</td>\n",
       "      <td>0.488163</td>\n",
       "      <td>74.5</td>\n",
       "    </tr>\n",
       "    <tr>\n",
       "      <th>[(1, 5), (1, 5)]</th>\n",
       "      <td>0.921224</td>\n",
       "      <td>0.944490</td>\n",
       "      <td>0.911837</td>\n",
       "      <td>0.922449</td>\n",
       "      <td>0.929796</td>\n",
       "      <td>0.935918</td>\n",
       "      <td>0.942041</td>\n",
       "      <td>0.492653</td>\n",
       "      <td>44.5</td>\n",
       "    </tr>\n",
       "  </tbody>\n",
       "</table>\n",
       "</div>"
      ],
      "text/plain": [
       "                                               sklearn_dt  sklearn_rf  \\\n",
       "signature                                                               \n",
       "[(-1, 10)]                                       0.937755    0.948980   \n",
       "[(-1, 2), (-1, 2), (-1, 2), (-1, 2), (-1, 2)]    0.913878    0.931837   \n",
       "[(-1, 2), (-1, 2), (0, 2), (1, 2), (1, 2)]       0.923265    0.935510   \n",
       "[(-1, 5), (-1, 5)]                               0.928980    0.944082   \n",
       "[(-1, 5), (1, 5)]                                0.935918    0.949796   \n",
       "[(0, 10)]                                        0.922857    0.940000   \n",
       "[(1, 10)]                                        0.908163    0.929388   \n",
       "[(1, 2), (1, 2), (1, 2), (1, 2), (1, 2)]         0.917959    0.941224   \n",
       "[(1, 5), (1, 5)]                                 0.921224    0.944490   \n",
       "\n",
       "                                               product_dt  product_rf  \\\n",
       "signature                                                               \n",
       "[(-1, 10)]                                       0.938776    0.947959   \n",
       "[(-1, 2), (-1, 2), (-1, 2), (-1, 2), (-1, 2)]    0.919184    0.909796   \n",
       "[(-1, 2), (-1, 2), (0, 2), (1, 2), (1, 2)]       0.914286    0.919184   \n",
       "[(-1, 5), (-1, 5)]                               0.924898    0.935918   \n",
       "[(-1, 5), (1, 5)]                                0.920408    0.914286   \n",
       "[(0, 10)]                                        0.924898    0.938776   \n",
       "[(1, 10)]                                        0.898367    0.909388   \n",
       "[(1, 2), (1, 2), (1, 2), (1, 2), (1, 2)]         0.929388    0.934286   \n",
       "[(1, 5), (1, 5)]                                 0.911837    0.922449   \n",
       "\n",
       "                                               tangent_dt  tangent_rf  \\\n",
       "signature                                                               \n",
       "[(-1, 10)]                                       0.934694    0.947959   \n",
       "[(-1, 2), (-1, 2), (-1, 2), (-1, 2), (-1, 2)]    0.918367    0.931837   \n",
       "[(-1, 2), (-1, 2), (0, 2), (1, 2), (1, 2)]       0.920816    0.935918   \n",
       "[(-1, 5), (-1, 5)]                               0.927755    0.941633   \n",
       "[(-1, 5), (1, 5)]                                0.935510    0.943265   \n",
       "[(0, 10)]                                        0.922449    0.940000   \n",
       "[(1, 10)]                                        0.904490    0.931837   \n",
       "[(1, 2), (1, 2), (1, 2), (1, 2), (1, 2)]         0.915510    0.940000   \n",
       "[(1, 5), (1, 5)]                                 0.929796    0.935918   \n",
       "\n",
       "                                                    knn  ps_perceptron  seed  \n",
       "signature                                                                     \n",
       "[(-1, 10)]                                     0.944898       0.473469   1.5  \n",
       "[(-1, 2), (-1, 2), (-1, 2), (-1, 2), (-1, 2)]  0.930204       0.475102  64.5  \n",
       "[(-1, 2), (-1, 2), (0, 2), (1, 2), (1, 2)]     0.935510       0.486939  84.5  \n",
       "[(-1, 5), (-1, 5)]                             0.948163       0.487347  34.5  \n",
       "[(-1, 5), (1, 5)]                              0.942449       0.528980  54.5  \n",
       "[(0, 10)]                                      0.943265       0.486939  14.5  \n",
       "[(1, 10)]                                      0.933469       0.486531  24.5  \n",
       "[(1, 2), (1, 2), (1, 2), (1, 2), (1, 2)]       0.944490       0.488163  74.5  \n",
       "[(1, 5), (1, 5)]                               0.942041       0.492653  44.5  "
      ]
     },
     "execution_count": 83,
     "metadata": {},
     "output_type": "execute_result"
    }
   ],
   "source": [
    "results[\"signature\"] = [str(sig) for sig in results[\"signature\"]]  # Idempotent\n",
    "results_grouped = results.groupby([\"signature\"]).mean()\n",
    "results_grouped"
   ]
  },
  {
   "cell_type": "code",
   "execution_count": 91,
   "metadata": {},
   "outputs": [
    {
     "data": {
      "image/png": "[encoded data removed]",
      "text/plain": [
       "<Figure size 426.667x480 with 2 Axes>"
      ]
     },
     "metadata": {},
     "output_type": "display_data"
    }
   ],
   "source": [
    "plt.matshow(results_grouped.drop(\"seed\", axis=1).values)\n",
    "plt.yticks(range(len(results_grouped.index)), results_grouped.index)\n",
    "plt.xticks(range(len(results_grouped.columns)), results_grouped.columns, rotation=90)\n",
    "plt.colorbar()\n",
    "plt.show()"
   ]
  },
  {
   "cell_type": "code",
   "execution_count": 75,
   "metadata": {},
   "outputs": [
    {
     "data": {
      "image/png": "[encoded data removed]",
      "text/plain": [
       "<Figure size 640x480 with 1 Axes>"
      ]
     },
     "metadata": {},
     "output_type": "display_data"
    }
   ],
   "source": [
    "import matplotlib.pyplot as plt\n",
    "\n",
    "plt.scatter(results[\"sklearn_dt\"], results[\"product_dt\"])\n",
    "plt.xlabel(\"Sklearn\")\n",
    "plt.ylabel(\"Product\")\n",
    "plt.plot([0.8, 1], [0.8, 1], label=\"y=x\")\n",
    "plt.legend()\n",
    "\n",
    "plt.show()"
   ]
  },
  {
   "cell_type": "code",
   "execution_count": 92,
   "metadata": {},
   "outputs": [
    {
     "data": {
      "image/png": "[encoded data removed]",
      "text/plain": [
       "<Figure size 640x480 with 1 Axes>"
      ]
     },
     "metadata": {},
     "output_type": "display_data"
    }
   ],
   "source": [
    "import matplotlib.pyplot as plt\n",
    "\n",
    "plt.scatter(results[\"sklearn_rf\"], results[\"product_rf\"])\n",
    "plt.xlabel(\"Sklearn\")\n",
    "plt.ylabel(\"Product\")\n",
    "plt.plot([0.8, 1], [0.8, 1], label=\"y=x\")\n",
    "plt.legend()\n",
    "\n",
    "plt.show()"
   ]
  },
  {
   "cell_type": "code",
   "execution_count": 97,
   "metadata": {},
   "outputs": [
    {
     "data": {
      "image/png": "[encoded data removed]",
      "text/plain": [
       "<Figure size 1500x300 with 5 Axes>"
      ]
     },
     "metadata": {},
     "output_type": "display_data"
    }
   ],
   "source": [
    "import embedders.visualization\n",
    "\n",
    "\n",
    "fig, axs = plt.subplots(1, 5, figsize=(15, 3))\n",
    "labels = y.detach().numpy()\n",
    "for M, x, ax in zip(pm.P, pm.factorize(X), axs):\n",
    "    if M.type == \"E\":\n",
    "        x_plot = x\n",
    "    elif M.type == \"H\":\n",
    "        x_plot = embedders.visualization.hyperboloid_to_poincare(X)\n",
    "    else:\n",
    "        x_plot = embedders.visualization.S2_to_polar(X)\n",
    "    x_plot = x_plot.detach().cpu().numpy()\n",
    "    ax.scatter(x_plot[:, 0], x_plot[:, 1], c=y, s=9)"
   ]
  }
 ],
 "metadata": {
  "kernelspec": {
   "display_name": "embedders",
   "language": "python",
   "name": "python3"
  },
  "language_info": {
   "codemirror_mode": {
    "name": "ipython",
    "version": 3
   },
   "file_extension": ".py",
   "mimetype": "text/x-python",
   "name": "python",
   "nbconvert_exporter": "python",
   "pygments_lexer": "ipython3",
   "version": "3.10.0"
  }
 },
 "nbformat": 4,
 "nbformat_minor": 2
}

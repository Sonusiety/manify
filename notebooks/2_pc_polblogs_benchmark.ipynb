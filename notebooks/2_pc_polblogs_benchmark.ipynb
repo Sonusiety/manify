{
 "cells": [
  {
   "cell_type": "code",
   "execution_count": 1,
   "metadata": {},
   "outputs": [],
   "source": [
    "%load_ext autoreload\n",
    "%autoreload 2"
   ]
  },
  {
   "cell_type": "code",
   "execution_count": 2,
   "metadata": {},
   "outputs": [
    {
     "name": "stdout",
     "output_type": "stream",
     "text": [
      "Using device: cuda\n"
     ]
    }
   ],
   "source": [
    "# Torch device management\n",
    "import torch\n",
    "\n",
    "if torch.cuda.is_available():\n",
    "    torch.cuda.set_device(0)\n",
    "    device = torch.device(\"cuda\")\n",
    "else:\n",
    "    device = torch.device(\"cpu\")\n",
    "\n",
    "print(f\"Using device: {device}\")"
   ]
  },
  {
   "cell_type": "code",
   "execution_count": 3,
   "metadata": {},
   "outputs": [],
   "source": [
    "import embedders"
   ]
  },
  {
   "cell_type": "code",
   "execution_count": 4,
   "metadata": {},
   "outputs": [
    {
     "name": "stdout",
     "output_type": "stream",
     "text": [
      "Top CC has 1222 nodes; original graph has 1490 nodes.\n"
     ]
    }
   ],
   "source": [
    "# Load Polblogs\n",
    "\n",
    "polblogs_dists, polblogs_labels = embedders.dataloaders.load(\"polblogs\", labels=True)"
   ]
  },
  {
   "cell_type": "code",
   "execution_count": 5,
   "metadata": {},
   "outputs": [
    {
     "name": "stdout",
     "output_type": "stream",
     "text": [
      "H_1.0^6\n"
     ]
    },
    {
     "data": {
      "application/vnd.jupyter.widget-view+json": {
       "model_id": "4b6cc8224ece4bb5a4a828bcc10d94b9",
       "version_major": 2,
       "version_minor": 0
      },
      "text/plain": [
       "  0%|          | 0/1000 [00:00<?, ?it/s]"
      ]
     },
     "metadata": {},
     "output_type": "display_data"
    },
    {
     "name": "stderr",
     "output_type": "stream",
     "text": [
      "/home/phil/miniconda3/envs/hdt/lib/python3.11/site-packages/geoopt/manifolds/lorentz/math.py:34: UserWarning: operator() profile_node %21 : int[] = prim::profile_ivalue(%19)\n",
      " does not have profile information (Triggered internally at ../third_party/nvfuser/csrc/graph_fuser.cpp:104.)\n",
      "  return _inner(u, v, keepdim=keepdim, dim=dim)\n"
     ]
    }
   ],
   "source": [
    "# Specify signature - useful to re-initialize the manifold here\n",
    "\n",
    "torch.manual_seed(0)  # Not all seeds are stable - this one trains for 3000 iterations at lr=1e-2 (burn-in 1e-3)\n",
    "\n",
    "signature = [(-1, 6)]\n",
    "pm = embedders.manifolds.ProductManifold(signature=signature)\n",
    "print(pm.name)\n",
    "\n",
    "# Rescale distances\n",
    "dists_rescaled = polblogs_dists / polblogs_dists.max()\n",
    "\n",
    "# Get embedding\n",
    "embedders.coordinate_learning.train_coords(\n",
    "    pm,\n",
    "    dists_rescaled,\n",
    "    device=device,\n",
    "    burn_in_iterations=100,\n",
    "    training_iterations=100 * 9,\n",
    "    learning_rate=1e-1,\n",
    "    burn_in_learning_rate=1e-2,\n",
    "    scale_factor_learning_rate=1e-1,\n",
    ")\n",
    "\n",
    "h6_polblogs = pm.x_embed.detach().cpu().numpy()"
   ]
  },
  {
   "cell_type": "code",
   "execution_count": 6,
   "metadata": {},
   "outputs": [
    {
     "name": "stdout",
     "output_type": "stream",
     "text": [
      "HyperDT\t90.83 +/- 1.22\n",
      "DT\t90.59 +/- 0.93\n"
     ]
    }
   ],
   "source": [
    "# Compare productDT and sklearn on this dataset\n",
    "from sklearn.model_selection import cross_val_score\n",
    "\n",
    "from hyperdt.tree import HyperbolicDecisionTreeClassifier\n",
    "from sklearn.tree import DecisionTreeClassifier\n",
    "\n",
    "\n",
    "def cv_eval(model, name, X, y):\n",
    "    cv = cross_val_score(model, X, y, cv=5)\n",
    "    print(f\"{name}\\t{cv.mean()*100:.2f} +/- {cv.std()*100:.2f}\")\n",
    "\n",
    "\n",
    "hdt = HyperbolicDecisionTreeClassifier(max_depth=3, skip_hyperboloid_check=True)\n",
    "cv_eval(hdt, \"HyperDT\", h6_polblogs, polblogs_labels)\n",
    "\n",
    "dt = DecisionTreeClassifier(max_depth=3)\n",
    "cv_eval(dt, \"DT\", h6_polblogs, polblogs_labels)"
   ]
  },
  {
   "cell_type": "code",
   "execution_count": 7,
   "metadata": {},
   "outputs": [
    {
     "name": "stdout",
     "output_type": "stream",
     "text": [
      "H_1.0^2 x E_0.0^2 x S_1.0^2\n"
     ]
    },
    {
     "data": {
      "application/vnd.jupyter.widget-view+json": {
       "model_id": "daea6138b69442b8abd8aecead79e1e9",
       "version_major": 2,
       "version_minor": 0
      },
      "text/plain": [
       "  0%|          | 0/1000 [00:00<?, ?it/s]"
      ]
     },
     "metadata": {},
     "output_type": "display_data"
    }
   ],
   "source": [
    "# Same thing, but now we do H2 x E2 x S2\n",
    "torch.manual_seed(0)\n",
    "\n",
    "signature = [(-1, 2), (0, 2), (1, 2)]\n",
    "pm2 = embedders.manifolds.ProductManifold(signature=signature)\n",
    "print(pm2.name)\n",
    "\n",
    "# Get embedding\n",
    "embedders.coordinate_learning.train_coords(\n",
    "    pm2,\n",
    "    dists_rescaled,\n",
    "    device=device,\n",
    "    burn_in_iterations=100,\n",
    "    training_iterations=100 * 9,\n",
    "    learning_rate=1e-1,\n",
    "    burn_in_learning_rate=1e-2,\n",
    "    scale_factor_learning_rate=1e-1,\n",
    ")\n",
    "\n",
    "h2_e2_s2_polblogs = pm2.x_embed.detach().cpu().numpy()"
   ]
  },
  {
   "cell_type": "code",
   "execution_count": 8,
   "metadata": {},
   "outputs": [],
   "source": [
    "# We assume a dummy dimension for our Euclidean embeddings when we run ProductDT\n",
    "import numpy as np\n",
    "\n",
    "\n",
    "def fix_X(X, pos=3):\n",
    "    return np.concatenate([X[:, :pos], np.ones((len(X), 1)), X[:, pos:]], axis=1)"
   ]
  },
  {
   "cell_type": "code",
   "execution_count": 9,
   "metadata": {},
   "outputs": [
    {
     "name": "stderr",
     "output_type": "stream",
     "text": [
      "INFO: Using numpy backend\n"
     ]
    },
    {
     "name": "stdout",
     "output_type": "stream",
     "text": [
      "ProductDT\t90.34 +/- 0.22\n",
      "DT\t92.23 +/- 1.16\n"
     ]
    }
   ],
   "source": [
    "# Compare productDT and sklearn on this dataset\n",
    "from hyperdt.product_space_DT import ProductSpaceDT\n",
    "from sklearn.tree import DecisionTreeClassifier\n",
    "\n",
    "pdt = ProductSpaceDT(max_depth=3, signature=[(s[1], s[0]) for s in signature])\n",
    "cv_eval(pdt, \"ProductDT\", fix_X(h2_e2_s2_polblogs), polblogs_labels)\n",
    "\n",
    "dt = DecisionTreeClassifier(max_depth=3)\n",
    "cv_eval(dt, \"DT\", h2_e2_s2_polblogs, polblogs_labels)\n",
    "\n",
    "# TODO: Quentin: product perceptron eval\n",
    "# TODO: Quentin: product SVM eval"
   ]
  },
  {
   "cell_type": "code",
   "execution_count": 10,
   "metadata": {},
   "outputs": [
    {
     "name": "stdout",
     "output_type": "stream",
     "text": [
      "ProductDT (H)\t70.13 +/- 2.41\n",
      "HyperDT (H)\t70.13 +/- 2.41\n",
      "DT (H)\t68.98 +/- 3.30\n",
      "\n",
      "ProductDT (E)\t81.34 +/- 4.06\n",
      "DT (E)\t81.34 +/- 4.06\n",
      "\n",
      "ProductDT (S)\t90.26 +/- 1.02\n",
      "HyperDT (S)\t90.26 +/- 1.02\n",
      "DT (S)\t90.67 +/- 1.59\n"
     ]
    }
   ],
   "source": [
    "# Does it hold up componentwise?\n",
    "\n",
    "# Hyperbolic\n",
    "pdt_H = ProductSpaceDT(max_depth=3, signature=[(2, -1.0)])\n",
    "cv_eval(pdt_H, \"ProductDT (H)\", h2_e2_s2_polblogs[:, pm2.man2dim[0]], polblogs_labels)\n",
    "\n",
    "hdt_H = HyperbolicDecisionTreeClassifier(max_depth=3, skip_hyperboloid_check=True)\n",
    "cv_eval(hdt_H, \"HyperDT (H)\", h2_e2_s2_polblogs[:, pm2.man2dim[0]], polblogs_labels)\n",
    "\n",
    "dt_H = DecisionTreeClassifier(max_depth=3)\n",
    "cv_eval(dt_H, \"DT (H)\", h2_e2_s2_polblogs[:, pm2.man2dim[0]], polblogs_labels)\n",
    "\n",
    "# TODO: Quentin: product perceptron eval\n",
    "# TODO: Quentin: product SVM eval\n",
    "\n",
    "print()\n",
    "\n",
    "# Euclidean\n",
    "# For the euclidean ones, we won't use man2dim because fix_X() breaks it - we'll hardcode 3:6 instead\n",
    "pdt_E = ProductSpaceDT(max_depth=3, signature=[(2, 0.0)])\n",
    "cv_eval(pdt_E, \"ProductDT (E)\", fix_X(h2_e2_s2_polblogs)[:, 3:6], polblogs_labels)\n",
    "\n",
    "dt_E = DecisionTreeClassifier(max_depth=3)\n",
    "cv_eval(dt_E, \"DT (E)\", h2_e2_s2_polblogs[:, pm2.man2dim[1]], polblogs_labels)\n",
    "\n",
    "# TODO: Quentin: product perceptron eval\n",
    "# TODO: Quentin: product SVM eval\n",
    "\n",
    "print()\n",
    "\n",
    "# Sphere\n",
    "pdt_S = ProductSpaceDT(max_depth=3, signature=[(2, 1.0)])\n",
    "cv_eval(pdt_S, \"ProductDT (S)\", h2_e2_s2_polblogs[:, pm2.man2dim[2]], polblogs_labels)\n",
    "\n",
    "hdt_S = HyperbolicDecisionTreeClassifier(max_depth=3, skip_hyperboloid_check=True, angle_midpoint_method=\"bisect\")\n",
    "cv_eval(hdt_S, \"HyperDT (S)\", h2_e2_s2_polblogs[:, pm2.man2dim[2]], polblogs_labels)\n",
    "\n",
    "dt_S = DecisionTreeClassifier(max_depth=3)\n",
    "cv_eval(dt_S, \"DT (S)\", h2_e2_s2_polblogs[:, pm2.man2dim[2]], polblogs_labels)\n",
    "\n",
    "# TODO: Quentin: product perceptron eval\n",
    "# TODO: Quentin: product SVM eval"
   ]
  },
  {
   "cell_type": "code",
   "execution_count": 54,
   "metadata": {},
   "outputs": [
    {
     "name": "stdout",
     "output_type": "stream",
     "text": [
      "[0.25659456849098206, 0.3267468214035034, 0.4166586697101593]\n",
      "1.0000000596046448\n"
     ]
    }
   ],
   "source": [
    "contributions = embedders.metrics.dist_component_by_manifold(pm2, pm2.x_embed)\n",
    "\n",
    "# Why don't these add to 100%...?\n",
    "print(contributions)\n",
    "print(sum(contributions))"
   ]
  }
 ],
 "metadata": {
  "kernelspec": {
   "display_name": "embedders",
   "language": "python",
   "name": "python3"
  },
  "language_info": {
   "codemirror_mode": {
    "name": "ipython",
    "version": 3
   },
   "file_extension": ".py",
   "mimetype": "text/x-python",
   "name": "python",
   "nbconvert_exporter": "python",
   "pygments_lexer": "ipython3",
   "version": "3.11.4"
  }
 },
 "nbformat": 4,
 "nbformat_minor": 2
}

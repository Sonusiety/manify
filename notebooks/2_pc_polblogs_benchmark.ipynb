{
 "cells": [
  {
   "cell_type": "code",
   "execution_count": 1,
   "metadata": {},
   "outputs": [],
   "source": [
    "%load_ext autoreload\n",
    "%autoreload 2"
   ]
  },
  {
   "cell_type": "markdown",
   "metadata": {},
   "source": [
    "# Proof of concept"
   ]
  },
  {
   "cell_type": "code",
   "execution_count": 2,
   "metadata": {},
   "outputs": [
    {
     "name": "stdout",
     "output_type": "stream",
     "text": [
      "Using device: cpu\n"
     ]
    }
   ],
   "source": [
    "# Torch device management\n",
    "import torch\n",
    "\n",
    "if torch.cuda.is_available():\n",
    "    torch.cuda.set_device(0)\n",
    "    device = torch.device(\"cuda\")\n",
    "else:\n",
    "    device = torch.device(\"cpu\")\n",
    "\n",
    "print(f\"Using device: {device}\")"
   ]
  },
  {
   "cell_type": "code",
   "execution_count": 3,
   "metadata": {},
   "outputs": [],
   "source": [
    "import embedders"
   ]
  },
  {
   "cell_type": "code",
   "execution_count": 8,
   "metadata": {},
   "outputs": [
    {
     "name": "stdout",
     "output_type": "stream",
     "text": [
      "Top CC has 1222 nodes; original graph has 1490 nodes.\n"
     ]
    }
   ],
   "source": [
    "# Load Polblogs\n",
    "\n",
    "polblogs_dists, polblogs_labels = embedders.dataloaders.load(\n",
    "    \"polblogs\",\n",
    "    labels=True,\n",
    "    polblogs_path=\"/Users/phil/embedders/data/graphs/polblogs.mtx\",\n",
    "    polblogs_labels_path=\"/Users/phil/embedders/data/graphs/polblogs_labels.tsv\",\n",
    ")"
   ]
  },
  {
   "cell_type": "code",
   "execution_count": 10,
   "metadata": {},
   "outputs": [
    {
     "name": "stdout",
     "output_type": "stream",
     "text": [
      "H_1.0^6\n"
     ]
    },
    {
     "data": {
      "application/vnd.jupyter.widget-view+json": {
       "model_id": "b2f9b69ec9a048819f3794f4d5fdd4ce",
       "version_major": 2,
       "version_minor": 0
      },
      "text/plain": [
       "  0%|          | 0/3000 [00:00<?, ?it/s]"
      ]
     },
     "metadata": {},
     "output_type": "display_data"
    }
   ],
   "source": [
    "# Specify signature - useful to re-initialize the manifold here\n",
    "\n",
    "torch.manual_seed(0)  # Not all seeds are stable - this one trains for 3000 iterations at lr=1e-2 (burn-in 1e-3)\n",
    "\n",
    "signature = [(-1, 6)]\n",
    "pm = embedders.manifolds.ProductManifold(signature=signature)\n",
    "print(pm.name)\n",
    "\n",
    "# Rescale distances\n",
    "dists_rescaled = polblogs_dists / polblogs_dists.max()\n",
    "\n",
    "# Get embedding\n",
    "embedders.coordinate_learning.train_coords(\n",
    "    pm,\n",
    "    dists_rescaled,\n",
    "    device=device,\n",
    "    burn_in_iterations=300,\n",
    "    training_iterations=300 * 9,\n",
    "    learning_rate=1e-1,\n",
    "    burn_in_learning_rate=1e-2,\n",
    "    scale_factor_learning_rate=1e-1,\n",
    ")\n",
    "\n",
    "h6_polblogs = pm.x_embed.detach().cpu().numpy()"
   ]
  },
  {
   "cell_type": "code",
   "execution_count": 22,
   "metadata": {},
   "outputs": [
    {
     "name": "stdout",
     "output_type": "stream",
     "text": [
      "ProductDT\t89.23\n",
      "DT\t89.31\n"
     ]
    }
   ],
   "source": [
    "# Compare productDT and sklearn on this dataset\n",
    "# from sklearn.model_selection import KFold\n",
    "from sklearn.model_selection import train_test_split\n",
    "from sklearn.metrics import f1_score\n",
    "\n",
    "# from hyperdt.tree import HyperbolicDecisionTreeClassifier\n",
    "from embedders.tree_new import ProductSpaceDT\n",
    "from sklearn.tree import DecisionTreeClassifier\n",
    "\n",
    "X_train, X_test, y_train, y_test = train_test_split(h6_polblogs, polblogs_labels.values, test_size=0.2, random_state=0)\n",
    "\n",
    "pdt = ProductSpaceDT(pm=pm, max_depth=3, use_special_dims=True)\n",
    "pdt.fit(X_train, y_train)\n",
    "pdt_f1 = f1_score(y_test, pdt.predict(X_test))\n",
    "print(f\"ProductDT\\t{pdt_f1*100:.2f}\")\n",
    "\n",
    "dt = DecisionTreeClassifier(max_depth=3)\n",
    "dt.fit(X_train, y_train)\n",
    "dt_f1 = f1_score(y_test, dt.predict(X_test))\n",
    "print(f\"DT\\t{dt_f1*100:.2f}\")"
   ]
  },
  {
   "cell_type": "code",
   "execution_count": 23,
   "metadata": {},
   "outputs": [
    {
     "name": "stdout",
     "output_type": "stream",
     "text": [
      "H_1.0^2 x E_0.0^2 x S_1.0^2\n"
     ]
    },
    {
     "data": {
      "application/vnd.jupyter.widget-view+json": {
       "model_id": "f0ad7dba0c5f4a08993f5af8102d150b",
       "version_major": 2,
       "version_minor": 0
      },
      "text/plain": [
       "  0%|          | 0/3000 [00:00<?, ?it/s]"
      ]
     },
     "metadata": {},
     "output_type": "display_data"
    }
   ],
   "source": [
    "# Same thing, but now we do H2 x E2 x S2\n",
    "torch.manual_seed(0)\n",
    "\n",
    "signature = [(-1, 2), (0, 2), (1, 2)]\n",
    "pm2 = embedders.manifolds.ProductManifold(signature=signature)\n",
    "print(pm2.name)\n",
    "\n",
    "# Get embedding\n",
    "embedders.coordinate_learning.train_coords(\n",
    "    pm2,\n",
    "    dists_rescaled,\n",
    "    device=device,\n",
    "    burn_in_iterations=300,\n",
    "    training_iterations=300 * 9,\n",
    "    learning_rate=1e-1,\n",
    "    burn_in_learning_rate=1e-2,\n",
    "    scale_factor_learning_rate=1e-1,\n",
    ")\n",
    "\n",
    "h2_e2_s2_polblogs = pm2.x_embed.detach().cpu().numpy()"
   ]
  },
  {
   "cell_type": "code",
   "execution_count": 24,
   "metadata": {},
   "outputs": [
    {
     "name": "stdout",
     "output_type": "stream",
     "text": [
      "ProductDT\t90.57\n",
      "DT\t88.46\n"
     ]
    }
   ],
   "source": [
    "# Compare productDT and sklearn on this dataset\n",
    "from sklearn.tree import DecisionTreeClassifier\n",
    "\n",
    "X_train, X_test, y_train, y_test = train_test_split(\n",
    "    h2_e2_s2_polblogs, polblogs_labels.values, test_size=0.2, random_state=0\n",
    ")\n",
    "\n",
    "pdt2 = ProductSpaceDT(pm=pm2, max_depth=3)\n",
    "pdt2.fit(X_train, y_train)\n",
    "pdt2_f1 = f1_score(y_test, pdt2.predict(X_test))\n",
    "print(f\"ProductDT\\t{pdt2_f1*100:.2f}\")\n",
    "\n",
    "dt = DecisionTreeClassifier(max_depth=3)\n",
    "dt.fit(X_train, y_train)\n",
    "dt_f1 = f1_score(y_test, dt.predict(X_test))\n",
    "print(f\"DT\\t{dt_f1*100:.2f}\")\n",
    "# cv_eval(dt, \"DT\", h2_e2_s2_polblogs, polblogs_labels)\n",
    "\n",
    "# TODO: Quentin: product perceptron eval\n",
    "# TODO: Quentin: product SVM eval"
   ]
  },
  {
   "cell_type": "code",
   "execution_count": 10,
   "metadata": {},
   "outputs": [
    {
     "name": "stdout",
     "output_type": "stream",
     "text": [
      "ProductDT (H)\t70.13 +/- 2.41\n",
      "HyperDT (H)\t70.13 +/- 2.41\n",
      "DT (H)\t68.98 +/- 3.30\n",
      "\n",
      "ProductDT (E)\t81.34 +/- 4.06\n",
      "DT (E)\t81.34 +/- 4.06\n",
      "\n",
      "ProductDT (S)\t90.26 +/- 1.02\n",
      "HyperDT (S)\t90.26 +/- 1.02\n",
      "DT (S)\t90.67 +/- 1.59\n"
     ]
    }
   ],
   "source": [
    "# Does it hold up componentwise?\n",
    "\n",
    "# Hyperbolic\n",
    "pdt_H = ProductSpaceDT(max_depth=3, signature=[(2, -1.0)])\n",
    "cv_eval(pdt_H, \"ProductDT (H)\", h2_e2_s2_polblogs[:, pm2.man2dim[0]], polblogs_labels)\n",
    "\n",
    "hdt_H = HyperbolicDecisionTreeClassifier(max_depth=3, skip_hyperboloid_check=True)\n",
    "cv_eval(hdt_H, \"HyperDT (H)\", h2_e2_s2_polblogs[:, pm2.man2dim[0]], polblogs_labels)\n",
    "\n",
    "dt_H = DecisionTreeClassifier(max_depth=3)\n",
    "cv_eval(dt_H, \"DT (H)\", h2_e2_s2_polblogs[:, pm2.man2dim[0]], polblogs_labels)\n",
    "\n",
    "# TODO: Quentin: product perceptron eval\n",
    "# TODO: Quentin: product SVM eval\n",
    "\n",
    "print()\n",
    "\n",
    "# Euclidean\n",
    "# For the euclidean ones, we won't use man2dim because fix_X() breaks it - we'll hardcode 3:6 instead\n",
    "pdt_E = ProductSpaceDT(max_depth=3, signature=[(2, 0.0)])\n",
    "cv_eval(pdt_E, \"ProductDT (E)\", fix_X(h2_e2_s2_polblogs)[:, 3:6], polblogs_labels)\n",
    "\n",
    "dt_E = DecisionTreeClassifier(max_depth=3)\n",
    "cv_eval(dt_E, \"DT (E)\", h2_e2_s2_polblogs[:, pm2.man2dim[1]], polblogs_labels)\n",
    "\n",
    "# TODO: Quentin: product perceptron eval\n",
    "# TODO: Quentin: product SVM eval\n",
    "\n",
    "print()\n",
    "\n",
    "# Sphere\n",
    "pdt_S = ProductSpaceDT(max_depth=3, signature=[(2, 1.0)])\n",
    "cv_eval(pdt_S, \"ProductDT (S)\", h2_e2_s2_polblogs[:, pm2.man2dim[2]], polblogs_labels)\n",
    "\n",
    "hdt_S = HyperbolicDecisionTreeClassifier(max_depth=3, skip_hyperboloid_check=True, angle_midpoint_method=\"bisect\")\n",
    "cv_eval(hdt_S, \"HyperDT (S)\", h2_e2_s2_polblogs[:, pm2.man2dim[2]], polblogs_labels)\n",
    "\n",
    "dt_S = DecisionTreeClassifier(max_depth=3)\n",
    "cv_eval(dt_S, \"DT (S)\", h2_e2_s2_polblogs[:, pm2.man2dim[2]], polblogs_labels)\n",
    "\n",
    "# TODO: Quentin: product perceptron eval\n",
    "# TODO: Quentin: product SVM eval"
   ]
  },
  {
   "cell_type": "code",
   "execution_count": 54,
   "metadata": {},
   "outputs": [
    {
     "name": "stdout",
     "output_type": "stream",
     "text": [
      "[0.25659456849098206, 0.3267468214035034, 0.4166586697101593]\n",
      "1.0000000596046448\n"
     ]
    }
   ],
   "source": [
    "contributions = embedders.metrics.dist_component_by_manifold(pm2, pm2.x_embed)\n",
    "\n",
    "# Why don't these add to 100%...?\n",
    "print(contributions)\n",
    "print(sum(contributions))"
   ]
  },
  {
   "cell_type": "markdown",
   "metadata": {},
   "source": [
    "# Exhaustive benchmark"
   ]
  },
  {
   "cell_type": "code",
   "execution_count": 25,
   "metadata": {},
   "outputs": [],
   "source": [
    "SIGNATURES = [\n",
    "    [(-1, 10)],\n",
    "    [(0, 10)],\n",
    "    [(1, 10)],\n",
    "    [(-1, 5), (-1, 5)],\n",
    "    [(1, 5), (1, 5)],\n",
    "    [(-1, 5), (1, 5)],\n",
    "    [(-1, 2), (-1, 2), (-1, 2), (-1, 2), (-1, 2)],\n",
    "    [(1, 2), (1, 2), (1, 2), (1, 2), (1, 2)],\n",
    "    [(-1, 2), (-1, 2), (0, 2), (1, 2), (1, 2)],\n",
    "]"
   ]
  },
  {
   "cell_type": "code",
   "execution_count": 36,
   "metadata": {},
   "outputs": [
    {
     "data": {
      "text/plain": [
       "device(type='cpu')"
      ]
     },
     "execution_count": 36,
     "metadata": {},
     "output_type": "execute_result"
    }
   ],
   "source": [
    "import torch\n",
    "import embedders\n",
    "import numpy as np\n",
    "\n",
    "device = torch.device(\"cuda\") if torch.cuda.is_available() else torch.device(\"cpu\")\n",
    "device"
   ]
  },
  {
   "cell_type": "code",
   "execution_count": 37,
   "metadata": {},
   "outputs": [
    {
     "name": "stdout",
     "output_type": "stream",
     "text": [
      "Top CC has 1222 nodes; original graph has 1490 nodes.\n"
     ]
    }
   ],
   "source": [
    "# Get data\n",
    "\n",
    "polblogs_dists, polblogs_labels = embedders.dataloaders.load(\n",
    "    \"polblogs\",\n",
    "    labels=True,\n",
    "    polblogs_path=\"/Users/phil/embedders/data/graphs/polblogs.mtx\",\n",
    "    polblogs_labels_path=\"/Users/phil/embedders/data/graphs/polblogs_labels.tsv\",\n",
    ")\n",
    "dists_rescaled = polblogs_dists / polblogs_dists.max()\n",
    "dists_rescaled = torch.tensor(dists_rescaled, dtype=torch.float32).to(device)\n",
    "polblogs_labels = torch.tensor(polblogs_labels.values, dtype=torch.long).to(device)"
   ]
  },
  {
   "cell_type": "code",
   "execution_count": 43,
   "metadata": {},
   "outputs": [
    {
     "data": {
      "application/vnd.jupyter.widget-view+json": {
       "model_id": "d3ecc59897d44d678dac9e16ccfed725",
       "version_major": 2,
       "version_minor": 0
      },
      "text/plain": [
       "  0%|          | 0/3000 [00:00<?, ?it/s]"
      ]
     },
     "metadata": {},
     "output_type": "display_data"
    },
    {
     "data": {
      "application/vnd.jupyter.widget-view+json": {
       "model_id": "be7998a380234c93b705f0a8515ace41",
       "version_major": 2,
       "version_minor": 0
      },
      "text/plain": [
       "  0%|          | 0/3000 [00:00<?, ?it/s]"
      ]
     },
     "metadata": {},
     "output_type": "display_data"
    },
    {
     "data": {
      "application/vnd.jupyter.widget-view+json": {
       "model_id": "78fa7662e90847edaf7b02794d0bbb69",
       "version_major": 2,
       "version_minor": 0
      },
      "text/plain": [
       "  0%|          | 0/3000 [00:00<?, ?it/s]"
      ]
     },
     "metadata": {},
     "output_type": "display_data"
    },
    {
     "data": {
      "application/vnd.jupyter.widget-view+json": {
       "model_id": "ab02c025cb554246a5505cb8e6d920e7",
       "version_major": 2,
       "version_minor": 0
      },
      "text/plain": [
       "  0%|          | 0/3000 [00:00<?, ?it/s]"
      ]
     },
     "metadata": {},
     "output_type": "display_data"
    },
    {
     "data": {
      "application/vnd.jupyter.widget-view+json": {
       "model_id": "3701dd37c6b340d18e790e4f7b3c8261",
       "version_major": 2,
       "version_minor": 0
      },
      "text/plain": [
       "  0%|          | 0/3000 [00:00<?, ?it/s]"
      ]
     },
     "metadata": {},
     "output_type": "display_data"
    },
    {
     "data": {
      "application/vnd.jupyter.widget-view+json": {
       "model_id": "f5e987fd1958408387a4a637246de107",
       "version_major": 2,
       "version_minor": 0
      },
      "text/plain": [
       "  0%|          | 0/3000 [00:00<?, ?it/s]"
      ]
     },
     "metadata": {},
     "output_type": "display_data"
    },
    {
     "data": {
      "application/vnd.jupyter.widget-view+json": {
       "model_id": "d7136b4efb9b4d8e96e72715e3e69b78",
       "version_major": 2,
       "version_minor": 0
      },
      "text/plain": [
       "  0%|          | 0/3000 [00:00<?, ?it/s]"
      ]
     },
     "metadata": {},
     "output_type": "display_data"
    },
    {
     "data": {
      "application/vnd.jupyter.widget-view+json": {
       "model_id": "e26ab8f443834781bba7975c5eee1bba",
       "version_major": 2,
       "version_minor": 0
      },
      "text/plain": [
       "  0%|          | 0/3000 [00:00<?, ?it/s]"
      ]
     },
     "metadata": {},
     "output_type": "display_data"
    },
    {
     "data": {
      "application/vnd.jupyter.widget-view+json": {
       "model_id": "61740c807f9a460ba85b72dc06d12e40",
       "version_major": 2,
       "version_minor": 0
      },
      "text/plain": [
       "  0%|          | 0/3000 [00:00<?, ?it/s]"
      ]
     },
     "metadata": {},
     "output_type": "display_data"
    },
    {
     "data": {
      "application/vnd.jupyter.widget-view+json": {
       "model_id": "aa03824e873e47ca91390439ed93aef7",
       "version_major": 2,
       "version_minor": 0
      },
      "text/plain": [
       "  0%|          | 0/3000 [00:00<?, ?it/s]"
      ]
     },
     "metadata": {},
     "output_type": "display_data"
    },
    {
     "data": {
      "application/vnd.jupyter.widget-view+json": {
       "model_id": "32610fa94eff43a3a881890ef3a89237",
       "version_major": 2,
       "version_minor": 0
      },
      "text/plain": [
       "  0%|          | 0/3000 [00:00<?, ?it/s]"
      ]
     },
     "metadata": {},
     "output_type": "display_data"
    },
    {
     "data": {
      "application/vnd.jupyter.widget-view+json": {
       "model_id": "bf12046f758e49b3aae9bbc77938d05d",
       "version_major": 2,
       "version_minor": 0
      },
      "text/plain": [
       "  0%|          | 0/3000 [00:00<?, ?it/s]"
      ]
     },
     "metadata": {},
     "output_type": "display_data"
    },
    {
     "data": {
      "application/vnd.jupyter.widget-view+json": {
       "model_id": "e817c72cd0f54788aab1fa969ddc3f2d",
       "version_major": 2,
       "version_minor": 0
      },
      "text/plain": [
       "  0%|          | 0/3000 [00:00<?, ?it/s]"
      ]
     },
     "metadata": {},
     "output_type": "display_data"
    },
    {
     "data": {
      "application/vnd.jupyter.widget-view+json": {
       "model_id": "3498e8c8748048f4a716cc3191b18e51",
       "version_major": 2,
       "version_minor": 0
      },
      "text/plain": [
       "  0%|          | 0/3000 [00:00<?, ?it/s]"
      ]
     },
     "metadata": {},
     "output_type": "display_data"
    },
    {
     "data": {
      "application/vnd.jupyter.widget-view+json": {
       "model_id": "01db33179009496b9b5aaa89093a57e7",
       "version_major": 2,
       "version_minor": 0
      },
      "text/plain": [
       "  0%|          | 0/3000 [00:00<?, ?it/s]"
      ]
     },
     "metadata": {},
     "output_type": "display_data"
    },
    {
     "data": {
      "application/vnd.jupyter.widget-view+json": {
       "model_id": "9848c9c28c4f462a99b7c480c33e2e38",
       "version_major": 2,
       "version_minor": 0
      },
      "text/plain": [
       "  0%|          | 0/3000 [00:00<?, ?it/s]"
      ]
     },
     "metadata": {},
     "output_type": "display_data"
    },
    {
     "data": {
      "application/vnd.jupyter.widget-view+json": {
       "model_id": "74a004a1bb7e4efe8526ef9a2579cfde",
       "version_major": 2,
       "version_minor": 0
      },
      "text/plain": [
       "  0%|          | 0/3000 [00:00<?, ?it/s]"
      ]
     },
     "metadata": {},
     "output_type": "display_data"
    },
    {
     "data": {
      "application/vnd.jupyter.widget-view+json": {
       "model_id": "6427b40a35f8484eae85e8b97a577bd2",
       "version_major": 2,
       "version_minor": 0
      },
      "text/plain": [
       "  0%|          | 0/3000 [00:00<?, ?it/s]"
      ]
     },
     "metadata": {},
     "output_type": "display_data"
    },
    {
     "data": {
      "application/vnd.jupyter.widget-view+json": {
       "model_id": "09bbee80c2224ffc8fa8e3b3be169dd1",
       "version_major": 2,
       "version_minor": 0
      },
      "text/plain": [
       "  0%|          | 0/3000 [00:00<?, ?it/s]"
      ]
     },
     "metadata": {},
     "output_type": "display_data"
    },
    {
     "data": {
      "application/vnd.jupyter.widget-view+json": {
       "model_id": "de009a61e7144d2aad258722db77ecaf",
       "version_major": 2,
       "version_minor": 0
      },
      "text/plain": [
       "  0%|          | 0/3000 [00:00<?, ?it/s]"
      ]
     },
     "metadata": {},
     "output_type": "display_data"
    }
   ],
   "source": [
    "from embedders.tree import TorchProductSpaceDT, TorchProductSpaceRF\n",
    "from embedders.metrics import d_avg\n",
    "from sklearn.tree import DecisionTreeClassifier\n",
    "from sklearn.ensemble import RandomForestClassifier\n",
    "from sklearn.model_selection import KFold\n",
    "from sklearn.metrics import f1_score\n",
    "import pickle\n",
    "import os\n",
    "\n",
    "DOWNSAMPLE = None\n",
    "ITERS = 3_000\n",
    "TRIALS = 10\n",
    "\n",
    "results = []\n",
    "# with open(f\"../data/polblogs_embeddings/results_dict.pkl\", \"rb\") as f:\n",
    "#     results = pickle.load(f)\n",
    "\n",
    "for i, signature in enumerate(SIGNATURES):\n",
    "    for j in range(TRIALS):\n",
    "        # Skip existing\n",
    "        if os.path.exists(f\"../data/polblogs_embeddings/polblogs_{i}_{j}.npy\"):\n",
    "            continue\n",
    "\n",
    "        seed = i * TRIALS + j  # Unique seed\n",
    "        torch.manual_seed(seed)\n",
    "\n",
    "        # Generate embedding\n",
    "        pm = embedders.manifolds.ProductManifold(signature=signature).to(device)\n",
    "        embedders.coordinate_learning.train_coords(\n",
    "            pm,\n",
    "            dists_rescaled[:DOWNSAMPLE, :DOWNSAMPLE],\n",
    "            device=device,\n",
    "            burn_in_iterations=int(ITERS * 0.1),\n",
    "            training_iterations=int(ITERS * 0.9),\n",
    "            learning_rate=1e-1,\n",
    "            burn_in_learning_rate=1e-2,\n",
    "            scale_factor_learning_rate=1e-2,\n",
    "        )\n",
    "\n",
    "        # Save embeddings\n",
    "        np.save(\n",
    "            f\"../data/polblogs_embeddings/polblogs_{i}_{j}.npy\",\n",
    "            pm.x_embed.detach().cpu().numpy(),\n",
    "        )\n",
    "\n",
    "        # Calculate d_avg\n",
    "        my_d_avg = d_avg(pm.pdist(pm.x_embed), dists_rescaled[:DOWNSAMPLE, :DOWNSAMPLE]).item()\n",
    "\n",
    "        # Evaluate\n",
    "        # kfold = KFold(n_splits=5, shuffle=True, random_state=seed)\n",
    "        # for train_index, test_index in kfold.split(pm.x_embed):\n",
    "        #     X_train, X_test = pm.x_embed[train_index], pm.x_embed[test_index]\n",
    "        #     y_train, y_test = polblogs_labels[train_index], polblogs_labels[test_index]\n",
    "\n",
    "        #     # ProductDT\n",
    "        #     # try:\n",
    "        #     # pdt = TorchProductSpaceDT(max_depth=3, signature=signature)\n",
    "        #     pdt = ProductSpaceDT(pm=pm, max_depth=3, use_special_dims=True)\n",
    "        #     pdt.fit(X_train, y_train)\n",
    "        #     pdt_acc = f1_score(y_test.cpu().numpy(), pdt.predict(X_test).cpu().numpy(), average=\"micro\")\n",
    "        #     # except Exception as e:\n",
    "        #     #     pdt_acc = np.nan\n",
    "        #     #     print(e)\n",
    "\n",
    "        #     # ProductRF\n",
    "        #     # try:\n",
    "        #     prf = TorchProductSpaceRF(n_estimators=12, max_depth=3, signature=signature)\n",
    "        #     prf.fit(X_train, y_train)\n",
    "        #     prf_acc = f1_score(y_test.cpu().numpy(), prf.predict(X_test).cpu().numpy(), average=\"micro\")\n",
    "        #     # except Exception as e:\n",
    "        #     #     prf_acc = np.nan\n",
    "        #     #     print(e)\n",
    "\n",
    "        #     # Switch to numpy\n",
    "        #     X_train = X_train.detach().cpu().numpy()\n",
    "        #     X_test = X_test.detach().cpu().numpy()\n",
    "        #     y_train = y_train.detach().cpu().numpy()\n",
    "        #     y_test = y_test.detach().cpu().numpy()\n",
    "\n",
    "        #     # DT\n",
    "        #     # try:\n",
    "        #     dt = DecisionTreeClassifier(max_depth=3)\n",
    "        #     dt.fit(X_train, y_train)\n",
    "        #     dt_acc = f1_score(y_test, dt.predict(X_test), average=\"micro\")\n",
    "        #     # except Exception as e:\n",
    "        #     #     dt_acc = np.nan\n",
    "        #     #     print(e)\n",
    "\n",
    "        #     # RF\n",
    "        #     # try:\n",
    "        #     rf = RandomForestClassifier(n_estimators=12, max_depth=3)\n",
    "        #     rf.fit(X_train, y_train)\n",
    "        #     rf_acc = f1_score(y_test, rf.predict(X_test), average=\"micro\")\n",
    "        #     # except Exception as e:\n",
    "        #     #     rf_acc = np.nan\n",
    "        #     #     print(e)\n",
    "\n",
    "        #     results.append(\n",
    "        #         {\n",
    "        #             \"seed\": seed,\n",
    "        #             \"signature\": signature,\n",
    "        #             \"d_avg\": my_d_avg,\n",
    "        #             \"pdt\": pdt_acc,\n",
    "        #             \"prf\": prf_acc,\n",
    "        #             \"dt\": dt_acc,\n",
    "        #             \"rf\": rf_acc,\n",
    "        #         }\n",
    "        #     )\n",
    "\n",
    "        #     # Pickle results at every iteration\n",
    "        #     with open(f\"../data/polblogs_embeddings/results_dict.pkl\", \"wb\") as f:\n",
    "        #         pickle.dump(results, f)\n",
    "\n",
    "        #     # Print results\n",
    "        #     print(pdt_acc, prf_acc, dt_acc, rf_acc, my_d_avg)"
   ]
  },
  {
   "cell_type": "code",
   "execution_count": 7,
   "metadata": {},
   "outputs": [],
   "source": [
    "import pandas as pd\n",
    "\n",
    "results_df = pd.DataFrame(results)\n",
    "results_df.to_csv(f\"/teamspace/studios/this_studio/embedders/data/polblogs_embeddings/results_final.csv\", index=False)"
   ]
  },
  {
   "cell_type": "code",
   "execution_count": 15,
   "metadata": {},
   "outputs": [
    {
     "data": {
      "text/plain": [
       "<matplotlib.legend.Legend at 0x7fd374359f00>"
      ]
     },
     "execution_count": 15,
     "metadata": {},
     "output_type": "execute_result"
    },
    {
     "data": {
      "image/png": "[encoded data removed]",
      "text/plain": [
       "<Figure size 1000x1000 with 1 Axes>"
      ]
     },
     "metadata": {},
     "output_type": "display_data"
    }
   ],
   "source": [
    "# Scatterplot: d_avg vs. accuracy (each)\n",
    "import matplotlib.pyplot as plt\n",
    "\n",
    "plt.figure(figsize=(10, 10))\n",
    "# for i, signature in enumerate(SIGNATURES):\n",
    "#     results_df_sig = results_df[[x == signature for x in results_df[\"signature\"]]]\n",
    "plt.scatter(results_df[\"d_avg\"], results_df[\"pdt\"], label=f\"ProductDT\")\n",
    "plt.scatter(results_df[\"d_avg\"], results_df[\"prf\"], label=f\"ProductRF\")\n",
    "plt.scatter(results_df[\"d_avg\"], results_df[\"dt\"], label=f\"DT\")\n",
    "plt.scatter(results_df[\"d_avg\"], results_df[\"rf\"], label=f\"RF\")\n",
    "plt.legend()"
   ]
  },
  {
   "cell_type": "code",
   "execution_count": 19,
   "metadata": {},
   "outputs": [
    {
     "data": {
      "text/html": [
       "<div>\n",
       "<style scoped>\n",
       "    .dataframe tbody tr th:only-of-type {\n",
       "        vertical-align: middle;\n",
       "    }\n",
       "\n",
       "    .dataframe tbody tr th {\n",
       "        vertical-align: top;\n",
       "    }\n",
       "\n",
       "    .dataframe thead th {\n",
       "        text-align: right;\n",
       "    }\n",
       "</style>\n",
       "<table border=\"1\" class=\"dataframe\">\n",
       "  <thead>\n",
       "    <tr style=\"text-align: right;\">\n",
       "      <th></th>\n",
       "      <th>seed</th>\n",
       "      <th>d_avg</th>\n",
       "      <th>pdt</th>\n",
       "      <th>prf</th>\n",
       "      <th>dt</th>\n",
       "      <th>rf</th>\n",
       "    </tr>\n",
       "    <tr>\n",
       "      <th>signature</th>\n",
       "      <th></th>\n",
       "      <th></th>\n",
       "      <th></th>\n",
       "      <th></th>\n",
       "      <th></th>\n",
       "      <th></th>\n",
       "    </tr>\n",
       "  </thead>\n",
       "  <tbody>\n",
       "    <tr>\n",
       "      <th>[(-1, 10)]</th>\n",
       "      <td>2.0</td>\n",
       "      <td>0.117168</td>\n",
       "      <td>0.826122</td>\n",
       "      <td>0.833469</td>\n",
       "      <td>0.823673</td>\n",
       "      <td>0.934694</td>\n",
       "    </tr>\n",
       "    <tr>\n",
       "      <th>[(-1, 2), (-1, 2), (-1, 2), (-1, 2), (-1, 2)]</th>\n",
       "      <td>32.0</td>\n",
       "      <td>0.119212</td>\n",
       "      <td>0.916735</td>\n",
       "      <td>0.930612</td>\n",
       "      <td>0.920000</td>\n",
       "      <td>0.937959</td>\n",
       "    </tr>\n",
       "    <tr>\n",
       "      <th>[(-1, 2), (-1, 2), (0, 2), (1, 2), (1, 2)]</th>\n",
       "      <td>42.0</td>\n",
       "      <td>0.118684</td>\n",
       "      <td>0.900408</td>\n",
       "      <td>0.910204</td>\n",
       "      <td>0.915102</td>\n",
       "      <td>0.923265</td>\n",
       "    </tr>\n",
       "    <tr>\n",
       "      <th>[(-1, 5), (-1, 5)]</th>\n",
       "      <td>17.0</td>\n",
       "      <td>0.117578</td>\n",
       "      <td>0.908571</td>\n",
       "      <td>0.925714</td>\n",
       "      <td>0.913469</td>\n",
       "      <td>0.928163</td>\n",
       "    </tr>\n",
       "    <tr>\n",
       "      <th>[(-1, 5), (1, 5)]</th>\n",
       "      <td>27.0</td>\n",
       "      <td>0.119380</td>\n",
       "      <td>0.912653</td>\n",
       "      <td>0.915102</td>\n",
       "      <td>0.920816</td>\n",
       "      <td>0.928980</td>\n",
       "    </tr>\n",
       "    <tr>\n",
       "      <th>[(0, 10)]</th>\n",
       "      <td>7.0</td>\n",
       "      <td>0.119816</td>\n",
       "      <td>0.498776</td>\n",
       "      <td>0.498776</td>\n",
       "      <td>0.911837</td>\n",
       "      <td>0.946939</td>\n",
       "    </tr>\n",
       "    <tr>\n",
       "      <th>[(1, 10)]</th>\n",
       "      <td>12.0</td>\n",
       "      <td>0.119477</td>\n",
       "      <td>0.851429</td>\n",
       "      <td>0.857959</td>\n",
       "      <td>0.902857</td>\n",
       "      <td>0.927347</td>\n",
       "    </tr>\n",
       "    <tr>\n",
       "      <th>[(1, 2), (1, 2), (1, 2), (1, 2), (1, 2)]</th>\n",
       "      <td>37.0</td>\n",
       "      <td>0.118968</td>\n",
       "      <td>0.915102</td>\n",
       "      <td>0.915102</td>\n",
       "      <td>0.924898</td>\n",
       "      <td>0.931429</td>\n",
       "    </tr>\n",
       "    <tr>\n",
       "      <th>[(1, 5), (1, 5)]</th>\n",
       "      <td>22.0</td>\n",
       "      <td>0.119237</td>\n",
       "      <td>0.902857</td>\n",
       "      <td>0.909388</td>\n",
       "      <td>0.920000</td>\n",
       "      <td>0.947755</td>\n",
       "    </tr>\n",
       "  </tbody>\n",
       "</table>\n",
       "</div>"
      ],
      "text/plain": [
       "                                               seed     d_avg       pdt  \\\n",
       "signature                                                                 \n",
       "[(-1, 10)]                                      2.0  0.117168  0.826122   \n",
       "[(-1, 2), (-1, 2), (-1, 2), (-1, 2), (-1, 2)]  32.0  0.119212  0.916735   \n",
       "[(-1, 2), (-1, 2), (0, 2), (1, 2), (1, 2)]     42.0  0.118684  0.900408   \n",
       "[(-1, 5), (-1, 5)]                             17.0  0.117578  0.908571   \n",
       "[(-1, 5), (1, 5)]                              27.0  0.119380  0.912653   \n",
       "[(0, 10)]                                       7.0  0.119816  0.498776   \n",
       "[(1, 10)]                                      12.0  0.119477  0.851429   \n",
       "[(1, 2), (1, 2), (1, 2), (1, 2), (1, 2)]       37.0  0.118968  0.915102   \n",
       "[(1, 5), (1, 5)]                               22.0  0.119237  0.902857   \n",
       "\n",
       "                                                    prf        dt        rf  \n",
       "signature                                                                    \n",
       "[(-1, 10)]                                     0.833469  0.823673  0.934694  \n",
       "[(-1, 2), (-1, 2), (-1, 2), (-1, 2), (-1, 2)]  0.930612  0.920000  0.937959  \n",
       "[(-1, 2), (-1, 2), (0, 2), (1, 2), (1, 2)]     0.910204  0.915102  0.923265  \n",
       "[(-1, 5), (-1, 5)]                             0.925714  0.913469  0.928163  \n",
       "[(-1, 5), (1, 5)]                              0.915102  0.920816  0.928980  \n",
       "[(0, 10)]                                      0.498776  0.911837  0.946939  \n",
       "[(1, 10)]                                      0.857959  0.902857  0.927347  \n",
       "[(1, 2), (1, 2), (1, 2), (1, 2), (1, 2)]       0.915102  0.924898  0.931429  \n",
       "[(1, 5), (1, 5)]                               0.909388  0.920000  0.947755  "
      ]
     },
     "execution_count": 19,
     "metadata": {},
     "output_type": "execute_result"
    }
   ],
   "source": [
    "results_df[\"signature\"] = [str(x) for x in results_df[\"signature\"]]\n",
    "results_df.groupby(\"signature\").mean()"
   ]
  },
  {
   "cell_type": "markdown",
   "metadata": {},
   "source": [
    "# Fix Euclidean values"
   ]
  },
  {
   "cell_type": "code",
   "execution_count": 13,
   "metadata": {},
   "outputs": [
    {
     "name": "stdout",
     "output_type": "stream",
     "text": [
      "Top CC has 1222 nodes; original graph has 1490 nodes.\n"
     ]
    },
    {
     "name": "stderr",
     "output_type": "stream",
     "text": [
      "/tmp/ipykernel_765219/2216669535.py:35: UserWarning: To copy construct from a tensor, it is recommended to use sourceTensor.clone().detach() or sourceTensor.clone().detach().requires_grad_(True), rather than torch.tensor(sourceTensor).\n",
      "  dists_rescaled = torch.tensor(dists_rescaled, dtype=torch.float32).to(device)\n"
     ]
    },
    {
     "data": {
      "application/vnd.jupyter.widget-view+json": {
       "model_id": "ec419cf8cc7e40ddb085f570bc489140",
       "version_major": 2,
       "version_minor": 0
      },
      "text/plain": [
       "  0%|          | 0/10 [00:00<?, ?it/s]"
      ]
     },
     "metadata": {},
     "output_type": "display_data"
    },
    {
     "name": "stdout",
     "output_type": "stream",
     "text": [
      "Fallback triggered at depth 2\n",
      "Fallback triggered at depth 2\n",
      "Fallback triggered at depth 2\n",
      "Fallback triggered at depth 2\n",
      "Fallback triggered at depth 2\n",
      "Fallback triggered at depth 2\n",
      "Fallback triggered at depth 2\n",
      "Fallback triggered at depth 2\n",
      "Fallback triggered at depth 2\n",
      "Fallback triggered at depth 2\n",
      "Fallback triggered at depth 2\n",
      "Fallback triggered at depth 2\n",
      "Fallback triggered at depth 2\n",
      "Fallback triggered at depth 2\n",
      "Fallback triggered at depth 2\n",
      "Fallback triggered at depth 2\n",
      "Fallback triggered at depth 2\n",
      "Fallback triggered at depth 2\n",
      "Fallback triggered at depth 2\n"
     ]
    }
   ],
   "source": [
    "# Ok - I fixed it. The best_theta computations were wrong. Now we need to go through and fix anything that has a Euclidean component\n",
    "\n",
    "from embedders.tree import TorchProductSpaceDT, TorchProductSpaceRF\n",
    "from embedders.metrics import d_avg\n",
    "from sklearn.tree import DecisionTreeClassifier\n",
    "from sklearn.ensemble import RandomForestClassifier\n",
    "from sklearn.model_selection import KFold\n",
    "from sklearn.metrics import f1_score\n",
    "import pickle\n",
    "import os\n",
    "import numpy as np\n",
    "import torch\n",
    "import embedders\n",
    "import pandas as pd\n",
    "from tqdm.notebook import tqdm\n",
    "\n",
    "device = torch.device(\"cuda\") if torch.cuda.is_available() else torch.device(\"cpu\")\n",
    "\n",
    "# Manifodls\n",
    "SIGNATURES = [\n",
    "    [(-1, 10)],\n",
    "    [(0, 10)],\n",
    "    [(1, 10)],\n",
    "    [(-1, 5), (-1, 5)],\n",
    "    [(1, 5), (1, 5)],\n",
    "    [(-1, 5), (1, 5)],\n",
    "    [(-1, 2), (-1, 2), (-1, 2), (-1, 2), (-1, 2)],\n",
    "    [(1, 2), (1, 2), (1, 2), (1, 2), (1, 2)],\n",
    "    [(-1, 2), (-1, 2), (0, 2), (1, 2), (1, 2)],\n",
    "]\n",
    "\n",
    "# Get data\n",
    "polblogs_dists, polblogs_labels = embedders.dataloaders.load(\"polblogs\", labels=True)\n",
    "dists_rescaled = polblogs_dists / polblogs_dists.max()\n",
    "dists_rescaled = torch.tensor(dists_rescaled, dtype=torch.float32).to(device)\n",
    "polblogs_labels = torch.tensor(polblogs_labels.values, dtype=torch.long).to(device)\n",
    "\n",
    "# Get results\n",
    "results_df = pd.read_csv(f\"/teamspace/studios/this_studio/embedders/data/polblogs_embeddings/results_final.csv\")\n",
    "\n",
    "DOWNSAMPLE = None\n",
    "ITERS = 3000\n",
    "\n",
    "my_tqdm = tqdm(total=10)\n",
    "for i in [1, 8]:\n",
    "    for j in range(5):\n",
    "        X = np.load(f\"/teamspace/studios/this_studio/embedders/data/polblogs_embeddings/polblogs_{i}_{j}.npy\")\n",
    "        X = torch.tensor(X).to(device)\n",
    "\n",
    "        seed = i * 5 + j  # Unique seed\n",
    "\n",
    "        signature = SIGNATURES[i]\n",
    "\n",
    "        # Evaluate\n",
    "        kfold = KFold(n_splits=5, shuffle=True, random_state=seed)\n",
    "        for train_index, test_index in kfold.split(X):\n",
    "            X_train, X_test = X[train_index], X[test_index]\n",
    "            y_train, y_test = polblogs_labels[train_index], polblogs_labels[test_index]\n",
    "\n",
    "            # ProductDT\n",
    "            try:\n",
    "                pdt = TorchProductSpaceDT(max_depth=3, signature=signature)\n",
    "                pdt.fit(X_train, y_train)\n",
    "                pdt_acc = f1_score(y_test.cpu().numpy(), pdt.predict(X_test).cpu().numpy(), average=\"micro\")\n",
    "            except Exception as e:\n",
    "                pdt_acc = np.nan\n",
    "                print(e)\n",
    "\n",
    "            # ProductRF\n",
    "            try:\n",
    "                prf = TorchProductSpaceRF(n_estimators=12, max_depth=3, signature=signature)\n",
    "                prf.fit(X_train, y_train)\n",
    "                prf_acc = f1_score(y_test.cpu().numpy(), prf.predict(X_test).cpu().numpy(), average=\"micro\")\n",
    "            except Exception as e:\n",
    "                prf_acc = np.nan\n",
    "                print(e)\n",
    "\n",
    "            # Switch to numpy\n",
    "            X_train = X_train.detach().cpu().numpy()\n",
    "            X_test = X_test.detach().cpu().numpy()\n",
    "            y_train = y_train.detach().cpu().numpy()\n",
    "            y_test = y_test.detach().cpu().numpy()\n",
    "\n",
    "            # DT\n",
    "            try:\n",
    "                dt = DecisionTreeClassifier(max_depth=3)\n",
    "                dt.fit(X_train, y_train)\n",
    "                dt_acc = f1_score(y_test, dt.predict(X_test), average=\"micro\")\n",
    "            except Exception as e:\n",
    "                dt_acc = np.nan\n",
    "                print(e)\n",
    "\n",
    "            # RF\n",
    "            try:\n",
    "                rf = RandomForestClassifier(n_estimators=12, max_depth=3)\n",
    "                rf.fit(X_train, y_train)\n",
    "                rf_acc = f1_score(y_test, rf.predict(X_test), average=\"micro\")\n",
    "            except Exception as e:\n",
    "                rf_acc = np.nan\n",
    "                print(e)\n",
    "\n",
    "            # Go into the dataframe and edit it - recall that signature elements are lists so we have to be weird about it\n",
    "            # idx = results_df[(results_df[\"seed\"] == seed) & ([x == SIGNATURES[i] for results_df[\"signature\"]])].index[0]\n",
    "            idx = results_df[(results_df[\"seed\"] == seed)].index[0]\n",
    "            results_df.at[idx, \"pdt\"] = pdt_acc\n",
    "            results_df.at[idx, \"prf\"] = prf_acc\n",
    "            results_df.at[idx, \"dt\"] = dt_acc\n",
    "            results_df.at[idx, \"rf\"] = rf_acc\n",
    "\n",
    "            my_tqdm.update(1)\n",
    "            my_tqdm.set_description(f\"Polblogs {i}_{j}, {pdt_acc:.2f}, {prf_acc:.2f}, {dt_acc:.2f}, {rf_acc:.2f}\")\n",
    "\n",
    "            # Actually, let's just do one iteration for now\n",
    "            break"
   ]
  },
  {
   "cell_type": "code",
   "execution_count": 14,
   "metadata": {},
   "outputs": [],
   "source": [
    "# Overwrite results table\n",
    "\n",
    "results_df.to_csv(f\"/teamspace/studios/this_studio/embedders/data/polblogs_embeddings/results_final.csv\", index=False)"
   ]
  },
  {
   "cell_type": "code",
   "execution_count": 17,
   "metadata": {},
   "outputs": [
    {
     "data": {
      "image/png": "[encoded data removed]",
      "text/plain": [
       "<Figure size 2000x1000 with 1 Axes>"
      ]
     },
     "metadata": {},
     "output_type": "display_data"
    }
   ],
   "source": [
    "# Re-do scatter plot\n",
    "\n",
    "# Scatterplot: d_avg vs. accuracy (each)\n",
    "import matplotlib.pyplot as plt\n",
    "\n",
    "plt.figure(figsize=(20, 10))\n",
    "# for i, signature in enumerate(SIGNATURES):\n",
    "#     results_df_sig = results_df[[x == signature for x in results_df[\"signature\"]]]\n",
    "plt.scatter(results_df[\"d_avg\"], results_df[\"pdt\"], label=f\"ProductDT\", c=\"blue\", alpha=0.5)\n",
    "plt.scatter(results_df[\"d_avg\"], results_df[\"prf\"], label=f\"ProductRF\", c=\"blue\")\n",
    "plt.scatter(results_df[\"d_avg\"], results_df[\"dt\"], label=f\"DT\", c=\"red\", alpha=0.5)\n",
    "plt.scatter(results_df[\"d_avg\"], results_df[\"rf\"], label=f\"RF\", c=\"red\")\n",
    "plt.legend()\n",
    "\n",
    "# Plot some lines of best fit\n",
    "from sklearn.linear_model import LinearRegression\n",
    "\n",
    "plt.plot()\n",
    "\n",
    "# Axes\n",
    "plt.xlabel(\"Average distortion\")\n",
    "plt.ylabel(\"F1 score\")\n",
    "\n",
    "plt.show()"
   ]
  },
  {
   "cell_type": "code",
   "execution_count": null,
   "metadata": {},
   "outputs": [],
   "source": []
  }
 ],
 "metadata": {
  "kernelspec": {
   "display_name": "embedders",
   "language": "python",
   "name": "python3"
  },
  "language_info": {
   "codemirror_mode": {
    "name": "ipython",
    "version": 3
   },
   "file_extension": ".py",
   "mimetype": "text/x-python",
   "name": "python",
   "nbconvert_exporter": "python",
   "pygments_lexer": "ipython3",
   "version": "3.10.0"
  }
 },
 "nbformat": 4,
 "nbformat_minor": 2
}

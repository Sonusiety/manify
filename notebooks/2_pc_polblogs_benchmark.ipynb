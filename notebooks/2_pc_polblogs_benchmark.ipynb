{
 "cells": [
  {
   "cell_type": "code",
   "execution_count": 1,
   "metadata": {},
   "outputs": [],
   "source": [
    "%load_ext autoreload\n",
    "%autoreload 2"
   ]
  },
  {
   "cell_type": "code",
   "execution_count": 2,
   "metadata": {},
   "outputs": [
    {
     "name": "stdout",
     "output_type": "stream",
     "text": [
      "Using device: cuda\n"
     ]
    }
   ],
   "source": [
    "# Torch device management\n",
    "import torch\n",
    "\n",
    "if torch.cuda.is_available():\n",
    "    torch.cuda.set_device(0)\n",
    "    device = torch.device(\"cuda\")\n",
    "else:\n",
    "    device = torch.device(\"cpu\")\n",
    "\n",
    "print(f\"Using device: {device}\")"
   ]
  },
  {
   "cell_type": "code",
   "execution_count": 3,
   "metadata": {},
   "outputs": [],
   "source": [
    "import embedders"
   ]
  },
  {
   "cell_type": "code",
   "execution_count": 4,
   "metadata": {},
   "outputs": [
    {
     "name": "stdout",
     "output_type": "stream",
     "text": [
      "Top CC has 1222 nodes; original graph has 1490 nodes.\n"
     ]
    }
   ],
   "source": [
    "# Load Polblogs\n",
    "\n",
    "polblogs_dists, polblogs_labels = embedders.dataloaders.load(\"polblogs\", labels=True)"
   ]
  },
  {
   "cell_type": "code",
   "execution_count": 14,
   "metadata": {},
   "outputs": [
    {
     "name": "stdout",
     "output_type": "stream",
     "text": [
      "H_1.0^6\n"
     ]
    },
    {
     "data": {
      "application/vnd.jupyter.widget-view+json": {
       "model_id": "c63f2bd17ec14d57a27ee5554682c366",
       "version_major": 2,
       "version_minor": 0
      },
      "text/plain": [
       "  0%|          | 0/3000 [00:00<?, ?it/s]"
      ]
     },
     "metadata": {},
     "output_type": "display_data"
    }
   ],
   "source": [
    "# Specify signature - useful to re-initialize the manifold here\n",
    "\n",
    "torch.manual_seed(5)  # Not all seeds are stable - this one trains for 3000 iterations at lr=1e-2 (burn-in 1e-3)\n",
    "\n",
    "signature = [(-1, 6)]\n",
    "pm = embedders.manifolds.ProductManifold(signature=signature)\n",
    "print(pm.name)\n",
    "\n",
    "# Rescale distances\n",
    "dists_rescaled = polblogs_dists / polblogs_dists.max()\n",
    "\n",
    "# Get embedding\n",
    "embedders.coordinate_learning.train_coords(\n",
    "    pm,\n",
    "    dists_rescaled,\n",
    "    device=device,\n",
    "    burn_in_iterations=300,\n",
    "    training_iterations=300 * 9,\n",
    "    learning_rate=1e-2,\n",
    "    burn_in_learning_rate=1e-3,\n",
    "    scale_factor_learning_rate=1e-2,\n",
    ")\n",
    "\n",
    "h6_polblogs = pm.x_embed.detach().cpu().numpy()"
   ]
  },
  {
   "cell_type": "code",
   "execution_count": 15,
   "metadata": {},
   "outputs": [
    {
     "name": "stdout",
     "output_type": "stream",
     "text": [
      "HyperDT\t85.31\n",
      "DT\t84.90\n"
     ]
    }
   ],
   "source": [
    "# Compare productDT and sklearn on this dataset\n",
    "from sklearn.model_selection import train_test_split\n",
    "\n",
    "from hyperdt.tree import HyperbolicDecisionTreeClassifier\n",
    "from sklearn.tree import DecisionTreeClassifier\n",
    "\n",
    "X_train, X_test, y_train, y_test = train_test_split(h6_polblogs, polblogs_labels, test_size=0.2)\n",
    "\n",
    "hdt = HyperbolicDecisionTreeClassifier(max_depth=3, skip_hyperboloid_check=True)\n",
    "hdt.fit(X_train, y_train)\n",
    "print(f\"HyperDT\\t{hdt.score(X_test, y_test)*100:.2f}\")\n",
    "\n",
    "dt = DecisionTreeClassifier(max_depth=3)\n",
    "dt.fit(X_train, y_train)\n",
    "print(f\"DT\\t{dt.score(X_test, y_test)*100:.2f}\")"
   ]
  },
  {
   "cell_type": "code",
   "execution_count": 17,
   "metadata": {},
   "outputs": [
    {
     "name": "stdout",
     "output_type": "stream",
     "text": [
      "H_1.0^2 x E_0.0^2 x S_1.0^2\n"
     ]
    },
    {
     "data": {
      "application/vnd.jupyter.widget-view+json": {
       "model_id": "1108cd3c7cb54683bef7ba23fa98519b",
       "version_major": 2,
       "version_minor": 0
      },
      "text/plain": [
       "  0%|          | 0/3000 [00:00<?, ?it/s]"
      ]
     },
     "metadata": {},
     "output_type": "display_data"
    }
   ],
   "source": [
    "# Same thing, but now we do H2 x E2 x S2\n",
    "torch.manual_seed(5)\n",
    "\n",
    "signature = [(-1, 2), (0, 2), (1, 2)]\n",
    "pm2 = embedders.manifolds.ProductManifold(signature=signature)\n",
    "print(pm2.name)\n",
    "\n",
    "# Get embedding\n",
    "embedders.coordinate_learning.train_coords(\n",
    "    pm2,\n",
    "    dists_rescaled,\n",
    "    device=device,\n",
    "    burn_in_iterations=300,\n",
    "    training_iterations=300 * 9,\n",
    "    learning_rate=1e-2,\n",
    "    burn_in_learning_rate=1e-3,\n",
    "    scale_factor_learning_rate=1e-2,\n",
    ")\n",
    "\n",
    "h2_e2_s2_polblogs = pm2.x_embed.detach().cpu().numpy()"
   ]
  },
  {
   "cell_type": "code",
   "execution_count": 18,
   "metadata": {},
   "outputs": [],
   "source": [
    "# We assume a dummy dimension for our Euclidean embeddings when we run ProductDT\n",
    "import numpy as np\n",
    "\n",
    "\n",
    "def fix_X(X, pos=3):\n",
    "    return np.concatenate([X[:, :pos], np.ones((len(X), 1)), X[:, pos:]], axis=1)"
   ]
  },
  {
   "cell_type": "code",
   "execution_count": 19,
   "metadata": {},
   "outputs": [
    {
     "name": "stderr",
     "output_type": "stream",
     "text": [
      "INFO: Using numpy backend\n"
     ]
    },
    {
     "name": "stdout",
     "output_type": "stream",
     "text": [
      "ProductDT\t95.51\n",
      "DT\t\t95.10\n"
     ]
    }
   ],
   "source": [
    "# Compare productDT and sklearn on this dataset\n",
    "from hyperdt.product_space_DT import ProductSpaceDT\n",
    "from sklearn.tree import DecisionTreeClassifier\n",
    "\n",
    "X_train, X_test, y_train, y_test = train_test_split(h2_e2_s2_polblogs, polblogs_labels, test_size=0.2)\n",
    "\n",
    "pdt = ProductSpaceDT(max_depth=3, signature=[(s[1], s[0]) for s in signature])\n",
    "pdt.fit(fix_X(X_train), y_train)\n",
    "print(f\"ProductDT\\t{pdt.score(fix_X(X_test), y_test)*100:.2f}\")\n",
    "\n",
    "dt = DecisionTreeClassifier(max_depth=3)\n",
    "dt.fit(X_train, y_train)\n",
    "print(f\"DT\\t\\t{dt.score(X_test, y_test)*100:.2f}\")"
   ]
  },
  {
   "cell_type": "code",
   "execution_count": 20,
   "metadata": {},
   "outputs": [
    {
     "name": "stdout",
     "output_type": "stream",
     "text": [
      "ProductDT (H)\t65.71\n",
      "HyperDT\t\t65.71\n",
      "DT\t\t71.02\n",
      "\n",
      "ProductDT (E)\t72.24\n",
      "DT\t\t72.65\n",
      "\n",
      "ProductDT (S)\t95.51\n",
      "DT\t\t95.51\n"
     ]
    }
   ],
   "source": [
    "# Does it hold up componentwise?\n",
    "\n",
    "pdt_H = ProductSpaceDT(max_depth=3, signature=[(2, -1.0)])\n",
    "pdt_H.fit(X_train[:, :3], y_train)\n",
    "print(f\"ProductDT (H)\\t{pdt_H.score(X_test[:, :3], y_test)*100:.2f}\")\n",
    "\n",
    "hdt_H = HyperbolicDecisionTreeClassifier(max_depth=3, skip_hyperboloid_check=True)\n",
    "hdt_H.fit(X_train[:, :3], y_train)\n",
    "print(f\"HyperDT\\t\\t{hdt_H.score(X_test[:, :3], y_test)*100:.2f}\")\n",
    "\n",
    "dt_H = DecisionTreeClassifier(max_depth=3)\n",
    "dt_H.fit(X_train[:, :3], y_train)\n",
    "print(f\"DT\\t\\t{dt_H.score(X_test[:, :3], y_test)*100:.2f}\")\n",
    "\n",
    "print()\n",
    "\n",
    "pdt_E = ProductSpaceDT(max_depth=3, signature=[(2, 0.0)])\n",
    "pdt_E.fit(fix_X(X_train)[:, 3:6], y_train)\n",
    "print(f\"ProductDT (E)\\t{pdt_E.score(fix_X(X_test)[:, 3:6], y_test)*100:.2f}\")\n",
    "\n",
    "dt_E = DecisionTreeClassifier(max_depth=3)\n",
    "dt_E.fit(X_train[:, 3:5], y_train)\n",
    "print(f\"DT\\t\\t{dt_E.score(X_test[:, 3:5], y_test)*100:.2f}\")\n",
    "\n",
    "print()\n",
    "\n",
    "pdt_S = ProductSpaceDT(max_depth=3, signature=[(2, 1.0)])\n",
    "pdt_S.fit(X_train[:, 5:], y_train)\n",
    "print(f\"ProductDT (S)\\t{pdt_S.score(X_test[:, 5:], y_test)*100:.2f}\")\n",
    "\n",
    "dt_S = DecisionTreeClassifier(max_depth=3)\n",
    "dt_S.fit(X_train[:, 5:], y_train)\n",
    "print(f\"DT\\t\\t{dt_S.score(X_test[:, 5:], y_test)*100:.2f}\")"
   ]
  },
  {
   "cell_type": "code",
   "execution_count": null,
   "metadata": {},
   "outputs": [],
   "source": []
  }
 ],
 "metadata": {
  "kernelspec": {
   "display_name": "embedders",
   "language": "python",
   "name": "python3"
  },
  "language_info": {
   "codemirror_mode": {
    "name": "ipython",
    "version": 3
   },
   "file_extension": ".py",
   "mimetype": "text/x-python",
   "name": "python",
   "nbconvert_exporter": "python",
   "pygments_lexer": "ipython3",
   "version": "3.11.4"
  }
 },
 "nbformat": 4,
 "nbformat_minor": 2
}

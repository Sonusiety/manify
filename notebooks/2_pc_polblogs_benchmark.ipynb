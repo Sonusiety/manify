{
 "cells": [
  {
   "cell_type": "code",
   "execution_count": 1,
   "metadata": {},
   "outputs": [],
   "source": [
    "%load_ext autoreload\n",
    "%autoreload 2"
   ]
  },
  {
   "cell_type": "markdown",
   "metadata": {},
   "source": [
    "# Proof of concept"
   ]
  },
  {
   "cell_type": "code",
   "execution_count": 2,
   "metadata": {},
   "outputs": [
    {
     "name": "stdout",
     "output_type": "stream",
     "text": [
      "Using device: cuda\n"
     ]
    }
   ],
   "source": [
    "# Torch device management\n",
    "import torch\n",
    "\n",
    "if torch.cuda.is_available():\n",
    "    torch.cuda.set_device(0)\n",
    "    device = torch.device(\"cuda\")\n",
    "else:\n",
    "    device = torch.device(\"cpu\")\n",
    "\n",
    "print(f\"Using device: {device}\")"
   ]
  },
  {
   "cell_type": "code",
   "execution_count": 3,
   "metadata": {},
   "outputs": [],
   "source": [
    "import embedders"
   ]
  },
  {
   "cell_type": "code",
   "execution_count": 4,
   "metadata": {},
   "outputs": [
    {
     "name": "stdout",
     "output_type": "stream",
     "text": [
      "Top CC has 1222 nodes; original graph has 1490 nodes.\n"
     ]
    }
   ],
   "source": [
    "# Load Polblogs\n",
    "\n",
    "polblogs_dists, polblogs_labels = embedders.dataloaders.load(\"polblogs\", labels=True)"
   ]
  },
  {
   "cell_type": "code",
   "execution_count": 5,
   "metadata": {},
   "outputs": [
    {
     "name": "stdout",
     "output_type": "stream",
     "text": [
      "H_1.0^6\n"
     ]
    },
    {
     "data": {
      "application/vnd.jupyter.widget-view+json": {
       "model_id": "4b6cc8224ece4bb5a4a828bcc10d94b9",
       "version_major": 2,
       "version_minor": 0
      },
      "text/plain": [
       "  0%|          | 0/1000 [00:00<?, ?it/s]"
      ]
     },
     "metadata": {},
     "output_type": "display_data"
    },
    {
     "name": "stderr",
     "output_type": "stream",
     "text": [
      "/home/phil/miniconda3/envs/hdt/lib/python3.11/site-packages/geoopt/manifolds/lorentz/math.py:34: UserWarning: operator() profile_node %21 : int[] = prim::profile_ivalue(%19)\n",
      " does not have profile information (Triggered internally at ../third_party/nvfuser/csrc/graph_fuser.cpp:104.)\n",
      "  return _inner(u, v, keepdim=keepdim, dim=dim)\n"
     ]
    }
   ],
   "source": [
    "# Specify signature - useful to re-initialize the manifold here\n",
    "\n",
    "torch.manual_seed(0)  # Not all seeds are stable - this one trains for 3000 iterations at lr=1e-2 (burn-in 1e-3)\n",
    "\n",
    "signature = [(-1, 6)]\n",
    "pm = embedders.manifolds.ProductManifold(signature=signature)\n",
    "print(pm.name)\n",
    "\n",
    "# Rescale distances\n",
    "dists_rescaled = polblogs_dists / polblogs_dists.max()\n",
    "\n",
    "# Get embedding\n",
    "embedders.coordinate_learning.train_coords(\n",
    "    pm,\n",
    "    dists_rescaled,\n",
    "    device=device,\n",
    "    burn_in_iterations=100,\n",
    "    training_iterations=100 * 9,\n",
    "    learning_rate=1e-1,\n",
    "    burn_in_learning_rate=1e-2,\n",
    "    scale_factor_learning_rate=1e-1,\n",
    ")\n",
    "\n",
    "h6_polblogs = pm.x_embed.detach().cpu().numpy()"
   ]
  },
  {
   "cell_type": "code",
   "execution_count": 6,
   "metadata": {},
   "outputs": [
    {
     "name": "stdout",
     "output_type": "stream",
     "text": [
      "HyperDT\t90.83 +/- 1.22\n",
      "DT\t90.59 +/- 0.93\n"
     ]
    }
   ],
   "source": [
    "# Compare productDT and sklearn on this dataset\n",
    "from sklearn.model_selection import cross_val_score\n",
    "\n",
    "from hyperdt.tree import HyperbolicDecisionTreeClassifier\n",
    "from sklearn.tree import DecisionTreeClassifier\n",
    "\n",
    "\n",
    "def cv_eval(model, name, X, y):\n",
    "    cv = cross_val_score(model, X, y, cv=5)\n",
    "    print(f\"{name}\\t{cv.mean()*100:.2f} +/- {cv.std()*100:.2f}\")\n",
    "\n",
    "\n",
    "hdt = HyperbolicDecisionTreeClassifier(max_depth=3, skip_hyperboloid_check=True)\n",
    "cv_eval(hdt, \"HyperDT\", h6_polblogs, polblogs_labels)\n",
    "\n",
    "dt = DecisionTreeClassifier(max_depth=3)\n",
    "cv_eval(dt, \"DT\", h6_polblogs, polblogs_labels)"
   ]
  },
  {
   "cell_type": "code",
   "execution_count": 7,
   "metadata": {},
   "outputs": [
    {
     "name": "stdout",
     "output_type": "stream",
     "text": [
      "H_1.0^2 x E_0.0^2 x S_1.0^2\n"
     ]
    },
    {
     "data": {
      "application/vnd.jupyter.widget-view+json": {
       "model_id": "daea6138b69442b8abd8aecead79e1e9",
       "version_major": 2,
       "version_minor": 0
      },
      "text/plain": [
       "  0%|          | 0/1000 [00:00<?, ?it/s]"
      ]
     },
     "metadata": {},
     "output_type": "display_data"
    }
   ],
   "source": [
    "# Same thing, but now we do H2 x E2 x S2\n",
    "torch.manual_seed(0)\n",
    "\n",
    "signature = [(-1, 2), (0, 2), (1, 2)]\n",
    "pm2 = embedders.manifolds.ProductManifold(signature=signature)\n",
    "print(pm2.name)\n",
    "\n",
    "# Get embedding\n",
    "embedders.coordinate_learning.train_coords(\n",
    "    pm2,\n",
    "    dists_rescaled,\n",
    "    device=device,\n",
    "    burn_in_iterations=100,\n",
    "    training_iterations=100 * 9,\n",
    "    learning_rate=1e-1,\n",
    "    burn_in_learning_rate=1e-2,\n",
    "    scale_factor_learning_rate=1e-1,\n",
    ")\n",
    "\n",
    "h2_e2_s2_polblogs = pm2.x_embed.detach().cpu().numpy()"
   ]
  },
  {
   "cell_type": "code",
   "execution_count": 8,
   "metadata": {},
   "outputs": [],
   "source": [
    "# We assume a dummy dimension for our Euclidean embeddings when we run ProductDT\n",
    "import numpy as np\n",
    "\n",
    "\n",
    "def fix_X(X, pos=3):\n",
    "    return np.concatenate([X[:, :pos], np.ones((len(X), 1)), X[:, pos:]], axis=1)"
   ]
  },
  {
   "cell_type": "code",
   "execution_count": 9,
   "metadata": {},
   "outputs": [
    {
     "name": "stderr",
     "output_type": "stream",
     "text": [
      "INFO: Using numpy backend\n"
     ]
    },
    {
     "name": "stdout",
     "output_type": "stream",
     "text": [
      "ProductDT\t90.34 +/- 0.22\n",
      "DT\t92.23 +/- 1.16\n"
     ]
    }
   ],
   "source": [
    "# Compare productDT and sklearn on this dataset\n",
    "from hyperdt.product_space_DT import ProductSpaceDT\n",
    "from sklearn.tree import DecisionTreeClassifier\n",
    "\n",
    "pdt = ProductSpaceDT(max_depth=3, signature=[(s[1], s[0]) for s in signature])\n",
    "cv_eval(pdt, \"ProductDT\", fix_X(h2_e2_s2_polblogs), polblogs_labels)\n",
    "\n",
    "dt = DecisionTreeClassifier(max_depth=3)\n",
    "cv_eval(dt, \"DT\", h2_e2_s2_polblogs, polblogs_labels)\n",
    "\n",
    "# TODO: Quentin: product perceptron eval\n",
    "# TODO: Quentin: product SVM eval"
   ]
  },
  {
   "cell_type": "code",
   "execution_count": 10,
   "metadata": {},
   "outputs": [
    {
     "name": "stdout",
     "output_type": "stream",
     "text": [
      "ProductDT (H)\t70.13 +/- 2.41\n",
      "HyperDT (H)\t70.13 +/- 2.41\n",
      "DT (H)\t68.98 +/- 3.30\n",
      "\n",
      "ProductDT (E)\t81.34 +/- 4.06\n",
      "DT (E)\t81.34 +/- 4.06\n",
      "\n",
      "ProductDT (S)\t90.26 +/- 1.02\n",
      "HyperDT (S)\t90.26 +/- 1.02\n",
      "DT (S)\t90.67 +/- 1.59\n"
     ]
    }
   ],
   "source": [
    "# Does it hold up componentwise?\n",
    "\n",
    "# Hyperbolic\n",
    "pdt_H = ProductSpaceDT(max_depth=3, signature=[(2, -1.0)])\n",
    "cv_eval(pdt_H, \"ProductDT (H)\", h2_e2_s2_polblogs[:, pm2.man2dim[0]], polblogs_labels)\n",
    "\n",
    "hdt_H = HyperbolicDecisionTreeClassifier(max_depth=3, skip_hyperboloid_check=True)\n",
    "cv_eval(hdt_H, \"HyperDT (H)\", h2_e2_s2_polblogs[:, pm2.man2dim[0]], polblogs_labels)\n",
    "\n",
    "dt_H = DecisionTreeClassifier(max_depth=3)\n",
    "cv_eval(dt_H, \"DT (H)\", h2_e2_s2_polblogs[:, pm2.man2dim[0]], polblogs_labels)\n",
    "\n",
    "# TODO: Quentin: product perceptron eval\n",
    "# TODO: Quentin: product SVM eval\n",
    "\n",
    "print()\n",
    "\n",
    "# Euclidean\n",
    "# For the euclidean ones, we won't use man2dim because fix_X() breaks it - we'll hardcode 3:6 instead\n",
    "pdt_E = ProductSpaceDT(max_depth=3, signature=[(2, 0.0)])\n",
    "cv_eval(pdt_E, \"ProductDT (E)\", fix_X(h2_e2_s2_polblogs)[:, 3:6], polblogs_labels)\n",
    "\n",
    "dt_E = DecisionTreeClassifier(max_depth=3)\n",
    "cv_eval(dt_E, \"DT (E)\", h2_e2_s2_polblogs[:, pm2.man2dim[1]], polblogs_labels)\n",
    "\n",
    "# TODO: Quentin: product perceptron eval\n",
    "# TODO: Quentin: product SVM eval\n",
    "\n",
    "print()\n",
    "\n",
    "# Sphere\n",
    "pdt_S = ProductSpaceDT(max_depth=3, signature=[(2, 1.0)])\n",
    "cv_eval(pdt_S, \"ProductDT (S)\", h2_e2_s2_polblogs[:, pm2.man2dim[2]], polblogs_labels)\n",
    "\n",
    "hdt_S = HyperbolicDecisionTreeClassifier(max_depth=3, skip_hyperboloid_check=True, angle_midpoint_method=\"bisect\")\n",
    "cv_eval(hdt_S, \"HyperDT (S)\", h2_e2_s2_polblogs[:, pm2.man2dim[2]], polblogs_labels)\n",
    "\n",
    "dt_S = DecisionTreeClassifier(max_depth=3)\n",
    "cv_eval(dt_S, \"DT (S)\", h2_e2_s2_polblogs[:, pm2.man2dim[2]], polblogs_labels)\n",
    "\n",
    "# TODO: Quentin: product perceptron eval\n",
    "# TODO: Quentin: product SVM eval"
   ]
  },
  {
   "cell_type": "code",
   "execution_count": 54,
   "metadata": {},
   "outputs": [
    {
     "name": "stdout",
     "output_type": "stream",
     "text": [
      "[0.25659456849098206, 0.3267468214035034, 0.4166586697101593]\n",
      "1.0000000596046448\n"
     ]
    }
   ],
   "source": [
    "contributions = embedders.metrics.dist_component_by_manifold(pm2, pm2.x_embed)\n",
    "\n",
    "# Why don't these add to 100%...?\n",
    "print(contributions)\n",
    "print(sum(contributions))"
   ]
  },
  {
   "cell_type": "markdown",
   "metadata": {},
   "source": [
    "# Exhaustive benchmark"
   ]
  },
  {
   "cell_type": "code",
   "execution_count": 2,
   "metadata": {},
   "outputs": [],
   "source": [
    "SIGNATURES = [\n",
    "    [(-1, 10)],\n",
    "    [(0, 10)],\n",
    "    [(1, 10)],\n",
    "    [(-1, 5), (-1, 5)],\n",
    "    [(1, 5), (1, 5)],\n",
    "    [(-1, 5), (1, 5)],\n",
    "    [(-1, 2), (-1, 2), (-1, 2), (-1, 2), (-1, 2)],\n",
    "    [(1, 2), (1, 2), (1, 2), (1, 2), (1, 2)],\n",
    "    [(-1, 2), (-1, 2), (0, 2), (1, 2), (1, 2)],\n",
    "]"
   ]
  },
  {
   "cell_type": "code",
   "execution_count": 10,
   "metadata": {},
   "outputs": [],
   "source": [
    "import torch\n",
    "import embedders\n",
    "import numpy as np\n",
    "\n",
    "device = torch.device(\"cuda\") if torch.cuda.is_available() else torch.device(\"cpu\")"
   ]
  },
  {
   "cell_type": "code",
   "execution_count": 20,
   "metadata": {},
   "outputs": [
    {
     "name": "stdout",
     "output_type": "stream",
     "text": [
      "Top CC has 1222 nodes; original graph has 1490 nodes.\n"
     ]
    },
    {
     "name": "stderr",
     "output_type": "stream",
     "text": [
      "/tmp/ipykernel_168011/3955951228.py:5: UserWarning: To copy construct from a tensor, it is recommended to use sourceTensor.clone().detach() or sourceTensor.clone().detach().requires_grad_(True), rather than torch.tensor(sourceTensor).\n",
      "  dists_rescaled = torch.tensor(dists_rescaled, dtype=torch.float32).to(device)\n"
     ]
    }
   ],
   "source": [
    "# Get data\n",
    "\n",
    "polblogs_dists, polblogs_labels = embedders.dataloaders.load(\"polblogs\", labels=True)\n",
    "dists_rescaled = polblogs_dists / polblogs_dists.max()\n",
    "dists_rescaled = torch.tensor(dists_rescaled, dtype=torch.float32).to(device)\n",
    "polblogs_labels = torch.tensor(polblogs_labels.values, dtype=torch.long).to(device)"
   ]
  },
  {
   "cell_type": "code",
   "execution_count": 26,
   "metadata": {},
   "outputs": [
    {
     "data": {
      "application/vnd.jupyter.widget-view+json": {
       "model_id": "dc2ac97eaf344c80b29c64f538a01acc",
       "version_major": 2,
       "version_minor": 0
      },
      "text/plain": [
       "  0%|          | 0/10000 [00:00<?, ?it/s]"
      ]
     },
     "metadata": {},
     "output_type": "display_data"
    }
   ],
   "source": [
    "from embedders.tree import TorchProductSpaceDT, TorchProductSpaceRF\n",
    "from sklearn.tree import DecisionTreeClassifier\n",
    "from sklearn.ensemble import RandomForestClassifier\n",
    "from sklearn.model_selection import KFold\n",
    "from sklearn.metrics import f1_score\n",
    "import pickle\n",
    "\n",
    "results = []\n",
    "for i, signature in enumerate(SIGNATURES):\n",
    "    for j in range(5):\n",
    "        seed = i * 5 + j  # Unique seed\n",
    "        torch.manual_seed(seed)\n",
    "\n",
    "        # Generate embedding\n",
    "        pm = embedders.manifolds.ProductManifold(signature=signature).to(device)\n",
    "        embedders.coordinate_learning.train_coords(\n",
    "            pm,\n",
    "            dists_rescaled,\n",
    "            device=device,\n",
    "            burn_in_iterations=1000,\n",
    "            training_iterations=1000 * 9,\n",
    "            learning_rate=1e-1,\n",
    "            burn_in_learning_rate=1e-2,\n",
    "            scale_factor_learning_rate=1e-1,\n",
    "        )\n",
    "\n",
    "        # Save embeddings\n",
    "        np.save(\n",
    "            f\"/teamspace/studios/this_studio/embedders/data/polblogs_embeddings/polblogs_{i}_{j}.npy\",\n",
    "            pm.x_embed.detach().cpu().numpy(),\n",
    "        )\n",
    "\n",
    "        # Evaluate\n",
    "        kfold = KFold(n_splits=5, shuffle=True, random_state=seed)\n",
    "        for train_index, test_index in kfold.split(pm.x_embed):\n",
    "            X_train, X_test = pm.x_embed[train_index], pm.x_embed[test_index]\n",
    "            y_train, y_test = polblogs_labels[train_index], polblogs_labels[test_index]\n",
    "\n",
    "            # ProductDT\n",
    "            pdt = TorchProductSpaceDT(max_depth=3, signature=signature)\n",
    "            pdt.fit(X_train, y_train)\n",
    "            pdt_acc = f1_score(y_test.cpu().numpy(), pdt.predict(X_test).cpu().numpy(), average=\"micro\")\n",
    "\n",
    "            # ProductRF\n",
    "            prf = TorchProductSpaceRF(n_estimators=100, max_depth=3, signature=signature)\n",
    "            prf.fit(X_train, y_train)\n",
    "            prf_acc = f1_score(y_test.cpu().numpy(), prf.predict(X_test).cpu().numpy(), average=\"micro\")\n",
    "\n",
    "            # Switch to numpy\n",
    "            X_train = X_train.detach().cpu().numpy()\n",
    "            X_test = X_test.detach().cpu().numpy()\n",
    "            y_train = y_train.detach().cpu().numpy()\n",
    "            y_test = y_test.detach().cpu().numpy()\n",
    "\n",
    "            # DT\n",
    "            dt = DecisionTreeClassifier(max_depth=3)\n",
    "            dt.fit(X_train, y_train)\n",
    "            dt_acc = f1_score(y_test, dt.predict(X_test), average=\"micro\")\n",
    "\n",
    "            # RF\n",
    "            rf = RandomForestClassifier(n_estimators=100, max_depth=3)\n",
    "            rf.fit(X_train, y_train)\n",
    "            rf_acc = f1_score(y_test, rf.predict(X_test), average=\"micro\")\n",
    "\n",
    "            results.append(\n",
    "                {\n",
    "                    \"seed\": seed,\n",
    "                    \"signature\": signature,\n",
    "                    \"pdt\": pdt_acc,\n",
    "                    \"prf\": prf_acc,\n",
    "                    \"dt\": dt_acc,\n",
    "                    \"rf\": rf_acc,\n",
    "                }\n",
    "            )\n",
    "\n",
    "            # Pickle results at every iteration\n",
    "            with open(f\"/teamspace/studios/this_studio/embedders/data/polblogs_embeddings/results_dict.pkl\", \"wb\") as f:\n",
    "                pickle.dump(results, f)\n",
    "\n",
    "results_df = pd.DataFrame(results)\n",
    "results_df.to_csv(f\"/teamspace/studios/this_studio/embedders/data/polblogs_embeddings/results_final.csv\", index=False)"
   ]
  },
  {
   "cell_type": "code",
   "execution_count": null,
   "metadata": {},
   "outputs": [],
   "source": []
  }
 ],
 "metadata": {
  "kernelspec": {
   "display_name": "embedders",
   "language": "python",
   "name": "python3"
  },
  "language_info": {
   "codemirror_mode": {
    "name": "ipython",
    "version": 3
   },
   "file_extension": ".py",
   "mimetype": "text/x-python",
   "name": "python",
   "nbconvert_exporter": "python",
   "pygments_lexer": "ipython3",
   "version": "3.10.10"
  }
 },
 "nbformat": 4,
 "nbformat_minor": 2
}

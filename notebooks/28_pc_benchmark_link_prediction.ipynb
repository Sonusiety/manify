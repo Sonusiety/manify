{
 "cells": [
  {
   "cell_type": "code",
   "execution_count": 1,
   "metadata": {},
   "outputs": [],
   "source": [
    "%load_ext autoreload\n",
    "%autoreload 2"
   ]
  },
  {
   "cell_type": "code",
   "execution_count": 2,
   "metadata": {},
   "outputs": [],
   "source": [
    "import embedders\n",
    "import networkx as nx\n",
    "import torch"
   ]
  },
  {
   "cell_type": "code",
   "execution_count": 3,
   "metadata": {},
   "outputs": [],
   "source": [
    "# Special function to split dataset while ensuring pairs are in the same split\n",
    "from sklearn.model_selection import train_test_split\n",
    "\n",
    "\n",
    "def split_dataset(X, y, **kwargs):\n",
    "    n_pairs, n_dims = X.shape\n",
    "    n_nodes = int(n_pairs**0.5)\n",
    "\n",
    "    # Reshape\n",
    "    X_reshaped = X.view(n_nodes, n_nodes, -1)\n",
    "    y_reshaped = y.view(n_nodes, n_nodes)\n",
    "\n",
    "    # Take 20% Of the nodes as test nodes\n",
    "    idx = list(range(n_nodes))\n",
    "    idx_train, idx_test = train_test_split(idx, **kwargs)\n",
    "\n",
    "    # Return test and train sets\n",
    "    X_train = X_reshaped[idx_train][:, idx_train].reshape(-1, n_dims)\n",
    "    y_train = y_reshaped[idx_train][:, idx_train].reshape(-1)\n",
    "\n",
    "    X_test = X_reshaped[idx_test][:, idx_test].reshape(-1, n_dims)\n",
    "    y_test = y_reshaped[idx_test][:, idx_test].reshape(-1)\n",
    "\n",
    "    return X_train, X_test, y_train, y_test"
   ]
  },
  {
   "cell_type": "code",
   "execution_count": 14,
   "metadata": {},
   "outputs": [
    {
     "data": {
      "application/vnd.jupyter.widget-view+json": {
       "model_id": "7a33402029b848b7b9d5887f97ce535e",
       "version_major": 2,
       "version_minor": 0
      },
      "text/plain": [
       "  0%|          | 0/300 [00:00<?, ?it/s]"
      ]
     },
     "metadata": {},
     "output_type": "display_data"
    },
    {
     "name": "stdout",
     "output_type": "stream",
     "text": [
      "Top CC has 112 nodes; original graph has 112 nodes.\n"
     ]
    },
    {
     "data": {
      "application/vnd.jupyter.widget-view+json": {
       "model_id": "472b3e920f444cc0b354e4c1a416420a",
       "version_major": 2,
       "version_minor": 0
      },
      "text/plain": [
       "  0%|          | 0/5000 [00:00<?, ?it/s]"
      ]
     },
     "metadata": {},
     "output_type": "display_data"
    },
    {
     "data": {
      "application/vnd.jupyter.widget-view+json": {
       "model_id": "1870efaf1b2a444e921c35bb2715d815",
       "version_major": 2,
       "version_minor": 0
      },
      "text/plain": [
       "  0%|          | 0/5000 [00:00<?, ?it/s]"
      ]
     },
     "metadata": {},
     "output_type": "display_data"
    }
   ],
   "source": [
    "import pandas as pd\n",
    "from tqdm.notebook import tqdm\n",
    "\n",
    "# Hyperparams\n",
    "# DATASETS = [\"karate_club\", \"lesmis\", \"football\"]\n",
    "DATASETS = [\"adjnoun\", \"dolphins\", \"polbooks\"]\n",
    "COMPONENT_SIG = [(-1, 2), (0, 2), (1, 2)]\n",
    "USE_SPECIAL_DIMS = False\n",
    "N_FEATURES = \"d_choose_2\"\n",
    "USE_DISTS = True\n",
    "TEST_SIZE = 0.2\n",
    "TOTAL_ITERATIONS = 5_000\n",
    "MAX_DEPTH = 3\n",
    "N_TRIALS = 100\n",
    "SCALE_LR = 0\n",
    "# LR = 1e-3\n",
    "LR = 1e-4\n",
    "\n",
    "# Run benchmark\n",
    "results = []\n",
    "my_tqdm = tqdm(total=len(DATASETS) * N_TRIALS)\n",
    "i = 0\n",
    "for dataset in DATASETS:\n",
    "    dists, labels, adj = embedders.dataloaders.load(dataset)\n",
    "    dists = dists / dists.max()\n",
    "    results_dataset = []\n",
    "    # for i in range(N_TRIALS):\n",
    "    while len(results_dataset) < N_TRIALS:\n",
    "        try:\n",
    "            pm = embedders.manifolds.ProductManifold(signature=COMPONENT_SIG)\n",
    "\n",
    "            torch.manual_seed(i)\n",
    "            X_embed, losses = embedders.coordinate_learning.train_coords(\n",
    "                pm,\n",
    "                dists,\n",
    "                burn_in_iterations=int(0.1 * TOTAL_ITERATIONS),\n",
    "                training_iterations=int(0.9 * TOTAL_ITERATIONS),\n",
    "                scale_factor_learning_rate=SCALE_LR,\n",
    "                burn_in_learning_rate=LR * 0.1,\n",
    "                learning_rate=LR,\n",
    "            )\n",
    "\n",
    "            X, y, pm_new = embedders.link_prediction.make_link_prediction_dataset(X_embed, pm, adj, add_dists=USE_DISTS)\n",
    "            X_train, X_test, y_train, y_test = split_dataset(X, y, test_size=TEST_SIZE, random_state=i)\n",
    "            res = embedders.benchmarks.benchmark(\n",
    "                X=None,\n",
    "                y=None,\n",
    "                X_train=X_train,\n",
    "                X_test=X_test,\n",
    "                y_train=y_train,\n",
    "                y_test=y_test,\n",
    "                pm=pm_new,\n",
    "                max_depth=MAX_DEPTH,\n",
    "                task=\"classification\",\n",
    "                use_special_dims=USE_SPECIAL_DIMS,\n",
    "                n_features=N_FEATURES,\n",
    "            )\n",
    "            res[\"dataset\"] = dataset\n",
    "            res[\"trial\"] = i\n",
    "            my_tqdm.update(1)\n",
    "            results_dataset.append(res)\n",
    "            i += 1\n",
    "        except Exception as e:\n",
    "            print(e)\n",
    "            pass\n",
    "    results += results_dataset\n",
    "\n",
    "results = pd.DataFrame(results)"
   ]
  },
  {
   "cell_type": "code",
   "execution_count": 11,
   "metadata": {},
   "outputs": [],
   "source": [
    "results = pd.DataFrame(results)"
   ]
  },
  {
   "cell_type": "code",
   "execution_count": 12,
   "metadata": {},
   "outputs": [
    {
     "data": {
      "text/html": [
       "<div>\n",
       "<style scoped>\n",
       "    .dataframe tbody tr th:only-of-type {\n",
       "        vertical-align: middle;\n",
       "    }\n",
       "\n",
       "    .dataframe tbody tr th {\n",
       "        vertical-align: top;\n",
       "    }\n",
       "\n",
       "    .dataframe thead th {\n",
       "        text-align: right;\n",
       "    }\n",
       "</style>\n",
       "<table border=\"1\" class=\"dataframe\">\n",
       "  <thead>\n",
       "    <tr style=\"text-align: right;\">\n",
       "      <th></th>\n",
       "      <th>sklearn_dt</th>\n",
       "      <th>sklearn_rf</th>\n",
       "      <th>product_dt</th>\n",
       "      <th>product_rf</th>\n",
       "      <th>tangent_dt</th>\n",
       "      <th>tangent_rf</th>\n",
       "      <th>knn</th>\n",
       "      <th>ps_perceptron</th>\n",
       "      <th>trial</th>\n",
       "    </tr>\n",
       "    <tr>\n",
       "      <th>dataset</th>\n",
       "      <th></th>\n",
       "      <th></th>\n",
       "      <th></th>\n",
       "      <th></th>\n",
       "      <th></th>\n",
       "      <th></th>\n",
       "      <th></th>\n",
       "      <th></th>\n",
       "      <th></th>\n",
       "    </tr>\n",
       "  </thead>\n",
       "  <tbody>\n",
       "    <tr>\n",
       "      <th>football</th>\n",
       "      <td>0.877755</td>\n",
       "      <td>0.838367</td>\n",
       "      <td>0.876939</td>\n",
       "      <td>0.832653</td>\n",
       "      <td>0.877143</td>\n",
       "      <td>0.838163</td>\n",
       "      <td>0.820612</td>\n",
       "      <td>0.831837</td>\n",
       "      <td>249.5</td>\n",
       "    </tr>\n",
       "    <tr>\n",
       "      <th>karate_club</th>\n",
       "      <td>0.930612</td>\n",
       "      <td>0.882653</td>\n",
       "      <td>0.930000</td>\n",
       "      <td>0.888776</td>\n",
       "      <td>0.931837</td>\n",
       "      <td>0.884286</td>\n",
       "      <td>0.867551</td>\n",
       "      <td>0.602245</td>\n",
       "      <td>49.5</td>\n",
       "    </tr>\n",
       "    <tr>\n",
       "      <th>lesmis</th>\n",
       "      <td>0.953750</td>\n",
       "      <td>0.929180</td>\n",
       "      <td>0.953555</td>\n",
       "      <td>0.922539</td>\n",
       "      <td>0.952500</td>\n",
       "      <td>0.927148</td>\n",
       "      <td>0.940781</td>\n",
       "      <td>0.921406</td>\n",
       "      <td>149.5</td>\n",
       "    </tr>\n",
       "  </tbody>\n",
       "</table>\n",
       "</div>"
      ],
      "text/plain": [
       "             sklearn_dt  sklearn_rf  product_dt  product_rf  tangent_dt  \\\n",
       "dataset                                                                   \n",
       "football       0.877755    0.838367    0.876939    0.832653    0.877143   \n",
       "karate_club    0.930612    0.882653    0.930000    0.888776    0.931837   \n",
       "lesmis         0.953750    0.929180    0.953555    0.922539    0.952500   \n",
       "\n",
       "             tangent_rf       knn  ps_perceptron  trial  \n",
       "dataset                                                  \n",
       "football       0.838163  0.820612       0.831837  249.5  \n",
       "karate_club    0.884286  0.867551       0.602245   49.5  \n",
       "lesmis         0.927148  0.940781       0.921406  149.5  "
      ]
     },
     "execution_count": 12,
     "metadata": {},
     "output_type": "execute_result"
    }
   ],
   "source": [
    "pd.DataFrame(results).groupby(\"dataset\").mean()"
   ]
  },
  {
   "cell_type": "code",
   "execution_count": 13,
   "metadata": {},
   "outputs": [],
   "source": [
    "results.to_csv(\"../data/results/link_prediction2.csv\", index=False)"
   ]
  },
  {
   "cell_type": "code",
   "execution_count": null,
   "metadata": {},
   "outputs": [],
   "source": []
  }
 ],
 "metadata": {
  "kernelspec": {
   "display_name": "embedders2",
   "language": "python",
   "name": "python3"
  },
  "language_info": {
   "codemirror_mode": {
    "name": "ipython",
    "version": 3
   },
   "file_extension": ".py",
   "mimetype": "text/x-python",
   "name": "python",
   "nbconvert_exporter": "python",
   "pygments_lexer": "ipython3",
   "version": "3.10.0"
  }
 },
 "nbformat": 4,
 "nbformat_minor": 2
}
